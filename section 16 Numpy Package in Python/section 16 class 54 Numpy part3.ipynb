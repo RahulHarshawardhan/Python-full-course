{
 "cells": [
  {
   "cell_type": "code",
   "execution_count": 1,
   "id": "49007153",
   "metadata": {},
   "outputs": [],
   "source": [
    "import numpy as np\n"
   ]
  },
  {
   "cell_type": "code",
   "execution_count": 2,
   "id": "a6b20367",
   "metadata": {},
   "outputs": [
    {
     "data": {
      "text/plain": [
       "array([1, 0, 2])"
      ]
     },
     "execution_count": 2,
     "metadata": {},
     "output_type": "execute_result"
    }
   ],
   "source": [
    "a = np.array([10,20,30])\n",
    "b = np.array([3,5,7])\n",
    "\n",
    "np.mod(a,b) # gives the remainder."
   ]
  },
  {
   "cell_type": "code",
   "execution_count": 3,
   "id": "375e5aed",
   "metadata": {},
   "outputs": [
    {
     "data": {
      "text/plain": [
       "array([1, 0, 2])"
      ]
     },
     "execution_count": 3,
     "metadata": {},
     "output_type": "execute_result"
    }
   ],
   "source": [
    "np.remainder(a,b)"
   ]
  },
  {
   "cell_type": "code",
   "execution_count": 6,
   "id": "076a9077",
   "metadata": {},
   "outputs": [
    {
     "name": "stdout",
     "output_type": "stream",
     "text": [
      "[  2.   7. 143.   1.  66.]\n",
      "[  2.    6.5 143.    0.8  65.5]\n",
      "[  0.  10. 140.   0.  70.]\n"
     ]
    }
   ],
   "source": [
    "a = np.array([2.0, 6.54, 143, 0.767, 65.542])\n",
    "print(np.round(a))\n",
    "print(np.round(a, decimals = 1))\n",
    "print(np.round(a, decimals = -1))"
   ]
  },
  {
   "cell_type": "code",
   "execution_count": 3,
   "id": "05527c2d",
   "metadata": {},
   "outputs": [
    {
     "name": "stdout",
     "output_type": "stream",
     "text": [
      "[-3.  3. -1.  0. 20.]\n",
      "[-2.  4. -0.  1. 20.]\n"
     ]
    }
   ],
   "source": [
    "import numpy as np\n",
    "a = np.array([-2.7, 3.6, -0.4, 0.9, 20])\n",
    "print(np.floor(a))# -- goes to the nearest lower value.\n",
    "print(np.ceil(a))#-- goes to the nearest higher value."
   ]
  },
  {
   "cell_type": "code",
   "execution_count": 4,
   "id": "f0364c97",
   "metadata": {},
   "outputs": [],
   "source": [
    "a = np.array([[79,65,45,55], [65,66,78,66], [77, 66,44,33]])"
   ]
  },
  {
   "cell_type": "code",
   "execution_count": 5,
   "id": "bd89f4fe",
   "metadata": {},
   "outputs": [
    {
     "data": {
      "text/plain": [
       "array([[79, 65, 45, 55],\n",
       "       [65, 66, 78, 66],\n",
       "       [77, 66, 44, 33]])"
      ]
     },
     "execution_count": 5,
     "metadata": {},
     "output_type": "execute_result"
    }
   ],
   "source": [
    "a"
   ]
  },
  {
   "cell_type": "code",
   "execution_count": 6,
   "id": "f011f5d1",
   "metadata": {},
   "outputs": [
    {
     "name": "stdout",
     "output_type": "stream",
     "text": [
      "33\n"
     ]
    }
   ],
   "source": [
    "print(np.amin(a))"
   ]
  },
  {
   "cell_type": "code",
   "execution_count": 7,
   "id": "915366ed",
   "metadata": {},
   "outputs": [
    {
     "name": "stdout",
     "output_type": "stream",
     "text": [
      "[45 65 33]\n"
     ]
    }
   ],
   "source": [
    "print(np.amin(a, axis=1)) # row wise minimum value"
   ]
  },
  {
   "cell_type": "code",
   "execution_count": 9,
   "id": "f29ea9a5",
   "metadata": {},
   "outputs": [
    {
     "name": "stdout",
     "output_type": "stream",
     "text": [
      "[65 65 44 33]\n"
     ]
    }
   ],
   "source": [
    "print(np.amin(a, axis = 0)) # colum wise minimum value"
   ]
  },
  {
   "cell_type": "code",
   "execution_count": 10,
   "id": "d21f8bfa",
   "metadata": {},
   "outputs": [
    {
     "name": "stdout",
     "output_type": "stream",
     "text": [
      "79\n"
     ]
    }
   ],
   "source": [
    "print(np.amax(a))\n"
   ]
  },
  {
   "cell_type": "code",
   "execution_count": 12,
   "id": "c0ed4b05",
   "metadata": {},
   "outputs": [
    {
     "name": "stdout",
     "output_type": "stream",
     "text": [
      "[79 78 77]\n"
     ]
    }
   ],
   "source": [
    "print(np.amax(a, axis=1)) # row wise maximun value"
   ]
  },
  {
   "cell_type": "code",
   "execution_count": 13,
   "id": "e3f8dd90",
   "metadata": {},
   "outputs": [
    {
     "name": "stdout",
     "output_type": "stream",
     "text": [
      "[79 66 78 66]\n"
     ]
    }
   ],
   "source": [
    "print(np.amax(a, axis = 0)) # column wise maximum value"
   ]
  },
  {
   "cell_type": "code",
   "execution_count": 14,
   "id": "3d63880b",
   "metadata": {},
   "outputs": [
    {
     "data": {
      "text/plain": [
       "array([[79, 65, 45, 55],\n",
       "       [65, 66, 78, 66],\n",
       "       [77, 66, 44, 33]])"
      ]
     },
     "execution_count": 14,
     "metadata": {},
     "output_type": "execute_result"
    }
   ],
   "source": [
    "a"
   ]
  },
  {
   "cell_type": "code",
   "execution_count": 15,
   "id": "b40e9c21",
   "metadata": {},
   "outputs": [
    {
     "data": {
      "text/plain": [
       "array([[79, 65, 45, 55],\n",
       "       [65, 66, 78, 66],\n",
       "       [77, 66, 44, 33]])"
      ]
     },
     "execution_count": 15,
     "metadata": {},
     "output_type": "execute_result"
    }
   ],
   "source": [
    "#statistical function\n",
    "a"
   ]
  },
  {
   "cell_type": "code",
   "execution_count": 22,
   "id": "97bc672b",
   "metadata": {},
   "outputs": [
    {
     "name": "stdout",
     "output_type": "stream",
     "text": [
      "65.5\n",
      "[60. 66. 55.]\n",
      "[77. 66. 45. 55.]\n"
     ]
    }
   ],
   "source": [
    "print(np.median(a))\n",
    "print(np.median(a, axis = 1)) #row wise median.\n",
    "print(np.median(a, axis = 0)) #column wise median."
   ]
  },
  {
   "cell_type": "code",
   "execution_count": 24,
   "id": "543c77ad",
   "metadata": {},
   "outputs": [
    {
     "name": "stdout",
     "output_type": "stream",
     "text": [
      "61.583333333333336\n",
      "[61.   68.75 55.  ]\n",
      "[73.66666667 65.66666667 55.66666667 51.33333333]\n"
     ]
    }
   ],
   "source": [
    "print(np.mean(a))\n",
    "print(np.mean(a, axis = 1)) # row wise mean\n",
    "print(np.mean(a, axis = 0)) # column wise mean\n"
   ]
  },
  {
   "cell_type": "code",
   "execution_count": 25,
   "id": "6cf3802c",
   "metadata": {},
   "outputs": [
    {
     "name": "stdout",
     "output_type": "stream",
     "text": [
      "2.5\n",
      "2.5\n"
     ]
    }
   ],
   "source": [
    "a = np.array([1,2,3,4])\n",
    "\n",
    "print(np.average(a))\n",
    "print(np.mean(a))"
   ]
  },
  {
   "cell_type": "code",
   "execution_count": 26,
   "id": "b50a83ae",
   "metadata": {},
   "outputs": [
    {
     "name": "stdout",
     "output_type": "stream",
     "text": [
      "2.5\n",
      "2.5\n",
      "2.0\n"
     ]
    }
   ],
   "source": [
    "a = np.array([1,2,3,4])\n",
    "wts = np.array([4,3,2,1])\n",
    "print(np.average(a))\n",
    "print(np.mean(a))\n",
    "print(np.average(a, weights= wts)) #(4X1+3X2+2X3+1X4)/(4+3+2+1) Weighted average is calculated"
   ]
  },
  {
   "cell_type": "code",
   "execution_count": 27,
   "id": "93c83e3e",
   "metadata": {},
   "outputs": [
    {
     "data": {
      "text/plain": [
       "array([1, 2, 3, 4])"
      ]
     },
     "execution_count": 27,
     "metadata": {},
     "output_type": "execute_result"
    }
   ],
   "source": [
    "a"
   ]
  },
  {
   "cell_type": "code",
   "execution_count": 29,
   "id": "02dab7a6",
   "metadata": {},
   "outputs": [
    {
     "data": {
      "text/plain": [
       "1.118033988749895"
      ]
     },
     "execution_count": 29,
     "metadata": {},
     "output_type": "execute_result"
    }
   ],
   "source": [
    "np.std(a)"
   ]
  },
  {
   "cell_type": "code",
   "execution_count": 30,
   "id": "c166150f",
   "metadata": {},
   "outputs": [
    {
     "data": {
      "text/plain": [
       "1.25"
      ]
     },
     "execution_count": 30,
     "metadata": {},
     "output_type": "execute_result"
    }
   ],
   "source": [
    "np.var(a)"
   ]
  },
  {
   "cell_type": "code",
   "execution_count": 31,
   "id": "a09d9211",
   "metadata": {},
   "outputs": [],
   "source": [
    "a = np.array([[79,65,45,55], [65,66,78,66], [77, 66,44,33]])"
   ]
  },
  {
   "cell_type": "code",
   "execution_count": 32,
   "id": "be2f20a2",
   "metadata": {},
   "outputs": [
    {
     "data": {
      "text/plain": [
       "array([[79, 65, 45, 55],\n",
       "       [65, 66, 78, 66],\n",
       "       [77, 66, 44, 33]])"
      ]
     },
     "execution_count": 32,
     "metadata": {},
     "output_type": "execute_result"
    }
   ],
   "source": [
    "a"
   ]
  },
  {
   "cell_type": "code",
   "execution_count": 34,
   "id": "16431e52",
   "metadata": {},
   "outputs": [
    {
     "name": "stdout",
     "output_type": "stream",
     "text": [
      "[[45 55 65 79]\n",
      " [65 66 66 78]\n",
      " [33 44 66 77]]\n"
     ]
    }
   ],
   "source": [
    "print(np.sort(a)) # row wise sorting"
   ]
  },
  {
   "cell_type": "code",
   "execution_count": 35,
   "id": "efc0bc62",
   "metadata": {},
   "outputs": [
    {
     "name": "stdout",
     "output_type": "stream",
     "text": [
      "[[45 55 65 79]\n",
      " [65 66 66 78]\n",
      " [33 44 66 77]]\n"
     ]
    }
   ],
   "source": [
    "print(np.sort(a, axis = 1)) # row wise sorting, axis =1 is default"
   ]
  },
  {
   "cell_type": "code",
   "execution_count": 36,
   "id": "4c2af271",
   "metadata": {},
   "outputs": [
    {
     "name": "stdout",
     "output_type": "stream",
     "text": [
      "[[65 65 44 33]\n",
      " [77 66 45 55]\n",
      " [79 66 78 66]]\n"
     ]
    }
   ],
   "source": [
    "print(np.sort(a, axis = 0)) # row wise sorting, axis =1 is default"
   ]
  },
  {
   "cell_type": "code",
   "execution_count": 38,
   "id": "31f6c856",
   "metadata": {},
   "outputs": [],
   "source": [
    "x=np.arange(9).reshape(3,3)"
   ]
  },
  {
   "cell_type": "code",
   "execution_count": 40,
   "id": "ca4ca96a",
   "metadata": {},
   "outputs": [
    {
     "data": {
      "text/plain": [
       "array([[0, 1, 2],\n",
       "       [3, 4, 5],\n",
       "       [6, 7, 8]])"
      ]
     },
     "execution_count": 40,
     "metadata": {},
     "output_type": "execute_result"
    }
   ],
   "source": [
    "x"
   ]
  },
  {
   "cell_type": "code",
   "execution_count": 41,
   "id": "be929ec8",
   "metadata": {},
   "outputs": [
    {
     "data": {
      "text/plain": [
       "array([4, 5, 6, 7, 8])"
      ]
     },
     "execution_count": 41,
     "metadata": {},
     "output_type": "execute_result"
    }
   ],
   "source": [
    "# i am looking for record where x>3\n",
    "x[np.where(x>3)] # getting the record greater than 3 in flat mode.\n"
   ]
  },
  {
   "cell_type": "code",
   "execution_count": 42,
   "id": "1a965be1",
   "metadata": {},
   "outputs": [
    {
     "data": {
      "text/plain": [
       "array([[0, 1, 2],\n",
       "       [3, 4, 5],\n",
       "       [6, 7, 8]])"
      ]
     },
     "execution_count": 42,
     "metadata": {},
     "output_type": "execute_result"
    }
   ],
   "source": [
    "x"
   ]
  },
  {
   "cell_type": "code",
   "execution_count": 43,
   "id": "76429e37",
   "metadata": {},
   "outputs": [
    {
     "data": {
      "text/plain": [
       "array([0, 2, 4, 6, 8])"
      ]
     },
     "execution_count": 43,
     "metadata": {},
     "output_type": "execute_result"
    }
   ],
   "source": [
    "condition = np.mod(x,2)==0\n",
    "# getting even numbers, remainder is zero.\n",
    "np.extract(condition,x)"
   ]
  },
  {
   "cell_type": "code",
   "execution_count": null,
   "id": "96980197",
   "metadata": {},
   "outputs": [],
   "source": [
    "np."
   ]
  }
 ],
 "metadata": {
  "kernelspec": {
   "display_name": "Python 3",
   "language": "python",
   "name": "python3"
  },
  "language_info": {
   "codemirror_mode": {
    "name": "ipython",
    "version": 3
   },
   "file_extension": ".py",
   "mimetype": "text/x-python",
   "name": "python",
   "nbconvert_exporter": "python",
   "pygments_lexer": "ipython3",
   "version": "3.8.8"
  }
 },
 "nbformat": 4,
 "nbformat_minor": 5
}
