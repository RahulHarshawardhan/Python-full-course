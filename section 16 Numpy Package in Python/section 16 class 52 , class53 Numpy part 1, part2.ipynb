{
 "cells": [
  {
   "cell_type": "markdown",
   "id": "5d6fc058",
   "metadata": {},
   "source": [
    "\n",
    "# Numpy - Numerical Python"
   ]
  },
  {
   "cell_type": "code",
   "execution_count": 7,
   "id": "d2e22df0",
   "metadata": {},
   "outputs": [
    {
     "data": {
      "text/plain": [
       "'1.24.2'"
      ]
     },
     "execution_count": 7,
     "metadata": {},
     "output_type": "execute_result"
    }
   ],
   "source": [
    "import numpy as np\n",
    "np.version.version"
   ]
  },
  {
   "cell_type": "code",
   "execution_count": 1,
   "id": "2c66c856",
   "metadata": {},
   "outputs": [
    {
     "name": "stdout",
     "output_type": "stream",
     "text": [
      "Requirement already satisfied: numpy in c:\\users\\rahul\\anaconda3\\lib\\site-packages (1.24.2)\n",
      "Note: you may need to restart the kernel to use updated packages.\n"
     ]
    }
   ],
   "source": [
    "pip install numpy --upgrade\n"
   ]
  },
  {
   "cell_type": "code",
   "execution_count": 1,
   "id": "b278441e",
   "metadata": {},
   "outputs": [
    {
     "name": "stdout",
     "output_type": "stream",
     "text": [
      "Package                            Version\n",
      "---------------------------------- -------------------\n",
      "alabaster                          0.7.12\n",
      "anaconda-client                    1.7.2\n",
      "anaconda-navigator                 2.0.3\n",
      "anaconda-project                   0.9.1\n",
      "anyio                              2.2.0\n",
      "appdirs                            1.4.4\n",
      "argh                               0.26.2\n",
      "argon2-cffi                        20.1.0\n",
      "asgiref                            3.4.1\n",
      "asn1crypto                         1.4.0\n",
      "astroid                            2.5\n",
      "astropy                            4.2.1\n",
      "async-generator                    1.10\n",
      "atomicwrites                       1.4.0\n",
      "attrs                              20.3.0\n",
      "autopep8                           1.5.6\n",
      "Babel                              2.9.0\n",
      "backcall                           0.2.0\n",
      "backports.functools-lru-cache      1.6.4\n",
      "backports.shutil-get-terminal-size 1.0.0\n",
      "backports.tempfile                 1.0\n",
      "backports.weakref                  1.0.post1\n",
      "bcrypt                             3.2.0\n",
      "beautifulsoup4                     4.9.3\n",
      "bitarray                           1.9.2\n",
      "bkcharts                           0.2\n",
      "black                              19.10b0\n",
      "bleach                             3.3.0\n",
      "bokeh                              2.3.2\n",
      "boto                               2.49.0\n",
      "Bottleneck                         1.3.2\n",
      "brotlipy                           0.7.0\n",
      "certifi                            2020.12.5\n",
      "cffi                               1.14.5\n",
      "chardet                            4.0.0\n",
      "click                              7.1.2\n",
      "cloudpickle                        1.6.0\n",
      "clyent                             1.2.2\n",
      "collection                         0.1.6\n",
      "colorama                           0.4.4\n",
      "comtypes                           1.1.9\n",
      "conda                              4.10.3\n",
      "conda-build                        3.21.4\n",
      "conda-content-trust                0+unknown\n",
      "conda-package-handling             1.7.3\n",
      "conda-repo-cli                     1.0.4\n",
      "conda-token                        0.3.0\n",
      "conda-verify                       3.4.2\n",
      "constructor                        3.2.1\n",
      "contextlib2                        0.6.0.post1\n",
      "cryptography                       3.4.7\n",
      "CurrencyConverter                  0.17.2\n",
      "cx-Oracle                          8.3.0\n",
      "cycler                             0.10.0\n",
      "Cython                             0.29.23\n",
      "cytoolz                            0.11.0\n",
      "dask                               2021.4.0\n",
      "decorator                          5.0.6\n",
      "defusedxml                         0.7.1\n",
      "diff-match-patch                   20200713\n",
      "distributed                        2021.4.0\n",
      "Django                             3.0.5\n",
      "docutils                           0.17\n",
      "emoji                              2.2.0\n",
      "entrypoints                        0.3\n",
      "et-xmlfile                         1.0.1\n",
      "fastcache                          1.1.0\n",
      "filelock                           3.0.12\n",
      "flake8                             3.9.0\n",
      "Flask                              1.1.2\n",
      "fsspec                             0.9.0\n",
      "future                             0.18.2\n",
      "gevent                             21.1.2\n",
      "glob2                              0.7\n",
      "greenlet                           1.0.0\n",
      "h5py                               2.10.0\n",
      "HeapDict                           1.0.1\n",
      "html5lib                           1.1\n",
      "htmlmin                            0.1.12\n",
      "idna                               2.10\n",
      "imagecodecs                        2021.3.31\n",
      "ImageHash                          4.2.1\n",
      "imageio                            2.9.0\n",
      "imagesize                          1.2.0\n",
      "IMAPClient                         2.3.1\n",
      "importlib-metadata                 3.10.0\n",
      "iniconfig                          1.1.1\n",
      "intervaltree                       3.1.0\n",
      "ipykernel                          5.3.4\n",
      "ipython                            7.22.0\n",
      "ipython-genutils                   0.2.0\n",
      "ipywidgets                         7.6.3\n",
      "isort                              5.8.0\n",
      "itsdangerous                       1.1.0\n",
      "jdcal                              1.4.1\n",
      "jedi                               0.17.2\n",
      "Jinja2                             2.11.3\n",
      "joblib                             1.0.1\n",
      "json5                              0.9.5\n",
      "jsonschema                         3.2.0\n",
      "jupyter                            1.0.0\n",
      "jupyter-client                     6.1.12\n",
      "jupyter-console                    6.4.0\n",
      "jupyter-core                       4.7.1\n",
      "jupyter-packaging                  0.7.12\n",
      "jupyter-server                     1.4.1\n",
      "jupyterlab                         3.0.14\n",
      "jupyterlab-pygments                0.1.2\n",
      "jupyterlab-server                  2.4.0\n",
      "jupyterlab-widgets                 1.0.0\n",
      "keyring                            22.3.0\n",
      "kiwisolver                         1.3.1\n",
      "lazy-object-proxy                  1.6.0\n",
      "libarchive-c                       2.9\n",
      "llvmlite                           0.36.0\n",
      "locket                             0.2.1\n",
      "lxml                               4.6.3\n",
      "MarkupSafe                         1.1.1\n",
      "matplotlib                         3.3.4\n",
      "mccabe                             0.6.1\n",
      "menuinst                           1.4.16\n",
      "missingno                          0.5.0\n",
      "mistune                            0.8.4\n",
      "mkl-fft                            1.3.0\n",
      "mkl-random                         1.2.1\n",
      "mkl-service                        2.3.0\n",
      "mock                               4.0.3\n",
      "more-itertools                     8.7.0\n",
      "MouseInfo                          0.1.3\n",
      "mpmath                             1.2.1\n",
      "msgpack                            1.0.2\n",
      "multimethod                        1.4\n",
      "multipledispatch                   0.6.0\n",
      "mypy-extensions                    0.4.3\n",
      "navigator-updater                  0.2.1\n",
      "nbclassic                          0.2.6\n",
      "nbclient                           0.5.3\n",
      "nbconvert                          6.0.7\n",
      "nbformat                           5.1.3\n",
      "nest-asyncio                       1.5.1\n",
      "networkx                           2.5\n",
      "nltk                               3.6.1\n",
      "nose                               1.3.7\n",
      "notebook                           6.3.0\n",
      "numba                              0.53.1\n",
      "numexpr                            2.7.3\n",
      "numpy                              1.24.2\n",
      "numpydoc                           1.1.0\n",
      "olefile                            0.46\n",
      "openpyxl                           3.0.7\n",
      "packaging                          20.9\n",
      "pandas                             1.2.4\n",
      "pandas-profiling                   3.0.0\n",
      "pandocfilters                      1.4.3\n",
      "paramiko                           2.7.2\n",
      "parso                              0.7.0\n",
      "partd                              1.2.0\n",
      "path                               15.1.2\n",
      "pathlib2                           2.3.5\n",
      "pathspec                           0.7.0\n",
      "patsy                              0.5.1\n",
      "pep8                               1.7.1\n",
      "pexpect                            4.8.0\n",
      "phik                               0.12.0\n",
      "pickleshare                        0.7.5\n",
      "Pillow                             8.2.0\n",
      "pip                                21.0.1\n",
      "pkginfo                            1.7.0\n",
      "pluggy                             0.13.1\n",
      "ply                                3.11\n",
      "prometheus-client                  0.10.1\n",
      "prompt-toolkit                     3.0.17\n",
      "psutil                             5.8.0\n",
      "ptyprocess                         0.7.0\n",
      "py                                 1.10.0\n",
      "PyAutoGUI                          0.9.53\n",
      "pycodestyle                        2.6.0\n",
      "pycosat                            0.6.3\n",
      "pycparser                          2.20\n",
      "Note: you may need to restart the kernel to use updated packages.\n",
      "pycurl                             7.43.0.6\n",
      "pydantic                           1.8.2\n",
      "pydocstyle                         6.0.0\n",
      "pyee                               7.0.4\n",
      "pyerfa                             1.7.3\n",
      "pyflakes                           2.2.0\n",
      "PyGetWindow                        0.0.9\n",
      "Pygments                           2.8.1\n",
      "pyjokes                            0.6.0\n",
      "pylint                             2.7.4\n",
      "pyls-black                         0.4.6\n",
      "pyls-spyder                        0.3.2\n",
      "PyMsgBox                           1.0.9\n",
      "PyNaCl                             1.4.0\n",
      "pyodbc                             4.0.0-unsupported\n",
      "pyOpenSSL                          20.0.1\n",
      "pyparsing                          2.4.7\n",
      "pyperclip                          1.8.2\n",
      "pypiwin32                          223\n",
      "pyppeteer                          0.2.2\n",
      "pyreadline                         2.1\n",
      "PyRect                             0.1.4\n",
      "pyrsistent                         0.17.3\n",
      "PyScreeze                          0.1.27\n",
      "PySocks                            1.7.1\n",
      "pyspellchecker                     0.7.1\n",
      "pytest                             6.2.3\n",
      "python-dateutil                    2.8.1\n",
      "python-jsonrpc-server              0.4.0\n",
      "python-language-server             0.36.2\n",
      "pyttsx3                            2.90\n",
      "pytube                             12.1.0\n",
      "PyTweening                         1.0.3\n",
      "pytz                               2021.1\n",
      "PyWavelets                         1.1.1\n",
      "pywhatkit                          5.1\n",
      "pywin32                            227\n",
      "pywin32-ctypes                     0.2.0\n",
      "pywinpty                           0.5.7\n",
      "PyYAML                             5.4.1\n",
      "pyzmq                              20.0.0\n",
      "QDarkStyle                         2.8.1\n",
      "QtAwesome                          1.0.2\n",
      "qtconsole                          5.0.3\n",
      "QtPy                               1.9.0\n",
      "regex                              2021.4.4\n",
      "requests                           2.25.1\n",
      "rope                               0.18.0\n",
      "Rtree                              0.9.7\n",
      "ruamel-yaml-conda                  0.15.100\n",
      "scikit-image                       0.18.1\n",
      "scikit-learn                       0.24.1\n",
      "scipy                              1.6.2\n",
      "seaborn                            0.11.1\n",
      "Send2Trash                         1.5.0\n",
      "setuptools                         52.0.0.post20210125\n",
      "simplegeneric                      0.8.1\n",
      "singledispatch                     0.0.0\n",
      "sip                                4.19.13\n",
      "six                                1.15.0\n",
      "sniffio                            1.2.0\n",
      "snowballstemmer                    2.1.0\n",
      "sortedcollections                  2.1.0\n",
      "sortedcontainers                   2.3.0\n",
      "soupsieve                          2.2.1\n",
      "SpeechRecognition                  3.8.1\n",
      "Sphinx                             4.0.1\n",
      "sphinxcontrib-applehelp            1.0.2\n",
      "sphinxcontrib-devhelp              1.0.2\n",
      "sphinxcontrib-htmlhelp             1.0.3\n",
      "sphinxcontrib-jsmath               1.0.1\n",
      "sphinxcontrib-qthelp               1.0.3\n",
      "sphinxcontrib-serializinghtml      1.1.4\n",
      "sphinxcontrib-websupport           1.2.4\n",
      "spyder                             4.2.5\n",
      "spyder-kernels                     1.10.2\n",
      "SQLAlchemy                         1.4.7\n",
      "sqlparse                           0.4.1\n",
      "statsmodels                        0.12.2\n",
      "sympy                              1.8\n",
      "tables                             3.6.1\n",
      "tangled-up-in-unicode              0.1.0\n",
      "tblib                              1.7.0\n",
      "terminado                          0.9.4\n",
      "testpath                           0.4.4\n",
      "textdistance                       4.2.1\n",
      "threadpoolctl                      2.1.0\n",
      "three-merge                        0.1.1\n",
      "tifffile                           2021.4.8\n",
      "toml                               0.10.2\n",
      "toolz                              0.11.1\n",
      "tornado                            6.1\n",
      "tqdm                               4.59.0\n",
      "traitlets                          5.0.5\n",
      "typed-ast                          1.4.2\n",
      "typing-extensions                  3.7.4.3\n",
      "ujson                              4.0.2\n",
      "unicodecsv                         0.14.1\n",
      "urllib3                            1.26.4\n",
      "visions                            0.7.1\n",
      "watchdog                           1.0.2\n",
      "wcwidth                            0.2.5\n",
      "webencodings                       0.5.1\n",
      "websockets                         8.1\n",
      "Werkzeug                           1.0.1\n",
      "wheel                              0.36.2\n",
      "widgetsnbextension                 3.5.1\n",
      "wikipedia                          1.4.0\n",
      "win-inet-pton                      1.1.0\n",
      "win-unicode-console                0.5\n",
      "wincertstore                       0.2\n",
      "wrapt                              1.12.1\n",
      "xlrd                               2.0.1\n",
      "XlsxWriter                         1.3.8\n",
      "xlwings                            0.23.0\n",
      "xlwt                               1.3.0\n",
      "xmltodict                          0.12.0\n",
      "yapf                               0.31.0\n",
      "zict                               2.0.0\n",
      "zipp                               3.4.1\n",
      "zope.event                         4.5.0\n",
      "zope.interface                     5.3.0\n"
     ]
    }
   ],
   "source": [
    "pip list\n"
   ]
  },
  {
   "cell_type": "code",
   "execution_count": 10,
   "id": "30d2a597",
   "metadata": {},
   "outputs": [],
   "source": [
    "sales = [4543,2233,4335, 3344, 4543, 6544, 3565, 3344, 6543, 6644, 8765, 3323, 5654, 3344, 5654, 7766]\n",
    "profit = [454,233,443,566,777,677,555,766,455,554,665,455,345,766,444,567]"
   ]
  },
  {
   "cell_type": "code",
   "execution_count": 11,
   "id": "9e3fc9c6",
   "metadata": {},
   "outputs": [
    {
     "name": "stdout",
     "output_type": "stream",
     "text": [
      "16\n",
      "16\n"
     ]
    }
   ],
   "source": [
    "print(len(sales))\n",
    "print(len(profit))\n"
   ]
  },
  {
   "cell_type": "code",
   "execution_count": 6,
   "id": "d1505dbc",
   "metadata": {},
   "outputs": [
    {
     "ename": "TypeError",
     "evalue": "unsupported operand type(s) for /: 'list' and 'list'",
     "output_type": "error",
     "traceback": [
      "\u001b[1;31m---------------------------------------------------------------------------\u001b[0m",
      "\u001b[1;31mTypeError\u001b[0m                                 Traceback (most recent call last)",
      "\u001b[1;32m<ipython-input-6-6764e8c1a10d>\u001b[0m in \u001b[0;36m<module>\u001b[1;34m\u001b[0m\n\u001b[1;32m----> 1\u001b[1;33m \u001b[0mprofit\u001b[0m\u001b[1;33m/\u001b[0m\u001b[0msales\u001b[0m\u001b[1;33m\u001b[0m\u001b[1;33m\u001b[0m\u001b[0m\n\u001b[0m",
      "\u001b[1;31mTypeError\u001b[0m: unsupported operand type(s) for /: 'list' and 'list'"
     ]
    }
   ],
   "source": [
    "profit/sales\n"
   ]
  },
  {
   "cell_type": "code",
   "execution_count": 8,
   "id": "8d7f6736",
   "metadata": {},
   "outputs": [
    {
     "data": {
      "text/plain": [
       "[0.099933964340744,\n",
       " 0.10434393193013883,\n",
       " 0.10219146482122261,\n",
       " 0.16925837320574164,\n",
       " 0.17103235747303544,\n",
       " 0.10345354523227383,\n",
       " 0.15568022440392706,\n",
       " 0.229066985645933,\n",
       " 0.06953996637627999,\n",
       " 0.08338350391330523,\n",
       " 0.07586993725042784,\n",
       " 0.13692446584411677,\n",
       " 0.061018747789175806,\n",
       " 0.229066985645933,\n",
       " 0.07852847541563494,\n",
       " 0.07301055884625289]"
      ]
     },
     "execution_count": 8,
     "metadata": {},
     "output_type": "execute_result"
    }
   ],
   "source": [
    "profitratio = []\n",
    "for i in range(0, len(sales)):\n",
    "    profitratio.append(profit[i]/sales[i])\n",
    "profitratio"
   ]
  },
  {
   "cell_type": "code",
   "execution_count": 12,
   "id": "3a8b261c",
   "metadata": {},
   "outputs": [],
   "source": [
    "import numpy as np\n",
    "sales_array = np.array(sales)"
   ]
  },
  {
   "cell_type": "code",
   "execution_count": 14,
   "id": "d034e0a4",
   "metadata": {},
   "outputs": [
    {
     "data": {
      "text/plain": [
       "numpy.ndarray"
      ]
     },
     "execution_count": 14,
     "metadata": {},
     "output_type": "execute_result"
    }
   ],
   "source": [
    "type(sales_array) # nd is n dimensional array, here the dimension is 1."
   ]
  },
  {
   "cell_type": "code",
   "execution_count": 15,
   "id": "d2ef5bf0",
   "metadata": {},
   "outputs": [],
   "source": [
    "profit_array = np.array(profit)"
   ]
  },
  {
   "cell_type": "code",
   "execution_count": 16,
   "id": "6d7cdd67",
   "metadata": {},
   "outputs": [
    {
     "data": {
      "text/plain": [
       "array([4543, 2233, 4335, 3344, 4543, 6544, 3565, 3344, 6543, 6644, 8765,\n",
       "       3323, 5654, 3344, 5654, 7766])"
      ]
     },
     "execution_count": 16,
     "metadata": {},
     "output_type": "execute_result"
    }
   ],
   "source": [
    "sales_array"
   ]
  },
  {
   "cell_type": "code",
   "execution_count": 17,
   "id": "9e587a2a",
   "metadata": {},
   "outputs": [
    {
     "data": {
      "text/plain": [
       "array([454, 233, 443, 566, 777, 677, 555, 766, 455, 554, 665, 455, 345,\n",
       "       766, 444, 567])"
      ]
     },
     "execution_count": 17,
     "metadata": {},
     "output_type": "execute_result"
    }
   ],
   "source": [
    "profit_array"
   ]
  },
  {
   "cell_type": "code",
   "execution_count": 18,
   "id": "f11f7bcf",
   "metadata": {},
   "outputs": [
    {
     "data": {
      "text/plain": [
       "array([0.09993396, 0.10434393, 0.10219146, 0.16925837, 0.17103236,\n",
       "       0.10345355, 0.15568022, 0.22906699, 0.06953997, 0.0833835 ,\n",
       "       0.07586994, 0.13692447, 0.06101875, 0.22906699, 0.07852848,\n",
       "       0.07301056])"
      ]
     },
     "execution_count": 18,
     "metadata": {},
     "output_type": "execute_result"
    }
   ],
   "source": [
    "profit_array/sales_array"
   ]
  },
  {
   "cell_type": "code",
   "execution_count": 19,
   "id": "67dc68e8",
   "metadata": {},
   "outputs": [],
   "source": [
    "# Here row by row execution is not happening. Numpy runs on c programmin.\n",
    "\n"
   ]
  },
  {
   "cell_type": "code",
   "execution_count": 28,
   "id": "82768fed",
   "metadata": {},
   "outputs": [
    {
     "name": "stdout",
     "output_type": "stream",
     "text": [
      "0.0002714000002015382\n"
     ]
    }
   ],
   "source": [
    "from timeit import default_timer as timer\n",
    "start = timer()\n",
    "profitratio = []\n",
    "for i in range(0, len(sales)):\n",
    "    profitratio.append(profit[i]/sales[i])\n",
    "profitratio\n",
    "end = timer()\n",
    "print((end- start))"
   ]
  },
  {
   "cell_type": "code",
   "execution_count": 29,
   "id": "6e42fdb9",
   "metadata": {},
   "outputs": [
    {
     "name": "stdout",
     "output_type": "stream",
     "text": [
      "0.00018360000012762612\n"
     ]
    }
   ],
   "source": [
    "from timeit import default_timer as timer\n",
    "start = timer()\n",
    "profit_array = np.array(profit)\n",
    "end = timer()\n",
    "print((end- start))"
   ]
  },
  {
   "cell_type": "code",
   "execution_count": 30,
   "id": "224bb15f",
   "metadata": {},
   "outputs": [],
   "source": [
    "size = 1000000\n",
    "l1 = range(size)\n",
    "l2 = range(size)\n",
    "a1 = np.arange(size) # arange is same as range function. arange mean array range.\n",
    "a2 = np.arange(size) # "
   ]
  },
  {
   "cell_type": "code",
   "execution_count": 32,
   "id": "b12b63e7",
   "metadata": {},
   "outputs": [
    {
     "name": "stdout",
     "output_type": "stream",
     "text": [
      "Time taken by list operation\n",
      "591.1175000001094\n",
      "Time taken by Array\n",
      "62.79469999981302\n"
     ]
    }
   ],
   "source": [
    "start = timer()\n",
    "result = [(x,y) for x,y in zip(l1,l2)]\n",
    "print('Time taken by list operation')\n",
    "end = timer()\n",
    "print((end-start)*1000)\n",
    "\n",
    "\n",
    "start = timer()\n",
    "result = a1+a2\n",
    "print(\"Time taken by Array\")\n",
    "end = timer()\n",
    "print((end - start)*1000)"
   ]
  },
  {
   "cell_type": "code",
   "execution_count": 33,
   "id": "da9543e6",
   "metadata": {},
   "outputs": [
    {
     "name": "stdout",
     "output_type": "stream",
     "text": [
      "Hello A1 Your order id is: 1\n",
      "Hello A2 Your order id is: 2\n",
      "Hello A3 Your order id is: 3\n",
      "Hello A4 Your order id is: 4\n"
     ]
    }
   ],
   "source": [
    "cust = ['A1', 'A2', 'A3', 'A4']\n",
    "order= [1,2,3,4]\n",
    "for (c,o) in zip(cust, order): #zip function is used to iterate between the lists. \n",
    "    print(\"Hello\", c, 'Your order id is:', o)"
   ]
  },
  {
   "cell_type": "code",
   "execution_count": 49,
   "id": "9884d88b",
   "metadata": {},
   "outputs": [],
   "source": [
    "list1 = ['A',10, 10.5, True]\n"
   ]
  },
  {
   "cell_type": "code",
   "execution_count": 50,
   "id": "4186c13f",
   "metadata": {},
   "outputs": [
    {
     "data": {
      "text/plain": [
       "str"
      ]
     },
     "execution_count": 50,
     "metadata": {},
     "output_type": "execute_result"
    }
   ],
   "source": [
    "type(list1[0])"
   ]
  },
  {
   "cell_type": "code",
   "execution_count": 51,
   "id": "f4c5e667",
   "metadata": {},
   "outputs": [],
   "source": [
    "array1 = np.array(list1)"
   ]
  },
  {
   "cell_type": "code",
   "execution_count": 52,
   "id": "95602127",
   "metadata": {},
   "outputs": [
    {
     "data": {
      "text/plain": [
       "array(['A', '10', '10.5', 'True'], dtype='<U32')"
      ]
     },
     "execution_count": 52,
     "metadata": {},
     "output_type": "execute_result"
    }
   ],
   "source": [
    "array1"
   ]
  },
  {
   "cell_type": "code",
   "execution_count": 53,
   "id": "b34ae372",
   "metadata": {},
   "outputs": [
    {
     "data": {
      "text/plain": [
       "numpy.str_"
      ]
     },
     "execution_count": 53,
     "metadata": {},
     "output_type": "execute_result"
    }
   ],
   "source": [
    "type(array1[2]) # when we have string in array all the elements of the array will take the string data types."
   ]
  },
  {
   "cell_type": "code",
   "execution_count": 54,
   "id": "e8d84420",
   "metadata": {},
   "outputs": [],
   "source": [
    "list2 = [32, 3, 44, 34, 54]"
   ]
  },
  {
   "cell_type": "code",
   "execution_count": 55,
   "id": "57716aa0",
   "metadata": {},
   "outputs": [
    {
     "data": {
      "text/plain": [
       "[32, 3, 44, 34, 54, 32, 3, 44, 34, 54]"
      ]
     },
     "execution_count": 55,
     "metadata": {},
     "output_type": "execute_result"
    }
   ],
   "source": [
    "list2*2 # duplicate the list"
   ]
  },
  {
   "cell_type": "code",
   "execution_count": 56,
   "id": "06df6996",
   "metadata": {},
   "outputs": [],
   "source": [
    "array2 = np.array(list2)"
   ]
  },
  {
   "cell_type": "code",
   "execution_count": 57,
   "id": "731c8f8d",
   "metadata": {},
   "outputs": [
    {
     "data": {
      "text/plain": [
       "array([ 64,   6,  88,  68, 108])"
      ]
     },
     "execution_count": 57,
     "metadata": {},
     "output_type": "execute_result"
    }
   ],
   "source": [
    "array2*2"
   ]
  },
  {
   "cell_type": "code",
   "execution_count": 58,
   "id": "0fa3907d",
   "metadata": {},
   "outputs": [
    {
     "data": {
      "text/plain": [
       "[32, 3, 44, 34, 54]"
      ]
     },
     "execution_count": 58,
     "metadata": {},
     "output_type": "execute_result"
    }
   ],
   "source": [
    "list2"
   ]
  },
  {
   "cell_type": "code",
   "execution_count": 73,
   "id": "cd7f9e93",
   "metadata": {},
   "outputs": [],
   "source": [
    "list2[0]=1000"
   ]
  },
  {
   "cell_type": "code",
   "execution_count": 74,
   "id": "111f1278",
   "metadata": {},
   "outputs": [
    {
     "data": {
      "text/plain": [
       "[1000, 3, 44, 34, 54]"
      ]
     },
     "execution_count": 74,
     "metadata": {},
     "output_type": "execute_result"
    }
   ],
   "source": [
    "list2"
   ]
  },
  {
   "cell_type": "code",
   "execution_count": 59,
   "id": "9206abf9",
   "metadata": {},
   "outputs": [],
   "source": [
    "list3 = list2.copy()\n"
   ]
  },
  {
   "cell_type": "code",
   "execution_count": 60,
   "id": "368dc8ee",
   "metadata": {},
   "outputs": [
    {
     "data": {
      "text/plain": [
       "[32, 3, 44, 34, 54]"
      ]
     },
     "execution_count": 60,
     "metadata": {},
     "output_type": "execute_result"
    }
   ],
   "source": [
    "list3"
   ]
  },
  {
   "cell_type": "code",
   "execution_count": 62,
   "id": "38af2d1b",
   "metadata": {},
   "outputs": [],
   "source": [
    "\n",
    "list4 = list2[0:3]"
   ]
  },
  {
   "cell_type": "markdown",
   "id": "7c49458c",
   "metadata": {},
   "source": [
    "#### "
   ]
  },
  {
   "cell_type": "code",
   "execution_count": 63,
   "id": "5dadbeac",
   "metadata": {},
   "outputs": [
    {
     "data": {
      "text/plain": [
       "[32, 3, 44]"
      ]
     },
     "execution_count": 63,
     "metadata": {},
     "output_type": "execute_result"
    }
   ],
   "source": [
    "list4"
   ]
  },
  {
   "cell_type": "code",
   "execution_count": 64,
   "id": "48d077a6",
   "metadata": {},
   "outputs": [],
   "source": [
    "list4[0]= 100"
   ]
  },
  {
   "cell_type": "code",
   "execution_count": 67,
   "id": "dea3942b",
   "metadata": {},
   "outputs": [
    {
     "data": {
      "text/plain": [
       "[100, 3, 44]"
      ]
     },
     "execution_count": 67,
     "metadata": {},
     "output_type": "execute_result"
    }
   ],
   "source": [
    "list4# we updated the list4 but list 1 which is the parent list is not updated. List4 is the sliced list of list2.\n"
   ]
  },
  {
   "cell_type": "code",
   "execution_count": 68,
   "id": "51bb7ca7",
   "metadata": {},
   "outputs": [
    {
     "data": {
      "text/plain": [
       "[32, 3, 44, 34, 54]"
      ]
     },
     "execution_count": 68,
     "metadata": {},
     "output_type": "execute_result"
    }
   ],
   "source": [
    "list2"
   ]
  },
  {
   "cell_type": "code",
   "execution_count": 70,
   "id": "b3841aa5",
   "metadata": {},
   "outputs": [],
   "source": [
    "list3[0]= 200"
   ]
  },
  {
   "cell_type": "code",
   "execution_count": 71,
   "id": "b80f7ddf",
   "metadata": {},
   "outputs": [
    {
     "data": {
      "text/plain": [
       "[200, 3, 44, 34, 54]"
      ]
     },
     "execution_count": 71,
     "metadata": {},
     "output_type": "execute_result"
    }
   ],
   "source": [
    "list3"
   ]
  },
  {
   "cell_type": "code",
   "execution_count": 72,
   "id": "19970882",
   "metadata": {},
   "outputs": [],
   "source": [
    "#All list is independent of each other\n",
    "\n"
   ]
  },
  {
   "cell_type": "code",
   "execution_count": 75,
   "id": "c1162448",
   "metadata": {},
   "outputs": [],
   "source": [
    "a1 =np.array(list2)"
   ]
  },
  {
   "cell_type": "code",
   "execution_count": 76,
   "id": "d4cb317f",
   "metadata": {},
   "outputs": [
    {
     "data": {
      "text/plain": [
       "array([1000,    3,   44,   34,   54])"
      ]
     },
     "execution_count": 76,
     "metadata": {},
     "output_type": "execute_result"
    }
   ],
   "source": [
    "a1"
   ]
  },
  {
   "cell_type": "code",
   "execution_count": 78,
   "id": "ea947fda",
   "metadata": {},
   "outputs": [],
   "source": [
    "a2 = a1.copy()"
   ]
  },
  {
   "cell_type": "code",
   "execution_count": 79,
   "id": "cf55a5b2",
   "metadata": {},
   "outputs": [
    {
     "data": {
      "text/plain": [
       "array([1000,    3,   44,   34,   54])"
      ]
     },
     "execution_count": 79,
     "metadata": {},
     "output_type": "execute_result"
    }
   ],
   "source": [
    "a2"
   ]
  },
  {
   "cell_type": "code",
   "execution_count": 80,
   "id": "1792b1ab",
   "metadata": {},
   "outputs": [],
   "source": [
    "a3 = a1[0:3]"
   ]
  },
  {
   "cell_type": "code",
   "execution_count": 81,
   "id": "6842a293",
   "metadata": {},
   "outputs": [
    {
     "data": {
      "text/plain": [
       "array([1000,    3,   44])"
      ]
     },
     "execution_count": 81,
     "metadata": {},
     "output_type": "execute_result"
    }
   ],
   "source": [
    "a3"
   ]
  },
  {
   "cell_type": "code",
   "execution_count": 82,
   "id": "7c9a5c28",
   "metadata": {},
   "outputs": [
    {
     "data": {
      "text/plain": [
       "array([1000,    3,   44,   34,   54])"
      ]
     },
     "execution_count": 82,
     "metadata": {},
     "output_type": "execute_result"
    }
   ],
   "source": [
    "a1"
   ]
  },
  {
   "cell_type": "code",
   "execution_count": 83,
   "id": "12f0068c",
   "metadata": {},
   "outputs": [
    {
     "data": {
      "text/plain": [
       "array([1000,    3,   44,   34,   54])"
      ]
     },
     "execution_count": 83,
     "metadata": {},
     "output_type": "execute_result"
    }
   ],
   "source": [
    "a2"
   ]
  },
  {
   "cell_type": "code",
   "execution_count": 84,
   "id": "11eb33f0",
   "metadata": {},
   "outputs": [
    {
     "data": {
      "text/plain": [
       "array([1000,    3,   44])"
      ]
     },
     "execution_count": 84,
     "metadata": {},
     "output_type": "execute_result"
    }
   ],
   "source": [
    "a3"
   ]
  },
  {
   "cell_type": "code",
   "execution_count": 85,
   "id": "78273701",
   "metadata": {},
   "outputs": [],
   "source": [
    "a3[0] = 0"
   ]
  },
  {
   "cell_type": "code",
   "execution_count": 86,
   "id": "4a23dec5",
   "metadata": {},
   "outputs": [
    {
     "data": {
      "text/plain": [
       "array([ 0,  3, 44])"
      ]
     },
     "execution_count": 86,
     "metadata": {},
     "output_type": "execute_result"
    }
   ],
   "source": [
    "a3 # when we do any changes in the slices array , the parent array also get the changed."
   ]
  },
  {
   "cell_type": "code",
   "execution_count": 87,
   "id": "1531ab03",
   "metadata": {},
   "outputs": [
    {
     "data": {
      "text/plain": [
       "array([ 0,  3, 44, 34, 54])"
      ]
     },
     "execution_count": 87,
     "metadata": {},
     "output_type": "execute_result"
    }
   ],
   "source": [
    "a1"
   ]
  },
  {
   "cell_type": "code",
   "execution_count": 88,
   "id": "4a4771e0",
   "metadata": {},
   "outputs": [],
   "source": [
    "a2[0 ]= 34"
   ]
  },
  {
   "cell_type": "code",
   "execution_count": 91,
   "id": "cf95ecc6",
   "metadata": {},
   "outputs": [
    {
     "data": {
      "text/plain": [
       "array([34,  3, 44, 34, 54])"
      ]
     },
     "execution_count": 91,
     "metadata": {},
     "output_type": "execute_result"
    }
   ],
   "source": [
    "a2 # When we do any change in in copy array the parent array is not changed."
   ]
  },
  {
   "cell_type": "code",
   "execution_count": 92,
   "id": "0cacead9",
   "metadata": {},
   "outputs": [
    {
     "data": {
      "text/plain": [
       "array([ 0,  3, 44, 34, 54])"
      ]
     },
     "execution_count": 92,
     "metadata": {},
     "output_type": "execute_result"
    }
   ],
   "source": [
    "a1"
   ]
  },
  {
   "cell_type": "code",
   "execution_count": 93,
   "id": "bc72e30e",
   "metadata": {},
   "outputs": [
    {
     "data": {
      "text/plain": [
       "array([ 0,  3, 44, 34, 54])"
      ]
     },
     "execution_count": 93,
     "metadata": {},
     "output_type": "execute_result"
    }
   ],
   "source": [
    "a1"
   ]
  },
  {
   "cell_type": "code",
   "execution_count": 95,
   "id": "a0c73c15",
   "metadata": {},
   "outputs": [
    {
     "data": {
      "text/plain": [
       "dtype('int32')"
      ]
     },
     "execution_count": 95,
     "metadata": {},
     "output_type": "execute_result"
    }
   ],
   "source": [
    "a1.dtype #dtype tells the data type of the array and is common for all elemnts.\n",
    "#priority - string - float-int - boolean"
   ]
  },
  {
   "cell_type": "code",
   "execution_count": 96,
   "id": "d72cb3a2",
   "metadata": {
    "scrolled": true
   },
   "outputs": [
    {
     "data": {
      "text/plain": [
       "1"
      ]
     },
     "execution_count": 96,
     "metadata": {},
     "output_type": "execute_result"
    }
   ],
   "source": [
    "a1.ndim"
   ]
  },
  {
   "cell_type": "code",
   "execution_count": 97,
   "id": "6b280142",
   "metadata": {},
   "outputs": [
    {
     "data": {
      "text/plain": [
       "(5,)"
      ]
     },
     "execution_count": 97,
     "metadata": {},
     "output_type": "execute_result"
    }
   ],
   "source": [
    "a1.shape"
   ]
  },
  {
   "cell_type": "code",
   "execution_count": 98,
   "id": "f803b68a",
   "metadata": {},
   "outputs": [],
   "source": [
    "sales_us = [4354,2342,5466,4533]\n",
    "sales_eu = [5422,5666,5654,6743]\n",
    "sales_jp = [4524,5646,5645,6656]"
   ]
  },
  {
   "cell_type": "code",
   "execution_count": 99,
   "id": "f1da3546",
   "metadata": {},
   "outputs": [],
   "source": [
    "profit_us = [452,534,455,644]\n",
    "profit_eu = [343,545,546,776]\n",
    "profit_jp = [655,455,645,455]"
   ]
  },
  {
   "cell_type": "code",
   "execution_count": 101,
   "id": "a5d441de",
   "metadata": {},
   "outputs": [],
   "source": [
    "sales_matrix = np.array([sales_us,sales_eu,sales_jp])"
   ]
  },
  {
   "cell_type": "code",
   "execution_count": 102,
   "id": "c2b3d712",
   "metadata": {},
   "outputs": [
    {
     "data": {
      "text/plain": [
       "array([[4354, 2342, 5466, 4533],\n",
       "       [5422, 5666, 5654, 6743],\n",
       "       [4524, 5646, 5645, 6656]])"
      ]
     },
     "execution_count": 102,
     "metadata": {},
     "output_type": "execute_result"
    }
   ],
   "source": [
    "sales_matrix"
   ]
  },
  {
   "cell_type": "code",
   "execution_count": 103,
   "id": "acfc5bf9",
   "metadata": {},
   "outputs": [
    {
     "data": {
      "text/plain": [
       "dtype('int32')"
      ]
     },
     "execution_count": 103,
     "metadata": {},
     "output_type": "execute_result"
    }
   ],
   "source": [
    "sales_matrix.dtype"
   ]
  },
  {
   "cell_type": "code",
   "execution_count": 106,
   "id": "8a7040a4",
   "metadata": {},
   "outputs": [
    {
     "data": {
      "text/plain": [
       "2"
      ]
     },
     "execution_count": 106,
     "metadata": {},
     "output_type": "execute_result"
    }
   ],
   "source": [
    "\n",
    "sales_matrix.ndim # ndim 2 means 2 dimension , row and columns.\n"
   ]
  },
  {
   "cell_type": "code",
   "execution_count": 107,
   "id": "2ffb1e63",
   "metadata": {},
   "outputs": [
    {
     "data": {
      "text/plain": [
       "(3, 4)"
      ]
     },
     "execution_count": 107,
     "metadata": {},
     "output_type": "execute_result"
    }
   ],
   "source": [
    "sales_matrix.shape"
   ]
  },
  {
   "cell_type": "code",
   "execution_count": 108,
   "id": "9786fead",
   "metadata": {},
   "outputs": [
    {
     "data": {
      "text/plain": [
       "numpy.ndarray"
      ]
     },
     "execution_count": 108,
     "metadata": {},
     "output_type": "execute_result"
    }
   ],
   "source": [
    "type(sales_matrix) # here n is 2 now."
   ]
  },
  {
   "cell_type": "code",
   "execution_count": 109,
   "id": "5b18b44f",
   "metadata": {},
   "outputs": [],
   "source": [
    "profit_matrix = np.array([profit_us, profit_eu,profit_jp])"
   ]
  },
  {
   "cell_type": "code",
   "execution_count": 110,
   "id": "f2a4cfd9",
   "metadata": {},
   "outputs": [
    {
     "data": {
      "text/plain": [
       "array([[452, 534, 455, 644],\n",
       "       [343, 545, 546, 776],\n",
       "       [655, 455, 645, 455]])"
      ]
     },
     "execution_count": 110,
     "metadata": {},
     "output_type": "execute_result"
    }
   ],
   "source": [
    "profit_matrix"
   ]
  },
  {
   "cell_type": "code",
   "execution_count": 111,
   "id": "15579d5c",
   "metadata": {},
   "outputs": [
    {
     "data": {
      "text/plain": [
       "array([[0.10381259, 0.22801025, 0.08324186, 0.14206927],\n",
       "       [0.06326079, 0.09618779, 0.0965688 , 0.11508231],\n",
       "       [0.14478338, 0.08058803, 0.11426041, 0.06835938]])"
      ]
     },
     "execution_count": 111,
     "metadata": {},
     "output_type": "execute_result"
    }
   ],
   "source": [
    "profit_matrix/sales_matrix"
   ]
  },
  {
   "cell_type": "code",
   "execution_count": 113,
   "id": "00a2a815",
   "metadata": {},
   "outputs": [
    {
     "data": {
      "text/plain": [
       "array([[452, 534, 455, 644],\n",
       "       [343, 545, 546, 776],\n",
       "       [655, 455, 645, 455]])"
      ]
     },
     "execution_count": 113,
     "metadata": {},
     "output_type": "execute_result"
    }
   ],
   "source": [
    "profit_matrix"
   ]
  },
  {
   "cell_type": "code",
   "execution_count": 115,
   "id": "2e010a79",
   "metadata": {},
   "outputs": [
    {
     "data": {
      "text/plain": [
       "546"
      ]
     },
     "execution_count": 115,
     "metadata": {},
     "output_type": "execute_result"
    }
   ],
   "source": [
    "profit_matrix[1,2] #row no1 - index no 0, row nu"
   ]
  },
  {
   "cell_type": "code",
   "execution_count": 116,
   "id": "6632ebbf",
   "metadata": {},
   "outputs": [
    {
     "data": {
      "text/plain": [
       "array([[455, 644],\n",
       "       [546, 776]])"
      ]
     },
     "execution_count": 116,
     "metadata": {},
     "output_type": "execute_result"
    }
   ],
   "source": [
    "profit_matrix[0:2, 2:4]"
   ]
  },
  {
   "cell_type": "code",
   "execution_count": 117,
   "id": "901eb5af",
   "metadata": {},
   "outputs": [
    {
     "data": {
      "text/plain": [
       "array([[455, 644],\n",
       "       [546, 776],\n",
       "       [645, 455]])"
      ]
     },
     "execution_count": 117,
     "metadata": {},
     "output_type": "execute_result"
    }
   ],
   "source": [
    "profit_matrix[:, 2:4]"
   ]
  },
  {
   "cell_type": "code",
   "execution_count": 118,
   "id": "61d271ba",
   "metadata": {},
   "outputs": [
    {
     "data": {
      "text/plain": [
       "array([[452, 534, 455, 644],\n",
       "       [343, 545, 546, 776],\n",
       "       [655, 455, 645, 455]])"
      ]
     },
     "execution_count": 118,
     "metadata": {},
     "output_type": "execute_result"
    }
   ],
   "source": [
    "profit_matrix"
   ]
  },
  {
   "cell_type": "code",
   "execution_count": 120,
   "id": "a5df9345",
   "metadata": {},
   "outputs": [],
   "source": [
    "rdict = {\"US\":0, \"EU\":1, \"JP\":2}\n",
    "qdict = {\"Q1\":0, \"Q2\":1, \"Q3\":2, \"Q4\":3}"
   ]
  },
  {
   "cell_type": "code",
   "execution_count": 121,
   "id": "6b86a252",
   "metadata": {},
   "outputs": [
    {
     "data": {
      "text/plain": [
       "array([[452, 534, 455, 644],\n",
       "       [343, 545, 546, 776],\n",
       "       [655, 455, 645, 455]])"
      ]
     },
     "execution_count": 121,
     "metadata": {},
     "output_type": "execute_result"
    }
   ],
   "source": [
    "profit_matrix"
   ]
  },
  {
   "cell_type": "code",
   "execution_count": 122,
   "id": "0517780b",
   "metadata": {},
   "outputs": [
    {
     "data": {
      "text/plain": [
       "455"
      ]
     },
     "execution_count": 122,
     "metadata": {},
     "output_type": "execute_result"
    }
   ],
   "source": [
    "profit_matrix[rdict['US']][qdict[\"Q3\"]]"
   ]
  },
  {
   "cell_type": "code",
   "execution_count": 123,
   "id": "ca9b6184",
   "metadata": {},
   "outputs": [
    {
     "data": {
      "text/plain": [
       "455"
      ]
     },
     "execution_count": 123,
     "metadata": {},
     "output_type": "execute_result"
    }
   ],
   "source": [
    "profit_matrix[0,2]"
   ]
  },
  {
   "cell_type": "code",
   "execution_count": 124,
   "id": "c713daef",
   "metadata": {},
   "outputs": [
    {
     "data": {
      "text/plain": [
       "455"
      ]
     },
     "execution_count": 124,
     "metadata": {},
     "output_type": "execute_result"
    }
   ],
   "source": [
    "profit_matrix[0][2]"
   ]
  },
  {
   "cell_type": "code",
   "execution_count": 125,
   "id": "dc0e4904",
   "metadata": {},
   "outputs": [],
   "source": [
    "a = np.arange(1,21)"
   ]
  },
  {
   "cell_type": "code",
   "execution_count": 126,
   "id": "f0c5e1ca",
   "metadata": {},
   "outputs": [
    {
     "data": {
      "text/plain": [
       "array([ 1,  2,  3,  4,  5,  6,  7,  8,  9, 10, 11, 12, 13, 14, 15, 16, 17,\n",
       "       18, 19, 20])"
      ]
     },
     "execution_count": 126,
     "metadata": {},
     "output_type": "execute_result"
    }
   ],
   "source": [
    "a"
   ]
  },
  {
   "cell_type": "code",
   "execution_count": 127,
   "id": "c2d741de",
   "metadata": {},
   "outputs": [],
   "source": [
    "#Here i want to make 'a'which is  1d array to matrix taking 5 elemrnt in each row.\n"
   ]
  },
  {
   "cell_type": "code",
   "execution_count": 128,
   "id": "ed5448d3",
   "metadata": {},
   "outputs": [
    {
     "data": {
      "text/plain": [
       "array([[ 1,  2,  3,  4,  5],\n",
       "       [ 6,  7,  8,  9, 10],\n",
       "       [11, 12, 13, 14, 15],\n",
       "       [16, 17, 18, 19, 20]])"
      ]
     },
     "execution_count": 128,
     "metadata": {},
     "output_type": "execute_result"
    }
   ],
   "source": [
    "np.reshape(a,(4,5)) # here it is row by row"
   ]
  },
  {
   "cell_type": "code",
   "execution_count": 129,
   "id": "ac24e33a",
   "metadata": {},
   "outputs": [
    {
     "data": {
      "text/plain": [
       "array([[ 1,  5,  9, 13, 17],\n",
       "       [ 2,  6, 10, 14, 18],\n",
       "       [ 3,  7, 11, 15, 19],\n",
       "       [ 4,  8, 12, 16, 20]])"
      ]
     },
     "execution_count": 129,
     "metadata": {},
     "output_type": "execute_result"
    }
   ],
   "source": [
    "np.reshape(a,(4,5), 'F') # here it is column by column, F is taken from fortrane programming language."
   ]
  },
  {
   "cell_type": "code",
   "execution_count": 130,
   "id": "2538d22f",
   "metadata": {},
   "outputs": [
    {
     "data": {
      "text/plain": [
       "array([[ 1,  2,  3,  4,  5],\n",
       "       [ 6,  7,  8,  9, 10],\n",
       "       [11, 12, 13, 14, 15],\n",
       "       [16, 17, 18, 19, 20]])"
      ]
     },
     "execution_count": 130,
     "metadata": {},
     "output_type": "execute_result"
    }
   ],
   "source": [
    "np.reshape(a,(4,5), 'C') # here it is row by row. C is default mode. C means it is taken from C programming"
   ]
  },
  {
   "cell_type": "code",
   "execution_count": 131,
   "id": "2b4db5c8",
   "metadata": {},
   "outputs": [
    {
     "data": {
      "text/plain": [
       "array([[ 1,  2],\n",
       "       [ 3,  4],\n",
       "       [ 5,  6],\n",
       "       [ 7,  8],\n",
       "       [ 9, 10],\n",
       "       [11, 12],\n",
       "       [13, 14],\n",
       "       [15, 16],\n",
       "       [17, 18],\n",
       "       [19, 20]])"
      ]
     },
     "execution_count": 131,
     "metadata": {},
     "output_type": "execute_result"
    }
   ],
   "source": [
    "np.reshape(a,(10,2), 'C')"
   ]
  },
  {
   "cell_type": "code",
   "execution_count": 132,
   "id": "62c72f0a",
   "metadata": {},
   "outputs": [],
   "source": [
    "import numpy as np\n",
    "gp = np.array([[76,55,43,44], [54,66,55,34], [66,77,66,55]])"
   ]
  },
  {
   "cell_type": "code",
   "execution_count": 133,
   "id": "86b9e449",
   "metadata": {},
   "outputs": [
    {
     "data": {
      "text/plain": [
       "array([[76, 55, 43, 44],\n",
       "       [54, 66, 55, 34],\n",
       "       [66, 77, 66, 55]])"
      ]
     },
     "execution_count": 133,
     "metadata": {},
     "output_type": "execute_result"
    }
   ],
   "source": [
    "gp"
   ]
  },
  {
   "cell_type": "code",
   "execution_count": 135,
   "id": "f89ed8e9",
   "metadata": {},
   "outputs": [],
   "source": [
    "b = gp.T"
   ]
  },
  {
   "cell_type": "code",
   "execution_count": 136,
   "id": "274fef02",
   "metadata": {},
   "outputs": [
    {
     "data": {
      "text/plain": [
       "array([[76, 54, 66],\n",
       "       [55, 66, 77],\n",
       "       [43, 55, 66],\n",
       "       [44, 34, 55]])"
      ]
     },
     "execution_count": 136,
     "metadata": {},
     "output_type": "execute_result"
    }
   ],
   "source": [
    "b"
   ]
  },
  {
   "cell_type": "code",
   "execution_count": 137,
   "id": "c36f783f",
   "metadata": {},
   "outputs": [
    {
     "name": "stdout",
     "output_type": "stream",
     "text": [
      "76\n",
      "55\n",
      "43\n",
      "44\n",
      "54\n",
      "66\n",
      "55\n",
      "34\n",
      "66\n",
      "77\n",
      "66\n",
      "55\n"
     ]
    }
   ],
   "source": [
    "for x in np.nditer(b):\n",
    "    print(x)"
   ]
  },
  {
   "cell_type": "code",
   "execution_count": 138,
   "id": "6c103f89",
   "metadata": {},
   "outputs": [],
   "source": [
    "#concatenate\n",
    "\n",
    "gp1 = np.array([[79,44,55,44],[34,54,43,67], [46, 65,53,35]])\n",
    "gp2 = np.array([[45, 56, 65,45],[34,45,12,54], [44,45,12,45]])"
   ]
  },
  {
   "cell_type": "code",
   "execution_count": 139,
   "id": "5ce110d7",
   "metadata": {},
   "outputs": [
    {
     "data": {
      "text/plain": [
       "array([[79, 44, 55, 44],\n",
       "       [34, 54, 43, 67],\n",
       "       [46, 65, 53, 35]])"
      ]
     },
     "execution_count": 139,
     "metadata": {},
     "output_type": "execute_result"
    }
   ],
   "source": [
    "gp1\n",
    "\n"
   ]
  },
  {
   "cell_type": "code",
   "execution_count": 140,
   "id": "fc74e818",
   "metadata": {},
   "outputs": [
    {
     "data": {
      "text/plain": [
       "array([[45, 56, 65, 45],\n",
       "       [34, 45, 12, 54],\n",
       "       [44, 45, 12, 45]])"
      ]
     },
     "execution_count": 140,
     "metadata": {},
     "output_type": "execute_result"
    }
   ],
   "source": [
    "gp2"
   ]
  },
  {
   "cell_type": "code",
   "execution_count": 142,
   "id": "69a3ef12",
   "metadata": {},
   "outputs": [
    {
     "data": {
      "text/plain": [
       "array([[79, 44, 55, 44],\n",
       "       [34, 54, 43, 67],\n",
       "       [46, 65, 53, 35],\n",
       "       [45, 56, 65, 45],\n",
       "       [34, 45, 12, 54],\n",
       "       [44, 45, 12, 45]])"
      ]
     },
     "execution_count": 142,
     "metadata": {},
     "output_type": "execute_result"
    }
   ],
   "source": [
    "np.concatenate((gp1,gp2), axis = 0)"
   ]
  },
  {
   "cell_type": "code",
   "execution_count": 143,
   "id": "d0794028",
   "metadata": {},
   "outputs": [
    {
     "data": {
      "text/plain": [
       "array([[79, 44, 55, 44, 45, 56, 65, 45],\n",
       "       [34, 54, 43, 67, 34, 45, 12, 54],\n",
       "       [46, 65, 53, 35, 44, 45, 12, 45]])"
      ]
     },
     "execution_count": 143,
     "metadata": {},
     "output_type": "execute_result"
    }
   ],
   "source": [
    "np.concatenate((gp1,gp2), axis = 1)"
   ]
  },
  {
   "cell_type": "code",
   "execution_count": 144,
   "id": "882a552c",
   "metadata": {},
   "outputs": [
    {
     "data": {
      "text/plain": [
       "array([[[79, 44, 55, 44],\n",
       "        [34, 54, 43, 67],\n",
       "        [46, 65, 53, 35]],\n",
       "\n",
       "       [[45, 56, 65, 45],\n",
       "        [34, 45, 12, 54],\n",
       "        [44, 45, 12, 45]]])"
      ]
     },
     "execution_count": 144,
     "metadata": {},
     "output_type": "execute_result"
    }
   ],
   "source": [
    "np.stack((gp1,gp2), axis=0)"
   ]
  },
  {
   "cell_type": "code",
   "execution_count": 147,
   "id": "81d73994",
   "metadata": {},
   "outputs": [
    {
     "data": {
      "text/plain": [
       "array([[[79, 44, 55, 44],\n",
       "        [45, 56, 65, 45]],\n",
       "\n",
       "       [[34, 54, 43, 67],\n",
       "        [34, 45, 12, 54]],\n",
       "\n",
       "       [[46, 65, 53, 35],\n",
       "        [44, 45, 12, 45]]])"
      ]
     },
     "execution_count": 147,
     "metadata": {},
     "output_type": "execute_result"
    }
   ],
   "source": [
    "np.stack((gp1,gp2), axis = 1) # 1st row of 1st matrix, and 1st row of 2nd matrix."
   ]
  },
  {
   "cell_type": "code",
   "execution_count": 148,
   "id": "632a3e34",
   "metadata": {},
   "outputs": [
    {
     "data": {
      "text/plain": [
       "array([[79, 44, 55, 44, 45, 56, 65, 45],\n",
       "       [34, 54, 43, 67, 34, 45, 12, 54],\n",
       "       [46, 65, 53, 35, 44, 45, 12, 45]])"
      ]
     },
     "execution_count": 148,
     "metadata": {},
     "output_type": "execute_result"
    }
   ],
   "source": [
    "np.hstack((gp1,gp2)) # This output is same as np.concatenate((gp1,gp2), axis = 1)"
   ]
  },
  {
   "cell_type": "code",
   "execution_count": 149,
   "id": "2b823e56",
   "metadata": {},
   "outputs": [
    {
     "data": {
      "text/plain": [
       "array([[79, 44, 55, 44, 45, 56, 65, 45],\n",
       "       [34, 54, 43, 67, 34, 45, 12, 54],\n",
       "       [46, 65, 53, 35, 44, 45, 12, 45]])"
      ]
     },
     "execution_count": 149,
     "metadata": {},
     "output_type": "execute_result"
    }
   ],
   "source": [
    "np.concatenate((gp1,gp2), axis = 1)"
   ]
  },
  {
   "cell_type": "code",
   "execution_count": 151,
   "id": "1b414c3c",
   "metadata": {},
   "outputs": [
    {
     "data": {
      "text/plain": [
       "array([[79, 44, 55, 44],\n",
       "       [34, 54, 43, 67],\n",
       "       [46, 65, 53, 35],\n",
       "       [45, 56, 65, 45],\n",
       "       [34, 45, 12, 54],\n",
       "       [44, 45, 12, 45]])"
      ]
     },
     "execution_count": 151,
     "metadata": {},
     "output_type": "execute_result"
    }
   ],
   "source": [
    "np.vstack((gp1,gp2)) # This output is same as np.concatenate((gp1,gp2), axis = 0)"
   ]
  },
  {
   "cell_type": "code",
   "execution_count": 152,
   "id": "c0f3f83a",
   "metadata": {},
   "outputs": [
    {
     "data": {
      "text/plain": [
       "array([[79, 44, 55, 44],\n",
       "       [34, 54, 43, 67],\n",
       "       [46, 65, 53, 35],\n",
       "       [45, 56, 65, 45],\n",
       "       [34, 45, 12, 54],\n",
       "       [44, 45, 12, 45]])"
      ]
     },
     "execution_count": 152,
     "metadata": {},
     "output_type": "execute_result"
    }
   ],
   "source": [
    " np.concatenate((gp1,gp2), axis = 0)"
   ]
  },
  {
   "cell_type": "code",
   "execution_count": 4,
   "id": "ac2be40a",
   "metadata": {},
   "outputs": [],
   "source": [
    "import numpy as np"
   ]
  },
  {
   "cell_type": "code",
   "execution_count": 2,
   "id": "34dda4a4",
   "metadata": {},
   "outputs": [],
   "source": [
    "gp = np.array([[79,62,33,45], [54,66,77,65]])"
   ]
  },
  {
   "cell_type": "code",
   "execution_count": 3,
   "id": "999f32ef",
   "metadata": {},
   "outputs": [
    {
     "data": {
      "text/plain": [
       "array([[79, 62, 33, 45],\n",
       "       [54, 66, 77, 65]])"
      ]
     },
     "execution_count": 3,
     "metadata": {},
     "output_type": "execute_result"
    }
   ],
   "source": [
    "gp"
   ]
  },
  {
   "cell_type": "code",
   "execution_count": 4,
   "id": "52a1e625",
   "metadata": {},
   "outputs": [
    {
     "data": {
      "text/plain": [
       "array([79, 62, 33, 45, 54, 66, 77, 65, 67, 32, 54, 76])"
      ]
     },
     "execution_count": 4,
     "metadata": {},
     "output_type": "execute_result"
    }
   ],
   "source": [
    "np.append(gp, [67,32,54,76])# It flattened the matrix to vector. Single row "
   ]
  },
  {
   "cell_type": "code",
   "execution_count": 5,
   "id": "72d60f46",
   "metadata": {},
   "outputs": [],
   "source": [
    "gp = np.array([[79,62,33,45], [54,66,77,65]])\n",
    "gp = np.append(gp, [[67,32,54,76]], axis = 0)"
   ]
  },
  {
   "cell_type": "code",
   "execution_count": 6,
   "id": "1d2c5312",
   "metadata": {},
   "outputs": [
    {
     "data": {
      "text/plain": [
       "array([[79, 62, 33, 45],\n",
       "       [54, 66, 77, 65],\n",
       "       [67, 32, 54, 76]])"
      ]
     },
     "execution_count": 6,
     "metadata": {},
     "output_type": "execute_result"
    }
   ],
   "source": [
    "import numpy as np\n",
    "gp"
   ]
  },
  {
   "cell_type": "code",
   "execution_count": 8,
   "id": "47cce06f",
   "metadata": {},
   "outputs": [
    {
     "ename": "ValueError",
     "evalue": "all the input array dimensions except for the concatenation axis must match exactly, but along dimension 0, the array at index 0 has size 2 and the array at index 1 has size 1",
     "output_type": "error",
     "traceback": [
      "\u001b[1;31m---------------------------------------------------------------------------\u001b[0m",
      "\u001b[1;31mValueError\u001b[0m                                Traceback (most recent call last)",
      "\u001b[1;32m<ipython-input-8-83871b8ba444>\u001b[0m in \u001b[0;36m<module>\u001b[1;34m\u001b[0m\n\u001b[0;32m      1\u001b[0m \u001b[0mgp\u001b[0m \u001b[1;33m=\u001b[0m \u001b[0mnp\u001b[0m\u001b[1;33m.\u001b[0m\u001b[0marray\u001b[0m\u001b[1;33m(\u001b[0m\u001b[1;33m[\u001b[0m\u001b[1;33m[\u001b[0m\u001b[1;36m79\u001b[0m\u001b[1;33m,\u001b[0m\u001b[1;36m62\u001b[0m\u001b[1;33m,\u001b[0m\u001b[1;36m33\u001b[0m\u001b[1;33m,\u001b[0m\u001b[1;36m45\u001b[0m\u001b[1;33m]\u001b[0m\u001b[1;33m,\u001b[0m \u001b[1;33m[\u001b[0m\u001b[1;36m54\u001b[0m\u001b[1;33m,\u001b[0m\u001b[1;36m66\u001b[0m\u001b[1;33m,\u001b[0m\u001b[1;36m77\u001b[0m\u001b[1;33m,\u001b[0m\u001b[1;36m65\u001b[0m\u001b[1;33m]\u001b[0m\u001b[1;33m]\u001b[0m\u001b[1;33m)\u001b[0m\u001b[1;33m\u001b[0m\u001b[1;33m\u001b[0m\u001b[0m\n\u001b[1;32m----> 2\u001b[1;33m \u001b[0mnp\u001b[0m\u001b[1;33m.\u001b[0m\u001b[0mappend\u001b[0m\u001b[1;33m(\u001b[0m\u001b[0mgp\u001b[0m\u001b[1;33m,\u001b[0m \u001b[1;33m[\u001b[0m\u001b[1;33m[\u001b[0m\u001b[1;36m67\u001b[0m\u001b[1;33m,\u001b[0m\u001b[1;36m32\u001b[0m\u001b[1;33m,\u001b[0m\u001b[1;36m54\u001b[0m\u001b[1;33m,\u001b[0m\u001b[1;36m76\u001b[0m\u001b[1;33m]\u001b[0m\u001b[1;33m]\u001b[0m\u001b[1;33m,\u001b[0m \u001b[0maxis\u001b[0m \u001b[1;33m=\u001b[0m \u001b[1;36m1\u001b[0m\u001b[1;33m)\u001b[0m\u001b[1;33m\u001b[0m\u001b[1;33m\u001b[0m\u001b[0m\n\u001b[0m",
      "\u001b[1;32m~\\anaconda3\\lib\\site-packages\\numpy\\core\\overrides.py\u001b[0m in \u001b[0;36mappend\u001b[1;34m(*args, **kwargs)\u001b[0m\n",
      "\u001b[1;32m~\\anaconda3\\lib\\site-packages\\numpy\\lib\\function_base.py\u001b[0m in \u001b[0;36mappend\u001b[1;34m(arr, values, axis)\u001b[0m\n\u001b[0;32m   5497\u001b[0m         \u001b[0mvalues\u001b[0m \u001b[1;33m=\u001b[0m \u001b[0mravel\u001b[0m\u001b[1;33m(\u001b[0m\u001b[0mvalues\u001b[0m\u001b[1;33m)\u001b[0m\u001b[1;33m\u001b[0m\u001b[1;33m\u001b[0m\u001b[0m\n\u001b[0;32m   5498\u001b[0m         \u001b[0maxis\u001b[0m \u001b[1;33m=\u001b[0m \u001b[0marr\u001b[0m\u001b[1;33m.\u001b[0m\u001b[0mndim\u001b[0m\u001b[1;33m-\u001b[0m\u001b[1;36m1\u001b[0m\u001b[1;33m\u001b[0m\u001b[1;33m\u001b[0m\u001b[0m\n\u001b[1;32m-> 5499\u001b[1;33m     \u001b[1;32mreturn\u001b[0m \u001b[0mconcatenate\u001b[0m\u001b[1;33m(\u001b[0m\u001b[1;33m(\u001b[0m\u001b[0marr\u001b[0m\u001b[1;33m,\u001b[0m \u001b[0mvalues\u001b[0m\u001b[1;33m)\u001b[0m\u001b[1;33m,\u001b[0m \u001b[0maxis\u001b[0m\u001b[1;33m=\u001b[0m\u001b[0maxis\u001b[0m\u001b[1;33m)\u001b[0m\u001b[1;33m\u001b[0m\u001b[1;33m\u001b[0m\u001b[0m\n\u001b[0m\u001b[0;32m   5500\u001b[0m \u001b[1;33m\u001b[0m\u001b[0m\n\u001b[0;32m   5501\u001b[0m \u001b[1;33m\u001b[0m\u001b[0m\n",
      "\u001b[1;32m~\\anaconda3\\lib\\site-packages\\numpy\\core\\overrides.py\u001b[0m in \u001b[0;36mconcatenate\u001b[1;34m(*args, **kwargs)\u001b[0m\n",
      "\u001b[1;31mValueError\u001b[0m: all the input array dimensions except for the concatenation axis must match exactly, but along dimension 0, the array at index 0 has size 2 and the array at index 1 has size 1"
     ]
    }
   ],
   "source": [
    "gp = np.array([[79,62,33,45], [54,66,77,65]])\n",
    "np.append(gp, [[67,32,54,76]], axis = 1)      # Since axis=1 is size by size concatenation so for 2 row we should have \n",
    "#2 rows to append."
   ]
  },
  {
   "cell_type": "code",
   "execution_count": 9,
   "id": "90e34647",
   "metadata": {},
   "outputs": [
    {
     "data": {
      "text/plain": [
       "array([[79, 62, 33, 45, 67, 32, 54, 76],\n",
       "       [54, 66, 77, 65, 54, 24, 65, 43]])"
      ]
     },
     "execution_count": 9,
     "metadata": {},
     "output_type": "execute_result"
    }
   ],
   "source": [
    "gp = np.array([[79,62,33,45], [54,66,77,65]])\n",
    "np.append(gp, [[67,32,54,76],[54,24,65,43]], axis = 1)"
   ]
  },
  {
   "cell_type": "code",
   "execution_count": 10,
   "id": "45d247f7",
   "metadata": {},
   "outputs": [
    {
     "data": {
      "text/plain": [
       "array([[79, 62, 33, 45],\n",
       "       [54, 66, 77, 65]])"
      ]
     },
     "execution_count": 10,
     "metadata": {},
     "output_type": "execute_result"
    }
   ],
   "source": [
    "gp"
   ]
  },
  {
   "cell_type": "code",
   "execution_count": 12,
   "id": "183ab8fc",
   "metadata": {},
   "outputs": [
    {
     "data": {
      "text/plain": [
       "array([[79, 62, 33, 45],\n",
       "       [54, 66, 77, 65],\n",
       "       [67, 32, 54, 76]])"
      ]
     },
     "execution_count": 12,
     "metadata": {},
     "output_type": "execute_result"
    }
   ],
   "source": [
    "gp"
   ]
  },
  {
   "cell_type": "code",
   "execution_count": 13,
   "id": "0316dc9d",
   "metadata": {},
   "outputs": [
    {
     "data": {
      "text/plain": [
       "array([79, 62, 33, 30, 20, 45, 54, 66, 77, 65, 67, 32, 54, 76])"
      ]
     },
     "execution_count": 13,
     "metadata": {},
     "output_type": "execute_result"
    }
   ],
   "source": [
    "np.insert(gp, 3, [30,20]) #Here the elements are added to the 3rd position and then the other elements from the matrix \n",
    "#is followed Also the matrix get flattened. "
   ]
  },
  {
   "cell_type": "code",
   "execution_count": 14,
   "id": "732d6b81",
   "metadata": {},
   "outputs": [
    {
     "data": {
      "text/plain": [
       "array([[79, 62, 33, 45],\n",
       "       [54, 66, 77, 65],\n",
       "       [67, 32, 54, 76]])"
      ]
     },
     "execution_count": 14,
     "metadata": {},
     "output_type": "execute_result"
    }
   ],
   "source": [
    "#we want to add some element at the row or column.\n",
    "\n",
    "gp"
   ]
  },
  {
   "cell_type": "code",
   "execution_count": 16,
   "id": "7de40ec1",
   "metadata": {},
   "outputs": [
    {
     "data": {
      "text/plain": [
       "array([[79, 62, 33, 45],\n",
       "       [30, 30, 30, 30],\n",
       "       [54, 66, 77, 65],\n",
       "       [67, 32, 54, 76]])"
      ]
     },
     "execution_count": 16,
     "metadata": {},
     "output_type": "execute_result"
    }
   ],
   "source": [
    "np.insert(gp,1,[30], axis = 0) # ROW at index number 1 is added. If we give single value, it will replicate.and"
   ]
  },
  {
   "cell_type": "code",
   "execution_count": 18,
   "id": "0fd7c651",
   "metadata": {},
   "outputs": [
    {
     "data": {
      "text/plain": [
       "array([[79, 62, 33, 45],\n",
       "       [30, 32, 22, 21],\n",
       "       [54, 66, 77, 65],\n",
       "       [67, 32, 54, 76]])"
      ]
     },
     "execution_count": 18,
     "metadata": {},
     "output_type": "execute_result"
    }
   ],
   "source": [
    "np.insert(gp,1,[30,32,22,21], axis = 0) # If we give the value as per the matrix numpy will add the same values.\n"
   ]
  },
  {
   "cell_type": "code",
   "execution_count": 19,
   "id": "8c0acf4d",
   "metadata": {},
   "outputs": [
    {
     "data": {
      "text/plain": [
       "array([[79, 62, 33, 45],\n",
       "       [54, 66, 77, 65],\n",
       "       [67, 32, 54, 76]])"
      ]
     },
     "execution_count": 19,
     "metadata": {},
     "output_type": "execute_result"
    }
   ],
   "source": [
    "gp"
   ]
  },
  {
   "cell_type": "code",
   "execution_count": 21,
   "id": "59dae73d",
   "metadata": {},
   "outputs": [
    {
     "data": {
      "text/plain": [
       "array([[79, 30, 62, 33, 45],\n",
       "       [54, 32, 66, 77, 65],\n",
       "       [67, 22, 32, 54, 76]])"
      ]
     },
     "execution_count": 21,
     "metadata": {},
     "output_type": "execute_result"
    }
   ],
   "source": [
    "np.insert(gp,1,[30,32,22], axis = 1) \n",
    "# Column is added."
   ]
  },
  {
   "cell_type": "code",
   "execution_count": 22,
   "id": "41edb9ba",
   "metadata": {},
   "outputs": [
    {
     "data": {
      "text/plain": [
       "array([[79, 62, 33, 45],\n",
       "       [54, 66, 77, 65],\n",
       "       [67, 32, 54, 76]])"
      ]
     },
     "execution_count": 22,
     "metadata": {},
     "output_type": "execute_result"
    }
   ],
   "source": [
    "gp"
   ]
  },
  {
   "cell_type": "code",
   "execution_count": 24,
   "id": "aa47a65d",
   "metadata": {},
   "outputs": [
    {
     "data": {
      "text/plain": [
       "array([79, 62, 33, 54, 66, 77, 65, 67, 32, 54, 76])"
      ]
     },
     "execution_count": 24,
     "metadata": {},
     "output_type": "execute_result"
    }
   ],
   "source": [
    "#delete\n",
    "np.delete(gp,3) # Here row1 index 3 is deleted. here we have not mentioned any axis."
   ]
  },
  {
   "cell_type": "code",
   "execution_count": 25,
   "id": "a93b6173",
   "metadata": {},
   "outputs": [
    {
     "data": {
      "text/plain": [
       "array([[79, 62, 33, 45],\n",
       "       [54, 66, 77, 65],\n",
       "       [67, 32, 54, 76]])"
      ]
     },
     "execution_count": 25,
     "metadata": {},
     "output_type": "execute_result"
    }
   ],
   "source": [
    "gp"
   ]
  },
  {
   "cell_type": "code",
   "execution_count": 26,
   "id": "8ae638b0",
   "metadata": {},
   "outputs": [
    {
     "data": {
      "text/plain": [
       "array([[79, 33, 45],\n",
       "       [54, 77, 65],\n",
       "       [67, 54, 76]])"
      ]
     },
     "execution_count": 26,
     "metadata": {},
     "output_type": "execute_result"
    }
   ],
   "source": [
    "np.delete(gp,1, axis = 1)"
   ]
  },
  {
   "cell_type": "code",
   "execution_count": 27,
   "id": "3fdc7f14",
   "metadata": {},
   "outputs": [
    {
     "data": {
      "text/plain": [
       "array([[79, 62, 33, 45],\n",
       "       [67, 32, 54, 76]])"
      ]
     },
     "execution_count": 27,
     "metadata": {},
     "output_type": "execute_result"
    }
   ],
   "source": [
    "np.delete(gp,1 , axis = 0)"
   ]
  },
  {
   "cell_type": "code",
   "execution_count": 28,
   "id": "a4c4d0e1",
   "metadata": {},
   "outputs": [
    {
     "data": {
      "text/plain": [
       "array([[79, 62, 33, 45],\n",
       "       [54, 66, 77, 65],\n",
       "       [67, 32, 54, 76]])"
      ]
     },
     "execution_count": 28,
     "metadata": {},
     "output_type": "execute_result"
    }
   ],
   "source": [
    "gp"
   ]
  },
  {
   "cell_type": "code",
   "execution_count": 31,
   "id": "3f19925c",
   "metadata": {},
   "outputs": [],
   "source": [
    "gp1 = np.delete(gp, np.s_[::2]) # This deleted 79,33,54,77,67,54"
   ]
  },
  {
   "cell_type": "code",
   "execution_count": 32,
   "id": "9aef5610",
   "metadata": {},
   "outputs": [
    {
     "data": {
      "text/plain": [
       "array([62, 45, 66, 65, 32, 76])"
      ]
     },
     "execution_count": 32,
     "metadata": {},
     "output_type": "execute_result"
    }
   ],
   "source": [
    "gp1"
   ]
  },
  {
   "cell_type": "code",
   "execution_count": 33,
   "id": "c80221e0",
   "metadata": {},
   "outputs": [
    {
     "data": {
      "text/plain": [
       "array([62, 33, 54, 66, 65, 67, 54, 76])"
      ]
     },
     "execution_count": 33,
     "metadata": {},
     "output_type": "execute_result"
    }
   ],
   "source": [
    "np.delete(gp, np.s_[::3])"
   ]
  },
  {
   "cell_type": "code",
   "execution_count": 34,
   "id": "ec282732",
   "metadata": {},
   "outputs": [
    {
     "data": {
      "text/plain": [
       "array([33, 45, 74])"
      ]
     },
     "execution_count": 34,
     "metadata": {},
     "output_type": "execute_result"
    }
   ],
   "source": [
    "a = np.array([74,33,45,45])\n",
    "np.unique(a)"
   ]
  },
  {
   "cell_type": "code",
   "execution_count": 35,
   "id": "d16ba6cb",
   "metadata": {},
   "outputs": [
    {
     "data": {
      "text/plain": [
       "array([32, 33, 45, 54, 62, 65, 66, 67, 76, 77, 79])"
      ]
     },
     "execution_count": 35,
     "metadata": {},
     "output_type": "execute_result"
    }
   ],
   "source": [
    "np.unique(gp) # giving unique values but flattening."
   ]
  },
  {
   "cell_type": "code",
   "execution_count": 36,
   "id": "43712ed5",
   "metadata": {},
   "outputs": [
    {
     "data": {
      "text/plain": [
       "array([74, 33, 45, 45])"
      ]
     },
     "execution_count": 36,
     "metadata": {},
     "output_type": "execute_result"
    }
   ],
   "source": [
    "a"
   ]
  },
  {
   "cell_type": "code",
   "execution_count": 38,
   "id": "f01336d9",
   "metadata": {},
   "outputs": [
    {
     "data": {
      "text/plain": [
       "(array([33, 45, 74]), array([1, 2, 0], dtype=int64))"
      ]
     },
     "execution_count": 38,
     "metadata": {},
     "output_type": "execute_result"
    }
   ],
   "source": [
    "np.unique(a, return_index= True) # sorting the elements and giving the index number as well."
   ]
  },
  {
   "cell_type": "code",
   "execution_count": 39,
   "id": "6abe72c1",
   "metadata": {},
   "outputs": [],
   "source": [
    "#Arithmetic Operations\n",
    "\n",
    "gp1 = np.array([[54,33,44,33], [54,33,33,22]])\n",
    "gp2 = np.array([[54,22,12,11], [76,55,33,22]])"
   ]
  },
  {
   "cell_type": "code",
   "execution_count": 40,
   "id": "92fbb4a4",
   "metadata": {},
   "outputs": [
    {
     "data": {
      "text/plain": [
       "array([[54, 33, 44, 33],\n",
       "       [54, 33, 33, 22]])"
      ]
     },
     "execution_count": 40,
     "metadata": {},
     "output_type": "execute_result"
    }
   ],
   "source": [
    "gp1"
   ]
  },
  {
   "cell_type": "code",
   "execution_count": 41,
   "id": "bff9a5f3",
   "metadata": {},
   "outputs": [
    {
     "data": {
      "text/plain": [
       "array([[54, 22, 12, 11],\n",
       "       [76, 55, 33, 22]])"
      ]
     },
     "execution_count": 41,
     "metadata": {},
     "output_type": "execute_result"
    }
   ],
   "source": [
    "gp2"
   ]
  },
  {
   "cell_type": "code",
   "execution_count": 42,
   "id": "9735cc00",
   "metadata": {},
   "outputs": [
    {
     "data": {
      "text/plain": [
       "array([[108,  55,  56,  44],\n",
       "       [130,  88,  66,  44]])"
      ]
     },
     "execution_count": 42,
     "metadata": {},
     "output_type": "execute_result"
    }
   ],
   "source": [
    "gp1+gp2"
   ]
  },
  {
   "cell_type": "code",
   "execution_count": 43,
   "id": "977cf533",
   "metadata": {},
   "outputs": [
    {
     "data": {
      "text/plain": [
       "array([[108,  55,  56,  44],\n",
       "       [130,  88,  66,  44]])"
      ]
     },
     "execution_count": 43,
     "metadata": {},
     "output_type": "execute_result"
    }
   ],
   "source": [
    "np.add(gp1,gp2)"
   ]
  },
  {
   "cell_type": "code",
   "execution_count": 45,
   "id": "a44109dc",
   "metadata": {},
   "outputs": [
    {
     "data": {
      "text/plain": [
       "array([[54, 33, 44, 33],\n",
       "       [54, 33, 33, 22]])"
      ]
     },
     "execution_count": 45,
     "metadata": {},
     "output_type": "execute_result"
    }
   ],
   "source": [
    "gp1"
   ]
  },
  {
   "cell_type": "code",
   "execution_count": 46,
   "id": "eb523c51",
   "metadata": {},
   "outputs": [
    {
     "data": {
      "text/plain": [
       "array([[54, 22, 12, 11],\n",
       "       [76, 55, 33, 22]])"
      ]
     },
     "execution_count": 46,
     "metadata": {},
     "output_type": "execute_result"
    }
   ],
   "source": [
    "gp2"
   ]
  },
  {
   "cell_type": "code",
   "execution_count": 44,
   "id": "50c8b298",
   "metadata": {},
   "outputs": [
    {
     "data": {
      "text/plain": [
       "array([[  0,  11,  32,  22],\n",
       "       [-22, -22,   0,   0]])"
      ]
     },
     "execution_count": 44,
     "metadata": {},
     "output_type": "execute_result"
    }
   ],
   "source": [
    "np.subtract(gp1,gp2)"
   ]
  },
  {
   "cell_type": "code",
   "execution_count": 47,
   "id": "f5fca487",
   "metadata": {},
   "outputs": [
    {
     "data": {
      "text/plain": [
       "array([[2916,  726,  528,  363],\n",
       "       [4104, 1815, 1089,  484]])"
      ]
     },
     "execution_count": 47,
     "metadata": {},
     "output_type": "execute_result"
    }
   ],
   "source": [
    "np.multiply(gp1,gp2)"
   ]
  },
  {
   "cell_type": "code",
   "execution_count": 48,
   "id": "57bd298b",
   "metadata": {},
   "outputs": [
    {
     "data": {
      "text/plain": [
       "array([[1.        , 1.5       , 3.66666667, 3.        ],\n",
       "       [0.71052632, 0.6       , 1.        , 1.        ]])"
      ]
     },
     "execution_count": 48,
     "metadata": {},
     "output_type": "execute_result"
    }
   ],
   "source": [
    "np.divide(gp1,gp2)"
   ]
  },
  {
   "cell_type": "code",
   "execution_count": 49,
   "id": "49bc83a2",
   "metadata": {},
   "outputs": [
    {
     "data": {
      "text/plain": [
       "array([[1., 2., 4., 3.],\n",
       "       [1., 1., 1., 1.]])"
      ]
     },
     "execution_count": 49,
     "metadata": {},
     "output_type": "execute_result"
    }
   ],
   "source": [
    "np.round(np.divide(gp1,gp2))"
   ]
  },
  {
   "cell_type": "code",
   "execution_count": 50,
   "id": "a60af3f3",
   "metadata": {},
   "outputs": [
    {
     "data": {
      "text/plain": [
       "array([[2916, 1089, 1936, 1089],\n",
       "       [2916, 1089, 1089,  484]], dtype=int32)"
      ]
     },
     "execution_count": 50,
     "metadata": {},
     "output_type": "execute_result"
    }
   ],
   "source": [
    "np.power(gp1,2)"
   ]
  },
  {
   "cell_type": "code",
   "execution_count": 51,
   "id": "ee307767",
   "metadata": {},
   "outputs": [
    {
     "data": {
      "text/plain": [
       "array([[54, 33, 44, 33],\n",
       "       [54, 33, 33, 22]])"
      ]
     },
     "execution_count": 51,
     "metadata": {},
     "output_type": "execute_result"
    }
   ],
   "source": [
    "gp1"
   ]
  },
  {
   "cell_type": "code",
   "execution_count": 52,
   "id": "329d3e42",
   "metadata": {},
   "outputs": [],
   "source": [
    "power = [1,2,3,4]"
   ]
  },
  {
   "cell_type": "code",
   "execution_count": 54,
   "id": "fb062d68",
   "metadata": {},
   "outputs": [
    {
     "data": {
      "text/plain": [
       "array([[     54,    1089,   85184, 1185921],\n",
       "       [     54,    1089,   35937,  234256]])"
      ]
     },
     "execution_count": 54,
     "metadata": {},
     "output_type": "execute_result"
    }
   ],
   "source": [
    "np.power(gp1,power) #here 1st column has raise to power1 , 2nd column has power raise to 2, third column has power raise\n",
    "# 3 and fourth column raise to power 4."
   ]
  },
  {
   "cell_type": "code",
   "execution_count": null,
   "id": "35abd49d",
   "metadata": {},
   "outputs": [],
   "source": []
  }
 ],
 "metadata": {
  "kernelspec": {
   "display_name": "Python 3",
   "language": "python",
   "name": "python3"
  },
  "language_info": {
   "codemirror_mode": {
    "name": "ipython",
    "version": 3
   },
   "file_extension": ".py",
   "mimetype": "text/x-python",
   "name": "python",
   "nbconvert_exporter": "python",
   "pygments_lexer": "ipython3",
   "version": "3.8.8"
  }
 },
 "nbformat": 4,
 "nbformat_minor": 5
}
