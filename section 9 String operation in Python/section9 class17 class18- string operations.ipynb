{
 "cells": [
  {
   "cell_type": "markdown",
   "id": "0c9fc699",
   "metadata": {},
   "source": [
    "#string Operations\n"
   ]
  },
  {
   "cell_type": "code",
   "execution_count": 8,
   "id": "c6cde3a5",
   "metadata": {},
   "outputs": [
    {
     "name": "stdout",
     "output_type": "stream",
     "text": [
      "Enter your city name: Mumbai\n",
      "your city is available\n"
     ]
    }
   ],
   "source": [
    "city = input(\"Enter your city name: \")\n",
    "list1 = ['Mumbai', 'Pune','Nagpur']\n",
    "if city in list1:\n",
    "    print('your city is available')\n",
    "else:\n",
    "    print(\"your city\", city, \"is not available\")"
   ]
  },
  {
   "cell_type": "code",
   "execution_count": 9,
   "id": "c723c676",
   "metadata": {},
   "outputs": [
    {
     "name": "stdout",
     "output_type": "stream",
     "text": [
      "Enter your city name: Gurgoan\n",
      "your city Gurgoan is not available\n"
     ]
    }
   ],
   "source": [
    "city = input(\"Enter your city name: \")\n",
    "list1 = ['Mumbai', 'Pune','Nagpur']\n",
    "if city in list1:\n",
    "    print('your city is available')\n",
    "else:\n",
    "    print(\"your city\", city, \"is not available\")"
   ]
  },
  {
   "cell_type": "code",
   "execution_count": 10,
   "id": "e28a961c",
   "metadata": {},
   "outputs": [
    {
     "name": "stdout",
     "output_type": "stream",
     "text": [
      "Enter your city name:  Mumbai\n",
      "your city  Mumbai is not available\n"
     ]
    }
   ],
   "source": [
    "city = input(\"Enter your city name: \")\n",
    "list1 = ['Mumbai', 'Pune','Nagpur']\n",
    "if city in list1:\n",
    "    print('your city is available')\n",
    "else:\n",
    "    print(\"your city\", city, \"is not available\") # given space befor Mumbai, so showing not available"
   ]
  },
  {
   "cell_type": "code",
   "execution_count": 12,
   "id": "11680b5f",
   "metadata": {},
   "outputs": [
    {
     "name": "stdout",
     "output_type": "stream",
     "text": [
      "Enter your city name: Mumbai\n",
      "your city is available\n"
     ]
    }
   ],
   "source": [
    "city = input(\"Enter your city name: \")\n",
    "list1 = ['Mumbai', 'Pune','Nagpur']\n",
    "if city.strip() in list1:\n",
    "    print('your city is available')\n",
    "else:\n",
    "    print(\"your city\", city, \"is not available\")"
   ]
  },
  {
   "cell_type": "code",
   "execution_count": 14,
   "id": "74091ba5",
   "metadata": {},
   "outputs": [
    {
     "name": "stdout",
     "output_type": "stream",
     "text": [
      "Enter your city name:  Mumbai\n",
      "your city is available\n"
     ]
    }
   ],
   "source": [
    "city = input(\"Enter your city name: \")\n",
    "list1 = ['Mumbai', 'Pune','Nagpur']\n",
    "if city.lstrip() in list1:\n",
    "    print('your city is available')\n",
    "else:\n",
    "    print(\"your city\", city, \"is not available\")"
   ]
  },
  {
   "cell_type": "code",
   "execution_count": 15,
   "id": "431de5a0",
   "metadata": {},
   "outputs": [
    {
     "name": "stdout",
     "output_type": "stream",
     "text": [
      "Enter your city name: Mumbai \n",
      "your city is available\n"
     ]
    }
   ],
   "source": [
    "city = input(\"Enter your city name: \")\n",
    "list1 = ['Mumbai', 'Pune','Nagpur']\n",
    "if city.rstrip() in list1:\n",
    "    print('your city is available')\n",
    "else:\n",
    "    print(\"your city\", city, \"is not available\")"
   ]
  },
  {
   "cell_type": "code",
   "execution_count": 18,
   "id": "bc82ea45",
   "metadata": {},
   "outputs": [
    {
     "name": "stdout",
     "output_type": "stream",
     "text": [
      "5\n",
      "-1\n"
     ]
    }
   ],
   "source": [
    "s= \"RahulTiwariRahulTiwari\"\n",
    "print(s.find('Tiwari'))\n",
    "print(s.find('sharma'))\n",
    "\n"
   ]
  },
  {
   "cell_type": "code",
   "execution_count": null,
   "id": "2fa55f2e",
   "metadata": {},
   "outputs": [],
   "source": [
    "#substring present or not\n",
    "#find()\n",
    "#Return the index of the 1st match only(from left to right)\n",
    "#if s is the variable as we have used then\n",
    "# s.find(substring,start,end)\n",
    "#If the value is not present it will return -1(It is not reverse index)"
   ]
  },
  {
   "cell_type": "code",
   "execution_count": 20,
   "id": "d30029a5",
   "metadata": {},
   "outputs": [
    {
     "name": "stdout",
     "output_type": "stream",
     "text": [
      "16\n"
     ]
    }
   ],
   "source": [
    "s= \"RahulTiwariRahulTiwari\"\n",
    "print(s.find('Tiwari',7,22)) # 7,22 is start index and end index(range )\n"
   ]
  },
  {
   "cell_type": "code",
   "execution_count": 21,
   "id": "204da240",
   "metadata": {},
   "outputs": [
    {
     "name": "stdout",
     "output_type": "stream",
     "text": [
      "16\n"
     ]
    }
   ],
   "source": [
    "# rfind() reverse direction, but index from left to right\n",
    "s= \"RahulTiwariRahulTiwari\"\n",
    "print(s.rfind('Tiwari'))\n"
   ]
  },
  {
   "cell_type": "code",
   "execution_count": 22,
   "id": "317b22ba",
   "metadata": {},
   "outputs": [
    {
     "name": "stdout",
     "output_type": "stream",
     "text": [
      "5\n"
     ]
    }
   ],
   "source": [
    "s= \"RahulTiwariRahulTiwari\"\n",
    "print(s.index('T'))"
   ]
  },
  {
   "cell_type": "code",
   "execution_count": 23,
   "id": "01a0309f",
   "metadata": {},
   "outputs": [
    {
     "name": "stdout",
     "output_type": "stream",
     "text": [
      "16\n"
     ]
    }
   ],
   "source": [
    " s= \"RahulTiwariRahulTiwari\"\n",
    "print(s.index('T',7,22))"
   ]
  },
  {
   "cell_type": "code",
   "execution_count": 24,
   "id": "eb4c5384",
   "metadata": {},
   "outputs": [
    {
     "name": "stdout",
     "output_type": "stream",
     "text": [
      "21\n"
     ]
    }
   ],
   "source": [
    "s= \"RahulTiwariRahulTiwari\"\n",
    "print(s.rindex('i'))"
   ]
  },
  {
   "cell_type": "code",
   "execution_count": 25,
   "id": "c3eba82d",
   "metadata": {},
   "outputs": [
    {
     "name": "stdout",
     "output_type": "stream",
     "text": [
      "Enter main stringRahul Tiwari\n",
      "enter substringTiwari\n",
      "Substring found\n"
     ]
    }
   ],
   "source": [
    "s = input(\"Enter main string\")\n",
    "sub = input(\"enter substring\")\n",
    "try:\n",
    "    n = s.index(sub)\n",
    "except ValueError:\n",
    "    print(\"Substring is not found in the main string\")\n",
    "else:\n",
    "    print(\"Substring found\")\n",
    "    "
   ]
  },
  {
   "cell_type": "code",
   "execution_count": 26,
   "id": "ebc2524e",
   "metadata": {},
   "outputs": [
    {
     "name": "stdout",
     "output_type": "stream",
     "text": [
      "Enter main stringrahhhhhuuullllllluulllllll\n",
      "Enter substringh\n",
      "found at index: 2\n",
      "found at index: 3\n",
      "found at index: 4\n",
      "found at index: 5\n",
      "found at index: 6\n"
     ]
    }
   ],
   "source": [
    "# all the occurences of the value in the string need to find\n",
    "s  = input(\"Enter main string\")\n",
    "sub = input(\"Enter substring\")\n",
    "flag = False\n",
    "pos = -1 #position\n",
    "n = len(s) \n",
    "while True:\n",
    "    pos = s.find(sub,pos+1,n) \n",
    "    if pos==-1:\n",
    "        break\n",
    "    print(\"found at index:\", pos)\n",
    "    flag = True\n",
    "if flag == False:\n",
    "    print('Not found')"
   ]
  },
  {
   "cell_type": "code",
   "execution_count": 27,
   "id": "a6a19e0e",
   "metadata": {},
   "outputs": [
    {
     "name": "stdout",
     "output_type": "stream",
     "text": [
      "Enter main stringrahulllllllllllllll\n",
      "Enter substringl\n",
      "found at index: 4\n",
      "found at index: 5\n",
      "found at index: 6\n",
      "found at index: 7\n",
      "found at index: 8\n",
      "found at index: 9\n",
      "found at index: 10\n",
      "found at index: 11\n",
      "found at index: 12\n",
      "found at index: 13\n",
      "found at index: 14\n",
      "found at index: 15\n",
      "found at index: 16\n",
      "found at index: 17\n",
      "found at index: 18\n",
      "The count is:  15\n"
     ]
    }
   ],
   "source": [
    "s  = input(\"Enter main string\")\n",
    "sub = input(\"Enter substring\")\n",
    "flag = False\n",
    "pos = -1 #position\n",
    "n = len(s) \n",
    "count= 0\n",
    "while True:\n",
    "    pos = s.find(sub,pos+1,n) \n",
    "    if pos==-1:\n",
    "        break\n",
    "    print(\"found at index:\", pos)\n",
    "    flag = True\n",
    "    count = count+1\n",
    "if flag == False:\n",
    "    print('Not found')\n",
    "print(\"The count is: \", count)"
   ]
  },
  {
   "cell_type": "code",
   "execution_count": 28,
   "id": "6fe6c5df",
   "metadata": {},
   "outputs": [
    {
     "name": "stdout",
     "output_type": "stream",
     "text": [
      "2\n"
     ]
    }
   ],
   "source": [
    "#Counting the substring in the given string\n",
    "s = 'rahultiwarirahultiwari'\n",
    "print(s.count('rahul'))"
   ]
  },
  {
   "cell_type": "code",
   "execution_count": 31,
   "id": "51e7cd1b",
   "metadata": {},
   "outputs": [
    {
     "name": "stdout",
     "output_type": "stream",
     "text": [
      "Enter main stringrahhhhuuuullllllllhhhhllll\n",
      "Enter substringh\n",
      "found at index: 2\n",
      "found at index: 3\n",
      "found at index: 4\n",
      "found at index: 5\n",
      "found at index: 18\n",
      "found at index: 19\n",
      "found at index: 20\n",
      "found at index: 21\n",
      "8\n"
     ]
    }
   ],
   "source": [
    "s  = input(\"Enter main string\")\n",
    "sub = input(\"Enter substring\")\n",
    "flag = False\n",
    "pos = -1 #position\n",
    "n = len(s) \n",
    "#count= 0\n",
    "while True:\n",
    "    pos = s.find(sub,pos+1,n) \n",
    "    if pos==-1:\n",
    "        break\n",
    "    print(\"found at index:\", pos)\n",
    "    flag = True\n",
    "    #count = count+1\n",
    "if flag == False:\n",
    "    print('Not found')\n",
    "print(s.count(sub))"
   ]
  },
  {
   "cell_type": "code",
   "execution_count": 35,
   "id": "df5ca889",
   "metadata": {},
   "outputs": [
    {
     "name": "stdout",
     "output_type": "stream",
     "text": [
      "1\n"
     ]
    }
   ],
   "source": [
    "#Counting the substring in the given string\n",
    "s = 'rahultiwarirahultiwari'\n",
    "print(s.count('rahul',3,20))"
   ]
  },
  {
   "cell_type": "code",
   "execution_count": 36,
   "id": "0053f805",
   "metadata": {},
   "outputs": [
    {
     "data": {
      "text/plain": [
       "'atharvtiwariatharvtiwari'"
      ]
     },
     "execution_count": 36,
     "metadata": {},
     "output_type": "execute_result"
    }
   ],
   "source": [
    "s = 'rahultiwarirahultiwari'\n",
    "s.replace('rahul','atharv')"
   ]
  },
  {
   "cell_type": "code",
   "execution_count": 37,
   "id": "215f21a4",
   "metadata": {},
   "outputs": [
    {
     "data": {
      "text/plain": [
       "'rahultiwarirahultiwari'"
      ]
     },
     "execution_count": 37,
     "metadata": {},
     "output_type": "execute_result"
    }
   ],
   "source": [
    "s"
   ]
  },
  {
   "cell_type": "code",
   "execution_count": 41,
   "id": "ababb804",
   "metadata": {},
   "outputs": [
    {
     "name": "stdout",
     "output_type": "stream",
     "text": [
      "2757246809840\n",
      "2757242024432\n"
     ]
    }
   ],
   "source": [
    "s = 'RahulTiwari'\n",
    "print(id(s))\n",
    "s = s.replace('Rahul', 'Atharv')\n",
    "print(id(s))"
   ]
  },
  {
   "cell_type": "code",
   "execution_count": 42,
   "id": "5db1fa73",
   "metadata": {},
   "outputs": [
    {
     "name": "stdout",
     "output_type": "stream",
     "text": [
      "['Rahul', 'Tiwari']\n"
     ]
    }
   ],
   "source": [
    "s = 'Rahul Tiwari'\n",
    "list = s.split()\n",
    "print(list)"
   ]
  },
  {
   "cell_type": "code",
   "execution_count": 43,
   "id": "cf42daac",
   "metadata": {},
   "outputs": [
    {
     "name": "stdout",
     "output_type": "stream",
     "text": [
      "['Rahul', 'Tiwari', 'Atharv']\n"
     ]
    }
   ],
   "source": [
    "s = 'Rahul-Tiwari-Atharv'\n",
    "list = s.split('-')\n",
    "print(list)"
   ]
  },
  {
   "cell_type": "code",
   "execution_count": 44,
   "id": "5a315a84",
   "metadata": {},
   "outputs": [
    {
     "name": "stdout",
     "output_type": "stream",
     "text": [
      "['Rahul', 'Tiwari', 'Atharv']\n",
      "Rahul\n",
      "Tiwari\n",
      "Atharv\n"
     ]
    }
   ],
   "source": [
    "s = 'Rahul-Tiwari-Atharv'\n",
    "list = s.split('-')\n",
    "print(list)\n",
    "for i in list:\n",
    "    print(i)"
   ]
  },
  {
   "cell_type": "code",
   "execution_count": 47,
   "id": "c2d2fa20",
   "metadata": {},
   "outputs": [
    {
     "name": "stdout",
     "output_type": "stream",
     "text": [
      "Rahul\n",
      "Tiwari\n",
      "Gurgaon Nagpur\n"
     ]
    }
   ],
   "source": [
    "s = 'Rahul Tiwari Gurgaon Nagpur'\n",
    "list1 = s.split(' ',2) #2 here describes how many string will be separated\n",
    "for x in list1:\n",
    "    print(x)"
   ]
  },
  {
   "cell_type": "code",
   "execution_count": 48,
   "id": "c7901c09",
   "metadata": {},
   "outputs": [
    {
     "name": "stdout",
     "output_type": "stream",
     "text": [
      "Rahul\n",
      "Tiwari\n",
      "Gurgaon\n",
      "Nagpur\n",
      "khushal\n",
      "Milind sneha Priyanka Paresh Ankush\n"
     ]
    }
   ],
   "source": [
    "s = 'Rahul Tiwari Gurgaon Nagpur khushal Milind sneha Priyanka Paresh Ankush'\n",
    "list1 = s.split(' ',5) #5 here describes how many string will be separated\n",
    "for x in list1:\n",
    "    print(x)"
   ]
  },
  {
   "cell_type": "code",
   "execution_count": 49,
   "id": "75e44643",
   "metadata": {},
   "outputs": [
    {
     "name": "stdout",
     "output_type": "stream",
     "text": [
      "RahulTiwariGurgaon\n"
     ]
    }
   ],
   "source": [
    "l = ['Rahul', 'Tiwari', 'Gurgaon']\n",
    "s = \"\".join(l)\n",
    "print(s)"
   ]
  },
  {
   "cell_type": "code",
   "execution_count": 50,
   "id": "ac27a9c3",
   "metadata": {},
   "outputs": [
    {
     "name": "stdout",
     "output_type": "stream",
     "text": [
      "Rahul+Tiwari+Gurgaon\n"
     ]
    }
   ],
   "source": [
    "l = ['Rahul', 'Tiwari', 'Gurgaon']\n",
    "s = \"+\".join(l)\n",
    "print(s)"
   ]
  },
  {
   "cell_type": "code",
   "execution_count": 53,
   "id": "4c37615b",
   "metadata": {},
   "outputs": [
    {
     "name": "stdout",
     "output_type": "stream",
     "text": [
      "RAHUL TIWARI IS A DATA SCIENTIST\n",
      "rahul tiwari is a data scientist\n",
      "rAHUL tIWARI IS A DATA SCIENTIST\n",
      "Rahul Tiwari Is A Data Scientist\n",
      "Rahul tiwari is a data scientist\n"
     ]
    }
   ],
   "source": [
    "s = 'Rahul Tiwari is a data scientist'\n",
    "print(s.upper())\n",
    "print(s.lower())\n",
    "print(s.swapcase())\n",
    "print(s.title())\n",
    "print(s.capitalize())"
   ]
  },
  {
   "cell_type": "code",
   "execution_count": 54,
   "id": "fc0bf76a",
   "metadata": {},
   "outputs": [
    {
     "name": "stdout",
     "output_type": "stream",
     "text": [
      "True\n",
      "True\n"
     ]
    }
   ],
   "source": [
    "#checking starting and ending part of the string.\n",
    "\n",
    "s = 'learning python is very easy'\n",
    "print(s.startswith('learning'))\n",
    "print(s.endswith('easy'))\n"
   ]
  },
  {
   "cell_type": "code",
   "execution_count": 56,
   "id": "f31f8940",
   "metadata": {},
   "outputs": [
    {
     "name": "stdout",
     "output_type": "stream",
     "text": [
      "True\n",
      "False\n"
     ]
    }
   ],
   "source": [
    "s = 'learning python is very easy'\n",
    "print(s.startswith('learning'))\n",
    "print(s.endswith('learning'))\n"
   ]
  },
  {
   "cell_type": "code",
   "execution_count": null,
   "id": "d3e29904",
   "metadata": {},
   "outputs": [],
   "source": [
    "# Type of character in the string\n",
    "isalnum()\n",
    "isalpha()\n",
    "isdigit()\n",
    "islower()\n",
    "isupper()\n",
    "istitle()\n",
    "isspace()\n",
    "    "
   ]
  },
  {
   "cell_type": "code",
   "execution_count": 57,
   "id": "41715b73",
   "metadata": {},
   "outputs": [
    {
     "name": "stdout",
     "output_type": "stream",
     "text": [
      "True\n"
     ]
    }
   ],
   "source": [
    "print('Rahul123'.isalnum())"
   ]
  },
  {
   "cell_type": "code",
   "execution_count": 59,
   "id": "9eba34c9",
   "metadata": {},
   "outputs": [
    {
     "name": "stdout",
     "output_type": "stream",
     "text": [
      "True\n",
      "False\n"
     ]
    }
   ],
   "source": [
    "print('Rahul'.isalnum())\n",
    "print('123'.isalpha())"
   ]
  },
  {
   "cell_type": "code",
   "execution_count": 60,
   "id": "05a646b9",
   "metadata": {},
   "outputs": [
    {
     "name": "stdout",
     "output_type": "stream",
     "text": [
      "False\n"
     ]
    }
   ],
   "source": [
    "print('$$$$'.isalnum())"
   ]
  },
  {
   "cell_type": "code",
   "execution_count": 61,
   "id": "84e8398c",
   "metadata": {},
   "outputs": [
    {
     "name": "stdout",
     "output_type": "stream",
     "text": [
      "True\n"
     ]
    }
   ],
   "source": [
    "print('Rahul'.isalpha())\n"
   ]
  },
  {
   "cell_type": "code",
   "execution_count": 62,
   "id": "c274f5be",
   "metadata": {},
   "outputs": [
    {
     "name": "stdout",
     "output_type": "stream",
     "text": [
      "True\n"
     ]
    }
   ],
   "source": [
    "print('123'.isdigit())"
   ]
  },
  {
   "cell_type": "code",
   "execution_count": 64,
   "id": "cfed024c",
   "metadata": {},
   "outputs": [
    {
     "name": "stdout",
     "output_type": "stream",
     "text": [
      "False\n"
     ]
    }
   ],
   "source": [
    "print('Rahul'.islower())"
   ]
  },
  {
   "cell_type": "code",
   "execution_count": 65,
   "id": "38149c0c",
   "metadata": {},
   "outputs": [
    {
     "name": "stdout",
     "output_type": "stream",
     "text": [
      "True\n"
     ]
    }
   ],
   "source": [
    "print('rahul'.islower())"
   ]
  },
  {
   "cell_type": "code",
   "execution_count": 66,
   "id": "ed58f10e",
   "metadata": {},
   "outputs": [
    {
     "name": "stdout",
     "output_type": "stream",
     "text": [
      "False\n"
     ]
    }
   ],
   "source": [
    "print('rahul'.isupper())"
   ]
  },
  {
   "cell_type": "code",
   "execution_count": 67,
   "id": "95e5e7b3",
   "metadata": {},
   "outputs": [
    {
     "name": "stdout",
     "output_type": "stream",
     "text": [
      "False\n"
     ]
    }
   ],
   "source": [
    "print('Rahul'.isupper())"
   ]
  },
  {
   "cell_type": "code",
   "execution_count": 68,
   "id": "560e092f",
   "metadata": {},
   "outputs": [
    {
     "name": "stdout",
     "output_type": "stream",
     "text": [
      "True\n"
     ]
    }
   ],
   "source": [
    "print('RAHUL'.isupper())"
   ]
  },
  {
   "cell_type": "code",
   "execution_count": 70,
   "id": "fe14188e",
   "metadata": {},
   "outputs": [
    {
     "name": "stdout",
     "output_type": "stream",
     "text": [
      "True\n"
     ]
    }
   ],
   "source": [
    "print('Rahul Tiwari'.istitle())"
   ]
  },
  {
   "cell_type": "code",
   "execution_count": 71,
   "id": "ebe04186",
   "metadata": {},
   "outputs": [
    {
     "name": "stdout",
     "output_type": "stream",
     "text": [
      "False\n"
     ]
    }
   ],
   "source": [
    "print('Rahul tiwari'.istitle())"
   ]
  },
  {
   "cell_type": "code",
   "execution_count": 72,
   "id": "d648ef1b",
   "metadata": {},
   "outputs": [
    {
     "name": "stdout",
     "output_type": "stream",
     "text": [
      "False\n"
     ]
    }
   ],
   "source": [
    "print('Rahul Tiwari'.isspace())"
   ]
  },
  {
   "cell_type": "code",
   "execution_count": 73,
   "id": "36de2a2b",
   "metadata": {},
   "outputs": [
    {
     "name": "stdout",
     "output_type": "stream",
     "text": [
      "False\n"
     ]
    }
   ],
   "source": [
    "print(''.isspace())"
   ]
  },
  {
   "cell_type": "code",
   "execution_count": 74,
   "id": "0615b8ef",
   "metadata": {},
   "outputs": [
    {
     "name": "stdout",
     "output_type": "stream",
     "text": [
      "Enter any character: rahul\n",
      "Alpha numeric character\n",
      "Alphabet character\n",
      "Lower case alphabet character\n"
     ]
    }
   ],
   "source": [
    "s = input(\"Enter any character: \")\n",
    "if s.isalnum():\n",
    "    print('Alpha numeric character')\n",
    "    if s.isalpha():\n",
    "        print(\"Alphabet character\")\n",
    "        if s.lower():\n",
    "            print('Lower case alphabet character')\n",
    "        else:\n",
    "            print('Upper case alphabet character')\n",
    "    else:\n",
    "        print('It is a digit')\n",
    "elif s.isspace():\n",
    "    print('It is a space character')\n",
    "else:\n",
    "    print('Non space special character')\n",
    "    \n",
    "    "
   ]
  },
  {
   "cell_type": "code",
   "execution_count": 75,
   "id": "ad7769b9",
   "metadata": {},
   "outputs": [
    {
     "name": "stdout",
     "output_type": "stream",
     "text": [
      "Enter any character: Rahul\n",
      "Alpha numeric character\n",
      "Alphabet character\n",
      "Lower case alphabet character\n"
     ]
    }
   ],
   "source": [
    "s = input(\"Enter any character: \")\n",
    "if s.isalnum():\n",
    "    print('Alpha numeric character')\n",
    "    if s.isalpha():\n",
    "        print(\"Alphabet character\")\n",
    "        if s.lower():\n",
    "            print('Lower case alphabet character')\n",
    "        else:\n",
    "            print('Upper case alphabet character')\n",
    "    else:\n",
    "        print('It is a digit')\n",
    "elif s.isspace():\n",
    "    print('It is a space character')\n",
    "else:\n",
    "    print('Non space special character')"
   ]
  },
  {
   "cell_type": "code",
   "execution_count": 77,
   "id": "8fc55ef2",
   "metadata": {},
   "outputs": [
    {
     "name": "stdout",
     "output_type": "stream",
     "text": [
      "Enter any character: Rahul\n",
      "Alpha numeric character\n",
      "Alphabet character\n",
      "Lower case alphabet character\n",
      "Title case alphabet character\n"
     ]
    }
   ],
   "source": [
    "s = input(\"Enter any character: \")\n",
    "if s.isalnum():\n",
    "    print('Alpha numeric character')\n",
    "    if s.isalpha():\n",
    "        print(\"Alphabet character\")\n",
    "        if s.lower():\n",
    "            print('Lower case alphabet character')\n",
    "            if s.title():\n",
    "                print('Title case alphabet character')\n",
    "        else:\n",
    "            print('Upper case alphabet character')\n",
    "    else:\n",
    "        print('It is a digit')\n",
    "elif s.isspace():\n",
    "    print('It is a space character')\n",
    "else:\n",
    "    print('Non space special character')"
   ]
  },
  {
   "cell_type": "code",
   "execution_count": 78,
   "id": "a47b9338",
   "metadata": {},
   "outputs": [
    {
     "name": "stdout",
     "output_type": "stream",
     "text": [
      "Enter any character: $$$$$\n",
      "Non space special character\n"
     ]
    }
   ],
   "source": [
    "s = input(\"Enter any character: \")\n",
    "if s.isalnum():\n",
    "    print('Alpha numeric character')\n",
    "    if s.isalpha():\n",
    "        print(\"Alphabet character\")\n",
    "        if s.lower():\n",
    "            print('Lower case alphabet character')\n",
    "            if s.title():\n",
    "                print('Title case alphabet character')\n",
    "        else:\n",
    "            print('Upper case alphabet character')\n",
    "    else:\n",
    "        print('It is a digit')\n",
    "elif s.isspace():\n",
    "    print('It is a space character')\n",
    "else:\n",
    "    print('Non space special character')"
   ]
  },
  {
   "cell_type": "code",
   "execution_count": 80,
   "id": "1b0a6541",
   "metadata": {},
   "outputs": [
    {
     "name": "stdout",
     "output_type": "stream",
     "text": [
      "Enter the string: Rahul\n"
     ]
    },
    {
     "data": {
      "text/plain": [
       "'luhaR'"
      ]
     },
     "execution_count": 80,
     "metadata": {},
     "output_type": "execute_result"
    }
   ],
   "source": [
    "s = input('Enter the string: ')\n",
    "s[::-1]"
   ]
  },
  {
   "cell_type": "code",
   "execution_count": 82,
   "id": "311164c0",
   "metadata": {},
   "outputs": [
    {
     "name": "stdout",
     "output_type": "stream",
     "text": [
      "Enter the string: Rahul\n",
      "l\n",
      "u\n",
      "h\n",
      "a\n",
      "R\n"
     ]
    }
   ],
   "source": [
    "s = input('Enter the string: ')\n",
    "reversed(s)\n",
    "for x in reversed(s):\n",
    "    print(x)\n"
   ]
  },
  {
   "cell_type": "code",
   "execution_count": 83,
   "id": "90c78cba",
   "metadata": {},
   "outputs": [
    {
     "name": "stdout",
     "output_type": "stream",
     "text": [
      "Enter the string: Rahul\n",
      "luhaR\n"
     ]
    }
   ],
   "source": [
    "s = input('Enter the string: ')\n",
    "print(''.join(reversed(s)))"
   ]
  },
  {
   "cell_type": "code",
   "execution_count": 84,
   "id": "1a3a67e3",
   "metadata": {},
   "outputs": [
    {
     "name": "stdout",
     "output_type": "stream",
     "text": [
      "Enter the string: Rahul\n",
      "luhaR"
     ]
    }
   ],
   "source": [
    "s = input('Enter the string: ')\n",
    "for x in reversed(s):\n",
    "    print(x, end=\"\")"
   ]
  },
  {
   "cell_type": "code",
   "execution_count": 86,
   "id": "849a4c28",
   "metadata": {},
   "outputs": [
    {
     "name": "stdout",
     "output_type": "stream",
     "text": [
      "Enter the string: Rahul\n",
      "4\n",
      "luhaR\n"
     ]
    }
   ],
   "source": [
    "s = input('Enter the string: ')\n",
    "i = len(s)-1   #len calculates the total number of string available\n",
    "print(i)\n",
    "output = ''\n",
    "while i>=0:\n",
    "    output = output+s[i]\n",
    "    i=i-1\n",
    "print(output)"
   ]
  },
  {
   "cell_type": "code",
   "execution_count": 87,
   "id": "bc0863f3",
   "metadata": {},
   "outputs": [],
   "source": [
    "#'Cognitive analytics private limited'\n",
    "# We want 'limited private analytics cognitive'"
   ]
  },
  {
   "cell_type": "code",
   "execution_count": 89,
   "id": "41d3731c",
   "metadata": {},
   "outputs": [
    {
     "name": "stdout",
     "output_type": "stream",
     "text": [
      "Enter some stringCognitive analytics private limited\n",
      "['Cognitive', 'analytics', 'private', 'limited']\n",
      "['limited', 'private', 'analytics', 'Cognitive']\n",
      "limited private analytics Cognitive\n"
     ]
    }
   ],
   "source": [
    "s = input(\"Enter some string\")\n",
    "list = s.split()\n",
    "print(list)\n",
    "l1 = []\n",
    "i=len(list)-1\n",
    "while i>=0:\n",
    "    l1.append(list[i])\n",
    "    i=i-1\n",
    "print(l1)\n",
    "output = ' '.join(l1)\n",
    "print(output)"
   ]
  },
  {
   "cell_type": "code",
   "execution_count": 103,
   "id": "62d6a87a",
   "metadata": {},
   "outputs": [
    {
     "name": "stdout",
     "output_type": "stream",
     "text": [
      "Enter some string: rahul tiwari\n",
      "['rahul', 'tiwari']\n",
      "['luhar', 'irawit']\n",
      "luhar irawit\n"
     ]
    }
   ],
   "source": [
    "#input = rahul tiwari\n",
    "#output = luharirawit\n",
    "\n",
    "s = input('Enter some string: ')\n",
    "l = s.split()\n",
    "print(l)\n",
    "l1 = []\n",
    "for x in l:\n",
    "    l1.append(x[::-1])\n",
    "print(l1)\n",
    "output = ' '.join(l1)\n",
    "print(output)"
   ]
  },
  {
   "cell_type": "code",
   "execution_count": null,
   "id": "f635e982",
   "metadata": {},
   "outputs": [],
   "source": [
    "#homework\n",
    "#some string\n",
    "#even index character\n",
    "#odd index character\n",
    "\n",
    "\n",
    "#s1 ='john'\n",
    "#s2 ='jame'\n",
    "#output = jjoahmne\n",
    "\n",
    "#input -B4A1D3\n",
    "#output = ABD134\n",
    "\n",
    "#input = a4b3c2\n",
    "#output =aaaabbbcc\n",
    "\n",
    "\n",
    "#input = a4k3b2\n",
    "#output = aeknbd"
   ]
  },
  {
   "cell_type": "code",
   "execution_count": 1,
   "id": "ea016dcc",
   "metadata": {},
   "outputs": [
    {
     "name": "stdout",
     "output_type": "stream",
     "text": [
      "Enter some string: Rahul\n",
      "Characters at even position: Rhl\n",
      "Characters at odd position: au\n"
     ]
    }
   ],
   "source": [
    "s = input('Enter some string: ')\n",
    "print('Characters at even position:', s[::2])\n",
    "print('Characters at odd position:', s[1::2])"
   ]
  },
  {
   "cell_type": "code",
   "execution_count": 2,
   "id": "0830579b",
   "metadata": {},
   "outputs": [
    {
     "name": "stdout",
     "output_type": "stream",
     "text": [
      "Enter some string: Rahul\n",
      "The characters at even position\n",
      "R,h,l,\n",
      "the character at odd position: \n",
      "a,u,"
     ]
    }
   ],
   "source": [
    "s = input(\"Enter some string: \")\n",
    "i = 0\n",
    "print(\"The characters at even position\")\n",
    "while i< len(s):\n",
    "    print(s[i], end = ',')\n",
    "    i=i+2\n",
    "print()\n",
    "print(\"the character at odd position: \")\n",
    "i=1\n",
    "while i<len(s):\n",
    "    print(s[i], end = ',')\n",
    "    i=i+2\n",
    "    "
   ]
  },
  {
   "cell_type": "code",
   "execution_count": 3,
   "id": "00dc920f",
   "metadata": {},
   "outputs": [
    {
     "name": "stdout",
     "output_type": "stream",
     "text": [
      "Enter some string: B4A1D3\n",
      "BAD\n",
      "413\n"
     ]
    }
   ],
   "source": [
    "#input -B4A1D3\n",
    "#output = ABD134\n",
    "s = input(\"Enter some string: \")\n",
    "s1 = s2 = output = ''\n",
    "for x in s:\n",
    "    if x.isalpha():\n",
    "        s1 = s1 + x\n",
    "    else:\n",
    "        s2 = s2 + x\n",
    "        \n",
    "print(s1)\n",
    "print(s2)"
   ]
  },
  {
   "cell_type": "code",
   "execution_count": 5,
   "id": "10f2966c",
   "metadata": {},
   "outputs": [
    {
     "name": "stdout",
     "output_type": "stream",
     "text": [
      "Enter some string: B4A1D3\n",
      "ABD134\n"
     ]
    }
   ],
   "source": [
    "s = input(\"Enter some string: \")\n",
    "s1 = s2 = output = ''\n",
    "for x in s:\n",
    "    if x.isalpha():\n",
    "        s1 = s1 + x\n",
    "    else:\n",
    "        s2 = s2 + x\n",
    "for x in sorted(s1):\n",
    "    output = output+x\n",
    "for x in sorted(s2):\n",
    "    output = output+x\n",
    "        \n",
    "print(output)"
   ]
  },
  {
   "cell_type": "code",
   "execution_count": 6,
   "id": "2ead1dd7",
   "metadata": {},
   "outputs": [
    {
     "name": "stdout",
     "output_type": "stream",
     "text": [
      "Enter some string: B4A1D3\n",
      "['1', '3', '4', 'A', 'B', 'D']\n"
     ]
    }
   ],
   "source": [
    "s = input(\"Enter some string: \")\n",
    "s1 = s2 = output = ''\n",
    "for x in s:\n",
    "    if x.isalpha():\n",
    "        s1 = s1 + x\n",
    "    else:\n",
    "        s2 = s2 + x\n",
    "output= s1+s2        \n",
    "print(sorted(output))"
   ]
  },
  {
   "cell_type": "code",
   "execution_count": 7,
   "id": "80d94923",
   "metadata": {},
   "outputs": [
    {
     "name": "stdout",
     "output_type": "stream",
     "text": [
      "Enter some string: rah253##\n",
      "ahr235\n"
     ]
    }
   ],
   "source": [
    "s = input(\"Enter some string: \")\n",
    "s1 = s2 = output = ''\n",
    "for x in s:\n",
    "    if x.isalpha():\n",
    "        s1 = s1 + x\n",
    "    elif x.isdigit():\n",
    "        s2 = s2 + x\n",
    "for x in sorted(s1):\n",
    "    output = output+x\n",
    "for x in sorted(s2):\n",
    "    output = output+x\n",
    "        \n",
    "print(output)"
   ]
  },
  {
   "cell_type": "code",
   "execution_count": 8,
   "id": "7ef9e823",
   "metadata": {},
   "outputs": [
    {
     "name": "stdout",
     "output_type": "stream",
     "text": [
      "Enter some string: a4b3c2\n",
      "aaaabbbcc\n"
     ]
    }
   ],
   "source": [
    "#input = a4b3c2\n",
    "#output =aaaabbbcc\n",
    "\n",
    "s = input(\"Enter some string: \")\n",
    "output = ''\n",
    "for x in s:\n",
    "    if x.isalpha():\n",
    "        output = output+x\n",
    "        previous = x\n",
    "    else:\n",
    "        output = output+previous*(int(x)-1)\n",
    "print(output)\n"
   ]
  },
  {
   "cell_type": "code",
   "execution_count": 2,
   "id": "cca634c8",
   "metadata": {},
   "outputs": [
    {
     "name": "stdout",
     "output_type": "stream",
     "text": [
      "Enter 1st string: Rahul\n",
      "Enter 2nd string: Rohit\n",
      "RRaohhuilt\n"
     ]
    }
   ],
   "source": [
    "#input1 = 'Rahul'\n",
    "#input1 = 'Rohit'\n",
    "#output = RRaohhuilt\n",
    "s1 = input('Enter 1st string: ')\n",
    "s2 = input('Enter 2nd string: ')\n",
    "output = ''\n",
    "i=j=0\n",
    "while i<len(s1) or j<len(s2):\n",
    "    output = output + s1[i] + s2[j]\n",
    "    i=i+1\n",
    "    j=j+1\n",
    "print(output)"
   ]
  },
  {
   "cell_type": "code",
   "execution_count": 3,
   "id": "368a6e24",
   "metadata": {},
   "outputs": [
    {
     "name": "stdout",
     "output_type": "stream",
     "text": [
      "Enter 1st string: Roli\n",
      "Enter 2nd string: Rahul\n",
      "RRoalhiul\n"
     ]
    }
   ],
   "source": [
    "s1 = input('Enter 1st string: ')\n",
    "s2 = input('Enter 2nd string: ')\n",
    "output = \"\"\n",
    "i=j=0\n",
    "while i<len(s1) or j<len(s2):\n",
    "    if i< len(s1):\n",
    "        output = output + s1[i]\n",
    "        i = i+1\n",
    "    if j < len(s2):\n",
    "        output = output +s2[j]\n",
    "        j = j+1\n",
    "print(output)"
   ]
  },
  {
   "cell_type": "code",
   "execution_count": null,
   "id": "5beff490",
   "metadata": {},
   "outputs": [],
   "source": []
  }
 ],
 "metadata": {
  "kernelspec": {
   "display_name": "Python 3",
   "language": "python",
   "name": "python3"
  },
  "language_info": {
   "codemirror_mode": {
    "name": "ipython",
    "version": 3
   },
   "file_extension": ".py",
   "mimetype": "text/x-python",
   "name": "python",
   "nbconvert_exporter": "python",
   "pygments_lexer": "ipython3",
   "version": "3.8.8"
  }
 },
 "nbformat": 4,
 "nbformat_minor": 5
}
