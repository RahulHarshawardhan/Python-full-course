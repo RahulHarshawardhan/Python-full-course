{
 "cells": [
  {
   "cell_type": "code",
   "execution_count": null,
   "id": "be1f9338",
   "metadata": {},
   "outputs": [],
   "source": [
    "#how to install python\n",
    "#functional programming- Borrowed from C programming\n",
    "#oops- C++\n",
    "#scripting language feature- perl & shell scripting\n",
    "#modular programming- Modula3\n",
    "#syntax from c and ABC programming"
   ]
  },
  {
   "cell_type": "code",
   "execution_count": null,
   "id": "1042c27c",
   "metadata": {},
   "outputs": [],
   "source": [
    "#features of python\n",
    "#Simple and easy to learn\n",
    "#open source programming Language-Jython\n",
    "#High level programming language- Human able to read and understand\n",
    "#Platform Independent- Can run the program in any machine or OS- Write once and run anywhere.\n",
    "#portability- Run on any operating system.\n",
    "#Dynamically Typed-  No need of declaring the variable type\n",
    "#Both OOPS & procedure oriented programming Language.\n",
    "#python is interpreted programming language. Python doesnot compile.\n",
    "#python is extensible programming language.- If acode in java, programme can run in python. native support from python.\n",
    "#Embedded programming language- We can use python in other programming language.\n",
    "#Rich libraries.\n"
   ]
  },
  {
   "cell_type": "code",
   "execution_count": null,
   "id": "60ad49e1",
   "metadata": {},
   "outputs": [],
   "source": [
    "from random import *\n",
    "for i in range(10):\n",
    "    print(randint(0,9),randint(0,9),randint(0,9),randint(0,9),randint(0,9),randint(0,9))"
   ]
  },
  {
   "cell_type": "code",
   "execution_count": null,
   "id": "f50291f9",
   "metadata": {},
   "outputs": [],
   "source": [
    "#limitation of python\n",
    "#performance wise it is bit slower because, it is an interpreted programming language.\n",
    "#mobile applications- python is not penetrated much into it.\n"
   ]
  },
  {
   "cell_type": "code",
   "execution_count": null,
   "id": "2e9589fe",
   "metadata": {},
   "outputs": [],
   "source": [
    "#flavour of python\n",
    "#cpython\n",
    "#jpython- jython\n",
    "#ironpython- Csharp and .net\n",
    "#pypy- improve the performance of python internally in pvm(PYTHON VIRTUAL MACHINE)- jit.\n",
    "#ruby python- Ruby programs.\n",
    "#Anaconda Python- Big data we require anaconda python\n",
    "#stackless- python concurrency- multip[le jobs running together.\n"
   ]
  },
  {
   "cell_type": "code",
   "execution_count": null,
   "id": "efe82b89",
   "metadata": {},
   "outputs": [],
   "source": [
    " #python identifiers\n",
    "    #A name in python is an identifier. variable name, class name, method name, function name.\n",
    "    \n",
    "    x=10\n",
    "    def f1():\n",
    "        \n",
    "    class test():"
   ]
  },
  {
   "cell_type": "code",
   "execution_count": null,
   "id": "07aa26bc",
   "metadata": {},
   "outputs": [],
   "source": [
    "#rules of defining identifiers in python.\n",
    "# alphabets(both upper and lower)\n",
    "#name (0-9)\n",
    "#underscores(_)\n",
    "money=100\n",
    "MONEY=50\n",
    "Money=200\n",
    "_money=19\n",
    "    \n"
   ]
  },
  {
   "cell_type": "code",
   "execution_count": null,
   "id": "b3350858",
   "metadata": {},
   "outputs": [],
   "source": [
    "#No limit on length of identifiers"
   ]
  },
  {
   "cell_type": "code",
   "execution_count": null,
   "id": "a52c142f",
   "metadata": {},
   "outputs": [],
   "source": [
    "#when we are creating an indentifier with _money- private variable\n",
    "#when we are creating an identifier with __money- strongly private \n",
    "\n",
    "#_main__\n",
    "#_dict__\n",
    "#language specific identifiers. Special variables defined by python."
   ]
  },
  {
   "cell_type": "code",
   "execution_count": null,
   "id": "8c4957ed",
   "metadata": {},
   "outputs": [],
   "source": [
    "# Reserved keywords."
   ]
  },
  {
   "cell_type": "code",
   "execution_count": null,
   "id": "14b2e23b",
   "metadata": {},
   "outputs": [],
   "source": [
    "#words with some meaning or functionality\n",
    "True, False, None\n",
    "and,or, not, is, if, else,elif, while, for\n",
    "break, continue, return, in, yield\n",
    "try, except, finally,raise, asser, import, from, as class, def, pass, global\n",
    "nonlocal, lambda, del, with \n",
    "\n",
    "# all the keywords consist of alphabets\n",
    "\n",
    "# Except True, False, and None rest of the keywords are only in the lowercase."
   ]
  },
  {
   "cell_type": "code",
   "execution_count": 1,
   "id": "da1a754e",
   "metadata": {},
   "outputs": [
    {
     "data": {
      "text/plain": [
       "35"
      ]
     },
     "execution_count": 1,
     "metadata": {},
     "output_type": "execute_result"
    }
   ],
   "source": [
    "import keyword\n",
    "keyword.kwlist\n",
    "len(keyword.kwlist)"
   ]
  },
  {
   "cell_type": "code",
   "execution_count": null,
   "id": "bff5eb26",
   "metadata": {},
   "outputs": [],
   "source": [
    "#Types of Datatypes\n",
    "#Int\n",
    "#Float\n",
    "#Complex\n",
    "#Bool\n",
    "#Str\n",
    "#Byte\n"
   ]
  },
  {
   "cell_type": "code",
   "execution_count": 1,
   "id": "259d6659",
   "metadata": {},
   "outputs": [
    {
     "name": "stdout",
     "output_type": "stream",
     "text": [
      "Requirement already satisfied: nbconvert in c:\\users\\rahul\\anaconda3\\lib\\site-packages (6.0.7)Note: you may need to restart the kernel to use updated packages.\n",
      "Requirement already satisfied: traitlets>=4.2 in c:\\users\\rahul\\anaconda3\\lib\\site-packages (from nbconvert) (5.0.5)\n",
      "Requirement already satisfied: pygments>=2.4.1 in c:\\users\\rahul\\anaconda3\\lib\\site-packages (from nbconvert) (2.8.1)\n",
      "Requirement already satisfied: entrypoints>=0.2.2 in c:\\users\\rahul\\anaconda3\\lib\\site-packages (from nbconvert) (0.3)\n",
      "Requirement already satisfied: defusedxml in c:\\users\\rahul\\anaconda3\\lib\\site-packages (from nbconvert) (0.7.1)\n",
      "Requirement already satisfied: jupyter-core in c:\\users\\rahul\\anaconda3\\lib\\site-packages (from nbconvert) (4.7.1)\n",
      "Requirement already satisfied: nbclient<0.6.0,>=0.5.0 in c:\\users\\rahul\\anaconda3\\lib\\site-packages (from nbconvert) (0.5.3)\n",
      "\n",
      "Requirement already satisfied: nbformat>=4.4 in c:\\users\\rahul\\anaconda3\\lib\\site-packages (from nbconvert) (5.1.3)\n",
      "Requirement already satisfied: pandocfilters>=1.4.1 in c:\\users\\rahul\\anaconda3\\lib\\site-packages (from nbconvert) (1.4.3)\n",
      "Requirement already satisfied: testpath in c:\\users\\rahul\\anaconda3\\lib\\site-packages (from nbconvert) (0.4.4)\n",
      "Requirement already satisfied: bleach in c:\\users\\rahul\\anaconda3\\lib\\site-packages (from nbconvert) (3.3.0)\n",
      "Requirement already satisfied: mistune<2,>=0.8.1 in c:\\users\\rahul\\anaconda3\\lib\\site-packages (from nbconvert) (0.8.4)\n",
      "Requirement already satisfied: jinja2>=2.4 in c:\\users\\rahul\\anaconda3\\lib\\site-packages (from nbconvert) (2.11.3)\n",
      "Requirement already satisfied: jupyterlab-pygments in c:\\users\\rahul\\anaconda3\\lib\\site-packages (from nbconvert) (0.1.2)\n",
      "Requirement already satisfied: MarkupSafe>=0.23 in c:\\users\\rahul\\anaconda3\\lib\\site-packages (from jinja2>=2.4->nbconvert) (1.1.1)\n",
      "Requirement already satisfied: async-generator in c:\\users\\rahul\\anaconda3\\lib\\site-packages (from nbclient<0.6.0,>=0.5.0->nbconvert) (1.10)\n",
      "Requirement already satisfied: nest-asyncio in c:\\users\\rahul\\anaconda3\\lib\\site-packages (from nbclient<0.6.0,>=0.5.0->nbconvert) (1.5.1)\n",
      "Requirement already satisfied: jupyter-client>=6.1.5 in c:\\users\\rahul\\anaconda3\\lib\\site-packages (from nbclient<0.6.0,>=0.5.0->nbconvert) (6.1.12)\n",
      "Requirement already satisfied: tornado>=4.1 in c:\\users\\rahul\\anaconda3\\lib\\site-packages (from jupyter-client>=6.1.5->nbclient<0.6.0,>=0.5.0->nbconvert) (6.1)\n",
      "Requirement already satisfied: pyzmq>=13 in c:\\users\\rahul\\anaconda3\\lib\\site-packages (from jupyter-client>=6.1.5->nbclient<0.6.0,>=0.5.0->nbconvert) (20.0.0)\n",
      "Requirement already satisfied: python-dateutil>=2.1 in c:\\users\\rahul\\anaconda3\\lib\\site-packages (from jupyter-client>=6.1.5->nbclient<0.6.0,>=0.5.0->nbconvert) (2.8.1)\n",
      "Requirement already satisfied: pywin32>=1.0 in c:\\users\\rahul\\anaconda3\\lib\\site-packages (from jupyter-core->nbconvert) (227)\n",
      "Requirement already satisfied: ipython-genutils in c:\\users\\rahul\\anaconda3\\lib\\site-packages (from nbformat>=4.4->nbconvert) (0.2.0)\n",
      "Requirement already satisfied: jsonschema!=2.5.0,>=2.4 in c:\\users\\rahul\\anaconda3\\lib\\site-packages (from nbformat>=4.4->nbconvert) (3.2.0)\n",
      "Requirement already satisfied: setuptools in c:\\users\\rahul\\anaconda3\\lib\\site-packages (from jsonschema!=2.5.0,>=2.4->nbformat>=4.4->nbconvert) (52.0.0.post20210125)\n",
      "Requirement already satisfied: pyrsistent>=0.14.0 in c:\\users\\rahul\\anaconda3\\lib\\site-packages (from jsonschema!=2.5.0,>=2.4->nbformat>=4.4->nbconvert) (0.17.3)\n",
      "Requirement already satisfied: six>=1.11.0 in c:\\users\\rahul\\anaconda3\\lib\\site-packages (from jsonschema!=2.5.0,>=2.4->nbformat>=4.4->nbconvert) (1.15.0)\n",
      "Requirement already satisfied: attrs>=17.4.0 in c:\\users\\rahul\\anaconda3\\lib\\site-packages (from jsonschema!=2.5.0,>=2.4->nbformat>=4.4->nbconvert) (20.3.0)\n",
      "Requirement already satisfied: webencodings in c:\\users\\rahul\\anaconda3\\lib\\site-packages (from bleach->nbconvert) (0.5.1)\n",
      "Requirement already satisfied: packaging in c:\\users\\rahul\\anaconda3\\lib\\site-packages (from bleach->nbconvert) (20.9)\n",
      "Requirement already satisfied: pyparsing>=2.0.2 in c:\\users\\rahul\\anaconda3\\lib\\site-packages (from packaging->bleach->nbconvert) (2.4.7)\n"
     ]
    }
   ],
   "source": [
    "pip install nbconvert"
   ]
  },
  {
   "cell_type": "code",
   "execution_count": null,
   "id": "13e776bb",
   "metadata": {},
   "outputs": [],
   "source": []
  },
  {
   "cell_type": "code",
   "execution_count": null,
   "id": "4ad0f465",
   "metadata": {},
   "outputs": [],
   "source": []
  },
  {
   "cell_type": "code",
   "execution_count": null,
   "id": "7b223b77",
   "metadata": {},
   "outputs": [],
   "source": []
  },
  {
   "cell_type": "code",
   "execution_count": null,
   "id": "b27d2006",
   "metadata": {},
   "outputs": [],
   "source": []
  }
 ],
 "metadata": {
  "kernelspec": {
   "display_name": "Python 3",
   "language": "python",
   "name": "python3"
  },
  "language_info": {
   "codemirror_mode": {
    "name": "ipython",
    "version": 3
   },
   "file_extension": ".py",
   "mimetype": "text/x-python",
   "name": "python",
   "nbconvert_exporter": "python",
   "pygments_lexer": "ipython3",
   "version": "3.8.8"
  }
 },
 "nbformat": 4,
 "nbformat_minor": 5
}
