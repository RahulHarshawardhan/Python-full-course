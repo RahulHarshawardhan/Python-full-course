{
 "cells": [
  {
   "cell_type": "code",
   "execution_count": 1,
   "id": "b870f717",
   "metadata": {},
   "outputs": [],
   "source": [
    "#Types Of Exception\n",
    "    #1) Predefined Exception/ Inbuild Exceptions\n",
    "    #2) User drfined exceptions also known as customized exceptions.    "
   ]
  },
  {
   "cell_type": "code",
   "execution_count": null,
   "id": "16de40eb",
   "metadata": {},
   "outputs": [],
   "source": [
    "# User Defined Exception\n",
    "    #Eg\n",
    "    # Bank ATM example\n",
    "    # "
   ]
  },
  {
   "cell_type": "code",
   "execution_count": 5,
   "id": "5cc584f9",
   "metadata": {},
   "outputs": [
    {
     "name": "stdout",
     "output_type": "stream",
     "text": [
      "Enter Age14\n"
     ]
    },
    {
     "ename": "TooYoungException",
     "evalue": "You are too young to see this movie.",
     "output_type": "error",
     "traceback": [
      "\u001b[1;31m---------------------------------------------------------------------------\u001b[0m",
      "\u001b[1;31mTooYoungException\u001b[0m                         Traceback (most recent call last)",
      "\u001b[1;32m<ipython-input-5-2b7331563e87>\u001b[0m in \u001b[0;36m<module>\u001b[1;34m\u001b[0m\n\u001b[0;32m     12\u001b[0m     \u001b[1;32mraise\u001b[0m \u001b[0mTooOldException\u001b[0m\u001b[1;33m(\u001b[0m\u001b[1;34m\"Please do not see the movie else it will be your last movie\"\u001b[0m\u001b[1;33m)\u001b[0m\u001b[1;33m\u001b[0m\u001b[1;33m\u001b[0m\u001b[0m\n\u001b[0;32m     13\u001b[0m \u001b[1;32melif\u001b[0m \u001b[0mage\u001b[0m \u001b[1;33m<\u001b[0m \u001b[1;36m18\u001b[0m\u001b[1;33m:\u001b[0m\u001b[1;33m\u001b[0m\u001b[1;33m\u001b[0m\u001b[0m\n\u001b[1;32m---> 14\u001b[1;33m     \u001b[1;32mraise\u001b[0m \u001b[0mTooYoungException\u001b[0m\u001b[1;33m(\u001b[0m\u001b[1;33m(\u001b[0m\u001b[1;34m\"You are too young to see this movie.\"\u001b[0m\u001b[1;33m)\u001b[0m\u001b[1;33m)\u001b[0m\u001b[1;33m\u001b[0m\u001b[1;33m\u001b[0m\u001b[0m\n\u001b[0m\u001b[0;32m     15\u001b[0m \u001b[1;33m\u001b[0m\u001b[0m\n\u001b[0;32m     16\u001b[0m \u001b[1;32melse\u001b[0m\u001b[1;33m:\u001b[0m\u001b[1;33m\u001b[0m\u001b[1;33m\u001b[0m\u001b[0m\n",
      "\u001b[1;31mTooYoungException\u001b[0m: You are too young to see this movie."
     ]
    }
   ],
   "source": [
    "class TooYoungException(Exception): # Exception here is parent class, TooYoungException is a child class.\n",
    "    def __init__(self,arg): # this is constructor\n",
    "        self.msg = arg\n",
    "        \n",
    "class TooOldException(Exception): # Exception here is parent class, TooYoungException is a child class.\n",
    "    def __init__(self,arg): # this is constructor\n",
    "        self.msg = arg\n",
    "\n",
    "age = int(input(\"Enter Age\"))\n",
    "\n",
    "if age > 60:\n",
    "    raise TooOldException(\"Please do not see the movie else it will be your last movie\")\n",
    "elif age < 18:\n",
    "    raise TooYoungException((\"You are too young to see this movie.\"))\n",
    "\n",
    "else:\n",
    "    print(\"Your ticket is confirmed\")\n",
    "        "
   ]
  },
  {
   "cell_type": "code",
   "execution_count": 1,
   "id": "ee5e1e7c",
   "metadata": {},
   "outputs": [
    {
     "name": "stdout",
     "output_type": "stream",
     "text": [
      "Number1:1\n",
      "Number2:0\n",
      "Error in your code:\n",
      "Result None\n"
     ]
    }
   ],
   "source": [
    "result = None\n",
    "x = int(input(\"Number1:\"))\n",
    "y = int(input(\"Number2:\"))\n",
    "\n",
    "try:\n",
    "    result = x/y\n",
    "except:\n",
    "    print(\"Error in your code:\")\n",
    "    \n",
    "print(\"Result\", result)"
   ]
  },
  {
   "cell_type": "code",
   "execution_count": 2,
   "id": "4343eb9a",
   "metadata": {},
   "outputs": [
    {
     "name": "stdout",
     "output_type": "stream",
     "text": [
      "Number1:10\n",
      "Number2:a\n"
     ]
    },
    {
     "ename": "ValueError",
     "evalue": "invalid literal for int() with base 10: 'a'",
     "output_type": "error",
     "traceback": [
      "\u001b[1;31m---------------------------------------------------------------------------\u001b[0m",
      "\u001b[1;31mValueError\u001b[0m                                Traceback (most recent call last)",
      "\u001b[1;32m<ipython-input-2-816b7a25e10a>\u001b[0m in \u001b[0;36m<module>\u001b[1;34m\u001b[0m\n\u001b[0;32m      1\u001b[0m \u001b[0mresult\u001b[0m \u001b[1;33m=\u001b[0m \u001b[1;32mNone\u001b[0m\u001b[1;33m\u001b[0m\u001b[1;33m\u001b[0m\u001b[0m\n\u001b[0;32m      2\u001b[0m \u001b[0mx\u001b[0m \u001b[1;33m=\u001b[0m \u001b[0mint\u001b[0m\u001b[1;33m(\u001b[0m\u001b[0minput\u001b[0m\u001b[1;33m(\u001b[0m\u001b[1;34m\"Number1:\"\u001b[0m\u001b[1;33m)\u001b[0m\u001b[1;33m)\u001b[0m\u001b[1;33m\u001b[0m\u001b[1;33m\u001b[0m\u001b[0m\n\u001b[1;32m----> 3\u001b[1;33m \u001b[0my\u001b[0m \u001b[1;33m=\u001b[0m \u001b[0mint\u001b[0m\u001b[1;33m(\u001b[0m\u001b[0minput\u001b[0m\u001b[1;33m(\u001b[0m\u001b[1;34m\"Number2:\"\u001b[0m\u001b[1;33m)\u001b[0m\u001b[1;33m)\u001b[0m\u001b[1;33m\u001b[0m\u001b[1;33m\u001b[0m\u001b[0m\n\u001b[0m\u001b[0;32m      4\u001b[0m \u001b[1;33m\u001b[0m\u001b[0m\n\u001b[0;32m      5\u001b[0m \u001b[1;32mtry\u001b[0m\u001b[1;33m:\u001b[0m\u001b[1;33m\u001b[0m\u001b[1;33m\u001b[0m\u001b[0m\n",
      "\u001b[1;31mValueError\u001b[0m: invalid literal for int() with base 10: 'a'"
     ]
    }
   ],
   "source": [
    "result = None\n",
    "x = int(input(\"Number1:\"))\n",
    "y = int(input(\"Number2:\")) # Error came at y that is before try block. \n",
    "\n",
    "try:\n",
    "    result = x/y\n",
    "except:\n",
    "    print(\"Error in your code:\")\n",
    "    \n",
    "print(\"Result\", result)"
   ]
  },
  {
   "cell_type": "code",
   "execution_count": 5,
   "id": "b406068f",
   "metadata": {},
   "outputs": [
    {
     "name": "stdout",
     "output_type": "stream",
     "text": [
      "Number1:1\n",
      "Number2:a\n",
      "Error in your code:\n",
      "Result None\n"
     ]
    }
   ],
   "source": [
    "result = None\n",
    "\n",
    "try:\n",
    "    x = int(input(\"Number1:\"))\n",
    "    y = int(input(\"Number2:\"))\n",
    "\n",
    "    result = x/y\n",
    "except:\n",
    "    print(\"Error in your code:\")\n",
    "    \n",
    "print(\"Result\", result)"
   ]
  },
  {
   "cell_type": "code",
   "execution_count": 7,
   "id": "d0cb34eb",
   "metadata": {},
   "outputs": [
    {
     "name": "stdout",
     "output_type": "stream",
     "text": [
      "Number1:10\n",
      "Number2:a\n",
      "<class 'ValueError'>\n",
      "Result None\n"
     ]
    }
   ],
   "source": [
    "#Create our own except block.\n",
    "\n",
    "# Two types of error can come, 1) type Error, ValueError.\n",
    "\n",
    "result = None\n",
    "try:\n",
    "    x = int(input(\"Number1:\"))\n",
    "    y = int(input(\"Number2:\")) \n",
    "    result = x/y\n",
    "except ZeroDivisionError as e: # This is helping me understand which type of error it is and easy to debug.\n",
    "    print(type(e))\n",
    "    print(\"Error in your code:\")\n",
    "except ValueError as e:\n",
    "    print(type(e))\n",
    "    \n",
    "print(\"Result\", result)"
   ]
  },
  {
   "cell_type": "code",
   "execution_count": 8,
   "id": "a75f525d",
   "metadata": {},
   "outputs": [
    {
     "name": "stdout",
     "output_type": "stream",
     "text": [
      "Number1:10\n",
      "Number2:a\n",
      "<class 'ValueError'>\n",
      "Error in your code:\n",
      "Result None\n"
     ]
    }
   ],
   "source": [
    "result = None\n",
    "try:\n",
    "    x = int(input(\"Number1:\"))\n",
    "    y = int(input(\"Number2:\")) \n",
    "    result = x/y\n",
    "except Exception as e: # If we directly put exception as e,it will directle tell the type of error happening.\n",
    "    print(type(e))\n",
    "    print(\"Error in your code:\")\n",
    "    \n",
    "print(\"Result\", result)"
   ]
  },
  {
   "cell_type": "code",
   "execution_count": 9,
   "id": "ad1209c0",
   "metadata": {},
   "outputs": [
    {
     "name": "stdout",
     "output_type": "stream",
     "text": [
      "Number1:10\n",
      "Number2:0\n",
      "<class 'ZeroDivisionError'>\n",
      "Error in your code:\n",
      "Result None\n"
     ]
    }
   ],
   "source": [
    "result = None\n",
    "try:\n",
    "    x = int(input(\"Number1:\"))\n",
    "    y = int(input(\"Number2:\")) \n",
    "    result = x/y\n",
    "except Exception as e: # If we directly put exception as e,it will directle tell the type of error happening.\n",
    "    print(type(e))\n",
    "    print(\"Error in your code:\")\n",
    "    \n",
    "print(\"Result\", result)"
   ]
  },
  {
   "cell_type": "code",
   "execution_count": null,
   "id": "f3cc9713",
   "metadata": {},
   "outputs": [],
   "source": [
    "class TooYoungException(Exception): # Exception here is parent class, TooYoungException is a child class.\n",
    "    def __init__(self,arg): # this is constructor\n",
    "        self.msg = arg\n",
    "        \n",
    "class TooOldException(Exception): # Exception here is parent class, TooYoungException is a child class.\n",
    "    def __init__(self,arg): # this is constructor\n",
    "        self.msg = arg\n",
    "\n",
    "age = int(input(\"Enter Age\"))\n",
    "\n",
    "if age > 60:\n",
    "    raise TooOldException(\"Please do not see the movie else it will be your last movie\")\n",
    "elif age < 18:\n",
    "    raise TooYoungException((\"You are too young to see this movie.\"))\n",
    "\n",
    "else:\n",
    "    print(\"Your ticket is confirmed\")\n",
    "        "
   ]
  },
  {
   "cell_type": "code",
   "execution_count": 14,
   "id": "d4a6b3a8",
   "metadata": {},
   "outputs": [
    {
     "ename": "TeaException",
     "evalue": "Its too cold to drink",
     "output_type": "error",
     "traceback": [
      "\u001b[1;31m---------------------------------------------------------------------------\u001b[0m",
      "\u001b[1;31mTeaException\u001b[0m                              Traceback (most recent call last)",
      "\u001b[1;32m<ipython-input-14-cae07d725595>\u001b[0m in \u001b[0;36m<module>\u001b[1;34m\u001b[0m\n\u001b[0;32m      4\u001b[0m \u001b[0mtemp\u001b[0m \u001b[1;33m=\u001b[0m \u001b[1;36m0\u001b[0m\u001b[1;33m\u001b[0m\u001b[1;33m\u001b[0m\u001b[0m\n\u001b[0;32m      5\u001b[0m \u001b[1;32mif\u001b[0m \u001b[0mtemp\u001b[0m \u001b[1;33m==\u001b[0m\u001b[1;36m0\u001b[0m\u001b[1;33m:\u001b[0m\u001b[1;33m\u001b[0m\u001b[1;33m\u001b[0m\u001b[0m\n\u001b[1;32m----> 6\u001b[1;33m     \u001b[1;32mraise\u001b[0m \u001b[0mTeaException\u001b[0m\u001b[1;33m(\u001b[0m\u001b[1;34m\"Its too cold to drink\"\u001b[0m\u001b[1;33m)\u001b[0m\u001b[1;33m\u001b[0m\u001b[1;33m\u001b[0m\u001b[0m\n\u001b[0m\u001b[0;32m      7\u001b[0m \u001b[1;32melse\u001b[0m\u001b[1;33m:\u001b[0m\u001b[1;33m\u001b[0m\u001b[1;33m\u001b[0m\u001b[0m\n\u001b[0;32m      8\u001b[0m     \u001b[0mprint\u001b[0m\u001b[1;33m(\u001b[0m\u001b[1;34m\"You can have your tea\"\u001b[0m\u001b[1;33m)\u001b[0m\u001b[1;33m\u001b[0m\u001b[1;33m\u001b[0m\u001b[0m\n",
      "\u001b[1;31mTeaException\u001b[0m: Its too cold to drink"
     ]
    }
   ],
   "source": [
    "class TeaException(Exception):\n",
    "    def __init__(self,arg):\n",
    "        self.msg = arg\n",
    "temp = 0\n",
    "if temp ==0:\n",
    "    raise TeaException(\"Its too cold to drink\")\n",
    "else:\n",
    "    print(\"You can have your tea\")\n"
   ]
  },
  {
   "cell_type": "code",
   "execution_count": 15,
   "id": "8badb7c0",
   "metadata": {},
   "outputs": [
    {
     "name": "stdout",
     "output_type": "stream",
     "text": [
      "You can have your tea\n"
     ]
    }
   ],
   "source": [
    "class TeaException(Exception):\n",
    "    def __init__(self,arg):\n",
    "        self.msg = arg\n",
    "temp = 1\n",
    "if temp ==0:\n",
    "    raise TeaException(\"Its too cold to drink\")\n",
    "else:\n",
    "    print(\"You can have your tea\")"
   ]
  },
  {
   "cell_type": "markdown",
   "id": "94130af5",
   "metadata": {},
   "source": [
    "# logging. "
   ]
  },
  {
   "cell_type": "code",
   "execution_count": 17,
   "id": "549aa8ba",
   "metadata": {},
   "outputs": [],
   "source": [
    "# Logging has the priorities. If something wrong hhappens and require higher priorities.\n",
    "#logging priorities levels.\n",
    "  #1) CRITICAL - 50 - Serious problem that needs high attention.\n",
    "    #2) ERROR-40- Problem is serious but not that much critical\n",
    "   #3) WARNING-30- Caution must be required, alert to the programmer.\n",
    "   #4) INFO- 20- Message with some important information.\n",
    "    #5)DEBUG - 10- With debugging information\n",
    "    #6) NOTSET- Logging Level not set-- \n",
    "    "
   ]
  },
  {
   "cell_type": "code",
   "execution_count": 21,
   "id": "0030a84e",
   "metadata": {},
   "outputs": [
    {
     "name": "stdout",
     "output_type": "stream",
     "text": [
      "Python Logging Demo\n"
     ]
    }
   ],
   "source": [
    "#How to implement logging.\n",
    "  # Need to create the file to store the messages.\n",
    "  # Level messages.\n",
    "\n",
    "# which module is helping- # logging-----> Basic config\n",
    "\n",
    "# This file will generate in Current working directory.\n",
    "\n",
    "import logging\n",
    "logging.basicConfig(filename = 'log.txt', level = logging.DEBUG)\n",
    "print(\"Python Logging Demo\")\n",
    "logging.debug(\"This is a debug message\")\n",
    "logging.info(\"This is an info message\")\n",
    "logging.warning(\"This is warning message.\")\n",
    "logging.error(\"This is error message.\")\n",
    "logging.critical(\"This is critical message.\")\n",
    "\n"
   ]
  },
  {
   "cell_type": "code",
   "execution_count": 20,
   "id": "ec679280",
   "metadata": {},
   "outputs": [
    {
     "data": {
      "text/plain": [
       "'C:\\\\Users\\\\rahul\\\\Rahul Tiwari 30\\\\logging demo'"
      ]
     },
     "execution_count": 20,
     "metadata": {},
     "output_type": "execute_result"
    }
   ],
   "source": [
    "import os\n",
    "os.chdir(r\"C:\\Users\\rahul\\Rahul Tiwari 30\\logging demo\")\n",
    "os.getcwd()"
   ]
  },
  {
   "cell_type": "code",
   "execution_count": 24,
   "id": "3f32646f",
   "metadata": {},
   "outputs": [
    {
     "name": "stdout",
     "output_type": "stream",
     "text": [
      "Enter first number:10\n",
      "Enter second number0\n",
      "cannot divide with zero\n"
     ]
    }
   ],
   "source": [
    "import logging\n",
    "logging.basicConfig(filename = 'log.txt', level = logging.DEBUG)\n",
    "logging.info(\"A new request came\")\n",
    "try:\n",
    "    x = int(input(\"Enter first number:\"))\n",
    "    y = int(input(\"Enter second number\"))\n",
    "    print(x/y)\n",
    "except ZeroDivisionError as e:\n",
    "    print(\"cannot divide with zero\")\n",
    "    logging.exception(e)\n",
    "except ValueError as e:\n",
    "    print(\"Enter only int value\")\n",
    "    logging.exception(e)\n",
    "logging.info(\"request processing completed\")"
   ]
  },
  {
   "cell_type": "code",
   "execution_count": 25,
   "id": "84a5d6ca",
   "metadata": {},
   "outputs": [
    {
     "name": "stdout",
     "output_type": "stream",
     "text": [
      "Enter first number:10\n",
      "Enter second numbera\n",
      "Enter only int value\n"
     ]
    }
   ],
   "source": [
    "import logging\n",
    "logging.basicConfig(filename = 'log.txt', level = logging.DEBUG)\n",
    "logging.info(\"A new request came\")\n",
    "try:\n",
    "    x = int(input(\"Enter first number:\"))\n",
    "    y = int(input(\"Enter second number\"))\n",
    "    print(x/y)\n",
    "except ZeroDivisionError as e:\n",
    "    print(\"cannot divide with zero\")\n",
    "    logging.exception(e)\n",
    "except ValueError as e:\n",
    "    print(\"Enter only int value\")\n",
    "    logging.exception(e)\n",
    "logging.info(\"request processing completed\")"
   ]
  },
  {
   "cell_type": "code",
   "execution_count": 27,
   "id": "c78bcc55",
   "metadata": {},
   "outputs": [
    {
     "name": "stdout",
     "output_type": "stream",
     "text": [
      "Enter first number:10\n",
      "Enter second number0\n",
      "cannot divide with zero\n"
     ]
    }
   ],
   "source": [
    "import logging\n",
    "logging.basicConfig(filename = 'log.txt', level = logging.DEBUG)\n",
    "logging.info(\"A new request came\")\n",
    "try:\n",
    "    x = int(input(\"Enter first number:\"))\n",
    "    y = int(input(\"Enter second number\"))\n",
    "    print(x/y)\n",
    "except ZeroDivisionError as e:\n",
    "    print(\"cannot divide with zero\")\n",
    "    logging.exception(e)\n",
    "    logging.critical(\"This is a critical error.\")\n",
    "except ValueError as e:\n",
    "    print(\"Enter only int value\")\n",
    "    logging.exception(e)\n",
    "logging.info(\"request processing completed\")"
   ]
  },
  {
   "cell_type": "code",
   "execution_count": 28,
   "id": "2c480042",
   "metadata": {},
   "outputs": [],
   "source": [
    "#Debugging\n",
    "# when we write a big codes to know where is the error(to debug), we put some print statement.and check each print statement\n",
    "#where is the error. But this will create a mistake while removing the print statement for production. \n",
    "# so, to escape from the mistake we use assert statement.\n"
   ]
  },
  {
   "cell_type": "code",
   "execution_count": 29,
   "id": "55ff6829",
   "metadata": {},
   "outputs": [],
   "source": [
    "#assert statement\n",
    "    # Types of assert statement\n",
    "     #1) Simple assert\n",
    "     #2) very Simple (Augmented version)\n",
    "    "
   ]
  },
  {
   "cell_type": "code",
   "execution_count": 30,
   "id": "4475ba2c",
   "metadata": {},
   "outputs": [
    {
     "name": "stdout",
     "output_type": "stream",
     "text": [
      "10\n"
     ]
    }
   ],
   "source": [
    "x = 10\n",
    "assert x == 10\n",
    "print(x)"
   ]
  },
  {
   "cell_type": "code",
   "execution_count": 32,
   "id": "608c4c48",
   "metadata": {},
   "outputs": [
    {
     "ename": "AssertionError",
     "evalue": "",
     "output_type": "error",
     "traceback": [
      "\u001b[1;31m---------------------------------------------------------------------------\u001b[0m",
      "\u001b[1;31mAssertionError\u001b[0m                            Traceback (most recent call last)",
      "\u001b[1;32m<ipython-input-32-4f9e28614a4f>\u001b[0m in \u001b[0;36m<module>\u001b[1;34m\u001b[0m\n\u001b[0;32m      1\u001b[0m \u001b[0mx\u001b[0m \u001b[1;33m=\u001b[0m \u001b[1;36m10\u001b[0m\u001b[1;33m\u001b[0m\u001b[1;33m\u001b[0m\u001b[0m\n\u001b[0;32m      2\u001b[0m \u001b[0mx\u001b[0m\u001b[1;33m=\u001b[0m\u001b[1;36m9\u001b[0m\u001b[1;33m\u001b[0m\u001b[1;33m\u001b[0m\u001b[0m\n\u001b[1;32m----> 3\u001b[1;33m \u001b[1;32massert\u001b[0m \u001b[0mx\u001b[0m \u001b[1;33m==\u001b[0m \u001b[1;36m10\u001b[0m\u001b[1;33m\u001b[0m\u001b[1;33m\u001b[0m\u001b[0m\n\u001b[0m\u001b[0;32m      4\u001b[0m \u001b[0mprint\u001b[0m\u001b[1;33m(\u001b[0m\u001b[0mx\u001b[0m\u001b[1;33m)\u001b[0m\u001b[1;33m\u001b[0m\u001b[1;33m\u001b[0m\u001b[0m\n",
      "\u001b[1;31mAssertionError\u001b[0m: "
     ]
    }
   ],
   "source": [
    "x = 10\n",
    "x=9      #Somebody came and changed the value to 9. This is known as simple assert.\n",
    "assert x == 10\n",
    "print(x)"
   ]
  },
  {
   "cell_type": "code",
   "execution_count": 33,
   "id": "40643233",
   "metadata": {},
   "outputs": [
    {
     "ename": "AssertionError",
     "evalue": "value changed",
     "output_type": "error",
     "traceback": [
      "\u001b[1;31m---------------------------------------------------------------------------\u001b[0m",
      "\u001b[1;31mAssertionError\u001b[0m                            Traceback (most recent call last)",
      "\u001b[1;32m<ipython-input-33-a7c2ce5986eb>\u001b[0m in \u001b[0;36m<module>\u001b[1;34m\u001b[0m\n\u001b[0;32m      1\u001b[0m \u001b[0mx\u001b[0m \u001b[1;33m=\u001b[0m \u001b[1;36m10\u001b[0m\u001b[1;33m\u001b[0m\u001b[1;33m\u001b[0m\u001b[0m\n\u001b[0;32m      2\u001b[0m \u001b[0mx\u001b[0m\u001b[1;33m=\u001b[0m\u001b[1;36m9\u001b[0m      \u001b[1;31m#Somebody came and changed the value to 9. This is known as simple assert.\u001b[0m\u001b[1;33m\u001b[0m\u001b[1;33m\u001b[0m\u001b[0m\n\u001b[1;32m----> 3\u001b[1;33m \u001b[1;32massert\u001b[0m \u001b[0mx\u001b[0m \u001b[1;33m==\u001b[0m \u001b[1;36m10\u001b[0m\u001b[1;33m,\u001b[0m \u001b[1;34m'value changed'\u001b[0m\u001b[1;33m\u001b[0m\u001b[1;33m\u001b[0m\u001b[0m\n\u001b[0m\u001b[0;32m      4\u001b[0m \u001b[0mprint\u001b[0m\u001b[1;33m(\u001b[0m\u001b[0mx\u001b[0m\u001b[1;33m)\u001b[0m\u001b[1;33m\u001b[0m\u001b[1;33m\u001b[0m\u001b[0m\n",
      "\u001b[1;31mAssertionError\u001b[0m: value changed"
     ]
    }
   ],
   "source": [
    "x = 10\n",
    "x=9      #Somebody came and changed the value to 9. This is known as simple assert.\n",
    "assert x == 10, 'value changed' \n",
    "print(x)"
   ]
  },
  {
   "cell_type": "code",
   "execution_count": 35,
   "id": "7176c3ea",
   "metadata": {},
   "outputs": [],
   "source": [
    "class TooYoungException(Exception):\n",
    "    \"\"\"Raise when the age is less than 18 years\"\"\"\n",
    "    pass\n",
    "    "
   ]
  },
  {
   "cell_type": "code",
   "execution_count": 36,
   "id": "d09efbbc",
   "metadata": {},
   "outputs": [],
   "source": [
    "class TooOldException(Exception):\n",
    "    \"\"\"Raise when the age is more than 60 years\"\"\"\n",
    "    pass"
   ]
  },
  {
   "cell_type": "code",
   "execution_count": 39,
   "id": "505f7878",
   "metadata": {},
   "outputs": [
    {
     "name": "stdout",
     "output_type": "stream",
     "text": [
      "Enter the age of the customer34\n",
      "Your ticket is confirmed\n",
      "Enjoy the movie\n",
      "Your Transaction is Completed, Have a nice day!!\n"
     ]
    }
   ],
   "source": [
    "try:\n",
    "    enter_age = int(input(\"Enter the age of the customer\"))\n",
    "    if enter_age < 18:\n",
    "        raise TooYoungException\n",
    "    elif enter_age>60:\n",
    "        raise TooOldException\n",
    "    else:\n",
    "        print(\"Your ticket is confirmed\")\n",
    "        \n",
    "except TooYoungException:\n",
    "    print(\"Your age is too less to see the movie\")\n",
    "    print()\n",
    "except TooOldException:\n",
    "    print(\"Your age is too high to see the movie\")\n",
    "    print()\n",
    "else:\n",
    "    print('Enjoy the movie')\n",
    "finally:\n",
    "    print(\"Your Transaction is Completed, Have a nice day!!\")\n",
    "    "
   ]
  },
  {
   "cell_type": "code",
   "execution_count": 41,
   "id": "a5888996",
   "metadata": {},
   "outputs": [
    {
     "name": "stdout",
     "output_type": "stream",
     "text": [
      "Enter the number:10\n",
      "Enter the numbera\n",
      "some other error\n",
      "The job is completed..\n"
     ]
    }
   ],
   "source": [
    "try:\n",
    "    result = 0\n",
    "    x = int(input(\"Enter the number:\"))\n",
    "    y = int(input(\"Enter the number\"))\n",
    "    print(result)\n",
    "    result = x/y\n",
    "    print(result)\n",
    "except Exception as e:\n",
    "    if str(e)==\"division by zero\": # comparing str(e) to division by zero\n",
    "        print(\"Its zero\")      # whatever error we get in python we can get string value and can put our custom message. \n",
    "    else:\n",
    "        print(\"some other error\")\n",
    "else:\n",
    "    print(\"The new result is:\", result)\n",
    "finally:\n",
    "    print(\"The job is completed..\")"
   ]
  },
  {
   "cell_type": "code",
   "execution_count": 42,
   "id": "5310bd73",
   "metadata": {},
   "outputs": [
    {
     "ename": "ZeroDivisionError",
     "evalue": "division by zero",
     "output_type": "error",
     "traceback": [
      "\u001b[1;31m---------------------------------------------------------------------------\u001b[0m",
      "\u001b[1;31mZeroDivisionError\u001b[0m                         Traceback (most recent call last)",
      "\u001b[1;32m<ipython-input-42-fe01563e1bc6>\u001b[0m in \u001b[0;36m<module>\u001b[1;34m\u001b[0m\n\u001b[1;32m----> 1\u001b[1;33m \u001b[0mprint\u001b[0m\u001b[1;33m(\u001b[0m\u001b[1;36m10\u001b[0m\u001b[1;33m/\u001b[0m\u001b[1;36m0\u001b[0m\u001b[1;33m)\u001b[0m\u001b[1;33m\u001b[0m\u001b[1;33m\u001b[0m\u001b[0m\n\u001b[0m",
      "\u001b[1;31mZeroDivisionError\u001b[0m: division by zero"
     ]
    }
   ],
   "source": [
    "print(10/0)"
   ]
  },
  {
   "cell_type": "code",
   "execution_count": null,
   "id": "0c4f7c55",
   "metadata": {},
   "outputs": [],
   "source": []
  },
  {
   "cell_type": "code",
   "execution_count": null,
   "id": "04cf526f",
   "metadata": {},
   "outputs": [],
   "source": []
  },
  {
   "cell_type": "code",
   "execution_count": null,
   "id": "a065c435",
   "metadata": {},
   "outputs": [],
   "source": []
  }
 ],
 "metadata": {
  "kernelspec": {
   "display_name": "Python 3",
   "language": "python",
   "name": "python3"
  },
  "language_info": {
   "codemirror_mode": {
    "name": "ipython",
    "version": 3
   },
   "file_extension": ".py",
   "mimetype": "text/x-python",
   "name": "python",
   "nbconvert_exporter": "python",
   "pygments_lexer": "ipython3",
   "version": "3.8.8"
  }
 },
 "nbformat": 4,
 "nbformat_minor": 5
}
