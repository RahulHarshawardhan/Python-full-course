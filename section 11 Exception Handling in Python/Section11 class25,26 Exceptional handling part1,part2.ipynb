{
 "cells": [
  {
   "cell_type": "code",
   "execution_count": 1,
   "id": "53d9c837",
   "metadata": {},
   "outputs": [
    {
     "name": "stdout",
     "output_type": "stream",
     "text": [
      "The value of x is: 20\n"
     ]
    }
   ],
   "source": [
    "# Exception Handling\n",
    "    #syntax error-- Didnot write the code properly\n",
    "    #Runtime error\n",
    "    \n",
    "x =20\n",
    "if x==20:\n",
    "    print(\"The value of x is:\", x)"
   ]
  },
  {
   "cell_type": "code",
   "execution_count": 2,
   "id": "9484cef8",
   "metadata": {},
   "outputs": [
    {
     "ename": "SyntaxError",
     "evalue": "invalid syntax (<ipython-input-2-7b9547f69a48>, line 2)",
     "output_type": "error",
     "traceback": [
      "\u001b[1;36m  File \u001b[1;32m\"<ipython-input-2-7b9547f69a48>\"\u001b[1;36m, line \u001b[1;32m2\u001b[0m\n\u001b[1;33m    if x==20\u001b[0m\n\u001b[1;37m            ^\u001b[0m\n\u001b[1;31mSyntaxError\u001b[0m\u001b[1;31m:\u001b[0m invalid syntax\n"
     ]
    }
   ],
   "source": [
    "# Syntax Error\n",
    "x =20\n",
    "if x==20\n",
    "    print(\"The value of x is:\", x) "
   ]
  },
  {
   "cell_type": "code",
   "execution_count": 3,
   "id": "977dc188",
   "metadata": {},
   "outputs": [
    {
     "ename": "ZeroDivisionError",
     "evalue": "division by zero",
     "output_type": "error",
     "traceback": [
      "\u001b[1;31m---------------------------------------------------------------------------\u001b[0m",
      "\u001b[1;31mZeroDivisionError\u001b[0m                         Traceback (most recent call last)",
      "\u001b[1;32m<ipython-input-3-4dffeecd4662>\u001b[0m in \u001b[0;36m<module>\u001b[1;34m\u001b[0m\n\u001b[0;32m      1\u001b[0m \u001b[1;31m#Runtime Error\u001b[0m\u001b[1;33m\u001b[0m\u001b[1;33m\u001b[0m\u001b[1;33m\u001b[0m\u001b[0m\n\u001b[0;32m      2\u001b[0m \u001b[1;33m\u001b[0m\u001b[0m\n\u001b[1;32m----> 3\u001b[1;33m \u001b[0mprint\u001b[0m\u001b[1;33m(\u001b[0m\u001b[1;36m20\u001b[0m\u001b[1;33m/\u001b[0m\u001b[1;36m0\u001b[0m\u001b[1;33m)\u001b[0m\u001b[1;33m\u001b[0m\u001b[1;33m\u001b[0m\u001b[0m\n\u001b[0m",
      "\u001b[1;31mZeroDivisionError\u001b[0m: division by zero"
     ]
    }
   ],
   "source": [
    "#Runtime Error\n",
    "\n",
    "print(20/0)"
   ]
  },
  {
   "cell_type": "code",
   "execution_count": 4,
   "id": "9057b5f8",
   "metadata": {},
   "outputs": [
    {
     "ename": "TypeError",
     "evalue": "unsupported operand type(s) for /: 'int' and 'str'",
     "output_type": "error",
     "traceback": [
      "\u001b[1;31m---------------------------------------------------------------------------\u001b[0m",
      "\u001b[1;31mTypeError\u001b[0m                                 Traceback (most recent call last)",
      "\u001b[1;32m<ipython-input-4-d1aae8dd3ba3>\u001b[0m in \u001b[0;36m<module>\u001b[1;34m\u001b[0m\n\u001b[0;32m      1\u001b[0m \u001b[1;31m#Exception handling is done on Runtime error.\u001b[0m\u001b[1;33m\u001b[0m\u001b[1;33m\u001b[0m\u001b[1;33m\u001b[0m\u001b[0m\n\u001b[0;32m      2\u001b[0m \u001b[1;33m\u001b[0m\u001b[0m\n\u001b[1;32m----> 3\u001b[1;33m \u001b[0mprint\u001b[0m\u001b[1;33m(\u001b[0m\u001b[1;36m10\u001b[0m\u001b[1;33m/\u001b[0m\u001b[1;34m'a'\u001b[0m\u001b[1;33m)\u001b[0m\u001b[1;33m\u001b[0m\u001b[1;33m\u001b[0m\u001b[0m\n\u001b[0m",
      "\u001b[1;31mTypeError\u001b[0m: unsupported operand type(s) for /: 'int' and 'str'"
     ]
    }
   ],
   "source": [
    "#Exception handling is done on Runtime error. \n",
    "\n",
    "print(10/'a')# Type Error"
   ]
  },
  {
   "cell_type": "code",
   "execution_count": 5,
   "id": "d8ec1bfe",
   "metadata": {},
   "outputs": [
    {
     "name": "stdout",
     "output_type": "stream",
     "text": [
      "Enter some numbers\n"
     ]
    },
    {
     "ename": "ValueError",
     "evalue": "invalid literal for int() with base 10: 's'",
     "output_type": "error",
     "traceback": [
      "\u001b[1;31m---------------------------------------------------------------------------\u001b[0m",
      "\u001b[1;31mValueError\u001b[0m                                Traceback (most recent call last)",
      "\u001b[1;32m<ipython-input-5-1dfda11d610d>\u001b[0m in \u001b[0;36m<module>\u001b[1;34m\u001b[0m\n\u001b[1;32m----> 1\u001b[1;33m \u001b[0mx\u001b[0m \u001b[1;33m=\u001b[0m \u001b[0mint\u001b[0m\u001b[1;33m(\u001b[0m\u001b[0minput\u001b[0m\u001b[1;33m(\u001b[0m\u001b[1;34m\"Enter some number\"\u001b[0m\u001b[1;33m)\u001b[0m\u001b[1;33m)\u001b[0m\u001b[1;33m\u001b[0m\u001b[1;33m\u001b[0m\u001b[0m\n\u001b[0m\u001b[0;32m      2\u001b[0m \u001b[0mprint\u001b[0m\u001b[1;33m(\u001b[0m\u001b[0mx\u001b[0m\u001b[1;33m)\u001b[0m\u001b[1;33m\u001b[0m\u001b[1;33m\u001b[0m\u001b[0m\n",
      "\u001b[1;31mValueError\u001b[0m: invalid literal for int() with base 10: 's'"
     ]
    }
   ],
   "source": [
    "x = int(input(\"Enter some number\")) # Value Error\n",
    "print(x)"
   ]
  },
  {
   "cell_type": "code",
   "execution_count": null,
   "id": "d0e40ba0",
   "metadata": {},
   "outputs": [],
   "source": [
    "# What is an exception?\n",
    "   # An unwanted and unexpected event which is going to disturb our regular flow of the program. \n",
    "    \n",
    "# why exception handling required?\n",
    "    # "
   ]
  },
  {
   "cell_type": "code",
   "execution_count": null,
   "id": "f9b697d6",
   "metadata": {},
   "outputs": [],
   "source": [
    "#what is the meaning of exception handling?\n",
    "    # Defining alternative way to continue rest of the program run normally.\n",
    "    "
   ]
  },
  {
   "cell_type": "code",
   "execution_count": null,
   "id": "61e74faf",
   "metadata": {},
   "outputs": [],
   "source": [
    "try:\n",
    "    statement1  # risky part of the code\n",
    "except:\n",
    "    statement2 # If something is wrong in try then except block will run."
   ]
  },
  {
   "cell_type": "code",
   "execution_count": null,
   "id": "9ae86302",
   "metadata": {},
   "outputs": [],
   "source": [
    "try:\n",
    "    read data from the Nagpur Server # Here we tried to read a file from Nagpur server and if the file is not present in \n",
    "                                        # in Nagpur than except block will run and the file will be read from gurgoan.\n",
    "except:\n",
    "    read data grom Gurgoan server."
   ]
  },
  {
   "cell_type": "code",
   "execution_count": 6,
   "id": "776ed104",
   "metadata": {},
   "outputs": [],
   "source": [
    "#If exception handling is not there then python terminate the program abnormally,print exception error message.\n"
   ]
  },
  {
   "cell_type": "code",
   "execution_count": 7,
   "id": "9f74476b",
   "metadata": {},
   "outputs": [
    {
     "name": "stdout",
     "output_type": "stream",
     "text": [
      "Hello\n"
     ]
    },
    {
     "ename": "ZeroDivisionError",
     "evalue": "division by zero",
     "output_type": "error",
     "traceback": [
      "\u001b[1;31m---------------------------------------------------------------------------\u001b[0m",
      "\u001b[1;31mZeroDivisionError\u001b[0m                         Traceback (most recent call last)",
      "\u001b[1;32m<ipython-input-7-27881b08680a>\u001b[0m in \u001b[0;36m<module>\u001b[1;34m\u001b[0m\n\u001b[0;32m      1\u001b[0m \u001b[0mprint\u001b[0m\u001b[1;33m(\u001b[0m\u001b[1;34m\"Hello\"\u001b[0m\u001b[1;33m)\u001b[0m\u001b[1;33m\u001b[0m\u001b[1;33m\u001b[0m\u001b[0m\n\u001b[1;32m----> 2\u001b[1;33m \u001b[0mprint\u001b[0m\u001b[1;33m(\u001b[0m\u001b[1;36m20\u001b[0m\u001b[1;33m/\u001b[0m\u001b[1;36m0\u001b[0m\u001b[1;33m)\u001b[0m\u001b[1;33m\u001b[0m\u001b[1;33m\u001b[0m\u001b[0m\n\u001b[0m\u001b[0;32m      3\u001b[0m \u001b[0mprint\u001b[0m\u001b[1;33m(\u001b[0m\u001b[1;34m\"Hi\"\u001b[0m\u001b[1;33m)\u001b[0m\u001b[1;33m\u001b[0m\u001b[1;33m\u001b[0m\u001b[0m\n",
      "\u001b[1;31mZeroDivisionError\u001b[0m: division by zero"
     ]
    }
   ],
   "source": [
    "print(\"Hello\")\n",
    "print(20/0)\n",
    "print(\"Hi\")"
   ]
  },
  {
   "cell_type": "code",
   "execution_count": 9,
   "id": "e3e57ca4",
   "metadata": {},
   "outputs": [
    {
     "name": "stdout",
     "output_type": "stream",
     "text": [
      "Hello\n",
      "Error Occured\n",
      "Hi\n"
     ]
    }
   ],
   "source": [
    "print(\"Hello\")\n",
    "\n",
    "try:\n",
    "    print(20/0)\n",
    "except:\n",
    "    print(\"Error Occured\")\n",
    "\n",
    "print(\"Hi\")"
   ]
  },
  {
   "cell_type": "code",
   "execution_count": 10,
   "id": "da07e6ce",
   "metadata": {},
   "outputs": [
    {
     "data": {
      "text/plain": [
       "'C:\\\\Users\\\\rahul\\\\Rahul Tiwari 30'"
      ]
     },
     "execution_count": 10,
     "metadata": {},
     "output_type": "execute_result"
    }
   ],
   "source": [
    "#Python exception Hierarchy.\n",
    "\n",
    "import os\n",
    "os.getcwd()\n"
   ]
  },
  {
   "cell_type": "markdown",
   "id": "e3a3bc8a",
   "metadata": {},
   "source": [
    "![](multiple-try-catch-block.png)"
   ]
  },
  {
   "cell_type": "code",
   "execution_count": null,
   "id": "729ac299",
   "metadata": {},
   "outputs": [],
   "source": [
    "try:\n",
    "    statement1\n",
    "    statement2\n",
    "    statement3\n",
    "except:\n",
    "    statement4\n",
    "statement5"
   ]
  },
  {
   "cell_type": "code",
   "execution_count": null,
   "id": "4ab41acb",
   "metadata": {},
   "outputs": [],
   "source": [
    "#case1- statement1, statement2 ,statement3 ,statement5 ---- No error"
   ]
  },
  {
   "cell_type": "code",
   "execution_count": null,
   "id": "9770747e",
   "metadata": {},
   "outputs": [],
   "source": [
    "#case2 - statement1, statement4, statement5 -- When error in statement 2."
   ]
  },
  {
   "cell_type": "code",
   "execution_count": 12,
   "id": "6955199c",
   "metadata": {},
   "outputs": [],
   "source": [
    "#case3 - statement1, statement2, statement4(sometinng wrong with statement3 so statement4 will run but have problem in statemnt4 as well)\n",
    "#Then therewill be abnormal termination."
   ]
  },
  {
   "cell_type": "code",
   "execution_count": null,
   "id": "d3445093",
   "metadata": {},
   "outputs": [],
   "source": [
    "#Multiple try,and except block\n",
    "\n",
    "# ![](photopath)"
   ]
  },
  {
   "cell_type": "markdown",
   "id": "31c3e9a3",
   "metadata": {},
   "source": [
    "![](tryandexcept.png)"
   ]
  },
  {
   "cell_type": "code",
   "execution_count": 15,
   "id": "58941303",
   "metadata": {},
   "outputs": [
    {
     "name": "stdout",
     "output_type": "stream",
     "text": [
      "outer Try Block\n",
      "Inner Try Block\n",
      "Error Occured\n",
      "Inner Except Block\n",
      "Statement2\n",
      "Statement3\n"
     ]
    }
   ],
   "source": [
    "try:\n",
    "    print(\"outer Try Block\")\n",
    "    try:\n",
    "        print(\"Inner Try Block\")\n",
    "        print(20/0)\n",
    "    except:\n",
    "        print(\"Error Occured\")\n",
    "        print(\"Inner Except Block\")\n",
    "    print(\"Statement2\")\n",
    "except:\n",
    "    print(\"Outer Except Block\")\n",
    "print(\"Statement3\")"
   ]
  },
  {
   "cell_type": "code",
   "execution_count": 16,
   "id": "f265da22",
   "metadata": {},
   "outputs": [
    {
     "name": "stdout",
     "output_type": "stream",
     "text": [
      "statement1\n",
      "statement2\n",
      "statement3\n"
     ]
    }
   ],
   "source": [
    "#Finally concept\n",
    "\n",
    "try:\n",
    "    print(\"statement1\") # statement1 will run and then error then, statement2 will run.\n",
    "    print(10/0)\n",
    "\n",
    "except:\n",
    "    print(\"statement2\")\n",
    "\n",
    "finally:                   # Finally is the statement which always run. whether there is failure or no\n",
    "    print(\"statement3\")"
   ]
  },
  {
   "cell_type": "code",
   "execution_count": 17,
   "id": "2e3de468",
   "metadata": {},
   "outputs": [
    {
     "name": "stdout",
     "output_type": "stream",
     "text": [
      "statement1\n",
      "5.0\n",
      "statement3\n"
     ]
    }
   ],
   "source": [
    "#Finally concept\n",
    "\n",
    "try:\n",
    "    print(\"statement1\") \n",
    "    print(10/2)\n",
    "\n",
    "except:\n",
    "    print(\"statement2\")\n",
    "\n",
    "finally:                  \n",
    "    print(\"statement3\") # Finally always run."
   ]
  },
  {
   "cell_type": "code",
   "execution_count": null,
   "id": "f19ec956",
   "metadata": {},
   "outputs": [],
   "source": [
    "try:\n",
    "    statement1\n",
    "    statement2\n",
    "    statement3\n",
    "    try:\n",
    "        statement4\n",
    "        statement5\n",
    "        statement6\n",
    "    except:\n",
    "        statement7\n",
    "    finally:\n",
    "        statement8\n",
    "    statement9\n",
    "except:\n",
    "    statement10\n",
    "finally:\n",
    "    statement11\n",
    "statement12"
   ]
  },
  {
   "cell_type": "code",
   "execution_count": null,
   "id": "05419e3f",
   "metadata": {},
   "outputs": [],
   "source": [
    "# case1 - When there will not be any exception what all statements will execute?\n",
    "# Statement 7 and statement 10 will not run.\n",
    "# statement run = 1,2,3,4,5,6,8,9,11,12 Normal Termination"
   ]
  },
  {
   "cell_type": "code",
   "execution_count": null,
   "id": "8c7a2793",
   "metadata": {},
   "outputs": [],
   "source": [
    "#case2 - If an exception raised at statement2 and corresponding except block matched?\n",
    "# statement run = 1,10,11,12 Normal Termination"
   ]
  },
  {
   "cell_type": "code",
   "execution_count": null,
   "id": "9ef0d63c",
   "metadata": {},
   "outputs": [],
   "source": [
    "#case3- If an exception raised at statement2 and corresponding except block not matched?\n",
    "#statement run- 1,11 and Abnormal Termination."
   ]
  },
  {
   "cell_type": "code",
   "execution_count": 18,
   "id": "70137db8",
   "metadata": {},
   "outputs": [],
   "source": [
    "#case4- If an exception raised at statement5 and corresponding except block matched?\n",
    "#Statement run- 1,2,3,4,7,8,9,11,12 Normal Termination.\n"
   ]
  },
  {
   "cell_type": "code",
   "execution_count": 19,
   "id": "dc124d28",
   "metadata": {},
   "outputs": [],
   "source": [
    "#case5- If an exception raised at statement 5 and corresponding except block not matched but outer except block matched?\n",
    "#statement run- 1,2,3,4,8,10,11,12 and normal Termination."
   ]
  },
  {
   "cell_type": "code",
   "execution_count": 20,
   "id": "5d317e9e",
   "metadata": {},
   "outputs": [],
   "source": [
    "#case6 - If an exception is raised at statement5 and corresponding inner and outer block not matched?\n",
    "#Statement run- 1,2,3,4,8,11- Abnormal Termination \n"
   ]
  },
  {
   "cell_type": "code",
   "execution_count": 21,
   "id": "a18ecd5a",
   "metadata": {},
   "outputs": [],
   "source": [
    "#case7- If an exception raised at statement 7 and corresponding except block matched.\n",
    "#Statement run - 1,2,3,(4,5,6, any one of the statement may fail.),8,10,11,12 and normal termination."
   ]
  },
  {
   "cell_type": "code",
   "execution_count": 22,
   "id": "36d9e92f",
   "metadata": {},
   "outputs": [],
   "source": [
    "#case8- If an exception at statement 7  and corresponding except block not matched.\n",
    "# Statement run - 1,2,3,8,11 and abnormal Termination.\n"
   ]
  },
  {
   "cell_type": "code",
   "execution_count": 23,
   "id": "40cb3126",
   "metadata": {},
   "outputs": [],
   "source": [
    "#case9- If an exception at statement 8 and corresponding except block matched?\n",
    "# Statement run- 1,2,3,4(MMT),5(MMT),6(MMT),7(MMT),8,10,11,12- Normal Termination. (MMT-MAy or may not)"
   ]
  },
  {
   "cell_type": "code",
   "execution_count": null,
   "id": "d2b6c48c",
   "metadata": {},
   "outputs": [],
   "source": [
    "#case10- If an exception at statement 8 and corresponding except block matched?\n",
    "#Statement run-   1,2,3,4(MMT),5(MMT),6(MMT),7(MMT),8,11- abNormal Termination\n"
   ]
  },
  {
   "cell_type": "code",
   "execution_count": null,
   "id": "a46fce56",
   "metadata": {},
   "outputs": [],
   "source": [
    "#case11- If an exception at statement9 and corresponding except block matched.\n",
    "#Statement run- 1,2,3,4(mmt),5(mmt),6(mmt),7(mmt), 8 ,10,11,12,and normal termination.\n"
   ]
  },
  {
   "cell_type": "code",
   "execution_count": null,
   "id": "8102414e",
   "metadata": {},
   "outputs": [],
   "source": [
    "#case12- If an exception at statement9 and corresponding except block matched.\n",
    "#Statement run- 1,2,3,4(mmt),5(mmt),6(mmt),7(mmt), 8 ,10,11-abnormal termination."
   ]
  },
  {
   "cell_type": "code",
   "execution_count": null,
   "id": "e12c11e0",
   "metadata": {},
   "outputs": [],
   "source": [
    "#case13- If an exception raised at statement10.\n",
    "#statementrun- 11- Abnormal Termination."
   ]
  },
  {
   "cell_type": "code",
   "execution_count": 24,
   "id": "c17ae71a",
   "metadata": {},
   "outputs": [],
   "source": [
    "#case14- If an exception raised in statemnt11 or statement12.\n",
    "#- Abnormal termination"
   ]
  },
  {
   "cell_type": "code",
   "execution_count": null,
   "id": "c4f7a804",
   "metadata": {},
   "outputs": [],
   "source": [
    "#else\n",
    "try:\n",
    "    risky code\n",
    "except:\n",
    "    will executed if exception will occur in try block\n",
    "    \n",
    "else: # else will be executed when there is no exception. Means if there is no issue.\n",
    "    will executed if no exception inside the try.\n",
    "finally:\n",
    "    always run\n",
    "    \n",
    "    "
   ]
  },
  {
   "cell_type": "code",
   "execution_count": null,
   "id": "91cd2698",
   "metadata": {},
   "outputs": [],
   "source": [
    "try-except-else-finally"
   ]
  },
  {
   "cell_type": "code",
   "execution_count": 2,
   "id": "b40fcb02",
   "metadata": {},
   "outputs": [
    {
     "name": "stdout",
     "output_type": "stream",
     "text": [
      "try\n",
      "cannot divide by 0\n",
      "The job ends\n"
     ]
    }
   ],
   "source": [
    "try:\n",
    "    print('try')\n",
    "    print(10/0)\n",
    "except:\n",
    "    print(\"cannot divide by 0\")\n",
    "else:\n",
    "    print(\"Calculation completed successfully\")\n",
    "finally:\n",
    "    print(\"The job ends\")\n",
    "  "
   ]
  },
  {
   "cell_type": "code",
   "execution_count": 3,
   "id": "951eef39",
   "metadata": {},
   "outputs": [
    {
     "name": "stdout",
     "output_type": "stream",
     "text": [
      "try\n",
      "5.0\n",
      "Calculation completed successfully\n",
      "The job ends\n"
     ]
    }
   ],
   "source": [
    "try:\n",
    "    print('try')\n",
    "    print(10/2)\n",
    "except:\n",
    "    print(\"cannot divide by 0\")\n",
    "else:\n",
    "    print(\"Calculation completed successfully\")\n",
    "finally:\n",
    "    print(\"The job ends\")\n",
    "    "
   ]
  },
  {
   "cell_type": "code",
   "execution_count": 4,
   "id": "851fd825",
   "metadata": {},
   "outputs": [
    {
     "ename": "SyntaxError",
     "evalue": "unexpected EOF while parsing (<ipython-input-4-f938f3295ddb>, line 2)",
     "output_type": "error",
     "traceback": [
      "\u001b[1;36m  File \u001b[1;32m\"<ipython-input-4-f938f3295ddb>\"\u001b[1;36m, line \u001b[1;32m2\u001b[0m\n\u001b[1;33m    print(\"try\")\u001b[0m\n\u001b[1;37m                ^\u001b[0m\n\u001b[1;31mSyntaxError\u001b[0m\u001b[1;31m:\u001b[0m unexpected EOF while parsing\n"
     ]
    }
   ],
   "source": [
    "try:\n",
    "    print(\"try\")  # try cannot work without except or finally block. It will give error."
   ]
  },
  {
   "cell_type": "code",
   "execution_count": 5,
   "id": "48ff5df4",
   "metadata": {},
   "outputs": [
    {
     "name": "stdout",
     "output_type": "stream",
     "text": [
      "try\n"
     ]
    }
   ],
   "source": [
    "try:\n",
    "    print('try')\n",
    "except:\n",
    "    print(\"except\")"
   ]
  },
  {
   "cell_type": "code",
   "execution_count": 6,
   "id": "0aff747b",
   "metadata": {},
   "outputs": [
    {
     "name": "stdout",
     "output_type": "stream",
     "text": [
      "try\n",
      "finally\n"
     ]
    }
   ],
   "source": [
    "try:\n",
    "    print('try')\n",
    "finally:\n",
    "    print(\"finally\")"
   ]
  },
  {
   "cell_type": "code",
   "execution_count": 7,
   "id": "02810388",
   "metadata": {},
   "outputs": [
    {
     "name": "stdout",
     "output_type": "stream",
     "text": [
      "try\n",
      "Finally\n"
     ]
    }
   ],
   "source": [
    "#case1\n",
    "\n",
    "try:\n",
    "    print('try')\n",
    "except:\n",
    "    print('Except')\n",
    "finally:\n",
    "    print(\"Finally\")"
   ]
  },
  {
   "cell_type": "code",
   "execution_count": 8,
   "id": "7dccadc4",
   "metadata": {},
   "outputs": [
    {
     "ename": "SyntaxError",
     "evalue": "invalid syntax (<ipython-input-8-77789b311576>, line 2)",
     "output_type": "error",
     "traceback": [
      "\u001b[1;36m  File \u001b[1;32m\"<ipython-input-8-77789b311576>\"\u001b[1;36m, line \u001b[1;32m2\u001b[0m\n\u001b[1;33m    except:\u001b[0m\n\u001b[1;37m    ^\u001b[0m\n\u001b[1;31mSyntaxError\u001b[0m\u001b[1;31m:\u001b[0m invalid syntax\n"
     ]
    }
   ],
   "source": [
    "#case2 \n",
    "#Without try only except block is invalid\n",
    "except:\n",
    "    print(\"except\")"
   ]
  },
  {
   "cell_type": "code",
   "execution_count": 9,
   "id": "4c1845c0",
   "metadata": {},
   "outputs": [
    {
     "ename": "SyntaxError",
     "evalue": "invalid syntax (<ipython-input-9-0746ae50db4e>, line 2)",
     "output_type": "error",
     "traceback": [
      "\u001b[1;36m  File \u001b[1;32m\"<ipython-input-9-0746ae50db4e>\"\u001b[1;36m, line \u001b[1;32m2\u001b[0m\n\u001b[1;33m    else:\u001b[0m\n\u001b[1;37m    ^\u001b[0m\n\u001b[1;31mSyntaxError\u001b[0m\u001b[1;31m:\u001b[0m invalid syntax\n"
     ]
    }
   ],
   "source": [
    "#case3\n",
    "\n",
    "else:\n",
    "    print(\"Hello\")"
   ]
  },
  {
   "cell_type": "code",
   "execution_count": 10,
   "id": "570496ec",
   "metadata": {},
   "outputs": [
    {
     "ename": "SyntaxError",
     "evalue": "invalid syntax (<ipython-input-10-6720fbdcb398>, line 3)",
     "output_type": "error",
     "traceback": [
      "\u001b[1;36m  File \u001b[1;32m\"<ipython-input-10-6720fbdcb398>\"\u001b[1;36m, line \u001b[1;32m3\u001b[0m\n\u001b[1;33m    finally:\u001b[0m\n\u001b[1;37m    ^\u001b[0m\n\u001b[1;31mSyntaxError\u001b[0m\u001b[1;31m:\u001b[0m invalid syntax\n"
     ]
    }
   ],
   "source": [
    "#case4\n",
    "\n",
    "finally:\n",
    "    print(\"finally\")"
   ]
  },
  {
   "cell_type": "code",
   "execution_count": 11,
   "id": "112737d3",
   "metadata": {},
   "outputs": [
    {
     "name": "stdout",
     "output_type": "stream",
     "text": [
      "hi\n"
     ]
    }
   ],
   "source": [
    "#case5\n",
    "\n",
    "try:\n",
    "    print(\"hi\")\n",
    "except:\n",
    "    print(\"Hello\")"
   ]
  },
  {
   "cell_type": "code",
   "execution_count": 14,
   "id": "a229e4a7",
   "metadata": {},
   "outputs": [
    {
     "name": "stdout",
     "output_type": "stream",
     "text": [
      "Hello\n",
      "Hi\n"
     ]
    },
    {
     "ename": "ZeroDivisionError",
     "evalue": "division by zero",
     "output_type": "error",
     "traceback": [
      "\u001b[1;31m---------------------------------------------------------------------------\u001b[0m",
      "\u001b[1;31mZeroDivisionError\u001b[0m                         Traceback (most recent call last)",
      "\u001b[1;32m<ipython-input-14-ca83b1fd8916>\u001b[0m in \u001b[0;36m<module>\u001b[1;34m\u001b[0m\n\u001b[0;32m      2\u001b[0m \u001b[1;32mtry\u001b[0m\u001b[1;33m:\u001b[0m\u001b[1;33m\u001b[0m\u001b[1;33m\u001b[0m\u001b[0m\n\u001b[0;32m      3\u001b[0m     \u001b[0mprint\u001b[0m\u001b[1;33m(\u001b[0m\u001b[1;34m'Hello'\u001b[0m\u001b[1;33m)\u001b[0m\u001b[1;33m\u001b[0m\u001b[1;33m\u001b[0m\u001b[0m\n\u001b[1;32m----> 4\u001b[1;33m     \u001b[0mprint\u001b[0m\u001b[1;33m(\u001b[0m\u001b[1;36m10\u001b[0m\u001b[1;33m/\u001b[0m\u001b[1;36m0\u001b[0m\u001b[1;33m)\u001b[0m\u001b[1;33m\u001b[0m\u001b[1;33m\u001b[0m\u001b[0m\n\u001b[0m\u001b[0;32m      5\u001b[0m \u001b[1;32mfinally\u001b[0m\u001b[1;33m:\u001b[0m\u001b[1;33m\u001b[0m\u001b[1;33m\u001b[0m\u001b[0m\n\u001b[0;32m      6\u001b[0m     \u001b[0mprint\u001b[0m\u001b[1;33m(\u001b[0m\u001b[1;34m\"Hi\"\u001b[0m\u001b[1;33m)\u001b[0m\u001b[1;33m\u001b[0m\u001b[1;33m\u001b[0m\u001b[0m\n",
      "\u001b[1;31mZeroDivisionError\u001b[0m: division by zero"
     ]
    }
   ],
   "source": [
    "#case6\n",
    "try:\n",
    "    print('Hello')\n",
    "    print(10/0)\n",
    "finally:\n",
    "    print(\"Hi\")\n",
    "    \n",
    "#Try should have atleast except or finally block."
   ]
  },
  {
   "cell_type": "code",
   "execution_count": 15,
   "id": "59634340",
   "metadata": {},
   "outputs": [
    {
     "name": "stdout",
     "output_type": "stream",
     "text": [
      "try\n",
      "else\n"
     ]
    }
   ],
   "source": [
    "#case7\n",
    "try:\n",
    "    print('try')\n",
    "except:\n",
    "    print(\"except\")\n",
    "else:\n",
    "    print(\"else\")\n",
    "    "
   ]
  },
  {
   "cell_type": "code",
   "execution_count": 16,
   "id": "eb934f3a",
   "metadata": {},
   "outputs": [
    {
     "ename": "SyntaxError",
     "evalue": "invalid syntax (<ipython-input-16-b8fe1b0ef09c>, line 4)",
     "output_type": "error",
     "traceback": [
      "\u001b[1;36m  File \u001b[1;32m\"<ipython-input-16-b8fe1b0ef09c>\"\u001b[1;36m, line \u001b[1;32m4\u001b[0m\n\u001b[1;33m    else:\u001b[0m\n\u001b[1;37m    ^\u001b[0m\n\u001b[1;31mSyntaxError\u001b[0m\u001b[1;31m:\u001b[0m invalid syntax\n"
     ]
    }
   ],
   "source": [
    "#case8\n",
    "try:\n",
    "    print(\"try\")\n",
    "else:\n",
    "    print(\"else\")"
   ]
  },
  {
   "cell_type": "code",
   "execution_count": 17,
   "id": "aedac583",
   "metadata": {},
   "outputs": [
    {
     "ename": "SyntaxError",
     "evalue": "invalid syntax (<ipython-input-17-30651e281bfc>, line 4)",
     "output_type": "error",
     "traceback": [
      "\u001b[1;36m  File \u001b[1;32m\"<ipython-input-17-30651e281bfc>\"\u001b[1;36m, line \u001b[1;32m4\u001b[0m\n\u001b[1;33m    else:\u001b[0m\n\u001b[1;37m    ^\u001b[0m\n\u001b[1;31mSyntaxError\u001b[0m\u001b[1;31m:\u001b[0m invalid syntax\n"
     ]
    }
   ],
   "source": [
    "#case9\n",
    "try:     # When running else, it should come after except.\n",
    "    print(\"try\")\n",
    "else:\n",
    "    print(\"else\")\n",
    "finally:\n",
    "    print(\"finally\")"
   ]
  },
  {
   "cell_type": "code",
   "execution_count": 19,
   "id": "94f2ee44",
   "metadata": {},
   "outputs": [
    {
     "name": "stdout",
     "output_type": "stream",
     "text": [
      "try\n",
      "Except1\n"
     ]
    }
   ],
   "source": [
    "#case10:\n",
    "try:\n",
    "    print(\"try\")\n",
    "    print(10/0)\n",
    "except ZeroDivisionError:\n",
    "    print(\"Except1\")\n",
    "except TypeError:\n",
    "    print(\"Except2\")\n"
   ]
  },
  {
   "cell_type": "code",
   "execution_count": 20,
   "id": "0d11306f",
   "metadata": {},
   "outputs": [
    {
     "name": "stdout",
     "output_type": "stream",
     "text": [
      "try\n",
      "Except2\n"
     ]
    }
   ],
   "source": [
    "try:\n",
    "    print(\"try\")\n",
    "    print(10/'a')\n",
    "except ZeroDivisionError:\n",
    "    print(\"Except1\")\n",
    "except TypeError:\n",
    "    print(\"Except2\")\n"
   ]
  },
  {
   "cell_type": "code",
   "execution_count": 21,
   "id": "bbfd8d2b",
   "metadata": {},
   "outputs": [
    {
     "ename": "SyntaxError",
     "evalue": "invalid syntax (<ipython-input-21-4bd43cb53916>, line 8)",
     "output_type": "error",
     "traceback": [
      "\u001b[1;36m  File \u001b[1;32m\"<ipython-input-21-4bd43cb53916>\"\u001b[1;36m, line \u001b[1;32m8\u001b[0m\n\u001b[1;33m    else:\u001b[0m\n\u001b[1;37m    ^\u001b[0m\n\u001b[1;31mSyntaxError\u001b[0m\u001b[1;31m:\u001b[0m invalid syntax\n"
     ]
    }
   ],
   "source": [
    "#case11\n",
    "try:\n",
    "    print(\"try\")    #Multiple else is not possible.\n",
    "except ZeroDivisionError:  \n",
    "    print('Except1')\n",
    "else:\n",
    "    print(\"Else1\")\n",
    "else:\n",
    "    print(\"Else2\")"
   ]
  },
  {
   "cell_type": "code",
   "execution_count": 22,
   "id": "c74a6630",
   "metadata": {},
   "outputs": [
    {
     "ename": "SyntaxError",
     "evalue": "invalid syntax (<ipython-input-22-3931b7cb9400>, line 8)",
     "output_type": "error",
     "traceback": [
      "\u001b[1;36m  File \u001b[1;32m\"<ipython-input-22-3931b7cb9400>\"\u001b[1;36m, line \u001b[1;32m8\u001b[0m\n\u001b[1;33m    finally:\u001b[0m\n\u001b[1;37m    ^\u001b[0m\n\u001b[1;31mSyntaxError\u001b[0m\u001b[1;31m:\u001b[0m invalid syntax\n"
     ]
    }
   ],
   "source": [
    "#case12\n",
    "try:\n",
    "    print(\"try\")  #Multiple finally is not possible\n",
    "except:\n",
    "    print(\"except\")\n",
    "finally:\n",
    "    print(\"finally1\")\n",
    "finally:\n",
    "    print(\"finally2\")"
   ]
  },
  {
   "cell_type": "code",
   "execution_count": 23,
   "id": "3b57a40c",
   "metadata": {},
   "outputs": [
    {
     "ename": "SyntaxError",
     "evalue": "invalid syntax (<ipython-input-23-245dbda85a68>, line 5)",
     "output_type": "error",
     "traceback": [
      "\u001b[1;36m  File \u001b[1;32m\"<ipython-input-23-245dbda85a68>\"\u001b[1;36m, line \u001b[1;32m5\u001b[0m\n\u001b[1;33m    print(\"Hello\")\u001b[0m\n\u001b[1;37m    ^\u001b[0m\n\u001b[1;31mSyntaxError\u001b[0m\u001b[1;31m:\u001b[0m invalid syntax\n"
     ]
    }
   ],
   "source": [
    "#Case13\n",
    "\n",
    "try:\n",
    "    print(\"try\")\n",
    "print(\"Hello\")  # I cannot write any statement between try and except.\n",
    "except:\n",
    "    print(\"except\")"
   ]
  },
  {
   "cell_type": "code",
   "execution_count": 24,
   "id": "ce208917",
   "metadata": {},
   "outputs": [
    {
     "ename": "SyntaxError",
     "evalue": "invalid syntax (<ipython-input-24-aeb47611aec3>, line 8)",
     "output_type": "error",
     "traceback": [
      "\u001b[1;36m  File \u001b[1;32m\"<ipython-input-24-aeb47611aec3>\"\u001b[1;36m, line \u001b[1;32m8\u001b[0m\n\u001b[1;33m    except TypeError:\u001b[0m\n\u001b[1;37m    ^\u001b[0m\n\u001b[1;31mSyntaxError\u001b[0m\u001b[1;31m:\u001b[0m invalid syntax\n"
     ]
    }
   ],
   "source": [
    "#case14\n",
    "\n",
    "try:\n",
    "    print(\"try\")\n",
    "except:\n",
    "    print(\"except\")\n",
    "print(\"Hello\")   # I cannot add statement between 2 except block.\n",
    "except TypeError:\n",
    "    print(\"Except2\")"
   ]
  },
  {
   "cell_type": "code",
   "execution_count": 25,
   "id": "4ba5adbf",
   "metadata": {},
   "outputs": [
    {
     "ename": "SyntaxError",
     "evalue": "invalid syntax (<ipython-input-25-fbfb72cf728f>, line 7)",
     "output_type": "error",
     "traceback": [
      "\u001b[1;36m  File \u001b[1;32m\"<ipython-input-25-fbfb72cf728f>\"\u001b[1;36m, line \u001b[1;32m7\u001b[0m\n\u001b[1;33m    finally:\u001b[0m\n\u001b[1;37m    ^\u001b[0m\n\u001b[1;31mSyntaxError\u001b[0m\u001b[1;31m:\u001b[0m invalid syntax\n"
     ]
    }
   ],
   "source": [
    "#case15\n",
    "try:\n",
    "    print('Try')\n",
    "except ZeroDivisionError:\n",
    "    print(\"Except1\")\n",
    "print(\"Hello\")\n",
    "finally:   \n",
    "    print(\"finally\")"
   ]
  },
  {
   "cell_type": "code",
   "execution_count": 26,
   "id": "8e7e661a",
   "metadata": {},
   "outputs": [
    {
     "ename": "SyntaxError",
     "evalue": "invalid syntax (<ipython-input-26-5bee0b74061d>, line 7)",
     "output_type": "error",
     "traceback": [
      "\u001b[1;36m  File \u001b[1;32m\"<ipython-input-26-5bee0b74061d>\"\u001b[1;36m, line \u001b[1;32m7\u001b[0m\n\u001b[1;33m    else:\u001b[0m\n\u001b[1;37m    ^\u001b[0m\n\u001b[1;31mSyntaxError\u001b[0m\u001b[1;31m:\u001b[0m invalid syntax\n"
     ]
    }
   ],
   "source": [
    "#case16\n",
    "try:\n",
    "    print(\"try\")\n",
    "except ZeroDivisionError:\n",
    "    print(\"except1\")\n",
    "print(\"hello\")\n",
    "else:\n",
    "    print(\"Else\")"
   ]
  },
  {
   "cell_type": "code",
   "execution_count": 27,
   "id": "2f2bbeab",
   "metadata": {},
   "outputs": [
    {
     "name": "stdout",
     "output_type": "stream",
     "text": [
      "try\n",
      "Try2\n"
     ]
    }
   ],
   "source": [
    "#case17:\n",
    "try:\n",
    "    print(\"try\")\n",
    "except:\n",
    "    print(\"Except1\")\n",
    ";try:\n",
    "    print(\"Try2\")\n",
    "except:\n",
    "    print(\"Except2\")"
   ]
  },
  {
   "cell_type": "code",
   "execution_count": 28,
   "id": "7745df8d",
   "metadata": {},
   "outputs": [
    {
     "name": "stdout",
     "output_type": "stream",
     "text": [
      "Try\n",
      "try\n",
      "Finally\n"
     ]
    }
   ],
   "source": [
    "#case18\n",
    "\n",
    "try:\n",
    "    print(\"Try\")\n",
    "except:\n",
    "    print(\"Except\")\n",
    "try:\n",
    "    print(\"try\")\n",
    "finally:\n",
    "    print(\"Finally\")"
   ]
  },
  {
   "cell_type": "code",
   "execution_count": 29,
   "id": "9bcd11b6",
   "metadata": {},
   "outputs": [
    {
     "name": "stdout",
     "output_type": "stream",
     "text": [
      "try\n",
      "Else\n"
     ]
    }
   ],
   "source": [
    "#case19\n",
    "\n",
    "try:\n",
    "    print(\"try\")\n",
    "except:\n",
    "    print(\"except1\")\n",
    "if 10>20:\n",
    "    print(\"if\")\n",
    "else:\n",
    "    print(\"Else\")"
   ]
  },
  {
   "cell_type": "code",
   "execution_count": 30,
   "id": "850cc208",
   "metadata": {},
   "outputs": [
    {
     "name": "stdout",
     "output_type": "stream",
     "text": [
      "try\n",
      "Inner try\n",
      "Inner finally\n"
     ]
    }
   ],
   "source": [
    "#case20\n",
    "\n",
    "try:\n",
    "    print(\"try\")\n",
    "    try:\n",
    "        print(\"Inner try\")\n",
    "    except:\n",
    "        print(\"Inner Except\")\n",
    "    finally:\n",
    "        print(\"Inner finally\")\n",
    "except:\n",
    "    print(\"Except\")"
   ]
  },
  {
   "cell_type": "code",
   "execution_count": 31,
   "id": "8ec7790d",
   "metadata": {},
   "outputs": [
    {
     "name": "stdout",
     "output_type": "stream",
     "text": [
      "try\n"
     ]
    }
   ],
   "source": [
    "# case21\n",
    "\n",
    "try:\n",
    "    print(\"try\")\n",
    "except:\n",
    "    print(\"except\")\n",
    "    try:\n",
    "        print(\"Inner Try\")\n",
    "    except:\n",
    "        print(\"Inner except\")\n",
    "    finally:\n",
    "        print(\"Inner Finally\")"
   ]
  },
  {
   "cell_type": "code",
   "execution_count": 32,
   "id": "e7fb6a42",
   "metadata": {},
   "outputs": [
    {
     "name": "stdout",
     "output_type": "stream",
     "text": [
      "try\n",
      "Finally\n",
      "Inner trying to\n",
      "Inner Finally\n"
     ]
    }
   ],
   "source": [
    "#case22\n",
    "\n",
    "try:\n",
    "    print(\"try\")\n",
    "except:\n",
    "    print(\"Except\")\n",
    "finally:\n",
    "    print(\"Finally\")\n",
    "    try:\n",
    "        print(\"Inner trying to\")\n",
    "    except:\n",
    "        print(\"Inner except\")\n",
    "    finally:\n",
    "        print(\"Inner Finally\")"
   ]
  },
  {
   "cell_type": "code",
   "execution_count": 33,
   "id": "2c918cb8",
   "metadata": {},
   "outputs": [
    {
     "ename": "SyntaxError",
     "evalue": "invalid syntax (<ipython-input-33-1c384bf94d13>, line 8)",
     "output_type": "error",
     "traceback": [
      "\u001b[1;36m  File \u001b[1;32m\"<ipython-input-33-1c384bf94d13>\"\u001b[1;36m, line \u001b[1;32m8\u001b[0m\n\u001b[1;33m    else:\u001b[0m\n\u001b[1;37m    ^\u001b[0m\n\u001b[1;31mSyntaxError\u001b[0m\u001b[1;31m:\u001b[0m invalid syntax\n"
     ]
    }
   ],
   "source": [
    "#case23\n",
    "try:\n",
    "    print(\"try\")\n",
    "except:\n",
    "    print(\"except\")\n",
    "try:\n",
    "    print(\"Try\")\n",
    "else:\n",
    "    print(\"Else\")  # Try will work with except or finally"
   ]
  },
  {
   "cell_type": "code",
   "execution_count": 34,
   "id": "3ac893f8",
   "metadata": {},
   "outputs": [
    {
     "ename": "IndentationError",
     "evalue": "unexpected unindent (<ipython-input-34-9e43651a12ec>, line 7)",
     "output_type": "error",
     "traceback": [
      "\u001b[1;36m  File \u001b[1;32m\"<ipython-input-34-9e43651a12ec>\"\u001b[1;36m, line \u001b[1;32m7\u001b[0m\n\u001b[1;33m    except:\u001b[0m\n\u001b[1;37m           ^\u001b[0m\n\u001b[1;31mIndentationError\u001b[0m\u001b[1;31m:\u001b[0m unexpected unindent\n"
     ]
    }
   ],
   "source": [
    "#case24\n",
    "\n",
    "try:\n",
    "    print(\"try\")\n",
    "    try:\n",
    "        print(\"Inner trying to\")\n",
    "except:\n",
    "    print(\"Except\")\n",
    "finally:\n",
    "    print(\"Finally\")"
   ]
  },
  {
   "cell_type": "code",
   "execution_count": 35,
   "id": "f57f3f61",
   "metadata": {},
   "outputs": [
    {
     "name": "stdout",
     "output_type": "stream",
     "text": [
      "try\n",
      "Inner try\n",
      "Finally\n"
     ]
    }
   ],
   "source": [
    "#case25\n",
    "try:\n",
    "    print(\"try\")\n",
    "    try:\n",
    "        print(\"Inner try\")\n",
    "    except:\n",
    "        print(\"except\")\n",
    "finally:\n",
    "    print(\"Finally\")"
   ]
  },
  {
   "cell_type": "code",
   "execution_count": 36,
   "id": "b6ace625",
   "metadata": {},
   "outputs": [
    {
     "name": "stdout",
     "output_type": "stream",
     "text": [
      "Try\n",
      "Else\n",
      "Try\n",
      "Finally\n"
     ]
    }
   ],
   "source": [
    "#case26\n",
    "try:\n",
    "    print(\"Try\")\n",
    "except:\n",
    "    print(\"Except\")\n",
    "else:\n",
    "    print(\"Else\")\n",
    "    try:\n",
    "        print(\"Try\")\n",
    "    except:\n",
    "        print(\"Except\")\n",
    "finally:\n",
    "    print(\"Finally\")"
   ]
  },
  {
   "cell_type": "code",
   "execution_count": null,
   "id": "65c172c5",
   "metadata": {},
   "outputs": [],
   "source": []
  },
  {
   "cell_type": "code",
   "execution_count": null,
   "id": "ef559e29",
   "metadata": {},
   "outputs": [],
   "source": []
  },
  {
   "cell_type": "code",
   "execution_count": null,
   "id": "cc0bc905",
   "metadata": {},
   "outputs": [],
   "source": []
  },
  {
   "cell_type": "code",
   "execution_count": null,
   "id": "6e0d94f7",
   "metadata": {},
   "outputs": [],
   "source": []
  }
 ],
 "metadata": {
  "kernelspec": {
   "display_name": "Python 3",
   "language": "python",
   "name": "python3"
  },
  "language_info": {
   "codemirror_mode": {
    "name": "ipython",
    "version": 3
   },
   "file_extension": ".py",
   "mimetype": "text/x-python",
   "name": "python",
   "nbconvert_exporter": "python",
   "pygments_lexer": "ipython3",
   "version": "3.8.8"
  }
 },
 "nbformat": 4,
 "nbformat_minor": 5
}
