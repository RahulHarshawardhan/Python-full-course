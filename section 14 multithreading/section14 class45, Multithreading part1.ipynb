{
 "cells": [
  {
   "cell_type": "code",
   "execution_count": null,
   "id": "f7bff5c9",
   "metadata": {},
   "outputs": [],
   "source": [
    "#Multi Threading\n",
    "    #MultiTasking - Execution of several task simultaneously.\n",
    "        # There are 2 types of Multi tasking\n",
    "        #1) Process based multi tasking\n",
    "        #2) Thread based multi tasking\n",
    "    \n",
    "    #1) process based multi tasking - Each task is separate independent process\n",
    "    #2) Thread based multi tasking - 10000 lines of code - 5000 lins of code is not dependent on rest 5000 lines of code. "
   ]
  }
 ],
 "metadata": {
  "kernelspec": {
   "display_name": "Python 3",
   "language": "python",
   "name": "python3"
  },
  "language_info": {
   "codemirror_mode": {
    "name": "ipython",
    "version": 3
   },
   "file_extension": ".py",
   "mimetype": "text/x-python",
   "name": "python",
   "nbconvert_exporter": "python",
   "pygments_lexer": "ipython3",
   "version": "3.8.8"
  }
 },
 "nbformat": 4,
 "nbformat_minor": 5
}
