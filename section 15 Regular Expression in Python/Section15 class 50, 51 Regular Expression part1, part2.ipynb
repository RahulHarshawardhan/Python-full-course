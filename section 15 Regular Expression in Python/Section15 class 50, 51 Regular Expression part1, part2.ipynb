{
 "cells": [
  {
   "cell_type": "code",
   "execution_count": 1,
   "id": "2984f71c",
   "metadata": {},
   "outputs": [],
   "source": [
    "# Regular Expression\n",
    "#) Pattern Matching\n",
    "        #phone number - 6,7,8,9\n",
    "        #email ids - \n",
    "        \n",
    "#Main Important Area\n",
    "# Validation\n",
    "# whether pattern is available or not.\n",
    "#lexical Analysis.\n",
    "# to achieve regular expression problem we have to import module re.\n"
   ]
  },
  {
   "cell_type": "code",
   "execution_count": 2,
   "id": "8eece608",
   "metadata": {},
   "outputs": [],
   "source": [
    "import re"
   ]
  },
  {
   "cell_type": "code",
   "execution_count": null,
   "id": "41b386bb",
   "metadata": {},
   "outputs": [],
   "source": [
    "re.compile() #function"
   ]
  },
  {
   "cell_type": "code",
   "execution_count": 3,
   "id": "7d1da5a1",
   "metadata": {},
   "outputs": [
    {
     "data": {
      "text/plain": [
       "'learning pyrhon is very easy'"
      ]
     },
     "execution_count": 3,
     "metadata": {},
     "output_type": "execute_result"
    }
   ],
   "source": [
    "\"learning python is very easy\""
   ]
  },
  {
   "cell_type": "code",
   "execution_count": 4,
   "id": "d56ab07a",
   "metadata": {},
   "outputs": [],
   "source": [
    "import re\n",
    "pattern = re.compile('python') # complile helps us to check which word wwe are checking.\n",
    "matcher = pattern.finditer(\"learning pyrhon is very easy\")# finditer check the pattern in the string. "
   ]
  },
  {
   "cell_type": "code",
   "execution_count": 5,
   "id": "9f5dd151",
   "metadata": {},
   "outputs": [
    {
     "name": "stdout",
     "output_type": "stream",
     "text": [
      "<callable_iterator object at 0x000002CEE4B80CA0>\n"
     ]
    }
   ],
   "source": [
    "print(matcher)"
   ]
  },
  {
   "cell_type": "code",
   "execution_count": 6,
   "id": "fcd55b48",
   "metadata": {},
   "outputs": [],
   "source": [
    "# Important function\n",
    "\n",
    "#start()- Start index of the match\n",
    "\n",
    "#end()- end+1 index of a match\n",
    "\n",
    "#group()- returned matched string."
   ]
  },
  {
   "cell_type": "code",
   "execution_count": 11,
   "id": "e5afb609",
   "metadata": {},
   "outputs": [
    {
     "name": "stdout",
     "output_type": "stream",
     "text": [
      "match is available at the start index: 0\n",
      "match is available at the end index: 2\n",
      "match is available at the group index: cd\n",
      "\n",
      "match is available at the start index: 3\n",
      "match is available at the end index: 5\n",
      "match is available at the group index: cd\n",
      "\n",
      "match is available at the start index: 5\n",
      "match is available at the end index: 7\n",
      "match is available at the group index: cd\n",
      "\n",
      "match is available at the start index: 8\n",
      "match is available at the end index: 10\n",
      "match is available at the group index: cd\n",
      "\n",
      "match is available at the start index: 10\n",
      "match is available at the end index: 12\n",
      "match is available at the group index: cd\n",
      "\n",
      "match is available at the start index: 12\n",
      "match is available at the end index: 14\n",
      "match is available at the group index: cd\n",
      "\n",
      "match is available at the start index: 14\n",
      "match is available at the end index: 16\n",
      "match is available at the group index: cd\n",
      "\n",
      "match is available at the start index: 17\n",
      "match is available at the end index: 19\n",
      "match is available at the group index: cd\n",
      "\n"
     ]
    }
   ],
   "source": [
    "import re\n",
    "pattern = re.compile(\"cd\")\n",
    "matcher = pattern.finditer(\"cdccdcdccdcdcdcdccd\")\n",
    "for match in matcher:\n",
    "    print(\"match is available at the start index:\", match.start())\n",
    "    print(\"match is available at the end index:\", match.end())  \n",
    "    print(\"match is available at the group index:\", match.group())\n",
    "    print()"
   ]
  },
  {
   "cell_type": "code",
   "execution_count": 12,
   "id": "f1f3fa33",
   "metadata": {},
   "outputs": [
    {
     "name": "stdout",
     "output_type": "stream",
     "text": [
      "match is available at the start index: 0\n",
      "match is available at the start index: 3\n",
      "match is available at the start index: 5\n",
      "match is available at the start index: 8\n",
      "match is available at the start index: 10\n",
      "match is available at the start index: 12\n",
      "match is available at the start index: 14\n",
      "match is available at the start index: 17\n",
      "The number of occurences : 8\n"
     ]
    }
   ],
   "source": [
    "import re\n",
    "count = 0\n",
    "pattern = re.compile(\"cd\")\n",
    "matcher = pattern.finditer(\"cdccdcdccdcdcdcdccd\")\n",
    "for match in matcher:\n",
    "    count = count+1\n",
    "    print(\"match is available at the start index:\", match.start())\n",
    "print(\"The number of occurences :\", count)\n",
    "    "
   ]
  },
  {
   "cell_type": "code",
   "execution_count": 19,
   "id": "89cae5cd",
   "metadata": {},
   "outputs": [
    {
     "name": "stdout",
     "output_type": "stream",
     "text": [
      "start:0, end:2, group:cd\n",
      "\n",
      "start:3, end:5, group:cd\n",
      "\n",
      "start:5, end:7, group:cd\n",
      "\n",
      "start:8, end:10, group:cd\n",
      "\n",
      "start:10, end:12, group:cd\n",
      "\n",
      "start:12, end:14, group:cd\n",
      "\n",
      "start:14, end:16, group:cd\n",
      "\n",
      "start:17, end:19, group:cd\n",
      "\n",
      "The number of occurences : 8\n"
     ]
    }
   ],
   "source": [
    "import re\n",
    "count = 0\n",
    "pattern = re.compile(\"cd\")\n",
    "matcher = pattern.finditer(\"cdccdcdccdcdcdcdccd\")\n",
    "for match in matcher:\n",
    "    count = count+1\n",
    "    print(\"start:{}, end:{}, group:{}\".format(match.start(),match.end(), match.group()))\n",
    "    print()\n",
    "print(\"The number of occurences :\", count)\n",
    "\n",
    "    "
   ]
  },
  {
   "cell_type": "code",
   "execution_count": 20,
   "id": "0f153010",
   "metadata": {},
   "outputs": [],
   "source": [
    "#Looking for students whose name is starting with abc\n",
    "\n",
    "#[abc]- if we put abc in square bracket so, re will consider it as either a or b or c\n",
    "#[abc][a-z]*- from first square bracket that is[abc] it should be either a, b or c and from \n",
    "#[a-z] it can be any character from a to z. "
   ]
  },
  {
   "cell_type": "code",
   "execution_count": null,
   "id": "fd29c52c",
   "metadata": {},
   "outputs": [],
   "source": [
    "#[^abc]- except a nd b and c\n",
    "#[a-z]- all the character with lower case\n",
    "#[A-Z]- All he characters with upper case\n",
    "#[a-zA-Z]- Any alphabet\n",
    "#[0-9]- Any digits\n",
    "#[a-zA-Z0-9]- All the alphabets and numbers\n",
    "#[^a-zA-Z0-9]- All other characters."
   ]
  },
  {
   "cell_type": "code",
   "execution_count": 21,
   "id": "6e6f9438",
   "metadata": {},
   "outputs": [],
   "source": [
    "import re\n",
    "matcher = re.finditer('[pqr]', 'ab$Z12@9z t65&R')\n",
    "for m in matcher:\n",
    "    print(m.start(), '.........', m.group())\n",
    "#We could not any result as there is no match of pqr in the given string."
   ]
  },
  {
   "cell_type": "code",
   "execution_count": 22,
   "id": "2723fb40",
   "metadata": {},
   "outputs": [
    {
     "name": "stdout",
     "output_type": "stream",
     "text": [
      "0 ......... a\n",
      "8 ......... z\n"
     ]
    }
   ],
   "source": [
    "import re\n",
    "matcher = re.finditer('[az]', 'ab$Z12@9z t65&R')\n",
    "for m in matcher:\n",
    "    print(m.start(), '.........', m.group())\n"
   ]
  },
  {
   "cell_type": "code",
   "execution_count": 23,
   "id": "df7dc3b3",
   "metadata": {},
   "outputs": [
    {
     "name": "stdout",
     "output_type": "stream",
     "text": [
      "1 ......... b\n",
      "2 ......... $\n",
      "3 ......... Z\n",
      "4 ......... 1\n",
      "5 ......... 2\n",
      "6 ......... @\n",
      "7 ......... 9\n",
      "9 .........  \n",
      "10 ......... t\n",
      "11 ......... 6\n",
      "12 ......... 5\n",
      "13 ......... &\n",
      "14 ......... R\n"
     ]
    }
   ],
   "source": [
    "import re\n",
    "matcher = re.finditer('[^az]', 'ab$Z12@9z t65&R')\n",
    "for m in matcher:\n",
    "    print(m.start(), '.........', m.group())\n"
   ]
  },
  {
   "cell_type": "code",
   "execution_count": 24,
   "id": "714191d6",
   "metadata": {},
   "outputs": [
    {
     "name": "stdout",
     "output_type": "stream",
     "text": [
      "0 ......... a\n",
      "1 ......... b\n",
      "8 ......... z\n",
      "10 ......... t\n"
     ]
    }
   ],
   "source": [
    "import re\n",
    "matcher = re.finditer('[a-z]', 'ab$Z12@9z t65&R')\n",
    "for m in matcher:\n",
    "    print(m.start(), '.........', m.group())\n"
   ]
  },
  {
   "cell_type": "code",
   "execution_count": 25,
   "id": "f1d53a4c",
   "metadata": {},
   "outputs": [
    {
     "name": "stdout",
     "output_type": "stream",
     "text": [
      "3 ......... Z\n",
      "14 ......... R\n"
     ]
    }
   ],
   "source": [
    "import re\n",
    "matcher = re.finditer('[A-Z]', 'ab$Z12@9z t65&R')\n",
    "for m in matcher:\n",
    "    print(m.start(), '.........', m.group())\n"
   ]
  },
  {
   "cell_type": "code",
   "execution_count": 26,
   "id": "31e832a7",
   "metadata": {},
   "outputs": [
    {
     "name": "stdout",
     "output_type": "stream",
     "text": [
      "0 ......... a\n",
      "1 ......... b\n",
      "3 ......... Z\n",
      "8 ......... z\n",
      "10 ......... t\n",
      "14 ......... R\n"
     ]
    }
   ],
   "source": [
    "import re\n",
    "matcher = re.finditer('[a-zA-Z]', 'ab$Z12@9z t65&R')\n",
    "for m in matcher:\n",
    "    print(m.start(), '.........', m.group())\n"
   ]
  },
  {
   "cell_type": "code",
   "execution_count": 27,
   "id": "f02eb824",
   "metadata": {},
   "outputs": [
    {
     "name": "stdout",
     "output_type": "stream",
     "text": [
      "4 ......... 1\n",
      "5 ......... 2\n",
      "7 ......... 9\n",
      "11 ......... 6\n",
      "12 ......... 5\n"
     ]
    }
   ],
   "source": [
    "import re\n",
    "matcher = re.finditer('[0-9]', 'ab$Z12@9z t65&R')\n",
    "for m in matcher:\n",
    "    print(m.start(), '.........', m.group())\n"
   ]
  },
  {
   "cell_type": "code",
   "execution_count": 29,
   "id": "a9e4c2aa",
   "metadata": {},
   "outputs": [
    {
     "name": "stdout",
     "output_type": "stream",
     "text": [
      "0 ......... a\n",
      "1 ......... b\n",
      "3 ......... Z\n",
      "4 ......... 1\n",
      "5 ......... 2\n",
      "7 ......... 9\n",
      "8 ......... z\n",
      "10 ......... t\n",
      "11 ......... 6\n",
      "12 ......... 5\n",
      "14 ......... R\n"
     ]
    }
   ],
   "source": [
    "import re\n",
    "matcher = re.finditer('[a-zA-Z0-9]', 'ab$Z12@9z t65&R')\n",
    "for m in matcher:\n",
    "    print(m.start(), '.........', m.group())\n"
   ]
  },
  {
   "cell_type": "code",
   "execution_count": 30,
   "id": "b2756c7b",
   "metadata": {},
   "outputs": [
    {
     "name": "stdout",
     "output_type": "stream",
     "text": [
      "2 ......... $\n",
      "6 ......... @\n",
      "9 .........  \n",
      "13 ......... &\n"
     ]
    }
   ],
   "source": [
    "import re\n",
    "matcher = re.finditer('[^a-zA-Z0-9]', 'ab$Z12@9z t65&R')\n",
    "for m in matcher:\n",
    "    print(m.start(), '.........', m.group())"
   ]
  },
  {
   "cell_type": "code",
   "execution_count": null,
   "id": "5f84fb38",
   "metadata": {},
   "outputs": [],
   "source": [
    "#Pre defined characters Classes\n",
    "\n",
    "#\\s - Search for space character\n",
    "\n",
    "#\\S- Except space character\n",
    "\n",
    "#\\d- Any Digits\n",
    "\n",
    "#\\D- Except Digits\n",
    "\n",
    "#\\w- Any word character either caps or small or digits\n",
    "\n",
    "#\\W- Any character except word or show special characters\n",
    "\n",
    "# .- Every Character."
   ]
  },
  {
   "cell_type": "code",
   "execution_count": 32,
   "id": "bd6f9d5a",
   "metadata": {},
   "outputs": [
    {
     "name": "stdout",
     "output_type": "stream",
     "text": [
      "9 .........  \n"
     ]
    }
   ],
   "source": [
    "import re\n",
    "matcher = re.finditer('\\s', 'ab$Z12@9z t65&R')\n",
    "for m in matcher:\n",
    "    print(m.start(), '.........', m.group())\n",
    "#At the 9th position the space is present or starts."
   ]
  },
  {
   "cell_type": "code",
   "execution_count": 33,
   "id": "826e6bce",
   "metadata": {},
   "outputs": [
    {
     "name": "stdout",
     "output_type": "stream",
     "text": [
      "0 ......... a\n",
      "1 ......... b\n",
      "2 ......... $\n",
      "3 ......... Z\n",
      "4 ......... 1\n",
      "5 ......... 2\n",
      "6 ......... @\n",
      "7 ......... 9\n",
      "8 ......... z\n",
      "10 ......... t\n",
      "11 ......... 6\n",
      "12 ......... 5\n",
      "13 ......... &\n",
      "14 ......... R\n"
     ]
    }
   ],
   "source": [
    "import re\n",
    "matcher = re.finditer('\\S', 'ab$Z12@9z t65&R')\n",
    "for m in matcher:\n",
    "    print(m.start(), '.........', m.group())\n"
   ]
  },
  {
   "cell_type": "code",
   "execution_count": 34,
   "id": "cea0655d",
   "metadata": {},
   "outputs": [
    {
     "name": "stdout",
     "output_type": "stream",
     "text": [
      "4 ......... 1\n",
      "5 ......... 2\n",
      "7 ......... 9\n",
      "11 ......... 6\n",
      "12 ......... 5\n"
     ]
    }
   ],
   "source": [
    "import re\n",
    "matcher = re.finditer('\\d', 'ab$Z12@9z t65&R')\n",
    "for m in matcher:\n",
    "    print(m.start(), '.........', m.group())\n",
    "#At the 9th position the space is present or starts."
   ]
  },
  {
   "cell_type": "code",
   "execution_count": 35,
   "id": "c6e8f48d",
   "metadata": {},
   "outputs": [
    {
     "name": "stdout",
     "output_type": "stream",
     "text": [
      "0 ......... a\n",
      "1 ......... b\n",
      "2 ......... $\n",
      "3 ......... Z\n",
      "6 ......... @\n",
      "8 ......... z\n",
      "9 .........  \n",
      "10 ......... t\n",
      "13 ......... &\n",
      "14 ......... R\n"
     ]
    }
   ],
   "source": [
    "import re\n",
    "matcher = re.finditer('\\D', 'ab$Z12@9z t65&R')\n",
    "for m in matcher:\n",
    "    print(m.start(), '.........', m.group())\n",
    "#At the 9th position the space is present or starts."
   ]
  },
  {
   "cell_type": "code",
   "execution_count": 36,
   "id": "d864bc22",
   "metadata": {},
   "outputs": [
    {
     "name": "stdout",
     "output_type": "stream",
     "text": [
      "0 ......... a\n",
      "1 ......... b\n",
      "3 ......... Z\n",
      "4 ......... 1\n",
      "5 ......... 2\n",
      "7 ......... 9\n",
      "8 ......... z\n",
      "10 ......... t\n",
      "11 ......... 6\n",
      "12 ......... 5\n",
      "14 ......... R\n"
     ]
    }
   ],
   "source": [
    "import re\n",
    "matcher = re.finditer('\\w', 'ab$Z12@9z t65&R')\n",
    "for m in matcher:\n",
    "    print(m.start(), '.........', m.group())\n",
    "#At the 9th position the space is present or starts."
   ]
  },
  {
   "cell_type": "code",
   "execution_count": 37,
   "id": "d7654469",
   "metadata": {},
   "outputs": [
    {
     "name": "stdout",
     "output_type": "stream",
     "text": [
      "2 ......... $\n",
      "6 ......... @\n",
      "9 .........  \n",
      "13 ......... &\n"
     ]
    }
   ],
   "source": [
    "import re\n",
    "matcher = re.finditer('\\W', 'ab$Z12@9z t65&R')\n",
    "for m in matcher:\n",
    "    print(m.start(), '.........', m.group())\n",
    "#At the 9th position the space is present or starts."
   ]
  },
  {
   "cell_type": "code",
   "execution_count": 39,
   "id": "797699db",
   "metadata": {},
   "outputs": [
    {
     "name": "stdout",
     "output_type": "stream",
     "text": [
      "0 ......... a\n",
      "1 ......... b\n",
      "2 ......... $\n",
      "3 ......... Z\n",
      "4 ......... 1\n",
      "5 ......... 2\n",
      "6 ......... @\n",
      "7 ......... 9\n",
      "8 ......... z\n",
      "9 .........  \n",
      "10 ......... t\n",
      "11 ......... 6\n",
      "12 ......... 5\n",
      "13 ......... &\n",
      "14 ......... R\n"
     ]
    }
   ],
   "source": [
    "import re\n",
    "matcher = re.finditer('.', 'ab$Z12@9z t65&R')\n",
    "for m in matcher:\n",
    "    print(m.start(), '.........', m.group())"
   ]
  },
  {
   "cell_type": "code",
   "execution_count": 41,
   "id": "cccf78f5",
   "metadata": {},
   "outputs": [
    {
     "name": "stdout",
     "output_type": "stream",
     "text": [
      "0 ........ c\n",
      "2 ........ c\n",
      "3 ........ c\n",
      "5 ........ c\n",
      "6 ........ c\n",
      "7 ........ c\n",
      "9 ........ c\n",
      "10 ........ c\n",
      "11 ........ c\n",
      "12 ........ c\n"
     ]
    }
   ],
   "source": [
    "#Quantifiers- \n",
    "\n",
    "import re\n",
    "matcher = re.finditer(\"c\", \"cdccdcccdccccd\")\n",
    "for m in matcher:\n",
    "    print(m.start(), \"........\", m.group())\n",
    "\n",
    "#Occurance of single c, it will print."
   ]
  },
  {
   "cell_type": "code",
   "execution_count": null,
   "id": "b375b1ee",
   "metadata": {},
   "outputs": [],
   "source": [
    "#My requirement is to get c in what ever quantity it is present in string\n",
    "#like here in string \"cdccdcccdccccd\"\n",
    "#i should get as\n",
    "#c\n",
    "#cc\n",
    "#ccc\n",
    "#cccc\n"
   ]
  },
  {
   "cell_type": "code",
   "execution_count": 42,
   "id": "24fb36ad",
   "metadata": {},
   "outputs": [
    {
     "name": "stdout",
     "output_type": "stream",
     "text": [
      "0 ........ c\n",
      "2 ........ cc\n",
      "5 ........ ccc\n",
      "9 ........ cccc\n"
     ]
    }
   ],
   "source": [
    "import re\n",
    "matcher = re.finditer(\"c+\", \"cdccdcccdccccd\")\n",
    "for m in matcher:\n",
    "    print(m.start(), \"........\", m.group())\n",
    "    \n"
   ]
  },
  {
   "cell_type": "code",
   "execution_count": 43,
   "id": "c082a516",
   "metadata": {},
   "outputs": [
    {
     "name": "stdout",
     "output_type": "stream",
     "text": [
      "0 ........ c\n",
      "2 ........ cc\n",
      "5 ........ ccc\n",
      "9 ........ cc\n",
      "12 ........ cc\n"
     ]
    }
   ],
   "source": [
    "import re\n",
    "matcher = re.finditer(\"c+\", \"cdccdcccdccdccd\")\n",
    "for m in matcher:\n",
    "    print(m.start(), \"........\", m.group())"
   ]
  },
  {
   "cell_type": "code",
   "execution_count": 45,
   "id": "4e176988",
   "metadata": {},
   "outputs": [
    {
     "name": "stdout",
     "output_type": "stream",
     "text": [
      "0 ........ c\n",
      "1 ........ \n",
      "2 ........ cc\n",
      "4 ........ \n",
      "5 ........ ccc\n",
      "8 ........ \n",
      "9 ........ cc\n",
      "11 ........ \n",
      "12 ........ cc\n",
      "14 ........ \n",
      "15 ........ \n"
     ]
    }
   ],
   "source": [
    "import re\n",
    "matcher = re.finditer(\"c*\", \"cdccdcccdccdccd\") # c* means any number of c including 0 also.\n",
    "for m in matcher:\n",
    "    print(m.start(), \"........\", m.group())\n",
    "    \n",
    "# Here it will show the c as well the index of other character but will not print.\n",
    "#Because of end + 1 after last character d there is nothing so it will come blank."
   ]
  },
  {
   "cell_type": "code",
   "execution_count": 47,
   "id": "c151f7e3",
   "metadata": {},
   "outputs": [
    {
     "name": "stdout",
     "output_type": "stream",
     "text": [
      "0 ........ cd\n",
      "3 ........ cd\n",
      "7 ........ cd\n",
      "10 ........ cd\n",
      "12 ........ cd\n",
      "14 ........ cd\n"
     ]
    }
   ],
   "source": [
    "import re\n",
    "matcher = re.finditer(\"cd+\", \"cdccdcccdccdcdcd\") # c* means any number of c including 0 also.\n",
    "for m in matcher:\n",
    "    print(m.start(), \"........\", m.group())\n",
    "    \n",
    "#When we have more than one character it will print individually. unlike in c+ "
   ]
  },
  {
   "cell_type": "code",
   "execution_count": 48,
   "id": "1ab493b2",
   "metadata": {},
   "outputs": [
    {
     "name": "stdout",
     "output_type": "stream",
     "text": [
      "0 ........ c\n",
      "1 ........ \n",
      "2 ........ c\n",
      "3 ........ c\n",
      "4 ........ \n",
      "5 ........ c\n",
      "6 ........ c\n",
      "7 ........ c\n",
      "8 ........ \n",
      "9 ........ c\n",
      "10 ........ c\n",
      "11 ........ \n",
      "12 ........ c\n",
      "13 ........ \n",
      "14 ........ c\n",
      "15 ........ \n",
      "16 ........ \n"
     ]
    }
   ],
   "source": [
    "import re\n",
    "matcher = re.finditer(\"c?\", \"cdccdcccdccdcdcd\") # c? Atmost 1 c .\n",
    "for m in matcher:\n",
    "    print(m.start(), \"........\", m.group())"
   ]
  },
  {
   "cell_type": "code",
   "execution_count": 49,
   "id": "ceb52793",
   "metadata": {},
   "outputs": [
    {
     "name": "stdout",
     "output_type": "stream",
     "text": [
      "5 ........ ccc\n"
     ]
    }
   ],
   "source": [
    "import re\n",
    "matcher = re.finditer(\"c{3}\", \"cdccdcccdccdcdcd\") # c{3}- looking for 3 c together. .\n",
    "for m in matcher:\n",
    "    print(m.start(), \"........\", m.group())"
   ]
  },
  {
   "cell_type": "code",
   "execution_count": 50,
   "id": "4909c614",
   "metadata": {},
   "outputs": [
    {
     "name": "stdout",
     "output_type": "stream",
     "text": [
      "2 ........ cc\n",
      "5 ........ cc\n",
      "9 ........ cc\n"
     ]
    }
   ],
   "source": [
    "import re\n",
    "matcher = re.finditer(\"c{2}\", \"cdccdcccdccdcdcd\") # c{2}- looking for 2 c together. .\n",
    "for m in matcher:\n",
    "    print(m.start(), \"........\", m.group())\n",
    "    \n",
    "#Exactly n number of c's.\n",
    "#c{n}"
   ]
  },
  {
   "cell_type": "code",
   "execution_count": 51,
   "id": "9e591170",
   "metadata": {},
   "outputs": [
    {
     "name": "stdout",
     "output_type": "stream",
     "text": [
      "2 ........ cc\n",
      "5 ........ ccc\n",
      "9 ........ cc\n"
     ]
    }
   ],
   "source": [
    "import re\n",
    "matcher = re.finditer(\"c{2,3}\", \"cdccdcccdccdcdcd\") # c{3}- looking for 3 c together. .\n",
    "for m in matcher:\n",
    "    print(m.start(), \"........\", m.group())\n",
    "    \n",
    "#Exactly n number of c's.\n",
    "#c{m,n}- m is minimum, n is maximum."
   ]
  },
  {
   "cell_type": "code",
   "execution_count": 52,
   "id": "c416e6dd",
   "metadata": {},
   "outputs": [
    {
     "name": "stdout",
     "output_type": "stream",
     "text": [
      "2 ........ ccccccccccccccc\n",
      "17 ........ ccccccccccccccc\n",
      "32 ........ cccc\n",
      "37 ........ ccc\n",
      "41 ........ cc\n"
     ]
    }
   ],
   "source": [
    "import re\n",
    "matcher = re.finditer(\"c{2,15}\", \"cdccccccccccccccccccccccccccccccccccdcccdccdcdcd\") # c{3}- looking for 3 c together. .\n",
    "for m in matcher:\n",
    "    print(m.start(), \"........\", m.group())\n",
    "    \n",
    "#Exactly n number of c's.\n",
    "#c{m,n}- m is minimum, n is maximum."
   ]
  },
  {
   "cell_type": "code",
   "execution_count": 53,
   "id": "a54c42e0",
   "metadata": {},
   "outputs": [],
   "source": [
    "#Try this\n",
    "#a{2}a*"
   ]
  },
  {
   "cell_type": "code",
   "execution_count": 55,
   "id": "62509825",
   "metadata": {},
   "outputs": [
    {
     "name": "stdout",
     "output_type": "stream",
     "text": [
      "3 ........ aa\n",
      "9 ........ aaa\n",
      "18 ........ aaaa\n",
      "30 ........ aaaaa\n"
     ]
    }
   ],
   "source": [
    "import re\n",
    "matcher = re.finditer(\"a{2}a*\", \"abcaabbccaaabbbcccaaaabbbbccccaaaaabbbbbccccc\") # c{3}- looking for 3 c together. .\n",
    "for m in matcher:\n",
    "    print(m.start(), \"........\", m.group())\n",
    "    \n"
   ]
  },
  {
   "cell_type": "code",
   "execution_count": 56,
   "id": "de8b123c",
   "metadata": {},
   "outputs": [
    {
     "name": "stdout",
     "output_type": "stream",
     "text": [
      "1 ........ d\n",
      "4 ........ d\n",
      "8 ........ d\n",
      "11 ........ d\n",
      "13 ........ d\n",
      "15 ........ d\n"
     ]
    }
   ],
   "source": [
    "import re\n",
    "matcher = re.finditer(\"[^c]\", \"cdccdcccdccdcdcd\") \n",
    "for m in matcher:\n",
    "    print(m.start(), \"........\", m.group())\n",
    "#Except c"
   ]
  },
  {
   "cell_type": "code",
   "execution_count": 57,
   "id": "51d637d3",
   "metadata": {},
   "outputs": [
    {
     "name": "stdout",
     "output_type": "stream",
     "text": [
      "0 ........ c\n"
     ]
    }
   ],
   "source": [
    "#I want to know my string is starting with c or not\n",
    "\n",
    "import re\n",
    "matcher = re.finditer(\"^c\", \"cdccdcccdccdcdcd\") #^c means staring with c or no.  \n",
    "for m in matcher:                                #This is different from[^c] which means except c\n",
    "    print(m.start(), \"........\", m.group())      "
   ]
  },
  {
   "cell_type": "code",
   "execution_count": 59,
   "id": "6000cc16",
   "metadata": {},
   "outputs": [
    {
     "name": "stdout",
     "output_type": "stream",
     "text": [
      "0 ........ d\n"
     ]
    }
   ],
   "source": [
    "import re\n",
    "matcher = re.finditer(\"^d\", \"dcdccdcccdccdcdcd\") #^c means staring with c or no.  \n",
    "for m in matcher:                                #This is different from[^c] which means except c\n",
    "    print(m.start(), \"........\", m.group())      "
   ]
  },
  {
   "cell_type": "code",
   "execution_count": 60,
   "id": "2a5d68ae",
   "metadata": {},
   "outputs": [
    {
     "name": "stdout",
     "output_type": "stream",
     "text": [
      "15 ........ d\n"
     ]
    }
   ],
   "source": [
    "import re\n",
    "matcher = re.finditer(\"d$\", \"cdccdcccdccdcdcd\") # d$ means ending with d or no.  \n",
    "for m in matcher:                                \n",
    "    print(m.start(), \"........\", m.group())"
   ]
  },
  {
   "cell_type": "code",
   "execution_count": 61,
   "id": "4fb6f6d5",
   "metadata": {},
   "outputs": [
    {
     "name": "stdout",
     "output_type": "stream",
     "text": [
      "16 ........ c\n"
     ]
    }
   ],
   "source": [
    "import re\n",
    "matcher = re.finditer(\"c$\", \"cdccdcccdccdcdcdc\") # c$ means ending with c or no.  \n",
    "for m in matcher:                                \n",
    "    print(m.start(), \"........\", m.group())"
   ]
  },
  {
   "cell_type": "code",
   "execution_count": 62,
   "id": "e8faeb83",
   "metadata": {},
   "outputs": [],
   "source": [
    "#Important functions in RE module.\n",
    "\n",
    "# match() - To check the given pattern at the start of the target string.\n",
    "# fullmatch()- \n",
    "# search()\n",
    "# findall()\n",
    "# finditer()\n",
    "# sub()\n",
    "# subn()\n",
    "# split()\n",
    "# compile."
   ]
  },
  {
   "cell_type": "code",
   "execution_count": 66,
   "id": "4f3f0c0c",
   "metadata": {},
   "outputs": [
    {
     "name": "stdout",
     "output_type": "stream",
     "text": [
      "Enter the pattern to check:Learning\n",
      "Match is available at the begining of the string:\n",
      "start index: 0 and end index 8\n"
     ]
    }
   ],
   "source": [
    "import re \n",
    "s = input(\"Enter the pattern to check:\")\n",
    "m = re.match(s, 'Learning Python is very simple and easy')\n",
    "\n",
    "if m!= None:\n",
    "    print(\"Match is available at the begining of the string:\")\n",
    "    print('start index: {} and end index {}'. format(m.start(), m.end()))\n",
    "else:\n",
    "    print(\"Match is not available at the begining of the string\")"
   ]
  },
  {
   "cell_type": "code",
   "execution_count": 67,
   "id": "4dce4666",
   "metadata": {},
   "outputs": [
    {
     "name": "stdout",
     "output_type": "stream",
     "text": [
      "Enter the pattern to check:Python\n",
      "Match is not available at the begining of the string\n"
     ]
    }
   ],
   "source": [
    "import re\n",
    "s = input(\"Enter the pattern to check:\")\n",
    "m = re.match(s, 'Learning Python is very simple and easy')\n",
    "\n",
    "if m!= None:\n",
    "    print(\"Match is available at the begining of the string:\")\n",
    "    print('start index: {} and end index {}'. format(m.start(), m.end()))\n",
    "else:\n",
    "    print(\"Match is not available at the begining of the string\")"
   ]
  },
  {
   "cell_type": "code",
   "execution_count": 69,
   "id": "2b96be45",
   "metadata": {},
   "outputs": [
    {
     "name": "stdout",
     "output_type": "stream",
     "text": [
      "Enter the pattern to check:Learning Python\n",
      "Full string is not matched\n"
     ]
    }
   ],
   "source": [
    "# fullmatch()- This function is used to check the fullmatch of the string.\n",
    "\n",
    "import re\n",
    "s = input(\"Enter the pattern to check:\")\n",
    "m = re.fullmatch(s, 'Learning Python is very simple and easy')\n",
    "\n",
    "if m!= None:\n",
    "    print(\"Full string is matched:\")\n",
    "    print('start index: {} and end index {}'. format(m.start(), m.end()))\n",
    "else:\n",
    "    print(\"Full string is not matched\")"
   ]
  },
  {
   "cell_type": "code",
   "execution_count": 70,
   "id": "9d84048a",
   "metadata": {},
   "outputs": [
    {
     "name": "stdout",
     "output_type": "stream",
     "text": [
      "enter the pattern to check:c\n",
      "searched string matched:\n",
      "start index: 0 and end index 1\n"
     ]
    }
   ],
   "source": [
    "#search()-- result gives the first occurence of pattern from the string.\n",
    "\n",
    "s = input(\"enter the pattern to check:\")\n",
    "m = re.search(s, \"ccdddcccddddcdccccd\")\n",
    "if m != None:\n",
    "    print('searched string matched:')\n",
    "    print('start index: {} and end index {}'. format(m.start(), m.end()))\n",
    "    \n",
    "else:\n",
    "    print(\"searched string did not matched.\")\n",
    "    "
   ]
  },
  {
   "cell_type": "code",
   "execution_count": 72,
   "id": "63bafb32",
   "metadata": {},
   "outputs": [
    {
     "name": "stdout",
     "output_type": "stream",
     "text": [
      "enter the pattern to check:ef\n",
      "searched string did not matched.\n"
     ]
    }
   ],
   "source": [
    "#search()-- result gives the first occurence of pattern from the string.\n",
    "\n",
    "s = input(\"enter the pattern to check:\")\n",
    "m = re.search(s, \"ccdddcccddddcdccccd\")\n",
    "if m != None:\n",
    "    print('searched string matched:')\n",
    "    print('start index: {} and end index {}'. format(m.start(), m.end()))\n",
    "    \n",
    "else:\n",
    "    print(\"searched string did not matched.\")\n",
    "    "
   ]
  },
  {
   "cell_type": "code",
   "execution_count": 73,
   "id": "c4c97379",
   "metadata": {},
   "outputs": [
    {
     "name": "stdout",
     "output_type": "stream",
     "text": [
      "enter the pattern to check:cd\n",
      "['cd', 'cd', 'cd', 'cd']\n"
     ]
    }
   ],
   "source": [
    "#findall() - Give all the iteration of the pattern we are looking for.\n",
    "\n",
    "import re\n",
    "s = input(\"enter the pattern to check:\")\n",
    "m = re.findall(s, \"ccdddcccddddcdccccd\")\n",
    "print(m)\n",
    " "
   ]
  },
  {
   "cell_type": "code",
   "execution_count": 74,
   "id": "7da6679a",
   "metadata": {},
   "outputs": [
    {
     "name": "stdout",
     "output_type": "stream",
     "text": [
      "enter the pattern to check:ddd\n",
      "['ddd', 'ddd']\n"
     ]
    }
   ],
   "source": [
    "#findall()\n",
    "\n",
    "import re\n",
    "s = input(\"enter the pattern to check:\")\n",
    "m = re.findall(s, \"ccdddcccddddcdccccd\")\n",
    "print(m)"
   ]
  },
  {
   "cell_type": "code",
   "execution_count": 76,
   "id": "166a2270",
   "metadata": {},
   "outputs": [
    {
     "name": "stdout",
     "output_type": "stream",
     "text": [
      "['7', '6', '8', '9', '0']\n"
     ]
    }
   ],
   "source": [
    "#findall() - Find all the pattern we are looking.\n",
    "\n",
    "import re\n",
    "\n",
    "m = re.findall('[0-9]', 'a76c8e90$')\n",
    "print(m)"
   ]
  },
  {
   "cell_type": "code",
   "execution_count": 77,
   "id": "fd49756f",
   "metadata": {},
   "outputs": [
    {
     "name": "stdout",
     "output_type": "stream",
     "text": [
      "0 2 cd\n",
      "4 6 cd\n",
      "7 9 cd\n",
      "10 12 cd\n",
      "12 14 cd\n",
      "14 16 cd\n"
     ]
    }
   ],
   "source": [
    "#finditer()-- Occurence of the pattern we are getting.\n",
    "\n",
    "import re\n",
    "matcher = re.finditer('cd', 'cdcccdccdccdcdcdc')\n",
    "for m in matcher:\n",
    "    print(m.start(), m.end(), m.group())"
   ]
  },
  {
   "cell_type": "code",
   "execution_count": 78,
   "id": "83e5e098",
   "metadata": {},
   "outputs": [
    {
     "name": "stdout",
     "output_type": "stream",
     "text": [
      "['#', ' ', '$']\n"
     ]
    }
   ],
   "source": [
    "import re\n",
    "l = re.findall('\\W', 'a7# sfdsf$fs')\n",
    "print(l)"
   ]
  },
  {
   "cell_type": "code",
   "execution_count": 79,
   "id": "df93bde2",
   "metadata": {},
   "outputs": [
    {
     "name": "stdout",
     "output_type": "stream",
     "text": [
      "['7']\n"
     ]
    }
   ],
   "source": [
    "import re\n",
    "l = re.findall('\\d', 'a7# sfdsf$fs')\n",
    "print(l)"
   ]
  },
  {
   "cell_type": "code",
   "execution_count": 80,
   "id": "3052ae82",
   "metadata": {},
   "outputs": [
    {
     "name": "stdout",
     "output_type": "stream",
     "text": [
      "['a', '#', ' ', 's', 'f', 'd', 's', 'f', '$', 'f', 's']\n"
     ]
    }
   ],
   "source": [
    "import re\n",
    "l = re.findall('\\D', 'a7# sfdsf$fs')\n",
    "print(l)"
   ]
  },
  {
   "cell_type": "code",
   "execution_count": 81,
   "id": "abfc90c8",
   "metadata": {},
   "outputs": [
    {
     "name": "stdout",
     "output_type": "stream",
     "text": [
      "['a', '7', 's', 'f', 'd', 's', 'f', 'f', 's']\n"
     ]
    }
   ],
   "source": [
    "import re\n",
    "l = re.findall('\\w', 'a7# sfdsf$fs')\n",
    "print(l)"
   ]
  },
  {
   "cell_type": "code",
   "execution_count": 83,
   "id": "296cae39",
   "metadata": {},
   "outputs": [
    {
     "name": "stdout",
     "output_type": "stream",
     "text": [
      "a## sfds###f$##f##s\n"
     ]
    }
   ],
   "source": [
    "# substitute()\n",
    "\n",
    "import re\n",
    "s = re.sub('\\d', '#', 'a7# sfds345f$54f34s') #Here all the digits are substitute with #.\n",
    "print(s)"
   ]
  },
  {
   "cell_type": "code",
   "execution_count": 86,
   "id": "14678aaa",
   "metadata": {},
   "outputs": [
    {
     "name": "stdout",
     "output_type": "stream",
     "text": [
      "('a## sfds###f$##f##s', 8)\n",
      "a## sfds###f$##f##s\n",
      "8\n"
     ]
    }
   ],
   "source": [
    "#subn()- returns the tuple with result and no of replacement\n",
    "\n",
    "s = re.subn('\\d', '#', 'a7# sfds345f$54f34s') #replacement and no of replacement.\n",
    "print(s)\n",
    "print(s[0])\n",
    "print(s[1])"
   ]
  },
  {
   "cell_type": "code",
   "execution_count": 1,
   "id": "591887ea",
   "metadata": {},
   "outputs": [
    {
     "name": "stdout",
     "output_type": "stream",
     "text": [
      "['10', '20', '30', '40', '50', '60', '70', '80', '90', '100']\n"
     ]
    }
   ],
   "source": [
    "#split()- given string need to split.\n",
    "import re\n",
    "l = re.split('-', '10-20-30-40-50-60-70-80-90-100')\n",
    "print(l)"
   ]
  },
  {
   "cell_type": "code",
   "execution_count": 2,
   "id": "e194fba8",
   "metadata": {},
   "outputs": [
    {
     "name": "stdout",
     "output_type": "stream",
     "text": [
      "['', '', '', '', '', '', '', '', '', '', '', '', '', '', '', '', '', '']\n"
     ]
    }
   ],
   "source": [
    "import re\n",
    "l =re.split('.','www.rahulsinha.in')\n",
    "print(l)"
   ]
  },
  {
   "cell_type": "code",
   "execution_count": 3,
   "id": "85ebc003",
   "metadata": {},
   "outputs": [
    {
     "name": "stdout",
     "output_type": "stream",
     "text": [
      "['www', 'rahulsinha', 'in']\n"
     ]
    }
   ],
   "source": [
    "import re\n",
    "l =re.split('\\.','www.rahulsinha.in')\n",
    "print(l)"
   ]
  },
  {
   "cell_type": "code",
   "execution_count": 4,
   "id": "8e8154c5",
   "metadata": {},
   "outputs": [
    {
     "name": "stdout",
     "output_type": "stream",
     "text": [
      "['www', 'rahulsinha', 'in']\n"
     ]
    }
   ],
   "source": [
    "import re\n",
    "l =re.split('[.]','www.rahulsinha.in')\n",
    "print(l)"
   ]
  },
  {
   "cell_type": "code",
   "execution_count": 6,
   "id": "75bec5f4",
   "metadata": {},
   "outputs": [
    {
     "name": "stdout",
     "output_type": "stream",
     "text": [
      "Target string starts with learn\n"
     ]
    }
   ],
   "source": [
    "import re\n",
    "s = \"Learning Python is very simple\"\n",
    "res = re.search('^Learn', s)\n",
    "if res!=None:\n",
    "    print(\"Target string starts with learn\")\n",
    "else:\n",
    "    print(\"target string does not starts with learn\")\n",
    "    "
   ]
  },
  {
   "cell_type": "code",
   "execution_count": 7,
   "id": "39ea51e0",
   "metadata": {},
   "outputs": [
    {
     "name": "stdout",
     "output_type": "stream",
     "text": [
      "Target string ends with simple\n"
     ]
    }
   ],
   "source": [
    "import re\n",
    "s = \"Learning Python is very simple\"\n",
    "res = re.search('simple$', s)\n",
    "if res!=None:\n",
    "    print(\"Target string ends with simple\")\n",
    "else:\n",
    "    print(\"target string does not ends with simple\")\n",
    "    "
   ]
  },
  {
   "cell_type": "code",
   "execution_count": 8,
   "id": "3663af04",
   "metadata": {},
   "outputs": [
    {
     "name": "stdout",
     "output_type": "stream",
     "text": [
      "target string does not ends with simple\n"
     ]
    }
   ],
   "source": [
    "import re\n",
    "s = \"Learning Python is very simple\"\n",
    "res = re.search('Aimple$', s)\n",
    "if res!=None:\n",
    "    print(\"Target string ends with simple\")\n",
    "else:\n",
    "    print(\"target string does not ends with simple\")\n",
    "    "
   ]
  },
  {
   "cell_type": "code",
   "execution_count": 9,
   "id": "20edb87f",
   "metadata": {},
   "outputs": [
    {
     "name": "stdout",
     "output_type": "stream",
     "text": [
      "Target string ends with simple\n"
     ]
    }
   ],
   "source": [
    "import re\n",
    "s = \"Learning Python is very SIMPLE\" #I dont care about the case. If it is lower or upper.\n",
    "res = re.search('simple$', s, re.IGNORECASE)# re.IGNORECASE will remove case sensitivity.\n",
    "if res!=None:\n",
    "    print(\"Target string ends with simple\")\n",
    "else:\n",
    "    print(\"target string does not ends with simple\")\n",
    "    "
   ]
  },
  {
   "cell_type": "code",
   "execution_count": 13,
   "id": "6043eb04",
   "metadata": {},
   "outputs": [
    {
     "name": "stdout",
     "output_type": "stream",
     "text": [
      "enter the identifier to validate:f3the\n",
      "f3the is a valid MAVA identifier\n"
     ]
    }
   ],
   "source": [
    "#MAVA\n",
    " # 1) Allowed characters are - Alphabets\n",
    "   # 2)Digits \n",
    "    #3) #\n",
    "    \n",
    "    # The first character should be lowe case- a-f\n",
    "    # Second character should be a number.- divisible by 3\n",
    "    # The length of identifier should be atleast 2\n",
    "    \n",
    "import re\n",
    "s = input(\"enter the identifier to validate:\")\n",
    "m = re.fullmatch('[a-f][0369][a-zA-Z0-9#]*', s)\n",
    "if m!= None:\n",
    "    \n",
    "    print(s, 'is a valid MAVA identifier')\n",
    "    \n",
    "else:\n",
    "    print(s, 'Is not a valid MAVA identifier')"
   ]
  },
  {
   "cell_type": "code",
   "execution_count": 15,
   "id": "4ba20f73",
   "metadata": {},
   "outputs": [
    {
     "name": "stdout",
     "output_type": "stream",
     "text": [
      "enter the mobile number to validate:5656798722\n",
      "5656798722 Is not a valid mobile number\n"
     ]
    }
   ],
   "source": [
    "#validate the phone number.\n",
    "#10 digit mobile number.\n",
    "#[6789][0-9]+\n",
    "#[6789][0-9][0-9][0-9][0-9][0-9][0-9][0-9][0-9][0-9]\n",
    "#[6789][0-9]{9}\n",
    "#[6-9]\\d{9}\n",
    "\n",
    "s = input(\"enter the mobile number to validate:\")\n",
    "m = re.fullmatch('[6-9]\\d{9}', s)\n",
    "if m!= None:\n",
    "    \n",
    "    print(s, 'is a valid mobile number')\n",
    "    \n",
    "else:\n",
    "    print(s, 'Is not a valid mobile number')\n"
   ]
  },
  {
   "cell_type": "code",
   "execution_count": 16,
   "id": "844f448c",
   "metadata": {},
   "outputs": [
    {
     "name": "stdout",
     "output_type": "stream",
     "text": [
      "enter the mobile number to validate:678\n",
      "678 Is not a valid mobile number\n"
     ]
    }
   ],
   "source": [
    "#validate the phone number.\n",
    "#10 digit mobile number.\n",
    "#[6789][0-9]+\n",
    "#[6789][0-9][0-9][0-9][0-9][0-9][0-9][0-9][0-9][0-9]\n",
    "#[6789][0-9]{9}\n",
    "#[6-9]\\d{9}\n",
    "\n",
    "s = input(\"enter the mobile number to validate:\")\n",
    "m = re.fullmatch('[6-9]\\d{9}', s)\n",
    "if m!= None:\n",
    "    \n",
    "    print(s, 'is a valid mobile number')\n",
    "    \n",
    "else:\n",
    "    print(s, 'Is not a valid mobile number')\n"
   ]
  },
  {
   "cell_type": "code",
   "execution_count": 17,
   "id": "0b0dc459",
   "metadata": {},
   "outputs": [
    {
     "name": "stdout",
     "output_type": "stream",
     "text": [
      "enter the mobile number to validate:6112313423\n",
      "6112313423 is a valid mobile number\n"
     ]
    }
   ],
   "source": [
    "#validate the phone number.\n",
    "#10 digit mobile number.\n",
    "#[6789][0-9]+\n",
    "#[6789][0-9][0-9][0-9][0-9][0-9][0-9][0-9][0-9][0-9]\n",
    "#[6789][0-9]{9}\n",
    "#[6-9]\\d{9}\n",
    "\n",
    "s = input(\"enter the mobile number to validate:\")\n",
    "m = re.fullmatch('[6-9]\\d{9}', s)\n",
    "if m!= None:\n",
    "    \n",
    "    print(s, 'is a valid mobile number')\n",
    "    \n",
    "else:\n",
    "    print(s, 'Is not a valid mobile number')\n"
   ]
  },
  {
   "cell_type": "code",
   "execution_count": 18,
   "id": "82368c1a",
   "metadata": {},
   "outputs": [
    {
     "name": "stdout",
     "output_type": "stream",
     "text": [
      "enter the phone number:09643327627\n",
      "09643327627 is a valid mobile number\n"
     ]
    }
   ],
   "source": [
    "#10 digit , 11 digit, 12digit, or 13.\n",
    "\n",
    "import re\n",
    "s = input(\"enter the phone number:\")\n",
    "m = re.fullmatch('(0|91|\\+91)?[6789]\\d{9}', s)\n",
    "if m!= None:\n",
    "    \n",
    "    print(s, 'is a valid mobile number')\n",
    "    \n",
    "else:\n",
    "    print(s, 'Is not a valid mobile number')\n"
   ]
  },
  {
   "cell_type": "code",
   "execution_count": 20,
   "id": "a9fd35f1",
   "metadata": {},
   "outputs": [
    {
     "name": "stdout",
     "output_type": "stream",
     "text": [
      "enter the phone number:+919153632757\n",
      "+919153632757 is a valid mobile number\n"
     ]
    }
   ],
   "source": [
    "#10 digit , 11 digit, 12digit, or 13.\n",
    "\n",
    "import re\n",
    "s = input(\"enter the phone number:\")\n",
    "m = re.fullmatch('(0|91|\\+91)?[6789]\\d{9}', s)\n",
    "if m!= None:\n",
    "    \n",
    "    print(s, 'is a valid mobile number')\n",
    "    \n",
    "else:\n",
    "    print(s, 'Is not a valid mobile number')\n"
   ]
  },
  {
   "cell_type": "code",
   "execution_count": 23,
   "id": "aecacd17",
   "metadata": {},
   "outputs": [
    {
     "name": "stdout",
     "output_type": "stream",
     "text": [
      "This is Rahul and the mobile number is 9153632757\n",
      "\n",
      "This is Anusha and the mobile number is 9912324929\n",
      "\n",
      "This is Rohit and the mobile number is 9986594396\n",
      "\n",
      "This is RP and the mobile number is 9971004856\n",
      "\n",
      "This is Amit and the mobile number is 8734972463\n",
      "\n",
      "This is Gyan and the mobile number is 4536327575\n",
      "\n",
      "This is Manish and the mobile number is 6153632757\n",
      "\n",
      "This is Sameer and the mobile number is 5153632757\n",
      "\n"
     ]
    }
   ],
   "source": [
    "import os\n",
    "os.getcwd()\n",
    "import re\n",
    "f1 = open('input phone number.txt', 'r')\n",
    "f2 = open('output.txt', 'w')\n",
    "for line in f1:\n",
    "    print(line)"
   ]
  },
  {
   "cell_type": "code",
   "execution_count": 24,
   "id": "e5c0cc12",
   "metadata": {},
   "outputs": [
    {
     "name": "stdout",
     "output_type": "stream",
     "text": [
      "Extracted all the phone numbers\n"
     ]
    }
   ],
   "source": [
    "import re\n",
    "f1 = open('input phone number.txt', 'r')\n",
    "f2 = open('output.txt', 'w')\n",
    "for line in f1:\n",
    "    list = re.findall('[6-9]\\d{9}', line)\n",
    "    for number in list:\n",
    "        f2.write(number+ \"\\n\")\n",
    "print(\"Extracted all the phone numbers\")\n",
    "f1.close()\n",
    "f2.close()"
   ]
  },
  {
   "cell_type": "code",
   "execution_count": 25,
   "id": "fc217edc",
   "metadata": {},
   "outputs": [
    {
     "name": "stdout",
     "output_type": "stream",
     "text": [
      "search for ...... https://www.google.com\n",
      "<class 'bytes'>\n",
      "<title>Google</title>\n",
      "search for ...... https://www.rediff.com\n",
      "<class 'bytes'>\n",
      "<title>Rediff.com: News | Rediffmail | Stock Quotes | Shopping</title>\n"
     ]
    }
   ],
   "source": [
    "#web scrapping by using regular expression. \n",
    "\n",
    "import re, urllib\n",
    "import urllib.request\n",
    "\n",
    "sites = ['https://www.google.com', 'https://www.rediff.com']\n",
    "for s in sites:\n",
    "    print('search for ......', s)\n",
    "    u = urllib.request.urlopen(s)\n",
    "    text = u.read()\n",
    "    print(type(text))\n",
    "    title = re.findall('<title>.*</title>', str(text), re.IGNORECASE)\n",
    "    print(title[0])"
   ]
  },
  {
   "cell_type": "code",
   "execution_count": 27,
   "id": "5d7c6fd4",
   "metadata": {},
   "outputs": [],
   "source": [
    "import urllib.request\n",
    "url = 'https://www.summet.com/dmsi/html/codesamples/addresses.html'\n",
    "response = urllib.request.urlopen(url)\n",
    "html = response.read()\n",
    "htmlstr = html.decode()\n",
    "pdata = re.findall('\\(\\d{3}\\) \\d{3}-\\d{4}', htmlstr)"
   ]
  },
  {
   "cell_type": "code",
   "execution_count": 28,
   "id": "728de400",
   "metadata": {},
   "outputs": [
    {
     "data": {
      "text/plain": [
       "['(257) 563-7401',\n",
       " '(372) 587-2335',\n",
       " '(786) 713-8616',\n",
       " '(793) 151-6230',\n",
       " '(492) 709-6392',\n",
       " '(654) 393-5734',\n",
       " '(404) 960-3807',\n",
       " '(314) 244-6306',\n",
       " '(947) 278-5929',\n",
       " '(684) 579-1879',\n",
       " '(389) 737-2852',\n",
       " '(660) 663-4518',\n",
       " '(608) 265-2215',\n",
       " '(959) 119-8364',\n",
       " '(468) 353-2641',\n",
       " '(248) 675-4007',\n",
       " '(939) 353-1107',\n",
       " '(570) 873-7090',\n",
       " '(302) 259-2375',\n",
       " '(717) 450-4729',\n",
       " '(453) 391-4650',\n",
       " '(559) 104-5475',\n",
       " '(387) 142-9434',\n",
       " '(516) 745-4496',\n",
       " '(326) 677-3419',\n",
       " '(746) 679-2470',\n",
       " '(455) 430-0989',\n",
       " '(490) 936-4694',\n",
       " '(985) 834-8285',\n",
       " '(662) 661-1446',\n",
       " '(802) 668-8240',\n",
       " '(477) 768-9247',\n",
       " '(791) 239-9057',\n",
       " '(832) 109-0213',\n",
       " '(837) 196-3274',\n",
       " '(268) 442-2428',\n",
       " '(850) 676-5117',\n",
       " '(861) 546-5032',\n",
       " '(176) 805-4108',\n",
       " '(715) 912-6931',\n",
       " '(993) 554-0563',\n",
       " '(357) 616-5411',\n",
       " '(121) 347-0086',\n",
       " '(304) 506-6314',\n",
       " '(425) 288-2332',\n",
       " '(145) 987-4962',\n",
       " '(187) 582-9707',\n",
       " '(750) 558-3965',\n",
       " '(492) 467-3131',\n",
       " '(774) 914-2510',\n",
       " '(888) 106-8550',\n",
       " '(539) 567-3573',\n",
       " '(693) 337-2849',\n",
       " '(545) 604-9386',\n",
       " '(221) 156-5026',\n",
       " '(414) 876-0865',\n",
       " '(932) 726-8645',\n",
       " '(726) 710-9826',\n",
       " '(622) 594-1662',\n",
       " '(948) 600-8503',\n",
       " '(605) 900-7508',\n",
       " '(716) 977-5775',\n",
       " '(368) 239-8275',\n",
       " '(725) 342-0650',\n",
       " '(711) 993-5187',\n",
       " '(882) 399-5084',\n",
       " '(287) 755-9948',\n",
       " '(659) 551-3389',\n",
       " '(275) 730-6868',\n",
       " '(725) 757-4047',\n",
       " '(314) 882-1496',\n",
       " '(639) 360-7590',\n",
       " '(168) 222-1592',\n",
       " '(896) 303-1164',\n",
       " '(203) 982-6130',\n",
       " '(906) 217-1470',\n",
       " '(614) 514-1269',\n",
       " '(763) 409-5446',\n",
       " '(836) 292-5324',\n",
       " '(926) 709-3295',\n",
       " '(963) 356-9268',\n",
       " '(736) 522-8584',\n",
       " '(410) 483-0352',\n",
       " '(252) 204-1434',\n",
       " '(874) 886-4174',\n",
       " '(581) 379-7573',\n",
       " '(983) 632-8597',\n",
       " '(295) 983-3476',\n",
       " '(873) 392-8802',\n",
       " '(360) 669-3923',\n",
       " '(840) 987-9449',\n",
       " '(422) 517-6053',\n",
       " '(126) 940-2753',\n",
       " '(427) 930-5255',\n",
       " '(689) 721-5145',\n",
       " '(676) 334-2174',\n",
       " '(437) 994-5270',\n",
       " '(564) 908-6970',\n",
       " '(577) 333-6244',\n",
       " '(655) 840-6139']"
      ]
     },
     "execution_count": 28,
     "metadata": {},
     "output_type": "execute_result"
    }
   ],
   "source": [
    "pdata"
   ]
  },
  {
   "cell_type": "code",
   "execution_count": 31,
   "id": "b0afdbab",
   "metadata": {},
   "outputs": [
    {
     "name": "stdout",
     "output_type": "stream",
     "text": [
      "Enter your email address:rahul.123_12@gmail.com\n",
      "Valid Email\n"
     ]
    }
   ],
   "source": [
    "#Email Address\n",
    "\n",
    "import re\n",
    "s = input('Enter your email address:')\n",
    "m = re.fullmatch('\\w[a-zA-Z0-9_.]*@gmail[.]com', s)\n",
    "if m!= None:\n",
    "    print(\"Valid Email\")\n",
    "else:\n",
    "    print(\"Invalid Email\")"
   ]
  },
  {
   "cell_type": "code",
   "execution_count": 33,
   "id": "b757010e",
   "metadata": {},
   "outputs": [
    {
     "name": "stdout",
     "output_type": "stream",
     "text": [
      "Enter your email address:rahul@yahoo.com\n",
      "Valid Email\n"
     ]
    }
   ],
   "source": [
    "import re\n",
    "s = input('Enter your email address:')\n",
    "m = re.fullmatch('\\w[a-zA-Z0-9_.]*@[a-z0-9]+[.]com', s)\n",
    "if m!= None:\n",
    "    print(\"Valid Email\")\n",
    "else:\n",
    "    print(\"Invalid Email\")"
   ]
  },
  {
   "cell_type": "code",
   "execution_count": 34,
   "id": "d238490d",
   "metadata": {},
   "outputs": [
    {
     "name": "stdout",
     "output_type": "stream",
     "text": [
      "Enter your email address:rahul@dk.com\n",
      "Valid Email\n"
     ]
    }
   ],
   "source": [
    "import re\n",
    "s = input('Enter your email address:')\n",
    "m = re.fullmatch('\\w[a-zA-Z0-9_.]*@[a-z0-9]+[.][a-z]+', s)\n",
    "if m!= None:\n",
    "    print(\"Valid Email\")\n",
    "else:\n",
    "    print(\"Invalid Email\")"
   ]
  },
  {
   "cell_type": "code",
   "execution_count": 35,
   "id": "1f0bab74",
   "metadata": {},
   "outputs": [
    {
     "name": "stdout",
     "output_type": "stream",
     "text": [
      "Enter your email address:rahul@yahoomail.com\n",
      "Valid Email\n"
     ]
    }
   ],
   "source": [
    "import re\n",
    "s = input('Enter your email address:')\n",
    "m = re.fullmatch('\\w[a-zA-Z0-9_.]*@(gmail|rediffmail|yahoomail)+[.][a-z]+', s)\n",
    "if m!= None:\n",
    "    print(\"Valid Email\")\n",
    "else:\n",
    "    print(\"Invalid Email\")"
   ]
  },
  {
   "cell_type": "code",
   "execution_count": 37,
   "id": "37323b88",
   "metadata": {},
   "outputs": [
    {
     "name": "stdout",
     "output_type": "stream",
     "text": [
      "Enter the car registration numberMH14DT8745\n",
      "Valid Number\n"
     ]
    }
   ],
   "source": [
    "#car registration\n",
    "\n",
    "import re\n",
    "s  = input(\"Enter the car registration number\")\n",
    "m = re.fullmatch('MH[012][0-9][A-Z]{2}\\d{4}', s)\n",
    "if m!= None:\n",
    "    print(\"Valid Number\")\n",
    "else:\n",
    "    print('Invalid Number')"
   ]
  },
  {
   "cell_type": "code",
   "execution_count": null,
   "id": "5c92bdac",
   "metadata": {},
   "outputs": [],
   "source": [
    "\n"
   ]
  },
  {
   "cell_type": "code",
   "execution_count": null,
   "id": "47b12602",
   "metadata": {},
   "outputs": [],
   "source": []
  },
  {
   "cell_type": "code",
   "execution_count": null,
   "id": "d4e7eeea",
   "metadata": {},
   "outputs": [],
   "source": []
  }
 ],
 "metadata": {
  "kernelspec": {
   "display_name": "Python 3",
   "language": "python",
   "name": "python3"
  },
  "language_info": {
   "codemirror_mode": {
    "name": "ipython",
    "version": 3
   },
   "file_extension": ".py",
   "mimetype": "text/x-python",
   "name": "python",
   "nbconvert_exporter": "python",
   "pygments_lexer": "ipython3",
   "version": "3.8.8"
  }
 },
 "nbformat": 4,
 "nbformat_minor": 5
}
