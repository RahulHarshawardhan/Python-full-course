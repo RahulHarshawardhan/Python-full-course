{
 "cells": [
  {
   "cell_type": "code",
   "execution_count": null,
   "id": "17c5b6a2",
   "metadata": {},
   "outputs": [],
   "source": [
    "#Types of Data types"
   ]
  },
  {
   "cell_type": "code",
   "execution_count": null,
   "id": "be03d735",
   "metadata": {},
   "outputs": [],
   "source": [
    "#int\n",
    "#float\n",
    "#str\n",
    "#bool\n",
    "#complex\n",
    "#byte\n",
    "#bytearray\n",
    "#range\n",
    "#list\n",
    "#tuple\n",
    "#dictionary\n",
    "#sets\n",
    "#frozensets\n",
    "#None"
   ]
  },
  {
   "cell_type": "markdown",
   "id": "ca04dd8e",
   "metadata": {},
   "source": [
    "# INTEGER"
   ]
  },
  {
   "cell_type": "code",
   "execution_count": null,
   "id": "34ee67e3",
   "metadata": {},
   "outputs": [],
   "source": [
    "#Decimal form- Base10\n",
    "#binaryForm- base2\n",
    "#Octal form- Base8\n",
    "#hexadecimal - Base16\n"
   ]
  },
  {
   "cell_type": "code",
   "execution_count": 1,
   "id": "ededbebe",
   "metadata": {},
   "outputs": [
    {
     "data": {
      "text/plain": [
       "15"
      ]
     },
     "execution_count": 1,
     "metadata": {},
     "output_type": "execute_result"
    }
   ],
   "source": [
    "0B1111"
   ]
  },
  {
   "cell_type": "markdown",
   "id": "e8175067",
   "metadata": {},
   "source": [
    "# Float"
   ]
  },
  {
   "cell_type": "code",
   "execution_count": 2,
   "id": "7f81cfef",
   "metadata": {},
   "outputs": [],
   "source": [
    "petrol = 89.56\n",
    "salary= 4500.65\n"
   ]
  },
  {
   "cell_type": "code",
   "execution_count": 4,
   "id": "33154b27",
   "metadata": {},
   "outputs": [
    {
     "name": "stdout",
     "output_type": "stream",
     "text": [
      "<class 'float'>\n"
     ]
    }
   ],
   "source": [
    "print(type(petrol))"
   ]
  },
  {
   "cell_type": "markdown",
   "id": "c2bcd128",
   "metadata": {},
   "source": [
    "# Complex Number"
   ]
  },
  {
   "cell_type": "code",
   "execution_count": null,
   "id": "f720e1e1",
   "metadata": {},
   "outputs": [],
   "source": [
    "#a+bj\n",
    "#a= real part\n",
    "#b=imaginary \n",
    "#j= squareroot -1"
   ]
  },
  {
   "cell_type": "code",
   "execution_count": 5,
   "id": "0c3cbda7",
   "metadata": {},
   "outputs": [],
   "source": [
    "#Mathematics base application - python is the one.\n"
   ]
  },
  {
   "cell_type": "code",
   "execution_count": 6,
   "id": "8ccd5b9d",
   "metadata": {},
   "outputs": [],
   "source": [
    "x= 10+20j"
   ]
  },
  {
   "cell_type": "code",
   "execution_count": 7,
   "id": "8df368ea",
   "metadata": {},
   "outputs": [],
   "source": [
    "y= 10.5+2.3j"
   ]
  },
  {
   "cell_type": "code",
   "execution_count": 8,
   "id": "99c6d290",
   "metadata": {},
   "outputs": [
    {
     "data": {
      "text/plain": [
       "(4+3j)"
      ]
     },
     "execution_count": 8,
     "metadata": {},
     "output_type": "execute_result"
    }
   ],
   "source": [
    "0B100+3j"
   ]
  },
  {
   "cell_type": "code",
   "execution_count": 10,
   "id": "f5796510",
   "metadata": {},
   "outputs": [
    {
     "data": {
      "text/plain": [
       "(4+6j)"
      ]
     },
     "execution_count": 10,
     "metadata": {},
     "output_type": "execute_result"
    }
   ],
   "source": [
    "0B100+6j  #imaginary part should be a number not other forms(binary, octal, hexadecimal)"
   ]
  },
  {
   "cell_type": "code",
   "execution_count": 13,
   "id": "bd70a576",
   "metadata": {},
   "outputs": [
    {
     "name": "stdout",
     "output_type": "stream",
     "text": [
      "(40+33j)\n",
      "-27j\n",
      "(310+660j)\n",
      "(0.3769230769230769-0.4153846153846154j)\n"
     ]
    }
   ],
   "source": [
    "a= 20+3j\n",
    "b= 20+30j\n",
    "print(a+b)\n",
    "print(a-b)\n",
    "print(a*b)\n",
    "print(a/b)\n"
   ]
  },
  {
   "cell_type": "code",
   "execution_count": 16,
   "id": "7e7e228c",
   "metadata": {},
   "outputs": [
    {
     "data": {
      "text/plain": [
       "3.0"
      ]
     },
     "execution_count": 16,
     "metadata": {},
     "output_type": "execute_result"
    }
   ],
   "source": [
    "#These are inbuilt attributes\n",
    "a.real\n",
    "a.imag"
   ]
  },
  {
   "cell_type": "markdown",
   "id": "f4364110",
   "metadata": {},
   "source": [
    "# Boolean"
   ]
  },
  {
   "cell_type": "code",
   "execution_count": 17,
   "id": "d6e918b8",
   "metadata": {},
   "outputs": [],
   "source": [
    "a= True"
   ]
  },
  {
   "cell_type": "code",
   "execution_count": 18,
   "id": "ef03cda0",
   "metadata": {},
   "outputs": [
    {
     "data": {
      "text/plain": [
       "True"
      ]
     },
     "execution_count": 18,
     "metadata": {},
     "output_type": "execute_result"
    }
   ],
   "source": [
    "a"
   ]
  },
  {
   "cell_type": "code",
   "execution_count": 19,
   "id": "2be2c653",
   "metadata": {},
   "outputs": [],
   "source": [
    "b= False"
   ]
  },
  {
   "cell_type": "code",
   "execution_count": 20,
   "id": "e441bac8",
   "metadata": {},
   "outputs": [
    {
     "data": {
      "text/plain": [
       "False"
      ]
     },
     "execution_count": 20,
     "metadata": {},
     "output_type": "execute_result"
    }
   ],
   "source": [
    "b"
   ]
  },
  {
   "cell_type": "code",
   "execution_count": 21,
   "id": "54eb96ba",
   "metadata": {},
   "outputs": [
    {
     "data": {
      "text/plain": [
       "2"
      ]
     },
     "execution_count": 21,
     "metadata": {},
     "output_type": "execute_result"
    }
   ],
   "source": [
    "True+True"
   ]
  },
  {
   "cell_type": "code",
   "execution_count": 22,
   "id": "2cf8e40f",
   "metadata": {},
   "outputs": [
    {
     "data": {
      "text/plain": [
       "0"
      ]
     },
     "execution_count": 22,
     "metadata": {},
     "output_type": "execute_result"
    }
   ],
   "source": [
    "False+False"
   ]
  },
  {
   "cell_type": "code",
   "execution_count": 23,
   "id": "c3e97c5d",
   "metadata": {},
   "outputs": [
    {
     "data": {
      "text/plain": [
       "1"
      ]
     },
     "execution_count": 23,
     "metadata": {},
     "output_type": "execute_result"
    }
   ],
   "source": [
    "True+False"
   ]
  },
  {
   "cell_type": "code",
   "execution_count": 24,
   "id": "9a1e83a5",
   "metadata": {},
   "outputs": [
    {
     "data": {
      "text/plain": [
       "1"
      ]
     },
     "execution_count": 24,
     "metadata": {},
     "output_type": "execute_result"
    }
   ],
   "source": [
    "False+True"
   ]
  },
  {
   "cell_type": "markdown",
   "id": "4c18d708",
   "metadata": {},
   "source": [
    "# String\n"
   ]
  },
  {
   "cell_type": "code",
   "execution_count": 26,
   "id": "613a1fa3",
   "metadata": {},
   "outputs": [],
   "source": [
    "a = 'CogninitiveAnalytics'"
   ]
  },
  {
   "cell_type": "code",
   "execution_count": 27,
   "id": "a88a97c3",
   "metadata": {},
   "outputs": [
    {
     "data": {
      "text/plain": [
       "'CogninitiveAnalytics'"
      ]
     },
     "execution_count": 27,
     "metadata": {},
     "output_type": "execute_result"
    }
   ],
   "source": [
    "a"
   ]
  },
  {
   "cell_type": "code",
   "execution_count": 28,
   "id": "d81a3ed9",
   "metadata": {},
   "outputs": [
    {
     "data": {
      "text/plain": [
       "str"
      ]
     },
     "execution_count": 28,
     "metadata": {},
     "output_type": "execute_result"
    }
   ],
   "source": [
    "type(a)"
   ]
  },
  {
   "cell_type": "code",
   "execution_count": 29,
   "id": "73296d2d",
   "metadata": {},
   "outputs": [
    {
     "name": "stdout",
     "output_type": "stream",
     "text": [
      "<class 'str'>\n"
     ]
    }
   ],
   "source": [
    "print(type(a))"
   ]
  },
  {
   "cell_type": "code",
   "execution_count": 30,
   "id": "a7c1f60c",
   "metadata": {},
   "outputs": [],
   "source": [
    "# string can be saved in single quote as well as double quote\n"
   ]
  },
  {
   "cell_type": "code",
   "execution_count": 31,
   "id": "29be874a",
   "metadata": {},
   "outputs": [],
   "source": [
    "b= \"Cognitive Analytics\""
   ]
  },
  {
   "cell_type": "code",
   "execution_count": 32,
   "id": "35b57a45",
   "metadata": {},
   "outputs": [
    {
     "data": {
      "text/plain": [
       "'Cognitive Analytics'"
      ]
     },
     "execution_count": 32,
     "metadata": {},
     "output_type": "execute_result"
    }
   ],
   "source": [
    "b"
   ]
  },
  {
   "cell_type": "code",
   "execution_count": 33,
   "id": "5054fac8",
   "metadata": {},
   "outputs": [
    {
     "data": {
      "text/plain": [
       "'CogninitiveAnalytics'"
      ]
     },
     "execution_count": 33,
     "metadata": {},
     "output_type": "execute_result"
    }
   ],
   "source": [
    "a"
   ]
  },
  {
   "cell_type": "code",
   "execution_count": 34,
   "id": "8456c61a",
   "metadata": {},
   "outputs": [
    {
     "data": {
      "text/plain": [
       "'Cognitive Analytics'"
      ]
     },
     "execution_count": 34,
     "metadata": {},
     "output_type": "execute_result"
    }
   ],
   "source": [
    "b"
   ]
  },
  {
   "cell_type": "code",
   "execution_count": 35,
   "id": "a802f02e",
   "metadata": {},
   "outputs": [
    {
     "ename": "SyntaxError",
     "evalue": "EOL while scanning string literal (<ipython-input-35-8b389fe71816>, line 1)",
     "output_type": "error",
     "traceback": [
      "\u001b[1;36m  File \u001b[1;32m\"<ipython-input-35-8b389fe71816>\"\u001b[1;36m, line \u001b[1;32m1\u001b[0m\n\u001b[1;33m    'Cognitive\u001b[0m\n\u001b[1;37m               ^\u001b[0m\n\u001b[1;31mSyntaxError\u001b[0m\u001b[1;31m:\u001b[0m EOL while scanning string literal\n"
     ]
    }
   ],
   "source": [
    "'Cognitive \n",
    "          Analytics'"
   ]
  },
  {
   "cell_type": "code",
   "execution_count": 36,
   "id": "84a868fe",
   "metadata": {},
   "outputs": [
    {
     "data": {
      "text/plain": [
       "'Cognitive  \\n            Analytics'"
      ]
     },
     "execution_count": 36,
     "metadata": {},
     "output_type": "execute_result"
    }
   ],
   "source": [
    "'''Cognitive  \n",
    "            Analytics'''"
   ]
  },
  {
   "cell_type": "code",
   "execution_count": 37,
   "id": "1456662e",
   "metadata": {},
   "outputs": [
    {
     "name": "stdout",
     "output_type": "stream",
     "text": [
      "Cognitive  \n",
      "            Analytics\n"
     ]
    }
   ],
   "source": [
    "print('''Cognitive  \n",
    "            Analytics''')"
   ]
  },
  {
   "cell_type": "code",
   "execution_count": 38,
   "id": "b4c74c87",
   "metadata": {},
   "outputs": [],
   "source": [
    "a= \"Rahul 'classes ' is very helpful\""
   ]
  },
  {
   "cell_type": "code",
   "execution_count": 39,
   "id": "4860b20b",
   "metadata": {},
   "outputs": [
    {
     "data": {
      "text/plain": [
       "\"Rahul 'classes ' is very helpful\""
      ]
     },
     "execution_count": 39,
     "metadata": {},
     "output_type": "execute_result"
    }
   ],
   "source": [
    "a\n"
   ]
  },
  {
   "cell_type": "code",
   "execution_count": 40,
   "id": "48987578",
   "metadata": {},
   "outputs": [
    {
     "ename": "SyntaxError",
     "evalue": "invalid syntax (<ipython-input-40-b7e66eff3871>, line 1)",
     "output_type": "error",
     "traceback": [
      "\u001b[1;36m  File \u001b[1;32m\"<ipython-input-40-b7e66eff3871>\"\u001b[1;36m, line \u001b[1;32m1\u001b[0m\n\u001b[1;33m    python by 'Rahul' is good and his \"materials\" are good also\u001b[0m\n\u001b[1;37m           ^\u001b[0m\n\u001b[1;31mSyntaxError\u001b[0m\u001b[1;31m:\u001b[0m invalid syntax\n"
     ]
    }
   ],
   "source": [
    "python by 'Rahul' is good and his \"materials\" are good also"
   ]
  },
  {
   "cell_type": "code",
   "execution_count": 41,
   "id": "c4dd93ae",
   "metadata": {},
   "outputs": [
    {
     "data": {
      "text/plain": [
       "'python by \\'Rahul\\' is good and his \"materials\" are good also'"
      ]
     },
     "execution_count": 41,
     "metadata": {},
     "output_type": "execute_result"
    }
   ],
   "source": [
    "'''python by 'Rahul' is good and his \"materials\" are good also'''"
   ]
  },
  {
   "cell_type": "code",
   "execution_count": 42,
   "id": "b8eea1f7",
   "metadata": {},
   "outputs": [
    {
     "data": {
      "text/plain": [
       "'python by \\'Rahul\\' is good and his \"materials\" are good also'"
      ]
     },
     "execution_count": 42,
     "metadata": {},
     "output_type": "execute_result"
    }
   ],
   "source": [
    "\"\"\"python by 'Rahul' is good and his \"materials\" are good also\"\"\""
   ]
  },
  {
   "cell_type": "code",
   "execution_count": 43,
   "id": "c29fdc04",
   "metadata": {},
   "outputs": [
    {
     "data": {
      "text/plain": [
       "'python by \\'Rahul\\' is good and his \"materials\" are good also'"
      ]
     },
     "execution_count": 43,
     "metadata": {},
     "output_type": "execute_result"
    }
   ],
   "source": [
    "'python by \\'Rahul\\' is good and his \"materials\" are good also'"
   ]
  },
  {
   "cell_type": "code",
   "execution_count": 44,
   "id": "98661e53",
   "metadata": {},
   "outputs": [
    {
     "data": {
      "text/plain": [
       "'python by \\'Rahul\\' is good and his \"materials\" are good also'"
      ]
     },
     "execution_count": 44,
     "metadata": {},
     "output_type": "execute_result"
    }
   ],
   "source": [
    "\"python by \\'Rahul\\' is good and his \\\"materials\\\" are good also\""
   ]
  },
  {
   "cell_type": "code",
   "execution_count": 45,
   "id": "007afc8c",
   "metadata": {},
   "outputs": [],
   "source": [
    "a= 'Cognitiveanalytics'"
   ]
  },
  {
   "cell_type": "code",
   "execution_count": 46,
   "id": "a1d50dc9",
   "metadata": {},
   "outputs": [
    {
     "data": {
      "text/plain": [
       "'Cognitiveanalytics'"
      ]
     },
     "execution_count": 46,
     "metadata": {},
     "output_type": "execute_result"
    }
   ],
   "source": [
    "a\n"
   ]
  },
  {
   "cell_type": "code",
   "execution_count": 47,
   "id": "cdfd0c56",
   "metadata": {},
   "outputs": [
    {
     "data": {
      "text/plain": [
       "'analytics'"
      ]
     },
     "execution_count": 47,
     "metadata": {},
     "output_type": "execute_result"
    }
   ],
   "source": [
    "a[9:]"
   ]
  },
  {
   "cell_type": "code",
   "execution_count": 48,
   "id": "51f2926b",
   "metadata": {},
   "outputs": [
    {
     "data": {
      "text/plain": [
       "'analyt'"
      ]
     },
     "execution_count": 48,
     "metadata": {},
     "output_type": "execute_result"
    }
   ],
   "source": [
    "a[9:15]"
   ]
  },
  {
   "cell_type": "code",
   "execution_count": 50,
   "id": "19dc216d",
   "metadata": {},
   "outputs": [
    {
     "data": {
      "text/plain": [
       "'s'"
      ]
     },
     "execution_count": 50,
     "metadata": {},
     "output_type": "execute_result"
    }
   ],
   "source": [
    "a[-1]"
   ]
  },
  {
   "cell_type": "code",
   "execution_count": 51,
   "id": "1ffbbb3b",
   "metadata": {},
   "outputs": [
    {
     "data": {
      "text/plain": [
       "''"
      ]
     },
     "execution_count": 51,
     "metadata": {},
     "output_type": "execute_result"
    }
   ],
   "source": [
    "a[-1:-6]"
   ]
  },
  {
   "cell_type": "code",
   "execution_count": 52,
   "id": "fbbf5a15",
   "metadata": {},
   "outputs": [
    {
     "data": {
      "text/plain": [
       "'Cognitiveanalytics'"
      ]
     },
     "execution_count": 52,
     "metadata": {},
     "output_type": "execute_result"
    }
   ],
   "source": [
    "a"
   ]
  },
  {
   "cell_type": "code",
   "execution_count": 53,
   "id": "c4de1bea",
   "metadata": {},
   "outputs": [
    {
     "data": {
      "text/plain": [
       "'scity'"
      ]
     },
     "execution_count": 53,
     "metadata": {},
     "output_type": "execute_result"
    }
   ],
   "source": [
    "a[-1:-6:-1]"
   ]
  },
  {
   "cell_type": "code",
   "execution_count": 56,
   "id": "a93ad15d",
   "metadata": {},
   "outputs": [
    {
     "data": {
      "text/plain": [
       "'lytic'"
      ]
     },
     "execution_count": 56,
     "metadata": {},
     "output_type": "execute_result"
    }
   ],
   "source": [
    "a[-6:-1]"
   ]
  },
  {
   "cell_type": "code",
   "execution_count": 57,
   "id": "a1aed8da",
   "metadata": {},
   "outputs": [
    {
     "data": {
      "text/plain": [
       "'Cognitiveanalytics'"
      ]
     },
     "execution_count": 57,
     "metadata": {},
     "output_type": "execute_result"
    }
   ],
   "source": [
    "a"
   ]
  },
  {
   "cell_type": "code",
   "execution_count": 58,
   "id": "f8182c01",
   "metadata": {},
   "outputs": [
    {
     "data": {
      "text/plain": [
       "'Cognitiveanaly'"
      ]
     },
     "execution_count": 58,
     "metadata": {},
     "output_type": "execute_result"
    }
   ],
   "source": [
    "a[:-4]"
   ]
  },
  {
   "cell_type": "code",
   "execution_count": 59,
   "id": "07f5ad95",
   "metadata": {},
   "outputs": [
    {
     "data": {
      "text/plain": [
       "'tic'"
      ]
     },
     "execution_count": 59,
     "metadata": {},
     "output_type": "execute_result"
    }
   ],
   "source": [
    "a[-4:-1]"
   ]
  },
  {
   "cell_type": "code",
   "execution_count": 60,
   "id": "b3d403a1",
   "metadata": {},
   "outputs": [
    {
     "data": {
      "text/plain": [
       "'CognitiveanalyticsCognitiveanalyticsCognitiveanalytics'"
      ]
     },
     "execution_count": 60,
     "metadata": {},
     "output_type": "execute_result"
    }
   ],
   "source": [
    "a*3"
   ]
  },
  {
   "cell_type": "code",
   "execution_count": 61,
   "id": "2ce7172c",
   "metadata": {},
   "outputs": [],
   "source": [
    "#type conversipn ot type coersion"
   ]
  },
  {
   "cell_type": "code",
   "execution_count": 62,
   "id": "48180625",
   "metadata": {},
   "outputs": [],
   "source": [
    "#int()\n",
    "#float()\n",
    "#complex()\n",
    "#bool()\n",
    "#str()"
   ]
  },
  {
   "cell_type": "code",
   "execution_count": 63,
   "id": "026c4589",
   "metadata": {},
   "outputs": [],
   "source": [
    "a= 123.996"
   ]
  },
  {
   "cell_type": "code",
   "execution_count": 64,
   "id": "9d3647be",
   "metadata": {},
   "outputs": [
    {
     "data": {
      "text/plain": [
       "123"
      ]
     },
     "execution_count": 64,
     "metadata": {},
     "output_type": "execute_result"
    }
   ],
   "source": [
    "int(a)"
   ]
  },
  {
   "cell_type": "code",
   "execution_count": 65,
   "id": "92348db9",
   "metadata": {},
   "outputs": [
    {
     "data": {
      "text/plain": [
       "10"
      ]
     },
     "execution_count": 65,
     "metadata": {},
     "output_type": "execute_result"
    }
   ],
   "source": [
    "int('10')"
   ]
  },
  {
   "cell_type": "code",
   "execution_count": 66,
   "id": "e187ce93",
   "metadata": {},
   "outputs": [
    {
     "ename": "ValueError",
     "evalue": "invalid literal for int() with base 10: '10.5'",
     "output_type": "error",
     "traceback": [
      "\u001b[1;31m---------------------------------------------------------------------------\u001b[0m",
      "\u001b[1;31mValueError\u001b[0m                                Traceback (most recent call last)",
      "\u001b[1;32m<ipython-input-66-6cc59efdcec3>\u001b[0m in \u001b[0;36m<module>\u001b[1;34m\u001b[0m\n\u001b[1;32m----> 1\u001b[1;33m \u001b[0mint\u001b[0m\u001b[1;33m(\u001b[0m\u001b[1;34m'10.5'\u001b[0m\u001b[1;33m)\u001b[0m\u001b[1;33m\u001b[0m\u001b[1;33m\u001b[0m\u001b[0m\n\u001b[0m",
      "\u001b[1;31mValueError\u001b[0m: invalid literal for int() with base 10: '10.5'"
     ]
    }
   ],
   "source": [
    "int('10.5')"
   ]
  },
  {
   "cell_type": "code",
   "execution_count": 67,
   "id": "60d01b28",
   "metadata": {},
   "outputs": [
    {
     "ename": "TypeError",
     "evalue": "can't convert complex to float",
     "output_type": "error",
     "traceback": [
      "\u001b[1;31m---------------------------------------------------------------------------\u001b[0m",
      "\u001b[1;31mTypeError\u001b[0m                                 Traceback (most recent call last)",
      "\u001b[1;32m<ipython-input-67-0f7f60b5875f>\u001b[0m in \u001b[0;36m<module>\u001b[1;34m\u001b[0m\n\u001b[1;32m----> 1\u001b[1;33m \u001b[0mfloat\u001b[0m\u001b[1;33m(\u001b[0m\u001b[1;36m10\u001b[0m\u001b[1;33m+\u001b[0m\u001b[1;36m2j\u001b[0m\u001b[1;33m)\u001b[0m\u001b[1;33m\u001b[0m\u001b[1;33m\u001b[0m\u001b[0m\n\u001b[0m",
      "\u001b[1;31mTypeError\u001b[0m: can't convert complex to float"
     ]
    }
   ],
   "source": [
    "float(10+2j)"
   ]
  },
  {
   "cell_type": "code",
   "execution_count": 68,
   "id": "98db7f69",
   "metadata": {},
   "outputs": [
    {
     "data": {
      "text/plain": [
       "1.0"
      ]
     },
     "execution_count": 68,
     "metadata": {},
     "output_type": "execute_result"
    }
   ],
   "source": [
    "float(True)"
   ]
  },
  {
   "cell_type": "code",
   "execution_count": 69,
   "id": "337c0116",
   "metadata": {},
   "outputs": [
    {
     "data": {
      "text/plain": [
       "10.0"
      ]
     },
     "execution_count": 69,
     "metadata": {},
     "output_type": "execute_result"
    }
   ],
   "source": [
    "float('10')"
   ]
  },
  {
   "cell_type": "code",
   "execution_count": 70,
   "id": "6d54c940",
   "metadata": {},
   "outputs": [
    {
     "data": {
      "text/plain": [
       "10.5"
      ]
     },
     "execution_count": 70,
     "metadata": {},
     "output_type": "execute_result"
    }
   ],
   "source": [
    "float('10.5')"
   ]
  },
  {
   "cell_type": "code",
   "execution_count": 71,
   "id": "be52b431",
   "metadata": {},
   "outputs": [
    {
     "ename": "ValueError",
     "evalue": "could not convert string to float: 'ten'",
     "output_type": "error",
     "traceback": [
      "\u001b[1;31m---------------------------------------------------------------------------\u001b[0m",
      "\u001b[1;31mValueError\u001b[0m                                Traceback (most recent call last)",
      "\u001b[1;32m<ipython-input-71-84bd4c634f13>\u001b[0m in \u001b[0;36m<module>\u001b[1;34m\u001b[0m\n\u001b[1;32m----> 1\u001b[1;33m \u001b[0mfloat\u001b[0m\u001b[1;33m(\u001b[0m\u001b[1;34m'ten'\u001b[0m\u001b[1;33m)\u001b[0m\u001b[1;33m\u001b[0m\u001b[1;33m\u001b[0m\u001b[0m\n\u001b[0m",
      "\u001b[1;31mValueError\u001b[0m: could not convert string to float: 'ten'"
     ]
    }
   ],
   "source": [
    "float('ten')"
   ]
  },
  {
   "cell_type": "code",
   "execution_count": 72,
   "id": "85459814",
   "metadata": {},
   "outputs": [
    {
     "ename": "ValueError",
     "evalue": "could not convert string to float: '0B111'",
     "output_type": "error",
     "traceback": [
      "\u001b[1;31m---------------------------------------------------------------------------\u001b[0m",
      "\u001b[1;31mValueError\u001b[0m                                Traceback (most recent call last)",
      "\u001b[1;32m<ipython-input-72-804a2b1d725e>\u001b[0m in \u001b[0;36m<module>\u001b[1;34m\u001b[0m\n\u001b[1;32m----> 1\u001b[1;33m \u001b[0mfloat\u001b[0m\u001b[1;33m(\u001b[0m\u001b[1;34m'0B111'\u001b[0m\u001b[1;33m)\u001b[0m\u001b[1;33m\u001b[0m\u001b[1;33m\u001b[0m\u001b[0m\n\u001b[0m",
      "\u001b[1;31mValueError\u001b[0m: could not convert string to float: '0B111'"
     ]
    }
   ],
   "source": [
    "float('0B111')"
   ]
  },
  {
   "cell_type": "code",
   "execution_count": 73,
   "id": "297f2629",
   "metadata": {},
   "outputs": [],
   "source": [
    "#x+yj\n",
    "\n",
    "#form 1- complex(x)\n",
    "#form 2- complex(x,y)\n",
    "x= 10+30j"
   ]
  },
  {
   "cell_type": "code",
   "execution_count": 74,
   "id": "fe07bc70",
   "metadata": {},
   "outputs": [
    {
     "data": {
      "text/plain": [
       "(30+0j)"
      ]
     },
     "execution_count": 74,
     "metadata": {},
     "output_type": "execute_result"
    }
   ],
   "source": [
    "complex(30)"
   ]
  },
  {
   "cell_type": "code",
   "execution_count": 75,
   "id": "f50c2b7b",
   "metadata": {},
   "outputs": [
    {
     "data": {
      "text/plain": [
       "(20-5j)"
      ]
     },
     "execution_count": 75,
     "metadata": {},
     "output_type": "execute_result"
    }
   ],
   "source": [
    "complex(20,-5)"
   ]
  },
  {
   "cell_type": "code",
   "execution_count": 76,
   "id": "7fa788bd",
   "metadata": {},
   "outputs": [
    {
     "data": {
      "text/plain": [
       "(10.3+0j)"
      ]
     },
     "execution_count": 76,
     "metadata": {},
     "output_type": "execute_result"
    }
   ],
   "source": [
    "complex(10.3)"
   ]
  },
  {
   "cell_type": "code",
   "execution_count": 77,
   "id": "fecbd018",
   "metadata": {},
   "outputs": [
    {
     "data": {
      "text/plain": [
       "(10.3+5.6j)"
      ]
     },
     "execution_count": 77,
     "metadata": {},
     "output_type": "execute_result"
    }
   ],
   "source": [
    "complex(10.3, 5.6)"
   ]
  },
  {
   "cell_type": "code",
   "execution_count": 78,
   "id": "80e9a625",
   "metadata": {},
   "outputs": [
    {
     "data": {
      "text/plain": [
       "0j"
      ]
     },
     "execution_count": 78,
     "metadata": {},
     "output_type": "execute_result"
    }
   ],
   "source": [
    "complex(False)"
   ]
  },
  {
   "cell_type": "code",
   "execution_count": 79,
   "id": "f70498f6",
   "metadata": {},
   "outputs": [
    {
     "data": {
      "text/plain": [
       "(1+0j)"
      ]
     },
     "execution_count": 79,
     "metadata": {},
     "output_type": "execute_result"
    }
   ],
   "source": [
    "complex(True)"
   ]
  },
  {
   "cell_type": "code",
   "execution_count": 80,
   "id": "4ddd609e",
   "metadata": {},
   "outputs": [
    {
     "data": {
      "text/plain": [
       "(1+0j)"
      ]
     },
     "execution_count": 80,
     "metadata": {},
     "output_type": "execute_result"
    }
   ],
   "source": [
    "complex(True,False)"
   ]
  },
  {
   "cell_type": "code",
   "execution_count": 81,
   "id": "eae09d91",
   "metadata": {},
   "outputs": [
    {
     "data": {
      "text/plain": [
       "1j"
      ]
     },
     "execution_count": 81,
     "metadata": {},
     "output_type": "execute_result"
    }
   ],
   "source": [
    "complex(False, True)"
   ]
  },
  {
   "cell_type": "code",
   "execution_count": 82,
   "id": "5e535391",
   "metadata": {},
   "outputs": [
    {
     "ename": "ValueError",
     "evalue": "complex() arg is a malformed string",
     "output_type": "error",
     "traceback": [
      "\u001b[1;31m---------------------------------------------------------------------------\u001b[0m",
      "\u001b[1;31mValueError\u001b[0m                                Traceback (most recent call last)",
      "\u001b[1;32m<ipython-input-82-f215a4cee305>\u001b[0m in \u001b[0;36m<module>\u001b[1;34m\u001b[0m\n\u001b[1;32m----> 1\u001b[1;33m \u001b[0mcomplex\u001b[0m\u001b[1;33m(\u001b[0m\u001b[1;34m'rahul'\u001b[0m\u001b[1;33m)\u001b[0m\u001b[1;33m\u001b[0m\u001b[1;33m\u001b[0m\u001b[0m\n\u001b[0m",
      "\u001b[1;31mValueError\u001b[0m: complex() arg is a malformed string"
     ]
    }
   ],
   "source": [
    "complex('rahul')"
   ]
  },
  {
   "cell_type": "code",
   "execution_count": 83,
   "id": "cedf40d4",
   "metadata": {},
   "outputs": [
    {
     "data": {
      "text/plain": [
       "(10+0j)"
      ]
     },
     "execution_count": 83,
     "metadata": {},
     "output_type": "execute_result"
    }
   ],
   "source": [
    "complex('10')"
   ]
  },
  {
   "cell_type": "code",
   "execution_count": 85,
   "id": "e232c952",
   "metadata": {},
   "outputs": [
    {
     "data": {
      "text/plain": [
       "(10.5+0j)"
      ]
     },
     "execution_count": 85,
     "metadata": {},
     "output_type": "execute_result"
    }
   ],
   "source": [
    "complex('10.5 ')"
   ]
  },
  {
   "cell_type": "code",
   "execution_count": 86,
   "id": "0d6ea1cd",
   "metadata": {},
   "outputs": [
    {
     "data": {
      "text/plain": [
       "(7+0j)"
      ]
     },
     "execution_count": 86,
     "metadata": {},
     "output_type": "execute_result"
    }
   ],
   "source": [
    "complex(0B111)"
   ]
  },
  {
   "cell_type": "code",
   "execution_count": 87,
   "id": "c6834fb4",
   "metadata": {},
   "outputs": [
    {
     "data": {
      "text/plain": [
       "(12+0j)"
      ]
     },
     "execution_count": 87,
     "metadata": {},
     "output_type": "execute_result"
    }
   ],
   "source": [
    "complex('12')"
   ]
  },
  {
   "cell_type": "code",
   "execution_count": 89,
   "id": "f9667c6e",
   "metadata": {},
   "outputs": [
    {
     "data": {
      "text/plain": [
       "True"
      ]
     },
     "execution_count": 89,
     "metadata": {},
     "output_type": "execute_result"
    }
   ],
   "source": [
    "bool(10+3j)"
   ]
  },
  {
   "cell_type": "code",
   "execution_count": 90,
   "id": "62b0bf47",
   "metadata": {},
   "outputs": [
    {
     "data": {
      "text/plain": [
       "False"
      ]
     },
     "execution_count": 90,
     "metadata": {},
     "output_type": "execute_result"
    }
   ],
   "source": [
    "bool(0+0j)"
   ]
  },
  {
   "cell_type": "code",
   "execution_count": 91,
   "id": "35a849cc",
   "metadata": {},
   "outputs": [
    {
     "data": {
      "text/plain": [
       "True"
      ]
     },
     "execution_count": 91,
     "metadata": {},
     "output_type": "execute_result"
    }
   ],
   "source": [
    "bool(0+10j\n",
    "    )"
   ]
  },
  {
   "cell_type": "code",
   "execution_count": 92,
   "id": "6b180fd2",
   "metadata": {},
   "outputs": [
    {
     "data": {
      "text/plain": [
       "True"
      ]
     },
     "execution_count": 92,
     "metadata": {},
     "output_type": "execute_result"
    }
   ],
   "source": [
    "bool(21+0j)"
   ]
  },
  {
   "cell_type": "code",
   "execution_count": 93,
   "id": "053454ff",
   "metadata": {},
   "outputs": [
    {
     "data": {
      "text/plain": [
       "True"
      ]
     },
     "execution_count": 93,
     "metadata": {},
     "output_type": "execute_result"
    }
   ],
   "source": [
    "bool(-21-20j)"
   ]
  },
  {
   "cell_type": "code",
   "execution_count": 94,
   "id": "2c4b184c",
   "metadata": {},
   "outputs": [
    {
     "data": {
      "text/plain": [
       "True"
      ]
     },
     "execution_count": 94,
     "metadata": {},
     "output_type": "execute_result"
    }
   ],
   "source": [
    "bool('python')"
   ]
  },
  {
   "cell_type": "code",
   "execution_count": 95,
   "id": "b3d7cfaf",
   "metadata": {},
   "outputs": [
    {
     "data": {
      "text/plain": [
       "False"
      ]
     },
     "execution_count": 95,
     "metadata": {},
     "output_type": "execute_result"
    }
   ],
   "source": [
    "bool('')"
   ]
  },
  {
   "cell_type": "code",
   "execution_count": 96,
   "id": "c0279bfe",
   "metadata": {},
   "outputs": [
    {
     "data": {
      "text/plain": [
       "True"
      ]
     },
     "execution_count": 96,
     "metadata": {},
     "output_type": "execute_result"
    }
   ],
   "source": [
    "bool(' ')"
   ]
  },
  {
   "cell_type": "code",
   "execution_count": 97,
   "id": "babe0eae",
   "metadata": {},
   "outputs": [],
   "source": [
    "#bool will always give us True for all the value except 0,0.0,0+0j nad \"\". \" \" with space considered as true."
   ]
  },
  {
   "cell_type": "code",
   "execution_count": 98,
   "id": "64ce62be",
   "metadata": {},
   "outputs": [
    {
     "data": {
      "text/plain": [
       "'10'"
      ]
     },
     "execution_count": 98,
     "metadata": {},
     "output_type": "execute_result"
    }
   ],
   "source": [
    "str(10)"
   ]
  },
  {
   "cell_type": "code",
   "execution_count": 99,
   "id": "5cc78dca",
   "metadata": {},
   "outputs": [
    {
     "data": {
      "text/plain": [
       "'10.5'"
      ]
     },
     "execution_count": 99,
     "metadata": {},
     "output_type": "execute_result"
    }
   ],
   "source": [
    "str(10.5)"
   ]
  },
  {
   "cell_type": "code",
   "execution_count": 100,
   "id": "7f13580b",
   "metadata": {},
   "outputs": [
    {
     "data": {
      "text/plain": [
       "'rahul'"
      ]
     },
     "execution_count": 100,
     "metadata": {},
     "output_type": "execute_result"
    }
   ],
   "source": [
    "str('rahul')"
   ]
  },
  {
   "cell_type": "code",
   "execution_count": 101,
   "id": "dbb273e3",
   "metadata": {},
   "outputs": [
    {
     "data": {
      "text/plain": [
       "'(10+3j)'"
      ]
     },
     "execution_count": 101,
     "metadata": {},
     "output_type": "execute_result"
    }
   ],
   "source": [
    "str(10+3j)"
   ]
  },
  {
   "cell_type": "code",
   "execution_count": 103,
   "id": "a6b651c7",
   "metadata": {},
   "outputs": [
    {
     "data": {
      "text/plain": [
       "'True'"
      ]
     },
     "execution_count": 103,
     "metadata": {},
     "output_type": "execute_result"
    }
   ],
   "source": [
    "str(True)"
   ]
  },
  {
   "cell_type": "code",
   "execution_count": null,
   "id": "1418fed8",
   "metadata": {},
   "outputs": [],
   "source": []
  }
 ],
 "metadata": {
  "kernelspec": {
   "display_name": "Python 3",
   "language": "python",
   "name": "python3"
  },
  "language_info": {
   "codemirror_mode": {
    "name": "ipython",
    "version": 3
   },
   "file_extension": ".py",
   "mimetype": "text/x-python",
   "name": "python",
   "nbconvert_exporter": "python",
   "pygments_lexer": "ipython3",
   "version": "3.8.8"
  }
 },
 "nbformat": 4,
 "nbformat_minor": 5
}
