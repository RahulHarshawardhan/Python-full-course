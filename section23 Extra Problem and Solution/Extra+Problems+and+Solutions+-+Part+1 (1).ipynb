{
 "cells": [
  {
   "cell_type": "code",
   "execution_count": 1,
   "metadata": {},
   "outputs": [
    {
     "data": {
      "text/plain": [
       "120"
      ]
     },
     "execution_count": 1,
     "metadata": {},
     "output_type": "execute_result"
    }
   ],
   "source": [
    "def factorial(n):\n",
    "    fact = 1 \n",
    "    for i in range(1,n+1):\n",
    "        fact = fact * i\n",
    "    return fact\n",
    "\n",
    "factorial(5)"
   ]
  },
  {
   "cell_type": "code",
   "execution_count": 2,
   "metadata": {},
   "outputs": [
    {
     "data": {
      "text/plain": [
       "20.0"
      ]
     },
     "execution_count": 2,
     "metadata": {},
     "output_type": "execute_result"
    }
   ],
   "source": [
    "def permutation(n,r):\n",
    "    npr = factorial(n)/factorial(n-r)\n",
    "    return npr\n",
    "\n",
    "permutation(5,2)"
   ]
  },
  {
   "cell_type": "code",
   "execution_count": 4,
   "metadata": {},
   "outputs": [
    {
     "data": {
      "text/plain": [
       "10.0"
      ]
     },
     "execution_count": 4,
     "metadata": {},
     "output_type": "execute_result"
    }
   ],
   "source": [
    "def combination(n,r):\n",
    "    ncr = factorial(n)/(factorial(n-r)*factorial(r))\n",
    "    return ncr\n",
    "\n",
    "combination(5,2)"
   ]
  },
  {
   "cell_type": "code",
   "execution_count": 9,
   "metadata": {},
   "outputs": [
    {
     "name": "stdout",
     "output_type": "stream",
     "text": [
      "Enter any number: 371\n",
      "Its an armstrong no\n"
     ]
    }
   ],
   "source": [
    "#Problem solution \n",
    "    #1. Take the integer and store it in the variable \n",
    "    #2. Convert each digit of the number to a string variable and store it in the list \n",
    "    #3. Then cube each of the digits and store it in another list \n",
    "    #4. Find the sum of the digits in the list and check if it equal to the original number\n",
    "    #5. Print the result \n",
    "    \n",
    "n = int(input('Enter any number: '))\n",
    "a = list(map(int, str(n)))\n",
    "b = list(map(lambda x: x**3, a))\n",
    "if (sum(b)==n):\n",
    "    print('Its an armstrong no')\n",
    "else:\n",
    "    print('It is not an armstrong no')"
   ]
  },
  {
   "cell_type": "code",
   "execution_count": 8,
   "metadata": {},
   "outputs": [
    {
     "data": {
      "text/plain": [
       "[27, 343, 1]"
      ]
     },
     "execution_count": 8,
     "metadata": {},
     "output_type": "execute_result"
    }
   ],
   "source": [
    "b"
   ]
  },
  {
   "cell_type": "code",
   "execution_count": 15,
   "metadata": {},
   "outputs": [
    {
     "data": {
      "text/plain": [
       "4"
      ]
     },
     "execution_count": 15,
     "metadata": {},
     "output_type": "execute_result"
    }
   ],
   "source": [
    "def proddigits(n):\n",
    "    prod=1\n",
    "    while n>0:\n",
    "        rem = n%10\n",
    "        prod=prod*rem\n",
    "        n=n//10\n",
    "    return prod\n",
    "proddigits(22)"
   ]
  },
  {
   "cell_type": "code",
   "execution_count": 17,
   "metadata": {},
   "outputs": [],
   "source": [
    "def MDR(n):\n",
    "    c = proddigits(n)\n",
    "    while c>10:\n",
    "        c = proddigits(c)\n",
    "    return c"
   ]
  },
  {
   "cell_type": "code",
   "execution_count": 18,
   "metadata": {},
   "outputs": [
    {
     "data": {
      "text/plain": [
       "2"
      ]
     },
     "execution_count": 18,
     "metadata": {},
     "output_type": "execute_result"
    }
   ],
   "source": [
    "MDR(371)"
   ]
  },
  {
   "cell_type": "code",
   "execution_count": 21,
   "metadata": {},
   "outputs": [
    {
     "data": {
      "text/plain": [
       "3"
      ]
     },
     "execution_count": 21,
     "metadata": {},
     "output_type": "execute_result"
    }
   ],
   "source": [
    "def Mpersistence(n):\n",
    "    c = proddigits(n)\n",
    "    count=1\n",
    "    while c>10:\n",
    "        c = proddigits(c)\n",
    "        count = count + 1\n",
    "    return count\n",
    "Mpersistence(86)"
   ]
  },
  {
   "cell_type": "code",
   "execution_count": 22,
   "metadata": {},
   "outputs": [
    {
     "name": "stdout",
     "output_type": "stream",
     "text": [
      "1 2 3 4 6 9 12 18 55\n"
     ]
    }
   ],
   "source": [
    "def sumPdivisors(n):\n",
    "    sum=0\n",
    "    for i in range(1,n):\n",
    "        if n%i==0:\n",
    "            print(i, end=' ')\n",
    "            sum=sum+i\n",
    "    print(sum)\n",
    "    \n",
    "sumPdivisors(36)\n",
    "    "
   ]
  },
  {
   "cell_type": "code",
   "execution_count": null,
   "metadata": {},
   "outputs": [],
   "source": []
  },
  {
   "cell_type": "code",
   "execution_count": null,
   "metadata": {},
   "outputs": [],
   "source": []
  },
  {
   "cell_type": "code",
   "execution_count": null,
   "metadata": {},
   "outputs": [],
   "source": []
  },
  {
   "cell_type": "code",
   "execution_count": null,
   "metadata": {},
   "outputs": [],
   "source": []
  }
 ],
 "metadata": {
  "kernelspec": {
   "display_name": "Python 3",
   "language": "python",
   "name": "python3"
  },
  "language_info": {
   "codemirror_mode": {
    "name": "ipython",
    "version": 3
   },
   "file_extension": ".py",
   "mimetype": "text/x-python",
   "name": "python",
   "nbconvert_exporter": "python",
   "pygments_lexer": "ipython3",
   "version": "3.8.8"
  }
 },
 "nbformat": 4,
 "nbformat_minor": 4
}
