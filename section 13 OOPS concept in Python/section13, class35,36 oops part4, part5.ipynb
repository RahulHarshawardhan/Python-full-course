{
 "cells": [
  {
   "cell_type": "code",
   "execution_count": 1,
   "id": "ce866276",
   "metadata": {},
   "outputs": [],
   "source": [
    "#Types OF Methods\n",
    "    #1) Instance Method- (Object related method)\n",
    "    #2) Static Method\n",
    "    #) Class Method."
   ]
  },
  {
   "cell_type": "code",
   "execution_count": 5,
   "id": "f5ca4bd3",
   "metadata": {},
   "outputs": [
    {
     "name": "stdout",
     "output_type": "stream",
     "text": [
      "Hi Rahul\n",
      "Your marks are: 35\n",
      "You got 3rd grade\n"
     ]
    }
   ],
   "source": [
    "#Instance Method- Related to object.\n",
    "    #Any method consists of Instance variable- instance method.\n",
    "    #Inside the instance method, first keyword i.e self is compulsory.\n",
    "\n",
    "class Student:\n",
    "    def __init__(self, name, marks):\n",
    "        self.name = name\n",
    "        self.marks = marks\n",
    "        \n",
    "    def display(self):\n",
    "        print(\"Hi\", self.name)\n",
    "        print(\"Your marks are:\", self.marks)\n",
    "        self.grade() # here we are calling grade instance method inside display instance method.\n",
    "        #If we want to call an instance method inside the instance method we will go for self keyword.\n",
    "    \n",
    "    def grade(self):\n",
    "        if self.marks >=60:\n",
    "            print(\"You got 1st grade\")\n",
    "        elif self.marks >=50:\n",
    "            print(\"you got 2nd grade\")\n",
    "        elif self.marks >=35:\n",
    "            print(\"You got 3rd grade\")\n",
    "        else:\n",
    "            print(\"You did not pass\")\n",
    "            \n",
    "s1 = Student(\"Rahul\", 35)\n",
    "s1.display()\n",
    "#s1.grade()\n"
   ]
  },
  {
   "cell_type": "code",
   "execution_count": 2,
   "id": "3ab0d92f",
   "metadata": {},
   "outputs": [
    {
     "name": "stdout",
     "output_type": "stream",
     "text": [
      "Hi Astha\n",
      "Your marks are: 35\n",
      "You got 3rd grade\n"
     ]
    }
   ],
   "source": [
    "#Instance Method- Related to object.\n",
    "    #Any method consists of Instance variable- instance method.\n",
    "    #Inside the instance method, first keyword i.e self is compulsory.\n",
    "\n",
    "class Student:\n",
    "    def __init__(self, name, marks):\n",
    "        self.name = name\n",
    "        self.marks = marks\n",
    "        self.display() #Here we are calling instance method n constructor.\n",
    "        \n",
    "    def display(self):\n",
    "        print(\"Hi\", self.name)\n",
    "        print(\"Your marks are:\", self.marks)\n",
    "        self.grade() # here we are calling grade instance method inside display instance method.\n",
    "        #If we want to call an instance method inside the instance method we will go for self keyword.\n",
    "    \n",
    "    def grade(self):\n",
    "        if self.marks >=60:\n",
    "            print(\"You got 1st grade\")\n",
    "        elif self.marks >=50:\n",
    "            print(\"you got 2nd grade\")\n",
    "        elif self.marks >=35:\n",
    "            print(\"You got 3rd grade\")\n",
    "        else:\n",
    "            print(\"You did not pass\")\n",
    "            \n",
    "s1 = Student(\"Astha\", 35)\n",
    "#s1.display()\n",
    "#s1.grade()\n"
   ]
  },
  {
   "cell_type": "code",
   "execution_count": 3,
   "id": "8301295b",
   "metadata": {},
   "outputs": [
    {
     "name": "stdout",
     "output_type": "stream",
     "text": [
      "Enter the number of students:2\n",
      "Enter the name of the students:Milind\n",
      "Enter the marks of the students:45\n",
      "Enter the name of the students:Priyanka\n",
      "Enter the marks of the students:67\n",
      "Student Name:  Milind\n",
      "Student Name:  45\n",
      "\n",
      "Student Name:  Priyanka\n",
      "Student Name:  67\n",
      "\n"
     ]
    }
   ],
   "source": [
    "#Setter and getter method.\n",
    "#Setter method is to set the values of instance variable.(Mutator Method)\n",
    "#Getter method is to get the value of instance variable.(excessor Method)\n",
    "\n",
    "class Student:\n",
    "    def setName(self,name):\n",
    "        self.name = name\n",
    "    \n",
    "    def getName(self):\n",
    "        return self.name\n",
    "    \n",
    "    def setMarks(self,marks):\n",
    "        self.marks = marks\n",
    "        \n",
    "    def getMarks(self):\n",
    "        return self.marks\n",
    "    \n",
    "l =[]\n",
    "n = int(input(\"Enter the number of students:\"))\n",
    "for i in range(n):\n",
    "    s = Student()\n",
    "    name = input(\"Enter the name of the students:\")\n",
    "    marks = int(input(\"Enter the marks of the students:\"))\n",
    "    s.setName(name)\n",
    "    s.serMarks(marks)\n",
    "    l.append(s)\n",
    "\n",
    "for s in l:\n",
    "    print(\"Student Name: \", s.getName())\n",
    "    print(\"Student Name: \", s.getMarks())\n",
    "    print()\n",
    "    \n"
   ]
  },
  {
   "cell_type": "code",
   "execution_count": 4,
   "id": "954fa7ab",
   "metadata": {},
   "outputs": [
    {
     "data": {
      "text/plain": [
       "[<__main__.Student at 0x1ff7534e5e0>, <__main__.Student at 0x1ff7534ec70>]"
      ]
     },
     "execution_count": 4,
     "metadata": {},
     "output_type": "execute_result"
    }
   ],
   "source": [
    "l"
   ]
  },
  {
   "cell_type": "code",
   "execution_count": 5,
   "id": "044fa0e7",
   "metadata": {},
   "outputs": [
    {
     "name": "stdout",
     "output_type": "stream",
     "text": [
      "TCS has total 10 employees \n"
     ]
    }
   ],
   "source": [
    "# Class Method- Normally we dont use class method.\n",
    "    # Inside the method implementation if we are using static variable (WITHOUT INSTANCE VARIABLES) is class method.\n",
    "\n",
    "#Atleast one instance variable is required for - instance method.\n",
    "# Instance variable we have +static variable - Both are present(Instance method)\n",
    "\n",
    "# @classmethod is required.\n",
    "# We have to pass cls, then it will be considered as a class methosd.\n",
    "#We can call class method by using class name or object reference.\n",
    "\n",
    "class Employee:\n",
    "    total_emp = 10\n",
    "    \n",
    "    @classmethod\n",
    "    def tot_emp(cls, compname):\n",
    "        print(\"{} has total {} employees \".format(compname, cls.total_emp))\n",
    "        \n",
    "Employee.tot_emp(\"TCS\")"
   ]
  },
  {
   "cell_type": "code",
   "execution_count": 9,
   "id": "9602d1d5",
   "metadata": {},
   "outputs": [
    {
     "name": "stdout",
     "output_type": "stream",
     "text": [
      "The no of objects created 3\n"
     ]
    }
   ],
   "source": [
    "class Test:\n",
    "    count = 0\n",
    "    def __init__(self):\n",
    "        Test.count = Test.count + 1\n",
    "    \n",
    "    @classmethod\n",
    "    def noofobj(cls):\n",
    "        print(\"The no of objects created\", Test.count)\n",
    "            \n",
    "t1 = Test()\n",
    "t2 = Test()\n",
    "t3 = Test()\n",
    "Test.noofobj()"
   ]
  },
  {
   "cell_type": "code",
   "execution_count": 13,
   "id": "5ddf0867",
   "metadata": {},
   "outputs": [
    {
     "ename": "NameError",
     "evalue": "name 'self' is not defined",
     "output_type": "error",
     "traceback": [
      "\u001b[1;31m---------------------------------------------------------------------------\u001b[0m",
      "\u001b[1;31mNameError\u001b[0m                                 Traceback (most recent call last)",
      "\u001b[1;32m<ipython-input-13-9a34995b045a>\u001b[0m in \u001b[0;36m<module>\u001b[1;34m\u001b[0m\n\u001b[0;32m     10\u001b[0m \u001b[1;33m\u001b[0m\u001b[0m\n\u001b[0;32m     11\u001b[0m \u001b[0mt\u001b[0m \u001b[1;33m=\u001b[0m \u001b[0mTest\u001b[0m\u001b[1;33m(\u001b[0m\u001b[1;34m'A'\u001b[0m\u001b[1;33m)\u001b[0m\u001b[1;33m\u001b[0m\u001b[1;33m\u001b[0m\u001b[0m\n\u001b[1;32m---> 12\u001b[1;33m \u001b[0mt\u001b[0m\u001b[1;33m.\u001b[0m\u001b[0mnoofobj\u001b[0m\u001b[1;33m(\u001b[0m\u001b[1;33m)\u001b[0m\u001b[1;33m\u001b[0m\u001b[1;33m\u001b[0m\u001b[0m\n\u001b[0m",
      "\u001b[1;32m<ipython-input-13-9a34995b045a>\u001b[0m in \u001b[0;36mnoofobj\u001b[1;34m(cls)\u001b[0m\n\u001b[0;32m      7\u001b[0m     \u001b[1;33m@\u001b[0m\u001b[0mclassmethod\u001b[0m\u001b[1;33m\u001b[0m\u001b[1;33m\u001b[0m\u001b[0m\n\u001b[0;32m      8\u001b[0m     \u001b[1;32mdef\u001b[0m \u001b[0mnoofobj\u001b[0m\u001b[1;33m(\u001b[0m\u001b[0mcls\u001b[0m\u001b[1;33m)\u001b[0m\u001b[1;33m:\u001b[0m\u001b[1;33m\u001b[0m\u001b[1;33m\u001b[0m\u001b[0m\n\u001b[1;32m----> 9\u001b[1;33m         \u001b[0mprint\u001b[0m\u001b[1;33m(\u001b[0m\u001b[0mself\u001b[0m\u001b[1;33m.\u001b[0m\u001b[0mname\u001b[0m\u001b[1;33m)\u001b[0m\u001b[1;33m\u001b[0m\u001b[1;33m\u001b[0m\u001b[0m\n\u001b[0m\u001b[0;32m     10\u001b[0m \u001b[1;33m\u001b[0m\u001b[0m\n\u001b[0;32m     11\u001b[0m \u001b[0mt\u001b[0m \u001b[1;33m=\u001b[0m \u001b[0mTest\u001b[0m\u001b[1;33m(\u001b[0m\u001b[1;34m'A'\u001b[0m\u001b[1;33m)\u001b[0m\u001b[1;33m\u001b[0m\u001b[1;33m\u001b[0m\u001b[0m\n",
      "\u001b[1;31mNameError\u001b[0m: name 'self' is not defined"
     ]
    }
   ],
   "source": [
    "class Test:\n",
    "    count = 0\n",
    "    def __init__(self,name):\n",
    "        self.name = name\n",
    "        Test.count = Test.count + 1\n",
    "    \n",
    "    @classmethod\n",
    "    def noofobj(cls):\n",
    "        print(self.name)\n",
    "        \n",
    "t = Test('A')\n",
    "t.noofobj()"
   ]
  },
  {
   "cell_type": "code",
   "execution_count": 15,
   "id": "d6d893a2",
   "metadata": {},
   "outputs": [
    {
     "name": "stdout",
     "output_type": "stream",
     "text": [
      "A\n"
     ]
    }
   ],
   "source": [
    "# This becomes instance method instead we are passsing cls instead of self. \n",
    "class Test:\n",
    "    count = 0\n",
    "    def __init__(cls,name):\n",
    "        cls.name = name\n",
    "        Test.count = Test.count + 1\n",
    "    \n",
    "  \n",
    "    def noofobj(cls):  \n",
    "        print(cls.name)\n",
    "        \n",
    "t = Test('A')\n",
    "t.noofobj()"
   ]
  },
  {
   "cell_type": "code",
   "execution_count": 16,
   "id": "82807f86",
   "metadata": {},
   "outputs": [
    {
     "name": "stdout",
     "output_type": "stream",
     "text": [
      "30\n"
     ]
    }
   ],
   "source": [
    "class Test:\n",
    "    count = 0\n",
    "    def __init__(self):\n",
    "        Test.count = Test.count + 1\n",
    "    \n",
    "    @staticmethod \n",
    "    def noofobj(x,y):  # x,y are not my instance variable. IT is not my static variable. It us local variable\n",
    "        print(x+y)  \n",
    "        \n",
    "t = Test()\n",
    "t.noofobj(10,20)"
   ]
  },
  {
   "cell_type": "code",
   "execution_count": 19,
   "id": "14a3e9ad",
   "metadata": {},
   "outputs": [
    {
     "name": "stdout",
     "output_type": "stream",
     "text": [
      "The sum is: 30\n",
      "The product is: 200\n",
      "the average is  15.0\n"
     ]
    }
   ],
   "source": [
    "#Static Method- \n",
    "    #Inside method if we are not using instance and static variable.\n",
    "    # Its a general utility method.\n",
    "    \n",
    "#@staticmethod\n",
    "\n",
    "class RahulMaths:\n",
    "    @staticmethod\n",
    "    def add(x,y):\n",
    "        print(\"The sum is:\", x+y)\n",
    "        \n",
    "    @staticmethod\n",
    "    def product(x,y):\n",
    "        print(\"The product is:\", x*y)\n",
    "        \n",
    "    @staticmethod\n",
    "    def average(x,y):\n",
    "        print(\"the average is \", (x+y)/2)\n",
    "        \n",
    "RahulMaths.add(10,20)\n",
    "RahulMaths.product(10,20)\n",
    "RahulMaths.average(10,20)\n",
    "\n",
    "        \n"
   ]
  },
  {
   "cell_type": "code",
   "execution_count": 20,
   "id": "123c4d6b",
   "metadata": {},
   "outputs": [
    {
     "name": "stdout",
     "output_type": "stream",
     "text": [
      "The sum is: 30\n",
      "The product is: 200\n",
      "the average is  15.0\n"
     ]
    }
   ],
   "source": [
    "#Static Method- \n",
    "    #Inside method if we are not using instance and static variable.\n",
    "    # Its a general utility method.\n",
    "    \n",
    "#@staticmethod\n",
    "\n",
    "class RahulMaths:\n",
    "  \n",
    "    def add(x,y):\n",
    "        print(\"The sum is:\", x+y)\n",
    "        \n",
    "\n",
    "    def product(x,y):\n",
    "        print(\"The product is:\", x*y)\n",
    "        \n",
    "\n",
    "    def average(x,y):\n",
    "        print(\"the average is \", (x+y)/2)\n",
    "        \n",
    "RahulMaths.add(10,20)\n",
    "RahulMaths.product(10,20)\n",
    "RahulMaths.average(10,20)\n",
    "\n",
    "        \n"
   ]
  },
  {
   "cell_type": "code",
   "execution_count": 21,
   "id": "a6b0a645",
   "metadata": {},
   "outputs": [],
   "source": [
    "# Instance Method- No decorator is required.\n",
    "#classmethod- @classmethod - Mandatory\n",
    "# static method- @staticmethod-(optional)\n"
   ]
  },
  {
   "cell_type": "code",
   "execution_count": 22,
   "id": "cf82845c",
   "metadata": {},
   "outputs": [],
   "source": [
    "# Instance variable- (Instance method)\n",
    "#static variable - (class method)\n",
    "# Instance+static = (Instance Method)\n",
    "#Instance +Local variable - Instance method\n",
    "# static+local = (class methosd)\n",
    "#local variable = static method"
   ]
  },
  {
   "cell_type": "code",
   "execution_count": null,
   "id": "41441ccd",
   "metadata": {},
   "outputs": [],
   "source": [
    "#If no decorator = Either static or Instance.\n"
   ]
  },
  {
   "cell_type": "code",
   "execution_count": 29,
   "id": "1c895751",
   "metadata": {},
   "outputs": [
    {
     "name": "stdout",
     "output_type": "stream",
     "text": [
      "some method: Instance| static | Class\n",
      "2196686817648\n",
      "some method: Instance| static | Class\n",
      "2196689485536\n",
      "2196689485536\n",
      "2196686817648\n",
      "some method: Instance| static | Class\n",
      "140708325173328\n"
     ]
    }
   ],
   "source": [
    "class Test:\n",
    "    def m1(cls):\n",
    "        print(\"some method: Instance| static | Class\")              \n",
    "        print(id(cls))\n",
    "        \n",
    "t1 = Test()  # Here the id of cls and t1 is same. t1 is an object and an instance.\n",
    "t1.m1() #When calling object and method it will act as an instance method.\n",
    "t2 = Test()\n",
    "t2.m1()\n",
    "print(id(t2))\n",
    "print(id(t1))\n",
    "Test.m1(10)# Acting as static Method.\n",
    "        "
   ]
  },
  {
   "cell_type": "code",
   "execution_count": 30,
   "id": "ca169c55",
   "metadata": {},
   "outputs": [],
   "source": [
    "#Class 36\n",
    "\n",
    "#Passing the members of one class to another.\n"
   ]
  },
  {
   "cell_type": "code",
   "execution_count": 34,
   "id": "fafdd27f",
   "metadata": {},
   "outputs": [
    {
     "name": "stdout",
     "output_type": "stream",
     "text": [
      "Employe Number:  100\n",
      "Employee Name:  Rahul\n",
      "Employee Salary:  15000\n",
      "Employe Number:  100\n",
      "Employee Name:  Rahul\n",
      "Employee Salary:  25000\n"
     ]
    }
   ],
   "source": [
    "class Employee:\n",
    "    def __init__(self, eno, ename, esal):\n",
    "        self.eno = eno\n",
    "        self.ename = ename\n",
    "        self.esal = esal\n",
    "        \n",
    "    def display(self):\n",
    "        print(\"Employe Number: \", self.eno)\n",
    "        print(\"Employee Name: \", self.ename)\n",
    "        print(\"Employee Salary: \", self.esal)\n",
    "        \n",
    "class Test: \n",
    "    def modify(emp):\n",
    "        emp.esal = emp.esal+10000\n",
    "        emp.display() #Calling one class member to another class. Calling display from Employee class to Test class.\n",
    "        \n",
    "e = Employee(100, 'Rahul', 15000)\n",
    "e.display()\n",
    "\n",
    "Test.modify(e)  "
   ]
  },
  {
   "cell_type": "code",
   "execution_count": 36,
   "id": "3195f1dc",
   "metadata": {},
   "outputs": [
    {
     "name": "stdout",
     "output_type": "stream",
     "text": [
      "Hello\n",
      "Hello\n"
     ]
    }
   ],
   "source": [
    "class Test:\n",
    "    def modify(emp):\n",
    "        print(\"Hello\")\n",
    "        \n",
    "e1 = Test()\n",
    "e1.modify() #object.function-- This will act like instance method\n",
    "Test.modify(10) # Static function"
   ]
  },
  {
   "cell_type": "code",
   "execution_count": 37,
   "id": "991fa78a",
   "metadata": {},
   "outputs": [],
   "source": [
    "#Inner classes\n",
    "    # Classes inside another classes.\n",
    "    #Without existing outer class inner class is of no use."
   ]
  },
  {
   "cell_type": "code",
   "execution_count": 40,
   "id": "e780070f",
   "metadata": {},
   "outputs": [
    {
     "name": "stdout",
     "output_type": "stream",
     "text": [
      "Outer class object creation\n",
      "Inner class object creation.....\n",
      "Inner class Method.\n"
     ]
    }
   ],
   "source": [
    "class Outer:\n",
    "    def __init__(self):\n",
    "        print('Outer class object creation')\n",
    "    \n",
    "    class Inner:\n",
    "        def __init__(self):\n",
    "            print(\"Inner class object creation.....\")\n",
    "        \n",
    "        def m1(self):\n",
    "            print(\"Inner class Method.\")\n",
    "            \n",
    "            \n",
    "o = Outer()\n",
    "i = o.Inner()\n",
    "i.m1()"
   ]
  },
  {
   "cell_type": "code",
   "execution_count": 43,
   "id": "b303bdf7",
   "metadata": {},
   "outputs": [
    {
     "name": "stdout",
     "output_type": "stream",
     "text": [
      "Outer class object creation\n",
      "Inner class object creation.....\n",
      "Inner class Method.\n"
     ]
    }
   ],
   "source": [
    "i = Outer().Inner().m1()"
   ]
  },
  {
   "cell_type": "code",
   "execution_count": 44,
   "id": "e537061a",
   "metadata": {},
   "outputs": [
    {
     "name": "stdout",
     "output_type": "stream",
     "text": [
      "Outer class object creation...\n",
      "Inner class object creation...\n",
      "Inner Inner class objectr creation...\n",
      "Inner Inner Class Method\n"
     ]
    }
   ],
   "source": [
    "class Outer:\n",
    "    def __init__(self):\n",
    "        print(\"Outer class object creation...\")\n",
    "        \n",
    "    class Inner:\n",
    "        def __init__(self):\n",
    "            print(\"Inner class object creation...\")\n",
    "            \n",
    "        class InnerInner:\n",
    "            def __init__(self):\n",
    "                print(\"Inner Inner class objectr creation...\")\n",
    "                \n",
    "            def m1(self):\n",
    "                print(\"Inner Inner Class Method\")\n",
    "\n",
    "i = Outer().Inner().InnerInner().m1()\n",
    "        "
   ]
  },
  {
   "cell_type": "code",
   "execution_count": 49,
   "id": "efd4bf8b",
   "metadata": {},
   "outputs": [
    {
     "name": "stdout",
     "output_type": "stream",
     "text": [
      "Hello Rahul\n"
     ]
    }
   ],
   "source": [
    "class Human:\n",
    "    def __init__(self):\n",
    "        self.name = 'Rahul'\n",
    "        \n",
    "    def Display(self):\n",
    "        print(\"Hello\", self.name)\n",
    "        \n",
    "h = Human()\n",
    "h.Display()\n",
    "\n",
    "        "
   ]
  },
  {
   "cell_type": "code",
   "execution_count": 58,
   "id": "095f4ff6",
   "metadata": {},
   "outputs": [
    {
     "name": "stdout",
     "output_type": "stream",
     "text": [
      "Talking....\n",
      "Hello Rahul\n",
      "Talking....\n",
      "Thinking....\n"
     ]
    }
   ],
   "source": [
    "class Human:\n",
    "    def __init__(self):\n",
    "        self.name = 'Rahul'      # Here we are calling class in the constructor.\n",
    "        self.head = self.Head() # Here we are calling Head class by making variable self.head from below. We want to run \n",
    "                                #Head class and Brain class in Display class.\n",
    "        self.brain = self.head.Brain()  \n",
    "        self.talk = self.head.talk()\n",
    "   \n",
    "\n",
    "\n",
    "    def display(self):\n",
    "        print(\"Hello\", self.name)\n",
    "        self.head.talk() # Here we are calling Head class with talk method. We incorporated Head class in constructor \n",
    "                            # and calling the variable self.head and with that calling talk method inside Display Method.\n",
    "        self.brain.think()\n",
    "  \n",
    "    class Head:\n",
    "        def talk(self):\n",
    "            print(\"Talking....\")\n",
    "          \n",
    "            \n",
    "        class Brain:\n",
    "            def think(self):\n",
    "                print(\"Thinking....\")\n",
    "        \n",
    "        \n",
    "        \n",
    "        \n",
    "h = Human()\n",
    "h.display()"
   ]
  },
  {
   "cell_type": "code",
   "execution_count": 64,
   "id": "ded0b4b8",
   "metadata": {},
   "outputs": [
    {
     "name": "stdout",
     "output_type": "stream",
     "text": [
      "Hello Rahul\n",
      "Talking....\n",
      "Thinking....\n"
     ]
    }
   ],
   "source": [
    "class Human: \n",
    "    def __init__(self):\n",
    "        self.name = 'Rahul' \n",
    "        self.head = self.Head() # Head class is called here with variable self.head() in constructor\n",
    "        self.brain = self.head.Brain()\n",
    "   \n",
    "\n",
    "\n",
    "    def display(self):\n",
    "        print(\"Hello\", self.name)\n",
    "        self.head.talk()\n",
    "        self.brain.think()\n",
    "         \n",
    "        \n",
    "  \n",
    "    class Head:\n",
    "        def talk(self):\n",
    "            print(\"Talking....\")\n",
    "          \n",
    "            \n",
    "        class Brain:\n",
    "            def think(self):\n",
    "                print(\"Thinking....\")\n",
    "        \n",
    "        \n",
    "        \n",
    "        \n",
    "h = Human()\n",
    "h.display()\n"
   ]
  },
  {
   "cell_type": "code",
   "execution_count": 67,
   "id": "e8f34f49",
   "metadata": {},
   "outputs": [
    {
     "name": "stdout",
     "output_type": "stream",
     "text": [
      "customer Name R\n",
      "DOB=10/11/2011\n"
     ]
    }
   ],
   "source": [
    "class Customer:\n",
    "    def __init__(self, name, dd, mm, yyyy):\n",
    "        self.name = name\n",
    "        self.dob = self.DOB(dd,mm,yyyy)   # Here we are calling DOB class by creating dob variable.\n",
    "        \n",
    "    def display(self):\n",
    "        print(\"customer Name\", self.name)\n",
    "        self.dob.display()\n",
    "        \n",
    "        \n",
    "        \n",
    "    class DOB:\n",
    "        def __init__(self,dd,mm,yyyy):\n",
    "            self.dd = dd\n",
    "            self.mm = mm\n",
    "            self.yyyy = yyyy\n",
    "            \n",
    "            \n",
    "        def display(self):\n",
    "            print(\"DOB={}/{}/{}\".format(self.dd, self.mm, self.yyyy))\n",
    "        \n",
    "c = Customer('R', 10,11,2011)\n",
    "c.display()"
   ]
  },
  {
   "cell_type": "code",
   "execution_count": 68,
   "id": "dff5292c",
   "metadata": {},
   "outputs": [
    {
     "name": "stdout",
     "output_type": "stream",
     "text": [
      "The sum is: 30\n",
      "The diff is: -10\n",
      "The mul is: 200\n",
      "The div is: 0.5\n",
      "\n",
      "The sum is: 300\n",
      "The diff is: -100\n",
      "The mul is: 20000\n",
      "The div is: 0.5\n",
      "\n",
      "The sum is: 3000\n",
      "The diff is: -1000\n",
      "The mul is: 2000000\n",
      "The div is: 0.5\n",
      "\n"
     ]
    }
   ],
   "source": [
    "class Test:\n",
    "    def m1(self):\n",
    "        a, b = 10,20\n",
    "        print(\"The sum is:\", a+b)\n",
    "        print(\"The diff is:\", a-b)\n",
    "        print(\"The mul is:\", a*b)\n",
    "        print(\"The div is:\", a/b)\n",
    "        print()\n",
    "        a, b = 100,200\n",
    "        print(\"The sum is:\", a+b)\n",
    "        print(\"The diff is:\", a-b)\n",
    "        print(\"The mul is:\", a*b)\n",
    "        print(\"The div is:\", a/b)\n",
    "        print()\n",
    "        \n",
    "        a, b = 1000,2000\n",
    "        print(\"The sum is:\", a+b)\n",
    "        print(\"The diff is:\", a-b)\n",
    "        print(\"The mul is:\", a*b)\n",
    "        print(\"The div is:\", a/b)\n",
    "        print()\n",
    "        \n",
    "        \n",
    "t = Test()\n",
    "\n",
    "t.m1()"
   ]
  },
  {
   "cell_type": "code",
   "execution_count": 71,
   "id": "f826fdb4",
   "metadata": {},
   "outputs": [
    {
     "name": "stdout",
     "output_type": "stream",
     "text": [
      "The sum is: 30\n",
      "The diff is: -10\n",
      "The Mul is: 200\n",
      "The div is: 0.5\n",
      "\n",
      "The sum is: 300\n",
      "The diff is: -100\n",
      "The Mul is: 20000\n",
      "The div is: 0.5\n",
      "\n",
      "The sum is: 3000\n",
      "The diff is: -1000\n",
      "The Mul is: 2000000\n",
      "The div is: 0.5\n",
      "\n"
     ]
    }
   ],
   "source": [
    "class Test:\n",
    "    def m1(self):  # Here we tried to call method into method...\n",
    "        def calculator(a,b):\n",
    "            print(\"The sum is:\", a+b)\n",
    "            print(\"The diff is:\",a-b)\n",
    "            print(\"The Mul is:\", a*b)\n",
    "            print('The div is:', a/b)\n",
    "            print()\n",
    "        calculator(10,20)\n",
    "        calculator(100,200)\n",
    "        calculator(1000,2000)\n",
    "        \n",
    "        \n",
    "t = Test()\n",
    "t.m1()"
   ]
  },
  {
   "cell_type": "code",
   "execution_count": null,
   "id": "e63306f4",
   "metadata": {},
   "outputs": [],
   "source": []
  }
 ],
 "metadata": {
  "kernelspec": {
   "display_name": "Python 3",
   "language": "python",
   "name": "python3"
  },
  "language_info": {
   "codemirror_mode": {
    "name": "ipython",
    "version": 3
   },
   "file_extension": ".py",
   "mimetype": "text/x-python",
   "name": "python",
   "nbconvert_exporter": "python",
   "pygments_lexer": "ipython3",
   "version": "3.8.8"
  }
 },
 "nbformat": 4,
 "nbformat_minor": 5
}
