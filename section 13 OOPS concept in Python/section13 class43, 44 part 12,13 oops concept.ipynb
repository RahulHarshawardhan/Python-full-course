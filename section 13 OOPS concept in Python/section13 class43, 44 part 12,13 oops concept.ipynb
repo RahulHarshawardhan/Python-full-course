{
 "cells": [
  {
   "cell_type": "code",
   "execution_count": 1,
   "id": "3c8c965b",
   "metadata": {},
   "outputs": [],
   "source": [
    "#Abstract Methods\n",
    "#Abstract Classes\n",
    "#Interface\n",
    "#Public, Private, Protected members\n"
   ]
  },
  {
   "cell_type": "code",
   "execution_count": 2,
   "id": "e7167da1",
   "metadata": {},
   "outputs": [],
   "source": [
    "from abc import *  #abc is abstract bas class\n",
    "#Abstract method - Code will be developed later when required.\n",
    "# Abstract means hiding something hich is not complete yet.\n",
    "\n",
    "class Vehicle:\n",
    "    @abstractmethod  # we can have multiple abstract method.\n",
    "    def get_no_wheel(self):\n",
    "        pass\n",
    "    #where we dont know implementation, but still declaring it as a part of the code. We pass the code but with pass we\n",
    "    #cannot identify the code is a abstract or no.\n",
    "    \n",
    "class veg:\n",
    "    @abstractmethod\n",
    "    def get_price(self):\n",
    "        pass"
   ]
  },
  {
   "cell_type": "code",
   "execution_count": 4,
   "id": "0b0bd49c",
   "metadata": {},
   "outputs": [
    {
     "ename": "TypeError",
     "evalue": "Can't instantiate abstract class Vehicle with abstract methods get_no_wheels",
     "output_type": "error",
     "traceback": [
      "\u001b[1;31m---------------------------------------------------------------------------\u001b[0m",
      "\u001b[1;31mTypeError\u001b[0m                                 Traceback (most recent call last)",
      "\u001b[1;32m<ipython-input-4-9ec78de7f54e>\u001b[0m in \u001b[0;36m<module>\u001b[1;34m\u001b[0m\n\u001b[0;32m      6\u001b[0m         \u001b[1;32mpass\u001b[0m\u001b[1;33m\u001b[0m\u001b[1;33m\u001b[0m\u001b[0m\n\u001b[0;32m      7\u001b[0m \u001b[1;33m\u001b[0m\u001b[0m\n\u001b[1;32m----> 8\u001b[1;33m \u001b[0mv\u001b[0m \u001b[1;33m=\u001b[0m \u001b[0mVehicle\u001b[0m\u001b[1;33m(\u001b[0m\u001b[1;33m)\u001b[0m\u001b[1;33m\u001b[0m\u001b[1;33m\u001b[0m\u001b[0m\n\u001b[0m",
      "\u001b[1;31mTypeError\u001b[0m: Can't instantiate abstract class Vehicle with abstract methods get_no_wheels"
     ]
    }
   ],
   "source": [
    "#Abstract class- Implementation of the class not complete, partial implementation is known as abstract class\n",
    "\n",
    "class Vehicle(ABC):\n",
    "    @abstractmethod\n",
    "    def get_no_wheels(self):\n",
    "        pass\n",
    "    \n",
    "v = Vehicle()"
   ]
  },
  {
   "cell_type": "code",
   "execution_count": 6,
   "id": "0763ef27",
   "metadata": {},
   "outputs": [
    {
     "data": {
      "text/plain": [
       "<__main__.Test at 0x1ea1bf488b0>"
      ]
     },
     "execution_count": 6,
     "metadata": {},
     "output_type": "execute_result"
    }
   ],
   "source": [
    "class Test(ABC):\n",
    "    pass\n",
    "\n",
    "t = Test()\n",
    "t"
   ]
  },
  {
   "cell_type": "code",
   "execution_count": 7,
   "id": "5096eaeb",
   "metadata": {},
   "outputs": [],
   "source": [
    "#Abstract class- Implementation of the class not complete, partial implementation is known as abstract class\n",
    "\n",
    "class Vehicle:\n",
    "    @abstractmethod\n",
    "    def get_no_wheels(self):\n",
    "        pass\n",
    "    \n",
    "v = Vehicle()"
   ]
  },
  {
   "cell_type": "code",
   "execution_count": null,
   "id": "d50ada68",
   "metadata": {},
   "outputs": [],
   "source": [
    "# When we have abstract class and inside that we have abstract method, then object will not be create,\n",
    "# When we hve normal class and inside that we have abstract method(logic or no logic), object will be created."
   ]
  },
  {
   "cell_type": "code",
   "execution_count": 8,
   "id": "fb99b679",
   "metadata": {},
   "outputs": [],
   "source": [
    "# Abstract Method- Method having no proper Implementation.\n",
    "    # How to declare abstract method- by using abstract method decorator.\n",
    "    # abstractmethod decorator present in ABC module.\n",
    "    # child classes are responsible to provide the implemention for the parent class abstract method.\n",
    "    \n",
    "    \n",
    "#Abstract Class- If the implementation of the class is not complete(partially complete)\n",
    "    # how to declare abstract class- we have to extend ABC class.\n",
    "    # class Test(ABC):\n",
    "        #pass\n",
    "        \n",
    "#Test is child and ABC is parent. Test class is Extending ABC class. Hence, abstract class \n",
    "#ABC class present in abc module.\n",
    "\n",
    "#Abstract class Vs Abstract Methods\n",
    "# Abstract class contains any number of abstarct methods including 0.\n",
    "# Abstract class can contain normal methods as well.\n",
    "\n",
    "\n",
    "# When object creation is not possible:\n",
    "    #1) If class is abstract and it contains atleast one abstract method then only method will not instantiate.\n",
    "    #However object creation is possible\n",
    "     # class is not abstract but contains one abstract method - object creation is possible.\n",
    "    # class is abstract but it doesnot contain any abstract method.\n",
    "    \n",
    "    "
   ]
  },
  {
   "cell_type": "code",
   "execution_count": 11,
   "id": "34f913d0",
   "metadata": {},
   "outputs": [
    {
     "ename": "TypeError",
     "evalue": "Can't instantiate abstract class Bus with abstract methods get_no_wheels",
     "output_type": "error",
     "traceback": [
      "\u001b[1;31m---------------------------------------------------------------------------\u001b[0m",
      "\u001b[1;31mTypeError\u001b[0m                                 Traceback (most recent call last)",
      "\u001b[1;32m<ipython-input-11-0b9c2448b518>\u001b[0m in \u001b[0;36m<module>\u001b[1;34m\u001b[0m\n\u001b[0;32m      7\u001b[0m     \u001b[1;32mpass\u001b[0m\u001b[1;33m\u001b[0m\u001b[1;33m\u001b[0m\u001b[0m\n\u001b[0;32m      8\u001b[0m \u001b[1;33m\u001b[0m\u001b[0m\n\u001b[1;32m----> 9\u001b[1;33m \u001b[0mb\u001b[0m \u001b[1;33m=\u001b[0m\u001b[0mBus\u001b[0m\u001b[1;33m(\u001b[0m\u001b[1;33m)\u001b[0m\u001b[1;33m\u001b[0m\u001b[1;33m\u001b[0m\u001b[0m\n\u001b[0m\u001b[0;32m     10\u001b[0m \u001b[1;33m\u001b[0m\u001b[0m\n",
      "\u001b[1;31mTypeError\u001b[0m: Can't instantiate abstract class Bus with abstract methods get_no_wheels"
     ]
    }
   ],
   "source": [
    "class vehicle(ABC):\n",
    "    @abstractmethod\n",
    "    def get_no_wheels(self):\n",
    "        pass\n",
    "    \n",
    "class Bus(vehicle):\n",
    "    pass\n",
    "\n",
    "b =Bus()\n",
    "    "
   ]
  },
  {
   "cell_type": "code",
   "execution_count": 14,
   "id": "0e4bbbfd",
   "metadata": {},
   "outputs": [
    {
     "data": {
      "text/plain": [
       "4"
      ]
     },
     "execution_count": 14,
     "metadata": {},
     "output_type": "execute_result"
    }
   ],
   "source": [
    "class vehicle(ABC):\n",
    "    @abstractmethod\n",
    "    def get_no_wheels(self):\n",
    "        pass\n",
    "    \n",
    "class Bus(vehicle):\n",
    "    def get_no_wheels(self):\n",
    "        return 10\n",
    "    \n",
    "class Auto(Vehicle):\n",
    "    def get_no_wheels(self):\n",
    "        return 4\n",
    "    \n",
    "    \n",
    "b = Bus()\n",
    "b.get_no_wheels()\n",
    "\n",
    "a = Auto()\n",
    "a.get_no_wheels()"
   ]
  },
  {
   "cell_type": "code",
   "execution_count": 15,
   "id": "aa576d98",
   "metadata": {},
   "outputs": [],
   "source": [
    "# What is the advantage of abstractmethod?\n",
    "# compulsory child have to implement then only child will get the property of the parent."
   ]
  },
  {
   "cell_type": "code",
   "execution_count": 16,
   "id": "a696ead2",
   "metadata": {},
   "outputs": [
    {
     "ename": "TypeError",
     "evalue": "Can't instantiate abstract class C with abstract methods m2",
     "output_type": "error",
     "traceback": [
      "\u001b[1;31m---------------------------------------------------------------------------\u001b[0m",
      "\u001b[1;31mTypeError\u001b[0m                                 Traceback (most recent call last)",
      "\u001b[1;32m<ipython-input-16-535ff91db213>\u001b[0m in \u001b[0;36m<module>\u001b[1;34m\u001b[0m\n\u001b[0;32m     12\u001b[0m         \u001b[0mprint\u001b[0m\u001b[1;33m(\u001b[0m\u001b[1;34m\"Implementing M1 method\"\u001b[0m\u001b[1;33m)\u001b[0m\u001b[1;33m\u001b[0m\u001b[1;33m\u001b[0m\u001b[0m\n\u001b[0;32m     13\u001b[0m \u001b[1;33m\u001b[0m\u001b[0m\n\u001b[1;32m---> 14\u001b[1;33m \u001b[0mc\u001b[0m \u001b[1;33m=\u001b[0m \u001b[0mC\u001b[0m\u001b[1;33m(\u001b[0m\u001b[1;33m)\u001b[0m\u001b[1;33m\u001b[0m\u001b[1;33m\u001b[0m\u001b[0m\n\u001b[0m",
      "\u001b[1;31mTypeError\u001b[0m: Can't instantiate abstract class C with abstract methods m2"
     ]
    }
   ],
   "source": [
    "class P(ABC):\n",
    "    @abstractmethod\n",
    "    def m1(self):\n",
    "        pass\n",
    "    \n",
    "    @abstractmethod\n",
    "    def m2(self):\n",
    "        pass\n",
    "    \n",
    "class C(P):\n",
    "    def m1(self):   \n",
    "        print(\"Implementing M1 method\")\n",
    "        \n",
    "c = C() # Error will come as M2 method is not created in child class"
   ]
  },
  {
   "cell_type": "code",
   "execution_count": 17,
   "id": "5c9c7419",
   "metadata": {},
   "outputs": [
    {
     "name": "stdout",
     "output_type": "stream",
     "text": [
      "Implementing M1 method\n",
      "Implementing M2 method\n"
     ]
    }
   ],
   "source": [
    "class P(ABC):\n",
    "    @abstractmethod\n",
    "    def m1(self):\n",
    "        pass\n",
    "    \n",
    "    @abstractmethod\n",
    "    def m2(self):\n",
    "        pass\n",
    "    \n",
    "class C(P):\n",
    "    def m1(self):   \n",
    "        print(\"Implementing M1 method\")\n",
    "        \n",
    "    def m2(self):\n",
    "        print(\"Implementing M2 method\")\n",
    "c = C()\n",
    "c.m1()\n",
    "c.m2()"
   ]
  },
  {
   "cell_type": "code",
   "execution_count": 19,
   "id": "a74690b6",
   "metadata": {},
   "outputs": [
    {
     "name": "stdout",
     "output_type": "stream",
     "text": [
      "Implementation of M1 method\n",
      "Implementation of M2 method\n"
     ]
    }
   ],
   "source": [
    "class P(ABC):\n",
    "    @abstractmethod\n",
    "    def m1(self):\n",
    "        pass\n",
    "    \n",
    "    @abstractmethod\n",
    "    def m2(self):\n",
    "        pass\n",
    "    \n",
    "class C(P):\n",
    "    def m1(self):   \n",
    "        print(\"Implementation of M1 method\")\n",
    "        \n",
    "class CC(C):        \n",
    "    def m2(self):\n",
    "        print(\"Implementation of M2 method\")\n",
    "c = CC()\n",
    "c.m1()\n",
    "c.m2()"
   ]
  },
  {
   "cell_type": "code",
   "execution_count": 20,
   "id": "27954432",
   "metadata": {},
   "outputs": [
    {
     "name": "stdout",
     "output_type": "stream",
     "text": [
      "Implementation of M1\n",
      "Implementation of M2 method\n"
     ]
    }
   ],
   "source": [
    "class P(ABC):\n",
    "    @abstractmethod\n",
    "    def m1(self):\n",
    "        pass\n",
    "    def m2(self):\n",
    "        print(\"Implementation of M2 method\")\n",
    "        \n",
    "class C(P):\n",
    "    def m1(self):\n",
    "        print(\"Implementation of M1\")\n",
    "        \n",
    "c = C()\n",
    "c.m1()\n",
    "c.m2()"
   ]
  },
  {
   "cell_type": "code",
   "execution_count": null,
   "id": "123c3e6e",
   "metadata": {},
   "outputs": [],
   "source": [
    "#Interface- An abstract class  which contains only abstract methods.\n",
    "\n",
    "from abc import *\n",
    "class Interf(ABC):\n",
    "    @abstractmethod #This is not the interface as all method is not have @abstractmethod\n",
    "    def patient(self):\n",
    "        pass\n",
    "    def OPD(self):\n",
    "        pass\n",
    "    def Billing(self):\n",
    "        pass\n",
    "    def Operations(self):\n",
    "        pass\n",
    "    "
   ]
  },
  {
   "cell_type": "code",
   "execution_count": null,
   "id": "1d0fc1a4",
   "metadata": {},
   "outputs": [],
   "source": [
    "#Interface- An abstract class  which contains only abstract methods.\n",
    "\n",
    "from abc import *\n",
    "class Interf(ABC):\n",
    "    @abstractmethod #This is not the interface as all method is not have @abstractmethod\n",
    "    def patient(self):\n",
    "        pass\n",
    "     @abstractmethod\n",
    "    def OPD(self):\n",
    "        pass\n",
    "     @abstractmethod\n",
    "    def Billing(self):\n",
    "        pass\n",
    "     @abstractmethod\n",
    "    def Operations(self):\n",
    "        pass\n",
    "    "
   ]
  },
  {
   "cell_type": "code",
   "execution_count": 21,
   "id": "01e34272",
   "metadata": {},
   "outputs": [],
   "source": [
    "#when to go for interface vs abstract class vs Concrete class\n",
    "# If we dont know any implementation only required specification- Interface\n",
    "#If we are talking about implementation but not completely- Abstract class\n",
    "#If we are talking about implementation completely and ready to provide all the services- concrete class."
   ]
  },
  {
   "cell_type": "code",
   "execution_count": 22,
   "id": "e69907d4",
   "metadata": {},
   "outputs": [
    {
     "name": "stdout",
     "output_type": "stream",
     "text": [
      "10\n",
      "20\n"
     ]
    }
   ],
   "source": [
    "# 3 Types of members\n",
    "\n",
    "#Public, Private, protected members.\n",
    "\n",
    "class Test:\n",
    "    x = 10\n",
    "    def __init__(self):\n",
    "        self.y = 20\n",
    "        \n",
    "t = Test() # I am able to access x and y. This is public.\n",
    "print(t.x)\n",
    "print(t.y)\n"
   ]
  },
  {
   "cell_type": "code",
   "execution_count": 23,
   "id": "d89f291b",
   "metadata": {},
   "outputs": [
    {
     "name": "stdout",
     "output_type": "stream",
     "text": [
      "10\n",
      "20\n"
     ]
    }
   ],
   "source": [
    "# 3 Types of members\n",
    "\n",
    "#Public, Private, protected members.\n",
    "\n",
    "class Test:\n",
    "    _x = 10\n",
    "    def __init__(self):\n",
    "        self._y = 20\n",
    "        \n",
    "t = Test() # I am able to access x and y. This is private.\n",
    "print(t._x)\n",
    "print(t._y)\n"
   ]
  },
  {
   "cell_type": "code",
   "execution_count": 24,
   "id": "2fe48519",
   "metadata": {},
   "outputs": [
    {
     "ename": "AttributeError",
     "evalue": "'Test' object has no attribute '__x'",
     "output_type": "error",
     "traceback": [
      "\u001b[1;31m---------------------------------------------------------------------------\u001b[0m",
      "\u001b[1;31mAttributeError\u001b[0m                            Traceback (most recent call last)",
      "\u001b[1;32m<ipython-input-24-0aa426446b17>\u001b[0m in \u001b[0;36m<module>\u001b[1;34m\u001b[0m\n\u001b[0;32m      5\u001b[0m \u001b[1;33m\u001b[0m\u001b[0m\n\u001b[0;32m      6\u001b[0m \u001b[0mt\u001b[0m \u001b[1;33m=\u001b[0m \u001b[0mTest\u001b[0m\u001b[1;33m(\u001b[0m\u001b[1;33m)\u001b[0m \u001b[1;31m# I am able to access x and y. This is protected.\u001b[0m\u001b[1;33m\u001b[0m\u001b[1;33m\u001b[0m\u001b[0m\n\u001b[1;32m----> 7\u001b[1;33m \u001b[0mprint\u001b[0m\u001b[1;33m(\u001b[0m\u001b[0mt\u001b[0m\u001b[1;33m.\u001b[0m\u001b[0m__x\u001b[0m\u001b[1;33m)\u001b[0m\u001b[1;33m\u001b[0m\u001b[1;33m\u001b[0m\u001b[0m\n\u001b[0m\u001b[0;32m      8\u001b[0m \u001b[0mprint\u001b[0m\u001b[1;33m(\u001b[0m\u001b[0mt\u001b[0m\u001b[1;33m.\u001b[0m\u001b[0m__y\u001b[0m\u001b[1;33m)\u001b[0m\u001b[1;33m\u001b[0m\u001b[1;33m\u001b[0m\u001b[0m\n",
      "\u001b[1;31mAttributeError\u001b[0m: 'Test' object has no attribute '__x'"
     ]
    }
   ],
   "source": [
    "class Test:\n",
    "    __x = 10\n",
    "    def __init__(self):\n",
    "        self.__y = 20\n",
    "        \n",
    "t = Test() # I am able to access x and y. This is protected.\n",
    "print(t.__x)\n",
    "print(t.__y)"
   ]
  },
  {
   "cell_type": "code",
   "execution_count": 25,
   "id": "4bdc07a9",
   "metadata": {},
   "outputs": [
    {
     "name": "stdout",
     "output_type": "stream",
     "text": [
      "{'_Test__y': 20}\n"
     ]
    }
   ],
   "source": [
    "print(t.__dict__)"
   ]
  },
  {
   "cell_type": "code",
   "execution_count": 27,
   "id": "f48b9ad9",
   "metadata": {},
   "outputs": [
    {
     "name": "stdout",
     "output_type": "stream",
     "text": [
      "20\n"
     ]
    }
   ],
   "source": [
    "print(t._Test__y)"
   ]
  },
  {
   "cell_type": "code",
   "execution_count": 28,
   "id": "f421a972",
   "metadata": {},
   "outputs": [
    {
     "name": "stdout",
     "output_type": "stream",
     "text": [
      "10\n"
     ]
    }
   ],
   "source": [
    "print(Test._Test__x)"
   ]
  },
  {
   "cell_type": "code",
   "execution_count": 31,
   "id": "c326a67f",
   "metadata": {},
   "outputs": [
    {
     "name": "stdout",
     "output_type": "stream",
     "text": [
      "<__main__.Student object at 0x000001EA1D90CB50>\n"
     ]
    }
   ],
   "source": [
    "#class 13 STR & REPR\n",
    "\n",
    "class Student:\n",
    "    def __init__(self, name, rollno):\n",
    "        self.name = name\n",
    "        self.rollno = rollno\n",
    "        \n",
    "s1 = Student('Rahul', 1)\n",
    "print(s1)"
   ]
  },
  {
   "cell_type": "code",
   "execution_count": 33,
   "id": "777b76d6",
   "metadata": {},
   "outputs": [
    {
     "name": "stdout",
     "output_type": "stream",
     "text": [
      "This is the student Rahul with rollno 1\n",
      "This is the student Rahul with rollno 1\n"
     ]
    }
   ],
   "source": [
    "class Student:\n",
    "    def __init__(self, name, rollno):\n",
    "        self.name = name\n",
    "        self.rollno = rollno\n",
    "        \n",
    "        \n",
    "    def __str__(self):\n",
    "        return \"This is the student {} with rollno {}\".format(self.name, self.rollno)\n",
    "        \n",
    "s1 = Student('Rahul', 1)\n",
    "print(s1)\n",
    "print(s1.__str__()) #"
   ]
  },
  {
   "cell_type": "code",
   "execution_count": 37,
   "id": "883537c2",
   "metadata": {},
   "outputs": [
    {
     "name": "stdout",
     "output_type": "stream",
     "text": [
      "2023-01-21 17:35:11.982748\n",
      "<class 'str'>\n"
     ]
    },
    {
     "ename": "SyntaxError",
     "evalue": "leading zeros in decimal integer literals are not permitted; use an 0o prefix for octal integers (<string>, line 1)",
     "output_type": "error",
     "traceback": [
      "Traceback \u001b[1;36m(most recent call last)\u001b[0m:\n",
      "  File \u001b[0;32m\"C:\\Users\\rahul\\anaconda3\\lib\\site-packages\\IPython\\core\\interactiveshell.py\"\u001b[0m, line \u001b[0;32m3437\u001b[0m, in \u001b[0;35mrun_code\u001b[0m\n    exec(code_obj, self.user_global_ns, self.user_ns)\n",
      "\u001b[1;36m  File \u001b[1;32m\"<ipython-input-37-2d0c90f20810>\"\u001b[1;36m, line \u001b[1;32m6\u001b[1;36m, in \u001b[1;35m<module>\u001b[1;36m\u001b[0m\n\u001b[1;33m    d = eval(s)\u001b[0m\n",
      "\u001b[1;36m  File \u001b[1;32m\"<string>\"\u001b[1;36m, line \u001b[1;32m1\u001b[0m\n\u001b[1;33m    2023-01-21 17:35:11.982748\u001b[0m\n\u001b[1;37m          ^\u001b[0m\n\u001b[1;31mSyntaxError\u001b[0m\u001b[1;31m:\u001b[0m leading zeros in decimal integer literals are not permitted; use an 0o prefix for octal integers\n"
     ]
    }
   ],
   "source": [
    "import datetime\n",
    "today = datetime.datetime.now()\n",
    "s = str(today) # Here We are converting datetime module to string.\n",
    "print(s)\n",
    "print(type(s))\n",
    "d = eval(s) # eval is used to convert back to its original form. But the string is not converting back and giving error.\n"
   ]
  },
  {
   "cell_type": "code",
   "execution_count": 38,
   "id": "0c9b5abf",
   "metadata": {},
   "outputs": [
    {
     "name": "stdout",
     "output_type": "stream",
     "text": [
      "datetime.datetime(2023, 1, 21, 17, 37, 21, 520722)\n",
      "<class 'str'>\n",
      "2023-01-21 17:37:21.520722\n",
      "<class 'datetime.datetime'>\n"
     ]
    }
   ],
   "source": [
    "import datetime\n",
    "today = datetime.datetime.now()\n",
    "s = repr(today) # Here We are converting datetime module to string by using repr.\n",
    "print(s)\n",
    "print(type(s))\n",
    "d = eval(s) # eval is used to convert back to its original form.\n",
    "print(d)\n",
    "print(type(d)) # d is datetime module."
   ]
  },
  {
   "cell_type": "code",
   "execution_count": null,
   "id": "e3fe3a44",
   "metadata": {},
   "outputs": [],
   "source": [
    "# The difference between d=str and repr is, after converting to str, we cannot convert back to its original form. But \n",
    "# in repr we can convert back to its original form.\n",
    "\n"
   ]
  },
  {
   "cell_type": "code",
   "execution_count": 48,
   "id": "02b43eab",
   "metadata": {},
   "outputs": [
    {
     "name": "stdout",
     "output_type": "stream",
     "text": [
      "Insufficient funds in the account\n",
      "Rahul's' Curent Account balance: -10000\n",
      "your account balance is: 100\n",
      "Insufficient funds in the account\n",
      "Astha's' Saving Account balance: 10100\n"
     ]
    }
   ],
   "source": [
    "class Account:\n",
    "    def __init__(self, name, balance, min_balance):\n",
    "        self.name = name\n",
    "        self.balance = balance\n",
    "        self.min_balance = min_balance\n",
    "        \n",
    "    def deposit(self, amount):\n",
    "        self.balance = self.balance + amount\n",
    "        \n",
    "    def withdraw(self, amount):\n",
    "        if self.balance - amount >= self.min_balance:\n",
    "            self.balance = self.balance-amount\n",
    "            \n",
    "        else:\n",
    "            print(\"Insufficient funds in the account\")\n",
    "            \n",
    "    def print_statement(self):\n",
    "        print(\"your account balance is:\", self.balance)\n",
    "        \n",
    "        \n",
    "class SavingsAccount(Account):\n",
    "    def __init__(self, name, balance):\n",
    "        super().__init__(name, balance, min_balance= 0) # Here calling constructor of parent class by super method.\n",
    "        \n",
    "    def __str__(self):\n",
    "        return \"{}'s' Saving Account balance: {}\".format(self.name, self.balance)\n",
    "    \n",
    "class CurrentAccount(Account):\n",
    "    def __init__(self, name, balance):\n",
    "        super().__init__(name, balance, min_balance= -10000) # Here calling constructor of parent class by super method.\n",
    "        \n",
    "    def __str__(self):\n",
    "        return \"{}'s' Curent Account balance: {}\".format(self.name, self.balance) \n",
    "    \n",
    "    \n",
    "c = CurrentAccount(\"Rahul\", 0)\n",
    "c.withdraw(10000)\n",
    "c.withdraw(12000)\n",
    "print(c)\n",
    "\n",
    "s = SavingsAccount(\"Astha\",100)\n",
    "s.print_statement()\n",
    "s.withdraw(150)\n",
    "s.deposit(10000)\n",
    "print(s)"
   ]
  },
  {
   "cell_type": "code",
   "execution_count": 50,
   "id": "9f0aadb6",
   "metadata": {},
   "outputs": [
    {
     "name": "stdout",
     "output_type": "stream",
     "text": [
      "Welcome to RahulBank\n",
      "Please enter your name:Anusha\n",
      "d-Deposit \n",
      " w-Withdraw \n",
      " e-Exit\n",
      "Choose what you want to do:d\n",
      "Enter the anount you want to deposit100000\n",
      "The balance after deposite is: 100000.0\n",
      "d-Deposit \n",
      " w-Withdraw \n",
      " e-Exit\n",
      "Choose what you want to do:5000\n",
      "Invalid option... Please choose the valid option\n",
      "d-Deposit \n",
      " w-Withdraw \n",
      " e-Exit\n",
      "Choose what you want to do:w\n",
      "enter the anount to withdraw from the account5000\n",
      "The balance after withdraw is: 95000.0\n",
      "d-Deposit \n",
      " w-Withdraw \n",
      " e-Exit\n",
      "Choose what you want to do:w\n",
      "enter the anount to withdraw from the account5000\n",
      "The balance after withdraw is: 90000.0\n",
      "d-Deposit \n",
      " w-Withdraw \n",
      " e-Exit\n",
      "Choose what you want to do:w\n",
      "enter the anount to withdraw from the account9000\n",
      "The balance after withdraw is: 81000.0\n",
      "d-Deposit \n",
      " w-Withdraw \n",
      " e-Exit\n",
      "Choose what you want to do:e\n",
      "Thank you for banking with us\n"
     ]
    },
    {
     "ename": "SystemExit",
     "evalue": "",
     "output_type": "error",
     "traceback": [
      "An exception has occurred, use %tb to see the full traceback.\n",
      "\u001b[1;31mSystemExit\u001b[0m\n"
     ]
    }
   ],
   "source": [
    "#ATM Machine\n",
    "\n",
    "import sys # Sys module help in terminate the application\n",
    "\n",
    "class Customer:\n",
    "    '''Customer Class with Bank Operation'''\n",
    "    bankname = 'RahulBank'\n",
    "    \n",
    "    def __init__(self,name, balance = 0.0):\n",
    "        self.name = name\n",
    "        self.balance = balance\n",
    "        \n",
    "    def deposit(self,amount):\n",
    "        self.balance = self.balance + amount\n",
    "        print(\"The balance after deposite is:\", self.balance)\n",
    "        \n",
    "    def withdraw(self, amount):\n",
    "        if amount > self.balance:\n",
    "            print(\"Insufficient Funds, cannot perform this operation\") \n",
    "            sys.exit()\n",
    "            \n",
    "        self.balance = self.balance - amount\n",
    "        print('The balance after withdraw is:', self.balance)\n",
    "        \n",
    "# user to give option.\n",
    "\n",
    "print('Welcome to',Customer.bankname)\n",
    "name = input(\"Please enter your name:\")\n",
    "c = Customer(name)\n",
    "while True:\n",
    "    print('d-Deposit \\n w-Withdraw \\n e-Exit')\n",
    "    option = input('Choose what you want to do:').lower()\n",
    "    if option == 'd':\n",
    "        amount = float(input(\"Enter the anount you want to deposit\"))\n",
    "        c.deposit(amount)\n",
    "        \n",
    "    elif option=='w':\n",
    "        amount = float(input(\"enter the anount to withdraw from the account\"))\n",
    "        c.withdraw(amount)\n",
    "        \n",
    "    elif option == 'e':\n",
    "        print(\"Thank you for banking with us\")\n",
    "        sys.exit()\n",
    "        \n",
    "    else:\n",
    "        print(\"Invalid option... Please choose the valid option\")"
   ]
  },
  {
   "cell_type": "code",
   "execution_count": 54,
   "id": "15b42b0d",
   "metadata": {},
   "outputs": [
    {
     "name": "stdout",
     "output_type": "stream",
     "text": [
      "Welcome to RahulBank\n",
      "Please enter your name:ankl\n",
      "d-Deposit \n",
      " w-Withdraw \n",
      " e-Exit\n",
      "Choose what you want to do:d\n",
      "Enter the anount you want to deposit10000\n",
      "The balance after deposite is: 10000.0\n",
      "d-Deposit \n",
      " w-Withdraw \n",
      " e-Exit\n",
      "Choose what you want to do:100\n",
      "Invalid option... Please choose the valid option\n",
      "d-Deposit \n",
      " w-Withdraw \n",
      " e-Exit\n",
      "Choose what you want to do:w\n",
      "enter the anount to withdraw from the account200\n"
     ]
    }
   ],
   "source": [
    "#ATM Machine\n",
    "\n",
    "import sys # Sys module help in terminate the application\n",
    "\n",
    "class Customer:\n",
    "    '''Customer Class with Bank Operation'''\n",
    "    bankname = 'RahulBank'\n",
    "    \n",
    "    def __init__(self,name, balance = 0.0):\n",
    "        self.name = name\n",
    "        self.balance = balance\n",
    "        \n",
    "    def deposit(self,amount):\n",
    "        self.balance = self.balance + amount\n",
    "        print(\"The balance after deposite is:\", self.balance)\n",
    "        \n",
    "    def withdraw(self, amount):\n",
    "        if amount > self.balance:\n",
    "            print(\"Insufficient Funds, cannot perform this operation\") \n",
    "            sys.exit()\n",
    "            \n",
    "        self.balance = self.balance - amount\n",
    "        print('The balance after withdraw is:', self.balance)\n",
    "        \n",
    "# user to give option.\n",
    "\n",
    "print('Welcome to',Customer.bankname)\n",
    "name = input(\"Please enter your name:\")\n",
    "c = Customer(name)\n",
    "while True:\n",
    "    print('d-Deposit \\n w-Withdraw \\n e-Exit')\n",
    "    option = input('Choose what you want to do:').lower()\n",
    "    if option == 'd':\n",
    "        amount = float(input(\"Enter the anount you want to deposit\"))\n",
    "        c.deposit(amount)\n",
    "        \n",
    "    elif option=='w':\n",
    "        amount = float(input(\"enter the anount to withdraw from the account\"))\n",
    "        if amount<100:\n",
    "            print(\"The amount should be atleast 5000 or more\")\n",
    "        else:\n",
    "            break\n",
    "        c.withdraw(amount)\n",
    "        \n",
    "    elif option == 'e':\n",
    "        print(\"Thank you for banking with us\")\n",
    "        sys.exit()\n",
    "        \n",
    "    else:\n",
    "        print(\"Invalid option... Please choose the valid option\")"
   ]
  },
  {
   "cell_type": "code",
   "execution_count": 56,
   "id": "59d2e96f",
   "metadata": {},
   "outputs": [
    {
     "name": "stdout",
     "output_type": "stream",
     "text": [
      "Welcome to RahulBank\n",
      "Please enter your name:rahul\n",
      "d-Deposit \n",
      " w-Withdraw \n",
      " e-Exit\n",
      "Choose what you want to do:d\n",
      "Enter the anount you want to deposit1000\n",
      "The balance after deposite is: 1000.0\n",
      "d-Deposit \n",
      " w-Withdraw \n",
      " e-Exit\n",
      "Choose what you want to do:50\n",
      "Invalid option... Please choose the valid option\n",
      "d-Deposit \n",
      " w-Withdraw \n",
      " e-Exit\n",
      "Choose what you want to do:e\n",
      "Thank you for banking with us\n"
     ]
    },
    {
     "ename": "SystemExit",
     "evalue": "",
     "output_type": "error",
     "traceback": [
      "An exception has occurred, use %tb to see the full traceback.\n",
      "\u001b[1;31mSystemExit\u001b[0m\n"
     ]
    }
   ],
   "source": [
    "#ATM Machine\n",
    "\n",
    "import sys # Sys module help in terminate the application\n",
    "\n",
    "class Customer:\n",
    "    '''Customer Class with Bank Operation'''\n",
    "    bankname = 'RahulBank'\n",
    "    \n",
    "    def __init__(self,name, balance = 0.0):\n",
    "        self.name = name\n",
    "        self.balance = balance\n",
    "        \n",
    "    def deposit(self,amount):\n",
    "        self.balance = self.balance + amount\n",
    "        print(\"The balance after deposite is:\", self.balance)\n",
    "        \n",
    "    def withdraw(self, amount):\n",
    "        if amount > self.balance:\n",
    "            print(\"Insufficient Funds, cannot perform this operation\") \n",
    "            sys.exit()\n",
    "            \n",
    "        self.balance = self.balance - amount\n",
    "        print('The balance after withdraw is:', self.balance)\n",
    "        \n",
    "# user to give option.\n",
    "\n",
    "print('Welcome to',Customer.bankname)\n",
    "name = input(\"Please enter your name:\")\n",
    "c = Customer(name)\n",
    "while True:\n",
    "    print('d-Deposit \\n w-Withdraw \\n e-Exit')\n",
    "    option = input('Choose what you want to do:').lower()\n",
    "    if option == 'd':\n",
    "        amount = float(input(\"Enter the anount you want to deposit\"))\n",
    "        c.deposit(amount)\n",
    "        \n",
    "    elif option=='w':\n",
    "        amount = float(input(\"enter the anount to withdraw from the account\"))\n",
    "        if not(amount > 0 and amount %100==0):\n",
    "            print(\"Amount should be multiple of 100\")\n",
    "        else:\n",
    "            break\n",
    "        c.withdraw(amount)\n",
    "        \n",
    "    elif option == 'e':\n",
    "        print(\"Thank you for banking with us\")\n",
    "        sys.exit()\n",
    "        \n",
    "    else:\n",
    "        print(\"Invalid option... Please choose the valid option\")"
   ]
  },
  {
   "cell_type": "code",
   "execution_count": null,
   "id": "ad58c4a4",
   "metadata": {},
   "outputs": [],
   "source": []
  },
  {
   "cell_type": "code",
   "execution_count": null,
   "id": "8d77180c",
   "metadata": {},
   "outputs": [],
   "source": []
  },
  {
   "cell_type": "code",
   "execution_count": null,
   "id": "904a6412",
   "metadata": {},
   "outputs": [],
   "source": []
  },
  {
   "cell_type": "code",
   "execution_count": null,
   "id": "6ba56575",
   "metadata": {},
   "outputs": [],
   "source": []
  }
 ],
 "metadata": {
  "kernelspec": {
   "display_name": "Python 3",
   "language": "python",
   "name": "python3"
  },
  "language_info": {
   "codemirror_mode": {
    "name": "ipython",
    "version": 3
   },
   "file_extension": ".py",
   "mimetype": "text/x-python",
   "name": "python",
   "nbconvert_exporter": "python",
   "pygments_lexer": "ipython3",
   "version": "3.8.8"
  }
 },
 "nbformat": 4,
 "nbformat_minor": 5
}
