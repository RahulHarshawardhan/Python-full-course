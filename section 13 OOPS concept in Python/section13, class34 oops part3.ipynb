{
 "cells": [
  {
   "cell_type": "code",
   "execution_count": 1,
   "id": "ea2214f0",
   "metadata": {},
   "outputs": [],
   "source": [
    "#Static Variables:\n",
    "    # One variable is created at the class level.\n",
    "    # We are not require to maintain separate copy of variable- Share the same copy\n",
    "    # One copy of ststic variable created at the class Level."
   ]
  },
  {
   "cell_type": "code",
   "execution_count": 2,
   "id": "568fe4af",
   "metadata": {},
   "outputs": [],
   "source": [
    "# How to declare the static variable..\n",
    "    #1) Directly create inside the class without using self- self is not associated.\n",
    "    #2) Inside the constructor by using class name.\n",
    "    #3) Inside Instance method using class name.\n",
    "    #4) Inside class method by using cls variable or class name.\n",
    "    #5) Inside static method by using class name.\n",
    "    #6) Outside the class as well.\n",
    "    \n",
    "    \n",
    "#static variable- Only one copy will be created at the class level.\n",
    "#Instance variable- For every object a separate copy will be created.\n"
   ]
  },
  {
   "cell_type": "code",
   "execution_count": 11,
   "id": "fdceb5c3",
   "metadata": {},
   "outputs": [
    {
     "name": "stdout",
     "output_type": "stream",
     "text": [
      "{'__module__': '__main__', 'a': 10, '__init__': <function Test.__init__ at 0x0000018AA8FDCB80>, 'm1': <function Test.m1 at 0x0000018AA90CD040>, 'm2': <classmethod object at 0x0000018AA90C5C70>, 'm3': <staticmethod object at 0x0000018AA90C58E0>, '__dict__': <attribute '__dict__' of 'Test' objects>, '__weakref__': <attribute '__weakref__' of 'Test' objects>, '__doc__': None, 'b': 20, 'g': 100, 'c': 30, 'd': 40, 'e': 50, 'f': 60}\n"
     ]
    }
   ],
   "source": [
    "class Test:\n",
    "    # static variable\n",
    "    a = 10           #1) Directly create inside the class without using self- self is not associated.\n",
    "    def __init__(self): # when passing self it is associated with current object.\n",
    "        Test.b = 20  #2) Inside the constructor by using class name.\n",
    "    \n",
    "    def m1(self): \n",
    "        Test.c = 30  #3) Inside Instance method using class name.\n",
    "        \n",
    "    @classmethod\n",
    "    def m2(cls): # cls represent the class method.\n",
    "                     #4) Inside class method by using cls variable or class name.\n",
    "        cls.d = 40 \n",
    "        Test.e=50\n",
    "        \n",
    "    @staticmethod\n",
    "    def m3():         #5) Inside static method by using class name.\n",
    "        Test.f = 60\n",
    "        \n",
    "#print(Test.__dict__)\n",
    "t = Test()\n",
    "Test.g = 100  #6) Outside the class as well.\n",
    "#print(Test.__dict__)\n",
    "\n",
    "t.m1()\n",
    "#print(Test.__dict__)\n",
    "\n",
    "t.m2()\n",
    "#print(Test.__dict__)\n",
    "\n",
    "t.m3()\n",
    "print(Test.__dict__)\n",
    "\n",
    "\n",
    "\n",
    "    "
   ]
  },
  {
   "cell_type": "code",
   "execution_count": 10,
   "id": "37d34d34",
   "metadata": {},
   "outputs": [
    {
     "name": "stdout",
     "output_type": "stream",
     "text": [
      "888\n",
      "777\n"
     ]
    }
   ],
   "source": [
    "class Test:\n",
    "    a = 777\n",
    "    \n",
    "    def __init__(self):\n",
    "        self.a = 888\n",
    "        \n",
    "t = Test()\n",
    "print(t.a) # When calling with object.variable name it will give instance variable.\n",
    "print(Test.a) # When calling with class.variable it will give static variable."
   ]
  },
  {
   "cell_type": "code",
   "execution_count": 12,
   "id": "64d674c9",
   "metadata": {},
   "outputs": [],
   "source": [
    "# How to access the static variable.\n",
    "    #1) Inside the constructor - Either by self or by class name.\n",
    "    #2) Inside the instance method -Either by self or class name.\n",
    "    #3) Inside the class method- Either by cls or by class name.\n",
    "    #4) Inside the static method - By class name.\n",
    "    #5) Outside the class- Either by object reference or by class name."
   ]
  },
  {
   "cell_type": "code",
   "execution_count": 18,
   "id": "ab8b15d1",
   "metadata": {},
   "outputs": [
    {
     "name": "stdout",
     "output_type": "stream",
     "text": [
      "10\n",
      "10\n",
      "10\n",
      "10\n",
      "10\n",
      "10\n",
      "10\n"
     ]
    }
   ],
   "source": [
    "class Test:   #1) Inside the constructor - Either by self or by class name.\n",
    "    a = 10\n",
    "    def __init__(self):\n",
    "        print(self.a) #Accessing static variable using self in constructor.\n",
    "        print(Test.a)\n",
    "    \n",
    "    def m1(self): #2) Inside the instance method -Either by self or class name.\n",
    "        print(self.a)\n",
    "        print(Test.a)\n",
    "        \n",
    "    @classmethod\n",
    "    def m2(cls): #3) Inside the class method- Either by cls or by class name.\n",
    "        print(cls.a)\n",
    "        print(Test.a)\n",
    "        \n",
    "    @staticmethod #4) Inside the static method - By class name.\n",
    "    def m3():\n",
    "        print(Test.a)\n",
    "        \n",
    "t = Test()\n",
    "t.m1()\n",
    "t.m2()\n",
    "t.m3()\n"
   ]
  },
  {
   "cell_type": "code",
   "execution_count": 22,
   "id": "09c5672c",
   "metadata": {},
   "outputs": [
    {
     "data": {
      "text/plain": [
       "100"
      ]
     },
     "execution_count": 22,
     "metadata": {},
     "output_type": "execute_result"
    }
   ],
   "source": [
    "class Test:   #1) Inside the constructor - Either by self or by class name.\n",
    "    a = 10\n",
    "    def __init__(self):\n",
    "        #self.a = 100\n",
    "        print(self.a) #Accessing static variable using self in constructor.\n",
    "        print(Test.a)\n",
    "    \n",
    "    def m1(self): #2) Inside the instance method -Either by self or class name.\n",
    "        print(self.a)\n",
    "        print(Test.a)\n",
    "        \n",
    "    @classmethod\n",
    "    def m2(cls): #3) Inside the class method- Either by cls or by class name.\n",
    "        print(cls.a)\n",
    "        print(Test.a)\n",
    "        \n",
    "    @staticmethod #4) Inside the static method - By class name.\n",
    "    def m3():\n",
    "        print(Test.a)\n",
    "        \n",
    "#t = Test()\n",
    "#t.m1()\n",
    "#t.m2()\n",
    "#t.m3()\n",
    "t.a  #Here we have created instance variable and while executing a is updated to 100. So priority gives to instance\n",
    "        #variable.\n"
   ]
  },
  {
   "cell_type": "code",
   "execution_count": 23,
   "id": "f4fcd203",
   "metadata": {},
   "outputs": [],
   "source": [
    "#Where we can modify the value of static variable.\n",
    "    #1) By using the class name (Inside or outside the class.)\n",
    "    #2) Inside the class method by using cls variable also.\n",
    "    "
   ]
  },
  {
   "cell_type": "code",
   "execution_count": 31,
   "id": "00ccd156",
   "metadata": {},
   "outputs": [
    {
     "name": "stdout",
     "output_type": "stream",
     "text": [
      "888\n",
      "10000\n",
      "2222\n",
      "22122\n",
      "44344\n"
     ]
    }
   ],
   "source": [
    "class Test: #1) By using the class name (Inside or outside the class.)\n",
    "    a = 10\n",
    "    def __init__(self):\n",
    "        Test.a = 888\n",
    "        \n",
    "    def m1(self):\n",
    "        Test.a =10000\n",
    "        \n",
    "    @classmethod\n",
    "    def m2(cls):\n",
    "        Test.a = 9090\n",
    "        cls.a = 2222   #2) Inside the class method by using cls variable also.\n",
    "        \n",
    "    @staticmethod\n",
    "    def m3():\n",
    "        Test.a = 22122\n",
    "        \n",
    "        \n",
    "t = Test()\n",
    "print(Test.a)\n",
    "\n",
    "t.m1()\n",
    "print(Test.a)\n",
    "\n",
    "t.m2()\n",
    "print(Test.a)\n",
    "\n",
    "t.m3()\n",
    "print(Test.a)\n",
    "\n",
    "Test.a =44344  #Outside the class\n",
    "print(Test.a) "
   ]
  },
  {
   "cell_type": "code",
   "execution_count": 34,
   "id": "1fa230fe",
   "metadata": {},
   "outputs": [
    {
     "name": "stdout",
     "output_type": "stream",
     "text": [
      "999\n",
      "90\n"
     ]
    },
    {
     "ename": "NameError",
     "evalue": "name 'a' is not defined",
     "output_type": "error",
     "traceback": [
      "\u001b[1;31m---------------------------------------------------------------------------\u001b[0m",
      "\u001b[1;31mNameError\u001b[0m                                 Traceback (most recent call last)",
      "\u001b[1;32m<ipython-input-34-80e1c9c5dbe6>\u001b[0m in \u001b[0;36m<module>\u001b[1;34m\u001b[0m\n\u001b[0;32m     12\u001b[0m \u001b[0mt\u001b[0m \u001b[1;33m=\u001b[0m \u001b[0mTest\u001b[0m\u001b[1;33m(\u001b[0m\u001b[1;33m)\u001b[0m\u001b[1;33m\u001b[0m\u001b[1;33m\u001b[0m\u001b[0m\n\u001b[0;32m     13\u001b[0m \u001b[0mprint\u001b[0m\u001b[1;33m(\u001b[0m\u001b[0mt\u001b[0m\u001b[1;33m.\u001b[0m\u001b[0ma\u001b[0m\u001b[1;33m)\u001b[0m\u001b[1;33m\u001b[0m\u001b[1;33m\u001b[0m\u001b[0m\n\u001b[1;32m---> 14\u001b[1;33m \u001b[0mt\u001b[0m\u001b[1;33m.\u001b[0m\u001b[0mm1\u001b[0m\u001b[1;33m(\u001b[0m\u001b[1;33m)\u001b[0m\u001b[1;33m\u001b[0m\u001b[1;33m\u001b[0m\u001b[0m\n\u001b[0m\u001b[0;32m     15\u001b[0m \u001b[1;33m\u001b[0m\u001b[0m\n",
      "\u001b[1;32m<ipython-input-34-80e1c9c5dbe6>\u001b[0m in \u001b[0;36mm1\u001b[1;34m(self)\u001b[0m\n\u001b[0;32m      8\u001b[0m \u001b[1;33m\u001b[0m\u001b[0m\n\u001b[0;32m      9\u001b[0m     \u001b[1;32mdef\u001b[0m \u001b[0mm1\u001b[0m\u001b[1;33m(\u001b[0m\u001b[0mself\u001b[0m\u001b[1;33m)\u001b[0m\u001b[1;33m:\u001b[0m\u001b[1;33m\u001b[0m\u001b[1;33m\u001b[0m\u001b[0m\n\u001b[1;32m---> 10\u001b[1;33m         \u001b[0mprint\u001b[0m\u001b[1;33m(\u001b[0m\u001b[0ma\u001b[0m\u001b[1;33m)\u001b[0m\u001b[1;33m\u001b[0m\u001b[1;33m\u001b[0m\u001b[0m\n\u001b[0m\u001b[0;32m     11\u001b[0m \u001b[1;33m\u001b[0m\u001b[0m\n\u001b[0;32m     12\u001b[0m \u001b[0mt\u001b[0m \u001b[1;33m=\u001b[0m \u001b[0mTest\u001b[0m\u001b[1;33m(\u001b[0m\u001b[1;33m)\u001b[0m\u001b[1;33m\u001b[0m\u001b[1;33m\u001b[0m\u001b[0m\n",
      "\u001b[1;31mNameError\u001b[0m: name 'a' is not defined"
     ]
    }
   ],
   "source": [
    "class Test:\n",
    "    a = 10\n",
    "    def __init__(self):\n",
    "        Test.a = 888\n",
    "        a = 999  # local Variable\n",
    "        self.a = 90\n",
    "        print(a)\n",
    "        \n",
    "    def m1(self):\n",
    "        print(a)\n",
    "        \n",
    "t = Test()\n",
    "print(t.a)\n",
    "t.m1()"
   ]
  },
  {
   "cell_type": "code",
   "execution_count": 39,
   "id": "634e85de",
   "metadata": {},
   "outputs": [
    {
     "name": "stdout",
     "output_type": "stream",
     "text": [
      "90\n",
      "1000\n",
      "10\n"
     ]
    }
   ],
   "source": [
    "class Test:\n",
    "    a = 10\n",
    "    def __init__(self):\n",
    "        Test.a = 1000\n",
    "        a = 100\n",
    "        self.a = 90\n",
    "        print(self.a)\n",
    "        print(Test.a)\n",
    "        \n",
    "    def m1(self):\n",
    "        b = 10\n",
    "        print(b)\n",
    "        \n",
    "t = Test()\n",
    "t.m1()"
   ]
  },
  {
   "cell_type": "code",
   "execution_count": 41,
   "id": "f8b3557c",
   "metadata": {},
   "outputs": [
    {
     "name": "stdout",
     "output_type": "stream",
     "text": [
      "10 20\n",
      "10 20\n",
      "888 20\n",
      "10 1000\n"
     ]
    }
   ],
   "source": [
    "class Test:\n",
    "    x = 10\n",
    "    def __init__(self):\n",
    "        self.y =20\n",
    "    \n",
    "t1 = Test()\n",
    "t2 = Test()\n",
    "\n",
    "print(t1.x, t1.y)\n",
    "print(t2.x, t2.y)\n",
    "\n",
    "t1.x = 888  # here new instance variable of x and y is created as 888, 1000 and is new instance variable\n",
    "t2.y = 1000\n",
    "\n",
    "print(t1.x , t1.y)\n",
    "print(t2.x, t2.y)"
   ]
  },
  {
   "cell_type": "code",
   "execution_count": 43,
   "id": "14f5d484",
   "metadata": {},
   "outputs": [
    {
     "name": "stdout",
     "output_type": "stream",
     "text": [
      "888 999\n",
      "10 20\n"
     ]
    }
   ],
   "source": [
    "class Test:\n",
    "    a = 10\n",
    "    def __init__(self):\n",
    "        self.b = 20\n",
    "        \n",
    "    def m1(self):\n",
    "        self.a = 888\n",
    "        self.b = 999\n",
    "        \n",
    "t1 = Test()\n",
    "t2 = Test()\n",
    "t1.m1()\n",
    "print(t1.a, t1.b)\n",
    "print(t2.a, t2.b)"
   ]
  },
  {
   "cell_type": "code",
   "execution_count": 53,
   "id": "7c2c0864",
   "metadata": {},
   "outputs": [
    {
     "name": "stdout",
     "output_type": "stream",
     "text": [
      "888 999\n"
     ]
    }
   ],
   "source": [
    "class Test:\n",
    "    a = 10 #static variable\n",
    "    def __init__(self):\n",
    "        self.b = 20 # Instance variable\n",
    "        \n",
    "    @classmethod\n",
    "    def m1(cls):\n",
    "        cls.a = 888 #updating static variable to 888\n",
    "        cls.b = 999 # creating a new static variable b =999\n",
    "        \n",
    "t1 = Test()\n",
    "t2 = Test()\n",
    "t1.m1()\n",
    "#print(t1.a, t1.b)# Here in class method cls.a is updating the value of static variable a = 10 to 888.\n",
    "#print(t2.a, t2.b)  # and t1.b will take instance variable \n",
    "print(Test.a, Test.b)"
   ]
  },
  {
   "cell_type": "code",
   "execution_count": 60,
   "id": "73324192",
   "metadata": {},
   "outputs": [
    {
     "name": "stdout",
     "output_type": "stream",
     "text": [
      "{'__module__': '__main__', '__init__': <function Test.__init__ at 0x0000018AAA451B80>, 'm1': <function Test.m1 at 0x0000018AAA451C10>, 'm2': <classmethod object at 0x0000018AAA5BB550>, 'm3': <staticmethod object at 0x0000018AAA5BB460>, '__dict__': <attribute '__dict__' of 'Test' objects>, '__weakref__': <attribute '__weakref__' of 'Test' objects>, '__doc__': None, 'e': 5}\n"
     ]
    }
   ],
   "source": [
    "class Test:\n",
    "    a = 10\n",
    "    def __init__(self):\n",
    "        Test.b = 20\n",
    "        del Test.a\n",
    "        \n",
    "    def m1(self):\n",
    "        Test.c = 30\n",
    "        del Test.b\n",
    "        \n",
    "    @classmethod\n",
    "    def m2(cls):\n",
    "        cls.d = 40\n",
    "        del Test.c\n",
    "        \n",
    "    @staticmethod\n",
    "    def m3():\n",
    "        Test.e = 5\n",
    "        del Test.d\n",
    "        \n",
    "#print(Test.__dict__)\n",
    "\n",
    "t = Test()\n",
    "#print(Test.__dict__)\n",
    "\n",
    "t.m1()\n",
    "#print(Test.__dict__)\n",
    "\n",
    "t.m2()\n",
    "#print(Test.__dict__)\n",
    "\n",
    "t.m3()\n",
    "print(Test.__dict__)"
   ]
  },
  {
   "cell_type": "code",
   "execution_count": 66,
   "id": "0a52b1d8",
   "metadata": {},
   "outputs": [
    {
     "name": "stdout",
     "output_type": "stream",
     "text": [
      "999\n"
     ]
    }
   ],
   "source": [
    "class Test:\n",
    "    a = 10\n",
    "    \n",
    "t = Test()\n",
    "#print(t.a)\n",
    "\n",
    "t.a = 303\n",
    "#print(t.a)\n",
    "\n",
    "Test.a = 999\n",
    "print(Test.a)\n",
    "\n",
    "#del t.a\n",
    "#print(Test.a)"
   ]
  },
  {
   "cell_type": "code",
   "execution_count": 67,
   "id": "dbf2fafb",
   "metadata": {},
   "outputs": [
    {
     "name": "stdout",
     "output_type": "stream",
     "text": [
      "10\n"
     ]
    },
    {
     "ename": "AttributeError",
     "evalue": "a",
     "output_type": "error",
     "traceback": [
      "\u001b[1;31m---------------------------------------------------------------------------\u001b[0m",
      "\u001b[1;31mAttributeError\u001b[0m                            Traceback (most recent call last)",
      "\u001b[1;32m<ipython-input-67-d4f626a8f9f4>\u001b[0m in \u001b[0;36m<module>\u001b[1;34m\u001b[0m\n\u001b[0;32m      4\u001b[0m \u001b[0mt\u001b[0m \u001b[1;33m=\u001b[0m \u001b[0mTest\u001b[0m\u001b[1;33m(\u001b[0m\u001b[1;33m)\u001b[0m\u001b[1;33m\u001b[0m\u001b[1;33m\u001b[0m\u001b[0m\n\u001b[0;32m      5\u001b[0m \u001b[0mprint\u001b[0m\u001b[1;33m(\u001b[0m\u001b[0mt\u001b[0m\u001b[1;33m.\u001b[0m\u001b[0ma\u001b[0m\u001b[1;33m)\u001b[0m\u001b[1;33m\u001b[0m\u001b[1;33m\u001b[0m\u001b[0m\n\u001b[1;32m----> 6\u001b[1;33m \u001b[1;32mdel\u001b[0m \u001b[0mt\u001b[0m\u001b[1;33m.\u001b[0m\u001b[0ma\u001b[0m\u001b[1;33m\u001b[0m\u001b[1;33m\u001b[0m\u001b[0m\n\u001b[0m\u001b[0;32m      7\u001b[0m \u001b[0mprint\u001b[0m\u001b[1;33m(\u001b[0m\u001b[0mt\u001b[0m\u001b[1;33m.\u001b[0m\u001b[0ma\u001b[0m\u001b[1;33m)\u001b[0m\u001b[1;33m\u001b[0m\u001b[1;33m\u001b[0m\u001b[0m\n",
      "\u001b[1;31mAttributeError\u001b[0m: a"
     ]
    }
   ],
   "source": [
    "class Test:\n",
    "    a = 10\n",
    "    \n",
    "t = Test()\n",
    "#print(t.a)\n",
    "del t.a\n",
    "print(t.a)"
   ]
  },
  {
   "cell_type": "code",
   "execution_count": 68,
   "id": "93d71d39",
   "metadata": {},
   "outputs": [
    {
     "name": "stdout",
     "output_type": "stream",
     "text": [
      "1000\n",
      "2000\n"
     ]
    }
   ],
   "source": [
    "#Local Variables\n",
    "\n",
    "class Test:\n",
    "    def m1(self):\n",
    "        a = 1000\n",
    "        print(a)\n",
    "    def m2(self):\n",
    "        b = 2000\n",
    "        print(b)\n",
    "        \n",
    "        \n",
    "t = Test()\n",
    "t.m1()\n",
    "t.m2()       "
   ]
  },
  {
   "cell_type": "code",
   "execution_count": 69,
   "id": "552f138f",
   "metadata": {},
   "outputs": [
    {
     "name": "stdout",
     "output_type": "stream",
     "text": [
      "200\n",
      "100\n"
     ]
    },
    {
     "ename": "UnboundLocalError",
     "evalue": "local variable 'z' referenced before assignment",
     "output_type": "error",
     "traceback": [
      "\u001b[1;31m---------------------------------------------------------------------------\u001b[0m",
      "\u001b[1;31mUnboundLocalError\u001b[0m                         Traceback (most recent call last)",
      "\u001b[1;32m<ipython-input-69-86ca75dbc0cc>\u001b[0m in \u001b[0;36m<module>\u001b[1;34m\u001b[0m\n\u001b[0;32m      9\u001b[0m         \u001b[0mprint\u001b[0m\u001b[1;33m(\u001b[0m\u001b[0mz\u001b[0m\u001b[1;33m)\u001b[0m\u001b[1;33m\u001b[0m\u001b[1;33m\u001b[0m\u001b[0m\n\u001b[0;32m     10\u001b[0m \u001b[1;33m\u001b[0m\u001b[0m\n\u001b[1;32m---> 11\u001b[1;33m \u001b[0mt\u001b[0m \u001b[1;33m=\u001b[0m \u001b[0mTest\u001b[0m\u001b[1;33m(\u001b[0m\u001b[1;33m)\u001b[0m\u001b[1;33m\u001b[0m\u001b[1;33m\u001b[0m\u001b[0m\n\u001b[0m\u001b[0;32m     12\u001b[0m \u001b[1;33m\u001b[0m\u001b[0m\n",
      "\u001b[1;32m<ipython-input-69-86ca75dbc0cc>\u001b[0m in \u001b[0;36m__init__\u001b[1;34m(self)\u001b[0m\n\u001b[0;32m      7\u001b[0m         \u001b[0mprint\u001b[0m\u001b[1;33m(\u001b[0m\u001b[0mz\u001b[0m\u001b[1;33m)\u001b[0m\u001b[1;33m\u001b[0m\u001b[1;33m\u001b[0m\u001b[0m\n\u001b[0;32m      8\u001b[0m         \u001b[1;32mdel\u001b[0m \u001b[0mz\u001b[0m\u001b[1;33m\u001b[0m\u001b[1;33m\u001b[0m\u001b[0m\n\u001b[1;32m----> 9\u001b[1;33m         \u001b[0mprint\u001b[0m\u001b[1;33m(\u001b[0m\u001b[0mz\u001b[0m\u001b[1;33m)\u001b[0m\u001b[1;33m\u001b[0m\u001b[1;33m\u001b[0m\u001b[0m\n\u001b[0m\u001b[0;32m     10\u001b[0m \u001b[1;33m\u001b[0m\u001b[0m\n\u001b[0;32m     11\u001b[0m \u001b[0mt\u001b[0m \u001b[1;33m=\u001b[0m \u001b[0mTest\u001b[0m\u001b[1;33m(\u001b[0m\u001b[1;33m)\u001b[0m\u001b[1;33m\u001b[0m\u001b[1;33m\u001b[0m\u001b[0m\n",
      "\u001b[1;31mUnboundLocalError\u001b[0m: local variable 'z' referenced before assignment"
     ]
    }
   ],
   "source": [
    "class Test:\n",
    "    a = 10\n",
    "    def __init__(self):\n",
    "        self.a = 200\n",
    "        z = 100\n",
    "        print(self.a)\n",
    "        print(z)\n",
    "        del z\n",
    "        print(z)\n",
    "        \n",
    "t = Test()\n",
    "        "
   ]
  },
  {
   "cell_type": "code",
   "execution_count": null,
   "id": "b4cd842f",
   "metadata": {},
   "outputs": [],
   "source": []
  }
 ],
 "metadata": {
  "kernelspec": {
   "display_name": "Python 3",
   "language": "python",
   "name": "python3"
  },
  "language_info": {
   "codemirror_mode": {
    "name": "ipython",
    "version": 3
   },
   "file_extension": ".py",
   "mimetype": "text/x-python",
   "name": "python",
   "nbconvert_exporter": "python",
   "pygments_lexer": "ipython3",
   "version": "3.8.8"
  }
 },
 "nbformat": 4,
 "nbformat_minor": 5
}
