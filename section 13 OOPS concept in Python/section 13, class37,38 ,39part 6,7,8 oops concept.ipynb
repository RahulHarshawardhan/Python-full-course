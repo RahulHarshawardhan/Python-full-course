{
 "cells": [
  {
   "cell_type": "code",
   "execution_count": 1,
   "id": "9c0bbf4e",
   "metadata": {},
   "outputs": [],
   "source": [
    "# Garbage collector - \n",
    "    # In C++ - Programmer will be responsible (creation as well as Destroy)\n",
    "    # Java and Python - GC - Programme is capable.\n",
    "    # GC is a part of python virtual Machine(PVM)\n",
    "    # When there is no reference variable, it is eligible for garbage collector.\n",
    "    #GC - Enabled by default"
   ]
  },
  {
   "cell_type": "code",
   "execution_count": 5,
   "id": "abb8d16c",
   "metadata": {},
   "outputs": [
    {
     "name": "stdout",
     "output_type": "stream",
     "text": [
      "False\n"
     ]
    }
   ],
   "source": [
    "import gc\n",
    "print(gc.isenabled())\n",
    "gc.disable()"
   ]
  },
  {
   "cell_type": "code",
   "execution_count": 4,
   "id": "7003e970",
   "metadata": {},
   "outputs": [
    {
     "name": "stdout",
     "output_type": "stream",
     "text": [
      "False\n"
     ]
    }
   ],
   "source": [
    "print(gc.isenabled())\n"
   ]
  },
  {
   "cell_type": "code",
   "execution_count": 6,
   "id": "91c51145",
   "metadata": {},
   "outputs": [
    {
     "name": "stdout",
     "output_type": "stream",
     "text": [
      "True\n"
     ]
    }
   ],
   "source": [
    "gc.enable()\n",
    "print(gc.isenabled())\n",
    "\n"
   ]
  },
  {
   "cell_type": "code",
   "execution_count": 7,
   "id": "98ed7315",
   "metadata": {},
   "outputs": [],
   "source": [
    "# Before dropping the method gc calls a concept called destructor.\n",
    "\n",
    "# I have an object which is a candidate of gc. GC sees that there is no variable associated with the object, and thinks to \n",
    "# remove the object. before removing gc ask the object for the last wish.This object will tell, with me lot of connection \n",
    "#is associated, like with database, mysql and before consuming me please renmove connection associated with me. GC will \n",
    "# call destructor and destructor will discoonection the connection.\n",
    "\n",
    "#Destructor -\n",
    "# Who is calling Destructor - GC\n",
    "# When GC will call destructor? /: Just before destroying the object.\n",
    "# For which purpose GC calls Destructor? Clean up acivities.\n",
    "\n",
    "# The job of the destructor is not to destroy the object, just to do the clean up activitis, \n",
    "#destroying the objects done by GC.\n"
   ]
  },
  {
   "cell_type": "code",
   "execution_count": 9,
   "id": "f6eb44e1",
   "metadata": {},
   "outputs": [],
   "source": [
    "#constructor\n",
    "# def __init__(self):\n",
    "    "
   ]
  },
  {
   "cell_type": "code",
   "execution_count": null,
   "id": "575b1cde",
   "metadata": {},
   "outputs": [],
   "source": [
    "#destructor\n",
    "# def __del__(self):\n",
    "                    "
   ]
  },
  {
   "cell_type": "code",
   "execution_count": 11,
   "id": "07fef485",
   "metadata": {},
   "outputs": [
    {
     "name": "stdout",
     "output_type": "stream",
     "text": [
      "Object Initialization\n",
      "performing clean up activities\n",
      "Using the object T1 for my technical purpose\n",
      "End of application\n"
     ]
    }
   ],
   "source": [
    "import time\n",
    "class Test:\n",
    "    def __init__(self):\n",
    "        print('Object Initialization')\n",
    "    \n",
    "    def __del__(self):\n",
    "        print(\"performing clean up activities\")\n",
    "        \n",
    "t1 = Test()\n",
    "print(\"Using the object T1 for my technical purpose\")\n",
    "time.sleep(5)\n",
    "print(\"End of application\")"
   ]
  },
  {
   "cell_type": "code",
   "execution_count": 14,
   "id": "fe1b548d",
   "metadata": {},
   "outputs": [
    {
     "name": "stdout",
     "output_type": "stream",
     "text": [
      "Obj Inti\n",
      "Object not yet ready for destroy after deleting the T1\n",
      "Object not yet ready for destroy after deleting the T2\n",
      "clean up\n",
      "Object is ready for destroy\n",
      "End of the app\n"
     ]
    }
   ],
   "source": [
    "import time\n",
    "class Test:\n",
    "    def __init__(self):\n",
    "        print(\"Obj Inti\")\n",
    "        \n",
    "    def __del__(self):\n",
    "        print(\"clean up\")\n",
    "        \n",
    "t1 = Test()\n",
    "t2 = t1\n",
    "t3 = t2\n",
    "#print(id(t1))\n",
    "#print(id(t2))\n",
    "#print(id(t3))\n",
    "\n",
    "del t1\n",
    "time.sleep(10)\n",
    "print(\"Object not yet ready for destroy after deleting the T1\")\n",
    "\n",
    "del t2\n",
    "time.sleep(10)\n",
    "print(\"Object not yet ready for destroy after deleting the T2\")\n",
    "\n",
    "del t3\n",
    "time.sleep(10)\n",
    "print(\"Object is ready for destroy\")\n",
    "print(\"End of the app\")\n"
   ]
  },
  {
   "cell_type": "code",
   "execution_count": 20,
   "id": "e328c560",
   "metadata": {},
   "outputs": [
    {
     "name": "stdout",
     "output_type": "stream",
     "text": [
      "Obj Inti\n",
      "Obj Inti\n",
      "Obj Inti\n",
      "clean up\n",
      "clean up\n",
      "clean up\n",
      "End of the app\n"
     ]
    }
   ],
   "source": [
    "import time\n",
    "class Test:\n",
    "    def __init__(self):\n",
    "        print(\"Obj Inti\")\n",
    "        \n",
    "    def __del__(self):\n",
    "        print(\"clean up\")\n",
    "        \n",
    "list = [Test(), Test(), Test()]\n",
    "del list\n",
    "print(\"End of the app\")"
   ]
  },
  {
   "cell_type": "code",
   "execution_count": 21,
   "id": "e34cd645",
   "metadata": {},
   "outputs": [],
   "source": [
    "# Part 38\n",
    "# Members of one class inside another class. This is done by 2 ways.\n",
    "    # By Composition.( Has a relationship)\n",
    "    # By Inheritence. (Is a relationship)\n",
    "    \n",
    "    # Composition-- By using class name or by creating object we can access members of one class inside another class.\n",
    "    \n",
    "    "
   ]
  },
  {
   "cell_type": "code",
   "execution_count": 22,
   "id": "8e48c9e7",
   "metadata": {},
   "outputs": [
    {
     "name": "stdout",
     "output_type": "stream",
     "text": [
      "Class car using engine class functionality\n",
      "10\n",
      "20\n",
      "Engine specific functionality\n"
     ]
    }
   ],
   "source": [
    "class Engine:\n",
    "    a = 10 # static variable\n",
    "    def __init__(self):\n",
    "        self.b = 20 # Instance variable\n",
    "        \n",
    "    def m1(self):\n",
    "        print(\"Engine specific functionality\")\n",
    "        \n",
    "class Car:\n",
    "    def __init__(self):\n",
    "        self.engine = Engine() # Here we are calling engine class by creating variable self.engine.\n",
    "        \n",
    "    def m2(self):\n",
    "        print(\"Class car using engine class functionality\")\n",
    "        print(self.engine.a)\n",
    "        print(self.engine.b)\n",
    "        self.engine.m1()\n",
    "        \n",
    "c = Car()\n",
    "c.m2()\n",
    "# What is a relation between car and Engine? Car class has a Engine reference.\n",
    "# When we are calling one class inside another by creating object or directly calling class, that type of relation is called\n",
    "#composition."
   ]
  },
  {
   "cell_type": "code",
   "execution_count": 1,
   "id": "d95e409f",
   "metadata": {},
   "outputs": [
    {
     "name": "stdout",
     "output_type": "stream",
     "text": [
      "Employee Number: 100\n",
      "Employee Name: Rahul\n",
      "Car Information\n",
      "car Name: Cherry Tiggo\n",
      "Car Model 2017\n",
      "Car color Golden\n"
     ]
    }
   ],
   "source": [
    "class Car:\n",
    "    def __init__(self, name, model, color):\n",
    "        self.name = name\n",
    "        self.model = model\n",
    "        self.color =  color\n",
    "        \n",
    "    def getinfo(self):\n",
    "        print(\"car Name:\", self.name)\n",
    "        print(\"Car Model\", self.model)\n",
    "        print(\"Car color\", self.color)\n",
    "        \n",
    "class Employee:\n",
    "    def __init__(self, eno, ename, car):\n",
    "        self.eno = eno\n",
    "        self.ename = ename\n",
    "        self.car = car\n",
    "        \n",
    "    def empinfo(self):\n",
    "        print(\"Employee Number:\", self.eno)\n",
    "        print(\"Employee Name:\", self.ename)\n",
    "        print('Car Information')\n",
    "        self.car.getinfo()\n",
    "        \n",
    "c = Car(\"Cherry Tiggo\",2017, \"Golden\")\n",
    "e = Employee(100, \"Rahul\", c)\n",
    "e.empinfo()\n"
   ]
  },
  {
   "cell_type": "code",
   "execution_count": 2,
   "id": "42a80859",
   "metadata": {},
   "outputs": [
    {
     "name": "stdout",
     "output_type": "stream",
     "text": [
      "10\n",
      "20\n",
      "M1 method of X class\n",
      "30\n",
      "40\n",
      "M2 method of Y class\n",
      "Inside M3 method of Y class\n"
     ]
    }
   ],
   "source": [
    "class X:\n",
    "    a = 10\n",
    "    def __init__(self):\n",
    "        self.b = 20\n",
    "        \n",
    "    def m1(self):\n",
    "        print(\"M1 method of X class\")\n",
    "        \n",
    "class Y:\n",
    "    c = 30\n",
    "    def __init__(self):\n",
    "        self.d = 40\n",
    "        \n",
    "    def m2(self):\n",
    "        print(\"M2 method of Y class\")\n",
    "        \n",
    "        \n",
    "    def m3(self):\n",
    "        x1 = X()\n",
    "        print(x1.a)\n",
    "        print(x1.b)\n",
    "        x1.m1()\n",
    "        print(self.c)\n",
    "        print(self.d)\n",
    "        self.m2()\n",
    "        print(\"Inside M3 method of Y class\")\n",
    "        \n",
    "y1 = Y()\n",
    "y1.m3()"
   ]
  },
  {
   "cell_type": "code",
   "execution_count": 3,
   "id": "60619d35",
   "metadata": {},
   "outputs": [],
   "source": [
    "#Inheritence- Is a relationship"
   ]
  },
  {
   "cell_type": "code",
   "execution_count": 5,
   "id": "5ae3de11",
   "metadata": {},
   "outputs": [],
   "source": [
    "class P:\n",
    "    a = 10\n",
    "    def __init__(self):\n",
    "        self.b = 20\n",
    "        \n",
    "    def m1(self):\n",
    "        print(\"Parent class instance method\")\n",
    "        \n",
    "    @classmethod\n",
    "    \n",
    "    def m2(cls):\n",
    "        print(\"Parent class method\")\n",
    "        \n",
    "    @staticmethod\n",
    "    \n",
    "    def m3():\n",
    "        print(\"Parent class static method\")\n",
    "        \n",
    "class C(P):# Here C is child class and P is the parent class. C(P) syntax will put all the parent property to the \n",
    "            #child property.\n",
    "    pass"
   ]
  },
  {
   "cell_type": "code",
   "execution_count": 9,
   "id": "e98f9efc",
   "metadata": {},
   "outputs": [
    {
     "name": "stdout",
     "output_type": "stream",
     "text": [
      "Parent class instance method\n",
      "Parent class method\n",
      "Parent class static method\n"
     ]
    }
   ],
   "source": [
    "c = C()\n",
    "c.a\n",
    "c.b\n",
    "c.m1()\n",
    "c.m2()\n",
    "c.m3()"
   ]
  },
  {
   "cell_type": "code",
   "execution_count": 10,
   "id": "48fce73c",
   "metadata": {},
   "outputs": [
    {
     "name": "stdout",
     "output_type": "stream",
     "text": [
      "child class method\n",
      "Parent class method\n"
     ]
    }
   ],
   "source": [
    "class P:\n",
    "    def m1(self):\n",
    "        print(\"Parent class method\")\n",
    "        \n",
    "class C(P):\n",
    "    def m2(self):\n",
    "        print(\"child class method\") # Here we are transfering parent class property as child has its own property as well.\n",
    "        \n",
    "c = C()\n",
    "c.m2()\n",
    "c.m1()"
   ]
  },
  {
   "cell_type": "code",
   "execution_count": 13,
   "id": "a00439a5",
   "metadata": {},
   "outputs": [
    {
     "name": "stdout",
     "output_type": "stream",
     "text": [
      "10 30 40\n"
     ]
    }
   ],
   "source": [
    "class P:\n",
    "    a = 10\n",
    "    def __init__(self):\n",
    "        self.b = 20\n",
    "        \n",
    "class C(P):\n",
    "    c =30\n",
    "    def __init__(self):\n",
    "        self.d = 40\n",
    "\n",
    "c = C()\n",
    "#print(c.a, c.b, c.c, c.d) # c.b is giving error. class P constructor is not executing. so c.b is giving an error.\n",
    "# In inheritence parent class constructor will not execte. Child class constructor will execute.\n",
    "print(c.a, c.c, c.d)"
   ]
  },
  {
   "cell_type": "code",
   "execution_count": 15,
   "id": "37aa14e8",
   "metadata": {},
   "outputs": [
    {
     "name": "stdout",
     "output_type": "stream",
     "text": [
      "10 20 30 40\n"
     ]
    }
   ],
   "source": [
    "#super method concept \n",
    "class P:\n",
    "    a = 10\n",
    "    def __init__(self):\n",
    "        self.b = 20\n",
    "    \n",
    "class C(P):\n",
    "    c = 30\n",
    "    def __init__(self):\n",
    "        super().__init__() # super concept is to call the parent constructor.\n",
    "        self.d = 40\n",
    "        \n",
    "c = C()\n",
    "print(c.a, c.b, c.c, c.d)\n",
    "        \n"
   ]
  },
  {
   "cell_type": "code",
   "execution_count": 16,
   "id": "ce5068dd",
   "metadata": {},
   "outputs": [
    {
     "name": "stdout",
     "output_type": "stream",
     "text": [
      "Parent Method\n",
      "child Method\n"
     ]
    }
   ],
   "source": [
    "#Types Of Inheritence\n",
    "    #1) Single Inheritence- Single parent, single child.\n",
    "class P:\n",
    "    def m1(self):\n",
    "        print(\"Parent Method\")\n",
    "        \n",
    "class C(P):\n",
    "    def m2(self):\n",
    "        print(\"child Method\")\n",
    "        \n",
    "c = C()\n",
    "c.m1()\n",
    "c.m2()"
   ]
  },
  {
   "cell_type": "code",
   "execution_count": 18,
   "id": "001ac9e2",
   "metadata": {},
   "outputs": [
    {
     "name": "stdout",
     "output_type": "stream",
     "text": [
      "sub Child Method\n",
      "child Method\n",
      "Parent Method\n"
     ]
    }
   ],
   "source": [
    "#2) Multilevel Inheritence\n",
    "class P:\n",
    "    def m1(self):\n",
    "        print(\"Parent Method\")\n",
    "        \n",
    "class C(P):\n",
    "    def m2(self):\n",
    "        print(\"child Method\")\n",
    "        \n",
    "class CC(C):\n",
    "    def m3(self):\n",
    "        print(\"sub Child Method\")\n",
    "        \n",
    "cc = CC()\n",
    "cc.m3()\n",
    "cc.m2()\n",
    "cc.m1()"
   ]
  },
  {
   "cell_type": "code",
   "execution_count": 21,
   "id": "d25458fc",
   "metadata": {},
   "outputs": [
    {
     "name": "stdout",
     "output_type": "stream",
     "text": [
      "Child 1 Method\n",
      "Parent Method\n",
      "Child 2 Method\n",
      "Parent Method\n"
     ]
    }
   ],
   "source": [
    "#Hierarchiral Inheritence - Parent propertry inherited to child1 nd child2\n",
    "\n",
    "class P:\n",
    "    def m1(self):\n",
    "        print(\"Parent Method\")\n",
    "        \n",
    "class C1(P):\n",
    "    def m2(self):\n",
    "        print(\"Child 1 Method\")\n",
    "        \n",
    "class C2(P):\n",
    "    def m3(self):\n",
    "        print(\"Child 2 Method\")\n",
    "        \n",
    "c1 = C1()\n",
    "c1.m2()\n",
    "c1.m1()\n",
    "\n",
    "c2 = C2()\n",
    "c2.m3()\n",
    "c2.m1()"
   ]
  },
  {
   "cell_type": "code",
   "execution_count": 22,
   "id": "c4f4fa57",
   "metadata": {},
   "outputs": [
    {
     "name": "stdout",
     "output_type": "stream",
     "text": [
      "Child method\n",
      "Parent 2 Method\n",
      "Parent 1 method\n"
     ]
    }
   ],
   "source": [
    "#Multiple Inheritence-- Parent1 and Paren2 property inherited to child.\n",
    "\n",
    "class P1:\n",
    "    def m1(self):\n",
    "        print(\"Parent 1 method\")\n",
    "        \n",
    "class P2:\n",
    "    def m2(self):\n",
    "        print(\"Parent 2 Method\")\n",
    "\n",
    "class C(P1,P2):\n",
    "    def m3(self):\n",
    "        print(\"Child method\")\n",
    "        \n",
    "c = C()\n",
    "c.m3()\n",
    "c.m2()\n",
    "c.m1()\n",
    "\n",
    "\n"
   ]
  },
  {
   "cell_type": "code",
   "execution_count": 24,
   "id": "350e5002",
   "metadata": {},
   "outputs": [
    {
     "name": "stdout",
     "output_type": "stream",
     "text": [
      "Child method\n",
      "Parent 1 method\n"
     ]
    }
   ],
   "source": [
    "#Multiple Inheritence-- Parent1 and Paren2 property inherited to child.\n",
    "\n",
    "class P1:\n",
    "    def m1(self):\n",
    "        print(\"Parent 1 method\") \n",
    "        \n",
    "class P2:\n",
    "    def m1(self):\n",
    "        print(\"Parent 2 Method\")\n",
    "\n",
    "class C(P1,P2):# when Both Parent have same method then the method of 1st parent will execute, and \n",
    "                                #get the priority because P1 is called first here.\n",
    "        \n",
    "    def m3(self):\n",
    "        print(\"Child method\")\n",
    "        \n",
    "c = C()\n",
    "c.m3()\n",
    "#c.m2()\n",
    "c.m1()\n",
    "\n",
    "\n"
   ]
  },
  {
   "cell_type": "code",
   "execution_count": 2,
   "id": "acda14bd",
   "metadata": {},
   "outputs": [
    {
     "name": "stdout",
     "output_type": "stream",
     "text": [
      "Lets have pizza and Cold Coffee Rahul 34\n",
      "Employee name: Rahul\n",
      "Employee Age: 34\n",
      "Employee No: 123\n",
      "Employee Sal: 10000\n",
      "Car Info\n",
      "\tCar Name: Innova\tCar Model: Classic\tCar Color: Silver\n"
     ]
    }
   ],
   "source": [
    "# Class 39 Part 8\n",
    "#Appling composition and Inheritence\n",
    "class Car:\n",
    "    def __init__(self, name, model, color):\n",
    "        self.name = name\n",
    "        self.model = model\n",
    "        self.color = color\n",
    "        \n",
    "    def getinfo(self):\n",
    "        print('\\tCar Name: {}\\tCar Model: {}\\tCar Color: {}'.format(self.name,self.model,self.color))\n",
    "        \n",
    "class Person:\n",
    "    def __init__(self, name, age):\n",
    "        self.name = name\n",
    "        self.age = age\n",
    "        \n",
    "    def eat_n_drink(self): \n",
    "        print(\"Lets have pizza and Cold Coffee\", self.name, self.age)\n",
    "        \n",
    "        \n",
    "        \n",
    "class Employee(Person):#Inheritence\n",
    "    def __init__(self, name,age, eno,esal, car): #Composition\n",
    "        super().__init__(name,age)\n",
    "        self.eno = eno\n",
    "        self.esal = esal\n",
    "        self.car = car\n",
    "        \n",
    "    def work(self):\n",
    "        print(\"python coding....\")\n",
    "        \n",
    "    def empinfo(self):\n",
    "        print(\"Employee name:\", self.name)\n",
    "        print(\"Employee Age:\", self.age)\n",
    "        print(\"Employee No:\", self.eno)\n",
    "        print(\"Employee Sal:\", self.esal)\n",
    "        print(\"Car Info\")\n",
    "        self.car.getinfo()\n",
    "        \n",
    "\n",
    "c = Car(\"Innova\",\"Classic\",\"Silver\")\n",
    "e = Employee(\"Rahul\", 34, 123, 10000,c )\n",
    "e.eat_n_drink()\n",
    "e.empinfo()"
   ]
  },
  {
   "cell_type": "code",
   "execution_count": 3,
   "id": "a88e3df6",
   "metadata": {},
   "outputs": [],
   "source": [
    "#Composition- Has a relation - Strong relation - College depaartment relation.\n",
    "#Aggregation - Weak Asociation.\n",
    "\n",
    "# In has A relationshio we have 2 format - 1. Composition, 2) Aggregation.\n",
    "#WIthout existing college there is no chance of department which is strongly associated an d know as composition.\n",
    "# In a department there are several professor going to work. Students not coming to one department. Then professor will \n",
    "# move to other department- Aggregation.\n",
    "\n",
    "#Without Existing container object there may be a chance of contained object - weak association and known as Aggregation.\n",
    "\n",
    "class Student:\n",
    "    college_name = \"RahulTech\"#Weak Association- Agreegation\n",
    "    def __init__(self, name):\n",
    "        self.name = name # Strong association- Composition\n",
    "        "
   ]
  },
  {
   "cell_type": "code",
   "execution_count": 4,
   "id": "7fdbe511",
   "metadata": {},
   "outputs": [],
   "source": [
    "#Hybrid Inheritence\n",
    "#Cyclic Inheritence- Not allowed in python- Not really required."
   ]
  },
  {
   "cell_type": "code",
   "execution_count": 5,
   "id": "eaf2e429",
   "metadata": {},
   "outputs": [
    {
     "name": "stdout",
     "output_type": "stream",
     "text": [
      "Class D method\n"
     ]
    }
   ],
   "source": [
    "#HYbrid Case1.\n",
    "class A:\n",
    "    def m1(self):\n",
    "        print(\"Class A method\")\n",
    "\n",
    "class B(A):\n",
    "    def m1(self):\n",
    "        print(\"Class B method\")\n",
    "\n",
    "    \n",
    "class C(A):\n",
    "    def m1(self):\n",
    "        print(\"Class C method\")\n",
    "\n",
    "class D(B,C):\n",
    "    def m1(self):\n",
    "        print(\"Class D method\")\n",
    "        \n",
    "d = D()\n",
    "d.m1()\n",
    "\n",
    "\n"
   ]
  },
  {
   "cell_type": "code",
   "execution_count": 6,
   "id": "074df136",
   "metadata": {},
   "outputs": [
    {
     "name": "stdout",
     "output_type": "stream",
     "text": [
      "Class B method\n"
     ]
    }
   ],
   "source": [
    "class A:\n",
    "    def m1(self):\n",
    "        print(\"Class A method\")\n",
    "\n",
    "class B(A):\n",
    "    def m1(self):\n",
    "        print(\"Class B method\")\n",
    "\n",
    "    \n",
    "class C(A):\n",
    "    def m1(self):\n",
    "        print(\"Class C method\")\n",
    "\n",
    "class D(B,C):\n",
    "    pass\n",
    "        \n",
    "d = D()\n",
    "d.m1()"
   ]
  },
  {
   "cell_type": "code",
   "execution_count": 7,
   "id": "52366cd9",
   "metadata": {},
   "outputs": [
    {
     "name": "stdout",
     "output_type": "stream",
     "text": [
      "Class C method\n"
     ]
    }
   ],
   "source": [
    "class A:\n",
    "    def m1(self):\n",
    "        print(\"Class A method\")\n",
    "\n",
    "class B(A):\n",
    "    pass\n",
    "\n",
    "    \n",
    "class C(A):\n",
    "    def m1(self):\n",
    "        print(\"Class C method\")\n",
    "\n",
    "class D(B,C):\n",
    "    pass\n",
    "        \n",
    "d = D()\n",
    "d.m1()"
   ]
  },
  {
   "cell_type": "code",
   "execution_count": 8,
   "id": "1e9459b1",
   "metadata": {},
   "outputs": [
    {
     "name": "stdout",
     "output_type": "stream",
     "text": [
      "Class A method\n"
     ]
    }
   ],
   "source": [
    "class A:\n",
    "    def m1(self):\n",
    "        print(\"Class A method\")\n",
    "\n",
    "class B(A):\n",
    "    pass\n",
    "\n",
    "    \n",
    "class C(A):\n",
    "    pass\n",
    "\n",
    "class D(B,C):\n",
    "    pass\n",
    "        \n",
    "d = D()\n",
    "d.m1()"
   ]
  },
  {
   "cell_type": "code",
   "execution_count": 9,
   "id": "0019ca79",
   "metadata": {},
   "outputs": [
    {
     "ename": "AttributeError",
     "evalue": "'D' object has no attribute 'm1'",
     "output_type": "error",
     "traceback": [
      "\u001b[1;31m---------------------------------------------------------------------------\u001b[0m",
      "\u001b[1;31mAttributeError\u001b[0m                            Traceback (most recent call last)",
      "\u001b[1;32m<ipython-input-9-928d062e9ec3>\u001b[0m in \u001b[0;36m<module>\u001b[1;34m\u001b[0m\n\u001b[0;32m     13\u001b[0m \u001b[1;33m\u001b[0m\u001b[0m\n\u001b[0;32m     14\u001b[0m \u001b[0md\u001b[0m \u001b[1;33m=\u001b[0m \u001b[0mD\u001b[0m\u001b[1;33m(\u001b[0m\u001b[1;33m)\u001b[0m\u001b[1;33m\u001b[0m\u001b[1;33m\u001b[0m\u001b[0m\n\u001b[1;32m---> 15\u001b[1;33m \u001b[0md\u001b[0m\u001b[1;33m.\u001b[0m\u001b[0mm1\u001b[0m\u001b[1;33m(\u001b[0m\u001b[1;33m)\u001b[0m\u001b[1;33m\u001b[0m\u001b[1;33m\u001b[0m\u001b[0m\n\u001b[0m",
      "\u001b[1;31mAttributeError\u001b[0m: 'D' object has no attribute 'm1'"
     ]
    }
   ],
   "source": [
    "class A:\n",
    "    pass\n",
    "\n",
    "class B(A):\n",
    "    pass\n",
    "\n",
    "    \n",
    "class C(A):\n",
    "    pass\n",
    "\n",
    "class D(B,C):\n",
    "    pass\n",
    "        \n",
    "d = D()\n",
    "d.m1()"
   ]
  },
  {
   "cell_type": "code",
   "execution_count": 12,
   "id": "bd70f038",
   "metadata": {},
   "outputs": [
    {
     "name": "stdout",
     "output_type": "stream",
     "text": [
      "[<class '__main__.D'>, <class '__main__.B'>, <class '__main__.C'>, <class '__main__.A'>, <class 'object'>]\n"
     ]
    }
   ],
   "source": [
    "class A:\n",
    "    pass\n",
    "\n",
    "class B(A):\n",
    "    pass\n",
    "\n",
    "    \n",
    "class C(A):\n",
    "    pass\n",
    "\n",
    "class D(B,C):\n",
    "    pass\n",
    "         \n",
    "print(D.mro()) #MRO - Method resolution order- which method will run first."
   ]
  },
  {
   "cell_type": "code",
   "execution_count": 16,
   "id": "6c7be721",
   "metadata": {},
   "outputs": [
    {
     "name": "stdout",
     "output_type": "stream",
     "text": [
      "[<class '__main__.A'>, <class 'object'>]\n",
      "[<class '__main__.B'>, <class 'object'>]\n",
      "[<class '__main__.C'>, <class 'object'>]\n",
      "[<class '__main__.X'>, <class '__main__.A'>, <class '__main__.B'>, <class 'object'>]\n",
      "[<class '__main__.Y'>, <class '__main__.B'>, <class '__main__.C'>, <class 'object'>]\n",
      "[<class '__main__.P'>, <class '__main__.X'>, <class '__main__.A'>, <class '__main__.Y'>, <class '__main__.B'>, <class '__main__.C'>, <class 'object'>]\n"
     ]
    }
   ],
   "source": [
    "class A: pass\n",
    "\n",
    "class B: pass\n",
    "\n",
    "class C: pass\n",
    "\n",
    "class X(A,B): pass\n",
    "\n",
    "class Y(B,C): pass\n",
    "\n",
    "class P(X,Y,C): pass\n",
    "\n",
    "# This is expected- P,X,Y,C,A,B,O\n",
    "#print(P.mro())\n",
    "#This is coming- P,X,A,Y,B,C,O\n",
    "\n",
    "# In the Hubrid inheritence Python runs an internal algorithm when we have more levels.\n",
    "\n",
    "print(A.mro())\n",
    "print(B.mro())\n",
    "print(C.mro())\n",
    "print(X.mro())\n",
    "print(Y.mro())\n",
    "print(P.mro())"
   ]
  },
  {
   "cell_type": "code",
   "execution_count": null,
   "id": "04d38999",
   "metadata": {},
   "outputs": [],
   "source": []
  },
  {
   "cell_type": "code",
   "execution_count": null,
   "id": "0d2eeb76",
   "metadata": {},
   "outputs": [],
   "source": []
  },
  {
   "cell_type": "code",
   "execution_count": null,
   "id": "b14f8de2",
   "metadata": {},
   "outputs": [],
   "source": []
  },
  {
   "cell_type": "code",
   "execution_count": null,
   "id": "05b3096f",
   "metadata": {},
   "outputs": [],
   "source": []
  },
  {
   "cell_type": "code",
   "execution_count": null,
   "id": "c2085834",
   "metadata": {},
   "outputs": [],
   "source": []
  },
  {
   "cell_type": "code",
   "execution_count": null,
   "id": "e5e0ad7c",
   "metadata": {},
   "outputs": [],
   "source": []
  },
  {
   "cell_type": "code",
   "execution_count": null,
   "id": "2e418215",
   "metadata": {},
   "outputs": [],
   "source": []
  }
 ],
 "metadata": {
  "kernelspec": {
   "display_name": "Python 3",
   "language": "python",
   "name": "python3"
  },
  "language_info": {
   "codemirror_mode": {
    "name": "ipython",
    "version": 3
   },
   "file_extension": ".py",
   "mimetype": "text/x-python",
   "name": "python",
   "nbconvert_exporter": "python",
   "pygments_lexer": "ipython3",
   "version": "3.8.8"
  }
 },
 "nbformat": 4,
 "nbformat_minor": 5
}
