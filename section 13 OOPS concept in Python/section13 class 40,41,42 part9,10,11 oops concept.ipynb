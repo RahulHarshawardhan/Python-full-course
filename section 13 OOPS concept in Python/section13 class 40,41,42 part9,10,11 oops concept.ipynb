{
 "cells": [
  {
   "cell_type": "code",
   "execution_count": null,
   "id": "03a97106",
   "metadata": {},
   "outputs": [],
   "source": [
    "#super()\n",
    "# Which can be used to call parent class constructor, methods and variables from the child class."
   ]
  },
  {
   "cell_type": "code",
   "execution_count": 2,
   "id": "46c58dc9",
   "metadata": {},
   "outputs": [
    {
     "name": "stdout",
     "output_type": "stream",
     "text": [
      "Rahul\n",
      "34\n",
      "11\n",
      "45\n"
     ]
    }
   ],
   "source": [
    "class Person:\n",
    "    def __init__(self, name, age):\n",
    "        self.name = name\n",
    "        self.age = age\n",
    "        \n",
    "        \n",
    "class Student(Person):\n",
    "    def __init__(self, name, age, rollno, marks):\n",
    "        self.name = name #here name and age is already in constructor of Person class. I am copying the code again in in student class.\n",
    "        self.age = age # For small codes copying \n",
    "        self.rollno = rollno\n",
    "        self.marks = marks\n",
    "        \n",
    "    def display(self):\n",
    "        print(self.name)\n",
    "        print(self.age)\n",
    "        print(self.rollno)\n",
    "        print(self.marks)\n",
    "        \n",
    "s = Student(\"Rahul\", 34, 11, 45)\n",
    "s.display()\n"
   ]
  },
  {
   "cell_type": "code",
   "execution_count": 3,
   "id": "d7547055",
   "metadata": {},
   "outputs": [
    {
     "name": "stdout",
     "output_type": "stream",
     "text": [
      "Rahul\n",
      "34\n",
      "11\n",
      "45\n"
     ]
    }
   ],
   "source": [
    "class Person:\n",
    "    def __init__(self, name, age):\n",
    "        self.name = name\n",
    "        self.age = age\n",
    "        \n",
    "    def display(self):\n",
    "        print(self.name)\n",
    "        print(self.age)\n",
    "        \n",
    "        \n",
    "class Student(Person):\n",
    "    def __init__(self, name, age, rollno, marks): \n",
    "        super().__init__(name,age)# This super is used to called constructor of parent class which is person\n",
    "        self.rollno = rollno\n",
    "        self.marks = marks\n",
    "        \n",
    "    def display(self):\n",
    "        super().display()# This super is used to call the display of class Person\n",
    "        print(self.rollno)\n",
    "        print(self.marks)\n",
    "        \n",
    "s = Student(\"Rahul\", 34, 11, 45)\n",
    "s.display()"
   ]
  },
  {
   "cell_type": "code",
   "execution_count": 5,
   "id": "ee03e2ed",
   "metadata": {},
   "outputs": [
    {
     "name": "stdout",
     "output_type": "stream",
     "text": [
      "Rahul\n",
      "36\n",
      "11\n",
      "45\n"
     ]
    }
   ],
   "source": [
    "class Person:\n",
    "    def __init__(self, name, age):\n",
    "        self.name = name\n",
    "        self.age = age\n",
    "    \n",
    "    def display1(self):\n",
    "        print(self.name)\n",
    "        print(self.age)\n",
    "    \n",
    "    \n",
    "class Student(Person):\n",
    "    def __init__(self,name, age, rollno, marks):\n",
    "        super().__init__(name, age)\n",
    "        self.rollno = rollno\n",
    "        self.marks = marks\n",
    "    \n",
    "    def display2(self):\n",
    "        super().display1() #\n",
    "        print(self.rollno)\n",
    "        print(self.marks)\n",
    "        \n",
    "s = Student(\"Rahul\", 36, 11, 45)\n",
    "s.display2()"
   ]
  },
  {
   "cell_type": "code",
   "execution_count": 6,
   "id": "480aa274",
   "metadata": {},
   "outputs": [
    {
     "name": "stdout",
     "output_type": "stream",
     "text": [
      "Rahul\n",
      "36\n",
      "11\n",
      "45\n"
     ]
    }
   ],
   "source": [
    "class Person:\n",
    "    def __init__(self, name, age):\n",
    "        self.name = name\n",
    "        self.age = age\n",
    "    \n",
    "    def display1(self):\n",
    "        print(self.name)\n",
    "        print(self.age)\n",
    "    \n",
    "    \n",
    "class Student(Person):\n",
    "    def __init__(self,name, age, rollno, marks):\n",
    "        super().__init__(name, age)\n",
    "        self.rollno = rollno\n",
    "        self.marks = marks\n",
    "    \n",
    "    def display2(self):\n",
    "        self.display1() #self can also be also used.\n",
    "        print(self.rollno)\n",
    "        print(self.marks)\n",
    "        \n",
    "s = Student(\"Rahul\", 36, 11, 45)\n",
    "s.display2()"
   ]
  },
  {
   "cell_type": "code",
   "execution_count": 8,
   "id": "c50303e5",
   "metadata": {},
   "outputs": [
    {
     "name": "stdout",
     "output_type": "stream",
     "text": [
      "100\n",
      "Parent instance method...\n",
      "parent class method...\n",
      "Parent static method...\n"
     ]
    }
   ],
   "source": [
    "class P:\n",
    "    a = 100\n",
    "    \n",
    "    def __init__(self):\n",
    "        self.b = 200\n",
    "        \n",
    "    def m1(self):\n",
    "        print(\"Parent instance method...\")\n",
    "        \n",
    "        \n",
    "    @classmethod\n",
    "    def m2(cls):\n",
    "        print(\"parent class method...\")\n",
    "        \n",
    "    @staticmethod\n",
    "    def m3():\n",
    "        print(\"Parent static method...\")\n",
    "        \n",
    "        \n",
    "class C(P):\n",
    "    a = 10000\n",
    "    def __init__(self):\n",
    "        self.b = 90990\n",
    "        super().__init__()\n",
    "        print(super().a)\n",
    "        super().m1()\n",
    "        super().m2()\n",
    "        super().m3()\n",
    "        \n",
    "c = C()\n",
    "        "
   ]
  },
  {
   "cell_type": "code",
   "execution_count": 10,
   "id": "0d03d679",
   "metadata": {},
   "outputs": [
    {
     "name": "stdout",
     "output_type": "stream",
     "text": [
      "D class method\n"
     ]
    }
   ],
   "source": [
    "# Multilevel case\n",
    "#A-->B-->C\n",
    "\n",
    "#here we want to access the method of like A class in C by super method, when methos name is same.\n",
    "\n",
    "class A:\n",
    "    def m1(self):\n",
    "        print(\"A class method\")\n",
    "        \n",
    "class B(A):\n",
    "    def m1(self):\n",
    "        print(\"B class method\")\n",
    "        \n",
    "class C(B):\n",
    "    def m1(self):\n",
    "        print(\"C class method\")\n",
    "        \n",
    "class D(C):\n",
    "    def m1(self):\n",
    "        print(\"D class method\")\n",
    "        \n",
    "class E(D):\n",
    "    def m1(self):\n",
    "        #print(\"E class method\")\n",
    "        super().m1()\n",
    "        \n",
    "        \n",
    "e = E()\n",
    "e.m1()"
   ]
  },
  {
   "cell_type": "code",
   "execution_count": null,
   "id": "57d991f0",
   "metadata": {},
   "outputs": [],
   "source": [
    "# Multilevel case\n",
    "#A-->B-->C\n",
    "\n",
    "#here we want to access the method of like A class in C by super method, when methos name is same.\n",
    "\n",
    "class A:\n",
    "    def m1(self):\n",
    "        print(\"A class method\")\n",
    "        \n",
    "class B(A):\n",
    "    def m1(self):\n",
    "        print(\"B class method\")\n",
    "        \n",
    "class C(B):\n",
    "    def m1(self):\n",
    "        print(\"C class method\")\n",
    "        \n",
    "class D(C):\n",
    "    def m1(self):\n",
    "        print(\"D class method\")\n",
    "        \n",
    "class E(D):\n",
    "    def m1(self):\n",
    "        #print(\"E class method\")\n",
    "        #super().m1()\n",
    "        B.m1(self)# I want to access B class Method in E class so 1 way is class name .method name with self.\n",
    "        \n",
    "e = E()\n",
    "e.m1()"
   ]
  },
  {
   "cell_type": "code",
   "execution_count": 11,
   "id": "0bb0add2",
   "metadata": {},
   "outputs": [
    {
     "name": "stdout",
     "output_type": "stream",
     "text": [
      "B class method\n"
     ]
    }
   ],
   "source": [
    "# Multilevel case\n",
    "#A-->B-->C\n",
    "\n",
    "#here we want to access the method of like A class in C by super method, when methos name is same.\n",
    "\n",
    "class A:\n",
    "    def m1(self):\n",
    "        print(\"A class method\")\n",
    "        \n",
    "class B(A):\n",
    "    def m1(self):\n",
    "        print(\"B class method\")\n",
    "        \n",
    "class C(B):\n",
    "    def m1(self):\n",
    "        print(\"C class method\")\n",
    "        \n",
    "class D(C):\n",
    "    def m1(self):\n",
    "        print(\"D class method\")\n",
    "        \n",
    "class E(D):\n",
    "    def m1(self):\n",
    "        #print(\"E class method\")\n",
    "        #super().m1()\n",
    "        #B.m1(self)# I want to access B class Method in E class so 1 way is class name .method name with self.\n",
    "        super(C,self).m1() # Another way of achieving B class method. Here B is the super method of C. So syntax is like\n",
    "                            #as mentioned.\n",
    "        \n",
    "        \n",
    "e = E()\n",
    "e.m1()"
   ]
  },
  {
   "cell_type": "code",
   "execution_count": 12,
   "id": "2cd4c080",
   "metadata": {},
   "outputs": [
    {
     "name": "stdout",
     "output_type": "stream",
     "text": [
      "100\n"
     ]
    },
    {
     "ename": "AttributeError",
     "evalue": "'super' object has no attribute 'b'",
     "output_type": "error",
     "traceback": [
      "\u001b[1;31m---------------------------------------------------------------------------\u001b[0m",
      "\u001b[1;31mAttributeError\u001b[0m                            Traceback (most recent call last)",
      "\u001b[1;32m<ipython-input-12-bd624e44c0b0>\u001b[0m in \u001b[0;36m<module>\u001b[1;34m\u001b[0m\n\u001b[0;32m     11\u001b[0m \u001b[1;33m\u001b[0m\u001b[0m\n\u001b[0;32m     12\u001b[0m \u001b[0mc\u001b[0m \u001b[1;33m=\u001b[0m \u001b[0mC\u001b[0m\u001b[1;33m(\u001b[0m\u001b[1;33m)\u001b[0m\u001b[1;33m\u001b[0m\u001b[1;33m\u001b[0m\u001b[0m\n\u001b[1;32m---> 13\u001b[1;33m \u001b[0mc\u001b[0m\u001b[1;33m.\u001b[0m\u001b[0mm1\u001b[0m\u001b[1;33m(\u001b[0m\u001b[1;33m)\u001b[0m\u001b[1;33m\u001b[0m\u001b[1;33m\u001b[0m\u001b[0m\n\u001b[0m",
      "\u001b[1;32m<ipython-input-12-bd624e44c0b0>\u001b[0m in \u001b[0;36mm1\u001b[1;34m(self)\u001b[0m\n\u001b[0;32m      7\u001b[0m     \u001b[1;32mdef\u001b[0m \u001b[0mm1\u001b[0m\u001b[1;33m(\u001b[0m\u001b[0mself\u001b[0m\u001b[1;33m)\u001b[0m\u001b[1;33m:\u001b[0m\u001b[1;33m\u001b[0m\u001b[1;33m\u001b[0m\u001b[0m\n\u001b[0;32m      8\u001b[0m         \u001b[0mprint\u001b[0m\u001b[1;33m(\u001b[0m\u001b[0msuper\u001b[0m\u001b[1;33m(\u001b[0m\u001b[1;33m)\u001b[0m\u001b[1;33m.\u001b[0m\u001b[0ma\u001b[0m\u001b[1;33m)\u001b[0m\u001b[1;33m\u001b[0m\u001b[1;33m\u001b[0m\u001b[0m\n\u001b[1;32m----> 9\u001b[1;33m         \u001b[0mprint\u001b[0m\u001b[1;33m(\u001b[0m\u001b[0msuper\u001b[0m\u001b[1;33m(\u001b[0m\u001b[1;33m)\u001b[0m\u001b[1;33m.\u001b[0m\u001b[0mb\u001b[0m\u001b[1;33m)\u001b[0m\u001b[1;33m\u001b[0m\u001b[1;33m\u001b[0m\u001b[0m\n\u001b[0m\u001b[0;32m     10\u001b[0m \u001b[1;33m\u001b[0m\u001b[0m\n\u001b[0;32m     11\u001b[0m \u001b[1;33m\u001b[0m\u001b[0m\n",
      "\u001b[1;31mAttributeError\u001b[0m: 'super' object has no attribute 'b'"
     ]
    }
   ],
   "source": [
    "class P:\n",
    "    a = 100\n",
    "    def __init__(self):\n",
    "        self.b = 20\n",
    "        \n",
    "class C(P):\n",
    "    def m1(self):\n",
    "        print(super().a)\n",
    "        print(super().b)\n",
    "        \n",
    "        \n",
    "c = C()\n",
    "c.m1() # Here we are getting error, for self.b , since b is a instance variable. \n",
    "        #Instance variable only be created when instance is there."
   ]
  },
  {
   "cell_type": "code",
   "execution_count": 13,
   "id": "ca9ebd53",
   "metadata": {},
   "outputs": [
    {
     "name": "stdout",
     "output_type": "stream",
     "text": [
      "100\n",
      "20\n"
     ]
    }
   ],
   "source": [
    "class P:\n",
    "    a = 100\n",
    "    def __init__(self):\n",
    "        self.b = 20\n",
    "        \n",
    "class C(P):\n",
    "    def m1(self):\n",
    "        print(super().a)\n",
    "        print(self.b) # When we have instance variable super cannot be used. Self is used.\n",
    "        \n",
    "        \n",
    "c = C()\n",
    "c.m1() # Here we are getting error, for self.b , since b is a instance variable. \n",
    "        #Instance variable only be created when instance is there."
   ]
  },
  {
   "cell_type": "code",
   "execution_count": 15,
   "id": "7e629792",
   "metadata": {},
   "outputs": [
    {
     "name": "stdout",
     "output_type": "stream",
     "text": [
      "200\n"
     ]
    }
   ],
   "source": [
    "class P:\n",
    "    a = 100\n",
    "    def __init__(self):\n",
    "        self.b =200\n",
    "        \n",
    "class C(P):\n",
    "    a = 1000\n",
    "    def m1(self):\n",
    "        self.b = 2000\n",
    "        super().__init__()\n",
    "        print(self.b)\n",
    "        \n",
    "c = C()\n",
    "c.m1()"
   ]
  },
  {
   "cell_type": "code",
   "execution_count": null,
   "id": "e3c3bc92",
   "metadata": {},
   "outputs": [],
   "source": [
    "#Polymorphism\n",
    "#poly- Multiple\n",
    "#morph- Forms\n",
    "\n",
    "#1. Duck Typing Philosphy Of Python\n",
    "#2) Overloading\n",
    "    #Operator Overloading\n",
    "    #Method Overloading\n",
    "    #constructor Overloading\n",
    "    \n",
    "#3) Overriding\n",
    "    #method Overriding\n",
    "    #Constructor Overriding\n"
   ]
  },
  {
   "cell_type": "code",
   "execution_count": 2,
   "id": "9171385f",
   "metadata": {},
   "outputs": [
    {
     "name": "stdout",
     "output_type": "stream",
     "text": [
      "Fish\n",
      "Meat\n",
      "Rat\n",
      "Grass\n"
     ]
    }
   ],
   "source": [
    "class Duck:   \n",
    "    def eat(self):   # here method name is same as eat\n",
    "        print(\"Fish\")\n",
    "\n",
    "class Dog:\n",
    "    def eat(self):\n",
    "        print(\"Meat\")\n",
    "        \n",
    "class Cat:\n",
    "    def eat(self):\n",
    "        print(\"Rat\")\n",
    "        \n",
    "class Goat:\n",
    "    def eat(self):\n",
    "        print(\"Grass\")\n",
    "        \n",
    "def f1(obj):\n",
    "    obj.eat()\n",
    "    \n",
    "l = [Duck(), Dog(), Cat(), Goat()]\n",
    "\n",
    "for obj in l:\n",
    "    f1(obj)"
   ]
  },
  {
   "cell_type": "code",
   "execution_count": 5,
   "id": "6d070ac2",
   "metadata": {},
   "outputs": [
    {
     "name": "stdout",
     "output_type": "stream",
     "text": [
      "Bow Bow\n"
     ]
    }
   ],
   "source": [
    "class Duck:\n",
    "    def eat(self):  #Here the methods are different for both the class.\n",
    "        print(\"Fish\")\n",
    "        \n",
    "class Dog:\n",
    "    def talk(self):\n",
    "        print(\"Bow Bow\")\n",
    "        \n",
    "def f1(obj):\n",
    "    obj.talk()\n",
    "    \n",
    "#d1 = Duck()\n",
    "#d1.talk()\n",
    "\n",
    "d1 = Dog()\n",
    "d1.talk()"
   ]
  },
  {
   "cell_type": "code",
   "execution_count": 7,
   "id": "e608904e",
   "metadata": {},
   "outputs": [
    {
     "name": "stdout",
     "output_type": "stream",
     "text": [
      "Fish\n",
      "Bow Bow\n"
     ]
    }
   ],
   "source": [
    "def f1(obj):\n",
    "    if hasattr(obj, 'talk'):\n",
    "        obj.talk()\n",
    "        \n",
    "    elif hasattr(obj, 'eat'):\n",
    "        obj.eat()\n",
    "        \n",
    "        \n",
    "d = Duck()\n",
    "f1(d)\n",
    "\n",
    "d = Dog()\n",
    "f1(d)"
   ]
  },
  {
   "cell_type": "code",
   "execution_count": null,
   "id": "f19a16af",
   "metadata": {},
   "outputs": [],
   "source": [
    "#Ducktyping- Based on the behavior of output, we will be able to understand which class the method is from.\n"
   ]
  },
  {
   "cell_type": "code",
   "execution_count": 9,
   "id": "00b50ae8",
   "metadata": {},
   "outputs": [
    {
     "data": {
      "text/plain": [
       "'ab'"
      ]
     },
     "execution_count": 9,
     "metadata": {},
     "output_type": "execute_result"
    }
   ],
   "source": [
    "#overloading- \n",
    "    #Operator overloading\n",
    "1+2\n",
    "'a'+'b'\n",
    "# When  using + with integer the behaviour is diffrent and with string the the behaviour is different."
   ]
  },
  {
   "cell_type": "code",
   "execution_count": 10,
   "id": "9327d16f",
   "metadata": {},
   "outputs": [
    {
     "ename": "TypeError",
     "evalue": "unsupported operand type(s) for +: 'Book' and 'Book'",
     "output_type": "error",
     "traceback": [
      "\u001b[1;31m---------------------------------------------------------------------------\u001b[0m",
      "\u001b[1;31mTypeError\u001b[0m                                 Traceback (most recent call last)",
      "\u001b[1;32m<ipython-input-10-9ff01b27290b>\u001b[0m in \u001b[0;36m<module>\u001b[1;34m\u001b[0m\n\u001b[0;32m      6\u001b[0m \u001b[0mb2\u001b[0m \u001b[1;33m=\u001b[0m \u001b[0mBook\u001b[0m\u001b[1;33m(\u001b[0m\u001b[1;36m200\u001b[0m\u001b[1;33m)\u001b[0m\u001b[1;33m\u001b[0m\u001b[1;33m\u001b[0m\u001b[0m\n\u001b[0;32m      7\u001b[0m \u001b[1;33m\u001b[0m\u001b[0m\n\u001b[1;32m----> 8\u001b[1;33m \u001b[0mprint\u001b[0m\u001b[1;33m(\u001b[0m\u001b[0mb1\u001b[0m\u001b[1;33m+\u001b[0m\u001b[0mb2\u001b[0m\u001b[1;33m)\u001b[0m\u001b[1;33m\u001b[0m\u001b[1;33m\u001b[0m\u001b[0m\n\u001b[0m",
      "\u001b[1;31mTypeError\u001b[0m: unsupported operand type(s) for +: 'Book' and 'Book'"
     ]
    }
   ],
   "source": [
    "class Book:\n",
    "    def __init__(self, pages):\n",
    "        self.pages = pages\n",
    "        \n",
    "b1 = Book(100)\n",
    "b2 = Book(200)\n",
    "\n",
    "print(b1+b2)  # We caanot add 2 objects."
   ]
  },
  {
   "cell_type": "code",
   "execution_count": 17,
   "id": "60330b30",
   "metadata": {},
   "outputs": [
    {
     "name": "stdout",
     "output_type": "stream",
     "text": [
      "300\n",
      "20000\n"
     ]
    }
   ],
   "source": [
    "# To apply the operator overloading in object oriebted programming we apply magic methods. \n",
    "# There is a concept of magic methods.\n",
    "\n",
    "class Book:\n",
    "    def __init__(self,pages):\n",
    "        self.pages = pages\n",
    "    def __add__(self, others):\n",
    "        return self.pages + others.pages\n",
    "    \n",
    "    def __mul__(self,other):\n",
    "        return self.pages * other.pages\n",
    "    \n",
    "    \n",
    "b1 = Book(100)\n",
    "b2 = Book(200)\n",
    "\n",
    "print(b1+b2)\n",
    "print(b1*b2)"
   ]
  },
  {
   "cell_type": "code",
   "execution_count": 18,
   "id": "d38e87a8",
   "metadata": {},
   "outputs": [
    {
     "data": {
      "text/plain": [
       "['__abs__',\n",
       " '__add__',\n",
       " '__and__',\n",
       " '__bool__',\n",
       " '__ceil__',\n",
       " '__class__',\n",
       " '__delattr__',\n",
       " '__dir__',\n",
       " '__divmod__',\n",
       " '__doc__',\n",
       " '__eq__',\n",
       " '__float__',\n",
       " '__floor__',\n",
       " '__floordiv__',\n",
       " '__format__',\n",
       " '__ge__',\n",
       " '__getattribute__',\n",
       " '__getnewargs__',\n",
       " '__gt__',\n",
       " '__hash__',\n",
       " '__index__',\n",
       " '__init__',\n",
       " '__init_subclass__',\n",
       " '__int__',\n",
       " '__invert__',\n",
       " '__le__',\n",
       " '__lshift__',\n",
       " '__lt__',\n",
       " '__mod__',\n",
       " '__mul__',\n",
       " '__ne__',\n",
       " '__neg__',\n",
       " '__new__',\n",
       " '__or__',\n",
       " '__pos__',\n",
       " '__pow__',\n",
       " '__radd__',\n",
       " '__rand__',\n",
       " '__rdivmod__',\n",
       " '__reduce__',\n",
       " '__reduce_ex__',\n",
       " '__repr__',\n",
       " '__rfloordiv__',\n",
       " '__rlshift__',\n",
       " '__rmod__',\n",
       " '__rmul__',\n",
       " '__ror__',\n",
       " '__round__',\n",
       " '__rpow__',\n",
       " '__rrshift__',\n",
       " '__rshift__',\n",
       " '__rsub__',\n",
       " '__rtruediv__',\n",
       " '__rxor__',\n",
       " '__setattr__',\n",
       " '__sizeof__',\n",
       " '__str__',\n",
       " '__sub__',\n",
       " '__subclasshook__',\n",
       " '__truediv__',\n",
       " '__trunc__',\n",
       " '__xor__',\n",
       " 'as_integer_ratio',\n",
       " 'bit_length',\n",
       " 'conjugate',\n",
       " 'denominator',\n",
       " 'from_bytes',\n",
       " 'imag',\n",
       " 'numerator',\n",
       " 'real',\n",
       " 'to_bytes']"
      ]
     },
     "execution_count": 18,
     "metadata": {},
     "output_type": "execute_result"
    }
   ],
   "source": [
    "dir(int)"
   ]
  },
  {
   "cell_type": "code",
   "execution_count": null,
   "id": "c919cf7f",
   "metadata": {},
   "outputs": [],
   "source": [
    "+ ---> __add__(self, other)\n",
    "- --> __sub__(self,other)\n",
    "* --> __mul__(self,other)\n",
    "/ --> __div__(self,other)\n",
    "// --> __floordiv__(self,other)\n",
    "% --> __mod__(self,other)\n",
    "** --> __pow__(self,other)\n",
    "\n",
    "+= --> __iadd__(self,other)\n",
    "-= --> __isub__(self,other)\n",
    "*= --> __imul__(self,other)\n",
    "/= --> __idiv__(self,other)\n",
    "//= --> __ifloordiv__(self,other)\n",
    "%= --> __imod__(self,other)\n",
    "**= --> __pow__(self,other)\n",
    "\n",
    "\n",
    "< --> __lt__(self,other)\n",
    "<= --> __le__(self,other)\n",
    "> --> __gt__(self,other)\n",
    ">= --> __ge__(self,other)\n",
    "== -> __eq__(self,other)\n",
    "!= --> __ne__(self,other)"
   ]
  },
  {
   "cell_type": "code",
   "execution_count": 24,
   "id": "cd382841",
   "metadata": {},
   "outputs": [
    {
     "name": "stdout",
     "output_type": "stream",
     "text": [
      "False\n",
      "False\n",
      "True\n",
      "True\n"
     ]
    }
   ],
   "source": [
    "class Student:\n",
    "    def __init__(self, name, marks):\n",
    "        self.name = name\n",
    "        self.marks = marks\n",
    "        \n",
    "    def __gt__(self, other):\n",
    "        return self.marks > other.marks\n",
    "    \n",
    "    def __ge__(self, other):\n",
    "        return self.marks >= other.marks\n",
    "\n",
    "    def __lt__(self, other):\n",
    "        return self.marks < other.marks\n",
    "    \n",
    "    def __le__(self, other):\n",
    "        return self.marks <= other.marks\n",
    "    \n",
    "s1 = Student('Rahul',100)\n",
    "s2 = Student('Milind', 200)\n",
    "print(s1>s2)\n",
    "print(s1>=s2)\n",
    "print(s1<s2)\n",
    "print(s1<=s2)\n",
    "\n"
   ]
  },
  {
   "cell_type": "code",
   "execution_count": 28,
   "id": "b8879622",
   "metadata": {},
   "outputs": [
    {
     "ename": "TypeError",
     "evalue": "unsupported operand type(s) for +: 'int' and 'Book'",
     "output_type": "error",
     "traceback": [
      "\u001b[1;31m---------------------------------------------------------------------------\u001b[0m",
      "\u001b[1;31mTypeError\u001b[0m                                 Traceback (most recent call last)",
      "\u001b[1;32m<ipython-input-28-02d9b14c2ac9>\u001b[0m in \u001b[0;36m<module>\u001b[1;34m\u001b[0m\n\u001b[0;32m     10\u001b[0m \u001b[0mb3\u001b[0m \u001b[1;33m=\u001b[0m \u001b[0mBook\u001b[0m\u001b[1;33m(\u001b[0m\u001b[1;36m300\u001b[0m\u001b[1;33m)\u001b[0m\u001b[1;33m\u001b[0m\u001b[1;33m\u001b[0m\u001b[0m\n\u001b[0;32m     11\u001b[0m \u001b[1;33m\u001b[0m\u001b[0m\n\u001b[1;32m---> 12\u001b[1;33m \u001b[0mprint\u001b[0m\u001b[1;33m(\u001b[0m\u001b[0mb1\u001b[0m\u001b[1;33m+\u001b[0m\u001b[0mb2\u001b[0m\u001b[1;33m+\u001b[0m\u001b[0mb3\u001b[0m\u001b[1;33m)\u001b[0m\u001b[1;33m\u001b[0m\u001b[1;33m\u001b[0m\u001b[0m\n\u001b[0m",
      "\u001b[1;31mTypeError\u001b[0m: unsupported operand type(s) for +: 'int' and 'Book'"
     ]
    }
   ],
   "source": [
    "class Book:\n",
    "    def __init__(self, pages):\n",
    "        self.pages = pages\n",
    "        \n",
    "    def __add__(self,other):\n",
    "        return self.pages + other.pages\n",
    "    \n",
    "b1 = Book(100)\n",
    "b2 = Book(200)\n",
    "b3 = Book(300)\n",
    "\n",
    "print(b1+b2+b3)"
   ]
  },
  {
   "cell_type": "code",
   "execution_count": 1,
   "id": "1f8d5228",
   "metadata": {},
   "outputs": [
    {
     "ename": "TypeError",
     "evalue": "__add__() missing 1 required positional argument: 'other2'",
     "output_type": "error",
     "traceback": [
      "\u001b[1;31m---------------------------------------------------------------------------\u001b[0m",
      "\u001b[1;31mTypeError\u001b[0m                                 Traceback (most recent call last)",
      "\u001b[1;32m<ipython-input-1-f879bf18f4b8>\u001b[0m in \u001b[0;36m<module>\u001b[1;34m\u001b[0m\n\u001b[0;32m     10\u001b[0m \u001b[0mb3\u001b[0m \u001b[1;33m=\u001b[0m\u001b[0mBook\u001b[0m\u001b[1;33m(\u001b[0m\u001b[1;36m300\u001b[0m\u001b[1;33m)\u001b[0m\u001b[1;33m\u001b[0m\u001b[1;33m\u001b[0m\u001b[0m\n\u001b[0;32m     11\u001b[0m \u001b[1;33m\u001b[0m\u001b[0m\n\u001b[1;32m---> 12\u001b[1;33m \u001b[0mprint\u001b[0m\u001b[1;33m(\u001b[0m\u001b[0mb1\u001b[0m\u001b[1;33m+\u001b[0m\u001b[0mb2\u001b[0m\u001b[1;33m+\u001b[0m\u001b[0mb3\u001b[0m\u001b[1;33m)\u001b[0m\u001b[1;33m\u001b[0m\u001b[1;33m\u001b[0m\u001b[0m\n\u001b[0m",
      "\u001b[1;31mTypeError\u001b[0m: __add__() missing 1 required positional argument: 'other2'"
     ]
    }
   ],
   "source": [
    "class Book:\n",
    "    def __init__(self,pages):\n",
    "        self.pages = pages\n",
    "        \n",
    "    def __add__(self, other1, other2):\n",
    "        return self.pages + other1.pages + other2.pages\n",
    "    \n",
    "b1 =Book(100)\n",
    "b2 =Book(200)\n",
    "b3 =Book(300)\n",
    "\n",
    "print(b1+b2+b3)"
   ]
  },
  {
   "cell_type": "code",
   "execution_count": 3,
   "id": "a93d5f5e",
   "metadata": {},
   "outputs": [
    {
     "name": "stdout",
     "output_type": "stream",
     "text": [
      "Add Method we are calling\n",
      "Add Method we are calling\n",
      "str method calling\n",
      "600\n"
     ]
    }
   ],
   "source": [
    "class Book:\n",
    "    def __init__(self, pages):\n",
    "        self.pages = pages\n",
    "        \n",
    "    def __add__(self, other):\n",
    "        print(\"Add Method we are calling\")\n",
    "        total = self.pages + other.pages\n",
    "        return Book(total)  # After executing here we are getitng memory location. we are adding b1+b2+b3, but we are not \n",
    "                            #getting 600. \n",
    "#Here while adding b1+b2+b3 we get the result in object only, which is Book.\n",
    "\n",
    "    def __str__(self):   # This method is required to get the value from the memory location. \n",
    "        print(\"str method calling\")\n",
    "        return str(self.pages)\n",
    "    \n",
    "b1 = Book(100)\n",
    "b2 = Book(200)\n",
    "b3 = Book(300)\n",
    "\n",
    "print(b1+b2+b3)"
   ]
  },
  {
   "cell_type": "code",
   "execution_count": 6,
   "id": "e9b95851",
   "metadata": {},
   "outputs": [
    {
     "name": "stdout",
     "output_type": "stream",
     "text": [
      " This is student object with the name:rahul and marks 100\n",
      " This is student object with the name:Milind and marks 200\n"
     ]
    }
   ],
   "source": [
    "class Student:\n",
    "    def __init__(self, name, marks):\n",
    "        self.name = name\n",
    "        self.marks = marks\n",
    "        \n",
    "    def __str__(self): # When we want to print the object we require __Str__ method.\n",
    "        return \" This is student object with the name:{} and marks {}\".format(self.name, self.marks)\n",
    "        \n",
    "        \n",
    "        \n",
    "s1 = Student(\"rahul\", 100)\n",
    "print(s1)\n",
    "\n",
    "s2 = Student(\"Milind\", 200)\n",
    "print(s2)\n",
    "\n"
   ]
  },
  {
   "cell_type": "code",
   "execution_count": 8,
   "id": "c3f1a1ef",
   "metadata": {},
   "outputs": [
    {
     "name": "stdout",
     "output_type": "stream",
     "text": [
      "The month salary is:  12500\n",
      "The month salary is:  12500\n"
     ]
    }
   ],
   "source": [
    "class Employee:\n",
    "    def __init__(self, name, salary):\n",
    "        self.name = name\n",
    "        self.salary = salary  # We have different object s in different class and we multiply to get the total salary.\n",
    "        \n",
    "    def __mul__(self,other):\n",
    "        return self.salary * other.days #1st mul\n",
    "    \n",
    "class TimeSheet:\n",
    "    def __init__(self, name, days):\n",
    "        self.name = name\n",
    "        self.days = days\n",
    "        \n",
    "    def __mul__(self,other):\n",
    "        return self.days * other.salary #2nd mul\n",
    "        \n",
    "e = Employee(\"rahul\", 500)\n",
    "t = TimeSheet(\"rahul\", 25)\n",
    "\n",
    "print(\"The month salary is: \", e*t)\n",
    "\n",
    "print(\"The month salary is: \", t*e)# This will hit 2nd mul.\n",
    "    "
   ]
  },
  {
   "cell_type": "code",
   "execution_count": 13,
   "id": "63cc7e27",
   "metadata": {},
   "outputs": [
    {
     "name": "stdout",
     "output_type": "stream",
     "text": [
      "two arg method\n"
     ]
    }
   ],
   "source": [
    "#Method Overloading\n",
    "    #Suppose i have class with multiple method with same name,the last method will execute.\n",
    "    \n",
    "class Test:\n",
    "    def m1(self):\n",
    "        print(\"Zero Arg Method\")\n",
    "        \n",
    "    def m1(self,a):\n",
    "        print(\"One arg method\")\n",
    "        \n",
    "    def m1(self,a,b):\n",
    "        print(\"two arg method\")\n",
    "        # When we have same method name in one class python will take the lastest method argument.\n",
    "t = Test()\n",
    "t.m1(10,10)\n",
    "    "
   ]
  },
  {
   "cell_type": "code",
   "execution_count": 16,
   "id": "6e5ca9b7",
   "metadata": {},
   "outputs": [
    {
     "name": "stdout",
     "output_type": "stream",
     "text": [
      "Atleast provide one value\n",
      "The sum of one number is  10\n",
      "the sum of two numbers is: 30\n",
      "The sum of three numbers is: 60\n"
     ]
    }
   ],
   "source": [
    "class Test:\n",
    "    def sum1(self, a = None, b= None, c=None):\n",
    "        if a != None and b != None and c != None:\n",
    "            print(\"The sum of three numbers is:\", a+b+c)\n",
    "            \n",
    "        elif a !=None and b != None:\n",
    "            print(\"the sum of two numbers is:\", a+b)\n",
    "            \n",
    "        elif a!=None:\n",
    "            print(\"The sum of one number is \", a)\n",
    "            \n",
    "        else:\n",
    "            print(\"Atleast provide one value\")\n",
    "            \n",
    "            \n",
    "t = Test()\n",
    "t.sum1()\n",
    "t.sum1(10)\n",
    "t.sum1(10,20)\n",
    "t.sum1(10,20,30)"
   ]
  },
  {
   "cell_type": "code",
   "execution_count": 20,
   "id": "d6e23696",
   "metadata": {},
   "outputs": [
    {
     "name": "stdout",
     "output_type": "stream",
     "text": [
      "The sum is nothing\n"
     ]
    },
    {
     "ename": "TypeError",
     "evalue": "sum() takes 1 positional argument but 2 were given",
     "output_type": "error",
     "traceback": [
      "\u001b[1;31m---------------------------------------------------------------------------\u001b[0m",
      "\u001b[1;31mTypeError\u001b[0m                                 Traceback (most recent call last)",
      "\u001b[1;32m<ipython-input-20-85eb907af58d>\u001b[0m in \u001b[0;36m<module>\u001b[1;34m\u001b[0m\n\u001b[0;32m     11\u001b[0m \u001b[0mt\u001b[0m \u001b[1;33m=\u001b[0m \u001b[0mTest\u001b[0m\u001b[1;33m(\u001b[0m\u001b[1;33m)\u001b[0m\u001b[1;33m\u001b[0m\u001b[1;33m\u001b[0m\u001b[0m\n\u001b[0;32m     12\u001b[0m \u001b[0mt\u001b[0m\u001b[1;33m.\u001b[0m\u001b[0msum\u001b[0m\u001b[1;33m(\u001b[0m\u001b[1;33m)\u001b[0m\u001b[1;33m\u001b[0m\u001b[1;33m\u001b[0m\u001b[0m\n\u001b[1;32m---> 13\u001b[1;33m \u001b[0mt\u001b[0m\u001b[1;33m.\u001b[0m\u001b[0msum\u001b[0m\u001b[1;33m(\u001b[0m\u001b[1;36m10\u001b[0m\u001b[1;33m)\u001b[0m\u001b[1;33m\u001b[0m\u001b[1;33m\u001b[0m\u001b[0m\n\u001b[0m\u001b[0;32m     14\u001b[0m \u001b[0mt\u001b[0m\u001b[1;33m.\u001b[0m\u001b[0msum\u001b[0m\u001b[1;33m(\u001b[0m\u001b[1;36m10\u001b[0m\u001b[1;33m,\u001b[0m\u001b[1;36m20\u001b[0m\u001b[1;33m)\u001b[0m\u001b[1;33m\u001b[0m\u001b[1;33m\u001b[0m\u001b[0m\n\u001b[0;32m     15\u001b[0m \u001b[0mt\u001b[0m\u001b[1;33m.\u001b[0m\u001b[0msum\u001b[0m\u001b[1;33m(\u001b[0m\u001b[1;36m10\u001b[0m\u001b[1;33m,\u001b[0m\u001b[1;36m20\u001b[0m\u001b[1;33m,\u001b[0m\u001b[1;36m30\u001b[0m\u001b[1;33m)\u001b[0m\u001b[1;33m\u001b[0m\u001b[1;33m\u001b[0m\u001b[0m\n",
      "\u001b[1;31mTypeError\u001b[0m: sum() takes 1 positional argument but 2 were given"
     ]
    }
   ],
   "source": [
    "class Test:\n",
    "    def sum(self, *a):   # *a is a variable argument\n",
    "        total = 0\n",
    "        for x in a:\n",
    "            total = total+x\n",
    "        print(\"The sum is:\", total)\n",
    "        \n",
    "    def sum(self):\n",
    "        print(\"The sum is nothing\")\n",
    "    \n",
    "t = Test()\n",
    "t.sum()\n",
    "t.sum(10)\n",
    "t.sum(10,20)\n",
    "t.sum(10,20,30)"
   ]
  },
  {
   "cell_type": "code",
   "execution_count": 22,
   "id": "a96c794d",
   "metadata": {},
   "outputs": [
    {
     "name": "stdout",
     "output_type": "stream",
     "text": [
      "Two arg constructor\n"
     ]
    }
   ],
   "source": [
    "# Constructor Overloading\n",
    "\n",
    "class Test:\n",
    "    def __init__(self):\n",
    "        print(\"No arg constructor\")\n",
    "        \n",
    "    def __init__(self, a):\n",
    "        print(\"One arg constructor\")\n",
    "        \n",
    "    def __init__(self,a,b):\n",
    "        print(\"Two arg constructor\")\n",
    "        \n",
    "t = Test(10,20)\n",
    "    "
   ]
  },
  {
   "cell_type": "code",
   "execution_count": 27,
   "id": "7437076e",
   "metadata": {},
   "outputs": [
    {
     "name": "stdout",
     "output_type": "stream",
     "text": [
      "Constructor is with 0|1|2|3 args\n",
      "Constructor is with 0|1|2|3 args\n",
      "Constructor is with 0|1|2|3 args\n",
      "Constructor is with 0|1|2|3 args\n"
     ]
    },
    {
     "ename": "TypeError",
     "evalue": "__init__() takes from 1 to 4 positional arguments but 5 were given",
     "output_type": "error",
     "traceback": [
      "\u001b[1;31m---------------------------------------------------------------------------\u001b[0m",
      "\u001b[1;31mTypeError\u001b[0m                                 Traceback (most recent call last)",
      "\u001b[1;32m<ipython-input-27-37cda7a0a703>\u001b[0m in \u001b[0;36m<module>\u001b[1;34m\u001b[0m\n\u001b[0;32m      7\u001b[0m \u001b[0mt\u001b[0m \u001b[1;33m=\u001b[0m \u001b[0mTest\u001b[0m\u001b[1;33m(\u001b[0m\u001b[1;36m10\u001b[0m\u001b[1;33m,\u001b[0m\u001b[1;36m20\u001b[0m\u001b[1;33m)\u001b[0m\u001b[1;33m\u001b[0m\u001b[1;33m\u001b[0m\u001b[0m\n\u001b[0;32m      8\u001b[0m \u001b[0mt\u001b[0m \u001b[1;33m=\u001b[0m \u001b[0mTest\u001b[0m\u001b[1;33m(\u001b[0m\u001b[1;36m10\u001b[0m\u001b[1;33m,\u001b[0m\u001b[1;36m20\u001b[0m\u001b[1;33m,\u001b[0m\u001b[1;36m30\u001b[0m\u001b[1;33m)\u001b[0m\u001b[1;33m\u001b[0m\u001b[1;33m\u001b[0m\u001b[0m\n\u001b[1;32m----> 9\u001b[1;33m \u001b[0mt\u001b[0m \u001b[1;33m=\u001b[0m \u001b[0mTest\u001b[0m\u001b[1;33m(\u001b[0m\u001b[1;36m10\u001b[0m\u001b[1;33m,\u001b[0m\u001b[1;36m20\u001b[0m\u001b[1;33m,\u001b[0m\u001b[1;36m30\u001b[0m\u001b[1;33m,\u001b[0m\u001b[1;36m40\u001b[0m\u001b[1;33m)\u001b[0m\u001b[1;33m\u001b[0m\u001b[1;33m\u001b[0m\u001b[0m\n\u001b[0m\u001b[0;32m     10\u001b[0m \u001b[1;33m\u001b[0m\u001b[0m\n\u001b[0;32m     11\u001b[0m \u001b[1;33m\u001b[0m\u001b[0m\n",
      "\u001b[1;31mTypeError\u001b[0m: __init__() takes from 1 to 4 positional arguments but 5 were given"
     ]
    }
   ],
   "source": [
    "class Test:\n",
    "    def __init__(self, a=None, b=None, c =None):\n",
    "        print(\"Constructor is with 0|1|2|3 args\")\n",
    "        \n",
    "t = Test()\n",
    "t = Test(10)\n",
    "t = Test(10,20)\n",
    "t = Test(10,20,30)\n",
    "t = Test(10,20,30,40)\n",
    "\n",
    "# Here we apply for 3 variables. If we have more variables then we have variable method.\n",
    "\n",
    "    "
   ]
  },
  {
   "cell_type": "code",
   "execution_count": 32,
   "id": "a07236cb",
   "metadata": {},
   "outputs": [
    {
     "name": "stdout",
     "output_type": "stream",
     "text": [
      "constructor with n args\n",
      "constructor with n args\n",
      "constructor with n args\n",
      "constructor with n args\n"
     ]
    }
   ],
   "source": [
    "class Test:\n",
    "    def __init__(self,*a):\n",
    "        print(\"constructor with n args\")\n",
    "        \n",
    "t = Test()\n",
    "t = Test(10,20)\n",
    "t = Test(10,20,30)\n",
    "t = Test(10,20,30,40)"
   ]
  },
  {
   "cell_type": "code",
   "execution_count": 33,
   "id": "33668444",
   "metadata": {},
   "outputs": [
    {
     "name": "stdout",
     "output_type": "stream",
     "text": [
      "cash+Gold+Shares+Vehicles+land+Houses\n"
     ]
    }
   ],
   "source": [
    "# Method Overriding\n",
    "    #What is the purpose of method overriding.\n",
    "    \n",
    "class P:\n",
    "    def property(self):\n",
    "        print(\"cash+Gold+Shares+Vehicles+land+Houses\")\n",
    "        \n",
    "class C(P):\n",
    "    pass\n",
    "\n",
    "c = C()\n",
    "c.property()"
   ]
  },
  {
   "cell_type": "code",
   "execution_count": 35,
   "id": "87036bb4",
   "metadata": {},
   "outputs": [
    {
     "name": "stdout",
     "output_type": "stream",
     "text": [
      "cash+Gold+Shares+Vehicles+land+Houses\n",
      "A|B|C\n"
     ]
    }
   ],
   "source": [
    "# Method Overriding\n",
    "    #What is the purpose of method overriding.\n",
    "    \n",
    "class P:\n",
    "    def property(self):\n",
    "        print(\"cash+Gold+Shares+Vehicles+land+Houses\")\n",
    "        \n",
    "    def marriage(self):\n",
    "        print(\"X|Y|Z\")\n",
    "    \n",
    "        \n",
    "class C(P):\n",
    "    def marriage(self):\n",
    "        print(\"A|B|C\")\n",
    "        \n",
    "        \n",
    "c = C()\n",
    "c.property()\n",
    "c.marriage()# Child method will get the priority if the method name is same, since we are calling child class.\n",
    "\n"
   ]
  },
  {
   "cell_type": "code",
   "execution_count": 36,
   "id": "c6fcd1a7",
   "metadata": {},
   "outputs": [
    {
     "name": "stdout",
     "output_type": "stream",
     "text": [
      "cash+Gold+Shares+Vehicles+land+Houses\n",
      "X|Y|Z\n",
      "A|B|C\n"
     ]
    }
   ],
   "source": [
    "# Method Overriding\n",
    "    #What is the purpose of method overriding.\n",
    "    \n",
    "class P:\n",
    "    def property(self):\n",
    "        print(\"cash+Gold+Shares+Vehicles+land+Houses\")\n",
    "        \n",
    "    def marriage(self):\n",
    "        print(\"X|Y|Z\")\n",
    "    \n",
    "        \n",
    "class C(P):\n",
    "    def marriage(self):\n",
    "        super().marriage()# Super method is helping us to get the parent class method .\n",
    "        print(\"A|B|C\")\n",
    "        \n",
    "        \n",
    "c = C()\n",
    "c.property()\n",
    "c.marriage() \n",
    "\n"
   ]
  },
  {
   "cell_type": "code",
   "execution_count": 37,
   "id": "7120ba41",
   "metadata": {},
   "outputs": [
    {
     "name": "stdout",
     "output_type": "stream",
     "text": [
      "Parent constructor\n"
     ]
    }
   ],
   "source": [
    "# Constructor overriding\n",
    "class P:\n",
    "    def __init__(self):\n",
    "        print(\"Parent constructor\")\n",
    "        \n",
    "class C(P):\n",
    "    pass\n",
    "\n",
    "c = C()"
   ]
  },
  {
   "cell_type": "code",
   "execution_count": 38,
   "id": "909edd87",
   "metadata": {},
   "outputs": [
    {
     "name": "stdout",
     "output_type": "stream",
     "text": [
      "Parent constructor\n",
      "Child Constructor\n"
     ]
    }
   ],
   "source": [
    "\n",
    "\n",
    "class P:\n",
    "    def __init__(self):\n",
    "        print(\"Parent constructor\")\n",
    "        \n",
    "class C(P):\n",
    "    def __init__(self):\n",
    "        super().__init__() # super is helping us to get the parent class constructor.\n",
    "        print(\"Child Constructor\")\n",
    "\n",
    "c = C()"
   ]
  },
  {
   "cell_type": "code",
   "execution_count": null,
   "id": "1f1e8c6b",
   "metadata": {},
   "outputs": [],
   "source": []
  }
 ],
 "metadata": {
  "kernelspec": {
   "display_name": "Python 3",
   "language": "python",
   "name": "python3"
  },
  "language_info": {
   "codemirror_mode": {
    "name": "ipython",
    "version": 3
   },
   "file_extension": ".py",
   "mimetype": "text/x-python",
   "name": "python",
   "nbconvert_exporter": "python",
   "pygments_lexer": "ipython3",
   "version": "3.8.8"
  }
 },
 "nbformat": 4,
 "nbformat_minor": 5
}
