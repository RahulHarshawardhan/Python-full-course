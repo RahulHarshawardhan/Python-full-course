{
 "cells": [
  {
   "cell_type": "code",
   "execution_count": 1,
   "id": "0d179dca",
   "metadata": {},
   "outputs": [],
   "source": [
    "def ctof(c):      # here the function is created and data is not stored. Every time when we execute any value it will \n",
    "                  #run the function. \n",
    "    f = (c*9/5)+32\n",
    "    print(f)"
   ]
  },
  {
   "cell_type": "code",
   "execution_count": 2,
   "id": "2160e8f3",
   "metadata": {},
   "outputs": [
    {
     "name": "stdout",
     "output_type": "stream",
     "text": [
      "50.0\n"
     ]
    }
   ],
   "source": [
    "ctof(10)"
   ]
  },
  {
   "cell_type": "code",
   "execution_count": 3,
   "id": "cb6f1d4c",
   "metadata": {},
   "outputs": [],
   "source": [
    "class Ctof:\n",
    "    def __init__(self,c):\n",
    "        self.c = c\n",
    "    def ctof(self):\n",
    "        f = (self.c*9/5) + 32\n",
    "        print(f)"
   ]
  },
  {
   "cell_type": "code",
   "execution_count": 4,
   "id": "a5c88c90",
   "metadata": {},
   "outputs": [],
   "source": [
    "def ctof(c):      # here the function is created and data is not stored. Every time when we execute any value it will \n",
    "                  #run the function. \n",
    "    f = (c*9/5)+32\n",
    "    return f"
   ]
  },
  {
   "cell_type": "code",
   "execution_count": 8,
   "id": "a2cb7c95",
   "metadata": {},
   "outputs": [],
   "source": [
    "a = ctof(20)"
   ]
  },
  {
   "cell_type": "code",
   "execution_count": 9,
   "id": "e25d9624",
   "metadata": {},
   "outputs": [
    {
     "data": {
      "text/plain": [
       "68.0"
      ]
     },
     "execution_count": 9,
     "metadata": {},
     "output_type": "execute_result"
    }
   ],
   "source": [
    "a"
   ]
  },
  {
   "cell_type": "code",
   "execution_count": 10,
   "id": "dd2abc87",
   "metadata": {},
   "outputs": [],
   "source": [
    "class Ctof:\n",
    "    def __init__(self,c):\n",
    "        self.c = c\n",
    "    def ctof(self):\n",
    "        f = (self.c*9/5) + 32\n",
    "        print(f)"
   ]
  },
  {
   "cell_type": "code",
   "execution_count": 13,
   "id": "0bb06f67",
   "metadata": {},
   "outputs": [
    {
     "name": "stdout",
     "output_type": "stream",
     "text": [
      "50.0\n",
      "212.0\n",
      "69.8\n",
      "109.4\n"
     ]
    }
   ],
   "source": [
    "c1 = Ctof(10)   # To execute the class, we need to create an object which will use the class to execute.\n",
    "c2 = Ctof(100)  #c1,c2,c3,c4 are objects which will call the class Ctof and taking the relevant values as 10,100,21,43.\n",
    "c3 = Ctof(21)   # After that i have to run the function def ctof which is present inside the class to do all this calculation.\n",
    "c4 = Ctof(43)    # All object have the properties of Ctof class and also the functions def.\n",
    "c1.ctof()       # I am able to store the data as well.\n",
    "c2.ctof()\n",
    "c3.ctof()\n",
    "c4.ctof()\n"
   ]
  },
  {
   "cell_type": "code",
   "execution_count": 20,
   "id": "b2555e0b",
   "metadata": {},
   "outputs": [
    {
     "name": "stdout",
     "output_type": "stream",
     "text": [
      "This is a class which will calculate the salary of an employee\n"
     ]
    }
   ],
   "source": [
    "#docstring-- when creating a class we create docstring\n",
    "#class variable should start with capital letter as per industry standards.\n",
    "class Employee:\n",
    "\n",
    "    '''This is a class which will calculate the salary of an employee'''\n",
    "print(Employee.__doc__)\n",
    "    "
   ]
  },
  {
   "cell_type": "code",
   "execution_count": 21,
   "id": "26552056",
   "metadata": {},
   "outputs": [
    {
     "name": "stdout",
     "output_type": "stream",
     "text": [
      "Help on class Employee in module __main__:\n",
      "\n",
      "class Employee(builtins.object)\n",
      " |  This is a class which will calculate the salary of an employee\n",
      " |  \n",
      " |  Data descriptors defined here:\n",
      " |  \n",
      " |  __dict__\n",
      " |      dictionary for instance variables (if defined)\n",
      " |  \n",
      " |  __weakref__\n",
      " |      list of weak references to the object (if defined)\n",
      "\n"
     ]
    }
   ],
   "source": [
    "help(Employee) # help give the details of the class as well docstrings."
   ]
  },
  {
   "cell_type": "code",
   "execution_count": 22,
   "id": "5d8045ea",
   "metadata": {},
   "outputs": [
    {
     "name": "stdout",
     "output_type": "stream",
     "text": [
      "hello my name is: Rahul\n",
      "hello my emp id is: 1234\n",
      "hello my salary is: 123456\n"
     ]
    }
   ],
   "source": [
    "class Employee:\n",
    "    def __init__(self, name, employeeid, salary):\n",
    "        self.name = \"Rahul\"  # here we hardcoded the values as Rahul, 1234,123456\n",
    "        self.employeeid = 1234\n",
    "        self.salary = 123456 \n",
    "\n",
    "# __init__ --> is known as constructor and it is not mandatory. \n",
    "#we are passing constructor to call variables as name, employeeid,salary. Constructor should always have self,because\n",
    "# python pass one value when initialozing __init__.\n",
    "    \n",
    "    def talk(self):\n",
    "        print(\"hello my name is:\", self.name)\n",
    "        print('hello my emp id is:', self.employeeid)\n",
    "        print('hello my salary is:', self.salary)\n",
    "emp =Employee(\"Swadesh\", 2212, 324356)\n",
    "emp.talk()"
   ]
  },
  {
   "cell_type": "code",
   "execution_count": null,
   "id": "357f0d1f",
   "metadata": {},
   "outputs": [],
   "source": [
    "# When we creating a function inside the class, it is know as METHOD. It will no longer called as function.\n",
    "# Here talk is a method."
   ]
  },
  {
   "cell_type": "code",
   "execution_count": 24,
   "id": "2c0e78ff",
   "metadata": {},
   "outputs": [
    {
     "name": "stdout",
     "output_type": "stream",
     "text": [
      "hello my name is: Swadesh\n",
      "hello my emp id is: 2212\n",
      "hello my salary is: 324356\n",
      "hello my name is: Khushal\n",
      "hello my emp id is: 2222\n",
      "hello my salary is: 56757\n"
     ]
    }
   ],
   "source": [
    "class Employee:\n",
    "    def __init__(self, name, employeeid, salary):\n",
    "        self.name = name  \n",
    "        self.employeeid = employeeid\n",
    "        self.salary = salary\n",
    "\n",
    "# __init__ --> is known as constructor and it is not mandatory. \n",
    "#we are passing constructor to call variables as name, employeeid,salary. Constructor should always have self,because\n",
    "# python pass one value when initialozing __init__.\n",
    "    \n",
    "    def talk(self):\n",
    "        print(\"hello my name is:\", self.name)\n",
    "        print('hello my emp id is:', self.employeeid)\n",
    "        print('hello my salary is:', self.salary)\n",
    "\n",
    "emp1 =Employee(\"Swadesh\", 2212, 324356)\n",
    "emp2 =Employee(\"Khushal\", 2222, 56757)\n",
    "emp1.talk()\n",
    "emp2.talk()"
   ]
  },
  {
   "cell_type": "code",
   "execution_count": 25,
   "id": "fd63c2f3",
   "metadata": {},
   "outputs": [
    {
     "name": "stdout",
     "output_type": "stream",
     "text": [
      "hello my name is: Swadesh\n",
      "hello my emp id is: 2212\n",
      "hello my salary is: 324356\n",
      "hello my name is: Khushal\n",
      "hello my emp id is: 2222\n",
      "hello my salary is: 56757\n"
     ]
    }
   ],
   "source": [
    "class Employee:\n",
    "    def __init__(self, n, e, s):\n",
    "        self.n = n  # Here it is difficult to understand what is n & e &s\n",
    "        self.e = e\n",
    "        self.s = s\n",
    "\n",
    "# __init__ --> is known as constructor and it is not mandatory. \n",
    "#we are passing constructor to call variables as name, employeeid,salary. Constructor should always have self,because\n",
    "# python pass one value when initialozing __init__.\n",
    "    \n",
    "    def talk(self):\n",
    "        print(\"hello my name is:\", self.n)\n",
    "        print('hello my emp id is:', self.e)\n",
    "        print('hello my salary is:', self.s)\n",
    "\n",
    "emp1 =Employee(\"Swadesh\", 2212, 324356)\n",
    "emp2 =Employee(\"Khushal\", 2222, 56757)\n",
    "emp1.talk()\n",
    "emp2.talk()"
   ]
  },
  {
   "cell_type": "code",
   "execution_count": 27,
   "id": "73b0985b",
   "metadata": {},
   "outputs": [
    {
     "ename": "NameError",
     "evalue": "name 'n' is not defined",
     "output_type": "error",
     "traceback": [
      "\u001b[1;31m---------------------------------------------------------------------------\u001b[0m",
      "\u001b[1;31mNameError\u001b[0m                                 Traceback (most recent call last)",
      "\u001b[1;32m<ipython-input-27-76ff3a5ee1db>\u001b[0m in \u001b[0;36m<module>\u001b[1;34m\u001b[0m\n\u001b[0;32m     16\u001b[0m \u001b[0memp1\u001b[0m \u001b[1;33m=\u001b[0m\u001b[0mEmployee\u001b[0m\u001b[1;33m(\u001b[0m\u001b[1;34m\"Swadesh\"\u001b[0m\u001b[1;33m,\u001b[0m \u001b[1;36m2212\u001b[0m\u001b[1;33m,\u001b[0m \u001b[1;36m324356\u001b[0m\u001b[1;33m)\u001b[0m\u001b[1;33m\u001b[0m\u001b[1;33m\u001b[0m\u001b[0m\n\u001b[0;32m     17\u001b[0m \u001b[0memp2\u001b[0m \u001b[1;33m=\u001b[0m\u001b[0mEmployee\u001b[0m\u001b[1;33m(\u001b[0m\u001b[1;34m\"Khushal\"\u001b[0m\u001b[1;33m,\u001b[0m \u001b[1;36m2222\u001b[0m\u001b[1;33m,\u001b[0m \u001b[1;36m56757\u001b[0m\u001b[1;33m)\u001b[0m\u001b[1;33m\u001b[0m\u001b[1;33m\u001b[0m\u001b[0m\n\u001b[1;32m---> 18\u001b[1;33m \u001b[0memp1\u001b[0m\u001b[1;33m.\u001b[0m\u001b[0mtalk\u001b[0m\u001b[1;33m(\u001b[0m\u001b[1;33m)\u001b[0m\u001b[1;33m\u001b[0m\u001b[1;33m\u001b[0m\u001b[0m\n\u001b[0m\u001b[0;32m     19\u001b[0m \u001b[0memp2\u001b[0m\u001b[1;33m.\u001b[0m\u001b[0mtalk\u001b[0m\u001b[1;33m(\u001b[0m\u001b[1;33m)\u001b[0m\u001b[1;33m\u001b[0m\u001b[1;33m\u001b[0m\u001b[0m\n",
      "\u001b[1;32m<ipython-input-27-76ff3a5ee1db>\u001b[0m in \u001b[0;36mtalk\u001b[1;34m(self)\u001b[0m\n\u001b[0;32m     10\u001b[0m \u001b[1;33m\u001b[0m\u001b[0m\n\u001b[0;32m     11\u001b[0m     \u001b[1;32mdef\u001b[0m \u001b[0mtalk\u001b[0m\u001b[1;33m(\u001b[0m\u001b[0mself\u001b[0m\u001b[1;33m)\u001b[0m\u001b[1;33m:\u001b[0m\u001b[1;33m\u001b[0m\u001b[1;33m\u001b[0m\u001b[0m\n\u001b[1;32m---> 12\u001b[1;33m         \u001b[0mprint\u001b[0m\u001b[1;33m(\u001b[0m\u001b[1;34m\"hello my name is:\"\u001b[0m\u001b[1;33m,\u001b[0m \u001b[0mn\u001b[0m\u001b[1;33m)\u001b[0m\u001b[1;33m\u001b[0m\u001b[1;33m\u001b[0m\u001b[0m\n\u001b[0m\u001b[0;32m     13\u001b[0m         \u001b[0mprint\u001b[0m\u001b[1;33m(\u001b[0m\u001b[1;34m'hello my emp id is:'\u001b[0m\u001b[1;33m,\u001b[0m \u001b[0me\u001b[0m\u001b[1;33m)\u001b[0m\u001b[1;33m\u001b[0m\u001b[1;33m\u001b[0m\u001b[0m\n\u001b[0;32m     14\u001b[0m         \u001b[0mprint\u001b[0m\u001b[1;33m(\u001b[0m\u001b[1;34m'hello my salary is:'\u001b[0m\u001b[1;33m,\u001b[0m \u001b[0ms\u001b[0m\u001b[1;33m)\u001b[0m\u001b[1;33m\u001b[0m\u001b[1;33m\u001b[0m\u001b[0m\n",
      "\u001b[1;31mNameError\u001b[0m: name 'n' is not defined"
     ]
    }
   ],
   "source": [
    "class Employee:\n",
    "    def __init__(self, n, e, s):\n",
    "        self.name = n  \n",
    "        self.employeeid = e\n",
    "        self.salary = s\n",
    "\n",
    "# __init__ --> is known as constructor and it is not mandatory. \n",
    "#we are passing constructor to call variables as name, employeeid,salary. Constructor should always have self,because\n",
    "# python pass one value when initialozing __init__.\n",
    "    \n",
    "    def talk(self):\n",
    "        print(\"hello my name is:\", n)# hhere it is calling self.name, self.employeeid, self.salary.\n",
    "        print('hello my emp id is:', e)\n",
    "        print('hello my salary is:', s)\n",
    "\n",
    "emp1 =Employee(\"Swadesh\", 2212, 324356)\n",
    "emp2 =Employee(\"Khushal\", 2222, 56757)\n",
    "emp1.talk()\n",
    "emp2.talk()"
   ]
  },
  {
   "cell_type": "code",
   "execution_count": 28,
   "id": "a31c2182",
   "metadata": {},
   "outputs": [
    {
     "name": "stdout",
     "output_type": "stream",
     "text": [
      "hello my name is: Swadesh\n",
      "hello my emp id is: 2212\n",
      "hello my salary is: 324356\n",
      "hello my name is: Khushal\n",
      "hello my emp id is: 2222\n",
      "hello my salary is: 56757\n"
     ]
    }
   ],
   "source": [
    "class Employee:\n",
    "    def __init__(self, n, e, s):\n",
    "        self.name = n  \n",
    "        self.employeeid = e\n",
    "        self.salary = s\n",
    "\n",
    "# __init__ --> is known as constructor and it is not mandatory. \n",
    "#we are passing constructor to call variables as name, employeeid,salary. Constructor should always have self,because\n",
    "# python pass one value when initialozing __init__.\n",
    "    \n",
    "    def talk(self):\n",
    "        print(\"hello my name is:\", self.name)\n",
    "        print('hello my emp id is:', self.employeeid) \n",
    "        print('hello my salary is:', self.salary)\n",
    "\n",
    "emp1 =Employee(\"Swadesh\", 2212, 324356)\n",
    "emp2 =Employee(\"Khushal\", 2222, 56757)\n",
    "emp1.talk()\n",
    "emp2.talk()"
   ]
  },
  {
   "cell_type": "code",
   "execution_count": 29,
   "id": "d3ae4bda",
   "metadata": {},
   "outputs": [],
   "source": [
    "#__init__ \n",
    "\n",
    "# The features of init\n",
    "    #IT is a constructor.\n",
    "        #1) It is special method in python.\n",
    "        #2) The name of the constructor should always be __init__.\n",
    "        #3) Constructor will execute automatically whenever we are creating an object.\n",
    "        #4) The main objective is to declare object  related variable and perform initialization.\n",
    "        #5) Constructor will execute only once per object.\n",
    "        #6) Constructor should take atleast one argument that is self.\n",
    "        #7) Constructor is optional and if we are not providing python internally provide default constructor."
   ]
  },
  {
   "cell_type": "code",
   "execution_count": 32,
   "id": "8d2500e8",
   "metadata": {},
   "outputs": [
    {
     "name": "stdout",
     "output_type": "stream",
     "text": [
      "constructor Executing\n",
      "1560300386288\n",
      "constructor Executing\n",
      "1560300387872\n"
     ]
    }
   ],
   "source": [
    "class Test:\n",
    "    def __init__(self):\n",
    "        print(\"constructor Executing\")\n",
    "        print(id(self))\n",
    "        \n",
    "t1 = Test()\n",
    "t2 = Test()  # here object have different memory locations."
   ]
  },
  {
   "cell_type": "code",
   "execution_count": 33,
   "id": "95cecd0f",
   "metadata": {},
   "outputs": [
    {
     "ename": "TypeError",
     "evalue": "__init__() missing 1 required positional argument: 'x'",
     "output_type": "error",
     "traceback": [
      "\u001b[1;31m---------------------------------------------------------------------------\u001b[0m",
      "\u001b[1;31mTypeError\u001b[0m                                 Traceback (most recent call last)",
      "\u001b[1;32m<ipython-input-33-10f7096dcc51>\u001b[0m in \u001b[0;36m<module>\u001b[1;34m\u001b[0m\n\u001b[0;32m      7\u001b[0m         \u001b[0mprint\u001b[0m\u001b[1;33m(\u001b[0m\u001b[1;34m\"One Arg constructor executing\"\u001b[0m\u001b[1;33m)\u001b[0m\u001b[1;33m\u001b[0m\u001b[1;33m\u001b[0m\u001b[0m\n\u001b[0;32m      8\u001b[0m \u001b[1;33m\u001b[0m\u001b[0m\n\u001b[1;32m----> 9\u001b[1;33m \u001b[0mt1\u001b[0m \u001b[1;33m=\u001b[0m \u001b[0mTest\u001b[0m\u001b[1;33m(\u001b[0m\u001b[1;33m)\u001b[0m\u001b[1;33m\u001b[0m\u001b[1;33m\u001b[0m\u001b[0m\n\u001b[0m\u001b[0;32m     10\u001b[0m \u001b[1;31m#t2 = Test(10)\u001b[0m\u001b[1;33m\u001b[0m\u001b[1;33m\u001b[0m\u001b[1;33m\u001b[0m\u001b[0m\n",
      "\u001b[1;31mTypeError\u001b[0m: __init__() missing 1 required positional argument: 'x'"
     ]
    }
   ],
   "source": [
    "# we are checking with multiple __init__ function.\n",
    "\n",
    "class Test:\n",
    "    def __init__(self):\n",
    "        print(\"Constructor Executing\")\n",
    "    def __init__(self,x):\n",
    "        print(\"One Arg constructor executing\")\n",
    "        \n",
    "t1 = Test()   # Here two __init__ function is created but object t1 is giving error as it is running 2nd init function.\n",
    "#t2 = Test(10)"
   ]
  },
  {
   "cell_type": "code",
   "execution_count": 34,
   "id": "66679fcd",
   "metadata": {},
   "outputs": [
    {
     "name": "stdout",
     "output_type": "stream",
     "text": [
      "One Arg constructor executing\n"
     ]
    }
   ],
   "source": [
    "class Test:\n",
    "    def __init__(self):\n",
    "        print(\"Constructor Executing\")\n",
    "    def __init__(self,x):\n",
    "        print(\"One Arg constructor executing\")\n",
    "        \n",
    "#t1 = Test()  # Here object t2 run with (10) as a variable taking 2nd __init__ function.\n",
    "t2 = Test(10)  "
   ]
  },
  {
   "cell_type": "code",
   "execution_count": 35,
   "id": "6c50e0b8",
   "metadata": {},
   "outputs": [
    {
     "ename": "TypeError",
     "evalue": "__init__() takes 1 positional argument but 2 were given",
     "output_type": "error",
     "traceback": [
      "\u001b[1;31m---------------------------------------------------------------------------\u001b[0m",
      "\u001b[1;31mTypeError\u001b[0m                                 Traceback (most recent call last)",
      "\u001b[1;32m<ipython-input-35-f95ea1130bb5>\u001b[0m in \u001b[0;36m<module>\u001b[1;34m\u001b[0m\n\u001b[0;32m      7\u001b[0m \u001b[1;33m\u001b[0m\u001b[0m\n\u001b[0;32m      8\u001b[0m \u001b[1;31m#t1 = Test()\u001b[0m\u001b[1;33m\u001b[0m\u001b[1;33m\u001b[0m\u001b[1;33m\u001b[0m\u001b[0m\n\u001b[1;32m----> 9\u001b[1;33m \u001b[0mt2\u001b[0m \u001b[1;33m=\u001b[0m \u001b[0mTest\u001b[0m\u001b[1;33m(\u001b[0m\u001b[1;36m10\u001b[0m\u001b[1;33m)\u001b[0m\u001b[1;33m\u001b[0m\u001b[1;33m\u001b[0m\u001b[0m\n\u001b[0m",
      "\u001b[1;31mTypeError\u001b[0m: __init__() takes 1 positional argument but 2 were given"
     ]
    }
   ],
   "source": [
    "# here we flip the order of constructor with 1 argument and 0 Argument.\n",
    "class Test:\n",
    "    def __init__(self, x):\n",
    "        print(\"One Arg Constructor Executing\")\n",
    "    def __init__(self):\n",
    "        print(\"Zero Arg constructor executing\")\n",
    "        \n",
    "#t1 = Test()  \n",
    "t2 = Test(10)  # This is giving priority to 2nd constructor. as we have to pass 1 arg but 2 were given."
   ]
  },
  {
   "cell_type": "code",
   "execution_count": 36,
   "id": "95df5d83",
   "metadata": {},
   "outputs": [
    {
     "name": "stdout",
     "output_type": "stream",
     "text": [
      "Zero Arg constructor executing\n"
     ]
    }
   ],
   "source": [
    "# here we flip the order of constructor with 1 argument and 0 Argument.\n",
    "class Test:\n",
    "    def __init__(self, x):\n",
    "        print(\"One Arg Constructor Executing\")\n",
    "    def __init__(self):\n",
    "        print(\"Zero Arg constructor executing\")\n",
    "        \n",
    "t1 = Test()   # This is working fine.\n",
    "#t2 = Test(10)  \n",
    "\n",
    "#"
   ]
  },
  {
   "cell_type": "code",
   "execution_count": 37,
   "id": "679a0623",
   "metadata": {},
   "outputs": [],
   "source": [
    "# From the above scenario we came to conclusion that, python is not supporting method(__init__)  overloading. That means \n",
    "#The (__init__ method ) multiple method with same name, python will consider the latest method."
   ]
  },
  {
   "cell_type": "code",
   "execution_count": null,
   "id": "b371d0fe",
   "metadata": {},
   "outputs": [],
   "source": [
    "#self:- Python provided implicit default variable which always pointing to current object.\n",
    "# By using self we can access the variable, methods associated with current objects.\n",
    "# In constructor self should be the first arg.\n",
    "# Self is the 1st argument in the instance method as well."
   ]
  },
  {
   "cell_type": "code",
   "execution_count": 38,
   "id": "f190943a",
   "metadata": {},
   "outputs": [],
   "source": [
    "class Movie:\n",
    "    def __init__(self, name, hero, heroine, rating):\n",
    "        self.name = name\n",
    "        self.hero = hero\n",
    "        self.heroine = heroine\n",
    "        self.rating = rating\n",
    "        \n",
    "    # Here self.name,self.hero.. are called instance variable. After creating object1 from class Movie i am passing\n",
    "    # values for that instance of object. when object2 is created the variables are changing. So self.__ is changing value \n",
    "    # for every object. So it is called instance variable.\n",
    "    \n",
    "    def info(self):\n",
    "        print(\"Movie Name\", self.name)\n",
    "        print(\"Hero name\", self.hero)\n",
    "        print(\"Heroine name\", self.heroine)\n",
    "        print(\"Movie Rating\", self.rating)\n",
    "        \n",
    "mov1 = Movie('PK','AK','AS', 10)\n"
   ]
  },
  {
   "cell_type": "code",
   "execution_count": 39,
   "id": "2425f372",
   "metadata": {},
   "outputs": [
    {
     "name": "stdout",
     "output_type": "stream",
     "text": [
      "Movie Name PK\n",
      "Hero name AK\n",
      "Heroine name AS\n",
      "Movie Rating 10\n"
     ]
    }
   ],
   "source": [
    "mov1.info()"
   ]
  },
  {
   "cell_type": "code",
   "execution_count": null,
   "id": "9758da65",
   "metadata": {},
   "outputs": [],
   "source": [
    "# Here we will pass the object in the list.\n",
    "class Movie:\n",
    "    def __init__(self, name, hero, heroine, rating):\n",
    "        self.name = name\n",
    "        self.hero = hero\n",
    "        self.heroine = heroine\n",
    "        self.rating = rating\n",
    "        \n",
    "    # Here self.name,self.hero.. are called instance variable. After creating object1 from class Movie i am passing\n",
    "    # values for that instance of object. when object2 is created the variables are changing. So self.__ is changing value \n",
    "    # for every object. So it is called instance variable.\n",
    "    \n",
    "    def info(self):\n",
    "        print(\"Movie Name\", self.name)\n",
    "        print(\"Hero name\", self.hero)\n",
    "        print(\"Heroine name\", self.heroine)\n",
    "        print(\"Movie Rating\", self.rating)\n",
    "        \n"
   ]
  },
  {
   "cell_type": "code",
   "execution_count": 40,
   "id": "9f6e1d3a",
   "metadata": {},
   "outputs": [],
   "source": [
    "movies = [Movie('PK','AK','AS',10),Movie('SUL','SK','AS',10),Movie('KNPH','HR','AP',10),Movie('AL','AK','NK',8)]"
   ]
  },
  {
   "cell_type": "code",
   "execution_count": 41,
   "id": "898c08bb",
   "metadata": {},
   "outputs": [
    {
     "name": "stdout",
     "output_type": "stream",
     "text": [
      "Movie Name PK\n",
      "Hero name AK\n",
      "Heroine name AS\n",
      "Movie Rating 10\n",
      "Movie Name SUL\n",
      "Hero name SK\n",
      "Heroine name AS\n",
      "Movie Rating 10\n",
      "Movie Name KNPH\n",
      "Hero name HR\n",
      "Heroine name AP\n",
      "Movie Rating 10\n",
      "Movie Name AL\n",
      "Hero name AK\n",
      "Heroine name NK\n",
      "Movie Rating 8\n"
     ]
    }
   ],
   "source": [
    "for mov in movies:\n",
    "    mov.info()"
   ]
  },
  {
   "cell_type": "code",
   "execution_count": null,
   "id": "d4e587b7",
   "metadata": {},
   "outputs": [],
   "source": [
    "#Different types of variables'\n",
    " # There are 3 types of variables\n",
    "#1) Instance variable--- Object Level variables\n",
    "#2) Static variable-- Class Level variables\n",
    "#3) local Variable-- Method level variables\n"
   ]
  },
  {
   "cell_type": "code",
   "execution_count": 42,
   "id": "5087264d",
   "metadata": {},
   "outputs": [],
   "source": [
    "#1) Instance Variable (Object level variables)\n",
    "    # If the value of the variable is varying from object to object--- Instance Variable.\n",
    "    # A separate copy of instance variable is created for every object.\n",
    "    \n",
    "#Where can we declare instance variables::\n",
    "    #1) Inside constructor by using self variable.\n",
    "    #2) Inside instance method by using self variable.\n",
    "    #3) Outside of the class by using object reference variables.\n"
   ]
  },
  {
   "cell_type": "code",
   "execution_count": 49,
   "id": "1f83fd67",
   "metadata": {},
   "outputs": [
    {
     "name": "stdout",
     "output_type": "stream",
     "text": [
      "{'eno': 1000, 'ename': 'rahul', 'sal': 10000}\n"
     ]
    }
   ],
   "source": [
    "#1) Inside constructor by using self variable.\n",
    "\n",
    "class Employee:\n",
    "    '''Instance variable declared inside constructor'''\n",
    "    \n",
    "    def __init__(self):\n",
    "        self.eno = 1000   # here instance variable is hard coded with the values. So when object is created  \n",
    "        self.ename = 'rahul'\n",
    "        self.sal =10000\n",
    "        \n",
    "emp =Employee()\n",
    "print(emp.__dict__)\n",
    "        "
   ]
  },
  {
   "cell_type": "code",
   "execution_count": 47,
   "id": "c1b76c8f",
   "metadata": {},
   "outputs": [
    {
     "ename": "TypeError",
     "evalue": "'Employee' object is not callable",
     "output_type": "error",
     "traceback": [
      "\u001b[1;31m---------------------------------------------------------------------------\u001b[0m",
      "\u001b[1;31mTypeError\u001b[0m                                 Traceback (most recent call last)",
      "\u001b[1;32m<ipython-input-47-3aa971333046>\u001b[0m in \u001b[0;36m<module>\u001b[1;34m\u001b[0m\n\u001b[1;32m----> 1\u001b[1;33m \u001b[0memp\u001b[0m\u001b[1;33m(\u001b[0m\u001b[1;33m)\u001b[0m\u001b[1;33m\u001b[0m\u001b[1;33m\u001b[0m\u001b[0m\n\u001b[0m",
      "\u001b[1;31mTypeError\u001b[0m: 'Employee' object is not callable"
     ]
    }
   ],
   "source": []
  },
  {
   "cell_type": "code",
   "execution_count": 52,
   "id": "66bbbe82",
   "metadata": {},
   "outputs": [
    {
     "name": "stdout",
     "output_type": "stream",
     "text": [
      "{'eno': 1, 'ename': 'Rakshit', 'sal': 10000}\n",
      "\n",
      "{'eno': 2, 'ename': 'Milind', 'sal': 20000}\n"
     ]
    }
   ],
   "source": [
    "#1) Inside constructor by using self variable.\n",
    "\n",
    "class Employee:\n",
    "    '''Instance variable declared inside constructor'''\n",
    "    \n",
    "    def __init__(self, eno, ename, sal):\n",
    "        self.eno = eno   \n",
    "        self.ename = ename\n",
    "        self.sal =sal\n",
    "        \n",
    "  # Here we need to pass the arguments. \n",
    "emp1 = Employee(1, 'Rakshit', 10000)\n",
    "emp2 = Employee(2, 'Milind', 20000)\n",
    "\n",
    "print(emp1.__dict__)\n",
    "print()\n",
    "print(emp2.__dict__)"
   ]
  },
  {
   "cell_type": "code",
   "execution_count": 53,
   "id": "ab44c503",
   "metadata": {},
   "outputs": [
    {
     "name": "stdout",
     "output_type": "stream",
     "text": [
      "{}\n"
     ]
    }
   ],
   "source": [
    "#2) Inside instance method by using self variable.\n",
    "\n",
    "class Employee:\n",
    "    def __init__(self):\n",
    "        pass\n",
    "    def m1(self): \n",
    "        '''Inside the method'''\n",
    "        self.b = 20\n",
    "                    \n",
    "  # here we are calling a method inside instance method(m1) with self. Here we are passing self that \n",
    "  #is why it is instance method.           \n",
    "emp1 = Employee() # Here we call the constructor but not the method, since instance variable is inside the method.\n",
    "print(emp1.__dict__)# So it has not shown any result.We have not called the method here so not showing result."
   ]
  },
  {
   "cell_type": "code",
   "execution_count": 54,
   "id": "04f6afb4",
   "metadata": {},
   "outputs": [
    {
     "name": "stdout",
     "output_type": "stream",
     "text": [
      "{'b': 20}\n"
     ]
    }
   ],
   "source": [
    "#2) Inside instance method by using self variable.\n",
    "\n",
    "class Employee:\n",
    "    def __init__(self):\n",
    "        pass\n",
    "    def m1(self): \n",
    "        '''Inside the method'''\n",
    "        self.b = 20\n",
    "                    \n",
    "  # here we are calling a method inside instance method(m1) with self. Here we are passing self that \n",
    "  #is why it is instance method.           \n",
    "emp1 = Employee()\n",
    "emp1.m1()  # we call the instance method (m1) where we have declare the instance variable. So to get the result we need \n",
    "print(emp1.__dict__)# to call the instance method(m1)"
   ]
  },
  {
   "cell_type": "code",
   "execution_count": 55,
   "id": "d0a5a990",
   "metadata": {},
   "outputs": [
    {
     "name": "stdout",
     "output_type": "stream",
     "text": [
      "{'b': 20}\n",
      "{'b': 20, 'c': 30}\n"
     ]
    }
   ],
   "source": [
    " #3) Outside of the class by using object reference variables.\n",
    "    \n",
    "\n",
    "\n",
    "class Employee:\n",
    "    def __init__(self):\n",
    "        pass\n",
    "    def m1(self): \n",
    "        '''Inside the method'''\n",
    "        self.b = 20\n",
    "           \n",
    "emp1 = Employee()\n",
    "emp1.m1()  \n",
    "print(emp1.__dict__)\n",
    "emp1.c = 30  #here c is created as a instance variable outside the class and method. b is created at the instance method.\n",
    "print(emp1.__dict__)\n",
    "    "
   ]
  },
  {
   "cell_type": "code",
   "execution_count": 57,
   "id": "84216290",
   "metadata": {},
   "outputs": [
    {
     "name": "stdout",
     "output_type": "stream",
     "text": [
      "20\n",
      "30\n"
     ]
    }
   ],
   "source": [
    "#How to access the instance variable.\n",
    "    #1)within the class by using self.\n",
    "    \n",
    "class Test:\n",
    "    def __init__(self):\n",
    "        self.a = 20\n",
    "        self.b = 30\n",
    "    def m1(self):\n",
    "        print(self.a)\n",
    "        print(self.b)\n",
    "\n",
    "t = Test()\n",
    "t.m1()"
   ]
  },
  {
   "cell_type": "code",
   "execution_count": 59,
   "id": "cb02b0a3",
   "metadata": {},
   "outputs": [
    {
     "name": "stdout",
     "output_type": "stream",
     "text": [
      "20\n",
      "30\n"
     ]
    }
   ],
   "source": [
    "#2) Outside the class by using object reference.\n",
    "\n",
    "print(t.a)\n",
    "print(t.b)"
   ]
  },
  {
   "cell_type": "code",
   "execution_count": 61,
   "id": "f724fbc4",
   "metadata": {},
   "outputs": [
    {
     "name": "stdout",
     "output_type": "stream",
     "text": [
      "{'a': 10, 'b': 20, 'c': 30, 'd': 40}\n",
      "{'a': 10, 'c': 30, 'd': 40}\n"
     ]
    }
   ],
   "source": [
    "#How to delete the instance varible.\n",
    "    #)1) del self.variable name-- within the class\n",
    "    \n",
    "class Test:\n",
    "    def __init__(self):\n",
    "        self.a = 10\n",
    "        self.b = 20        \n",
    "        self.c = 30        \n",
    "        self.d = 40\n",
    "    def m1(self):\n",
    "        del self.b\n",
    "        \n",
    "t = Test()\n",
    "print(t.__dict__)  # We are deleting b variable at method instance. We did not call m1 till now so all 4 variable \n",
    "                   # will be shown.\n",
    "t.m1()\n",
    "print(t.__dict__) # b is deleted here."
   ]
  },
  {
   "cell_type": "code",
   "execution_count": 62,
   "id": "32856b24",
   "metadata": {},
   "outputs": [
    {
     "name": "stdout",
     "output_type": "stream",
     "text": [
      "{'c': 30, 'd': 40}\n"
     ]
    }
   ],
   "source": [
    " #2) Outside the class-- del object.variable\n",
    "del t.a\n",
    "print(t.__dict__)\n"
   ]
  },
  {
   "cell_type": "code",
   "execution_count": 69,
   "id": "01e3e574",
   "metadata": {},
   "outputs": [
    {
     "name": "stdout",
     "output_type": "stream",
     "text": [
      "{'a': 10}\n",
      "{'a': 777, 'b': 888}\n",
      "{'a': 777, 'b': 1000}\n",
      "{'a': 777, 'b': 1000, 'c': 2000}\n"
     ]
    }
   ],
   "source": [
    "class Test:\n",
    "    def __init__(self):\n",
    "        self.a = 10\n",
    "    def m1(self):\n",
    "        self.a = 777\n",
    "        self.b = 888\n",
    "\n",
    "t = Test()\n",
    "print(t.__dict__) # Here a value is 10 and will show 10 only when called the class function or constructor.\n",
    "\n",
    "t.m1()\n",
    "print(t.__dict__) # when called method function a value is updated and given the result.\n",
    "                # when called variable will give the latest value. \n",
    "t.b =1000\n",
    "print(t.__dict__) # b is updated outside the class.\n",
    "\n",
    "t.c = 2000\n",
    "print(t.__dict__)"
   ]
  },
  {
   "cell_type": "code",
   "execution_count": 71,
   "id": "5800dd2d",
   "metadata": {},
   "outputs": [
    {
     "name": "stdout",
     "output_type": "stream",
     "text": [
      "{'b': 20}\n",
      "888 777\n"
     ]
    }
   ],
   "source": [
    "class Test:\n",
    "    a = 10  # This is static variable (class level variable). Here self is not called. \n",
    "    def __init__(self):\n",
    "        self.b = 20\n",
    "        \n",
    "t1 = Test()\n",
    "print(t1.__dict__) \n",
    "\n",
    "t1.b = 777 #here we are updating the value of b to 777.\n",
    "t1.a = 888\n",
    "\n",
    "print(t1.a, t1.b)"
   ]
  },
  {
   "cell_type": "code",
   "execution_count": 73,
   "id": "77fd92cc",
   "metadata": {},
   "outputs": [
    {
     "name": "stdout",
     "output_type": "stream",
     "text": [
      "10 20\n",
      "{'b': 20}\n"
     ]
    }
   ],
   "source": [
    "t2 = Test()\n",
    "print(t2.a, t2.b) #Here for t2 object, the value of a nd b remains same as we have not assigned any value for t2.\n",
    "print(t2.__dict__) # Dictionary gives the instance variable."
   ]
  },
  {
   "cell_type": "code",
   "execution_count": 78,
   "id": "b6de6b76",
   "metadata": {},
   "outputs": [
    {
     "name": "stdout",
     "output_type": "stream",
     "text": [
      "{'b': 777, 'a': 888}\n"
     ]
    }
   ],
   "source": [
    "class Test:\n",
    "    a = 10  # This is static variable (class level variable). Here self is not called. \n",
    "    def __init__(self):\n",
    "        self.b = 20\n",
    "        \n",
    "t1 = Test()\n",
    "#print(t1.__dict__) \n",
    "\n",
    "t1.b = 777#here we are updating the value of b to 777.\n",
    "#print(t1.__dict__) \n",
    "\n",
    "t1.a = 888\n",
    "print(t1.__dict__)\n",
    "\n",
    "#print(t1.a, t1.b)"
   ]
  },
  {
   "cell_type": "code",
   "execution_count": null,
   "id": "6d6e5517",
   "metadata": {},
   "outputs": [],
   "source": []
  }
 ],
 "metadata": {
  "kernelspec": {
   "display_name": "Python 3",
   "language": "python",
   "name": "python3"
  },
  "language_info": {
   "codemirror_mode": {
    "name": "ipython",
    "version": 3
   },
   "file_extension": ".py",
   "mimetype": "text/x-python",
   "name": "python",
   "nbconvert_exporter": "python",
   "pygments_lexer": "ipython3",
   "version": "3.8.8"
  }
 },
 "nbformat": 4,
 "nbformat_minor": 5
}
