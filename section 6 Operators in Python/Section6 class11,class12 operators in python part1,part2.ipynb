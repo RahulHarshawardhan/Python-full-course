{
 "cells": [
  {
   "cell_type": "markdown",
   "id": "73e7a3fd",
   "metadata": {},
   "source": [
    "# operator in Python"
   ]
  },
  {
   "cell_type": "code",
   "execution_count": 1,
   "id": "f93f5b23",
   "metadata": {},
   "outputs": [],
   "source": [
    "#Arithmatic operators\n",
    "#relational operatord or comparison operators\n",
    "#logical operators\n",
    "#Equality Operator\n",
    "#bitwise operators\n",
    "#Assignment operators\n",
    "#Special Operators"
   ]
  },
  {
   "cell_type": "code",
   "execution_count": 2,
   "id": "a72a3154",
   "metadata": {},
   "outputs": [],
   "source": [
    "#arithmatic operator\n",
    " # + - Addition\n",
    "# - - substraction\n",
    "# * - Multiplication \n",
    "# / - Division (Float)\n",
    "# % - Modulo (Remainder)\n",
    "#// - Floor Division operator (It will return either int or float, if the argument is int type then int else float)\n",
    "#** - Power or Exponent operator\n"
   ]
  },
  {
   "cell_type": "code",
   "execution_count": 7,
   "id": "a53523e2",
   "metadata": {},
   "outputs": [
    {
     "name": "stdout",
     "output_type": "stream",
     "text": [
      "a+b 12\n",
      "a-b 8\n",
      "a*b 20\n",
      "a/b 5.0\n",
      "a%b 0\n",
      "a//b 5\n",
      "a**b 100\n"
     ]
    }
   ],
   "source": [
    "a = 10\n",
    "b = 2\n",
    "print(\"a+b\", a+b)\n",
    "print(\"a-b\", a-b)\n",
    "print(\"a*b\", a*b)\n",
    "print(\"a/b\", a/b)\n",
    "print(\"a%b\", a%b)\n",
    "print(\"a//b\", a//b)\n",
    "print(\"a**b\", a**b)\n",
    "\n"
   ]
  },
  {
   "cell_type": "code",
   "execution_count": null,
   "id": "529658e0",
   "metadata": {},
   "outputs": [],
   "source": [
    "# + ---- It is also applicatble for string also. String concatenation operator."
   ]
  },
  {
   "cell_type": "code",
   "execution_count": 8,
   "id": "33a1261c",
   "metadata": {},
   "outputs": [
    {
     "ename": "TypeError",
     "evalue": "can only concatenate str (not \"int\") to str",
     "output_type": "error",
     "traceback": [
      "\u001b[1;31m---------------------------------------------------------------------------\u001b[0m",
      "\u001b[1;31mTypeError\u001b[0m                                 Traceback (most recent call last)",
      "\u001b[1;32m<ipython-input-8-71ef299978f6>\u001b[0m in \u001b[0;36m<module>\u001b[1;34m\u001b[0m\n\u001b[1;32m----> 1\u001b[1;33m \u001b[1;34m'Rahul'\u001b[0m \u001b[1;33m+\u001b[0m\u001b[1;36m3\u001b[0m\u001b[1;33m\u001b[0m\u001b[1;33m\u001b[0m\u001b[0m\n\u001b[0m",
      "\u001b[1;31mTypeError\u001b[0m: can only concatenate str (not \"int\") to str"
     ]
    }
   ],
   "source": [
    "'Rahul' + 3"
   ]
  },
  {
   "cell_type": "code",
   "execution_count": 11,
   "id": "5cba468e",
   "metadata": {},
   "outputs": [
    {
     "data": {
      "text/plain": [
       "'Rahul3'"
      ]
     },
     "execution_count": 11,
     "metadata": {},
     "output_type": "execute_result"
    }
   ],
   "source": [
    "'Rahul' + '3'\n"
   ]
  },
  {
   "cell_type": "code",
   "execution_count": 13,
   "id": "1f384c5e",
   "metadata": {},
   "outputs": [
    {
     "data": {
      "text/plain": [
       "'Rahul3'"
      ]
     },
     "execution_count": 13,
     "metadata": {},
     "output_type": "execute_result"
    }
   ],
   "source": [
    "'Rahul' + str(3)"
   ]
  },
  {
   "cell_type": "code",
   "execution_count": 14,
   "id": "9609263d",
   "metadata": {},
   "outputs": [
    {
     "data": {
      "text/plain": [
       "'RahulRahulRahul'"
      ]
     },
     "execution_count": 14,
     "metadata": {},
     "output_type": "execute_result"
    }
   ],
   "source": [
    "# * --- It is also applicable for string type --- String repetation operator.\n",
    "\n",
    "'Rahul' * 3\n"
   ]
  },
  {
   "cell_type": "code",
   "execution_count": 15,
   "id": "bdb30786",
   "metadata": {},
   "outputs": [
    {
     "ename": "TypeError",
     "evalue": "can't multiply sequence by non-int of type 'str'",
     "output_type": "error",
     "traceback": [
      "\u001b[1;31m---------------------------------------------------------------------------\u001b[0m",
      "\u001b[1;31mTypeError\u001b[0m                                 Traceback (most recent call last)",
      "\u001b[1;32m<ipython-input-15-28dd83b7303e>\u001b[0m in \u001b[0;36m<module>\u001b[1;34m\u001b[0m\n\u001b[1;32m----> 1\u001b[1;33m \u001b[1;34m'Rahul'\u001b[0m \u001b[1;33m*\u001b[0m \u001b[1;34m'3'\u001b[0m\u001b[1;33m\u001b[0m\u001b[1;33m\u001b[0m\u001b[0m\n\u001b[0m",
      "\u001b[1;31mTypeError\u001b[0m: can't multiply sequence by non-int of type 'str'"
     ]
    }
   ],
   "source": [
    "'Rahul' * '3'"
   ]
  },
  {
   "cell_type": "code",
   "execution_count": 16,
   "id": "02fd1cb3",
   "metadata": {},
   "outputs": [
    {
     "ename": "TypeError",
     "evalue": "can't multiply sequence by non-int of type 'str'",
     "output_type": "error",
     "traceback": [
      "\u001b[1;31m---------------------------------------------------------------------------\u001b[0m",
      "\u001b[1;31mTypeError\u001b[0m                                 Traceback (most recent call last)",
      "\u001b[1;32m<ipython-input-16-cf40558fa9f9>\u001b[0m in \u001b[0;36m<module>\u001b[1;34m\u001b[0m\n\u001b[1;32m----> 1\u001b[1;33m \u001b[1;34m'Rahul'\u001b[0m\u001b[1;33m*\u001b[0m \u001b[0mstr\u001b[0m\u001b[1;33m(\u001b[0m\u001b[1;36m3\u001b[0m\u001b[1;33m)\u001b[0m\u001b[1;33m\u001b[0m\u001b[1;33m\u001b[0m\u001b[0m\n\u001b[0m",
      "\u001b[1;31mTypeError\u001b[0m: can't multiply sequence by non-int of type 'str'"
     ]
    }
   ],
   "source": [
    "'Rahul'* str(3)"
   ]
  },
  {
   "cell_type": "code",
   "execution_count": 18,
   "id": "7b6fffb6",
   "metadata": {},
   "outputs": [
    {
     "ename": "TypeError",
     "evalue": "can't multiply sequence by non-int of type 'float'",
     "output_type": "error",
     "traceback": [
      "\u001b[1;31m---------------------------------------------------------------------------\u001b[0m",
      "\u001b[1;31mTypeError\u001b[0m                                 Traceback (most recent call last)",
      "\u001b[1;32m<ipython-input-18-f2623558daa1>\u001b[0m in \u001b[0;36m<module>\u001b[1;34m\u001b[0m\n\u001b[1;32m----> 1\u001b[1;33m \u001b[1;34m'Rahul'\u001b[0m \u001b[1;33m*\u001b[0m \u001b[1;36m3.0\u001b[0m \u001b[1;31m# Always expecting int type only.\u001b[0m\u001b[1;33m\u001b[0m\u001b[1;33m\u001b[0m\u001b[0m\n\u001b[0m",
      "\u001b[1;31mTypeError\u001b[0m: can't multiply sequence by non-int of type 'float'"
     ]
    }
   ],
   "source": [
    "'Rahul' * 3.0 # Always expecting int type only."
   ]
  },
  {
   "cell_type": "code",
   "execution_count": 20,
   "id": "76afc950",
   "metadata": {},
   "outputs": [
    {
     "data": {
      "text/plain": [
       "'RahulRahul'"
      ]
     },
     "execution_count": 20,
     "metadata": {},
     "output_type": "execute_result"
    }
   ],
   "source": [
    "2*'Rahul' # order is not importanta"
   ]
  },
  {
   "cell_type": "code",
   "execution_count": 21,
   "id": "ffb0c31e",
   "metadata": {},
   "outputs": [
    {
     "ename": "ZeroDivisionError",
     "evalue": "division by zero",
     "output_type": "error",
     "traceback": [
      "\u001b[1;31m---------------------------------------------------------------------------\u001b[0m",
      "\u001b[1;31mZeroDivisionError\u001b[0m                         Traceback (most recent call last)",
      "\u001b[1;32m<ipython-input-21-e574edb36883>\u001b[0m in \u001b[0;36m<module>\u001b[1;34m\u001b[0m\n\u001b[1;32m----> 1\u001b[1;33m \u001b[1;36m10\u001b[0m\u001b[1;33m/\u001b[0m\u001b[1;36m0\u001b[0m\u001b[1;33m\u001b[0m\u001b[1;33m\u001b[0m\u001b[0m\n\u001b[0m",
      "\u001b[1;31mZeroDivisionError\u001b[0m: division by zero"
     ]
    }
   ],
   "source": [
    "10/0"
   ]
  },
  {
   "cell_type": "code",
   "execution_count": 22,
   "id": "66f49a7a",
   "metadata": {},
   "outputs": [
    {
     "ename": "ZeroDivisionError",
     "evalue": "integer division or modulo by zero",
     "output_type": "error",
     "traceback": [
      "\u001b[1;31m---------------------------------------------------------------------------\u001b[0m",
      "\u001b[1;31mZeroDivisionError\u001b[0m                         Traceback (most recent call last)",
      "\u001b[1;32m<ipython-input-22-adb5753def1b>\u001b[0m in \u001b[0;36m<module>\u001b[1;34m\u001b[0m\n\u001b[1;32m----> 1\u001b[1;33m \u001b[1;36m10\u001b[0m\u001b[1;33m//\u001b[0m\u001b[1;36m0\u001b[0m\u001b[1;33m\u001b[0m\u001b[1;33m\u001b[0m\u001b[0m\n\u001b[0m",
      "\u001b[1;31mZeroDivisionError\u001b[0m: integer division or modulo by zero"
     ]
    }
   ],
   "source": [
    "10//0"
   ]
  },
  {
   "cell_type": "code",
   "execution_count": 23,
   "id": "a7587353",
   "metadata": {},
   "outputs": [
    {
     "ename": "ZeroDivisionError",
     "evalue": "integer division or modulo by zero",
     "output_type": "error",
     "traceback": [
      "\u001b[1;31m---------------------------------------------------------------------------\u001b[0m",
      "\u001b[1;31mZeroDivisionError\u001b[0m                         Traceback (most recent call last)",
      "\u001b[1;32m<ipython-input-23-3e1bfe6920c0>\u001b[0m in \u001b[0;36m<module>\u001b[1;34m\u001b[0m\n\u001b[1;32m----> 1\u001b[1;33m \u001b[1;36m10\u001b[0m\u001b[1;33m%\u001b[0m\u001b[1;36m0\u001b[0m\u001b[1;33m\u001b[0m\u001b[1;33m\u001b[0m\u001b[0m\n\u001b[0m",
      "\u001b[1;31mZeroDivisionError\u001b[0m: integer division or modulo by zero"
     ]
    }
   ],
   "source": [
    "10%0"
   ]
  },
  {
   "cell_type": "code",
   "execution_count": 24,
   "id": "5f6b6c86",
   "metadata": {},
   "outputs": [
    {
     "data": {
      "text/plain": [
       "1"
      ]
     },
     "execution_count": 24,
     "metadata": {},
     "output_type": "execute_result"
    }
   ],
   "source": [
    "10**0"
   ]
  },
  {
   "cell_type": "code",
   "execution_count": 25,
   "id": "fe6d3a20",
   "metadata": {},
   "outputs": [],
   "source": [
    "#Relational operator"
   ]
  },
  {
   "cell_type": "code",
   "execution_count": 26,
   "id": "f325ab11",
   "metadata": {},
   "outputs": [
    {
     "name": "stdout",
     "output_type": "stream",
     "text": [
      "a>b: False\n",
      "a>=b: False\n",
      "a<b: True\n",
      "a<=b: True\n"
     ]
    }
   ],
   "source": [
    "a = 10\n",
    "b = 20\n",
    "#>\n",
    "#<\n",
    "#>=\n",
    "#<=\n",
    "print('a>b:', a>b)\n",
    "print('a>=b:', a>=b)\n",
    "print('a<b:', a<b)\n",
    "print('a<=b:', a<=b)"
   ]
  },
  {
   "cell_type": "code",
   "execution_count": 27,
   "id": "eb14532a",
   "metadata": {},
   "outputs": [
    {
     "name": "stdout",
     "output_type": "stream",
     "text": [
      "a>b: False\n",
      "a>=b: False\n",
      "a<b: True\n",
      "a<=b: True\n"
     ]
    }
   ],
   "source": [
    "a = 'Rahul' # here it will see the length of string.\n",
    "b= 'Tiwari'\n",
    "print('a>b:', a>b)\n",
    "print('a>=b:', a>=b)\n",
    "print('a<b:', a<b)\n",
    "print('a<=b:', a<=b)"
   ]
  },
  {
   "cell_type": "code",
   "execution_count": 28,
   "id": "847ea0a4",
   "metadata": {},
   "outputs": [
    {
     "name": "stdout",
     "output_type": "stream",
     "text": [
      "a>b: False\n",
      "a>=b: False\n",
      "a<b: True\n",
      "a<=b: True\n"
     ]
    }
   ],
   "source": [
    "a= 'Rahul' # with respect to unicode values.\n",
    "b= 'rahul'\n",
    "print('a>b:', a>b)\n",
    "print('a>=b:', a>=b)\n",
    "print('a<b:', a<b)\n",
    "print('a<=b:', a<=b)"
   ]
  },
  {
   "cell_type": "code",
   "execution_count": 30,
   "id": "de54fdb3",
   "metadata": {},
   "outputs": [
    {
     "name": "stdout",
     "output_type": "stream",
     "text": [
      "a>b: True\n",
      "a>=b: True\n",
      "a<b: False\n",
      "a<=b: False\n"
     ]
    }
   ],
   "source": [
    "a = True # Internallt true is 1 and false is 0\n",
    "b = False\n",
    "print('a>b:', a>b)\n",
    "print('a>=b:', a>=b)\n",
    "print('a<b:', a<b)\n",
    "print('a<=b:', a<=b)"
   ]
  },
  {
   "cell_type": "code",
   "execution_count": 31,
   "id": "abef2352",
   "metadata": {},
   "outputs": [
    {
     "data": {
      "text/plain": [
       "False"
      ]
     },
     "execution_count": 31,
     "metadata": {},
     "output_type": "execute_result"
    }
   ],
   "source": [
    "10<20<12# Chaining of relational operator is possible and every comparison should be True to get output as True and if any value is false the output will be False."
   ]
  },
  {
   "cell_type": "code",
   "execution_count": 32,
   "id": "08355fdf",
   "metadata": {},
   "outputs": [
    {
     "data": {
      "text/plain": [
       "True"
      ]
     },
     "execution_count": 32,
     "metadata": {},
     "output_type": "execute_result"
    }
   ],
   "source": [
    "10<20<30"
   ]
  },
  {
   "cell_type": "code",
   "execution_count": 34,
   "id": "e6404afc",
   "metadata": {},
   "outputs": [],
   "source": [
    "# Equality Operator # content comparison\n",
    "# ==\n",
    "# !=\n",
    "\n",
    "# When you want to to content comparision equality operator comes into picture.\n",
    "    "
   ]
  },
  {
   "cell_type": "code",
   "execution_count": 35,
   "id": "9bace26f",
   "metadata": {},
   "outputs": [
    {
     "data": {
      "text/plain": [
       "False"
      ]
     },
     "execution_count": 35,
     "metadata": {},
     "output_type": "execute_result"
    }
   ],
   "source": [
    "10==20"
   ]
  },
  {
   "cell_type": "code",
   "execution_count": 36,
   "id": "b994bcf1",
   "metadata": {},
   "outputs": [
    {
     "data": {
      "text/plain": [
       "True"
      ]
     },
     "execution_count": 36,
     "metadata": {},
     "output_type": "execute_result"
    }
   ],
   "source": [
    "10!=20"
   ]
  },
  {
   "cell_type": "code",
   "execution_count": 37,
   "id": "a7ecbc23",
   "metadata": {},
   "outputs": [
    {
     "data": {
      "text/plain": [
       "False"
      ]
     },
     "execution_count": 37,
     "metadata": {},
     "output_type": "execute_result"
    }
   ],
   "source": [
    "10==True"
   ]
  },
  {
   "cell_type": "code",
   "execution_count": 38,
   "id": "2b6648f9",
   "metadata": {},
   "outputs": [
    {
     "data": {
      "text/plain": [
       "True"
      ]
     },
     "execution_count": 38,
     "metadata": {},
     "output_type": "execute_result"
    }
   ],
   "source": [
    "False==False"
   ]
  },
  {
   "cell_type": "code",
   "execution_count": 41,
   "id": "3a170860",
   "metadata": {},
   "outputs": [
    {
     "data": {
      "text/plain": [
       "False"
      ]
     },
     "execution_count": 41,
     "metadata": {},
     "output_type": "execute_result"
    }
   ],
   "source": [
    "10==20==30# CHAINING IS POSSIBLE\n"
   ]
  },
  {
   "cell_type": "code",
   "execution_count": 42,
   "id": "96c1c08b",
   "metadata": {},
   "outputs": [
    {
     "data": {
      "text/plain": [
       "True"
      ]
     },
     "execution_count": 42,
     "metadata": {},
     "output_type": "execute_result"
    }
   ],
   "source": [
    "10+2j == 10+2j"
   ]
  },
  {
   "cell_type": "code",
   "execution_count": 43,
   "id": "b2e53660",
   "metadata": {},
   "outputs": [
    {
     "data": {
      "text/plain": [
       "True"
      ]
     },
     "execution_count": 43,
     "metadata": {},
     "output_type": "execute_result"
    }
   ],
   "source": [
    "10==10.0"
   ]
  },
  {
   "cell_type": "code",
   "execution_count": 44,
   "id": "30d42ea5",
   "metadata": {},
   "outputs": [
    {
     "data": {
      "text/plain": [
       "True"
      ]
     },
     "execution_count": 44,
     "metadata": {},
     "output_type": "execute_result"
    }
   ],
   "source": [
    "1==True"
   ]
  },
  {
   "cell_type": "code",
   "execution_count": 45,
   "id": "0485280e",
   "metadata": {},
   "outputs": [
    {
     "data": {
      "text/plain": [
       "True"
      ]
     },
     "execution_count": 45,
     "metadata": {},
     "output_type": "execute_result"
    }
   ],
   "source": [
    "0==False"
   ]
  },
  {
   "cell_type": "code",
   "execution_count": 1,
   "id": "eb051aca",
   "metadata": {},
   "outputs": [],
   "source": [
    "#Logical Operator\n",
    "# and -> If all the arguments are true then True Only\n",
    "# or -> Atleast one true is required to get True\n",
    "# not\n",
    "#"
   ]
  },
  {
   "cell_type": "code",
   "execution_count": 2,
   "id": "0eb2c99a",
   "metadata": {},
   "outputs": [
    {
     "data": {
      "text/plain": [
       "True"
      ]
     },
     "execution_count": 2,
     "metadata": {},
     "output_type": "execute_result"
    }
   ],
   "source": [
    "True and True\n"
   ]
  },
  {
   "cell_type": "code",
   "execution_count": 3,
   "id": "0db2bd04",
   "metadata": {},
   "outputs": [
    {
     "data": {
      "text/plain": [
       "False"
      ]
     },
     "execution_count": 3,
     "metadata": {},
     "output_type": "execute_result"
    }
   ],
   "source": [
    "True and False"
   ]
  },
  {
   "cell_type": "code",
   "execution_count": 4,
   "id": "880d1a72",
   "metadata": {},
   "outputs": [
    {
     "data": {
      "text/plain": [
       "True"
      ]
     },
     "execution_count": 4,
     "metadata": {},
     "output_type": "execute_result"
    }
   ],
   "source": [
    "False or True"
   ]
  },
  {
   "cell_type": "code",
   "execution_count": 5,
   "id": "9606e9d8",
   "metadata": {},
   "outputs": [
    {
     "data": {
      "text/plain": [
       "False"
      ]
     },
     "execution_count": 5,
     "metadata": {},
     "output_type": "execute_result"
    }
   ],
   "source": [
    "not True"
   ]
  },
  {
   "cell_type": "code",
   "execution_count": 8,
   "id": "85402a91",
   "metadata": {},
   "outputs": [
    {
     "data": {
      "text/plain": [
       "20"
      ]
     },
     "execution_count": 8,
     "metadata": {},
     "output_type": "execute_result"
    }
   ],
   "source": [
    "10 and 20\n",
    "# 0 means false\n",
    "#non zero means True\n",
    "# Empty string is False\n",
    "x =10\n",
    "y = 20\n",
    "#If x evaluates to false the the result is x, otherwise y\n",
    "\n",
    "x and y\n",
    "\n"
   ]
  },
  {
   "cell_type": "code",
   "execution_count": 9,
   "id": "13374511",
   "metadata": {},
   "outputs": [
    {
     "data": {
      "text/plain": [
       "''"
      ]
     },
     "execution_count": 9,
     "metadata": {},
     "output_type": "execute_result"
    }
   ],
   "source": [
    "x= ''\n",
    "y = 20\n",
    "x and y"
   ]
  },
  {
   "cell_type": "code",
   "execution_count": 10,
   "id": "e361014d",
   "metadata": {},
   "outputs": [
    {
     "data": {
      "text/plain": [
       "10"
      ]
     },
     "execution_count": 10,
     "metadata": {},
     "output_type": "execute_result"
    }
   ],
   "source": [
    "x= 20\n",
    "y =10\n",
    "x and y"
   ]
  },
  {
   "cell_type": "code",
   "execution_count": 11,
   "id": "3311bc28",
   "metadata": {},
   "outputs": [
    {
     "data": {
      "text/plain": [
       "False"
      ]
     },
     "execution_count": 11,
     "metadata": {},
     "output_type": "execute_result"
    }
   ],
   "source": [
    "not 10"
   ]
  },
  {
   "cell_type": "code",
   "execution_count": 12,
   "id": "6d5c6fc9",
   "metadata": {},
   "outputs": [
    {
     "data": {
      "text/plain": [
       "True"
      ]
     },
     "execution_count": 12,
     "metadata": {},
     "output_type": "execute_result"
    }
   ],
   "source": [
    "not ''"
   ]
  },
  {
   "cell_type": "code",
   "execution_count": 13,
   "id": "2c1eb65a",
   "metadata": {},
   "outputs": [
    {
     "data": {
      "text/plain": [
       "True"
      ]
     },
     "execution_count": 13,
     "metadata": {},
     "output_type": "execute_result"
    }
   ],
   "source": [
    "not 0"
   ]
  },
  {
   "cell_type": "code",
   "execution_count": 14,
   "id": "a7ee9758",
   "metadata": {},
   "outputs": [
    {
     "ename": "ZeroDivisionError",
     "evalue": "division by zero",
     "output_type": "error",
     "traceback": [
      "\u001b[1;31m---------------------------------------------------------------------------\u001b[0m",
      "\u001b[1;31mZeroDivisionError\u001b[0m                         Traceback (most recent call last)",
      "\u001b[1;32m<ipython-input-14-4ea6575d6d0f>\u001b[0m in \u001b[0;36m<module>\u001b[1;34m\u001b[0m\n\u001b[1;32m----> 1\u001b[1;33m \u001b[1;36m0\u001b[0m \u001b[1;32mor\u001b[0m \u001b[1;36m10\u001b[0m\u001b[1;33m/\u001b[0m\u001b[1;36m0\u001b[0m\u001b[1;33m\u001b[0m\u001b[1;33m\u001b[0m\u001b[0m\n\u001b[0m",
      "\u001b[1;31mZeroDivisionError\u001b[0m: division by zero"
     ]
    }
   ],
   "source": [
    "0 or 10/0"
   ]
  },
  {
   "cell_type": "code",
   "execution_count": 16,
   "id": "1bfb177b",
   "metadata": {},
   "outputs": [
    {
     "name": "stdout",
     "output_type": "stream",
     "text": [
      "30\n"
     ]
    }
   ],
   "source": [
    "#ternary operator\n",
    "\n",
    "x=30 if 10<20 else 40\n",
    "print(x)"
   ]
  },
  {
   "cell_type": "code",
   "execution_count": 17,
   "id": "b413df09",
   "metadata": {},
   "outputs": [
    {
     "name": "stdout",
     "output_type": "stream",
     "text": [
      "40\n"
     ]
    }
   ],
   "source": [
    "\n",
    "x=30 if 10>20 else 40\n",
    "print(x)"
   ]
  },
  {
   "cell_type": "code",
   "execution_count": 18,
   "id": "d36317cc",
   "metadata": {},
   "outputs": [
    {
     "name": "stdout",
     "output_type": "stream",
     "text": [
      "Enter first number:4\n",
      "Enter Second number:5\n",
      "Min value: 4\n"
     ]
    }
   ],
   "source": [
    "a = int(input('Enter first number:'))\n",
    "b = int(input('Enter Second number:'))\n",
    "x = a if a<b else b\n",
    "print('Min value:', x)"
   ]
  },
  {
   "cell_type": "code",
   "execution_count": 19,
   "id": "3887f82e",
   "metadata": {},
   "outputs": [],
   "source": [
    "# x = firstvalue if condition 1 else second value if condition 2 else third value."
   ]
  },
  {
   "cell_type": "code",
   "execution_count": 20,
   "id": "be6c75fc",
   "metadata": {},
   "outputs": [
    {
     "name": "stdout",
     "output_type": "stream",
     "text": [
      "Enter first number:5\n",
      "Enter Second number:4\n",
      "Enter Third number:2\n",
      "5\n"
     ]
    }
   ],
   "source": [
    "a = int(input('Enter first number:'))\n",
    "b = int(input('Enter Second number:'))\n",
    "c = int(input('Enter Third number:'))\n",
    "x= a if a>b>c else b if b>c else c\n",
    "print(x)\n",
    "    \n"
   ]
  },
  {
   "cell_type": "code",
   "execution_count": 21,
   "id": "ff468f9a",
   "metadata": {},
   "outputs": [
    {
     "name": "stdout",
     "output_type": "stream",
     "text": [
      "Enter first number:7\n",
      "Enter Second number:4\n",
      "Enter Third number:6\n",
      "6\n"
     ]
    }
   ],
   "source": [
    "a = int(input('Enter first number:'))\n",
    "b = int(input('Enter Second number:'))\n",
    "c = int(input('Enter Third number:'))\n",
    "x= a if a>b>c else b if b>c else c\n",
    "print(x)"
   ]
  },
  {
   "cell_type": "code",
   "execution_count": 22,
   "id": "5a83759f",
   "metadata": {},
   "outputs": [
    {
     "name": "stdout",
     "output_type": "stream",
     "text": [
      "Enter first number:7\n",
      "Enter Second number:4\n",
      "Enter Third number:6\n",
      "7\n"
     ]
    }
   ],
   "source": [
    "a = int(input('Enter first number:'))\n",
    "b = int(input('Enter Second number:'))\n",
    "c = int(input('Enter Third number:'))\n",
    "x= a if a>b and a>c else b if b>c else c\n",
    "print(x)"
   ]
  },
  {
   "cell_type": "code",
   "execution_count": 23,
   "id": "0bad3352",
   "metadata": {},
   "outputs": [
    {
     "name": "stdout",
     "output_type": "stream",
     "text": [
      "Enter first number:7\n",
      "Enter Second number:5\n",
      "First Number is greater than second\n"
     ]
    }
   ],
   "source": [
    "a = int(input('Enter first number:'))\n",
    "b = int(input('Enter Second number:'))\n",
    "print('Both number are equal' if a==b else 'First Number is greater than second' \n",
    "      if a>b else 'First Number is smaller than second')"
   ]
  },
  {
   "cell_type": "code",
   "execution_count": 24,
   "id": "f89d5177",
   "metadata": {},
   "outputs": [
    {
     "name": "stdout",
     "output_type": "stream",
     "text": [
      "Enter first number:5\n",
      "Enter Second number:7\n",
      "First Number is smaller than second\n"
     ]
    }
   ],
   "source": [
    "a = int(input('Enter first number:'))\n",
    "b = int(input('Enter Second number:'))\n",
    "print('Both number are equal' if a==b else 'First Number is greater than second' \n",
    "      if a>b else 'First Number is smaller than second')"
   ]
  },
  {
   "cell_type": "code",
   "execution_count": 1,
   "id": "0e7a37d6",
   "metadata": {},
   "outputs": [
    {
     "ename": "IndentationError",
     "evalue": "unexpected indent (<ipython-input-1-b0c066ba4df3>, line 6)",
     "output_type": "error",
     "traceback": [
      "\u001b[1;36m  File \u001b[1;32m\"<ipython-input-1-b0c066ba4df3>\"\u001b[1;36m, line \u001b[1;32m6\u001b[0m\n\u001b[1;33m    1 -> 0 and 0->1\u001b[0m\n\u001b[1;37m    ^\u001b[0m\n\u001b[1;31mIndentationError\u001b[0m\u001b[1;31m:\u001b[0m unexpected indent\n"
     ]
    }
   ],
   "source": [
    "#Bitwise Operator\n",
    "# & -> If both bits are 1 then only 1 otherwise 0.\n",
    "# |-> If atleast one bit is 1 then 1 otherwise 0\n",
    "# ^ -> If both bits are different then 1 otherwise 0.\n",
    "# ~ -> Bitwise complement operator\n",
    "   1 -> 0 and 0->1\n",
    "#<< -> Bitwise left shift\n",
    "# >> -> Bitwise right shift\n"
   ]
  },
  {
   "cell_type": "code",
   "execution_count": 2,
   "id": "7d2acbb0",
   "metadata": {},
   "outputs": [
    {
     "data": {
      "text/plain": [
       "4"
      ]
     },
     "execution_count": 2,
     "metadata": {},
     "output_type": "execute_result"
    }
   ],
   "source": [
    "4 & 5 #converting to binary"
   ]
  },
  {
   "cell_type": "code",
   "execution_count": 4,
   "id": "2bf0d66d",
   "metadata": {},
   "outputs": [
    {
     "data": {
      "text/plain": [
       "5"
      ]
     },
     "execution_count": 4,
     "metadata": {},
     "output_type": "execute_result"
    }
   ],
   "source": [
    "4|5"
   ]
  },
  {
   "cell_type": "code",
   "execution_count": 5,
   "id": "242e3806",
   "metadata": {},
   "outputs": [
    {
     "data": {
      "text/plain": [
       "1"
      ]
     },
     "execution_count": 5,
     "metadata": {},
     "output_type": "execute_result"
    }
   ],
   "source": [
    "4^5"
   ]
  },
  {
   "cell_type": "code",
   "execution_count": 6,
   "id": "9a830240",
   "metadata": {},
   "outputs": [
    {
     "data": {
      "text/plain": [
       "-5"
      ]
     },
     "execution_count": 6,
     "metadata": {},
     "output_type": "execute_result"
    }
   ],
   "source": [
    "~4 # in binary 32bit the first digit gives the sign(0- positive, 1 negative)"
   ]
  },
  {
   "cell_type": "code",
   "execution_count": 7,
   "id": "1676f664",
   "metadata": {},
   "outputs": [
    {
     "data": {
      "text/plain": [
       "40"
      ]
     },
     "execution_count": 7,
     "metadata": {},
     "output_type": "execute_result"
    }
   ],
   "source": [
    "10<<2"
   ]
  },
  {
   "cell_type": "code",
   "execution_count": 8,
   "id": "a857e429",
   "metadata": {},
   "outputs": [
    {
     "data": {
      "text/plain": [
       "2"
      ]
     },
     "execution_count": 8,
     "metadata": {},
     "output_type": "execute_result"
    }
   ],
   "source": [
    "10>>2"
   ]
  },
  {
   "cell_type": "code",
   "execution_count": 11,
   "id": "70eea6ce",
   "metadata": {},
   "outputs": [],
   "source": [
    "#Compound Assignment Operator\n",
    "\n",
    "+=\n",
    "-=\n",
    "*=\n",
    "/=\n",
    "%=\n",
    "//=\n",
    "**=\n",
    "&=\n",
    "|=\n",
    "^=\n",
    ">>=\n",
    "<<=\n",
    "\n",
    "x=100\n",
    "x +=10"
   ]
  },
  {
   "cell_type": "code",
   "execution_count": 12,
   "id": "59c711f6",
   "metadata": {},
   "outputs": [
    {
     "data": {
      "text/plain": [
       "110"
      ]
     },
     "execution_count": 12,
     "metadata": {},
     "output_type": "execute_result"
    }
   ],
   "source": [
    "x"
   ]
  },
  {
   "cell_type": "code",
   "execution_count": 13,
   "id": "a589cb9d",
   "metadata": {},
   "outputs": [],
   "source": [
    "# Special Operators\n",
    "#1) Identity operators\n",
    "#2) Membership Operators"
   ]
  },
  {
   "cell_type": "code",
   "execution_count": 14,
   "id": "77d93a49",
   "metadata": {},
   "outputs": [],
   "source": [
    "# Identity Operators\n",
    "#is\n",
    "#is not"
   ]
  },
  {
   "cell_type": "code",
   "execution_count": 18,
   "id": "a0deaa39",
   "metadata": {},
   "outputs": [
    {
     "name": "stdout",
     "output_type": "stream",
     "text": [
      "140711801792592\n",
      "140711801792912\n",
      "False\n"
     ]
    }
   ],
   "source": [
    "a=10\n",
    "b=20\n",
    "print(id(a))\n",
    "print(id(b))\n",
    "print(a is b)"
   ]
  },
  {
   "cell_type": "code",
   "execution_count": 19,
   "id": "8314d349",
   "metadata": {},
   "outputs": [
    {
     "name": "stdout",
     "output_type": "stream",
     "text": [
      "140711801792592\n",
      "140711801792592\n",
      "True\n"
     ]
    }
   ],
   "source": [
    "a=10\n",
    "b=10\n",
    "print(id(a))\n",
    "print(id(b))\n",
    "print(a is b)"
   ]
  },
  {
   "cell_type": "code",
   "execution_count": 17,
   "id": "d27d6ed2",
   "metadata": {},
   "outputs": [
    {
     "name": "stdout",
     "output_type": "stream",
     "text": [
      "False\n"
     ]
    }
   ],
   "source": [
    "list1 = [10,20,30]\n",
    "list2 = [10,20,30]\n",
    "print(list1 is list2)"
   ]
  },
  {
   "cell_type": "code",
   "execution_count": 21,
   "id": "dc61b5a8",
   "metadata": {},
   "outputs": [
    {
     "data": {
      "text/plain": [
       "True"
      ]
     },
     "execution_count": 21,
     "metadata": {},
     "output_type": "execute_result"
    }
   ],
   "source": [
    "#membership operator\n",
    "list1\n",
    "10 in list1"
   ]
  },
  {
   "cell_type": "code",
   "execution_count": 22,
   "id": "b9955166",
   "metadata": {},
   "outputs": [
    {
     "name": "stdout",
     "output_type": "stream",
     "text": [
      "True\n",
      "True\n",
      "True\n",
      "False\n"
     ]
    }
   ],
   "source": [
    "string = 'Hello all, learning python is very very simple'\n",
    "print('Hello' in string)\n",
    "print('l' in string)\n",
    "print(' ' in string)\n",
    "print('Z' in string)\n"
   ]
  },
  {
   "cell_type": "code",
   "execution_count": 24,
   "id": "9c50dc4f",
   "metadata": {},
   "outputs": [],
   "source": [
    "# Precedence in python\n",
    "# ()\n",
    "# **\n",
    "# ~, -(number negative)\n",
    "# *, /, %, //\n",
    "# +, - \n",
    "# <<, >>\n",
    "#&\n",
    "#^\n",
    "#|\n",
    "# >,<, <=,>=,==,|=\n",
    "# +=, -=, *=,=,\n",
    "#is, is not\n",
    "# in , not in\n",
    "#not\n",
    "#and\n",
    "#or\n",
    "\n"
   ]
  },
  {
   "cell_type": "code",
   "execution_count": 25,
   "id": "f227becb",
   "metadata": {},
   "outputs": [],
   "source": [
    "# Libraries\n",
    "# Modules- A group of function, class or variables"
   ]
  },
  {
   "cell_type": "code",
   "execution_count": 26,
   "id": "0c78e485",
   "metadata": {},
   "outputs": [
    {
     "data": {
      "text/plain": [
       "10.0"
      ]
     },
     "execution_count": 26,
     "metadata": {},
     "output_type": "execute_result"
    }
   ],
   "source": [
    "import math\n",
    "math.sqrt(100)"
   ]
  },
  {
   "cell_type": "code",
   "execution_count": 27,
   "id": "7ddfcfc4",
   "metadata": {},
   "outputs": [
    {
     "data": {
      "text/plain": [
       "3.141592653589793"
      ]
     },
     "execution_count": 27,
     "metadata": {},
     "output_type": "execute_result"
    }
   ],
   "source": [
    "math.pi"
   ]
  },
  {
   "cell_type": "code",
   "execution_count": 28,
   "id": "7efd99f7",
   "metadata": {},
   "outputs": [
    {
     "data": {
      "text/plain": [
       "31.622776601683793"
      ]
     },
     "execution_count": 28,
     "metadata": {},
     "output_type": "execute_result"
    }
   ],
   "source": [
    "from math import sqrt, pi\n",
    "sqrt(1000)"
   ]
  },
  {
   "cell_type": "code",
   "execution_count": 29,
   "id": "e4d51e97",
   "metadata": {},
   "outputs": [],
   "source": [
    "from math import *"
   ]
  },
  {
   "cell_type": "code",
   "execution_count": 30,
   "id": "104f32ca",
   "metadata": {},
   "outputs": [
    {
     "data": {
      "text/plain": [
       "4.0"
      ]
     },
     "execution_count": 30,
     "metadata": {},
     "output_type": "execute_result"
    }
   ],
   "source": [
    "log10(10000)"
   ]
  },
  {
   "cell_type": "code",
   "execution_count": null,
   "id": "514d9a34",
   "metadata": {},
   "outputs": [],
   "source": []
  }
 ],
 "metadata": {
  "kernelspec": {
   "display_name": "Python 3",
   "language": "python",
   "name": "python3"
  },
  "language_info": {
   "codemirror_mode": {
    "name": "ipython",
    "version": 3
   },
   "file_extension": ".py",
   "mimetype": "text/x-python",
   "name": "python",
   "nbconvert_exporter": "python",
   "pygments_lexer": "ipython3",
   "version": "3.8.8"
  }
 },
 "nbformat": 4,
 "nbformat_minor": 5
}
