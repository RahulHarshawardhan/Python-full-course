{
 "cells": [
  {
   "cell_type": "code",
   "execution_count": 2,
   "id": "2c1fa5f2",
   "metadata": {},
   "outputs": [
    {
     "name": "stdout",
     "output_type": "stream",
     "text": [
      "Enter your age3\n"
     ]
    }
   ],
   "source": [
    "a = input(\"Enter your age\")"
   ]
  },
  {
   "cell_type": "code",
   "execution_count": 4,
   "id": "b8a65c9b",
   "metadata": {},
   "outputs": [
    {
     "data": {
      "text/plain": [
       "str"
      ]
     },
     "execution_count": 4,
     "metadata": {},
     "output_type": "execute_result"
    }
   ],
   "source": [
    "type(a)"
   ]
  },
  {
   "cell_type": "code",
   "execution_count": 5,
   "id": "5a0db87e",
   "metadata": {},
   "outputs": [
    {
     "ename": "NameError",
     "evalue": "name 'raw_input' is not defined",
     "output_type": "error",
     "traceback": [
      "\u001b[1;31m---------------------------------------------------------------------------\u001b[0m",
      "\u001b[1;31mNameError\u001b[0m                                 Traceback (most recent call last)",
      "\u001b[1;32m<ipython-input-5-99943ff2772c>\u001b[0m in \u001b[0;36m<module>\u001b[1;34m\u001b[0m\n\u001b[1;32m----> 1\u001b[1;33m \u001b[0mraw_input\u001b[0m\u001b[1;33m(\u001b[0m\u001b[1;34m'Enter some number:'\u001b[0m\u001b[1;33m)\u001b[0m\u001b[1;33m\u001b[0m\u001b[1;33m\u001b[0m\u001b[0m\n\u001b[0m\u001b[0;32m      2\u001b[0m \u001b[0minput\u001b[0m\u001b[1;33m(\u001b[0m\u001b[1;34m'Enter some number'\u001b[0m\u001b[1;33m)\u001b[0m\u001b[1;33m\u001b[0m\u001b[1;33m\u001b[0m\u001b[0m\n",
      "\u001b[1;31mNameError\u001b[0m: name 'raw_input' is not defined"
     ]
    }
   ],
   "source": [
    "raw_input('Enter some number:') \n",
    "input('Enter some number')"
   ]
  },
  {
   "cell_type": "code",
   "execution_count": 1,
   "id": "43afd518",
   "metadata": {},
   "outputs": [
    {
     "name": "stdout",
     "output_type": "stream",
     "text": [
      "enter some number23\n"
     ]
    }
   ],
   "source": [
    "a= int(input(\"enter some number\"))"
   ]
  },
  {
   "cell_type": "code",
   "execution_count": 2,
   "id": "cfa75361",
   "metadata": {},
   "outputs": [
    {
     "data": {
      "text/plain": [
       "int"
      ]
     },
     "execution_count": 2,
     "metadata": {},
     "output_type": "execute_result"
    }
   ],
   "source": [
    "type(a)"
   ]
  },
  {
   "cell_type": "code",
   "execution_count": 5,
   "id": "85fdca67",
   "metadata": {},
   "outputs": [
    {
     "name": "stdout",
     "output_type": "stream",
     "text": [
      "Enter first number23\n",
      "Enter second number33\n",
      "The sum is: 56\n"
     ]
    }
   ],
   "source": [
    "x = input(\"Enter first number\")\n",
    "y = input(\"Enter second number\")\n",
    "i = int(x)\n",
    "j = int(y)\n",
    "print(\"The sum is:\", i+j)"
   ]
  },
  {
   "cell_type": "code",
   "execution_count": 1,
   "id": "7ff1e83f",
   "metadata": {},
   "outputs": [
    {
     "name": "stdout",
     "output_type": "stream",
     "text": [
      "Enter first number23\n",
      "enter second number33\n",
      "The sum is: 56\n"
     ]
    }
   ],
   "source": [
    "x = int(input('Enter first number'))\n",
    "y = int(input(\"enter second number\"))\n",
    "print(\"The sum is:\", x+y)"
   ]
  },
  {
   "cell_type": "code",
   "execution_count": 2,
   "id": "b1321fcd",
   "metadata": {},
   "outputs": [
    {
     "name": "stdout",
     "output_type": "stream",
     "text": [
      "enter first number23\n",
      "Enter second number33\n",
      "The sum is: 56\n"
     ]
    }
   ],
   "source": [
    "print('The sum is:', int(input(\"enter first number\"))+ int(input('Enter second number')))"
   ]
  },
  {
   "cell_type": "code",
   "execution_count": 6,
   "id": "12238281",
   "metadata": {},
   "outputs": [
    {
     "name": "stdout",
     "output_type": "stream",
     "text": [
      "Enter the employee number:100\n",
      "Enter the employee name:rAHUL\n",
      "Enter the employee number:GURGOAN\n",
      "Enter your salary:156464\n",
      "Enter marital status:[True|False]True\n",
      "Please confirm your information\n",
      "your employee number is: 100\n",
      "your Name as per our record is: rAHUL\n",
      "your address is: GURGOAN\n",
      "your salary is: 156464.0\n",
      "your marital status is: True\n"
     ]
    }
   ],
   "source": [
    "#write a programme ehere read the employee data from keyboard\n",
    "#Eno\n",
    "#Ename\n",
    "#Esal\n",
    "#Eadder\n",
    "#married\n",
    "eno = int(input(\"Enter the employee number:\"))\n",
    "ename = input('Enter the employee name:')\n",
    "eadder=input(\"Enter the employee number:\")\n",
    "Esal= float(input(\"Enter your salary:\"))\n",
    "emar = bool(input(\"Enter marital status:[True|False]\"))\n",
    "print(\"Please confirm your information\")\n",
    "print(\"your employee number is:\", eno)\n",
    "print(\"your Name as per our record is:\", ename)\n",
    "print(\"your address is:\", eadder)\n",
    "print(\"your salary is:\", Esal)\n",
    "print(\"your marital status is:\", emar)"
   ]
  },
  {
   "cell_type": "code",
   "execution_count": 7,
   "id": "4a02a14e",
   "metadata": {},
   "outputs": [
    {
     "name": "stdout",
     "output_type": "stream",
     "text": [
      "Enter 5 numbers23\n"
     ]
    },
    {
     "data": {
      "text/plain": [
       "'23'"
      ]
     },
     "execution_count": 7,
     "metadata": {},
     "output_type": "execute_result"
    }
   ],
   "source": [
    "# How to read multiple values from the keyboard in a single line:\n",
    "\n",
    "input(\"Enter 5 numbers\")"
   ]
  },
  {
   "cell_type": "code",
   "execution_count": 9,
   "id": "db2a3fd8",
   "metadata": {},
   "outputs": [
    {
     "name": "stdout",
     "output_type": "stream",
     "text": [
      "Enter 5 numbers23 45 22 23 44\n"
     ]
    }
   ],
   "source": [
    "a = input(\"Enter 5 numbers\")"
   ]
  },
  {
   "cell_type": "code",
   "execution_count": 10,
   "id": "4c733446",
   "metadata": {},
   "outputs": [
    {
     "data": {
      "text/plain": [
       "str"
      ]
     },
     "execution_count": 10,
     "metadata": {},
     "output_type": "execute_result"
    }
   ],
   "source": [
    "type(a)"
   ]
  },
  {
   "cell_type": "code",
   "execution_count": 11,
   "id": "de6bdf16",
   "metadata": {},
   "outputs": [
    {
     "name": "stdout",
     "output_type": "stream",
     "text": [
      "enter 5 number:23 45 32 22 23 25 65\n"
     ]
    },
    {
     "data": {
      "text/plain": [
       "['23', '45', '32', '22', '23', '25', '65']"
      ]
     },
     "execution_count": 11,
     "metadata": {},
     "output_type": "execute_result"
    }
   ],
   "source": [
    "input(\"enter 5 number:\").split()"
   ]
  },
  {
   "cell_type": "code",
   "execution_count": 12,
   "id": "87294d55",
   "metadata": {},
   "outputs": [
    {
     "name": "stdout",
     "output_type": "stream",
     "text": [
      "enter 5 number:23,45,32,55,32\n"
     ]
    },
    {
     "data": {
      "text/plain": [
       "['23', '45', '32', '55', '32']"
      ]
     },
     "execution_count": 12,
     "metadata": {},
     "output_type": "execute_result"
    }
   ],
   "source": [
    "input(\"enter 5 number:\").split(',')"
   ]
  },
  {
   "cell_type": "code",
   "execution_count": 13,
   "id": "5525db73",
   "metadata": {},
   "outputs": [
    {
     "name": "stdout",
     "output_type": "stream",
     "text": [
      "enter 5 number:23:45:56:85:23\n"
     ]
    },
    {
     "data": {
      "text/plain": [
       "['23', '45', '56', '85', '23']"
      ]
     },
     "execution_count": 13,
     "metadata": {},
     "output_type": "execute_result"
    }
   ],
   "source": [
    "input(\"enter 5 number:\").split(':')"
   ]
  },
  {
   "cell_type": "code",
   "execution_count": 14,
   "id": "14566f2f",
   "metadata": {},
   "outputs": [
    {
     "name": "stdout",
     "output_type": "stream",
     "text": [
      "enter 5 number:23:56:45:66:89\n"
     ]
    },
    {
     "ename": "TypeError",
     "evalue": "int() argument must be a string, a bytes-like object or a number, not 'list'",
     "output_type": "error",
     "traceback": [
      "\u001b[1;31m---------------------------------------------------------------------------\u001b[0m",
      "\u001b[1;31mTypeError\u001b[0m                                 Traceback (most recent call last)",
      "\u001b[1;32m<ipython-input-14-9f0f3a425411>\u001b[0m in \u001b[0;36m<module>\u001b[1;34m\u001b[0m\n\u001b[1;32m----> 1\u001b[1;33m \u001b[0mint\u001b[0m\u001b[1;33m(\u001b[0m\u001b[0minput\u001b[0m\u001b[1;33m(\u001b[0m\u001b[1;34m\"enter 5 number:\"\u001b[0m\u001b[1;33m)\u001b[0m\u001b[1;33m.\u001b[0m\u001b[0msplit\u001b[0m\u001b[1;33m(\u001b[0m\u001b[1;33m)\u001b[0m\u001b[1;33m)\u001b[0m\u001b[1;33m\u001b[0m\u001b[1;33m\u001b[0m\u001b[0m\n\u001b[0m",
      "\u001b[1;31mTypeError\u001b[0m: int() argument must be a string, a bytes-like object or a number, not 'list'"
     ]
    }
   ],
   "source": [
    "int(input(\"enter 5 number:\").split())"
   ]
  },
  {
   "cell_type": "code",
   "execution_count": 16,
   "id": "cafbfd89",
   "metadata": {},
   "outputs": [
    {
     "name": "stdout",
     "output_type": "stream",
     "text": [
      "Enter 5 numbers:23,78,64,35,45\n"
     ]
    }
   ],
   "source": [
    "a = [int(x) for x in input(\"Enter 5 numbers:\").split(',')]"
   ]
  },
  {
   "cell_type": "code",
   "execution_count": 17,
   "id": "26f24a37",
   "metadata": {},
   "outputs": [
    {
     "data": {
      "text/plain": [
       "list"
      ]
     },
     "execution_count": 17,
     "metadata": {},
     "output_type": "execute_result"
    }
   ],
   "source": [
    "type(a)"
   ]
  },
  {
   "cell_type": "code",
   "execution_count": 18,
   "id": "c13db7ed",
   "metadata": {},
   "outputs": [
    {
     "name": "stdout",
     "output_type": "stream",
     "text": [
      "Enter 5 numbers:23,45,32,22,23\n",
      "The sum is: 145\n"
     ]
    }
   ],
   "source": [
    "a,b,c,d,e = [int(x) for x in input(\"Enter 5 numbers:\").split(',')]\n",
    "print(\"The sum is:\", a+b+c+d+e)"
   ]
  },
  {
   "cell_type": "code",
   "execution_count": 20,
   "id": "ec969c67",
   "metadata": {},
   "outputs": [
    {
     "name": "stdout",
     "output_type": "stream",
     "text": [
      "Enter 5 numbers:23,45,32,23,22.5\n",
      "The sum is: 145.5\n"
     ]
    }
   ],
   "source": [
    "a,b,c,d,e = [float(x) for x in input(\"Enter 5 numbers:\").split(',')]\n",
    "print(\"The sum is:\", a+b+c+d+e)"
   ]
  },
  {
   "cell_type": "code",
   "execution_count": 21,
   "id": "67d31887",
   "metadata": {},
   "outputs": [],
   "source": [
    "x = ('10+20+22')"
   ]
  },
  {
   "cell_type": "code",
   "execution_count": 22,
   "id": "a6c014f3",
   "metadata": {},
   "outputs": [
    {
     "data": {
      "text/plain": [
       "'10+20+22'"
      ]
     },
     "execution_count": 22,
     "metadata": {},
     "output_type": "execute_result"
    }
   ],
   "source": [
    "x"
   ]
  },
  {
   "cell_type": "code",
   "execution_count": 23,
   "id": "eb1c1872",
   "metadata": {},
   "outputs": [],
   "source": [
    "x= eval('10+20+22') #eval is a function which check internally the type of data and prints, takes strings as argument only"
   ]
  },
  {
   "cell_type": "code",
   "execution_count": 24,
   "id": "82e00fc0",
   "metadata": {},
   "outputs": [
    {
     "data": {
      "text/plain": [
       "52"
      ]
     },
     "execution_count": 24,
     "metadata": {},
     "output_type": "execute_result"
    }
   ],
   "source": [
    "x"
   ]
  },
  {
   "cell_type": "code",
   "execution_count": 25,
   "id": "ca10f3d3",
   "metadata": {},
   "outputs": [
    {
     "data": {
      "text/plain": [
       "int"
      ]
     },
     "execution_count": 25,
     "metadata": {},
     "output_type": "execute_result"
    }
   ],
   "source": [
    "type(x)"
   ]
  },
  {
   "cell_type": "code",
   "execution_count": 35,
   "id": "df748e9a",
   "metadata": {},
   "outputs": [
    {
     "name": "stdout",
     "output_type": "stream",
     "text": [
      "Enter some list43,32,22,23,34\n"
     ]
    }
   ],
   "source": [
    "x = eval(input(\"Enter some list\"))  #with eval comma seperated values saves as a tuple."
   ]
  },
  {
   "cell_type": "code",
   "execution_count": 36,
   "id": "3b1bc5d7",
   "metadata": {},
   "outputs": [
    {
     "data": {
      "text/plain": [
       "(43, 32, 22, 23, 34)"
      ]
     },
     "execution_count": 36,
     "metadata": {},
     "output_type": "execute_result"
    }
   ],
   "source": [
    "x # saves as tuple"
   ]
  },
  {
   "cell_type": "code",
   "execution_count": 37,
   "id": "a5865bb0",
   "metadata": {},
   "outputs": [
    {
     "name": "stdout",
     "output_type": "stream",
     "text": [
      "Enter some list43,32,22,23,32\n"
     ]
    }
   ],
   "source": [
    "x = (input(\"Enter some list\"))"
   ]
  },
  {
   "cell_type": "code",
   "execution_count": 38,
   "id": "ef79aec4",
   "metadata": {},
   "outputs": [
    {
     "data": {
      "text/plain": [
       "'43,32,22,23,32'"
      ]
     },
     "execution_count": 38,
     "metadata": {},
     "output_type": "execute_result"
    }
   ],
   "source": [
    "x # without eval saves as string"
   ]
  },
  {
   "cell_type": "code",
   "execution_count": 32,
   "id": "0deeb1de",
   "metadata": {},
   "outputs": [
    {
     "name": "stdout",
     "output_type": "stream",
     "text": [
      "Enter some list[43,32,22,23,22]\n"
     ]
    }
   ],
   "source": [
    "x = eval(input(\"Enter some list\")) # with eval value passed in list saves as a list.\n",
    "\n"
   ]
  },
  {
   "cell_type": "code",
   "execution_count": 33,
   "id": "b60790a8",
   "metadata": {},
   "outputs": [
    {
     "data": {
      "text/plain": [
       "[43, 32, 22, 23, 22]"
      ]
     },
     "execution_count": 33,
     "metadata": {},
     "output_type": "execute_result"
    }
   ],
   "source": [
    "x"
   ]
  },
  {
   "cell_type": "code",
   "execution_count": 34,
   "id": "a560e932",
   "metadata": {},
   "outputs": [
    {
     "name": "stdout",
     "output_type": "stream",
     "text": [
      "Enter some list[45,32,23,34,32,23]\n",
      "45\n",
      "32\n",
      "23\n",
      "34\n",
      "32\n",
      "23\n"
     ]
    }
   ],
   "source": [
    "x = eval(input(\"Enter some list\"))\n",
    "for x1 in x:\n",
    "    print(x1)"
   ]
  },
  {
   "cell_type": "code",
   "execution_count": 39,
   "id": "33e40768",
   "metadata": {},
   "outputs": [
    {
     "name": "stdout",
     "output_type": "stream",
     "text": [
      "Enter some data21,Rahul,True,30.5\n"
     ]
    },
    {
     "data": {
      "text/plain": [
       "['21', 'Rahul', 'True', '30.5']"
      ]
     },
     "execution_count": 39,
     "metadata": {},
     "output_type": "execute_result"
    }
   ],
   "source": [
    "input('Enter some data').split(',')"
   ]
  },
  {
   "cell_type": "code",
   "execution_count": 41,
   "id": "8212ceb5",
   "metadata": {},
   "outputs": [
    {
     "name": "stdout",
     "output_type": "stream",
     "text": [
      "Enter some data21,'Rahul',True,30.5\n",
      "<class 'int'>\n",
      "<class 'str'>\n",
      "<class 'bool'>\n",
      "<class 'float'>\n"
     ]
    }
   ],
   "source": [
    "#want to save all the data in there original data type.\n",
    "\n",
    "a,b,c,d = [eval(x) for x in input('Enter some data').split(',')]\n",
    "print(type(a))\n",
    "print(type(b))\n",
    "print(type(c))\n",
    "print(type(d))"
   ]
  },
  {
   "cell_type": "code",
   "execution_count": 42,
   "id": "91e02343",
   "metadata": {},
   "outputs": [
    {
     "name": "stdout",
     "output_type": "stream",
     "text": [
      "Enter some data235'Rahul'5True530.2\n",
      "<class 'int'>\n",
      "<class 'str'>\n",
      "<class 'bool'>\n",
      "<class 'float'>\n"
     ]
    }
   ],
   "source": [
    "a,b,c,d = [eval(x) for x in input('Enter some data').split('5')]\n",
    "print(type(a))\n",
    "print(type(b))\n",
    "print(type(c))\n",
    "print(type(d))"
   ]
  },
  {
   "cell_type": "code",
   "execution_count": 1,
   "id": "547e6502",
   "metadata": {},
   "outputs": [],
   "source": [
    "#Command Line Arguments\n"
   ]
  },
  {
   "cell_type": "code",
   "execution_count": 2,
   "id": "5bb1fb5a",
   "metadata": {},
   "outputs": [],
   "source": [
    "list1 = [12,23,22,33,45]"
   ]
  },
  {
   "cell_type": "code",
   "execution_count": 3,
   "id": "65d00963",
   "metadata": {},
   "outputs": [
    {
     "data": {
      "text/plain": [
       "123"
      ]
     },
     "execution_count": 3,
     "metadata": {},
     "output_type": "execute_result"
    }
   ],
   "source": [
    "sum(list1[1:])"
   ]
  },
  {
   "cell_type": "code",
   "execution_count": 4,
   "id": "7b5fd669",
   "metadata": {},
   "outputs": [
    {
     "data": {
      "text/plain": [
       "135"
      ]
     },
     "execution_count": 4,
     "metadata": {},
     "output_type": "execute_result"
    }
   ],
   "source": [
    "sum(list1)"
   ]
  },
  {
   "cell_type": "code",
   "execution_count": 5,
   "id": "6306cabb",
   "metadata": {},
   "outputs": [
    {
     "name": "stdout",
     "output_type": "stream",
     "text": [
      "Hello\n",
      "Good Evening\n",
      "How are you?\n"
     ]
    }
   ],
   "source": [
    "#Output statements\n",
    "# print()- Function\n",
    "# print()- without argument we will get a new line.\n",
    "\n",
    "print('Hello')\n",
    "print('Good Evening')\n",
    "print('How are you?')"
   ]
  },
  {
   "cell_type": "code",
   "execution_count": 6,
   "id": "95fb2771",
   "metadata": {},
   "outputs": [
    {
     "name": "stdout",
     "output_type": "stream",
     "text": [
      "Hello\n",
      "\n",
      "Good Evening\n",
      "\n",
      "How are you?\n",
      "\n"
     ]
    }
   ],
   "source": [
    "print('Hello')\n",
    "print()\n",
    "print('Good Evening')\n",
    "print()\n",
    "print('How are you?')\n",
    "print()\n"
   ]
  },
  {
   "cell_type": "code",
   "execution_count": 9,
   "id": "98d6c2b0",
   "metadata": {},
   "outputs": [
    {
     "name": "stdout",
     "output_type": "stream",
     "text": [
      "Hello all\n",
      "Hello \n",
      " all\n",
      "Hello \t all\n"
     ]
    }
   ],
   "source": [
    "# form2\n",
    "print('Hello all')\n",
    "print('Hello \\n all') # \\n is escape character. We can use escape character in print.\n",
    "print('Hello \\t all')"
   ]
  },
  {
   "cell_type": "code",
   "execution_count": 10,
   "id": "92cd7496",
   "metadata": {},
   "outputs": [
    {
     "name": "stdout",
     "output_type": "stream",
     "text": [
      "RahulTiwari\n"
     ]
    }
   ],
   "source": [
    "print('Rahul'+ 'Tiwari')"
   ]
  },
  {
   "cell_type": "code",
   "execution_count": 11,
   "id": "15949447",
   "metadata": {},
   "outputs": [
    {
     "name": "stdout",
     "output_type": "stream",
     "text": [
      "Rahul Tiwari\n"
     ]
    }
   ],
   "source": [
    "print('Rahul'+' ' + 'Tiwari')"
   ]
  },
  {
   "cell_type": "code",
   "execution_count": 12,
   "id": "b25a060f",
   "metadata": {},
   "outputs": [
    {
     "name": "stdout",
     "output_type": "stream",
     "text": [
      "RahulRahulRahul\n"
     ]
    }
   ],
   "source": [
    "print('Rahul'*3)"
   ]
  },
  {
   "cell_type": "code",
   "execution_count": 13,
   "id": "7ed0960b",
   "metadata": {},
   "outputs": [
    {
     "name": "stdout",
     "output_type": "stream",
     "text": [
      "Rahul Tiwari\n"
     ]
    }
   ],
   "source": [
    "print('Rahul','Tiwari')"
   ]
  },
  {
   "cell_type": "code",
   "execution_count": 14,
   "id": "9276def3",
   "metadata": {},
   "outputs": [
    {
     "name": "stdout",
     "output_type": "stream",
     "text": [
      "Rahul Harshawardhan\n"
     ]
    }
   ],
   "source": [
    "print('Rahul','Harshawardhan') # Passing the value with comma, result gives with space."
   ]
  },
  {
   "cell_type": "code",
   "execution_count": 15,
   "id": "a159d1d9",
   "metadata": {},
   "outputs": [
    {
     "name": "stdout",
     "output_type": "stream",
     "text": [
      "The values are: 10 20 30\n"
     ]
    }
   ],
   "source": [
    "#form3\n",
    "#print() with multiple variable or arguments\n",
    "\n",
    "a,b,c = 10,20,30\n",
    "print('The values are:',a,b,c)"
   ]
  },
  {
   "cell_type": "code",
   "execution_count": 19,
   "id": "119da716",
   "metadata": {},
   "outputs": [
    {
     "name": "stdout",
     "output_type": "stream",
     "text": [
      "The values are: 10 , 20 , 30\n"
     ]
    }
   ],
   "source": [
    "a,b,c = 10,20,30\n",
    "print('The values are:', a,',',b,',',c)"
   ]
  },
  {
   "cell_type": "code",
   "execution_count": 22,
   "id": "e51f0c69",
   "metadata": {},
   "outputs": [
    {
     "name": "stdout",
     "output_type": "stream",
     "text": [
      "10 20 30\n",
      "10,20,30\n",
      "10:20:30\n",
      "10520530\n"
     ]
    }
   ],
   "source": [
    "a,b,c = 10,20,30\n",
    "print(a,b,c)\n",
    "print(a,b,c,sep=',') #Separator command sep.The default value of separator is space.\n",
    "print(a,b,c,sep=':')\n",
    "print(a,b,c,sep='5')"
   ]
  },
  {
   "cell_type": "code",
   "execution_count": 23,
   "id": "1ef91a3b",
   "metadata": {},
   "outputs": [
    {
     "name": "stdout",
     "output_type": "stream",
     "text": [
      "hello\n",
      "students\n",
      "To learn Python\n",
      "you have to practice\n"
     ]
    }
   ],
   "source": [
    "print('hello')\n",
    "print('students')\n",
    "print('To learn Python')\n",
    "print('you have to practice')"
   ]
  },
  {
   "cell_type": "code",
   "execution_count": 24,
   "id": "56be0dde",
   "metadata": {},
   "outputs": [
    {
     "name": "stdout",
     "output_type": "stream",
     "text": [
      "hello students To learn python you have to practice\n"
     ]
    }
   ],
   "source": [
    "print('hello','students','To learn python','you have to practice')\n"
   ]
  },
  {
   "cell_type": "code",
   "execution_count": 26,
   "id": "1453f8c7",
   "metadata": {},
   "outputs": [
    {
     "name": "stdout",
     "output_type": "stream",
     "text": [
      "hello students To learn Python you have to practice "
     ]
    }
   ],
   "source": [
    "print('hello', end=' ')\n",
    "print('students',end=' ')\n",
    "print('To learn Python',end=' ')\n",
    "print('you have to practice',end=' ')\n",
    "#The default value of end is new line."
   ]
  },
  {
   "cell_type": "code",
   "execution_count": 28,
   "id": "4201dd22",
   "metadata": {},
   "outputs": [
    {
     "name": "stdout",
     "output_type": "stream",
     "text": [
      "10:20:30:40:50----"
     ]
    }
   ],
   "source": [
    "print(10,20,30,40,50, sep=':', end='----')"
   ]
  },
  {
   "cell_type": "code",
   "execution_count": 30,
   "id": "8f346467",
   "metadata": {},
   "outputs": [
    {
     "name": "stdout",
     "output_type": "stream",
     "text": [
      "[10, 20, 30, 40]\n",
      "(10, 20, 30, 40)\n",
      "{40, 10, 20, 30}\n"
     ]
    }
   ],
   "source": [
    "list1 = [10,20,30,40]\n",
    "tuple1= (10,20,30,40)\n",
    "set1={10,20,30,40}\n",
    "print(list1)\n",
    "print(tuple1)\n",
    "print(set1)"
   ]
  },
  {
   "cell_type": "code",
   "execution_count": 31,
   "id": "bb0d92d9",
   "metadata": {},
   "outputs": [
    {
     "name": "stdout",
     "output_type": "stream",
     "text": [
      "[10, 20, 30, 40] (10, 20, 30, 40) {40, 10, 20, 30} "
     ]
    }
   ],
   "source": [
    "print(list1, end=' ')\n",
    "print(tuple1, end=' ')\n",
    "print(set1, end=' ')"
   ]
  },
  {
   "cell_type": "code",
   "execution_count": 32,
   "id": "3ce91d4c",
   "metadata": {},
   "outputs": [
    {
     "name": "stdout",
     "output_type": "stream",
     "text": [
      "[10, 20, 30, 40]--- (10, 20, 30, 40)+++ {40, 10, 20, 30} "
     ]
    }
   ],
   "source": [
    "print(list1, end='--- ')\n",
    "print(tuple1, end='+++ ')\n",
    "print(set1, end=' ')"
   ]
  },
  {
   "cell_type": "code",
   "execution_count": 33,
   "id": "5c290eac",
   "metadata": {},
   "outputs": [
    {
     "name": "stdout",
     "output_type": "stream",
     "text": [
      "[10, 20, 30, 40] (10, 20, 30, 40) {40, 10, 20, 30}\n"
     ]
    }
   ],
   "source": [
    "print(list1,tuple1,set1)"
   ]
  },
  {
   "cell_type": "code",
   "execution_count": 35,
   "id": "1f1a1b8d",
   "metadata": {},
   "outputs": [
    {
     "name": "stdout",
     "output_type": "stream",
     "text": [
      "a's value is 10\n",
      "a's value is 10.500000\n"
     ]
    }
   ],
   "source": [
    "#print(formatted output)\n",
    "a,b,c = 10.5,20,30\n",
    "print('a\\'s value is %i' %a)\n",
    "print('a\\'s value is %f' %a)\n",
    "\n",
    "# %i, %d--- int\n",
    "# %f-- float\n",
    "# %s-- Str"
   ]
  },
  {
   "cell_type": "code",
   "execution_count": 38,
   "id": "d6e39251",
   "metadata": {},
   "outputs": [
    {
     "name": "stdout",
     "output_type": "stream",
     "text": [
      "a value is 10\n",
      "a value is 10 and b value is 20\n",
      "a value is 10 and b value is 20 and c value is 30.000000\n",
      "a value is 20 and b value is 30 and c value is 10.000000\n",
      "a value is 20 and b value is 30 and c value is 10.000000\n"
     ]
    }
   ],
   "source": [
    "a,b,c = 10,20,30\n",
    "print('a value is %i' %a)\n",
    "print('a value is %i and b value is %i' %(a,b))\n",
    "print('a value is %i and b value is %i and c value is %f' %(a,b,c))\n",
    "print('a value is %i and b value is %i and c value is %f' %(b,c,a)) # order matters\n",
    "print('a value is %s and b value is %i and c value is %f' %(b,c,a))"
   ]
  },
  {
   "cell_type": "code",
   "execution_count": 39,
   "id": "f575de74",
   "metadata": {},
   "outputs": [
    {
     "name": "stdout",
     "output_type": "stream",
     "text": [
      "hello Rahul the list is [10, 20, 30, 40]\n"
     ]
    }
   ],
   "source": [
    "name = 'Rahul'\n",
    "l = [10,20,30,40]\n",
    "print('hello %s the list is %s' %(name,l))"
   ]
  },
  {
   "cell_type": "code",
   "execution_count": 43,
   "id": "1efb376d",
   "metadata": {},
   "outputs": [
    {
     "name": "stdout",
     "output_type": "stream",
     "text": [
      "Hello khushal, your salary is 10000 and your girlfriend Neha is waiting.\n"
     ]
    }
   ],
   "source": [
    "# Replacement operators\n",
    "name = 'khushal'\n",
    "salary = 10000\n",
    "girlfriend = 'Neha'\n",
    "print('Hello {}, your salary is {} and your girlfriend {} is waiting.'.format(name, salary, girlfriend))"
   ]
  },
  {
   "cell_type": "code",
   "execution_count": 47,
   "id": "41a2be3e",
   "metadata": {},
   "outputs": [
    {
     "name": "stdout",
     "output_type": "stream",
     "text": [
      "Hello khushal, your salary is 10000 and your girlfriend Neha is waiting.\n"
     ]
    }
   ],
   "source": [
    "name = 'khushal'\n",
    "salary = 10000\n",
    "girlfriend = 'Neha'\n",
    "print('Hello {}, your salary is {} and your girlfriend {} is waiting.'.format(name, salary, girlfriend)) # order matters"
   ]
  },
  {
   "cell_type": "code",
   "execution_count": 48,
   "id": "81d72f06",
   "metadata": {},
   "outputs": [
    {
     "name": "stdout",
     "output_type": "stream",
     "text": [
      "Hello Neha, your salary is 10000 and your girlfriend khushal is waiting.\n"
     ]
    }
   ],
   "source": [
    "name = 'khushal'\n",
    "salary = 10000\n",
    "girlfriend = 'Neha'\n",
    "print('Hello {}, your salary is {} and your girlfriend {} is waiting.'.format(girlfriend, salary, name))"
   ]
  },
  {
   "cell_type": "code",
   "execution_count": 51,
   "id": "4ee7282f",
   "metadata": {},
   "outputs": [
    {
     "name": "stdout",
     "output_type": "stream",
     "text": [
      "Hello khushal, your salary is 10000 and your girlfriend Neha is waiting.\n"
     ]
    }
   ],
   "source": [
    "name = 'khushal'\n",
    "salary = 10000\n",
    "girlfriend = 'Neha'\n",
    "print('Hello {2}, your salary is {1} and your girlfriend {0} is waiting.'.format(girlfriend, salary, name))\n",
    "# here order of format not matter because we pass the value to the curly bracket.\n"
   ]
  },
  {
   "cell_type": "code",
   "execution_count": 53,
   "id": "d9054e8f",
   "metadata": {},
   "outputs": [
    {
     "name": "stdout",
     "output_type": "stream",
     "text": [
      "Hello khushal, your salary is 10000 and your girlfriend Neha is waiting.\n"
     ]
    }
   ],
   "source": [
    "name = 'khushal'\n",
    "salary = 10000\n",
    "girlfriend = 'Neha'\n",
    "print('Hello {khu}, your salary is {sal} and your girlfriend {gf} is waiting.'.format(gf=girlfriend, sal=salary, khu= name))\n",
    "# here order of format not matter because we pass the value to the curly bracket."
   ]
  },
  {
   "cell_type": "code",
   "execution_count": null,
   "id": "7223ad9a",
   "metadata": {},
   "outputs": [],
   "source": []
  }
 ],
 "metadata": {
  "kernelspec": {
   "display_name": "Python 3",
   "language": "python",
   "name": "python3"
  },
  "language_info": {
   "codemirror_mode": {
    "name": "ipython",
    "version": 3
   },
   "file_extension": ".py",
   "mimetype": "text/x-python",
   "name": "python",
   "nbconvert_exporter": "python",
   "pygments_lexer": "ipython3",
   "version": "3.8.8"
  }
 },
 "nbformat": 4,
 "nbformat_minor": 5
}
