{
 "cells": [
  {
   "cell_type": "code",
   "execution_count": 1,
   "id": "bfe59448",
   "metadata": {},
   "outputs": [],
   "source": [
    "#python collection data types\n",
    "#lists\n",
    "#Tuples\n",
    "#Dictionary\n",
    "#Sets"
   ]
  },
  {
   "cell_type": "code",
   "execution_count": 79,
   "id": "f8ad39aa",
   "metadata": {},
   "outputs": [],
   "source": [
    "Ages=[21,17,17,18,21,22,23,22,31,23]"
   ]
  },
  {
   "cell_type": "code",
   "execution_count": 3,
   "id": "0c3330d5",
   "metadata": {},
   "outputs": [
    {
     "data": {
      "text/plain": [
       "list"
      ]
     },
     "execution_count": 3,
     "metadata": {},
     "output_type": "execute_result"
    }
   ],
   "source": [
    "type(Ages)"
   ]
  },
  {
   "cell_type": "code",
   "execution_count": 80,
   "id": "4c9d34b4",
   "metadata": {},
   "outputs": [
    {
     "data": {
      "text/plain": [
       "215"
      ]
     },
     "execution_count": 80,
     "metadata": {},
     "output_type": "execute_result"
    }
   ],
   "source": [
    "sum(Ages)"
   ]
  },
  {
   "cell_type": "code",
   "execution_count": 4,
   "id": "3c9be37f",
   "metadata": {},
   "outputs": [],
   "source": [
    "#indexation in python starts with zero.abs\n"
   ]
  },
  {
   "cell_type": "code",
   "execution_count": 5,
   "id": "82ae438f",
   "metadata": {},
   "outputs": [
    {
     "data": {
      "text/plain": [
       "17"
      ]
     },
     "execution_count": 5,
     "metadata": {},
     "output_type": "execute_result"
    }
   ],
   "source": [
    "Ages[2]"
   ]
  },
  {
   "cell_type": "code",
   "execution_count": 6,
   "id": "c22458cf",
   "metadata": {},
   "outputs": [
    {
     "data": {
      "text/plain": [
       "31"
      ]
     },
     "execution_count": 6,
     "metadata": {},
     "output_type": "execute_result"
    }
   ],
   "source": [
    "Ages[-2]"
   ]
  },
  {
   "cell_type": "code",
   "execution_count": 7,
   "id": "1abfda24",
   "metadata": {},
   "outputs": [
    {
     "data": {
      "text/plain": [
       "[21, 17, 17, 18, 21, 22, 23, 22, 31, 23]"
      ]
     },
     "execution_count": 7,
     "metadata": {},
     "output_type": "execute_result"
    }
   ],
   "source": [
    "Ages"
   ]
  },
  {
   "cell_type": "code",
   "execution_count": 8,
   "id": "9309bc2b",
   "metadata": {},
   "outputs": [
    {
     "data": {
      "text/plain": [
       "[17, 18, 21, 22]"
      ]
     },
     "execution_count": 8,
     "metadata": {},
     "output_type": "execute_result"
    }
   ],
   "source": [
    "Ages[2:6]"
   ]
  },
  {
   "cell_type": "code",
   "execution_count": 9,
   "id": "ec779d8f",
   "metadata": {},
   "outputs": [
    {
     "data": {
      "text/plain": [
       "[17, 18, 21, 22]"
      ]
     },
     "execution_count": 9,
     "metadata": {},
     "output_type": "execute_result"
    }
   ],
   "source": [
    "Ages[-8:-4]"
   ]
  },
  {
   "cell_type": "code",
   "execution_count": 10,
   "id": "5a35fffd",
   "metadata": {},
   "outputs": [
    {
     "data": {
      "text/plain": [
       "[]"
      ]
     },
     "execution_count": 10,
     "metadata": {},
     "output_type": "execute_result"
    }
   ],
   "source": [
    "Ages[-1:-4]"
   ]
  },
  {
   "cell_type": "code",
   "execution_count": 11,
   "id": "49736cbd",
   "metadata": {},
   "outputs": [
    {
     "data": {
      "text/plain": [
       "[23, 31, 22]"
      ]
     },
     "execution_count": 11,
     "metadata": {},
     "output_type": "execute_result"
    }
   ],
   "source": [
    "Ages[-1:-4:-1]"
   ]
  },
  {
   "cell_type": "code",
   "execution_count": 12,
   "id": "6fbda227",
   "metadata": {},
   "outputs": [
    {
     "data": {
      "text/plain": [
       "[23, 22, 21]"
      ]
     },
     "execution_count": 12,
     "metadata": {},
     "output_type": "execute_result"
    }
   ],
   "source": [
    "Ages[6:3:-1]"
   ]
  },
  {
   "cell_type": "code",
   "execution_count": 13,
   "id": "ec367de7",
   "metadata": {},
   "outputs": [
    {
     "data": {
      "text/plain": [
       "[21, 17, 17, 18, 21, 22, 23, 22, 31, 23]"
      ]
     },
     "execution_count": 13,
     "metadata": {},
     "output_type": "execute_result"
    }
   ],
   "source": [
    "Ages"
   ]
  },
  {
   "cell_type": "code",
   "execution_count": 14,
   "id": "f75e1f3b",
   "metadata": {},
   "outputs": [],
   "source": [
    "Languages=[[\"English\",\"Hindi\"], \"Marathi\", [\"English\", \"French\"],[\"Hindi\", \"English\"],[\"Python\"]]"
   ]
  },
  {
   "cell_type": "code",
   "execution_count": 15,
   "id": "f00711e6",
   "metadata": {},
   "outputs": [
    {
     "data": {
      "text/plain": [
       "[['English', 'Hindi'],\n",
       " 'Marathi',\n",
       " ['English', 'French'],\n",
       " ['Hindi', 'English'],\n",
       " ['Python']]"
      ]
     },
     "execution_count": 15,
     "metadata": {},
     "output_type": "execute_result"
    }
   ],
   "source": [
    "Languages"
   ]
  },
  {
   "cell_type": "code",
   "execution_count": 16,
   "id": "3cc8d173",
   "metadata": {},
   "outputs": [
    {
     "data": {
      "text/plain": [
       "list"
      ]
     },
     "execution_count": 16,
     "metadata": {},
     "output_type": "execute_result"
    }
   ],
   "source": [
    "type(Languages)"
   ]
  },
  {
   "cell_type": "code",
   "execution_count": 17,
   "id": "7bf616d1",
   "metadata": {},
   "outputs": [
    {
     "data": {
      "text/plain": [
       "['English', 'Hindi']"
      ]
     },
     "execution_count": 17,
     "metadata": {},
     "output_type": "execute_result"
    }
   ],
   "source": [
    "Languages[0]"
   ]
  },
  {
   "cell_type": "code",
   "execution_count": 18,
   "id": "58e75c84",
   "metadata": {},
   "outputs": [
    {
     "data": {
      "text/plain": [
       "list"
      ]
     },
     "execution_count": 18,
     "metadata": {},
     "output_type": "execute_result"
    }
   ],
   "source": [
    "type(Languages[0])"
   ]
  },
  {
   "cell_type": "code",
   "execution_count": 19,
   "id": "2446874e",
   "metadata": {},
   "outputs": [
    {
     "data": {
      "text/plain": [
       "['English', 'French']"
      ]
     },
     "execution_count": 19,
     "metadata": {},
     "output_type": "execute_result"
    }
   ],
   "source": [
    "Languages[2]"
   ]
  },
  {
   "cell_type": "code",
   "execution_count": 20,
   "id": "4826a12b",
   "metadata": {},
   "outputs": [
    {
     "data": {
      "text/plain": [
       "'French'"
      ]
     },
     "execution_count": 20,
     "metadata": {},
     "output_type": "execute_result"
    }
   ],
   "source": [
    "Languages[2][1]"
   ]
  },
  {
   "cell_type": "code",
   "execution_count": 21,
   "id": "8b33ebd5",
   "metadata": {},
   "outputs": [
    {
     "data": {
      "text/plain": [
       "[['English', 'Hindi'],\n",
       " 'Marathi',\n",
       " ['English', 'French'],\n",
       " ['Hindi', 'English'],\n",
       " ['Python']]"
      ]
     },
     "execution_count": 21,
     "metadata": {},
     "output_type": "execute_result"
    }
   ],
   "source": [
    "Languages"
   ]
  },
  {
   "cell_type": "code",
   "execution_count": 22,
   "id": "a5188d12",
   "metadata": {},
   "outputs": [
    {
     "data": {
      "text/plain": [
       "['Python']"
      ]
     },
     "execution_count": 22,
     "metadata": {},
     "output_type": "execute_result"
    }
   ],
   "source": [
    "Languages[4]"
   ]
  },
  {
   "cell_type": "code",
   "execution_count": 23,
   "id": "c23eec99",
   "metadata": {},
   "outputs": [
    {
     "data": {
      "text/plain": [
       "'Python'"
      ]
     },
     "execution_count": 23,
     "metadata": {},
     "output_type": "execute_result"
    }
   ],
   "source": [
    "Languages[4][0]"
   ]
  },
  {
   "cell_type": "code",
   "execution_count": 24,
   "id": "f5e0e430",
   "metadata": {},
   "outputs": [
    {
     "data": {
      "text/plain": [
       "str"
      ]
     },
     "execution_count": 24,
     "metadata": {},
     "output_type": "execute_result"
    }
   ],
   "source": [
    "type(Languages[4][0])"
   ]
  },
  {
   "cell_type": "code",
   "execution_count": 25,
   "id": "7833cab1",
   "metadata": {},
   "outputs": [
    {
     "data": {
      "text/plain": [
       "str"
      ]
     },
     "execution_count": 25,
     "metadata": {},
     "output_type": "execute_result"
    }
   ],
   "source": [
    "type(Languages[1])"
   ]
  },
  {
   "cell_type": "code",
   "execution_count": 26,
   "id": "5ec4a025",
   "metadata": {},
   "outputs": [
    {
     "data": {
      "text/plain": [
       "[['English', 'Hindi'],\n",
       " 'Marathi',\n",
       " ['English', 'French'],\n",
       " ['Hindi', 'English'],\n",
       " ['Python']]"
      ]
     },
     "execution_count": 26,
     "metadata": {},
     "output_type": "execute_result"
    }
   ],
   "source": [
    "Languages"
   ]
  },
  {
   "cell_type": "code",
   "execution_count": 27,
   "id": "fd089595",
   "metadata": {},
   "outputs": [],
   "source": [
    "List=['john', True, 10.5,20] \n"
   ]
  },
  {
   "cell_type": "code",
   "execution_count": 28,
   "id": "56898b5b",
   "metadata": {},
   "outputs": [
    {
     "data": {
      "text/plain": [
       "'john'"
      ]
     },
     "execution_count": 28,
     "metadata": {},
     "output_type": "execute_result"
    }
   ],
   "source": [
    "List[0]"
   ]
  },
  {
   "cell_type": "code",
   "execution_count": 29,
   "id": "23756d2f",
   "metadata": {},
   "outputs": [
    {
     "data": {
      "text/plain": [
       "str"
      ]
     },
     "execution_count": 29,
     "metadata": {},
     "output_type": "execute_result"
    }
   ],
   "source": [
    "type(List[0])"
   ]
  },
  {
   "cell_type": "code",
   "execution_count": 30,
   "id": "57b2eba0",
   "metadata": {},
   "outputs": [
    {
     "data": {
      "text/plain": [
       "True"
      ]
     },
     "execution_count": 30,
     "metadata": {},
     "output_type": "execute_result"
    }
   ],
   "source": [
    "List[1]"
   ]
  },
  {
   "cell_type": "code",
   "execution_count": 31,
   "id": "ee05a994",
   "metadata": {},
   "outputs": [
    {
     "data": {
      "text/plain": [
       "bool"
      ]
     },
     "execution_count": 31,
     "metadata": {},
     "output_type": "execute_result"
    }
   ],
   "source": [
    "type(List[1])"
   ]
  },
  {
   "cell_type": "code",
   "execution_count": 32,
   "id": "a35a4088",
   "metadata": {},
   "outputs": [
    {
     "data": {
      "text/plain": [
       "float"
      ]
     },
     "execution_count": 32,
     "metadata": {},
     "output_type": "execute_result"
    }
   ],
   "source": [
    "type(List[2])"
   ]
  },
  {
   "cell_type": "code",
   "execution_count": 33,
   "id": "137c1301",
   "metadata": {},
   "outputs": [
    {
     "data": {
      "text/plain": [
       "int"
      ]
     },
     "execution_count": 33,
     "metadata": {},
     "output_type": "execute_result"
    }
   ],
   "source": [
    "type(List[3])"
   ]
  },
  {
   "cell_type": "code",
   "execution_count": 35,
   "id": "fe5b8cae",
   "metadata": {},
   "outputs": [
    {
     "data": {
      "text/plain": [
       "['john', True, 10.5, 20]"
      ]
     },
     "execution_count": 35,
     "metadata": {},
     "output_type": "execute_result"
    }
   ],
   "source": [
    "List"
   ]
  },
  {
   "cell_type": "code",
   "execution_count": 36,
   "id": "309b8986",
   "metadata": {},
   "outputs": [],
   "source": [
    "List[2]=0"
   ]
  },
  {
   "cell_type": "code",
   "execution_count": 37,
   "id": "e604c899",
   "metadata": {},
   "outputs": [
    {
     "data": {
      "text/plain": [
       "['john', True, 0, 20]"
      ]
     },
     "execution_count": 37,
     "metadata": {},
     "output_type": "execute_result"
    }
   ],
   "source": [
    "List"
   ]
  },
  {
   "cell_type": "code",
   "execution_count": 39,
   "id": "9832848e",
   "metadata": {},
   "outputs": [
    {
     "data": {
      "text/plain": [
       "['john', True, 0, 20]"
      ]
     },
     "execution_count": 39,
     "metadata": {},
     "output_type": "execute_result"
    }
   ],
   "source": [
    "List"
   ]
  },
  {
   "cell_type": "code",
   "execution_count": 40,
   "id": "82a91fa6",
   "metadata": {},
   "outputs": [],
   "source": [
    "List[1:4]=[20,40,60]"
   ]
  },
  {
   "cell_type": "code",
   "execution_count": 41,
   "id": "c516e50a",
   "metadata": {},
   "outputs": [
    {
     "data": {
      "text/plain": [
       "['john', 20, 40, 60]"
      ]
     },
     "execution_count": 41,
     "metadata": {},
     "output_type": "execute_result"
    }
   ],
   "source": [
    "List"
   ]
  },
  {
   "cell_type": "code",
   "execution_count": 42,
   "id": "af17f0e6",
   "metadata": {},
   "outputs": [],
   "source": [
    "List[-3:]=[True,False,True]"
   ]
  },
  {
   "cell_type": "code",
   "execution_count": 43,
   "id": "12d70d83",
   "metadata": {},
   "outputs": [
    {
     "data": {
      "text/plain": [
       "['john', True, False, True]"
      ]
     },
     "execution_count": 43,
     "metadata": {},
     "output_type": "execute_result"
    }
   ],
   "source": [
    "List"
   ]
  },
  {
   "cell_type": "code",
   "execution_count": 44,
   "id": "2d4fad9d",
   "metadata": {},
   "outputs": [],
   "source": [
    "List[-1:-4:-1]= [10,20,30]"
   ]
  },
  {
   "cell_type": "code",
   "execution_count": 45,
   "id": "e11986b3",
   "metadata": {},
   "outputs": [
    {
     "data": {
      "text/plain": [
       "['john', 30, 20, 10]"
      ]
     },
     "execution_count": 45,
     "metadata": {},
     "output_type": "execute_result"
    }
   ],
   "source": [
    "List"
   ]
  },
  {
   "cell_type": "code",
   "execution_count": 46,
   "id": "3b9ea581",
   "metadata": {},
   "outputs": [
    {
     "data": {
      "text/plain": [
       "[21, 17, 17, 18, 21, 22, 23, 22, 31, 23]"
      ]
     },
     "execution_count": 46,
     "metadata": {},
     "output_type": "execute_result"
    }
   ],
   "source": [
    "Ages"
   ]
  },
  {
   "cell_type": "code",
   "execution_count": 47,
   "id": "18e07552",
   "metadata": {},
   "outputs": [
    {
     "data": {
      "text/plain": [
       "[21, 17, 17, 18, 21, 22, 23]"
      ]
     },
     "execution_count": 47,
     "metadata": {},
     "output_type": "execute_result"
    }
   ],
   "source": [
    "Ages[:7]"
   ]
  },
  {
   "cell_type": "code",
   "execution_count": 48,
   "id": "11194f4d",
   "metadata": {},
   "outputs": [
    {
     "data": {
      "text/plain": [
       "[21, 17, 17, 18, 21, 22, 23, 22, 31, 23]"
      ]
     },
     "execution_count": 48,
     "metadata": {},
     "output_type": "execute_result"
    }
   ],
   "source": [
    "Ages"
   ]
  },
  {
   "cell_type": "code",
   "execution_count": 49,
   "id": "4760d1e7",
   "metadata": {},
   "outputs": [],
   "source": [
    "Ages.append(100)"
   ]
  },
  {
   "cell_type": "code",
   "execution_count": 50,
   "id": "63aad4b5",
   "metadata": {},
   "outputs": [
    {
     "data": {
      "text/plain": [
       "[21, 17, 17, 18, 21, 22, 23, 22, 31, 23, 100]"
      ]
     },
     "execution_count": 50,
     "metadata": {},
     "output_type": "execute_result"
    }
   ],
   "source": [
    "Ages"
   ]
  },
  {
   "cell_type": "code",
   "execution_count": 53,
   "id": "f71698f4",
   "metadata": {},
   "outputs": [
    {
     "ename": "TypeError",
     "evalue": "append() takes exactly one argument (3 given)",
     "output_type": "error",
     "traceback": [
      "\u001b[1;31m---------------------------------------------------------------------------\u001b[0m",
      "\u001b[1;31mTypeError\u001b[0m                                 Traceback (most recent call last)",
      "\u001b[1;32m<ipython-input-53-6b3e64db0045>\u001b[0m in \u001b[0;36m<module>\u001b[1;34m\u001b[0m\n\u001b[1;32m----> 1\u001b[1;33m \u001b[0mAges\u001b[0m\u001b[1;33m.\u001b[0m\u001b[0mappend\u001b[0m\u001b[1;33m(\u001b[0m\u001b[1;36m121\u001b[0m\u001b[1;33m,\u001b[0m\u001b[1;36m123\u001b[0m\u001b[1;33m,\u001b[0m\u001b[1;36m124\u001b[0m\u001b[1;33m)\u001b[0m\u001b[1;33m\u001b[0m\u001b[1;33m\u001b[0m\u001b[0m\n\u001b[0m",
      "\u001b[1;31mTypeError\u001b[0m: append() takes exactly one argument (3 given)"
     ]
    }
   ],
   "source": [
    "Ages.append(121,123,124)"
   ]
  },
  {
   "cell_type": "code",
   "execution_count": 51,
   "id": "9c612d57",
   "metadata": {},
   "outputs": [],
   "source": [
    "Ages.append([121,123,124])#Need to pass as list"
   ]
  },
  {
   "cell_type": "code",
   "execution_count": 56,
   "id": "59bdee19",
   "metadata": {},
   "outputs": [
    {
     "data": {
      "text/plain": [
       "[]"
      ]
     },
     "execution_count": 56,
     "metadata": {},
     "output_type": "execute_result"
    }
   ],
   "source": [
    "Ages"
   ]
  },
  {
   "cell_type": "code",
   "execution_count": 54,
   "id": "47137a92",
   "metadata": {},
   "outputs": [],
   "source": [
    "Ages.clear()"
   ]
  },
  {
   "cell_type": "code",
   "execution_count": 58,
   "id": "98296549",
   "metadata": {},
   "outputs": [
    {
     "data": {
      "text/plain": [
       "[21, 17, 17, 18, 21, 22, 23, 22, 31, 23]"
      ]
     },
     "execution_count": 58,
     "metadata": {},
     "output_type": "execute_result"
    }
   ],
   "source": [
    "Ages"
   ]
  },
  {
   "cell_type": "code",
   "execution_count": 59,
   "id": "394a2a42",
   "metadata": {},
   "outputs": [],
   "source": [
    "Ages1=Ages.copy()"
   ]
  },
  {
   "cell_type": "code",
   "execution_count": 60,
   "id": "050284bc",
   "metadata": {},
   "outputs": [
    {
     "data": {
      "text/plain": [
       "[21, 17, 17, 18, 21, 22, 23, 22, 31, 23]"
      ]
     },
     "execution_count": 60,
     "metadata": {},
     "output_type": "execute_result"
    }
   ],
   "source": [
    "Ages1"
   ]
  },
  {
   "cell_type": "code",
   "execution_count": 61,
   "id": "2f07a705",
   "metadata": {},
   "outputs": [
    {
     "data": {
      "text/plain": [
       "2"
      ]
     },
     "execution_count": 61,
     "metadata": {},
     "output_type": "execute_result"
    }
   ],
   "source": [
    "Ages.count(22)"
   ]
  },
  {
   "cell_type": "code",
   "execution_count": 62,
   "id": "83be4040",
   "metadata": {},
   "outputs": [
    {
     "ename": "TypeError",
     "evalue": "extend() takes exactly one argument (3 given)",
     "output_type": "error",
     "traceback": [
      "\u001b[1;31m---------------------------------------------------------------------------\u001b[0m",
      "\u001b[1;31mTypeError\u001b[0m                                 Traceback (most recent call last)",
      "\u001b[1;32m<ipython-input-62-d335c653a7ab>\u001b[0m in \u001b[0;36m<module>\u001b[1;34m\u001b[0m\n\u001b[1;32m----> 1\u001b[1;33m \u001b[0mAges\u001b[0m\u001b[1;33m.\u001b[0m\u001b[0mextend\u001b[0m\u001b[1;33m(\u001b[0m\u001b[1;36m10\u001b[0m\u001b[1;33m,\u001b[0m\u001b[1;36m20\u001b[0m\u001b[1;33m,\u001b[0m\u001b[1;36m30\u001b[0m\u001b[1;33m)\u001b[0m\u001b[1;33m\u001b[0m\u001b[1;33m\u001b[0m\u001b[0m\n\u001b[0m",
      "\u001b[1;31mTypeError\u001b[0m: extend() takes exactly one argument (3 given)"
     ]
    }
   ],
   "source": [
    "Ages.extend(10,20,30)"
   ]
  },
  {
   "cell_type": "code",
   "execution_count": 63,
   "id": "5de2c208",
   "metadata": {},
   "outputs": [],
   "source": [
    "Ages.extend([10,20,30])"
   ]
  },
  {
   "cell_type": "code",
   "execution_count": 64,
   "id": "4388d2c2",
   "metadata": {},
   "outputs": [
    {
     "data": {
      "text/plain": [
       "[21, 17, 17, 18, 21, 22, 23, 22, 31, 23, 10, 20, 30]"
      ]
     },
     "execution_count": 64,
     "metadata": {},
     "output_type": "execute_result"
    }
   ],
   "source": [
    "Ages\n"
   ]
  },
  {
   "cell_type": "code",
   "execution_count": 66,
   "id": "b032bd5a",
   "metadata": {},
   "outputs": [
    {
     "data": {
      "text/plain": [
       "0"
      ]
     },
     "execution_count": 66,
     "metadata": {},
     "output_type": "execute_result"
    }
   ],
   "source": [
    "Ages.index(21)"
   ]
  },
  {
   "cell_type": "code",
   "execution_count": 67,
   "id": "1ab1ef1f",
   "metadata": {},
   "outputs": [],
   "source": [
    "Ages.insert(4,130)"
   ]
  },
  {
   "cell_type": "code",
   "execution_count": 68,
   "id": "b5c8bd16",
   "metadata": {},
   "outputs": [
    {
     "data": {
      "text/plain": [
       "[21, 17, 17, 18, 130, 21, 22, 23, 22, 31, 23, 10, 20, 30]"
      ]
     },
     "execution_count": 68,
     "metadata": {},
     "output_type": "execute_result"
    }
   ],
   "source": [
    "Ages"
   ]
  },
  {
   "cell_type": "code",
   "execution_count": 69,
   "id": "6c7eb581",
   "metadata": {},
   "outputs": [
    {
     "data": {
      "text/plain": [
       "30"
      ]
     },
     "execution_count": 69,
     "metadata": {},
     "output_type": "execute_result"
    }
   ],
   "source": [
    "Ages.pop()"
   ]
  },
  {
   "cell_type": "code",
   "execution_count": 70,
   "id": "5b7331d3",
   "metadata": {},
   "outputs": [
    {
     "data": {
      "text/plain": [
       "[21, 17, 17, 18, 130, 21, 22, 23, 22, 31, 23, 10, 20]"
      ]
     },
     "execution_count": 70,
     "metadata": {},
     "output_type": "execute_result"
    }
   ],
   "source": [
    "Ages"
   ]
  },
  {
   "cell_type": "code",
   "execution_count": 71,
   "id": "971a30de",
   "metadata": {},
   "outputs": [
    {
     "data": {
      "text/plain": [
       "17"
      ]
     },
     "execution_count": 71,
     "metadata": {},
     "output_type": "execute_result"
    }
   ],
   "source": [
    "Ages.pop(2)"
   ]
  },
  {
   "cell_type": "code",
   "execution_count": 72,
   "id": "9667fece",
   "metadata": {},
   "outputs": [
    {
     "data": {
      "text/plain": [
       "[21, 17, 18, 130, 21, 22, 23, 22, 31, 23, 10, 20]"
      ]
     },
     "execution_count": 72,
     "metadata": {},
     "output_type": "execute_result"
    }
   ],
   "source": [
    "Ages"
   ]
  },
  {
   "cell_type": "code",
   "execution_count": 73,
   "id": "48b5397a",
   "metadata": {},
   "outputs": [],
   "source": [
    "Ages.remove(130)"
   ]
  },
  {
   "cell_type": "code",
   "execution_count": 74,
   "id": "1a865ca0",
   "metadata": {},
   "outputs": [
    {
     "data": {
      "text/plain": [
       "[21, 17, 18, 21, 22, 23, 22, 31, 23, 10, 20]"
      ]
     },
     "execution_count": 74,
     "metadata": {},
     "output_type": "execute_result"
    }
   ],
   "source": [
    "Ages"
   ]
  },
  {
   "cell_type": "code",
   "execution_count": 75,
   "id": "30fcdc9f",
   "metadata": {},
   "outputs": [],
   "source": [
    "Ages.reverse()"
   ]
  },
  {
   "cell_type": "code",
   "execution_count": 76,
   "id": "3b96f8d4",
   "metadata": {},
   "outputs": [
    {
     "data": {
      "text/plain": [
       "[20, 10, 23, 31, 22, 23, 22, 21, 18, 17, 21]"
      ]
     },
     "execution_count": 76,
     "metadata": {},
     "output_type": "execute_result"
    }
   ],
   "source": [
    "Ages"
   ]
  },
  {
   "cell_type": "code",
   "execution_count": 77,
   "id": "475cec72",
   "metadata": {},
   "outputs": [],
   "source": [
    "Ages.sort()"
   ]
  },
  {
   "cell_type": "code",
   "execution_count": 78,
   "id": "72ea4286",
   "metadata": {},
   "outputs": [
    {
     "data": {
      "text/plain": [
       "[10, 17, 18, 20, 21, 21, 22, 22, 23, 23, 31]"
      ]
     },
     "execution_count": 78,
     "metadata": {},
     "output_type": "execute_result"
    }
   ],
   "source": [
    "Ages"
   ]
  },
  {
   "cell_type": "code",
   "execution_count": null,
   "id": "ece5f110",
   "metadata": {},
   "outputs": [],
   "source": []
  }
 ],
 "metadata": {
  "kernelspec": {
   "display_name": "Python 3",
   "language": "python",
   "name": "python3"
  },
  "language_info": {
   "codemirror_mode": {
    "name": "ipython",
    "version": 3
   },
   "file_extension": ".py",
   "mimetype": "text/x-python",
   "name": "python",
   "nbconvert_exporter": "python",
   "pygments_lexer": "ipython3",
   "version": "3.8.8"
  }
 },
 "nbformat": 4,
 "nbformat_minor": 5
}
