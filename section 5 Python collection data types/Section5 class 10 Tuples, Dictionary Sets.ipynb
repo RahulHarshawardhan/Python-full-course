{
 "cells": [
  {
   "cell_type": "markdown",
   "id": "c8fd4619",
   "metadata": {},
   "source": [
    "\n",
    "# Tuple"
   ]
  },
  {
   "cell_type": "code",
   "execution_count": 2,
   "id": "b8d491dd",
   "metadata": {},
   "outputs": [],
   "source": [
    "tuple1=(32,22,43,3,23,34,33,23)"
   ]
  },
  {
   "cell_type": "code",
   "execution_count": 5,
   "id": "1a5841e4",
   "metadata": {},
   "outputs": [
    {
     "data": {
      "text/plain": [
       "(32, 22, 43, 3, 23, 34, 33, 23)"
      ]
     },
     "execution_count": 5,
     "metadata": {},
     "output_type": "execute_result"
    }
   ],
   "source": [
    "tuple1"
   ]
  },
  {
   "cell_type": "code",
   "execution_count": 6,
   "id": "2c3fc1ad",
   "metadata": {},
   "outputs": [
    {
     "data": {
      "text/plain": [
       "tuple"
      ]
     },
     "execution_count": 6,
     "metadata": {},
     "output_type": "execute_result"
    }
   ],
   "source": [
    "type(tuple1)"
   ]
  },
  {
   "cell_type": "code",
   "execution_count": 7,
   "id": "60e8a68e",
   "metadata": {},
   "outputs": [
    {
     "data": {
      "text/plain": [
       "3"
      ]
     },
     "execution_count": 7,
     "metadata": {},
     "output_type": "execute_result"
    }
   ],
   "source": [
    "tuple1[3]"
   ]
  },
  {
   "cell_type": "code",
   "execution_count": 8,
   "id": "d5f9b3a3",
   "metadata": {},
   "outputs": [
    {
     "ename": "TypeError",
     "evalue": "'tuple' object does not support item assignment",
     "output_type": "error",
     "traceback": [
      "\u001b[1;31m---------------------------------------------------------------------------\u001b[0m",
      "\u001b[1;31mTypeError\u001b[0m                                 Traceback (most recent call last)",
      "\u001b[1;32m<ipython-input-8-fb36635127c6>\u001b[0m in \u001b[0;36m<module>\u001b[1;34m\u001b[0m\n\u001b[1;32m----> 1\u001b[1;33m \u001b[0mtuple1\u001b[0m\u001b[1;33m[\u001b[0m\u001b[1;36m3\u001b[0m\u001b[1;33m]\u001b[0m\u001b[1;33m=\u001b[0m\u001b[1;36m34\u001b[0m\u001b[1;33m\u001b[0m\u001b[1;33m\u001b[0m\u001b[0m\n\u001b[0m",
      "\u001b[1;31mTypeError\u001b[0m: 'tuple' object does not support item assignment"
     ]
    }
   ],
   "source": [
    "tuple1[3]=34"
   ]
  },
  {
   "cell_type": "code",
   "execution_count": 9,
   "id": "38c68fc5",
   "metadata": {},
   "outputs": [
    {
     "data": {
      "text/plain": [
       "2"
      ]
     },
     "execution_count": 9,
     "metadata": {},
     "output_type": "execute_result"
    }
   ],
   "source": [
    "tuple1.count(23)"
   ]
  },
  {
   "cell_type": "code",
   "execution_count": 10,
   "id": "e2295cac",
   "metadata": {},
   "outputs": [
    {
     "data": {
      "text/plain": [
       "(32, 22, 43, 3, 23, 34, 33, 23)"
      ]
     },
     "execution_count": 10,
     "metadata": {},
     "output_type": "execute_result"
    }
   ],
   "source": [
    "tuple1"
   ]
  },
  {
   "cell_type": "code",
   "execution_count": 11,
   "id": "ec0f3699",
   "metadata": {},
   "outputs": [
    {
     "data": {
      "text/plain": [
       "3"
      ]
     },
     "execution_count": 11,
     "metadata": {},
     "output_type": "execute_result"
    }
   ],
   "source": [
    "tuple1.index(3)"
   ]
  },
  {
   "cell_type": "code",
   "execution_count": 12,
   "id": "06b7ced7",
   "metadata": {},
   "outputs": [
    {
     "data": {
      "text/plain": [
       "2"
      ]
     },
     "execution_count": 12,
     "metadata": {},
     "output_type": "execute_result"
    }
   ],
   "source": [
    "tuple1.index(43)"
   ]
  },
  {
   "cell_type": "code",
   "execution_count": 13,
   "id": "4f5ed500",
   "metadata": {},
   "outputs": [
    {
     "data": {
      "text/plain": [
       "(32, 22, 43, 3, 23, 34, 33, 23)"
      ]
     },
     "execution_count": 13,
     "metadata": {},
     "output_type": "execute_result"
    }
   ],
   "source": [
    "tuple1"
   ]
  },
  {
   "cell_type": "code",
   "execution_count": 14,
   "id": "157f361b",
   "metadata": {},
   "outputs": [
    {
     "data": {
      "text/plain": [
       "213"
      ]
     },
     "execution_count": 14,
     "metadata": {},
     "output_type": "execute_result"
    }
   ],
   "source": [
    "sum(tuple1)"
   ]
  },
  {
   "cell_type": "code",
   "execution_count": 15,
   "id": "463d1366",
   "metadata": {},
   "outputs": [],
   "source": [
    "tuple1=tuple()"
   ]
  },
  {
   "cell_type": "code",
   "execution_count": 18,
   "id": "a4b19373",
   "metadata": {},
   "outputs": [
    {
     "data": {
      "text/plain": [
       "(32, 22, 43, 3, 23, 34, 33, 23)"
      ]
     },
     "execution_count": 18,
     "metadata": {},
     "output_type": "execute_result"
    }
   ],
   "source": [
    "tuple1"
   ]
  },
  {
   "cell_type": "code",
   "execution_count": 19,
   "id": "a3922a3a",
   "metadata": {},
   "outputs": [
    {
     "data": {
      "text/plain": [
       "8"
      ]
     },
     "execution_count": 19,
     "metadata": {},
     "output_type": "execute_result"
    }
   ],
   "source": [
    "len(tuple1)"
   ]
  },
  {
   "cell_type": "code",
   "execution_count": 20,
   "id": "30db12ad",
   "metadata": {},
   "outputs": [
    {
     "data": {
      "text/plain": [
       "(32, 22, 43, 3, 23, 34, 33, 23)"
      ]
     },
     "execution_count": 20,
     "metadata": {},
     "output_type": "execute_result"
    }
   ],
   "source": [
    "tuple1"
   ]
  },
  {
   "cell_type": "code",
   "execution_count": 21,
   "id": "559b5c55",
   "metadata": {},
   "outputs": [
    {
     "data": {
      "text/plain": [
       "(22, 43, 3, 23)"
      ]
     },
     "execution_count": 21,
     "metadata": {},
     "output_type": "execute_result"
    }
   ],
   "source": [
    "tuple1[1:5] #slicing of tuple\n",
    "#slicing always on square bracket."
   ]
  },
  {
   "cell_type": "code",
   "execution_count": 22,
   "id": "ee14d826",
   "metadata": {},
   "outputs": [
    {
     "data": {
      "text/plain": [
       "(34, 23, 3, 43, 22, 32)"
      ]
     },
     "execution_count": 22,
     "metadata": {},
     "output_type": "execute_result"
    }
   ],
   "source": [
    "tuple1[5::-1]"
   ]
  },
  {
   "cell_type": "markdown",
   "id": "a6142b1d",
   "metadata": {},
   "source": [
    "# Dictionary"
   ]
  },
  {
   "cell_type": "code",
   "execution_count": 24,
   "id": "6b3b5756",
   "metadata": {},
   "outputs": [],
   "source": [
    "dict1={\"cust_id\": [1,2,3,4,5],\n",
    "     \"cust_name\":['A','B','C','D','E'],\n",
    "      \"Region\":['N','S','S','E','W']}"
   ]
  },
  {
   "cell_type": "code",
   "execution_count": 25,
   "id": "bd1931e5",
   "metadata": {},
   "outputs": [
    {
     "data": {
      "text/plain": [
       "{'cust_id': [1, 2, 3, 4, 5],\n",
       " 'cust_name': ['A', 'B', 'C', 'D', 'E'],\n",
       " 'Region': ['N', 'S', 'S', 'E', 'W']}"
      ]
     },
     "execution_count": 25,
     "metadata": {},
     "output_type": "execute_result"
    }
   ],
   "source": [
    "dict1"
   ]
  },
  {
   "cell_type": "code",
   "execution_count": 26,
   "id": "d64bd53e",
   "metadata": {},
   "outputs": [],
   "source": [
    "dict1[\"Product\"]=['Py','Tab','SQL','Py','R']# Adding a new key:value pair"
   ]
  },
  {
   "cell_type": "code",
   "execution_count": 27,
   "id": "45dd20be",
   "metadata": {},
   "outputs": [
    {
     "data": {
      "text/plain": [
       "{'cust_id': [1, 2, 3, 4, 5],\n",
       " 'cust_name': ['A', 'B', 'C', 'D', 'E'],\n",
       " 'Region': ['N', 'S', 'S', 'E', 'W'],\n",
       " 'Product': ['Py', 'Tab', 'SQL', 'Py', 'R']}"
      ]
     },
     "execution_count": 27,
     "metadata": {},
     "output_type": "execute_result"
    }
   ],
   "source": [
    "dict1"
   ]
  },
  {
   "cell_type": "code",
   "execution_count": 30,
   "id": "abe59714",
   "metadata": {},
   "outputs": [],
   "source": [
    "dict1[\"cust_name\"][0]= 'Z'"
   ]
  },
  {
   "cell_type": "code",
   "execution_count": 31,
   "id": "6cd4fbec",
   "metadata": {},
   "outputs": [
    {
     "data": {
      "text/plain": [
       "{'cust_id': [1, 2, 3, 4, 5],\n",
       " 'cust_name': ['Z', 'B', 'C', 'D', 'E'],\n",
       " 'Region': ['N', 'S', 'S', 'E', 'W'],\n",
       " 'Product': ['Py', 'Tab', 'SQL', 'Py', 'R']}"
      ]
     },
     "execution_count": 31,
     "metadata": {},
     "output_type": "execute_result"
    }
   ],
   "source": [
    "dict1"
   ]
  },
  {
   "cell_type": "code",
   "execution_count": 33,
   "id": "481db09f",
   "metadata": {},
   "outputs": [],
   "source": [
    "import pandas as pd"
   ]
  },
  {
   "cell_type": "code",
   "execution_count": 35,
   "id": "0250f2f6",
   "metadata": {},
   "outputs": [],
   "source": [
    "a = pd.DataFrame(dict1)"
   ]
  },
  {
   "cell_type": "code",
   "execution_count": 36,
   "id": "9bcb0477",
   "metadata": {},
   "outputs": [
    {
     "data": {
      "text/html": [
       "<div>\n",
       "<style scoped>\n",
       "    .dataframe tbody tr th:only-of-type {\n",
       "        vertical-align: middle;\n",
       "    }\n",
       "\n",
       "    .dataframe tbody tr th {\n",
       "        vertical-align: top;\n",
       "    }\n",
       "\n",
       "    .dataframe thead th {\n",
       "        text-align: right;\n",
       "    }\n",
       "</style>\n",
       "<table border=\"1\" class=\"dataframe\">\n",
       "  <thead>\n",
       "    <tr style=\"text-align: right;\">\n",
       "      <th></th>\n",
       "      <th>cust_id</th>\n",
       "      <th>cust_name</th>\n",
       "      <th>Region</th>\n",
       "      <th>Product</th>\n",
       "    </tr>\n",
       "  </thead>\n",
       "  <tbody>\n",
       "    <tr>\n",
       "      <th>0</th>\n",
       "      <td>1</td>\n",
       "      <td>Z</td>\n",
       "      <td>N</td>\n",
       "      <td>Py</td>\n",
       "    </tr>\n",
       "    <tr>\n",
       "      <th>1</th>\n",
       "      <td>2</td>\n",
       "      <td>B</td>\n",
       "      <td>S</td>\n",
       "      <td>Tab</td>\n",
       "    </tr>\n",
       "    <tr>\n",
       "      <th>2</th>\n",
       "      <td>3</td>\n",
       "      <td>C</td>\n",
       "      <td>S</td>\n",
       "      <td>SQL</td>\n",
       "    </tr>\n",
       "    <tr>\n",
       "      <th>3</th>\n",
       "      <td>4</td>\n",
       "      <td>D</td>\n",
       "      <td>E</td>\n",
       "      <td>Py</td>\n",
       "    </tr>\n",
       "    <tr>\n",
       "      <th>4</th>\n",
       "      <td>5</td>\n",
       "      <td>E</td>\n",
       "      <td>W</td>\n",
       "      <td>R</td>\n",
       "    </tr>\n",
       "  </tbody>\n",
       "</table>\n",
       "</div>"
      ],
      "text/plain": [
       "   cust_id cust_name Region Product\n",
       "0        1         Z      N      Py\n",
       "1        2         B      S     Tab\n",
       "2        3         C      S     SQL\n",
       "3        4         D      E      Py\n",
       "4        5         E      W       R"
      ]
     },
     "execution_count": 36,
     "metadata": {},
     "output_type": "execute_result"
    }
   ],
   "source": [
    "a"
   ]
  },
  {
   "cell_type": "code",
   "execution_count": 37,
   "id": "5ed2b240",
   "metadata": {},
   "outputs": [
    {
     "data": {
      "text/plain": [
       "pandas.core.frame.DataFrame"
      ]
     },
     "execution_count": 37,
     "metadata": {},
     "output_type": "execute_result"
    }
   ],
   "source": [
    "type(a)"
   ]
  },
  {
   "cell_type": "code",
   "execution_count": 38,
   "id": "0b4b7f3b",
   "metadata": {},
   "outputs": [
    {
     "data": {
      "text/plain": [
       "{'cust_id': [1, 2, 3, 4, 5],\n",
       " 'cust_name': ['Z', 'B', 'C', 'D', 'E'],\n",
       " 'Region': ['N', 'S', 'S', 'E', 'W'],\n",
       " 'Product': ['Py', 'Tab', 'SQL', 'Py', 'R']}"
      ]
     },
     "execution_count": 38,
     "metadata": {},
     "output_type": "execute_result"
    }
   ],
   "source": [
    "'dict1"
   ]
  },
  {
   "cell_type": "code",
   "execution_count": 63,
   "id": "6ecd9b16",
   "metadata": {},
   "outputs": [],
   "source": [
    "dict2=dict1.copy()"
   ]
  },
  {
   "cell_type": "code",
   "execution_count": 64,
   "id": "08b6d41f",
   "metadata": {},
   "outputs": [
    {
     "data": {
      "text/plain": [
       "{'cust_id': [1, 2, 3, 4, 5],\n",
       " 'cust_name': ['Z', 'B', 'C', 'D', 'E'],\n",
       " 'Region': ['N', 'S', 'S', 'E', 'W'],\n",
       " 'Product': ['Py', 'Tab', 'SQL', 'Py', 'R']}"
      ]
     },
     "execution_count": 64,
     "metadata": {},
     "output_type": "execute_result"
    }
   ],
   "source": [
    "dict2"
   ]
  },
  {
   "cell_type": "code",
   "execution_count": 44,
   "id": "383396c2",
   "metadata": {},
   "outputs": [
    {
     "data": {
      "text/plain": [
       "{'cust_id': [1, 2, 3, 4, 5],\n",
       " 'cust_name': ['Z', 'B', 'C', 'D', 'E'],\n",
       " 'Region': ['N', 'S', 'S', 'E', 'W'],\n",
       " 'Product': ['Py', 'Tab', 'SQL', 'Py', 'R']}"
      ]
     },
     "execution_count": 44,
     "metadata": {},
     "output_type": "execute_result"
    }
   ],
   "source": [
    "dict2"
   ]
  },
  {
   "cell_type": "code",
   "execution_count": 46,
   "id": "da116937",
   "metadata": {},
   "outputs": [
    {
     "data": {
      "text/plain": [
       "{'product': None, 'cust_id': None}"
      ]
     },
     "execution_count": 46,
     "metadata": {},
     "output_type": "execute_result"
    }
   ],
   "source": [
    "dict2.fromkeys({\"cust_id\",\"product\"})"
   ]
  },
  {
   "cell_type": "code",
   "execution_count": 49,
   "id": "4b274e5b",
   "metadata": {},
   "outputs": [],
   "source": [
    "dict3=dict2.fromkeys({\"cust_id\",\"product\"},'NA')"
   ]
  },
  {
   "cell_type": "code",
   "execution_count": 50,
   "id": "b5ba6b7a",
   "metadata": {},
   "outputs": [
    {
     "data": {
      "text/plain": [
       "{'product': 'NA', 'cust_id': 'NA'}"
      ]
     },
     "execution_count": 50,
     "metadata": {},
     "output_type": "execute_result"
    }
   ],
   "source": [
    "dict3"
   ]
  },
  {
   "cell_type": "code",
   "execution_count": 51,
   "id": "d8f0087e",
   "metadata": {},
   "outputs": [],
   "source": [
    "dict3['product']='Tab'"
   ]
  },
  {
   "cell_type": "code",
   "execution_count": 52,
   "id": "22e63cf7",
   "metadata": {},
   "outputs": [
    {
     "data": {
      "text/plain": [
       "{'product': 'Tab', 'cust_id': 'NA'}"
      ]
     },
     "execution_count": 52,
     "metadata": {},
     "output_type": "execute_result"
    }
   ],
   "source": [
    "dict3"
   ]
  },
  {
   "cell_type": "code",
   "execution_count": 53,
   "id": "4671c471",
   "metadata": {},
   "outputs": [],
   "source": [
    "dict3['cust_name']='B'"
   ]
  },
  {
   "cell_type": "code",
   "execution_count": 54,
   "id": "0f3d977b",
   "metadata": {},
   "outputs": [
    {
     "data": {
      "text/plain": [
       "{'product': 'Tab', 'cust_id': 'NA', 'cust_name': 'B'}"
      ]
     },
     "execution_count": 54,
     "metadata": {},
     "output_type": "execute_result"
    }
   ],
   "source": [
    "dict3"
   ]
  },
  {
   "cell_type": "code",
   "execution_count": 55,
   "id": "16dd04e1",
   "metadata": {},
   "outputs": [
    {
     "data": {
      "text/plain": [
       "{'cust_id': [1, 2, 3, 4, 5],\n",
       " 'cust_name': ['Z', 'B', 'C', 'D', 'E'],\n",
       " 'Region': ['N', 'S', 'S', 'E', 'W'],\n",
       " 'Product': ['Py', 'Tab', 'SQL', 'Py', 'R']}"
      ]
     },
     "execution_count": 55,
     "metadata": {},
     "output_type": "execute_result"
    }
   ],
   "source": [
    "dict2"
   ]
  },
  {
   "cell_type": "code",
   "execution_count": 56,
   "id": "45811081",
   "metadata": {},
   "outputs": [
    {
     "data": {
      "text/plain": [
       "[1, 2, 3, 4, 5]"
      ]
     },
     "execution_count": 56,
     "metadata": {},
     "output_type": "execute_result"
    }
   ],
   "source": [
    "dict2.get('cust_id')"
   ]
  },
  {
   "cell_type": "code",
   "execution_count": 57,
   "id": "135ff846",
   "metadata": {},
   "outputs": [
    {
     "data": {
      "text/plain": [
       "['Py', 'Tab', 'SQL', 'Py', 'R']"
      ]
     },
     "execution_count": 57,
     "metadata": {},
     "output_type": "execute_result"
    }
   ],
   "source": [
    "dict2.get('Product')"
   ]
  },
  {
   "cell_type": "code",
   "execution_count": 58,
   "id": "ffd38767",
   "metadata": {},
   "outputs": [
    {
     "data": {
      "text/plain": [
       "dict_items([('cust_id', [1, 2, 3, 4, 5]), ('cust_name', ['Z', 'B', 'C', 'D', 'E']), ('Region', ['N', 'S', 'S', 'E', 'W']), ('Product', ['Py', 'Tab', 'SQL', 'Py', 'R'])])"
      ]
     },
     "execution_count": 58,
     "metadata": {},
     "output_type": "execute_result"
    }
   ],
   "source": [
    "dict2.items()"
   ]
  },
  {
   "cell_type": "code",
   "execution_count": 59,
   "id": "fe4a1a2a",
   "metadata": {},
   "outputs": [
    {
     "data": {
      "text/plain": [
       "dict_keys(['cust_id', 'cust_name', 'Region', 'Product'])"
      ]
     },
     "execution_count": 59,
     "metadata": {},
     "output_type": "execute_result"
    }
   ],
   "source": [
    "dict2.keys()"
   ]
  },
  {
   "cell_type": "code",
   "execution_count": 60,
   "id": "8f1f85a1",
   "metadata": {},
   "outputs": [
    {
     "data": {
      "text/plain": [
       "[1, 2, 3, 4, 5]"
      ]
     },
     "execution_count": 60,
     "metadata": {},
     "output_type": "execute_result"
    }
   ],
   "source": [
    "dict2.pop('cust_id')"
   ]
  },
  {
   "cell_type": "code",
   "execution_count": 61,
   "id": "bdeae0d7",
   "metadata": {},
   "outputs": [
    {
     "data": {
      "text/plain": [
       "{'cust_name': ['Z', 'B', 'C', 'D', 'E'],\n",
       " 'Region': ['N', 'S', 'S', 'E', 'W'],\n",
       " 'Product': ['Py', 'Tab', 'SQL', 'Py', 'R']}"
      ]
     },
     "execution_count": 61,
     "metadata": {},
     "output_type": "execute_result"
    }
   ],
   "source": [
    "dict2"
   ]
  },
  {
   "cell_type": "code",
   "execution_count": 65,
   "id": "59b93b51",
   "metadata": {},
   "outputs": [
    {
     "data": {
      "text/plain": [
       "('Product', ['Py', 'Tab', 'SQL', 'Py', 'R'])"
      ]
     },
     "execution_count": 65,
     "metadata": {},
     "output_type": "execute_result"
    }
   ],
   "source": [
    "dict2.popitem()"
   ]
  },
  {
   "cell_type": "code",
   "execution_count": 66,
   "id": "d8c4cd95",
   "metadata": {},
   "outputs": [
    {
     "data": {
      "text/plain": [
       "{'cust_id': [1, 2, 3, 4, 5],\n",
       " 'cust_name': ['Z', 'B', 'C', 'D', 'E'],\n",
       " 'Region': ['N', 'S', 'S', 'E', 'W']}"
      ]
     },
     "execution_count": 66,
     "metadata": {},
     "output_type": "execute_result"
    }
   ],
   "source": [
    "dict2"
   ]
  },
  {
   "cell_type": "code",
   "execution_count": 67,
   "id": "92524f35",
   "metadata": {},
   "outputs": [
    {
     "ename": "NameError",
     "evalue": "name 'DICT1' is not defined",
     "output_type": "error",
     "traceback": [
      "\u001b[1;31m---------------------------------------------------------------------------\u001b[0m",
      "\u001b[1;31mNameError\u001b[0m                                 Traceback (most recent call last)",
      "\u001b[1;32m<ipython-input-67-79ddc97baedb>\u001b[0m in \u001b[0;36m<module>\u001b[1;34m\u001b[0m\n\u001b[1;32m----> 1\u001b[1;33m \u001b[0mDICT1\u001b[0m\u001b[1;33m\u001b[0m\u001b[1;33m\u001b[0m\u001b[0m\n\u001b[0m",
      "\u001b[1;31mNameError\u001b[0m: name 'DICT1' is not defined"
     ]
    }
   ],
   "source": [
    "DICT1"
   ]
  },
  {
   "cell_type": "code",
   "execution_count": 68,
   "id": "fc0135d3",
   "metadata": {},
   "outputs": [
    {
     "data": {
      "text/plain": [
       "{'cust_id': [1, 2, 3, 4, 5],\n",
       " 'cust_name': ['Z', 'B', 'C', 'D', 'E'],\n",
       " 'Region': ['N', 'S', 'S', 'E', 'W'],\n",
       " 'Product': ['Py', 'Tab', 'SQL', 'Py', 'R']}"
      ]
     },
     "execution_count": 68,
     "metadata": {},
     "output_type": "execute_result"
    }
   ],
   "source": [
    "dict1"
   ]
  },
  {
   "cell_type": "code",
   "execution_count": 69,
   "id": "84043f57",
   "metadata": {},
   "outputs": [
    {
     "ename": "TypeError",
     "evalue": "setdefault expected at least 1 argument, got 0",
     "output_type": "error",
     "traceback": [
      "\u001b[1;31m---------------------------------------------------------------------------\u001b[0m",
      "\u001b[1;31mTypeError\u001b[0m                                 Traceback (most recent call last)",
      "\u001b[1;32m<ipython-input-69-a8d0c98ebb6a>\u001b[0m in \u001b[0;36m<module>\u001b[1;34m\u001b[0m\n\u001b[1;32m----> 1\u001b[1;33m \u001b[0mdict1\u001b[0m\u001b[1;33m.\u001b[0m\u001b[0msetdefault\u001b[0m\u001b[1;33m(\u001b[0m\u001b[1;33m)\u001b[0m\u001b[1;33m\u001b[0m\u001b[1;33m\u001b[0m\u001b[0m\n\u001b[0m",
      "\u001b[1;31mTypeError\u001b[0m: setdefault expected at least 1 argument, got 0"
     ]
    }
   ],
   "source": [
    "dict1.setdefault()"
   ]
  },
  {
   "cell_type": "code",
   "execution_count": 70,
   "id": "df407da1",
   "metadata": {},
   "outputs": [],
   "source": [
    "dict1.setdefault(\"Marks\")"
   ]
  },
  {
   "cell_type": "code",
   "execution_count": 71,
   "id": "c3dc43f8",
   "metadata": {},
   "outputs": [
    {
     "data": {
      "text/plain": [
       "{'cust_id': [1, 2, 3, 4, 5],\n",
       " 'cust_name': ['Z', 'B', 'C', 'D', 'E'],\n",
       " 'Region': ['N', 'S', 'S', 'E', 'W'],\n",
       " 'Product': ['Py', 'Tab', 'SQL', 'Py', 'R'],\n",
       " 'Marks': None}"
      ]
     },
     "execution_count": 71,
     "metadata": {},
     "output_type": "execute_result"
    }
   ],
   "source": [
    "dict1"
   ]
  },
  {
   "cell_type": "code",
   "execution_count": 72,
   "id": "1588fdab",
   "metadata": {},
   "outputs": [],
   "source": [
    "del dict1['Marks']"
   ]
  },
  {
   "cell_type": "code",
   "execution_count": 73,
   "id": "87401e98",
   "metadata": {},
   "outputs": [
    {
     "data": {
      "text/plain": [
       "{'cust_id': [1, 2, 3, 4, 5],\n",
       " 'cust_name': ['Z', 'B', 'C', 'D', 'E'],\n",
       " 'Region': ['N', 'S', 'S', 'E', 'W'],\n",
       " 'Product': ['Py', 'Tab', 'SQL', 'Py', 'R']}"
      ]
     },
     "execution_count": 73,
     "metadata": {},
     "output_type": "execute_result"
    }
   ],
   "source": [
    "dict1"
   ]
  },
  {
   "cell_type": "code",
   "execution_count": 74,
   "id": "d8bab6ad",
   "metadata": {},
   "outputs": [],
   "source": [
    "del dict1['Product'][4]"
   ]
  },
  {
   "cell_type": "code",
   "execution_count": 75,
   "id": "8d511435",
   "metadata": {},
   "outputs": [
    {
     "data": {
      "text/plain": [
       "{'cust_id': [1, 2, 3, 4, 5],\n",
       " 'cust_name': ['Z', 'B', 'C', 'D', 'E'],\n",
       " 'Region': ['N', 'S', 'S', 'E', 'W'],\n",
       " 'Product': ['Py', 'Tab', 'SQL', 'Py']}"
      ]
     },
     "execution_count": 75,
     "metadata": {},
     "output_type": "execute_result"
    }
   ],
   "source": [
    "dict1"
   ]
  },
  {
   "cell_type": "code",
   "execution_count": 78,
   "id": "9cf99176",
   "metadata": {},
   "outputs": [],
   "source": [
    "mydict1={1:2, 3:4, 5:6, 7:8}\n",
    "mydict2={1:10, 9:20}"
   ]
  },
  {
   "cell_type": "code",
   "execution_count": 79,
   "id": "469b0350",
   "metadata": {},
   "outputs": [
    {
     "data": {
      "text/plain": [
       "{1: 2, 3: 4, 5: 6, 7: 8}"
      ]
     },
     "execution_count": 79,
     "metadata": {},
     "output_type": "execute_result"
    }
   ],
   "source": [
    "mydict1"
   ]
  },
  {
   "cell_type": "code",
   "execution_count": 80,
   "id": "925e359e",
   "metadata": {},
   "outputs": [
    {
     "data": {
      "text/plain": [
       "{1: 10, 9: 20}"
      ]
     },
     "execution_count": 80,
     "metadata": {},
     "output_type": "execute_result"
    }
   ],
   "source": [
    "mydict2"
   ]
  },
  {
   "cell_type": "code",
   "execution_count": 81,
   "id": "02f6ba46",
   "metadata": {},
   "outputs": [],
   "source": [
    "mydict1.update(mydict2)"
   ]
  },
  {
   "cell_type": "code",
   "execution_count": 82,
   "id": "ad06e90d",
   "metadata": {},
   "outputs": [
    {
     "data": {
      "text/plain": [
       "{1: 10, 3: 4, 5: 6, 7: 8, 9: 20}"
      ]
     },
     "execution_count": 82,
     "metadata": {},
     "output_type": "execute_result"
    }
   ],
   "source": [
    "mydict1"
   ]
  },
  {
   "cell_type": "code",
   "execution_count": 83,
   "id": "845f63cb",
   "metadata": {},
   "outputs": [
    {
     "data": {
      "text/plain": [
       "dict_values([[1, 2, 3, 4, 5], ['Z', 'B', 'C', 'D', 'E'], ['N', 'S', 'S', 'E', 'W'], ['Py', 'Tab', 'SQL', 'Py']])"
      ]
     },
     "execution_count": 83,
     "metadata": {},
     "output_type": "execute_result"
    }
   ],
   "source": [
    "dict1.values()"
   ]
  },
  {
   "cell_type": "code",
   "execution_count": 85,
   "id": "a2041aa2",
   "metadata": {},
   "outputs": [],
   "source": [
    "tuple1=(1,2,3,4,5)"
   ]
  },
  {
   "cell_type": "code",
   "execution_count": 87,
   "id": "b617ee34",
   "metadata": {},
   "outputs": [],
   "source": [
    "list1=list(tuple1)"
   ]
  },
  {
   "cell_type": "code",
   "execution_count": 88,
   "id": "7ee367fe",
   "metadata": {},
   "outputs": [
    {
     "data": {
      "text/plain": [
       "[1, 2, 3, 4, 5]"
      ]
     },
     "execution_count": 88,
     "metadata": {},
     "output_type": "execute_result"
    }
   ],
   "source": [
    "list1"
   ]
  },
  {
   "cell_type": "code",
   "execution_count": 89,
   "id": "ddb38535",
   "metadata": {},
   "outputs": [],
   "source": [
    "list1[0]=100"
   ]
  },
  {
   "cell_type": "code",
   "execution_count": 91,
   "id": "7c95c60e",
   "metadata": {},
   "outputs": [],
   "source": [
    "tuple1=tuple(list1)"
   ]
  },
  {
   "cell_type": "code",
   "execution_count": 92,
   "id": "38a643ba",
   "metadata": {},
   "outputs": [
    {
     "data": {
      "text/plain": [
       "(100, 2, 3, 4, 5)"
      ]
     },
     "execution_count": 92,
     "metadata": {},
     "output_type": "execute_result"
    }
   ],
   "source": [
    "tuple1"
   ]
  },
  {
   "cell_type": "code",
   "execution_count": 93,
   "id": "dc05f638",
   "metadata": {},
   "outputs": [],
   "source": [
    "tuple1=(1,2,3,[4,5,6])"
   ]
  },
  {
   "cell_type": "code",
   "execution_count": 94,
   "id": "04869ac5",
   "metadata": {},
   "outputs": [
    {
     "data": {
      "text/plain": [
       "(1, 2, 3, [4, 5, 6])"
      ]
     },
     "execution_count": 94,
     "metadata": {},
     "output_type": "execute_result"
    }
   ],
   "source": [
    "tuple1"
   ]
  },
  {
   "cell_type": "code",
   "execution_count": 95,
   "id": "8935c354",
   "metadata": {},
   "outputs": [
    {
     "data": {
      "text/plain": [
       "tuple"
      ]
     },
     "execution_count": 95,
     "metadata": {},
     "output_type": "execute_result"
    }
   ],
   "source": [
    "type(tuple1)"
   ]
  },
  {
   "cell_type": "code",
   "execution_count": 96,
   "id": "cc6f8ebf",
   "metadata": {},
   "outputs": [
    {
     "data": {
      "text/plain": [
       "(1, 2, 3, [4, 5, 6])"
      ]
     },
     "execution_count": 96,
     "metadata": {},
     "output_type": "execute_result"
    }
   ],
   "source": [
    "tuple1"
   ]
  },
  {
   "cell_type": "code",
   "execution_count": 97,
   "id": "7bbe8e9d",
   "metadata": {},
   "outputs": [
    {
     "data": {
      "text/plain": [
       "[4, 5, 6]"
      ]
     },
     "execution_count": 97,
     "metadata": {},
     "output_type": "execute_result"
    }
   ],
   "source": [
    "tuple1[3]"
   ]
  },
  {
   "cell_type": "code",
   "execution_count": 98,
   "id": "ab8229d5",
   "metadata": {},
   "outputs": [],
   "source": [
    "tuple1[3][1]=50"
   ]
  },
  {
   "cell_type": "code",
   "execution_count": 99,
   "id": "b3a4d724",
   "metadata": {},
   "outputs": [
    {
     "data": {
      "text/plain": [
       "(1, 2, 3, [4, 50, 6])"
      ]
     },
     "execution_count": 99,
     "metadata": {},
     "output_type": "execute_result"
    }
   ],
   "source": [
    "tuple1"
   ]
  },
  {
   "cell_type": "markdown",
   "id": "df1ab2dd",
   "metadata": {},
   "source": [
    "# set"
   ]
  },
  {
   "cell_type": "code",
   "execution_count": 23,
   "id": "9fbddf12",
   "metadata": {},
   "outputs": [],
   "source": [
    "myset1 = {1,1,2,2,3,4,5,6,6,6,6,7,7,7,8,8,8,8,8,8,9,9,9,9,9}"
   ]
  },
  {
   "cell_type": "code",
   "execution_count": 7,
   "id": "f4e7e567",
   "metadata": {},
   "outputs": [
    {
     "data": {
      "text/plain": [
       "{1, 2, 3, 4, 5, 6, 7, 8, 9}"
      ]
     },
     "execution_count": 7,
     "metadata": {},
     "output_type": "execute_result"
    }
   ],
   "source": [
    "myset1\n"
   ]
  },
  {
   "cell_type": "code",
   "execution_count": 8,
   "id": "e885ef11",
   "metadata": {},
   "outputs": [],
   "source": [
    "myset1.add(100)3\\#single value can be added"
   ]
  },
  {
   "cell_type": "code",
   "execution_count": 9,
   "id": "8f2b7afa",
   "metadata": {},
   "outputs": [
    {
     "data": {
      "text/plain": [
       "{1, 2, 3, 4, 5, 6, 7, 8, 9, 100}"
      ]
     },
     "execution_count": 9,
     "metadata": {},
     "output_type": "execute_result"
    }
   ],
   "source": [
    "myset1"
   ]
  },
  {
   "cell_type": "code",
   "execution_count": 10,
   "id": "ed966702",
   "metadata": {},
   "outputs": [
    {
     "ename": "TypeError",
     "evalue": "unhashable type: 'list'",
     "output_type": "error",
     "traceback": [
      "\u001b[1;31m---------------------------------------------------------------------------\u001b[0m",
      "\u001b[1;31mTypeError\u001b[0m                                 Traceback (most recent call last)",
      "\u001b[1;32m<ipython-input-10-4649050c53a5>\u001b[0m in \u001b[0;36m<module>\u001b[1;34m\u001b[0m\n\u001b[1;32m----> 1\u001b[1;33m \u001b[0mmyset1\u001b[0m\u001b[1;33m.\u001b[0m\u001b[0madd\u001b[0m\u001b[1;33m(\u001b[0m\u001b[1;33m[\u001b[0m\u001b[1;36m11\u001b[0m\u001b[1;33m,\u001b[0m\u001b[1;36m12\u001b[0m\u001b[1;33m,\u001b[0m\u001b[1;36m13\u001b[0m\u001b[1;33m,\u001b[0m\u001b[1;36m15\u001b[0m\u001b[1;33m]\u001b[0m\u001b[1;33m)\u001b[0m\u001b[1;33m\u001b[0m\u001b[1;33m\u001b[0m\u001b[0m\n\u001b[0m",
      "\u001b[1;31mTypeError\u001b[0m: unhashable type: 'list'"
     ]
    }
   ],
   "source": [
    "myset1.add([11,12,13,15])"
   ]
  },
  {
   "cell_type": "code",
   "execution_count": 11,
   "id": "450cbda5",
   "metadata": {},
   "outputs": [],
   "source": [
    "myset1.clear()"
   ]
  },
  {
   "cell_type": "code",
   "execution_count": 12,
   "id": "2370b67f",
   "metadata": {},
   "outputs": [
    {
     "data": {
      "text/plain": [
       "set()"
      ]
     },
     "execution_count": 12,
     "metadata": {},
     "output_type": "execute_result"
    }
   ],
   "source": [
    "myset1"
   ]
  },
  {
   "cell_type": "code",
   "execution_count": 14,
   "id": "fd1b836c",
   "metadata": {},
   "outputs": [],
   "source": [
    "myset2=myset1.copy()"
   ]
  },
  {
   "cell_type": "code",
   "execution_count": 16,
   "id": "1548425a",
   "metadata": {},
   "outputs": [
    {
     "data": {
      "text/plain": [
       "{1, 2, 3, 4, 5, 6, 7, 8, 9}"
      ]
     },
     "execution_count": 16,
     "metadata": {},
     "output_type": "execute_result"
    }
   ],
   "source": [
    "myset2"
   ]
  },
  {
   "cell_type": "code",
   "execution_count": 17,
   "id": "523154fc",
   "metadata": {},
   "outputs": [
    {
     "ename": "TypeError",
     "evalue": "discard() takes exactly one argument (0 given)",
     "output_type": "error",
     "traceback": [
      "\u001b[1;31m---------------------------------------------------------------------------\u001b[0m",
      "\u001b[1;31mTypeError\u001b[0m                                 Traceback (most recent call last)",
      "\u001b[1;32m<ipython-input-17-07cfcc68a4e8>\u001b[0m in \u001b[0;36m<module>\u001b[1;34m\u001b[0m\n\u001b[1;32m----> 1\u001b[1;33m \u001b[0mmyset1\u001b[0m\u001b[1;33m.\u001b[0m\u001b[0mdiscard\u001b[0m\u001b[1;33m(\u001b[0m\u001b[1;33m)\u001b[0m\u001b[1;33m\u001b[0m\u001b[1;33m\u001b[0m\u001b[0m\n\u001b[0m",
      "\u001b[1;31mTypeError\u001b[0m: discard() takes exactly one argument (0 given)"
     ]
    }
   ],
   "source": [
    "myset1.discard()"
   ]
  },
  {
   "cell_type": "code",
   "execution_count": 18,
   "id": "6d38278a",
   "metadata": {},
   "outputs": [],
   "source": [
    "myset1.discard(7)"
   ]
  },
  {
   "cell_type": "code",
   "execution_count": 19,
   "id": "f64ec5be",
   "metadata": {},
   "outputs": [
    {
     "data": {
      "text/plain": [
       "{1, 2, 3, 4, 5, 6, 8, 9}"
      ]
     },
     "execution_count": 19,
     "metadata": {},
     "output_type": "execute_result"
    }
   ],
   "source": [
    "myset1"
   ]
  },
  {
   "cell_type": "code",
   "execution_count": 21,
   "id": "9b7fd3ec",
   "metadata": {},
   "outputs": [
    {
     "data": {
      "text/plain": [
       "2"
      ]
     },
     "execution_count": 21,
     "metadata": {},
     "output_type": "execute_result"
    }
   ],
   "source": [
    "myset1.pop()"
   ]
  },
  {
   "cell_type": "code",
   "execution_count": 26,
   "id": "d0fd11a9",
   "metadata": {},
   "outputs": [
    {
     "ename": "TypeError",
     "evalue": "'set' object is not subscriptable",
     "output_type": "error",
     "traceback": [
      "\u001b[1;31m---------------------------------------------------------------------------\u001b[0m",
      "\u001b[1;31mTypeError\u001b[0m                                 Traceback (most recent call last)",
      "\u001b[1;32m<ipython-input-26-93efaf7b1377>\u001b[0m in \u001b[0;36m<module>\u001b[1;34m\u001b[0m\n\u001b[1;32m----> 1\u001b[1;33m \u001b[0mmyset1\u001b[0m\u001b[1;33m[\u001b[0m\u001b[1;36m1\u001b[0m\u001b[1;33m:\u001b[0m\u001b[1;36m5\u001b[0m\u001b[1;33m]\u001b[0m\u001b[1;33m\u001b[0m\u001b[1;33m\u001b[0m\u001b[0m\n\u001b[0m",
      "\u001b[1;31mTypeError\u001b[0m: 'set' object is not subscriptable"
     ]
    }
   ],
   "source": [
    "myset1[1:5]"
   ]
  },
  {
   "cell_type": "code",
   "execution_count": 27,
   "id": "48112338",
   "metadata": {},
   "outputs": [],
   "source": [
    "myset1.remove(7)"
   ]
  },
  {
   "cell_type": "code",
   "execution_count": 28,
   "id": "96b81088",
   "metadata": {},
   "outputs": [
    {
     "data": {
      "text/plain": [
       "{1, 2, 3, 4, 5, 6, 8, 9}"
      ]
     },
     "execution_count": 28,
     "metadata": {},
     "output_type": "execute_result"
    }
   ],
   "source": [
    "myset1"
   ]
  },
  {
   "cell_type": "code",
   "execution_count": 47,
   "id": "dbda8d48",
   "metadata": {},
   "outputs": [],
   "source": [
    "myset3= {1,2,3}\n",
    "myset4={3,4,5,6}"
   ]
  },
  {
   "cell_type": "code",
   "execution_count": 32,
   "id": "f68a17ff",
   "metadata": {},
   "outputs": [
    {
     "data": {
      "text/plain": [
       "{1, 2, 3, 4, 5, 6}"
      ]
     },
     "execution_count": 32,
     "metadata": {},
     "output_type": "execute_result"
    }
   ],
   "source": [
    "myset3.union(myset4)"
   ]
  },
  {
   "cell_type": "code",
   "execution_count": 33,
   "id": "c88e69fa",
   "metadata": {},
   "outputs": [
    {
     "data": {
      "text/plain": [
       "{1, 2, 3}"
      ]
     },
     "execution_count": 33,
     "metadata": {},
     "output_type": "execute_result"
    }
   ],
   "source": [
    "myset3 #myset3 is not updated. only union is is done\n"
   ]
  },
  {
   "cell_type": "code",
   "execution_count": 34,
   "id": "986c85c3",
   "metadata": {},
   "outputs": [],
   "source": [
    "myset3.update(myset4)"
   ]
  },
  {
   "cell_type": "code",
   "execution_count": 35,
   "id": "9bf8dcbc",
   "metadata": {},
   "outputs": [
    {
     "data": {
      "text/plain": [
       "{1, 2, 3, 4, 5, 6}"
      ]
     },
     "execution_count": 35,
     "metadata": {},
     "output_type": "execute_result"
    }
   ],
   "source": [
    "myset3"
   ]
  },
  {
   "cell_type": "code",
   "execution_count": 37,
   "id": "f2f76004",
   "metadata": {},
   "outputs": [
    {
     "data": {
      "text/plain": [
       "{1, 2}"
      ]
     },
     "execution_count": 37,
     "metadata": {},
     "output_type": "execute_result"
    }
   ],
   "source": [
    "myset3.difference(myset4)"
   ]
  },
  {
   "cell_type": "code",
   "execution_count": 38,
   "id": "ac7a691a",
   "metadata": {},
   "outputs": [
    {
     "data": {
      "text/plain": [
       "{4, 5, 6}"
      ]
     },
     "execution_count": 38,
     "metadata": {},
     "output_type": "execute_result"
    }
   ],
   "source": [
    "myset4.difference(myset3)#gives the value of primary set. here myset4 is primary set.\n"
   ]
  },
  {
   "cell_type": "code",
   "execution_count": 39,
   "id": "a7ab28ae",
   "metadata": {},
   "outputs": [],
   "source": [
    "myset3.difference_update(myset4)"
   ]
  },
  {
   "cell_type": "code",
   "execution_count": 40,
   "id": "ee22bee7",
   "metadata": {},
   "outputs": [
    {
     "data": {
      "text/plain": [
       "{1, 2}"
      ]
     },
     "execution_count": 40,
     "metadata": {},
     "output_type": "execute_result"
    }
   ],
   "source": [
    "myset3"
   ]
  },
  {
   "cell_type": "code",
   "execution_count": 42,
   "id": "c8c5520b",
   "metadata": {},
   "outputs": [
    {
     "data": {
      "text/plain": [
       "{3}"
      ]
     },
     "execution_count": 42,
     "metadata": {},
     "output_type": "execute_result"
    }
   ],
   "source": [
    "myset3.intersection(myset4)"
   ]
  },
  {
   "cell_type": "code",
   "execution_count": 43,
   "id": "32a3c9ab",
   "metadata": {},
   "outputs": [
    {
     "data": {
      "text/plain": [
       "{1, 2, 3}"
      ]
     },
     "execution_count": 43,
     "metadata": {},
     "output_type": "execute_result"
    }
   ],
   "source": [
    "myset3"
   ]
  },
  {
   "cell_type": "code",
   "execution_count": 44,
   "id": "4cc3bd1f",
   "metadata": {},
   "outputs": [
    {
     "data": {
      "text/plain": [
       "{3, 4, 5, 6}"
      ]
     },
     "execution_count": 44,
     "metadata": {},
     "output_type": "execute_result"
    }
   ],
   "source": [
    "myset4"
   ]
  },
  {
   "cell_type": "code",
   "execution_count": 45,
   "id": "afd79281",
   "metadata": {},
   "outputs": [],
   "source": [
    "myset3.intersection_update(myset4)"
   ]
  },
  {
   "cell_type": "code",
   "execution_count": 46,
   "id": "d750cd74",
   "metadata": {},
   "outputs": [
    {
     "data": {
      "text/plain": [
       "{3}"
      ]
     },
     "execution_count": 46,
     "metadata": {},
     "output_type": "execute_result"
    }
   ],
   "source": [
    "myset3"
   ]
  },
  {
   "cell_type": "code",
   "execution_count": 48,
   "id": "889fa1a3",
   "metadata": {},
   "outputs": [
    {
     "data": {
      "text/plain": [
       "False"
      ]
     },
     "execution_count": 48,
     "metadata": {},
     "output_type": "execute_result"
    }
   ],
   "source": [
    "myset3.isdisjoint(myset4)# disjoint means- if any common value is there or not. If common value is there it will give false."
   ]
  },
  {
   "cell_type": "code",
   "execution_count": 50,
   "id": "59c3e47d",
   "metadata": {},
   "outputs": [
    {
     "data": {
      "text/plain": [
       "{1, 2, 3}"
      ]
     },
     "execution_count": 50,
     "metadata": {},
     "output_type": "execute_result"
    }
   ],
   "source": [
    "myset3"
   ]
  },
  {
   "cell_type": "code",
   "execution_count": 51,
   "id": "870a71eb",
   "metadata": {},
   "outputs": [
    {
     "data": {
      "text/plain": [
       "{3, 4, 5, 6}"
      ]
     },
     "execution_count": 51,
     "metadata": {},
     "output_type": "execute_result"
    }
   ],
   "source": [
    "myset4"
   ]
  },
  {
   "cell_type": "code",
   "execution_count": 52,
   "id": "f4552dff",
   "metadata": {},
   "outputs": [],
   "source": [
    "myset5= {4,5,6}"
   ]
  },
  {
   "cell_type": "code",
   "execution_count": 53,
   "id": "c0f17972",
   "metadata": {},
   "outputs": [
    {
     "data": {
      "text/plain": [
       "True"
      ]
     },
     "execution_count": 53,
     "metadata": {},
     "output_type": "execute_result"
    }
   ],
   "source": [
    "myset3.isdisjoint(myset5)# no common values between the sets."
   ]
  },
  {
   "cell_type": "code",
   "execution_count": 54,
   "id": "eedad699",
   "metadata": {},
   "outputs": [
    {
     "data": {
      "text/plain": [
       "False"
      ]
     },
     "execution_count": 54,
     "metadata": {},
     "output_type": "execute_result"
    }
   ],
   "source": [
    "myset3.issubset(myset4)"
   ]
  },
  {
   "cell_type": "code",
   "execution_count": 56,
   "id": "c501f25e",
   "metadata": {},
   "outputs": [],
   "source": [
    "myset6={1,2,3,4,5,6,7,8,9,10}"
   ]
  },
  {
   "cell_type": "code",
   "execution_count": 57,
   "id": "4beb4f91",
   "metadata": {},
   "outputs": [
    {
     "data": {
      "text/plain": [
       "{4, 5, 6}"
      ]
     },
     "execution_count": 57,
     "metadata": {},
     "output_type": "execute_result"
    }
   ],
   "source": [
    "myset5"
   ]
  },
  {
   "cell_type": "code",
   "execution_count": 58,
   "id": "8af35fd7",
   "metadata": {},
   "outputs": [
    {
     "data": {
      "text/plain": [
       "True"
      ]
     },
     "execution_count": 58,
     "metadata": {},
     "output_type": "execute_result"
    }
   ],
   "source": [
    "myset5.issubset(myset6)"
   ]
  },
  {
   "cell_type": "code",
   "execution_count": 59,
   "id": "8263d760",
   "metadata": {},
   "outputs": [
    {
     "data": {
      "text/plain": [
       "True"
      ]
     },
     "execution_count": 59,
     "metadata": {},
     "output_type": "execute_result"
    }
   ],
   "source": [
    "myset6.issuperset(myset5)"
   ]
  },
  {
   "cell_type": "code",
   "execution_count": 64,
   "id": "941152be",
   "metadata": {},
   "outputs": [],
   "source": [
    "myset7={1,2,3,4}\n",
    "myset8={'a','b','c'}"
   ]
  },
  {
   "cell_type": "code",
   "execution_count": 65,
   "id": "2998a053",
   "metadata": {},
   "outputs": [
    {
     "data": {
      "text/plain": [
       "{1, 2, 3, 4, 'a', 'b', 'c'}"
      ]
     },
     "execution_count": 65,
     "metadata": {},
     "output_type": "execute_result"
    }
   ],
   "source": [
    "myset7.symmetric_difference(myset8)"
   ]
  },
  {
   "cell_type": "code",
   "execution_count": 66,
   "id": "110141eb",
   "metadata": {},
   "outputs": [],
   "source": [
    "myset7={1,2,3,4}\n",
    "myset8={4,'a','b','c'}"
   ]
  },
  {
   "cell_type": "code",
   "execution_count": 68,
   "id": "5c94e41c",
   "metadata": {},
   "outputs": [
    {
     "data": {
      "text/plain": [
       "{1, 2, 3, 'a', 'b', 'c'}"
      ]
     },
     "execution_count": 68,
     "metadata": {},
     "output_type": "execute_result"
    }
   ],
   "source": [
    "myset7.symmetric_difference(myset8) #Common values will be ignored."
   ]
  },
  {
   "cell_type": "code",
   "execution_count": 69,
   "id": "7a573994",
   "metadata": {},
   "outputs": [],
   "source": [
    "myset7.symmetric_difference_update(myset8)"
   ]
  },
  {
   "cell_type": "code",
   "execution_count": 70,
   "id": "3a7d61a5",
   "metadata": {},
   "outputs": [
    {
     "data": {
      "text/plain": [
       "{1, 2, 3, 'a', 'b', 'c'}"
      ]
     },
     "execution_count": 70,
     "metadata": {},
     "output_type": "execute_result"
    }
   ],
   "source": [
    "myset7"
   ]
  },
  {
   "cell_type": "code",
   "execution_count": null,
   "id": "7655b85f",
   "metadata": {},
   "outputs": [],
   "source": []
  }
 ],
 "metadata": {
  "kernelspec": {
   "display_name": "Python 3",
   "language": "python",
   "name": "python3"
  },
  "language_info": {
   "codemirror_mode": {
    "name": "ipython",
    "version": 3
   },
   "file_extension": ".py",
   "mimetype": "text/x-python",
   "name": "python",
   "nbconvert_exporter": "python",
   "pygments_lexer": "ipython3",
   "version": "3.8.8"
  }
 },
 "nbformat": 4,
 "nbformat_minor": 5
}
