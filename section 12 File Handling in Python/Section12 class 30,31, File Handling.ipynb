{
 "cells": [
  {
   "cell_type": "code",
   "execution_count": 1,
   "id": "6328af1f",
   "metadata": {},
   "outputs": [],
   "source": [
    "#To store the data for future purposes.\n",
    "      # very less data storage we will go with the file system\n",
    "    # If we have more amount of data then we prefer to go with data bases.\n",
    "    "
   ]
  },
  {
   "cell_type": "code",
   "execution_count": 2,
   "id": "f6d9d7a5",
   "metadata": {},
   "outputs": [],
   "source": [
    "#Types Of Files\n",
    "    # Text files- Jupyter notebook, program file, log file.\n",
    "    #Binary Files- Image or Video\n",
    "# To perform any action on the file \n",
    "    #we first have to open the file and we have to give the purpose of opening the file.( read, write, append...)\n",
    "    \n",
    "#syntax\n",
    "#open()\n",
    "#f= open(filename, mode)\n",
    "\n",
    "#The allowed modes in python\n",
    "  #1) read (r)- open an existing file for read operation. It is a default mode.\n",
    "  #2) write (w)- open a file and write something, if any data is present already then it will overwrite the data and\n",
    "            #if the file is not present then it will create one.\n",
    "  #3) Append (a)- It will append the data in the file , if the file is not available then it will create one.\n",
    "\n",
    "  #4) Read and write data (r+)- Reading and writing the data, Previous data will not deleted, and file pointer will start\n",
    "                                # at the start of the file.\n",
    "    \n",
    "  #5) Write and Read (w+)- Write and Read , previous data will be deleted\n",
    "\n",
    "  #6) Append and Read (a+)-- Append the data and read, It will not overwrite existing data. \n",
    "                            #The writing will happen at the end of file.\n",
    "  \n",
    "    #7) Exclusive Creation mode for writing operation (x)- If the file is present it will throw fileexist error.\n",
    "                                # File should not be there.\n",
    "        \n",
    "# All these 7 mode are for text file.\n"
   ]
  },
  {
   "cell_type": "code",
   "execution_count": 3,
   "id": "beb0409b",
   "metadata": {},
   "outputs": [],
   "source": [
    "# For binary File\n",
    "#The allowed modes in python for binary\n",
    "  #1) read (rb)- open an existing file for read operation. It is a default mode.\n",
    "  #2) write (wb)- open a file and write something, if any data is present already then it will overwrite the data and\n",
    "            #if the file is not present then it will create one.\n",
    "  #3) Append (ab)- It will append the data in the file , if the file is not available then it will create one.\n",
    "\n",
    "  #4) Read and write data (r+b)- Reading and writing the data, Previous data will not deleted, and file pointer will start\n",
    "                                # at the start of the file.\n",
    "    \n",
    "  #5) Write and Read (w+b)- Write and Read , previous data will be deleted\n",
    "\n",
    "  #6) Append and Read (a+b)-- Append the data and read, It will not overwrite existing data. \n",
    "                            #The writing will happen at the end of file.\n",
    "  \n",
    "    #7) Exclusive Creation mode for writing operation (xb)- If the file is present it will throw fileexist error.\n",
    "                                # File should not be there."
   ]
  },
  {
   "cell_type": "code",
   "execution_count": 4,
   "id": "04d97984",
   "metadata": {},
   "outputs": [],
   "source": [
    "# To close the file\n",
    "#f.close()\n"
   ]
  },
  {
   "cell_type": "code",
   "execution_count": 83,
   "id": "06c9c149",
   "metadata": {},
   "outputs": [],
   "source": [
    "import os\n",
    "os.chdir(r\"C:\\Users\\rahul\\Rahul Tiwari 30\\file method\")"
   ]
  },
  {
   "cell_type": "code",
   "execution_count": 84,
   "id": "c205c70b",
   "metadata": {},
   "outputs": [
    {
     "data": {
      "text/plain": [
       "'C:\\\\Users\\\\rahul\\\\Rahul Tiwari 30\\\\file method'"
      ]
     },
     "execution_count": 84,
     "metadata": {},
     "output_type": "execute_result"
    }
   ],
   "source": [
    "os.getcwd()"
   ]
  },
  {
   "cell_type": "code",
   "execution_count": 9,
   "id": "c93bde27",
   "metadata": {},
   "outputs": [
    {
     "name": "stdout",
     "output_type": "stream",
     "text": [
      "file name paresh.txt\n",
      "file mode w\n",
      "file readable False\n",
      "file writable True\n",
      "file closed? False\n",
      "file closed? True\n"
     ]
    }
   ],
   "source": [
    "#Various properties of the file object:\n",
    "\n",
    "f = open(\"paresh.txt\", 'w')\n",
    "print(\"file name\",f.name)  # here f.name and f.mode is without () bracket because name and mode is variable.\n",
    "print(\"file mode\", f.mode)  \n",
    "print(\"file readable\", f.readable()) # here readable and writable is a method so () is required.\n",
    "print(\"file writable\", f.writable())\n",
    "print(\"file closed?\", f.closed)\n",
    "\n",
    "f.close()\n",
    "print(\"file closed?\", f.closed)\n",
    "\n"
   ]
  },
  {
   "cell_type": "code",
   "execution_count": 10,
   "id": "b16e13a1",
   "metadata": {},
   "outputs": [
    {
     "ename": "FileExistsError",
     "evalue": "[Errno 17] File exists: 'paresh.txt'",
     "output_type": "error",
     "traceback": [
      "\u001b[1;31m---------------------------------------------------------------------------\u001b[0m",
      "\u001b[1;31mFileExistsError\u001b[0m                           Traceback (most recent call last)",
      "\u001b[1;32m<ipython-input-10-ce4a79369070>\u001b[0m in \u001b[0;36m<module>\u001b[1;34m\u001b[0m\n\u001b[1;32m----> 1\u001b[1;33m \u001b[0mf\u001b[0m \u001b[1;33m=\u001b[0m \u001b[0mopen\u001b[0m\u001b[1;33m(\u001b[0m\u001b[1;34m\"paresh.txt\"\u001b[0m\u001b[1;33m,\u001b[0m \u001b[1;34m'x'\u001b[0m\u001b[1;33m)\u001b[0m\u001b[1;33m\u001b[0m\u001b[1;33m\u001b[0m\u001b[0m\n\u001b[0m\u001b[0;32m      2\u001b[0m \u001b[0mprint\u001b[0m\u001b[1;33m(\u001b[0m\u001b[1;34m\"file name\"\u001b[0m\u001b[1;33m,\u001b[0m\u001b[0mf\u001b[0m\u001b[1;33m.\u001b[0m\u001b[0mname\u001b[0m\u001b[1;33m)\u001b[0m  \u001b[1;31m# here f.name and f.mode is without () bracket because name and mode is variable.\u001b[0m\u001b[1;33m\u001b[0m\u001b[1;33m\u001b[0m\u001b[0m\n\u001b[0;32m      3\u001b[0m \u001b[0mprint\u001b[0m\u001b[1;33m(\u001b[0m\u001b[1;34m\"file mode\"\u001b[0m\u001b[1;33m,\u001b[0m \u001b[0mf\u001b[0m\u001b[1;33m.\u001b[0m\u001b[0mmode\u001b[0m\u001b[1;33m)\u001b[0m\u001b[1;33m\u001b[0m\u001b[1;33m\u001b[0m\u001b[0m\n\u001b[0;32m      4\u001b[0m \u001b[0mprint\u001b[0m\u001b[1;33m(\u001b[0m\u001b[1;34m\"file readable\"\u001b[0m\u001b[1;33m,\u001b[0m \u001b[0mf\u001b[0m\u001b[1;33m.\u001b[0m\u001b[0mreadable\u001b[0m\u001b[1;33m(\u001b[0m\u001b[1;33m)\u001b[0m\u001b[1;33m)\u001b[0m \u001b[1;31m# here readable and writable is a method so () is required.\u001b[0m\u001b[1;33m\u001b[0m\u001b[1;33m\u001b[0m\u001b[0m\n\u001b[0;32m      5\u001b[0m \u001b[0mprint\u001b[0m\u001b[1;33m(\u001b[0m\u001b[1;34m\"file writable\"\u001b[0m\u001b[1;33m,\u001b[0m \u001b[0mf\u001b[0m\u001b[1;33m.\u001b[0m\u001b[0mwritable\u001b[0m\u001b[1;33m(\u001b[0m\u001b[1;33m)\u001b[0m\u001b[1;33m)\u001b[0m\u001b[1;33m\u001b[0m\u001b[1;33m\u001b[0m\u001b[0m\n",
      "\u001b[1;31mFileExistsError\u001b[0m: [Errno 17] File exists: 'paresh.txt'"
     ]
    }
   ],
   "source": [
    "f = open(\"paresh.txt\", 'x')\n",
    "print(\"file name\",f.name)  # here f.name and f.mode is without () bracket because name and mode is variable.\n",
    "print(\"file mode\", f.mode)  \n",
    "print(\"file readable\", f.readable()) # here readable and writable is a method so () is required.\n",
    "print(\"file writable\", f.writable())\n",
    "print(\"file closed?\", f.closed)\n",
    "\n",
    "f.close()\n",
    "print(\"file closed?\", f.closed)"
   ]
  },
  {
   "cell_type": "code",
   "execution_count": 12,
   "id": "a42080e1",
   "metadata": {},
   "outputs": [
    {
     "name": "stdout",
     "output_type": "stream",
     "text": [
      "Data written successfully\n"
     ]
    }
   ],
   "source": [
    "#How o write the data in the file.\n",
    "\n",
    "# There are 2 ways.\n",
    "\n",
    "#1) f.write(str)\n",
    "#2) f.writelines(list of lines)\n",
    "\n",
    "f = open(\"paresh.txt\", \"w\")\n",
    "f.write(\"python looks like an easy programming language\") # here 2 lines will come in single line in the file.\n",
    "f.write(\"Earlier I was very much scared of Python\")\n",
    "print(\"Data written successfully\")\n"
   ]
  },
  {
   "cell_type": "code",
   "execution_count": 17,
   "id": "4ff6d762",
   "metadata": {},
   "outputs": [
    {
     "name": "stdout",
     "output_type": "stream",
     "text": [
      "Data written successfully\n",
      "file closed? False\n",
      "file closed? True\n"
     ]
    }
   ],
   "source": [
    "f = open(\"paresh.txt\", \"w\")\n",
    "f.write(\"python looks like an easy programming language\\n\") \n",
    "f.write(\"Earlier I was very much scared of Python\\n\")\n",
    "print(\"Data written successfully\")\n",
    "print(\"file closed?\", f.closed)\n",
    "f.close()\n",
    "print(\"file closed?\", f.closed)"
   ]
  },
  {
   "cell_type": "code",
   "execution_count": 18,
   "id": "b6b4728c",
   "metadata": {},
   "outputs": [
    {
     "name": "stdout",
     "output_type": "stream",
     "text": [
      "Data written successfully\n",
      "file closed? False\n",
      "file closed? True\n"
     ]
    }
   ],
   "source": [
    "f = open(\"paresh.txt\", \"a\")\n",
    "f.write(\"We are looking to expand our knowledge on Data Science\\n\") \n",
    "f.write(\"We are still working on our base skills that is Data Warehousing and Business Intelligence.\\n\")\n",
    "print(\"Data written successfully\")\n",
    "print(\"file closed?\", f.closed)\n",
    "f.close()\n",
    "print(\"file closed?\", f.closed)"
   ]
  },
  {
   "cell_type": "code",
   "execution_count": 19,
   "id": "85da6882",
   "metadata": {},
   "outputs": [
    {
     "name": "stdout",
     "output_type": "stream",
     "text": [
      "Data written successfully\n",
      "file closed? False\n",
      "file closed? True\n"
     ]
    }
   ],
   "source": [
    "#Write the lines through one command.\n",
    "\n",
    "f = open(\"paresh.txt\", \"w\")\n",
    "list = [\"python looks like an easy programming language\\n\",\"Earlier I was very much scared of Python\\n\",\"We are looking to expand our knowledge on Data Science\\n\"]\n",
    "f.writelines(list)\n",
    "print(\"Data written successfully\")\n",
    "print(\"file closed?\", f.closed)\n",
    "f.close()\n",
    "print(\"file closed?\", f.closed)"
   ]
  },
  {
   "cell_type": "code",
   "execution_count": 20,
   "id": "77b98de9",
   "metadata": {},
   "outputs": [],
   "source": [
    "#Reading character or data from the file\n",
    "    #read()--> Read The total data from the file.\n",
    "    #read(n)--> To read the first n character from the file.\n",
    "    #readline()---> Read data Line by Line one by one.\n",
    "    #readlines()---> Read all the Lines into the List.\n",
    "    \n"
   ]
  },
  {
   "cell_type": "code",
   "execution_count": 22,
   "id": "d8578f32",
   "metadata": {},
   "outputs": [
    {
     "name": "stdout",
     "output_type": "stream",
     "text": [
      "python looks like an easy programming language\n",
      "Earlier I was very much scared of Python\n",
      "We are looking to expand our knowledge on Data Science\n",
      "\n"
     ]
    }
   ],
   "source": [
    "f = open(\"paresh.txt\", \"r\")\n",
    "data = f.read()\n",
    "type(data)\n",
    "print(data)\n",
    "f.close()"
   ]
  },
  {
   "cell_type": "code",
   "execution_count": 23,
   "id": "05b7ca46",
   "metadata": {},
   "outputs": [
    {
     "data": {
      "text/plain": [
       "'python looks like an easy programming language\\nEarlier I was very much scared of Python\\nWe are looking to expand our knowledge on Data Science\\n'"
      ]
     },
     "execution_count": 23,
     "metadata": {},
     "output_type": "execute_result"
    }
   ],
   "source": [
    "data"
   ]
  },
  {
   "cell_type": "code",
   "execution_count": 24,
   "id": "47820d22",
   "metadata": {},
   "outputs": [
    {
     "name": "stdout",
     "output_type": "stream",
     "text": [
      "python\n"
     ]
    }
   ],
   "source": [
    "f= open(\"paresh.txt\",'r')\n",
    "data = f.read(6)   #Indexation starts from 1 here.\n",
    "print(data)\n",
    "f.close()"
   ]
  },
  {
   "cell_type": "code",
   "execution_count": 28,
   "id": "7763db54",
   "metadata": {},
   "outputs": [
    {
     "name": "stdout",
     "output_type": "stream",
     "text": [
      "pytho\n"
     ]
    }
   ],
   "source": [
    "f = open(\"paresh.txt\", 'r')\n",
    "data = f.readline(5)\n",
    "type(data)\n",
    "print(data)\n",
    "f.close()"
   ]
  },
  {
   "cell_type": "code",
   "execution_count": 29,
   "id": "d50b8711",
   "metadata": {},
   "outputs": [
    {
     "name": "stdout",
     "output_type": "stream",
     "text": [
      "['python looks like an easy programming language\\n']\n"
     ]
    }
   ],
   "source": [
    "f = open(\"paresh.txt\", 'r')\n",
    "data = f.readlines(5)\n",
    "type(data)\n",
    "print(data)\n",
    "f.close()"
   ]
  },
  {
   "cell_type": "code",
   "execution_count": 30,
   "id": "55a37b0f",
   "metadata": {},
   "outputs": [
    {
     "name": "stdout",
     "output_type": "stream",
     "text": [
      "python looks like an easy programming language\n",
      "Earlier I was very much scared of Python\n"
     ]
    }
   ],
   "source": [
    "f = open(\"paresh.txt\", 'r')\n",
    "print(f.readline(), end ='')\n",
    "print(f.readline(), end ='')\n",
    "\n",
    "f.close()"
   ]
  },
  {
   "cell_type": "code",
   "execution_count": 32,
   "id": "a50333ab",
   "metadata": {},
   "outputs": [
    {
     "name": "stdout",
     "output_type": "stream",
     "text": [
      "['python looks like an easy programming language\\n', 'Earlier I was very much scared of Python\\n', 'We are looking to expand our knowledge on Data Science\\n']\n",
      "python looks like an easy programming language\n",
      "Earlier I was very much scared of Python\n",
      "We are looking to expand our knowledge on Data Science\n"
     ]
    }
   ],
   "source": [
    "f = open(\"paresh.txt\", 'r')\n",
    "list = data = f.readlines() # When giving readlines command, it will give end to end values.\n",
    "type(data)\n",
    "print(data)\n",
    "for i in list:\n",
    "    print(i, end = '')\n",
    "f.close()\n",
    "    "
   ]
  },
  {
   "cell_type": "code",
   "execution_count": 33,
   "id": "a77e48fe",
   "metadata": {},
   "outputs": [
    {
     "name": "stdout",
     "output_type": "stream",
     "text": [
      "['python looks like an easy programming language\\n']\n",
      "python looks like an easy programming language\n"
     ]
    }
   ],
   "source": [
    "f = open(\"paresh.txt\", 'r')\n",
    "list = data = f.readlines(2) # Here readlines(2) will give one by one value.\n",
    "type(data)\n",
    "print(data)\n",
    "for i in list:\n",
    "    print(i, end = '')\n",
    "f.close()\n",
    "    "
   ]
  },
  {
   "cell_type": "code",
   "execution_count": 34,
   "id": "be4b6f93",
   "metadata": {},
   "outputs": [],
   "source": [
    "#With statement\n",
    "    # with statement can be used while opening the file.\n",
    "    # It will take care of closing the files as well.\n",
    "    "
   ]
  },
  {
   "cell_type": "code",
   "execution_count": 36,
   "id": "048f6557",
   "metadata": {},
   "outputs": [
    {
     "name": "stdout",
     "output_type": "stream",
     "text": [
      "Is my file closed? False\n",
      "Is file closed? True\n"
     ]
    }
   ],
   "source": [
    "with open('Rahul.txt', 'w') as f:                  \n",
    "    f.write(\"I am from PDA college, I want to learn Python\") # It is like creating block.\n",
    "    f.write(\"I feel confident on python now.\")\n",
    "    print(\"Is my file closed?\", f.closed) # File is still open. \n",
    "print(\"Is file closed?\", f.closed)"
   ]
  },
  {
   "cell_type": "code",
   "execution_count": 38,
   "id": "c97f1788",
   "metadata": {},
   "outputs": [],
   "source": [
    "#tell()-->  It gives the current position of the pointer.\n",
    "\n",
    "f = open(\"Anusha.txt\", \"w\")\n",
    "f.write(\"rahul\\n\")\n",
    "f.write(\"rahul\\n\")\n",
    "f.close()"
   ]
  },
  {
   "cell_type": "code",
   "execution_count": 43,
   "id": "25db6f43",
   "metadata": {},
   "outputs": [
    {
     "name": "stdout",
     "output_type": "stream",
     "text": [
      "0\n",
      "rahul\n",
      "5\n",
      "\n",
      "r\n",
      "8\n"
     ]
    }
   ],
   "source": [
    "f=open(\"Anusha.txt\", 'r')\n",
    "print(f.tell())\n",
    "print(f.read(5))\n",
    "print(f.tell())\n",
    "print(f.read(2))\n",
    "print(f.tell())"
   ]
  },
  {
   "cell_type": "code",
   "execution_count": 45,
   "id": "8d1c7b08",
   "metadata": {},
   "outputs": [],
   "source": [
    "f = open(\"Anusha.txt\", \"w\")\n",
    "f.write(\"rahul\\n\")\n",
    "f.write(\"Harshawardhan\\n\")\n",
    "f.write(\"India\\n\")\n",
    "f.write(\"Corona\\n\")\n",
    "\n",
    "f.close()"
   ]
  },
  {
   "cell_type": "code",
   "execution_count": 47,
   "id": "e6f9b017",
   "metadata": {},
   "outputs": [
    {
     "name": "stdout",
     "output_type": "stream",
     "text": [
      "ul\n",
      "Harshawardhan\n",
      "India\n",
      "Corona\n",
      "\n"
     ]
    }
   ],
   "source": [
    "#seek()--> To read in between the lines\n",
    "#f.seek(offset, fromwhere)\n",
    "\n",
    "f = open(\"Anusha.txt\", 'r')\n",
    "f.seek(3,0)  # seek removes the first 3 characters and read the lines.\n",
    "print(f.read())"
   ]
  },
  {
   "cell_type": "code",
   "execution_count": 48,
   "id": "dd9a9171",
   "metadata": {},
   "outputs": [
    {
     "name": "stdout",
     "output_type": "stream",
     "text": [
      "shawardhan\n",
      "India\n",
      "Corona\n",
      "\n"
     ]
    }
   ],
   "source": [
    "#seek()--> To read in between the lines\n",
    "#f.seek(offset, fromwhere)\n",
    "\n",
    "f = open(\"Anusha.txt\", 'r')\n",
    "f.seek(10,0)  # seek removes the first 3 characters and read the lines.\n",
    "print(f.read())"
   ]
  },
  {
   "cell_type": "code",
   "execution_count": 54,
   "id": "da0bbf6a",
   "metadata": {},
   "outputs": [
    {
     "name": "stdout",
     "output_type": "stream",
     "text": [
      "Learning Python is very difficult\n",
      "33\n",
      "24\n",
      "Data After Modification\n",
      "Learning Python is very Easy!!!!!\n"
     ]
    }
   ],
   "source": [
    "data = 'Learning Python is very difficult\\n'\n",
    "f = open(\"Monali.txt\", 'w')\n",
    "f.write(data)\n",
    "\n",
    "with open(\"Monali.txt\", 'r+') as f:\n",
    "    text = f.read()\n",
    "    print(text)\n",
    "    print(f.tell())\n",
    "    f.seek(24)\n",
    "    print(f.tell())\n",
    "    f.write(\"Easy!!!!!\")\n",
    "    f.seek(0)\n",
    "    text = f.read()\n",
    "    print(\"Data After Modification\")\n",
    "    print(text)\n",
    "#why it is going at the end of the file."
   ]
  },
  {
   "cell_type": "code",
   "execution_count": null,
   "id": "78ab9541",
   "metadata": {},
   "outputs": [],
   "source": [
    "r+ (cursor will be at the start)\n",
    "w+ (cursor will be at the start)- Remove the old\n",
    "a+ (cursor will be at the end)"
   ]
  },
  {
   "cell_type": "code",
   "execution_count": 55,
   "id": "411aa6d5",
   "metadata": {},
   "outputs": [
    {
     "data": {
      "text/plain": [
       "True"
      ]
     },
     "execution_count": 55,
     "metadata": {},
     "output_type": "execute_result"
    }
   ],
   "source": [
    "os.path.isfile(\"Anusha.txt\") # syntax to know file is present or know."
   ]
  },
  {
   "cell_type": "code",
   "execution_count": 56,
   "id": "d76415d1",
   "metadata": {},
   "outputs": [
    {
     "data": {
      "text/plain": [
       "False"
      ]
     },
     "execution_count": 56,
     "metadata": {},
     "output_type": "execute_result"
    }
   ],
   "source": [
    "os.path.isfile(\"Astha.txt\")"
   ]
  },
  {
   "cell_type": "code",
   "execution_count": 57,
   "id": "4661a34f",
   "metadata": {},
   "outputs": [
    {
     "name": "stdout",
     "output_type": "stream",
     "text": [
      "Enter the file name:Monali.txt\n",
      "The file Exists Monali.txt\n",
      "The content of the file is:\n",
      "Learning Python is very Easy!!!!!\n"
     ]
    }
   ],
   "source": [
    "import os\n",
    "import sys\n",
    "fname = input(\"Enter the file name:\")\n",
    "if os.path.isfile(fname):\n",
    "    print(\"The file Exists\", fname)\n",
    "    f = open(fname, 'r')\n",
    "else:\n",
    "    print('file does not exist',fname)\n",
    "    sys.exit(0)\n",
    "    \n",
    "print('The content of the file is:')\n",
    "data = f.read()\n",
    "print(data)"
   ]
  },
  {
   "cell_type": "code",
   "execution_count": 59,
   "id": "6d4c7585",
   "metadata": {},
   "outputs": [
    {
     "name": "stdout",
     "output_type": "stream",
     "text": [
      "Enter the file name:Anusha.txt\n",
      "The file Exists Anusha.txt\n",
      "The content of the file is:\n",
      "rahul\n",
      "Harshawardhan\n",
      "India\n",
      "Corona\n",
      "\n"
     ]
    }
   ],
   "source": [
    "import os\n",
    "import sys\n",
    "fname = input(\"Enter the file name:\")\n",
    "if os.path.isfile(fname):\n",
    "    print(\"The file Exists\", fname)\n",
    "    f = open(fname, 'r')\n",
    "else:\n",
    "    print('file does not exist',fname)\n",
    "    sys.exit(0)\n",
    "    \n",
    "print('The content of the file is:')\n",
    "data = f.read()\n",
    "print(data)"
   ]
  },
  {
   "cell_type": "code",
   "execution_count": 62,
   "id": "452cd5cc",
   "metadata": {},
   "outputs": [
    {
     "name": "stdout",
     "output_type": "stream",
     "text": [
      "Learning Python is very difficult\n",
      "Python is an amazing programming language\n",
      "We love Python \n",
      "93\n",
      "24\n",
      "Data After Modification\n",
      "Learning Python is very Easy!!!!!\n",
      "Python is an amazing programming language\n",
      "We love Python \n"
     ]
    }
   ],
   "source": [
    "data = 'Learning Python is very difficult\\nPython is an amazing programming language\\nWe love Python '\n",
    "f = open(\"Akshat.txt\", 'w')\n",
    "f.write(data)\n",
    "\n",
    "with open(\"Akshat.txt\", 'r+') as f:\n",
    "    text = f.read()\n",
    "    print(text)\n",
    "    print(f.tell())\n",
    "    f.seek(24)\n",
    "    print(f.tell())\n",
    "    f.write(\"Easy!!!!!\")\n",
    "    f.seek(0)\n",
    "    text = f.read()\n",
    "    print(\"Data After Modification\")\n",
    "    print(text)"
   ]
  },
  {
   "cell_type": "code",
   "execution_count": 63,
   "id": "98b9213b",
   "metadata": {},
   "outputs": [
    {
     "name": "stdout",
     "output_type": "stream",
     "text": [
      "Enter the file nameAkshat.txt\n",
      "File Exists Akshat.txt\n",
      "The number of lines 3\n",
      "The number of characters 91\n",
      "The number of words 14\n"
     ]
    }
   ],
   "source": [
    "import os\n",
    "import sys\n",
    "fname = input(\"Enter the file name\")\n",
    "if os.path.isfile(fname):\n",
    "    print(\"File Exists\", fname)\n",
    "    f = open(fname, 'r')\n",
    "else:\n",
    "    print(\"File does not exists\", fname)\n",
    "    sys.exit(0)\n",
    "\n",
    "lcount = wcount = ccount =0\n",
    "for line in f:\n",
    "    lcount = lcount+1\n",
    "    ccount = ccount+len(line)\n",
    "    words = line.split()\n",
    "    wcount = wcount+len(words)\n",
    "print(\"The number of lines\", lcount)\n",
    "print(\"The number of characters\", ccount)\n",
    "print(\"The number of words\", wcount)\n"
   ]
  },
  {
   "cell_type": "code",
   "execution_count": 64,
   "id": "bc83dcb3",
   "metadata": {},
   "outputs": [
    {
     "name": "stdout",
     "output_type": "stream",
     "text": [
      "The new file is created\n"
     ]
    }
   ],
   "source": [
    "#Binary files\n",
    "\n",
    "f1 = open(\"MYSQL.png\", 'rb')\n",
    "f2 = open(\"MYSQL1.png\", 'wb')\n",
    "\n",
    "bytes = f1.read()\n",
    "f2.write(bytes)\n",
    "print(\"The new file is created\")"
   ]
  },
  {
   "cell_type": "code",
   "execution_count": 65,
   "id": "3d18ec5f",
   "metadata": {},
   "outputs": [
    {
     "name": "stdout",
     "output_type": "stream",
     "text": [
      "Enter num of employees:2\n",
      "Enter Employee Number1\n",
      "Enter Employee NameRahul\n",
      "Enter Employee salary2000\n",
      "Enter Employee Number2\n",
      "Enter Employee NameAnusha\n",
      "Enter Employee salary3000\n",
      "total Data written successfully\n"
     ]
    }
   ],
   "source": [
    "#CSV files\n",
    "\n",
    "import csv\n",
    "with open(\"employee.csv\", \"w\", newline = '')as f: # newline = '' command is passed so that the entry should come on next line.\n",
    "    w = csv.writer(f)\n",
    "    w.writerow(['ENO','ENAME','ESAL'])\n",
    "    n = int(input(\"Enter num of employees:\"))\n",
    "    for i in range(n):\n",
    "        eno=int(input(\"Enter Employee Number\"))\n",
    "        ename = input(\"Enter Employee Name\")\n",
    "        esal = float(input(\"Enter Employee salary\"))\n",
    "        w.writerow([eno,ename,esal])\n",
    "print(\"total Data written successfully\")"
   ]
  },
  {
   "cell_type": "code",
   "execution_count": 66,
   "id": "37d5ad14",
   "metadata": {},
   "outputs": [
    {
     "data": {
      "text/plain": [
       "'C:\\\\Users\\\\rahul\\\\Rahul Tiwari 30\\\\file method'"
      ]
     },
     "execution_count": 66,
     "metadata": {},
     "output_type": "execute_result"
    }
   ],
   "source": [
    "os.getcwd()  #-- current working directory"
   ]
  },
  {
   "cell_type": "code",
   "execution_count": 67,
   "id": "f8d1da66",
   "metadata": {},
   "outputs": [],
   "source": [
    "os.mkdir('Test')"
   ]
  },
  {
   "cell_type": "code",
   "execution_count": 68,
   "id": "b9b4d43f",
   "metadata": {},
   "outputs": [],
   "source": [
    "os.makedirs(\"/sub1/sub2/sub3/sub4\")"
   ]
  },
  {
   "cell_type": "code",
   "execution_count": 71,
   "id": "2d19ff08",
   "metadata": {},
   "outputs": [
    {
     "ename": "FileNotFoundError",
     "evalue": "[WinError 2] The system cannot find the file specified: 'test/sub1/sub2/sub3/sub4'",
     "output_type": "error",
     "traceback": [
      "\u001b[1;31m---------------------------------------------------------------------------\u001b[0m",
      "\u001b[1;31mFileNotFoundError\u001b[0m                         Traceback (most recent call last)",
      "\u001b[1;32m<ipython-input-71-51a2d695fb61>\u001b[0m in \u001b[0;36m<module>\u001b[1;34m\u001b[0m\n\u001b[1;32m----> 1\u001b[1;33m \u001b[0mos\u001b[0m\u001b[1;33m.\u001b[0m\u001b[0mrmdir\u001b[0m\u001b[1;33m(\u001b[0m\u001b[1;34m'test/sub1/sub2/sub3/sub4'\u001b[0m\u001b[1;33m)\u001b[0m\u001b[1;33m\u001b[0m\u001b[1;33m\u001b[0m\u001b[0m\n\u001b[0m",
      "\u001b[1;31mFileNotFoundError\u001b[0m: [WinError 2] The system cannot find the file specified: 'test/sub1/sub2/sub3/sub4'"
     ]
    }
   ],
   "source": [
    "os.rmdir('test/sub1/sub2/sub3/sub4')"
   ]
  },
  {
   "cell_type": "code",
   "execution_count": 73,
   "id": "135cd4d1",
   "metadata": {},
   "outputs": [],
   "source": [
    "os.removedirs('test/sub1/sub2/sub3')"
   ]
  },
  {
   "cell_type": "code",
   "execution_count": 74,
   "id": "5a90081a",
   "metadata": {},
   "outputs": [],
   "source": [
    "os.mkdir('Test1')"
   ]
  },
  {
   "cell_type": "code",
   "execution_count": 75,
   "id": "f09df6a7",
   "metadata": {},
   "outputs": [],
   "source": [
    "os.rename(\"Test1\",\"test2\")"
   ]
  },
  {
   "cell_type": "code",
   "execution_count": 76,
   "id": "1e0e695c",
   "metadata": {},
   "outputs": [
    {
     "data": {
      "text/plain": [
       "'C:\\\\Users\\\\rahul\\\\Rahul Tiwari 30\\\\file method'"
      ]
     },
     "execution_count": 76,
     "metadata": {},
     "output_type": "execute_result"
    }
   ],
   "source": [
    "os.getcwd()"
   ]
  },
  {
   "cell_type": "code",
   "execution_count": 77,
   "id": "6755b20d",
   "metadata": {},
   "outputs": [],
   "source": [
    "os.chdir(r\"C:\\Users\\rahul\\Rahul Tiwari 30\")"
   ]
  },
  {
   "cell_type": "code",
   "execution_count": 78,
   "id": "813b3261",
   "metadata": {},
   "outputs": [
    {
     "name": "stdout",
     "output_type": "stream",
     "text": [
      "['.ipynb_checkpoints', 'class1 with Rahul Tiwari.ipynb', 'class10 functions in python part1.ipynb', 'Class11 Function in python part2&part3.ipynb', 'Class12 Function in python part4.ipynb', 'class13 Function in Python Part-5&6.ipynb', 'Class2 with Rahul Tiwari 2.ipynb', 'Class3.ipynb', 'class4 List.ipynb', 'Class5 Set Dictionary.ipynb', 'class6 operators in python.ipynb', 'class7 input and output.ipynb', 'class8 if else  and while statement.ipynb', 'class9- string operations.ipynb', 'Exception Handling - Example.ipynb', 'Exception+Handling+-+Custom+Message.ipynb', 'file method', 'logging demo', 'multiple-try-catch-block.png', 'practice nested function Rahul Tiwari.ipynb', 'practice python.ipynb', 'Section11 class25,26 Exceptional handling part1,part2.ipynb', 'Section11 Class27 Exception Handling Part3,4,5.ipynb', 'Section12 class 30,31, File Handling.ipynb', 'tryandexcept.png', 'Untitled.ipynb']\n"
     ]
    }
   ],
   "source": [
    "print(os.listdir())"
   ]
  },
  {
   "cell_type": "code",
   "execution_count": null,
   "id": "108a0274",
   "metadata": {},
   "outputs": [],
   "source": [
    "os.walk()"
   ]
  },
  {
   "cell_type": "code",
   "execution_count": 79,
   "id": "8ca0d726",
   "metadata": {},
   "outputs": [
    {
     "name": "stdout",
     "output_type": "stream",
     "text": [
      "Current working directory path: .\n",
      "Current working directory name: ['.ipynb_checkpoints', 'file method', 'logging demo']\n",
      "Filename ['class1 with Rahul Tiwari.ipynb', 'class10 functions in python part1.ipynb', 'Class11 Function in python part2&part3.ipynb', 'Class12 Function in python part4.ipynb', 'class13 Function in Python Part-5&6.ipynb', 'Class2 with Rahul Tiwari 2.ipynb', 'Class3.ipynb', 'class4 List.ipynb', 'Class5 Set Dictionary.ipynb', 'class6 operators in python.ipynb', 'class7 input and output.ipynb', 'class8 if else  and while statement.ipynb', 'class9- string operations.ipynb', 'Exception Handling - Example.ipynb', 'Exception+Handling+-+Custom+Message.ipynb', 'multiple-try-catch-block.png', 'practice nested function Rahul Tiwari.ipynb', 'practice python.ipynb', 'Section11 class25,26 Exceptional handling part1,part2.ipynb', 'Section11 Class27 Exception Handling Part3,4,5.ipynb', 'Section12 class 30,31, File Handling.ipynb', 'tryandexcept.png', 'Untitled.ipynb']\n",
      "\n",
      "Current working directory path: .\\.ipynb_checkpoints\n",
      "Current working directory name: []\n",
      "Filename ['class1 with Rahul Tiwari-checkpoint.ipynb', 'class10 functions in python part1-checkpoint.ipynb', 'Class11 Function in python part2&part3-checkpoint.ipynb', 'Class12 Function in python part4-checkpoint.ipynb', 'class13 Function in Python Part-5&6-checkpoint.ipynb', 'Class2 with Rahul Tiwari 2-checkpoint.ipynb', 'Class3-checkpoint.ipynb', 'class4 List-checkpoint.ipynb', 'Class5 Set Dictionary-checkpoint.ipynb', 'class6 operators in python-checkpoint.ipynb', 'class7 input and output-checkpoint.ipynb', 'class8 if else  and while statement-checkpoint.ipynb', 'class9- string operations-checkpoint.ipynb', 'Exception Handling - Example-checkpoint.ipynb', 'Exception+Handling+-+Custom+Message-checkpoint.ipynb', 'practice nested function Rahul Tiwari-checkpoint.ipynb', 'practice python-checkpoint.ipynb', 'Section11 class25,26 Exceptional handling part1,part2-checkpoint.ipynb', 'Section11 Class27 Exception Handling Part3,4,5-checkpoint.ipynb', 'Section12 class 30,31, File Handling-checkpoint.ipynb', 'Untitled-checkpoint.ipynb']\n",
      "\n",
      "Current working directory path: .\\file method\n",
      "Current working directory name: ['test2']\n",
      "Filename ['Akshat.txt', 'Anusha.txt', 'employee.csv', 'Monali.txt', 'MYSQL.png', 'MYSQL1.png', 'paresh.txt', 'Rahul.txt']\n",
      "\n",
      "Current working directory path: .\\file method\\test2\n",
      "Current working directory name: []\n",
      "Filename []\n",
      "\n",
      "Current working directory path: .\\logging demo\n",
      "Current working directory name: []\n",
      "Filename ['log.txt']\n",
      "\n"
     ]
    }
   ],
   "source": [
    "for dirpath, dirnames, filenames in os.walk('.'):\n",
    "    print(\"Current working directory path:\", dirpath)\n",
    "    print(\"Current working directory name:\",dirnames)\n",
    "    print(\"Filename\", filenames)\n",
    "    print()"
   ]
  },
  {
   "cell_type": "code",
   "execution_count": 80,
   "id": "d3c46927",
   "metadata": {},
   "outputs": [],
   "source": [
    "#pickling and unpickling of the object -- Use in data science. Use during deploying ML models\n",
    "#pickling-- writing- serialization\n",
    "#unpickling --- Reading-- Unserialization\n",
    "\n",
    "# My trained model is at a position and saving that position at file is called picling.."
   ]
  },
  {
   "cell_type": "code",
   "execution_count": null,
   "id": "c7931c7a",
   "metadata": {},
   "outputs": [],
   "source": [
    "#How to pickle a file."
   ]
  },
  {
   "cell_type": "code",
   "execution_count": 82,
   "id": "f6eb9610",
   "metadata": {},
   "outputs": [
    {
     "name": "stdout",
     "output_type": "stream",
     "text": [
      "100\n",
      "Rahul\n",
      "1234\n"
     ]
    }
   ],
   "source": [
    "import pickle\n",
    "\n",
    "class Employee:\n",
    "    def __init__(self,eno,ename,esal):\n",
    "        self.eno = eno\n",
    "        self.ename = ename\n",
    "        self.esal = esal\n",
    "    def display(self):\n",
    "        print(self.eno)\n",
    "        print(self.ename)\n",
    "        print(self.esal)\n",
    "e = Employee(100,'Rahul',1234)\n",
    "e.display()"
   ]
  },
  {
   "cell_type": "code",
   "execution_count": 86,
   "id": "b102ced1",
   "metadata": {},
   "outputs": [
    {
     "name": "stdout",
     "output_type": "stream",
     "text": [
      "Pickling of the employee object completed\n"
     ]
    }
   ],
   "source": [
    "with open(\"emp.dat\", 'wb') as f:\n",
    "    e = Employee(100, \"Rahul\", 1234)\n",
    "    pickle.dump(e,f)\n",
    "    print(\"Pickling of the employee object completed\")"
   ]
  },
  {
   "cell_type": "code",
   "execution_count": 87,
   "id": "11627459",
   "metadata": {},
   "outputs": [
    {
     "name": "stdout",
     "output_type": "stream",
     "text": [
      "Employee information after pickling\n",
      "100\n",
      "Rahul\n",
      "1234\n"
     ]
    }
   ],
   "source": [
    "#After pickling, the created file we send to somebody and he will open by this method.\n",
    "\n",
    "with open(\"emp.dat\", 'rb') as f:\n",
    "    obj = pickle.load(f)\n",
    "    print(\"Employee information after pickling\")\n",
    "    obj.display()"
   ]
  },
  {
   "cell_type": "code",
   "execution_count": null,
   "id": "6ee22602",
   "metadata": {},
   "outputs": [],
   "source": []
  },
  {
   "cell_type": "code",
   "execution_count": null,
   "id": "363a1fdc",
   "metadata": {},
   "outputs": [],
   "source": []
  },
  {
   "cell_type": "code",
   "execution_count": null,
   "id": "37f7cea2",
   "metadata": {},
   "outputs": [],
   "source": []
  }
 ],
 "metadata": {
  "kernelspec": {
   "display_name": "Python 3",
   "language": "python",
   "name": "python3"
  },
  "language_info": {
   "codemirror_mode": {
    "name": "ipython",
    "version": 3
   },
   "file_extension": ".py",
   "mimetype": "text/x-python",
   "name": "python",
   "nbconvert_exporter": "python",
   "pygments_lexer": "ipython3",
   "version": "3.8.8"
  }
 },
 "nbformat": 4,
 "nbformat_minor": 5
}
