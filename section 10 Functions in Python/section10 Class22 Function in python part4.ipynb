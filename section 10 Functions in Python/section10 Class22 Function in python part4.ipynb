{
 "cells": [
  {
   "cell_type": "code",
   "execution_count": 1,
   "id": "15a49931",
   "metadata": {},
   "outputs": [
    {
     "name": "stdout",
     "output_type": "stream",
     "text": [
      "hello Rahul good morning\n",
      "hello Roli good morning\n",
      "hello Atharv good morning\n"
     ]
    }
   ],
   "source": [
    "# Decorator - \n",
    "\n",
    "def greeting(name):\n",
    "    print('hello', name,'good morning')\n",
    "greeting('Rahul')\n",
    "greeting('Roli')\n",
    "greeting('Atharv')"
   ]
  },
  {
   "cell_type": "code",
   "execution_count": 2,
   "id": "72a5ec46",
   "metadata": {},
   "outputs": [
    {
     "name": "stdout",
     "output_type": "stream",
     "text": [
      "hello Rahul Bad morning\n",
      "hello Roli good morning\n",
      "hello Atharv good morning\n"
     ]
    }
   ],
   "source": [
    "def decor(func):\n",
    "    def inner(name):\n",
    "        if name=='Rahul':\n",
    "            print('hello', name, 'Bad morning')\n",
    "        else:\n",
    "            func(name)\n",
    "    return inner\n",
    "\n",
    "@decor\n",
    "\n",
    "def greeting(name):\n",
    "    print('hello', name,'good morning')\n",
    "greeting('Rahul')\n",
    "greeting('Roli')\n",
    "greeting('Atharv')"
   ]
  },
  {
   "cell_type": "code",
   "execution_count": 3,
   "id": "62eb4b10",
   "metadata": {},
   "outputs": [
    {
     "name": "stdout",
     "output_type": "stream",
     "text": [
      "hello Rahul Bad morning\n",
      "hello Roli good morning\n",
      "hello Atharv good morning\n"
     ]
    }
   ],
   "source": [
    "def decor(greeting):\n",
    "    def inner(name):\n",
    "        if name=='Rahul':\n",
    "            print('hello', name, 'Bad morning')\n",
    "        else:\n",
    "            greeting(name)\n",
    "    return inner\n",
    "\n",
    "@decor\n",
    "\n",
    "def greeting(name):\n",
    "    print('hello', name,'good morning')\n",
    "greeting('Rahul')\n",
    "greeting('Roli')\n",
    "greeting('Atharv')"
   ]
  },
  {
   "cell_type": "code",
   "execution_count": 5,
   "id": "cddfeaf6",
   "metadata": {},
   "outputs": [],
   "source": [
    "decorfunction=decor(greeting)# decor is a function and greeting is a function and decor(greeting) is saved in a fuction.\n",
    "#so decorfunction is also an function. decorfunction is having the property of decor and greeing both."
   ]
  },
  {
   "cell_type": "code",
   "execution_count": 6,
   "id": "485ac9e0",
   "metadata": {},
   "outputs": [
    {
     "name": "stdout",
     "output_type": "stream",
     "text": [
      "hello Roli good morning\n"
     ]
    }
   ],
   "source": [
    "decorfunction('Roli')"
   ]
  },
  {
   "cell_type": "code",
   "execution_count": 7,
   "id": "821a0a0f",
   "metadata": {},
   "outputs": [
    {
     "name": "stdout",
     "output_type": "stream",
     "text": [
      "hello Atharv good morning\n"
     ]
    }
   ],
   "source": [
    "decorfunction('Atharv')"
   ]
  },
  {
   "cell_type": "code",
   "execution_count": 8,
   "id": "3828f4e1",
   "metadata": {},
   "outputs": [
    {
     "name": "stdout",
     "output_type": "stream",
     "text": [
      "hello Rahul Bad morning\n"
     ]
    }
   ],
   "source": [
    "decorfunction('Rahul')"
   ]
  },
  {
   "cell_type": "code",
   "execution_count": 11,
   "id": "dcf2b1cb",
   "metadata": {},
   "outputs": [
    {
     "data": {
      "text/plain": [
       "5.0"
      ]
     },
     "execution_count": 11,
     "metadata": {},
     "output_type": "execute_result"
    }
   ],
   "source": [
    "def division(a,b):\n",
    "    return a/b\n",
    "division(10,2)\n"
   ]
  },
  {
   "cell_type": "code",
   "execution_count": 12,
   "id": "b71fed41",
   "metadata": {},
   "outputs": [
    {
     "data": {
      "text/plain": [
       "3.3333333333333335"
      ]
     },
     "execution_count": 12,
     "metadata": {},
     "output_type": "execute_result"
    }
   ],
   "source": [
    "def division(a,b):\n",
    "    return a/b\n",
    "\n",
    "division(10,3)\n"
   ]
  },
  {
   "cell_type": "code",
   "execution_count": 13,
   "id": "525a8de6",
   "metadata": {},
   "outputs": [
    {
     "ename": "ZeroDivisionError",
     "evalue": "division by zero",
     "output_type": "error",
     "traceback": [
      "\u001b[1;31m---------------------------------------------------------------------------\u001b[0m",
      "\u001b[1;31mZeroDivisionError\u001b[0m                         Traceback (most recent call last)",
      "\u001b[1;32m<ipython-input-13-626d02399700>\u001b[0m in \u001b[0;36m<module>\u001b[1;34m\u001b[0m\n\u001b[0;32m      2\u001b[0m     \u001b[1;32mreturn\u001b[0m \u001b[0ma\u001b[0m\u001b[1;33m/\u001b[0m\u001b[0mb\u001b[0m\u001b[1;33m\u001b[0m\u001b[1;33m\u001b[0m\u001b[0m\n\u001b[0;32m      3\u001b[0m \u001b[1;33m\u001b[0m\u001b[0m\n\u001b[1;32m----> 4\u001b[1;33m \u001b[0mdivision\u001b[0m\u001b[1;33m(\u001b[0m\u001b[1;36m10\u001b[0m\u001b[1;33m,\u001b[0m\u001b[1;36m0\u001b[0m\u001b[1;33m)\u001b[0m\u001b[1;33m\u001b[0m\u001b[1;33m\u001b[0m\u001b[0m\n\u001b[0m",
      "\u001b[1;32m<ipython-input-13-626d02399700>\u001b[0m in \u001b[0;36mdivision\u001b[1;34m(a, b)\u001b[0m\n\u001b[0;32m      1\u001b[0m \u001b[1;32mdef\u001b[0m \u001b[0mdivision\u001b[0m\u001b[1;33m(\u001b[0m\u001b[0ma\u001b[0m\u001b[1;33m,\u001b[0m\u001b[0mb\u001b[0m\u001b[1;33m)\u001b[0m\u001b[1;33m:\u001b[0m\u001b[1;33m\u001b[0m\u001b[1;33m\u001b[0m\u001b[0m\n\u001b[1;32m----> 2\u001b[1;33m     \u001b[1;32mreturn\u001b[0m \u001b[0ma\u001b[0m\u001b[1;33m/\u001b[0m\u001b[0mb\u001b[0m\u001b[1;33m\u001b[0m\u001b[1;33m\u001b[0m\u001b[0m\n\u001b[0m\u001b[0;32m      3\u001b[0m \u001b[1;33m\u001b[0m\u001b[0m\n\u001b[0;32m      4\u001b[0m \u001b[0mdivision\u001b[0m\u001b[1;33m(\u001b[0m\u001b[1;36m10\u001b[0m\u001b[1;33m,\u001b[0m\u001b[1;36m0\u001b[0m\u001b[1;33m)\u001b[0m\u001b[1;33m\u001b[0m\u001b[1;33m\u001b[0m\u001b[0m\n",
      "\u001b[1;31mZeroDivisionError\u001b[0m: division by zero"
     ]
    }
   ],
   "source": [
    "def division(a,b):\n",
    "    return a/b\n",
    "\n",
    "division(10,0)\n"
   ]
  },
  {
   "cell_type": "code",
   "execution_count": 3,
   "id": "0dff0bf6",
   "metadata": {},
   "outputs": [
    {
     "name": "stdout",
     "output_type": "stream",
     "text": [
      "we cannot divide the number with zero\n"
     ]
    }
   ],
   "source": [
    "def smartdiv(func):\n",
    "    def inner(a,b):  # input should be same as main function input.\n",
    "        if b==0:\n",
    "            print(\"we cannot divide the number with zero\")\n",
    "            return\n",
    "        else:\n",
    "            return func(a,b)\n",
    "    return inner\n",
    "@smartdiv\n",
    "\n",
    "def division(a,b):\n",
    "    return a/b\n",
    "division(10,2)\n",
    "division(10,3)\n",
    "division(10,0)\n"
   ]
  },
  {
   "cell_type": "code",
   "execution_count": 17,
   "id": "e6ae6f34",
   "metadata": {},
   "outputs": [
    {
     "name": "stdout",
     "output_type": "stream",
     "text": [
      "we cannot divide the number with zero\n"
     ]
    }
   ],
   "source": [
    "def smartdiv(division):# here i tried to change func to division.\n",
    "    def inner(a,b):\n",
    "        if b==0:\n",
    "            print(\"we cannot divide the number with zero\")\n",
    "            return\n",
    "        else:\n",
    "            return division(a,b)\n",
    "    return inner\n",
    "@smartdiv \n",
    "\n",
    "def division(a,b):\n",
    "    return a/b\n",
    "division(10,2)\n",
    "division(10,3)\n",
    "division(10,0)"
   ]
  },
  {
   "cell_type": "code",
   "execution_count": 21,
   "id": "cb64992e",
   "metadata": {},
   "outputs": [
    {
     "name": "stdout",
     "output_type": "stream",
     "text": [
      "First decor executed\n",
      "hello Rahul Good Morning\n"
     ]
    }
   ],
   "source": [
    "def decor(func):\n",
    "    def inner(name):\n",
    "        print(\"First decor executed\")\n",
    "        func(name)\n",
    "    return inner\n",
    "\n",
    "@decor\n",
    "\n",
    "def greeting(name):\n",
    "    print(\"hello\",name, \"Good Morning\")\n",
    "greeting('Rahul')"
   ]
  },
  {
   "cell_type": "code",
   "execution_count": 23,
   "id": "51f49f0a",
   "metadata": {},
   "outputs": [
    {
     "name": "stdout",
     "output_type": "stream",
     "text": [
      "First decor executed\n",
      "hello Rahul Good Morning\n"
     ]
    }
   ],
   "source": [
    "def decor(func):\n",
    "    def inner(nnnn): # Question nnnn is not same as name in greeting function, then how greeting is activated.\n",
    "        print(\"First decor executed\")\n",
    "        func(nnnn)\n",
    "    return inner\n",
    "\n",
    "@decor\n",
    "\n",
    "def greeting(name):\n",
    "    print(\"hello\",name, \"Good Morning\")\n",
    "greeting('Rahul')"
   ]
  },
  {
   "cell_type": "code",
   "execution_count": 24,
   "id": "a49b4331",
   "metadata": {},
   "outputs": [
    {
     "name": "stdout",
     "output_type": "stream",
     "text": [
      "second decor executed\n",
      "First decor executed\n",
      "hello Rahul Good Morning\n"
     ]
    }
   ],
   "source": [
    "def decor(func):\n",
    "    def inner(name):\n",
    "        print(\"First decor executed\")\n",
    "        func(name)\n",
    "    return inner\n",
    "\n",
    "def decor1(func):\n",
    "    def inner(name):\n",
    "        print(\"second decor executed\")\n",
    "        func(name)\n",
    "    return inner\n",
    "\n",
    "@decor1\n",
    "@decor\n",
    "\n",
    "def greeting(name):\n",
    "    print(\"hello\",name, \"Good Morning\")\n",
    "greeting('Rahul')"
   ]
  },
  {
   "cell_type": "code",
   "execution_count": 25,
   "id": "7af85e0d",
   "metadata": {},
   "outputs": [
    {
     "name": "stdout",
     "output_type": "stream",
     "text": [
      "First decor executed\n",
      "second decor executed\n",
      "hello Rahul Good Morning\n"
     ]
    }
   ],
   "source": [
    "def decor(func):\n",
    "    def inner(name):\n",
    "        print(\"First decor executed\")\n",
    "        func(name)\n",
    "    return inner\n",
    "\n",
    "def decor1(func):\n",
    "    def inner(name):\n",
    "        print(\"second decor executed\")\n",
    "        func(name)\n",
    "    return inner\n",
    "\n",
    "\n",
    "@decor\n",
    "@decor1\n",
    "def greeting(name):\n",
    "    print(\"hello\",name, \"Good Morning\")\n",
    "greeting('Rahul')"
   ]
  },
  {
   "cell_type": "code",
   "execution_count": 8,
   "id": "03a7a58b",
   "metadata": {},
   "outputs": [
    {
     "data": {
      "text/plain": [
       "100"
      ]
     },
     "execution_count": 8,
     "metadata": {},
     "output_type": "execute_result"
    }
   ],
   "source": [
    "def decor1(func):\n",
    "    def inner():\n",
    "        x = func()\n",
    "        return x*x\n",
    "    return inner\n",
    "\n",
    "\n",
    "\n",
    "@decor1\n",
    "\n",
    "def num():\n",
    "    return 10\n",
    "num()"
   ]
  },
  {
   "cell_type": "code",
   "execution_count": 11,
   "id": "4b9392dc",
   "metadata": {},
   "outputs": [
    {
     "data": {
      "text/plain": [
       "200"
      ]
     },
     "execution_count": 11,
     "metadata": {},
     "output_type": "execute_result"
    }
   ],
   "source": [
    "# Decorator chaining.\n",
    "\n",
    "def decor1(func):\n",
    "    def inner():\n",
    "        x = func()\n",
    "        return x*x\n",
    "    return inner\n",
    "\n",
    "def decor2(func):\n",
    "    def inner():\n",
    "        x = func()\n",
    "        return 2*x\n",
    "    return inner\n",
    "@decor2\n",
    "@decor1\n",
    "\n",
    "def num():\n",
    "    return 10\n",
    "num()"
   ]
  },
  {
   "cell_type": "code",
   "execution_count": null,
   "id": "5da6acc2",
   "metadata": {},
   "outputs": [],
   "source": []
  },
  {
   "cell_type": "code",
   "execution_count": 6,
   "id": "8f4b3de7",
   "metadata": {},
   "outputs": [
    {
     "data": {
      "text/plain": [
       "400"
      ]
     },
     "execution_count": 6,
     "metadata": {},
     "output_type": "execute_result"
    }
   ],
   "source": [
    "def decor1(func):\n",
    "    def inner():\n",
    "        x = func()\n",
    "        return x*x\n",
    "    return inner\n",
    "\n",
    "def decor2(func):\n",
    "    def inner():\n",
    "        x = func()\n",
    "        return 2*x\n",
    "    return inner\n",
    "@decor1\n",
    "@decor2\n",
    "\n",
    "def num():\n",
    "    return 10\n",
    "num()"
   ]
  },
  {
   "cell_type": "code",
   "execution_count": null,
   "id": "590c3173",
   "metadata": {},
   "outputs": [],
   "source": []
  }
 ],
 "metadata": {
  "kernelspec": {
   "display_name": "Python 3",
   "language": "python",
   "name": "python3"
  },
  "language_info": {
   "codemirror_mode": {
    "name": "ipython",
    "version": 3
   },
   "file_extension": ".py",
   "mimetype": "text/x-python",
   "name": "python",
   "nbconvert_exporter": "python",
   "pygments_lexer": "ipython3",
   "version": "3.8.8"
  }
 },
 "nbformat": 4,
 "nbformat_minor": 5
}
