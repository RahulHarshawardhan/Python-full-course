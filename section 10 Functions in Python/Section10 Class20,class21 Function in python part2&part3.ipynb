{
 "cells": [
  {
   "cell_type": "code",
   "execution_count": 2,
   "id": "b4881a74",
   "metadata": {},
   "outputs": [],
   "source": [
    "#Types of variables\n",
    "    # 1)Global variable- declare it outside the function, global variable valid for all the functions inside the module.\n",
    "    # 2) Local Variable   "
   ]
  },
  {
   "cell_type": "code",
   "execution_count": 5,
   "id": "cc989b75",
   "metadata": {},
   "outputs": [
    {
     "name": "stdout",
     "output_type": "stream",
     "text": [
      "F1 10\n",
      "F2 10\n"
     ]
    }
   ],
   "source": [
    "a = 10 #here a=10 is a global variable.\n",
    "def f1():\n",
    "    print('F1', a) \n",
    "f1()\n",
    "\n",
    "def f2():\n",
    "    print('F2', a)\n",
    "f2()"
   ]
  },
  {
   "cell_type": "code",
   "execution_count": 1,
   "id": "40f20b02",
   "metadata": {},
   "outputs": [
    {
     "name": "stdout",
     "output_type": "stream",
     "text": [
      "F1 10\n"
     ]
    }
   ],
   "source": [
    "def f1():\n",
    "    p=10 # p=10 is a Local Variable, since it is inside the function.\n",
    "    print('F1',p)\n",
    "f1()\n"
   ]
  },
  {
   "cell_type": "code",
   "execution_count": 9,
   "id": "22e03fb6",
   "metadata": {},
   "outputs": [
    {
     "name": "stdout",
     "output_type": "stream",
     "text": [
      "F1 20\n"
     ]
    },
    {
     "ename": "NameError",
     "evalue": "name 'p' is not defined",
     "output_type": "error",
     "traceback": [
      "\u001b[1;31m---------------------------------------------------------------------------\u001b[0m",
      "\u001b[1;31mNameError\u001b[0m                                 Traceback (most recent call last)",
      "\u001b[1;32m<ipython-input-9-077b53166b65>\u001b[0m in \u001b[0;36m<module>\u001b[1;34m\u001b[0m\n\u001b[0;32m      5\u001b[0m \u001b[1;32mdef\u001b[0m \u001b[0mf2\u001b[0m\u001b[1;33m(\u001b[0m\u001b[1;33m)\u001b[0m\u001b[1;33m:\u001b[0m\u001b[1;33m\u001b[0m\u001b[1;33m\u001b[0m\u001b[0m\n\u001b[0;32m      6\u001b[0m     \u001b[0mprint\u001b[0m\u001b[1;33m(\u001b[0m\u001b[1;34m'F2'\u001b[0m\u001b[1;33m,\u001b[0m\u001b[0mp\u001b[0m\u001b[1;33m)\u001b[0m\u001b[1;33m\u001b[0m\u001b[1;33m\u001b[0m\u001b[0m\n\u001b[1;32m----> 7\u001b[1;33m \u001b[0mf2\u001b[0m\u001b[1;33m(\u001b[0m\u001b[1;33m)\u001b[0m\u001b[1;33m\u001b[0m\u001b[1;33m\u001b[0m\u001b[0m\n\u001b[0m",
      "\u001b[1;32m<ipython-input-9-077b53166b65>\u001b[0m in \u001b[0;36mf2\u001b[1;34m()\u001b[0m\n\u001b[0;32m      4\u001b[0m \u001b[0mf1\u001b[0m\u001b[1;33m(\u001b[0m\u001b[1;33m)\u001b[0m\u001b[1;33m\u001b[0m\u001b[1;33m\u001b[0m\u001b[0m\n\u001b[0;32m      5\u001b[0m \u001b[1;32mdef\u001b[0m \u001b[0mf2\u001b[0m\u001b[1;33m(\u001b[0m\u001b[1;33m)\u001b[0m\u001b[1;33m:\u001b[0m\u001b[1;33m\u001b[0m\u001b[1;33m\u001b[0m\u001b[0m\n\u001b[1;32m----> 6\u001b[1;33m     \u001b[0mprint\u001b[0m\u001b[1;33m(\u001b[0m\u001b[1;34m'F2'\u001b[0m\u001b[1;33m,\u001b[0m\u001b[0mp\u001b[0m\u001b[1;33m)\u001b[0m\u001b[1;33m\u001b[0m\u001b[1;33m\u001b[0m\u001b[0m\n\u001b[0m\u001b[0;32m      7\u001b[0m \u001b[0mf2\u001b[0m\u001b[1;33m(\u001b[0m\u001b[1;33m)\u001b[0m\u001b[1;33m\u001b[0m\u001b[1;33m\u001b[0m\u001b[0m\n",
      "\u001b[1;31mNameError\u001b[0m: name 'p' is not defined"
     ]
    }
   ],
   "source": [
    "def f1():\n",
    "    p=20 # p=20 is a Local Variable, since it is inside the function.\n",
    "    print('F1',p)\n",
    "f1()\n",
    "def f2():\n",
    "    print('F2',p) #here p is defined for F1 function. so will give error.\n",
    "f2()"
   ]
  },
  {
   "cell_type": "code",
   "execution_count": 10,
   "id": "b4f3d40d",
   "metadata": {},
   "outputs": [
    {
     "name": "stdout",
     "output_type": "stream",
     "text": [
      "F1 101\n",
      "F2 10\n"
     ]
    }
   ],
   "source": [
    "q =10\n",
    "def f1(): #local variable get the priority.\n",
    "    q = 101\n",
    "    print('F1',q)\n",
    "f1()\n",
    "\n",
    "def f2():\n",
    "    print('F2',q)\n",
    "f2()"
   ]
  },
  {
   "cell_type": "code",
   "execution_count": 11,
   "id": "3b4a51a5",
   "metadata": {},
   "outputs": [
    {
     "name": "stdout",
     "output_type": "stream",
     "text": [
      "F1 200\n",
      "F2 200\n"
     ]
    }
   ],
   "source": [
    "z =10 # global variable\n",
    "def f1():\n",
    "    global z # Assigning z as a global, z being a local variable. It is updated from 10 to 200.\n",
    "    z =200\n",
    "    print('F1',z)\n",
    "f1()\n",
    "\n",
    "def f2():\n",
    "    print('F2',z)\n",
    "f2()"
   ]
  },
  {
   "cell_type": "code",
   "execution_count": 12,
   "id": "281544f3",
   "metadata": {},
   "outputs": [
    {
     "name": "stdout",
     "output_type": "stream",
     "text": [
      "F2 10\n",
      "F1 200\n"
     ]
    }
   ],
   "source": [
    "z=10\n",
    "def f2():\n",
    "    print('F2', z)\n",
    "f2()\n",
    "\n",
    "def f1():\n",
    "    global z --- # to declare global varaible available in the function. \n",
    "    z =200\n",
    "    print('F1',z)\n",
    "f1()"
   ]
  },
  {
   "cell_type": "code",
   "execution_count": null,
   "id": "1c55908c",
   "metadata": {},
   "outputs": [],
   "source": [
    "#local variable will be priority. But if we keep global as keyword it will be priority.\n",
    "# The purpose of global is to make global variable is available inside the function."
   ]
  },
  {
   "cell_type": "code",
   "execution_count": 13,
   "id": "37cedf77",
   "metadata": {},
   "outputs": [
    {
     "ename": "SyntaxError",
     "evalue": "name 'z' is assigned to before global declaration (<ipython-input-13-3e3649e3e108>, line 4)",
     "output_type": "error",
     "traceback": [
      "\u001b[1;36m  File \u001b[1;32m\"<ipython-input-13-3e3649e3e108>\"\u001b[1;36m, line \u001b[1;32m4\u001b[0m\n\u001b[1;33m    global z\u001b[0m\n\u001b[1;37m    ^\u001b[0m\n\u001b[1;31mSyntaxError\u001b[0m\u001b[1;31m:\u001b[0m name 'z' is assigned to before global declaration\n"
     ]
    }
   ],
   "source": [
    "z = 10\n",
    "def f1():\n",
    "    z =200  # if we want to create global variable it has to be before assignment like z =200.\n",
    "    global z # should be at start before assigning.\n",
    "    print('F1',z)\n",
    "f1()\n",
    "\n",
    "def f2():\n",
    "    print('F2', z)\n",
    "f2()"
   ]
  },
  {
   "cell_type": "code",
   "execution_count": 14,
   "id": "122f4874",
   "metadata": {},
   "outputs": [
    {
     "name": "stdout",
     "output_type": "stream",
     "text": [
      "F1 101\n",
      "F2 999\n",
      "F3 999\n"
     ]
    }
   ],
   "source": [
    "def f1():\n",
    "    global s\n",
    "    s = 101\n",
    "    print('F1',s)\n",
    "\n",
    "def f2():\n",
    "    global s\n",
    "    s = 999\n",
    "    print('F2', s)\n",
    "def f3():\n",
    "    print('F3',s)\n",
    "\n",
    "f1()\n",
    "f2()\n",
    "f3()"
   ]
  },
  {
   "cell_type": "code",
   "execution_count": 15,
   "id": "cda48ab4",
   "metadata": {},
   "outputs": [
    {
     "name": "stdout",
     "output_type": "stream",
     "text": [
      "20\n"
     ]
    }
   ],
   "source": [
    "a = 10\n",
    "def f1():\n",
    "    a=20\n",
    "    print(a)\n",
    "f1()"
   ]
  },
  {
   "cell_type": "code",
   "execution_count": 18,
   "id": "9927377f",
   "metadata": {},
   "outputs": [
    {
     "name": "stdout",
     "output_type": "stream",
     "text": [
      "20\n",
      "10\n"
     ]
    }
   ],
   "source": [
    "a = 10\n",
    "def f1():\n",
    "    a=20\n",
    "    print(a)\n",
    "    print(globals()['a']) # globals is the keyword to call the particular global variable\n",
    "f1()"
   ]
  },
  {
   "cell_type": "code",
   "execution_count": 2,
   "id": "55f20fd6",
   "metadata": {},
   "outputs": [
    {
     "data": {
      "text/plain": [
       "{'__name__': '__main__',\n",
       " '__doc__': 'Automatically created module for IPython interactive environment',\n",
       " '__package__': None,\n",
       " '__loader__': None,\n",
       " '__spec__': None,\n",
       " '__builtin__': <module 'builtins' (built-in)>,\n",
       " '__builtins__': <module 'builtins' (built-in)>,\n",
       " '_ih': ['',\n",
       "  \"def f1():\\n    p=10 # p=10 is a Local Variable, since it is inside the function.\\n    print('F1',p)\\nf1()\",\n",
       "  'globals()'],\n",
       " '_oh': {},\n",
       " '_dh': ['C:\\\\Users\\\\rahul\\\\Rahul Tiwari 30'],\n",
       " 'In': ['',\n",
       "  \"def f1():\\n    p=10 # p=10 is a Local Variable, since it is inside the function.\\n    print('F1',p)\\nf1()\",\n",
       "  'globals()'],\n",
       " 'Out': {},\n",
       " 'get_ipython': <bound method InteractiveShell.get_ipython of <ipykernel.zmqshell.ZMQInteractiveShell object at 0x00000152ABCC2FA0>>,\n",
       " 'exit': <IPython.core.autocall.ZMQExitAutocall at 0x152abd91730>,\n",
       " 'quit': <IPython.core.autocall.ZMQExitAutocall at 0x152abd91730>,\n",
       " '_': '',\n",
       " '__': '',\n",
       " '___': '',\n",
       " '_i': \"def f1():\\n    p=10 # p=10 is a Local Variable, since it is inside the function.\\n    print('F1',p)\\nf1()\",\n",
       " '_ii': '',\n",
       " '_iii': '',\n",
       " '_i1': \"def f1():\\n    p=10 # p=10 is a Local Variable, since it is inside the function.\\n    print('F1',p)\\nf1()\",\n",
       " 'f1': <function __main__.f1()>,\n",
       " '_i2': 'globals()'}"
      ]
     },
     "execution_count": 2,
     "metadata": {},
     "output_type": "execute_result"
    }
   ],
   "source": [
    "globals()"
   ]
  },
  {
   "cell_type": "code",
   "execution_count": 19,
   "id": "279b19f4",
   "metadata": {},
   "outputs": [
    {
     "data": {
      "text/plain": [
       "10"
      ]
     },
     "execution_count": 19,
     "metadata": {},
     "output_type": "execute_result"
    }
   ],
   "source": [
    "globals()['a']"
   ]
  },
  {
   "cell_type": "code",
   "execution_count": 20,
   "id": "2bd52276",
   "metadata": {},
   "outputs": [],
   "source": [
    "#Recursive Functions. when we call a function inside a same function.\n",
    "# solve complex problems\n",
    "# It reduces the length of code.\n",
    "#fact(5)=5*fact(4)\n",
    "         #  5*4*fact(3)\n",
    "          #  5*4*3*fact(2)\n",
    "         #   5*4*3*2*fact(1)\n",
    "            \n",
    "#fact(n)=n*fact(n-1)....\n",
    "# It improves the code readability.\n",
    "#helps to solve very complex problems\n",
    "\n",
    "\n"
   ]
  },
  {
   "cell_type": "code",
   "execution_count": 21,
   "id": "6c75a6e7",
   "metadata": {},
   "outputs": [
    {
     "data": {
      "text/plain": [
       "120"
      ]
     },
     "execution_count": 21,
     "metadata": {},
     "output_type": "execute_result"
    }
   ],
   "source": [
    "def factorial(n): # eg recursive function\n",
    "    if n==0:\n",
    "        result=1\n",
    "    else:\n",
    "        result = n*factorial(n-1)\n",
    "    return result\n",
    "factorial(5)"
   ]
  },
  {
   "cell_type": "code",
   "execution_count": 22,
   "id": "81e390c1",
   "metadata": {},
   "outputs": [
    {
     "data": {
      "text/plain": [
       "16"
      ]
     },
     "execution_count": 22,
     "metadata": {},
     "output_type": "execute_result"
    }
   ],
   "source": [
    "#Anonymous function - Function without any name.\n",
    "#Anonymous functions in python is known as Lamda function- nameless function.\n",
    "#one time usage.\n",
    "def square(n): # normal function\n",
    "    return n*n\n",
    "square(4)"
   ]
  },
  {
   "cell_type": "code",
   "execution_count": 24,
   "id": "d35809aa",
   "metadata": {},
   "outputs": [
    {
     "data": {
      "text/plain": [
       "16"
      ]
     },
     "execution_count": 24,
     "metadata": {},
     "output_type": "execute_result"
    }
   ],
   "source": [
    "lambda n : n*n\n",
    "m1 = lambda n: n*n # Assigned lambda function to a variable.\n",
    "m1(4)"
   ]
  },
  {
   "cell_type": "code",
   "execution_count": 26,
   "id": "fcd7e2a4",
   "metadata": {},
   "outputs": [
    {
     "name": "stdout",
     "output_type": "stream",
     "text": [
      "The sum of 2 and 4 is 6\n",
      "The sum of 45 and 67 is 112\n"
     ]
    }
   ],
   "source": [
    "s = lambda a, b : a+b\n",
    "print(\"The sum of {} and {} is {}\".format(2,4,s(2,4)))\n",
    "print(\"The sum of {} and {} is {}\".format(45,67,s(45,67)))"
   ]
  },
  {
   "cell_type": "code",
   "execution_count": 28,
   "id": "4ae59a69",
   "metadata": {},
   "outputs": [
    {
     "name": "stdout",
     "output_type": "stream",
     "text": [
      "The biggest of 10 and 20 is: 20\n",
      "The biggest of 100 and 20 is: 100\n"
     ]
    }
   ],
   "source": [
    "s = lambda a , b: a if a>b else b\n",
    "print(\"The biggest of {} and {} is: {}\".format(10,20, s(10,20)))\n",
    "print(\"The biggest of {} and {} is: {}\".format(100,20, s(100,20)))"
   ]
  },
  {
   "cell_type": "code",
   "execution_count": 29,
   "id": "0699cf08",
   "metadata": {},
   "outputs": [],
   "source": [
    "#filter()\n",
    "#map()\n",
    "#reduce()"
   ]
  },
  {
   "cell_type": "code",
   "execution_count": 31,
   "id": "48048f01",
   "metadata": {},
   "outputs": [],
   "source": [
    "#filter(func,list)\n",
    "#true value in the list,tuple,set\n",
    "#False- nothing"
   ]
  },
  {
   "cell_type": "code",
   "execution_count": 35,
   "id": "34eebd11",
   "metadata": {},
   "outputs": [
    {
     "name": "stdout",
     "output_type": "stream",
     "text": [
      "<class 'filter'>\n"
     ]
    },
    {
     "data": {
      "text/plain": [
       "(0, 4, 24, 22)"
      ]
     },
     "execution_count": 35,
     "metadata": {},
     "output_type": "execute_result"
    }
   ],
   "source": [
    "def iseven(x):\n",
    "    if x%2 == 0:\n",
    "        return True\n",
    "    else:\n",
    "        return False\n",
    "    \n",
    "l = [0,5,4,7,21,24,22,37,39]\n",
    "print(type(filter(iseven,l)))\n",
    "list(filter(iseven,l))\n",
    "tuple(filter(iseven,l))"
   ]
  },
  {
   "cell_type": "code",
   "execution_count": 36,
   "id": "ae748b9c",
   "metadata": {},
   "outputs": [
    {
     "data": {
      "text/plain": [
       "[5, 7, 21, 37, 39]"
      ]
     },
     "execution_count": 36,
     "metadata": {},
     "output_type": "execute_result"
    }
   ],
   "source": [
    "list(filter(lambda x: x%2 != 0,l)) # filter is a conditional check. "
   ]
  },
  {
   "cell_type": "code",
   "execution_count": null,
   "id": "f6848983",
   "metadata": {},
   "outputs": [],
   "source": [
    "#map - we are not doing conditional check. We are doing some operation in map.\n",
    "\n",
    "inp = [0,2,3,5,9,21,25,28]\n",
    "filter = out=[0,2,28]\n",
    "map = [0,4,6,10,18,42,50,56] # here each value of inp is multiplied by 2.\n"
   ]
  },
  {
   "cell_type": "code",
   "execution_count": null,
   "id": "422e0012",
   "metadata": {},
   "outputs": [],
   "source": [
    "# syntax is like in filter\n",
    "filter(func, list or Tuple or set)\n",
    "map(func, list or Tuple or set)\n"
   ]
  },
  {
   "cell_type": "code",
   "execution_count": 2,
   "id": "332bd0d8",
   "metadata": {},
   "outputs": [],
   "source": [
    "def double(x):\n",
    "    return 2*x"
   ]
  },
  {
   "cell_type": "code",
   "execution_count": 3,
   "id": "3f9a2195",
   "metadata": {},
   "outputs": [
    {
     "data": {
      "text/plain": [
       "[2, 4, 6, 8, 10]"
      ]
     },
     "execution_count": 3,
     "metadata": {},
     "output_type": "execute_result"
    }
   ],
   "source": [
    "l=[1,2,3,4,5] # Here we are doubling the values of the list.\n",
    "# In map each and every element will participate\n",
    "list(map(double,l))"
   ]
  },
  {
   "cell_type": "code",
   "execution_count": 5,
   "id": "2d0fd7b9",
   "metadata": {},
   "outputs": [
    {
     "data": {
      "text/plain": [
       "(2, 4, 6, 8, 10)"
      ]
     },
     "execution_count": 5,
     "metadata": {},
     "output_type": "execute_result"
    }
   ],
   "source": [
    "tuple(map(double,l))"
   ]
  },
  {
   "cell_type": "code",
   "execution_count": 3,
   "id": "c19c6598",
   "metadata": {},
   "outputs": [
    {
     "data": {
      "text/plain": [
       "[2, 4, 6, 8, 10]"
      ]
     },
     "execution_count": 3,
     "metadata": {},
     "output_type": "execute_result"
    }
   ],
   "source": [
    "list(map(lambda x: x*2, l))"
   ]
  },
  {
   "cell_type": "code",
   "execution_count": null,
   "id": "01984dfb",
   "metadata": {},
   "outputs": [],
   "source": []
  },
  {
   "cell_type": "code",
   "execution_count": 13,
   "id": "02d73aa7",
   "metadata": {},
   "outputs": [],
   "source": [
    "list1 = [1,2,3,4]\n",
    "list2 = [10,20,30,40]"
   ]
  },
  {
   "cell_type": "code",
   "execution_count": 18,
   "id": "191b5a53",
   "metadata": {},
   "outputs": [
    {
     "name": "stdout",
     "output_type": "stream",
     "text": [
      "[10, 40, 90, 160]\n"
     ]
    }
   ],
   "source": [
    "result=[]\n",
    "for x in range(0,len(list1)):\n",
    "    result.append(list1[x]*list2[x])\n",
    "print(result)  "
   ]
  },
  {
   "cell_type": "code",
   "execution_count": 17,
   "id": "b92f94dd",
   "metadata": {},
   "outputs": [
    {
     "data": {
      "text/plain": [
       "[10, 40, 90, 160]"
      ]
     },
     "execution_count": 17,
     "metadata": {},
     "output_type": "execute_result"
    }
   ],
   "source": [
    "list(map(lambda x,y : x*y, list1,list2))"
   ]
  },
  {
   "cell_type": "code",
   "execution_count": 8,
   "id": "87d0e07b",
   "metadata": {},
   "outputs": [
    {
     "data": {
      "text/plain": [
       "[10, 40]"
      ]
     },
     "execution_count": 8,
     "metadata": {},
     "output_type": "execute_result"
    }
   ],
   "source": [
    "list1 = [1,2]\n",
    "list2 = [10,20,30,40]\n",
    "list(map(lambda x,y : x*y, list1,list2))"
   ]
  },
  {
   "cell_type": "code",
   "execution_count": 9,
   "id": "ee0fd63c",
   "metadata": {},
   "outputs": [
    {
     "data": {
      "text/plain": [
       "[10, 40, 90]"
      ]
     },
     "execution_count": 9,
     "metadata": {},
     "output_type": "execute_result"
    }
   ],
   "source": [
    "list1 = [1,2,3]   # here the result will be given as per the value in both the list. Extra will be ignored and not shown in result.\n",
    "list2 = [10,20,30,40]\n",
    "list(map(lambda x,y : x*y, list1,list2))"
   ]
  },
  {
   "cell_type": "code",
   "execution_count": 19,
   "id": "c7fd9a08",
   "metadata": {},
   "outputs": [
    {
     "name": "stdout",
     "output_type": "stream",
     "text": [
      "210\n"
     ]
    }
   ],
   "source": [
    "#When we want to do any operation and to reduce the value from multi to single, we use reduce function\n",
    "#Reduce(func,l)- syntax remain the sam as filter and map. Reduce is package from module functool\n",
    "from functools import reduce\n",
    "list1 = [10,20,30,40,50,60]\n",
    "result = reduce(lambda x,y : x+y, list1)\n",
    "print(result)"
   ]
  },
  {
   "cell_type": "code",
   "execution_count": 20,
   "id": "fc2baed7",
   "metadata": {},
   "outputs": [
    {
     "data": {
      "text/plain": [
       "210"
      ]
     },
     "execution_count": 20,
     "metadata": {},
     "output_type": "execute_result"
    }
   ],
   "source": [
    "#Reduce(func,l)- syntax remain the sam as filter and map. Reduce is package from module functool\n",
    "from functools import reduce\n",
    "list1 = [10,20,30,40,50,60]\n",
    "reduce(lambda x,y : x+y, list1)\n"
   ]
  },
  {
   "cell_type": "code",
   "execution_count": 21,
   "id": "da67657d",
   "metadata": {},
   "outputs": [
    {
     "data": {
      "text/plain": [
       "int"
      ]
     },
     "execution_count": 21,
     "metadata": {},
     "output_type": "execute_result"
    }
   ],
   "source": [
    "type(result)"
   ]
  },
  {
   "cell_type": "code",
   "execution_count": 22,
   "id": "40d48f74",
   "metadata": {},
   "outputs": [
    {
     "name": "stdout",
     "output_type": "stream",
     "text": [
      "1849594124176\n",
      "1849594124176\n"
     ]
    }
   ],
   "source": [
    "# Function duplication, function aliasing.\n",
    "def greeting(name):\n",
    "    print(\"Good Morning\", name)\n",
    "print(id(greeting)) # function aliasing.\n",
    "Namaste = greeting\n",
    "print(id(Namaste)) # Here for namaste and greeting the memory locationis same."
   ]
  },
  {
   "cell_type": "code",
   "execution_count": 23,
   "id": "902432db",
   "metadata": {},
   "outputs": [],
   "source": [
    "#Nested function- function inside function\n",
    "\n",
    "def outer():\n",
    "    print(\"outer function started\")\n",
    "    def inner():\n",
    "        print(\"Inner function started\")\n"
   ]
  },
  {
   "cell_type": "code",
   "execution_count": 25,
   "id": "07eb66dc",
   "metadata": {},
   "outputs": [
    {
     "name": "stdout",
     "output_type": "stream",
     "text": [
      "outer function started\n"
     ]
    }
   ],
   "source": [
    "outer() # Here inner function doesnot started. Only outer function will work.\n"
   ]
  },
  {
   "cell_type": "code",
   "execution_count": 26,
   "id": "ba83a936",
   "metadata": {},
   "outputs": [
    {
     "ename": "NameError",
     "evalue": "name 'inner' is not defined",
     "output_type": "error",
     "traceback": [
      "\u001b[1;31m---------------------------------------------------------------------------\u001b[0m",
      "\u001b[1;31mNameError\u001b[0m                                 Traceback (most recent call last)",
      "\u001b[1;32m<ipython-input-26-bc10f1654870>\u001b[0m in \u001b[0;36m<module>\u001b[1;34m\u001b[0m\n\u001b[1;32m----> 1\u001b[1;33m \u001b[0minner\u001b[0m\u001b[1;33m(\u001b[0m\u001b[1;33m)\u001b[0m\u001b[1;33m\u001b[0m\u001b[1;33m\u001b[0m\u001b[0m\n\u001b[0m",
      "\u001b[1;31mNameError\u001b[0m: name 'inner' is not defined"
     ]
    }
   ],
   "source": [
    "inner() #HERE it will give error."
   ]
  },
  {
   "cell_type": "code",
   "execution_count": 27,
   "id": "8cc823ea",
   "metadata": {},
   "outputs": [],
   "source": [
    "#Nested function.\n",
    "def outer():\n",
    "    print(\"outer function started\")\n",
    "    def inner():\n",
    "        print(\"Inner function started\")\n",
    "    inner() # need to call inner function here only. \n"
   ]
  },
  {
   "cell_type": "code",
   "execution_count": 28,
   "id": "cac03fe3",
   "metadata": {},
   "outputs": [
    {
     "name": "stdout",
     "output_type": "stream",
     "text": [
      "outer function started\n",
      "Inner function started\n"
     ]
    }
   ],
   "source": [
    "outer()"
   ]
  },
  {
   "cell_type": "code",
   "execution_count": 30,
   "id": "49f1855f",
   "metadata": {},
   "outputs": [],
   "source": [
    "def f1():\n",
    "    def inner(a,b):\n",
    "        print(\"The sum: \", a+b)\n",
    "        print(\"The avg:\", (a+b)/2)\n",
    "    inner(10,20)\n",
    "    inner(30,40)    \n",
    "    inner(40,45)    \n",
    "    inner(14,45)\n"
   ]
  },
  {
   "cell_type": "code",
   "execution_count": 31,
   "id": "9a787b3d",
   "metadata": {},
   "outputs": [
    {
     "name": "stdout",
     "output_type": "stream",
     "text": [
      "The sum:  30\n",
      "The avg: 15.0\n",
      "The sum:  70\n",
      "The avg: 35.0\n",
      "The sum:  85\n",
      "The avg: 42.5\n",
      "The sum:  59\n",
      "The avg: 29.5\n"
     ]
    }
   ],
   "source": [
    "f1()"
   ]
  },
  {
   "cell_type": "code",
   "execution_count": 32,
   "id": "365a6631",
   "metadata": {},
   "outputs": [
    {
     "ename": "NameError",
     "evalue": "name 'inner' is not defined",
     "output_type": "error",
     "traceback": [
      "\u001b[1;31m---------------------------------------------------------------------------\u001b[0m",
      "\u001b[1;31mNameError\u001b[0m                                 Traceback (most recent call last)",
      "\u001b[1;32m<ipython-input-32-c895cf3805d7>\u001b[0m in \u001b[0;36m<module>\u001b[1;34m\u001b[0m\n\u001b[0;32m      7\u001b[0m     \u001b[0minner\u001b[0m\u001b[1;33m(\u001b[0m\u001b[1;36m40\u001b[0m\u001b[1;33m,\u001b[0m\u001b[1;36m45\u001b[0m\u001b[1;33m)\u001b[0m\u001b[1;33m\u001b[0m\u001b[1;33m\u001b[0m\u001b[0m\n\u001b[0;32m      8\u001b[0m     \u001b[0minner\u001b[0m\u001b[1;33m(\u001b[0m\u001b[1;36m14\u001b[0m\u001b[1;33m,\u001b[0m\u001b[1;36m45\u001b[0m\u001b[1;33m)\u001b[0m\u001b[1;33m\u001b[0m\u001b[1;33m\u001b[0m\u001b[0m\n\u001b[1;32m----> 9\u001b[1;33m \u001b[0minner\u001b[0m\u001b[1;33m(\u001b[0m\u001b[1;36m10\u001b[0m\u001b[1;33m,\u001b[0m\u001b[1;36m20\u001b[0m\u001b[1;33m)\u001b[0m\u001b[1;33m\u001b[0m\u001b[1;33m\u001b[0m\u001b[0m\n\u001b[0m",
      "\u001b[1;31mNameError\u001b[0m: name 'inner' is not defined"
     ]
    }
   ],
   "source": [
    "def f1():\n",
    "    def inner(a,b):\n",
    "        print(\"The sum: \", a+b)\n",
    "        print(\"The avg:\", (a+b)/2)\n",
    "    inner(10,20)\n",
    "    inner(30,40)    \n",
    "    inner(40,45)    \n",
    "    inner(14,45)\n",
    "inner(10,20)"
   ]
  },
  {
   "cell_type": "code",
   "execution_count": 1,
   "id": "081f7ab4",
   "metadata": {},
   "outputs": [
    {
     "name": "stdout",
     "output_type": "stream",
     "text": [
      "The sum:  30\n",
      "The avg: 15.0\n",
      "The sum:  70\n",
      "The avg: 35.0\n",
      "The sum:  85\n",
      "The avg: 42.5\n",
      "The sum:  59\n",
      "The avg: 29.5\n"
     ]
    },
    {
     "ename": "AttributeError",
     "evalue": "'NoneType' object has no attribute 'inner'",
     "output_type": "error",
     "traceback": [
      "\u001b[1;31m---------------------------------------------------------------------------\u001b[0m",
      "\u001b[1;31mAttributeError\u001b[0m                            Traceback (most recent call last)",
      "\u001b[1;32m<ipython-input-1-ab69f432a1b1>\u001b[0m in \u001b[0;36m<module>\u001b[1;34m\u001b[0m\n\u001b[0;32m      7\u001b[0m     \u001b[0minner\u001b[0m\u001b[1;33m(\u001b[0m\u001b[1;36m40\u001b[0m\u001b[1;33m,\u001b[0m\u001b[1;36m45\u001b[0m\u001b[1;33m)\u001b[0m\u001b[1;33m\u001b[0m\u001b[1;33m\u001b[0m\u001b[0m\n\u001b[0;32m      8\u001b[0m     \u001b[0minner\u001b[0m\u001b[1;33m(\u001b[0m\u001b[1;36m14\u001b[0m\u001b[1;33m,\u001b[0m\u001b[1;36m45\u001b[0m\u001b[1;33m)\u001b[0m\u001b[1;33m\u001b[0m\u001b[1;33m\u001b[0m\u001b[0m\n\u001b[1;32m----> 9\u001b[1;33m \u001b[0mf1\u001b[0m\u001b[1;33m(\u001b[0m\u001b[1;33m)\u001b[0m\u001b[1;33m.\u001b[0m\u001b[0minner\u001b[0m\u001b[1;33m(\u001b[0m\u001b[1;36m10\u001b[0m\u001b[1;33m,\u001b[0m\u001b[1;36m20\u001b[0m\u001b[1;33m)\u001b[0m\u001b[1;33m\u001b[0m\u001b[1;33m\u001b[0m\u001b[0m\n\u001b[0m",
      "\u001b[1;31mAttributeError\u001b[0m: 'NoneType' object has no attribute 'inner'"
     ]
    }
   ],
   "source": [
    "def f1():\n",
    "    def inner(a,b):\n",
    "        print(\"The sum: \", a+b)\n",
    "        print(\"The avg:\", (a+b)/2)\n",
    "    inner(10,20)\n",
    "    inner(30,40)    \n",
    "    inner(40,45)    \n",
    "    inner(14,45)\n",
    "f1().inner(10,20)"
   ]
  },
  {
   "cell_type": "code",
   "execution_count": 2,
   "id": "1be7acb9",
   "metadata": {},
   "outputs": [
    {
     "ename": "NameError",
     "evalue": "name 'inner' is not defined",
     "output_type": "error",
     "traceback": [
      "\u001b[1;31m---------------------------------------------------------------------------\u001b[0m",
      "\u001b[1;31mNameError\u001b[0m                                 Traceback (most recent call last)",
      "\u001b[1;32m<ipython-input-2-b84e6dbc1bcd>\u001b[0m in \u001b[0;36m<module>\u001b[1;34m\u001b[0m\n\u001b[1;32m----> 1\u001b[1;33m \u001b[0mf1\u001b[0m\u001b[1;33m(\u001b[0m\u001b[0minner\u001b[0m\u001b[1;33m(\u001b[0m\u001b[1;36m10\u001b[0m\u001b[1;33m,\u001b[0m\u001b[1;36m20\u001b[0m\u001b[1;33m)\u001b[0m\u001b[1;33m)\u001b[0m\u001b[1;33m\u001b[0m\u001b[1;33m\u001b[0m\u001b[0m\n\u001b[0m",
      "\u001b[1;31mNameError\u001b[0m: name 'inner' is not defined"
     ]
    }
   ],
   "source": [
    "f1(inner(10,20))"
   ]
  },
  {
   "cell_type": "code",
   "execution_count": 3,
   "id": "0afbf4b7",
   "metadata": {},
   "outputs": [
    {
     "name": "stdout",
     "output_type": "stream",
     "text": [
      "outer function started\n",
      "outer function started inner function\n"
     ]
    }
   ],
   "source": [
    "def outer():\n",
    "    print('outer function started')\n",
    "    def inner():\n",
    "        print('inner function started')\n",
    "    print('outer function started inner function')\n",
    "    return inner\n",
    "f1 = outer()"
   ]
  },
  {
   "cell_type": "code",
   "execution_count": 5,
   "id": "497facbb",
   "metadata": {},
   "outputs": [
    {
     "name": "stdout",
     "output_type": "stream",
     "text": [
      "outer function started\n",
      "outer function started inner function\n",
      "inner function started\n"
     ]
    }
   ],
   "source": [
    "def outer():\n",
    "    print('outer function started')\n",
    "    def inner():\n",
    "        print('inner function started')\n",
    "    print('outer function started inner function')\n",
    "    return inner\n",
    "f1=outer()\n",
    "f1()"
   ]
  },
  {
   "cell_type": "code",
   "execution_count": 5,
   "id": "4a20f575",
   "metadata": {},
   "outputs": [
    {
     "name": "stdout",
     "output_type": "stream",
     "text": [
      "The sum is : 30\n"
     ]
    }
   ],
   "source": [
    "def f1():   # outer function created\n",
    "    def inner(a,b):  # inner function created\n",
    "        print(\"The sum is :\", a+b)\n",
    "    return inner # here returning inner function in outer function. so when we call outer function,\n",
    "                # and put the values while calling the outer function. It will accept the value and inner function runs.\n",
    "\n",
    "z = f1()\n",
    "z(10,20)"
   ]
  },
  {
   "cell_type": "code",
   "execution_count": 6,
   "id": "190e14c7",
   "metadata": {},
   "outputs": [
    {
     "data": {
      "text/plain": [
       "function"
      ]
     },
     "execution_count": 6,
     "metadata": {},
     "output_type": "execute_result"
    }
   ],
   "source": [
    "type(z)"
   ]
  },
  {
   "cell_type": "code",
   "execution_count": 3,
   "id": "03ae5be9",
   "metadata": {},
   "outputs": [],
   "source": [
    "def a(x,y):\n",
    "    z = x+y\n",
    "    return z\n",
    "outer = a(10,20)"
   ]
  },
  {
   "cell_type": "code",
   "execution_count": 4,
   "id": "10db8b68",
   "metadata": {},
   "outputs": [
    {
     "data": {
      "text/plain": [
       "30"
      ]
     },
     "execution_count": 4,
     "metadata": {},
     "output_type": "execute_result"
    }
   ],
   "source": [
    "outer"
   ]
  },
  {
   "cell_type": "code",
   "execution_count": 15,
   "id": "6b0d5aef",
   "metadata": {},
   "outputs": [
    {
     "name": "stdout",
     "output_type": "stream",
     "text": [
      "hello Rahul good morning\n",
      "hello Roli good morning\n",
      "hello Atharv good morning\n"
     ]
    }
   ],
   "source": [
    "# Decorator - \n",
    "\n",
    "def greeting(name):\n",
    "    print('hello', name,'good morning')\n",
    "greeting('Rahul')\n",
    "greeting('Roli')\n",
    "greeting('Atharv')"
   ]
  },
  {
   "cell_type": "code",
   "execution_count": 17,
   "id": "223a573e",
   "metadata": {},
   "outputs": [
    {
     "name": "stdout",
     "output_type": "stream",
     "text": [
      "hello Rahul Bad morning\n",
      "hello Roli good morning\n",
      "hello Atharv good morning\n"
     ]
    }
   ],
   "source": [
    "def decor(func):   # Here we want when Rahul name come in it should print \"Bad Morning\".. \n",
    "    def inner(name):  #Decor function will be before the main funtion\n",
    "        if name=='Rahul':\n",
    "            print('hello', name, 'Bad morning')\n",
    "        else:\n",
    "            func(name)\n",
    "    return inner\n",
    "\n",
    "@decor\n",
    "\n",
    "def greeting(name):\n",
    "    print('hello', name,'good morning')\n",
    "greeting('Rahul')\n",
    "greeting('Roli')\n",
    "greeting('Atharv')"
   ]
  },
  {
   "cell_type": "code",
   "execution_count": null,
   "id": "6d89d834",
   "metadata": {},
   "outputs": [],
   "source": []
  }
 ],
 "metadata": {
  "kernelspec": {
   "display_name": "Python 3",
   "language": "python",
   "name": "python3"
  },
  "language_info": {
   "codemirror_mode": {
    "name": "ipython",
    "version": 3
   },
   "file_extension": ".py",
   "mimetype": "text/x-python",
   "name": "python",
   "nbconvert_exporter": "python",
   "pygments_lexer": "ipython3",
   "version": "3.8.8"
  }
 },
 "nbformat": 4,
 "nbformat_minor": 5
}
