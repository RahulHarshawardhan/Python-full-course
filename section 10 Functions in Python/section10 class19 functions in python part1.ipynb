{
 "cells": [
  {
   "cell_type": "code",
   "execution_count": 1,
   "id": "5acf6677",
   "metadata": {},
   "outputs": [],
   "source": [
    "#why function is required?\n",
    " # when we are writing multiple lines of the code the the number of lines of code will increase.\n",
    "# We will write functions for those lines.\n",
    "\n",
    "# advantages of the function.\n",
    " #1) code reusability is the biggest advantage.\n",
    "\n",
    "#function\n",
    "#to cal to f."
   ]
  },
  {
   "cell_type": "code",
   "execution_count": null,
   "id": "58f3a0a8",
   "metadata": {},
   "outputs": [],
   "source": [
    "#inbuilt functions\n",
    "print()\n",
    "len()\n",
    "eval()\n",
    "input()\n",
    "id()\n",
    "sorted()\n",
    "\n",
    "#user defined functions\n",
    "#use def"
   ]
  },
  {
   "cell_type": "code",
   "execution_count": 3,
   "id": "00afcd88",
   "metadata": {},
   "outputs": [
    {
     "name": "stdout",
     "output_type": "stream",
     "text": [
      "good morning\n"
     ]
    }
   ],
   "source": [
    " def greeting():\n",
    "        '''This function is helping to greet the audience'''\n",
    "        print('good morning')\n",
    "greeting()"
   ]
  },
  {
   "cell_type": "code",
   "execution_count": 4,
   "id": "208e986e",
   "metadata": {},
   "outputs": [
    {
     "ename": "TypeError",
     "evalue": "greeting() missing 1 required positional argument: 'name'",
     "output_type": "error",
     "traceback": [
      "\u001b[1;31m---------------------------------------------------------------------------\u001b[0m",
      "\u001b[1;31mTypeError\u001b[0m                                 Traceback (most recent call last)",
      "\u001b[1;32m<ipython-input-4-43ea378672d2>\u001b[0m in \u001b[0;36m<module>\u001b[1;34m\u001b[0m\n\u001b[0;32m      3\u001b[0m \u001b[1;32mdef\u001b[0m \u001b[0mgreeting\u001b[0m\u001b[1;33m(\u001b[0m\u001b[0mname\u001b[0m\u001b[1;33m)\u001b[0m\u001b[1;33m:\u001b[0m\u001b[1;33m\u001b[0m\u001b[1;33m\u001b[0m\u001b[0m\n\u001b[0;32m      4\u001b[0m     \u001b[0mprint\u001b[0m\u001b[1;33m(\u001b[0m\u001b[1;34m'hello'\u001b[0m\u001b[1;33m,\u001b[0m \u001b[0mname\u001b[0m\u001b[1;33m,\u001b[0m\u001b[1;34m'Good Evening'\u001b[0m\u001b[1;33m)\u001b[0m\u001b[1;33m\u001b[0m\u001b[1;33m\u001b[0m\u001b[0m\n\u001b[1;32m----> 5\u001b[1;33m \u001b[0mgreeting\u001b[0m\u001b[1;33m(\u001b[0m\u001b[1;33m)\u001b[0m\u001b[1;33m\u001b[0m\u001b[1;33m\u001b[0m\u001b[0m\n\u001b[0m",
      "\u001b[1;31mTypeError\u001b[0m: greeting() missing 1 required positional argument: 'name'"
     ]
    }
   ],
   "source": [
    "#inside a function want to pass parameter as well.\n",
    "\n",
    "def greeting(name):\n",
    "    '''This function is helping to greet the audience. (This is called document string.)'''\n",
    "    print('hello', name,'Good Evening')\n",
    "greeting()"
   ]
  },
  {
   "cell_type": "code",
   "execution_count": null,
   "id": "af5a83de",
   "metadata": {},
   "outputs": [],
   "source": []
  },
  {
   "cell_type": "code",
   "execution_count": 5,
   "id": "b28665eb",
   "metadata": {},
   "outputs": [
    {
     "name": "stdout",
     "output_type": "stream",
     "text": [
      "hello Astha Good Evening\n"
     ]
    }
   ],
   "source": [
    "#This is known as parameterised function.\n",
    "def greeting(name):\n",
    "    print('hello', name,'Good Evening')\n",
    "greeting('Astha')"
   ]
  },
  {
   "cell_type": "code",
   "execution_count": 7,
   "id": "f6288d6c",
   "metadata": {},
   "outputs": [
    {
     "name": "stdout",
     "output_type": "stream",
     "text": [
      "The square of 10 is: 100\n",
      "The square of 100 is: 10000\n"
     ]
    }
   ],
   "source": [
    "def square(x):\n",
    "    print(\"The square of {} is: {}\".format(x,x*x))\n",
    "square(10)\n",
    "square(100)\n",
    "\n"
   ]
  },
  {
   "cell_type": "code",
   "execution_count": 14,
   "id": "9dcec15f",
   "metadata": {},
   "outputs": [
    {
     "name": "stdout",
     "output_type": "stream",
     "text": [
      "30\n"
     ]
    }
   ],
   "source": [
    "def add(a,b):\n",
    "    return a+b   #return willbe without brackets.\n",
    "result = add(10,20)\n",
    "print(result)"
   ]
  },
  {
   "cell_type": "code",
   "execution_count": 9,
   "id": "5aca1152",
   "metadata": {},
   "outputs": [
    {
     "name": "stdout",
     "output_type": "stream",
     "text": [
      "hello\n"
     ]
    }
   ],
   "source": [
    "def f1():\n",
    "    print(\"hello\")\n",
    "f1()"
   ]
  },
  {
   "cell_type": "code",
   "execution_count": 11,
   "id": "4c888fe9",
   "metadata": {},
   "outputs": [
    {
     "name": "stdout",
     "output_type": "stream",
     "text": [
      "hello\n",
      "None\n"
     ]
    }
   ],
   "source": [
    "def f1():\n",
    "    print(\"hello\")\n",
    "print(f1())\n",
    "#if function wont return anything then the value will be return as None."
   ]
  },
  {
   "cell_type": "code",
   "execution_count": 13,
   "id": "c06d4c31",
   "metadata": {},
   "outputs": [
    {
     "name": "stdout",
     "output_type": "stream",
     "text": [
      "11 number is odd\n",
      "10 number is even\n",
      "11.5 number is odd\n"
     ]
    }
   ],
   "source": [
    "def evenodd(n):\n",
    "    if n%2==0:\n",
    "        print(\"{} number is even\".format(n))\n",
    "    else:\n",
    "        print(\"{} number is odd\".format(n))\n",
    "evenodd(11)\n",
    "evenodd(10)\n",
    "evenodd(11.5)\n",
    "        "
   ]
  },
  {
   "cell_type": "code",
   "execution_count": 16,
   "id": "6fb95ccb",
   "metadata": {},
   "outputs": [
    {
     "name": "stdout",
     "output_type": "stream",
     "text": [
      "3628800\n",
      "120\n"
     ]
    }
   ],
   "source": [
    "def fact(n):\n",
    "    result=1\n",
    "    while n>=1:\n",
    "        result=result*n\n",
    "        n = n-1\n",
    "    return result\n",
    "print(fact(10))\n",
    "print(fact(5))"
   ]
  },
  {
   "cell_type": "code",
   "execution_count": 5,
   "id": "bcd04d2a",
   "metadata": {},
   "outputs": [],
   "source": [
    "def fact(n):\n",
    "    result = 1\n",
    "    while n>=1:\n",
    "        result = result * n\n",
    "        n = n-1\n",
    "    return result\n",
    "A = fact(3)    "
   ]
  },
  {
   "cell_type": "code",
   "execution_count": 6,
   "id": "82d25faf",
   "metadata": {},
   "outputs": [
    {
     "data": {
      "text/plain": [
       "6"
      ]
     },
     "execution_count": 6,
     "metadata": {},
     "output_type": "execute_result"
    }
   ],
   "source": [
    "A"
   ]
  },
  {
   "cell_type": "code",
   "execution_count": 7,
   "id": "70aea86d",
   "metadata": {},
   "outputs": [],
   "source": [
    "del A"
   ]
  },
  {
   "cell_type": "code",
   "execution_count": 8,
   "id": "61352e90",
   "metadata": {},
   "outputs": [
    {
     "name": "stdout",
     "output_type": "stream",
     "text": [
      "6\n"
     ]
    }
   ],
   "source": [
    "def fact(n):\n",
    "    result = 1\n",
    "    while n>=1:\n",
    "        result = result * n\n",
    "        n = n-1\n",
    "    print(result)\n",
    "A = fact(3)"
   ]
  },
  {
   "cell_type": "code",
   "execution_count": 9,
   "id": "b1fd8bb9",
   "metadata": {},
   "outputs": [
    {
     "data": {
      "text/plain": [
       "NoneType"
      ]
     },
     "execution_count": 9,
     "metadata": {},
     "output_type": "execute_result"
    }
   ],
   "source": [
    "type(A)"
   ]
  },
  {
   "cell_type": "code",
   "execution_count": null,
   "id": "25263946",
   "metadata": {},
   "outputs": [],
   "source": [
    "# The difference between print and return is when we want to store the result(output) in a variable we use return and just to print the result we use \n",
    "# print.\n"
   ]
  },
  {
   "cell_type": "code",
   "execution_count": 17,
   "id": "12bc1c8c",
   "metadata": {},
   "outputs": [
    {
     "name": "stdout",
     "output_type": "stream",
     "text": [
      "The factorial of 1 is: 1\n",
      "The factorial of 2 is: 2\n",
      "The factorial of 3 is: 6\n",
      "The factorial of 4 is: 24\n",
      "The factorial of 5 is: 120\n",
      "The factorial of 6 is: 720\n",
      "The factorial of 7 is: 5040\n",
      "The factorial of 8 is: 40320\n",
      "The factorial of 9 is: 362880\n",
      "The factorial of 10 is: 3628800\n"
     ]
    }
   ],
   "source": [
    "def fact(n):\n",
    "    result=1\n",
    "    while n>=1:\n",
    "        result=result*n\n",
    "        n = n-1\n",
    "    return result\n",
    "for i in range(1,11):\n",
    "    print(\"The factorial of {} is: {}\".format(i,fact(i)))"
   ]
  },
  {
   "cell_type": "code",
   "execution_count": 1,
   "id": "faf86f6c",
   "metadata": {},
   "outputs": [
    {
     "ename": "TypeError",
     "evalue": "sum_sub() missing 2 required positional arguments: 'a' and 'b'",
     "output_type": "error",
     "traceback": [
      "\u001b[1;31m---------------------------------------------------------------------------\u001b[0m",
      "\u001b[1;31mTypeError\u001b[0m                                 Traceback (most recent call last)",
      "\u001b[1;32m<ipython-input-1-8a25bf00876f>\u001b[0m in \u001b[0;36m<module>\u001b[1;34m\u001b[0m\n\u001b[0;32m      3\u001b[0m     \u001b[0msub\u001b[0m \u001b[1;33m=\u001b[0m \u001b[0ma\u001b[0m\u001b[1;33m-\u001b[0m\u001b[0mb\u001b[0m\u001b[1;33m\u001b[0m\u001b[1;33m\u001b[0m\u001b[0m\n\u001b[0;32m      4\u001b[0m     \u001b[1;32mreturn\u001b[0m \u001b[0msum\u001b[0m\u001b[1;33m,\u001b[0m\u001b[0msub\u001b[0m\u001b[1;33m\u001b[0m\u001b[1;33m\u001b[0m\u001b[0m\n\u001b[1;32m----> 5\u001b[1;33m \u001b[0msum_sub\u001b[0m\u001b[1;33m(\u001b[0m\u001b[1;33m)\u001b[0m\u001b[1;33m\u001b[0m\u001b[1;33m\u001b[0m\u001b[0m\n\u001b[0m",
      "\u001b[1;31mTypeError\u001b[0m: sum_sub() missing 2 required positional arguments: 'a' and 'b'"
     ]
    }
   ],
   "source": [
    "def sum_sub(a,b):\n",
    "    sum = a+b\n",
    "    sub = a-b\n",
    "    return sum,sub\n",
    "sum_sub()    # need to pass parameter."
   ]
  },
  {
   "cell_type": "code",
   "execution_count": 2,
   "id": "1d4d8b10",
   "metadata": {},
   "outputs": [
    {
     "data": {
      "text/plain": [
       "(15, 5)"
      ]
     },
     "execution_count": 2,
     "metadata": {},
     "output_type": "execute_result"
    }
   ],
   "source": [
    "def sum_sub(a,b):\n",
    "    sum = a+b\n",
    "    sub = a-b\n",
    "    return (sum,sub) # when we return in normal bracket the result  will be a tuple\n",
    "sum_sub(10,5) # output in tuple. "
   ]
  },
  {
   "cell_type": "code",
   "execution_count": 4,
   "id": "05210c6b",
   "metadata": {},
   "outputs": [
    {
     "data": {
      "text/plain": [
       "[15, 5]"
      ]
     },
     "execution_count": 4,
     "metadata": {},
     "output_type": "execute_result"
    }
   ],
   "source": [
    "def sum_sub(a,b):\n",
    "    sum = a+b\n",
    "    sub = a-b\n",
    "    return [sum,sub] # when we return in square bracket the result  will be a list\n",
    "sum_sub(10,5) # output in list. "
   ]
  },
  {
   "cell_type": "code",
   "execution_count": 10,
   "id": "2d0bec3e",
   "metadata": {},
   "outputs": [
    {
     "name": "stdout",
     "output_type": "stream",
     "text": [
      "The sum is: 15\n",
      "The sub is: 5\n"
     ]
    }
   ],
   "source": [
    "def sum_sub(a,b):\n",
    "    sum = a+b\n",
    "    sub = a-b\n",
    "    return (sum,sub) # when we return in normal bracket the result  will be a tuple\n",
    "x,y = sum_sub(10,5) # output in tuple. \n",
    "print(\"The sum is:\", x)\n",
    "print(\"The sub is:\", y)"
   ]
  },
  {
   "cell_type": "code",
   "execution_count": 6,
   "id": "299f051f",
   "metadata": {},
   "outputs": [
    {
     "data": {
      "text/plain": [
       "15"
      ]
     },
     "execution_count": 6,
     "metadata": {},
     "output_type": "execute_result"
    }
   ],
   "source": [
    "x"
   ]
  },
  {
   "cell_type": "code",
   "execution_count": 7,
   "id": "25148e8f",
   "metadata": {},
   "outputs": [
    {
     "data": {
      "text/plain": [
       "5"
      ]
     },
     "execution_count": 7,
     "metadata": {},
     "output_type": "execute_result"
    }
   ],
   "source": [
    "y"
   ]
  },
  {
   "cell_type": "code",
   "execution_count": 10,
   "id": "0225d28c",
   "metadata": {},
   "outputs": [
    {
     "data": {
      "text/plain": [
       "(15, 5, 50, 2.0)"
      ]
     },
     "execution_count": 10,
     "metadata": {},
     "output_type": "execute_result"
    }
   ],
   "source": [
    "def calc(a,b):\n",
    "    sum = a+b\n",
    "    sub = a-b\n",
    "    mul = a*b\n",
    "    div = a/b\n",
    "    return sum, sub, mul, div\n",
    "t = calc(10,5)\n",
    "t"
   ]
  },
  {
   "cell_type": "code",
   "execution_count": 11,
   "id": "27ba6c42",
   "metadata": {},
   "outputs": [],
   "source": [
    "# Types of Arguments\n",
    "# 1) Positional Arguments\n",
    "# 2) Keyword Arguments\n",
    "# 3) default Arguments\n",
    "# 4) Variable Length Arguments\n",
    "\n",
    "def sum(a,b): # a and b are formal parameters \n",
    "    pass\n",
    "sum(10,20) # 10,20 is actual arguments"
   ]
  },
  {
   "cell_type": "code",
   "execution_count": 13,
   "id": "dc65c880",
   "metadata": {},
   "outputs": [
    {
     "name": "stdout",
     "output_type": "stream",
     "text": [
      "30\n"
     ]
    },
    {
     "ename": "TypeError",
     "evalue": "sum() takes 2 positional arguments but 3 were given",
     "output_type": "error",
     "traceback": [
      "\u001b[1;31m---------------------------------------------------------------------------\u001b[0m",
      "\u001b[1;31mTypeError\u001b[0m                                 Traceback (most recent call last)",
      "\u001b[1;32m<ipython-input-13-9cf512848f0f>\u001b[0m in \u001b[0;36m<module>\u001b[1;34m\u001b[0m\n\u001b[0;32m      3\u001b[0m     \u001b[0mprint\u001b[0m\u001b[1;33m(\u001b[0m\u001b[0ma\u001b[0m\u001b[1;33m+\u001b[0m\u001b[0mb\u001b[0m\u001b[1;33m)\u001b[0m\u001b[1;33m\u001b[0m\u001b[1;33m\u001b[0m\u001b[0m\n\u001b[0;32m      4\u001b[0m \u001b[0msum\u001b[0m\u001b[1;33m(\u001b[0m\u001b[1;36m10\u001b[0m\u001b[1;33m,\u001b[0m\u001b[1;36m20\u001b[0m\u001b[1;33m)\u001b[0m\u001b[1;33m\u001b[0m\u001b[1;33m\u001b[0m\u001b[0m\n\u001b[1;32m----> 5\u001b[1;33m \u001b[0msum\u001b[0m\u001b[1;33m(\u001b[0m\u001b[1;36m10\u001b[0m\u001b[1;33m,\u001b[0m\u001b[1;36m20\u001b[0m\u001b[1;33m,\u001b[0m\u001b[1;36m30\u001b[0m\u001b[1;33m)\u001b[0m\u001b[1;33m\u001b[0m\u001b[1;33m\u001b[0m\u001b[0m\n\u001b[0m",
      "\u001b[1;31mTypeError\u001b[0m: sum() takes 2 positional arguments but 3 were given"
     ]
    }
   ],
   "source": [
    "# Positional Arguments - Exact correct positional order is required, and number of argument is required and important.\n",
    "def sum(a,b):\n",
    "    print(a+b)\n",
    "sum(10,20)\n",
    "sum(10,20,30)\n"
   ]
  },
  {
   "cell_type": "code",
   "execution_count": 17,
   "id": "ca5bac97",
   "metadata": {},
   "outputs": [
    {
     "name": "stdout",
     "output_type": "stream",
     "text": [
      "9000\n"
     ]
    }
   ],
   "source": [
    "def finance(sales, profit):\n",
    "    exp = sales-profit\n",
    "    print(exp)\n",
    "finance(10000,1000)"
   ]
  },
  {
   "cell_type": "code",
   "execution_count": 19,
   "id": "103eece6",
   "metadata": {},
   "outputs": [
    {
     "name": "stdout",
     "output_type": "stream",
     "text": [
      "-9000\n"
     ]
    }
   ],
   "source": [
    "def finance(sales, profit): # exact correct position is required else the wrong value will come.\n",
    "    exp = sales-profit\n",
    "    print(exp)\n",
    "finance(1000,10000)"
   ]
  },
  {
   "cell_type": "code",
   "execution_count": 21,
   "id": "611834ec",
   "metadata": {},
   "outputs": [
    {
     "name": "stdout",
     "output_type": "stream",
     "text": [
      "hello Rahul welcome\n",
      "hello Rahul Welcome\n"
     ]
    }
   ],
   "source": [
    "#2 Keyword Arguments\n",
    "def greeting(name,msg):\n",
    "    print(\"hello\", name,msg)\n",
    "greeting(name='Rahul', msg ='welcome')# python will understand the keyword name and msg.\n",
    "greeting(msg='Welcome', name='Rahul')# if order is changed also and passing argument with keyword the result will be same.\n",
    "# here order is not important but number of argument is important."
   ]
  },
  {
   "cell_type": "code",
   "execution_count": 23,
   "id": "8f25660d",
   "metadata": {},
   "outputs": [
    {
     "name": "stdout",
     "output_type": "stream",
     "text": [
      "hello Rahul welcome\n"
     ]
    },
    {
     "ename": "TypeError",
     "evalue": "greeting() got multiple values for argument 'name'",
     "output_type": "error",
     "traceback": [
      "\u001b[1;31m---------------------------------------------------------------------------\u001b[0m",
      "\u001b[1;31mTypeError\u001b[0m                                 Traceback (most recent call last)",
      "\u001b[1;32m<ipython-input-23-1e84fb3fa466>\u001b[0m in \u001b[0;36m<module>\u001b[1;34m\u001b[0m\n\u001b[0;32m      2\u001b[0m     \u001b[0mprint\u001b[0m\u001b[1;33m(\u001b[0m\u001b[1;34m\"hello\"\u001b[0m\u001b[1;33m,\u001b[0m \u001b[0mname\u001b[0m\u001b[1;33m,\u001b[0m\u001b[0mmsg\u001b[0m\u001b[1;33m)\u001b[0m\u001b[1;33m\u001b[0m\u001b[1;33m\u001b[0m\u001b[0m\n\u001b[0;32m      3\u001b[0m \u001b[0mgreeting\u001b[0m\u001b[1;33m(\u001b[0m\u001b[0mname\u001b[0m\u001b[1;33m=\u001b[0m\u001b[1;34m'Rahul'\u001b[0m\u001b[1;33m,\u001b[0m \u001b[0mmsg\u001b[0m \u001b[1;33m=\u001b[0m\u001b[1;34m'welcome'\u001b[0m\u001b[1;33m)\u001b[0m\u001b[1;33m\u001b[0m\u001b[1;33m\u001b[0m\u001b[0m\n\u001b[1;32m----> 4\u001b[1;33m \u001b[0mgreeting\u001b[0m\u001b[1;33m(\u001b[0m\u001b[1;34m'Atharv'\u001b[0m\u001b[1;33m,\u001b[0m \u001b[0mmsg\u001b[0m\u001b[1;33m=\u001b[0m\u001b[1;34m'Welcome'\u001b[0m\u001b[1;33m,\u001b[0m \u001b[0mname\u001b[0m\u001b[1;33m=\u001b[0m\u001b[1;34m'Rahul'\u001b[0m\u001b[1;33m)\u001b[0m\u001b[1;33m\u001b[0m\u001b[1;33m\u001b[0m\u001b[0m\n\u001b[0m",
      "\u001b[1;31mTypeError\u001b[0m: greeting() got multiple values for argument 'name'"
     ]
    }
   ],
   "source": [
    "def greeting(name,msg):\n",
    "    print(\"hello\", name,msg)\n",
    "greeting(name='Rahul', msg ='welcome')\n",
    "greeting('Atharv', msg='Welcome', name='Rahul')"
   ]
  },
  {
   "cell_type": "code",
   "execution_count": 25,
   "id": "6475eeb3",
   "metadata": {},
   "outputs": [
    {
     "name": "stdout",
     "output_type": "stream",
     "text": [
      "hello Rahul welcome\n",
      "hello Atharv Welcome\n"
     ]
    }
   ],
   "source": [
    "def greeting(name,msg):\n",
    "    print(\"hello\", name,msg)\n",
    "greeting(name='Rahul', msg ='welcome')\n",
    "greeting('Atharv', msg='Welcome')"
   ]
  },
  {
   "cell_type": "code",
   "execution_count": 26,
   "id": "989a1801",
   "metadata": {},
   "outputs": [
    {
     "ename": "SyntaxError",
     "evalue": "positional argument follows keyword argument (<ipython-input-26-6eb20ebde192>, line 4)",
     "output_type": "error",
     "traceback": [
      "\u001b[1;36m  File \u001b[1;32m\"<ipython-input-26-6eb20ebde192>\"\u001b[1;36m, line \u001b[1;32m4\u001b[0m\n\u001b[1;33m    greeting(msg='Welcome', name='Rahul','Atharv')\u001b[0m\n\u001b[1;37m                                         ^\u001b[0m\n\u001b[1;31mSyntaxError\u001b[0m\u001b[1;31m:\u001b[0m positional argument follows keyword argument\n"
     ]
    }
   ],
   "source": [
    "def greeting(name,msg):\n",
    "    print(\"hello\", name,msg)\n",
    "greeting(name='Rahul', msg ='welcome')# python will understand the keyword name and msg.\n",
    "greeting(msg='Welcome', name='Rahul','Atharv') # Atharv is a positional argument. "
   ]
  },
  {
   "cell_type": "code",
   "execution_count": 27,
   "id": "5b49835f",
   "metadata": {},
   "outputs": [
    {
     "ename": "SyntaxError",
     "evalue": "positional argument follows keyword argument (<ipython-input-27-8ea087c70f9d>, line 4)",
     "output_type": "error",
     "traceback": [
      "\u001b[1;36m  File \u001b[1;32m\"<ipython-input-27-8ea087c70f9d>\"\u001b[1;36m, line \u001b[1;32m4\u001b[0m\n\u001b[1;33m    greeting(msg='Welcome','Atharv')\u001b[0m\n\u001b[1;37m                           ^\u001b[0m\n\u001b[1;31mSyntaxError\u001b[0m\u001b[1;31m:\u001b[0m positional argument follows keyword argument\n"
     ]
    }
   ],
   "source": [
    "def greeting(name,msg):\n",
    "    print(\"hello\", name,msg)\n",
    "greeting(name='Rahul', msg ='welcome')# python will understand the keyword name and msg.\n",
    "greeting(msg='Welcome','Atharv') #here 'Atharv' is a positional argument and is followed by keyword argument which is not\n",
    "                                  # accepted by python."
   ]
  },
  {
   "cell_type": "code",
   "execution_count": 29,
   "id": "c694727c",
   "metadata": {},
   "outputs": [
    {
     "name": "stdout",
     "output_type": "stream",
     "text": [
      "hello Rahul welcome\n",
      "hello Atharv Welcome\n"
     ]
    }
   ],
   "source": [
    "def greeting(name,msg):\n",
    "    print(\"hello\", name,msg)\n",
    "greeting(name='Rahul', msg ='welcome')# python will understand the keyword name and msg.\n",
    "greeting('Atharv', msg='Welcome' ) # Atharv is a positional argument and is placed before keyword argument."
   ]
  },
  {
   "cell_type": "code",
   "execution_count": null,
   "id": "ebd8cf70",
   "metadata": {},
   "outputs": [],
   "source": [
    "#order is not important\n",
    "# No of order is important\n",
    "# ppositional argument should be before keyword Argument.\n"
   ]
  },
  {
   "cell_type": "code",
   "execution_count": 31,
   "id": "775ffb0b",
   "metadata": {},
   "outputs": [
    {
     "name": "stdout",
     "output_type": "stream",
     "text": [
      "hello monali Good Evening\n",
      "hello student Good Evening\n"
     ]
    }
   ],
   "source": [
    "#3) Default Arguments. \n",
    "def greeting(name='student'):\n",
    "    print('hello',name,'Good Evening')\n",
    "greeting('monali')\n",
    "greeting() # if not passing any value then give default argument."
   ]
  },
  {
   "cell_type": "code",
   "execution_count": 32,
   "id": "61f3e58f",
   "metadata": {},
   "outputs": [
    {
     "ename": "SyntaxError",
     "evalue": "non-default argument follows default argument (<ipython-input-32-8e9d2365c624>, line 1)",
     "output_type": "error",
     "traceback": [
      "\u001b[1;36m  File \u001b[1;32m\"<ipython-input-32-8e9d2365c624>\"\u001b[1;36m, line \u001b[1;32m1\u001b[0m\n\u001b[1;33m    def greeting(name='Guest', msg):\u001b[0m\n\u001b[1;37m                 ^\u001b[0m\n\u001b[1;31mSyntaxError\u001b[0m\u001b[1;31m:\u001b[0m non-default argument follows default argument\n"
     ]
    }
   ],
   "source": [
    "def greeting(name='Guest', msg): #msg is non default argument. so non default argument should come before default argument.\n",
    "    print('Hello', name,msg)\n",
    "    "
   ]
  },
  {
   "cell_type": "code",
   "execution_count": 33,
   "id": "502f6814",
   "metadata": {},
   "outputs": [
    {
     "name": "stdout",
     "output_type": "stream",
     "text": [
      "Hello Guest Hi\n"
     ]
    }
   ],
   "source": [
    "def greeting(msg, name='Guest'): # msg is non default argument. \n",
    "    print('Hel lo', name,msg)\n",
    "greeting('Hi')"
   ]
  },
  {
   "cell_type": "code",
   "execution_count": 34,
   "id": "929799cb",
   "metadata": {},
   "outputs": [
    {
     "name": "stdout",
     "output_type": "stream",
     "text": [
      "Hello Rahul Hi\n"
     ]
    }
   ],
   "source": [
    "def greeting(name='Rahul', msg = 'Hi'): # Multiple default argument\n",
    "    print('Hello', name,msg)\n",
    "greeting() "
   ]
  },
  {
   "cell_type": "code",
   "execution_count": 35,
   "id": "a3727161",
   "metadata": {},
   "outputs": [
    {
     "name": "stdout",
     "output_type": "stream",
     "text": [
      "Hello Hi Rahul\n"
     ]
    }
   ],
   "source": [
    "def greeting(name='Rahul', msg = 'Hi'): # Multiple default argument\n",
    "    print('Hello', msg,name) # order is important\n",
    "greeting() "
   ]
  },
  {
   "cell_type": "code",
   "execution_count": 43,
   "id": "85ae999b",
   "metadata": {},
   "outputs": [
    {
     "name": "stdout",
     "output_type": "stream",
     "text": [
      "Student name Guest\n",
      "Student age 20\n",
      "Student marks 100\n",
      "Student msg Good Morning\n",
      "Student name Guest\n",
      "Student age 48\n",
      "Student marks 100\n",
      "Student msg Good Morning\n"
     ]
    }
   ],
   "source": [
    "def greeting(marks, age, name='Guest', msg = 'Good Morning'):\n",
    "    print('Student name', name)\n",
    "    print('Student age', age)    \n",
    "    print('Student marks', marks)    \n",
    "    print('Student msg', msg) \n",
    "greeting(100,20)\n",
    "greeting(age=48, marks =100)\n",
    "\n"
   ]
  },
  {
   "cell_type": "code",
   "execution_count": 11,
   "id": "e6c25ee7",
   "metadata": {},
   "outputs": [
    {
     "ename": "SyntaxError",
     "evalue": "non-default argument follows default argument (<ipython-input-11-2789ab5ea1fc>, line 1)",
     "output_type": "error",
     "traceback": [
      "\u001b[1;36m  File \u001b[1;32m\"<ipython-input-11-2789ab5ea1fc>\"\u001b[1;36m, line \u001b[1;32m1\u001b[0m\n\u001b[1;33m    def greeting(name='Guest', msg = 'Good Morning', marks,age):\u001b[0m\n\u001b[1;37m                 ^\u001b[0m\n\u001b[1;31mSyntaxError\u001b[0m\u001b[1;31m:\u001b[0m non-default argument follows default argument\n"
     ]
    }
   ],
   "source": [
    "def greeting(name='Guest', msg = 'Good Morning', marks,age):\n",
    "    print('Student name', name)\n",
    "    print('Student age', age)    \n",
    "    print('Student marks', marks)    \n",
    "    print('Student msg', msg)  # default argument is before non- default argument."
   ]
  },
  {
   "cell_type": "code",
   "execution_count": 42,
   "id": "4e701b01",
   "metadata": {},
   "outputs": [
    {
     "ename": "TypeError",
     "evalue": "greeting() got multiple values for argument 'marks'",
     "output_type": "error",
     "traceback": [
      "\u001b[1;31m---------------------------------------------------------------------------\u001b[0m",
      "\u001b[1;31mTypeError\u001b[0m                                 Traceback (most recent call last)",
      "\u001b[1;32m<ipython-input-42-621de296ad99>\u001b[0m in \u001b[0;36m<module>\u001b[1;34m\u001b[0m\n\u001b[0;32m      5\u001b[0m     \u001b[0mprint\u001b[0m\u001b[1;33m(\u001b[0m\u001b[1;34m'Student msg'\u001b[0m\u001b[1;33m,\u001b[0m \u001b[0mmsg\u001b[0m\u001b[1;33m)\u001b[0m\u001b[1;33m\u001b[0m\u001b[1;33m\u001b[0m\u001b[0m\n\u001b[0;32m      6\u001b[0m \u001b[1;33m\u001b[0m\u001b[0m\n\u001b[1;32m----> 7\u001b[1;33m \u001b[0mgreeting\u001b[0m\u001b[1;33m(\u001b[0m\u001b[1;36m48\u001b[0m\u001b[1;33m,\u001b[0m \u001b[0mmarks\u001b[0m\u001b[1;33m=\u001b[0m\u001b[1;36m100\u001b[0m\u001b[1;33m)\u001b[0m\u001b[1;33m\u001b[0m\u001b[1;33m\u001b[0m\u001b[0m\n\u001b[0m",
      "\u001b[1;31mTypeError\u001b[0m: greeting() got multiple values for argument 'marks'"
     ]
    }
   ],
   "source": [
    "def greeting(marks, age, name='Guest', msg = 'Good Morning'):\n",
    "    print('Student name', name)\n",
    "    print('Student age', age)    \n",
    "    print('Student marks', marks)    \n",
    "    print('Student msg', msg) \n",
    "\n",
    "greeting(48, marks=100) # 48 here acts as a positional argument which is for age"
   ]
  },
  {
   "cell_type": "code",
   "execution_count": 44,
   "id": "9fe44707",
   "metadata": {},
   "outputs": [
    {
     "name": "stdout",
     "output_type": "stream",
     "text": [
      "30\n"
     ]
    }
   ],
   "source": [
    "# variable length Arguments\n",
    "def sum(a,b):\n",
    "    print(a+b)\n",
    "sum(10,20)"
   ]
  },
  {
   "cell_type": "code",
   "execution_count": 46,
   "id": "9f8abd4f",
   "metadata": {},
   "outputs": [
    {
     "name": "stdout",
     "output_type": "stream",
     "text": [
      "60\n"
     ]
    }
   ],
   "source": [
    "def sum(a,b,c):\n",
    "    print(a+b+c)\n",
    "sum(10,20,30)"
   ]
  },
  {
   "cell_type": "code",
   "execution_count": 47,
   "id": "439091f1",
   "metadata": {},
   "outputs": [
    {
     "name": "stdout",
     "output_type": "stream",
     "text": [
      "100\n"
     ]
    }
   ],
   "source": [
    "def sum(a,b,c,d):\n",
    "    print(a+b+c+d)\n",
    "sum(10,20,30,40)"
   ]
  },
  {
   "cell_type": "code",
   "execution_count": 53,
   "id": "65677f57",
   "metadata": {},
   "outputs": [],
   "source": [
    "def sum(*a):\n",
    "    # we have to create multiple functions. Variable length argument starts with *. It saves the value in tuple.\n",
    "    result = 0\n",
    "    for i in a:\n",
    "        result = result+i\n",
    "    print(result)"
   ]
  },
  {
   "cell_type": "code",
   "execution_count": 56,
   "id": "33ece3ba",
   "metadata": {},
   "outputs": [
    {
     "name": "stdout",
     "output_type": "stream",
     "text": [
      "0\n",
      "30\n",
      "100\n"
     ]
    }
   ],
   "source": [
    "sum()\n",
    "sum(10,20)\n",
    "sum(10,20,30,40)"
   ]
  },
  {
   "cell_type": "code",
   "execution_count": 58,
   "id": "eee88405",
   "metadata": {},
   "outputs": [
    {
     "name": "stdout",
     "output_type": "stream",
     "text": [
      "The sum by Rahul 0\n",
      "The sum by Rahul 30\n",
      "The sum by Rahul 60\n",
      "The sum by Rahul 100\n"
     ]
    }
   ],
   "source": [
    "def sum(name, *a):\n",
    "    # we have to create multiple functions. Variable length argument starts with *. It saves the value in tuple.\n",
    "    result = 0\n",
    "    for i in a:\n",
    "        result = result+i\n",
    "    print('The sum by', name,result)\n",
    "sum('Rahul')\n",
    "sum('Rahul', 10,20)\n",
    "sum('Rahul',10,20,30)\n",
    "sum('Rahul',10,20,30,40)"
   ]
  },
  {
   "cell_type": "code",
   "execution_count": 59,
   "id": "2a0117aa",
   "metadata": {},
   "outputs": [
    {
     "ename": "TypeError",
     "evalue": "sum() missing 1 required keyword-only argument: 'name'",
     "output_type": "error",
     "traceback": [
      "\u001b[1;31m---------------------------------------------------------------------------\u001b[0m",
      "\u001b[1;31mTypeError\u001b[0m                                 Traceback (most recent call last)",
      "\u001b[1;32m<ipython-input-59-16e6036ab30e>\u001b[0m in \u001b[0;36m<module>\u001b[1;34m\u001b[0m\n\u001b[0;32m      5\u001b[0m         \u001b[0mresult\u001b[0m \u001b[1;33m=\u001b[0m \u001b[0mresult\u001b[0m\u001b[1;33m+\u001b[0m\u001b[0mi\u001b[0m\u001b[1;33m\u001b[0m\u001b[1;33m\u001b[0m\u001b[0m\n\u001b[0;32m      6\u001b[0m     \u001b[0mprint\u001b[0m\u001b[1;33m(\u001b[0m\u001b[1;34m'The sum by'\u001b[0m\u001b[1;33m,\u001b[0m \u001b[0mname\u001b[0m\u001b[1;33m,\u001b[0m\u001b[0mresult\u001b[0m\u001b[1;33m)\u001b[0m\u001b[1;33m\u001b[0m\u001b[1;33m\u001b[0m\u001b[0m\n\u001b[1;32m----> 7\u001b[1;33m \u001b[0msum\u001b[0m\u001b[1;33m(\u001b[0m\u001b[1;34m'Rahul'\u001b[0m\u001b[1;33m)\u001b[0m\u001b[1;33m\u001b[0m\u001b[1;33m\u001b[0m\u001b[0m\n\u001b[0m\u001b[0;32m      8\u001b[0m \u001b[0msum\u001b[0m\u001b[1;33m(\u001b[0m\u001b[1;34m'Rahul'\u001b[0m\u001b[1;33m,\u001b[0m \u001b[1;36m10\u001b[0m\u001b[1;33m,\u001b[0m\u001b[1;36m20\u001b[0m\u001b[1;33m)\u001b[0m\u001b[1;33m\u001b[0m\u001b[1;33m\u001b[0m\u001b[0m\n\u001b[0;32m      9\u001b[0m \u001b[0msum\u001b[0m\u001b[1;33m(\u001b[0m\u001b[1;34m'Rahul'\u001b[0m\u001b[1;33m,\u001b[0m\u001b[1;36m10\u001b[0m\u001b[1;33m,\u001b[0m\u001b[1;36m20\u001b[0m\u001b[1;33m,\u001b[0m\u001b[1;36m30\u001b[0m\u001b[1;33m)\u001b[0m\u001b[1;33m\u001b[0m\u001b[1;33m\u001b[0m\u001b[0m\n",
      "\u001b[1;31mTypeError\u001b[0m: sum() missing 1 required keyword-only argument: 'name'"
     ]
    }
   ],
   "source": [
    "def sum(*a, name):\n",
    "    # we have to create multiple functions. Variable length argument starts with *. It saves the value in tuple.\n",
    "    result = 0\n",
    "    for i in a:\n",
    "        result = result+i\n",
    "    print('The sum by', name,result)\n",
    "sum('Rahul')\n",
    "sum('Rahul', 10,20)\n",
    "sum('Rahul',10,20,30)\n",
    "sum('Rahul',10,20,30,40)"
   ]
  },
  {
   "cell_type": "code",
   "execution_count": 60,
   "id": "95d95018",
   "metadata": {},
   "outputs": [
    {
     "ename": "TypeError",
     "evalue": "sum() missing 1 required keyword-only argument: 'name'",
     "output_type": "error",
     "traceback": [
      "\u001b[1;31m---------------------------------------------------------------------------\u001b[0m",
      "\u001b[1;31mTypeError\u001b[0m                                 Traceback (most recent call last)",
      "\u001b[1;32m<ipython-input-60-5db0b790aef8>\u001b[0m in \u001b[0;36m<module>\u001b[1;34m\u001b[0m\n\u001b[0;32m      6\u001b[0m     \u001b[0mprint\u001b[0m\u001b[1;33m(\u001b[0m\u001b[1;34m'The sum by'\u001b[0m\u001b[1;33m,\u001b[0m \u001b[0mname\u001b[0m\u001b[1;33m,\u001b[0m\u001b[0mresult\u001b[0m\u001b[1;33m)\u001b[0m\u001b[1;33m\u001b[0m\u001b[1;33m\u001b[0m\u001b[0m\n\u001b[0;32m      7\u001b[0m \u001b[1;31m#sum('Rahul')\u001b[0m\u001b[1;33m\u001b[0m\u001b[1;33m\u001b[0m\u001b[1;33m\u001b[0m\u001b[0m\n\u001b[1;32m----> 8\u001b[1;33m \u001b[0msum\u001b[0m\u001b[1;33m(\u001b[0m \u001b[1;36m10\u001b[0m\u001b[1;33m,\u001b[0m\u001b[1;36m20\u001b[0m\u001b[1;33m,\u001b[0m \u001b[1;34m'Rahul'\u001b[0m\u001b[1;33m)\u001b[0m\u001b[1;33m\u001b[0m\u001b[1;33m\u001b[0m\u001b[0m\n\u001b[0m\u001b[0;32m      9\u001b[0m \u001b[1;31m#sum('Rahul',10,20,30)\u001b[0m\u001b[1;33m\u001b[0m\u001b[1;33m\u001b[0m\u001b[1;33m\u001b[0m\u001b[0m\n\u001b[0;32m     10\u001b[0m \u001b[1;31m#sum('Rahul',10,20,30,40)\u001b[0m\u001b[1;33m\u001b[0m\u001b[1;33m\u001b[0m\u001b[1;33m\u001b[0m\u001b[0m\n",
      "\u001b[1;31mTypeError\u001b[0m: sum() missing 1 required keyword-only argument: 'name'"
     ]
    }
   ],
   "source": [
    "def sum(*a, name):\n",
    "    # we have to create multiple functions. Variable length argument starts with *. It saves the value in tuple.\n",
    "    result = 0\n",
    "    for i in a:\n",
    "        result = result+i\n",
    "    print('The sum by', name,result)\n",
    "#sum('Rahul')\n",
    "sum( 10,20, 'Rahul')\n",
    "#sum('Rahul',10,20,30)\n",
    "#sum('Rahul',10,20,30,40)"
   ]
  },
  {
   "cell_type": "code",
   "execution_count": 61,
   "id": "db7068a6",
   "metadata": {},
   "outputs": [
    {
     "name": "stdout",
     "output_type": "stream",
     "text": [
      "The sum by Rahul 30\n"
     ]
    }
   ],
   "source": [
    "def sum(*args, name): # args - arguments\n",
    "    # we have to create multiple functions. Variable length argument starts with *. It saves the value in tuple.\n",
    "    result = 0\n",
    "    for i in args:\n",
    "        result = result+i\n",
    "    print('The sum by', name,result)\n",
    "#sum('Rahul')\n",
    "sum( 10,20, name ='Rahul')# here we have to pass Rahul as a keyword Argument. Else it will take in *a.\n",
    "#sum('Rahul',10,20,30)\n",
    "#sum('Rahul',10,20,30,40)"
   ]
  },
  {
   "cell_type": "code",
   "execution_count": 66,
   "id": "aa0f51a9",
   "metadata": {},
   "outputs": [
    {
     "name": "stdout",
     "output_type": "stream",
     "text": [
      "name ------- Khushal\n",
      "gf1 ------- X\n",
      "gf2 ------- Y\n",
      "gh3 ------- Z\n"
     ]
    }
   ],
   "source": [
    "#display(name='Rahul', marks=100, age=34, son='Atharv')\n",
    "#display(name='Khushal', gf1='X', gf2='Y', gh3='Z')\n",
    "#display(name='Milind', int1='r', int2='t')\n",
    "#keyword variable length argument\n",
    "# user can put anything as per there requirements.\n",
    "\n",
    "def display(**kwargs):\n",
    "        #kwargs - keyword arguments. This will creat dictionary\n",
    "        for k,v in kwargs.items():\n",
    "            print(k,\"-------\",v)\n",
    "#display(name='Rahul', marks=100, age=34, son='Atharv')\n",
    "display(name='Khushal', gf1='X', gf2='Y', gh3='Z')\n",
    "#display(name='Milind', int1='r', int2='t')"
   ]
  },
  {
   "cell_type": "code",
   "execution_count": 75,
   "id": "cda9103d",
   "metadata": {},
   "outputs": [
    {
     "name": "stdout",
     "output_type": "stream",
     "text": [
      "10 20 4 8\n",
      "10 20 30 40\n",
      "3 4 4 4\n"
     ]
    },
    {
     "ename": "TypeError",
     "evalue": "f1() got an unexpected keyword argument 'arg5'",
     "output_type": "error",
     "traceback": [
      "\u001b[1;31m---------------------------------------------------------------------------\u001b[0m",
      "\u001b[1;31mTypeError\u001b[0m                                 Traceback (most recent call last)",
      "\u001b[1;32m<ipython-input-75-a81e0f3cce06>\u001b[0m in \u001b[0;36m<module>\u001b[1;34m\u001b[0m\n\u001b[0;32m      8\u001b[0m \u001b[1;31m#f1(arg=10, arg4=20,30,50,40)\u001b[0m\u001b[1;33m\u001b[0m\u001b[1;33m\u001b[0m\u001b[1;33m\u001b[0m\u001b[0m\n\u001b[0;32m      9\u001b[0m \u001b[1;31m#f1(4,5,arg2=6)\u001b[0m\u001b[1;33m\u001b[0m\u001b[1;33m\u001b[0m\u001b[1;33m\u001b[0m\u001b[0m\n\u001b[1;32m---> 10\u001b[1;33m \u001b[0mf1\u001b[0m\u001b[1;33m(\u001b[0m\u001b[1;36m4\u001b[0m\u001b[1;33m,\u001b[0m\u001b[1;36m5\u001b[0m\u001b[1;33m,\u001b[0m\u001b[0marg3\u001b[0m\u001b[1;33m=\u001b[0m\u001b[1;36m5\u001b[0m\u001b[1;33m,\u001b[0m\u001b[0marg5\u001b[0m\u001b[1;33m=\u001b[0m\u001b[1;36m10\u001b[0m\u001b[1;33m)\u001b[0m\u001b[1;33m\u001b[0m\u001b[1;33m\u001b[0m\u001b[0m\n\u001b[0m",
      "\u001b[1;31mTypeError\u001b[0m: f1() got an unexpected keyword argument 'arg5'"
     ]
    }
   ],
   "source": [
    "def f1(arg1,arg2,arg3=4,arg4=8):\n",
    "    print(arg1,arg2,arg3,arg4)\n",
    "f1(10,20)\n",
    "f1(10,20,30,40) #overwrite the defaut value\n",
    "f1(arg4=4, arg1=3,arg2=4)\n",
    "#f1(arg=4, arg1=3)\n",
    "#f1()\n",
    "#f1(arg=10, arg4=20,30,50,40)\n",
    "#f1(4,5,arg2=6)\n",
    "f1(4,5,arg3=5,arg5=10)\n"
   ]
  },
  {
   "cell_type": "code",
   "execution_count": null,
   "id": "b83c6932",
   "metadata": {},
   "outputs": [],
   "source": []
  }
 ],
 "metadata": {
  "kernelspec": {
   "display_name": "Python 3",
   "language": "python",
   "name": "python3"
  },
  "language_info": {
   "codemirror_mode": {
    "name": "ipython",
    "version": 3
   },
   "file_extension": ".py",
   "mimetype": "text/x-python",
   "name": "python",
   "nbconvert_exporter": "python",
   "pygments_lexer": "ipython3",
   "version": "3.8.8"
  }
 },
 "nbformat": 4,
 "nbformat_minor": 5
}
