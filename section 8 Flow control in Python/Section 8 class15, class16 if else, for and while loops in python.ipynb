{
 "cells": [
  {
   "cell_type": "code",
   "execution_count": 1,
   "id": "d9ab567f",
   "metadata": {},
   "outputs": [
    {
     "ename": "NameError",
     "evalue": "name 'x' is not defined",
     "output_type": "error",
     "traceback": [
      "\u001b[1;31m---------------------------------------------------------------------------\u001b[0m",
      "\u001b[1;31mNameError\u001b[0m                                 Traceback (most recent call last)",
      "\u001b[1;32m<ipython-input-1-35aaf51c0c64>\u001b[0m in \u001b[0;36m<module>\u001b[1;34m\u001b[0m\n\u001b[0;32m      7\u001b[0m \u001b[1;31m#if-elif\u001b[0m\u001b[1;33m\u001b[0m\u001b[1;33m\u001b[0m\u001b[1;33m\u001b[0m\u001b[0m\n\u001b[0;32m      8\u001b[0m \u001b[1;33m\u001b[0m\u001b[0m\n\u001b[1;32m----> 9\u001b[1;33m \u001b[1;32mif\u001b[0m \u001b[0mx\u001b[0m\u001b[1;33m:\u001b[0m\u001b[1;33m\u001b[0m\u001b[1;33m\u001b[0m\u001b[0m\n\u001b[0m\u001b[0;32m     10\u001b[0m     \u001b[0moption1\u001b[0m\u001b[1;33m\u001b[0m\u001b[1;33m\u001b[0m\u001b[0m\n\u001b[0;32m     11\u001b[0m \u001b[1;32melif\u001b[0m \u001b[0mx1\u001b[0m\u001b[1;33m:\u001b[0m\u001b[1;33m\u001b[0m\u001b[1;33m\u001b[0m\u001b[0m\n",
      "\u001b[1;31mNameError\u001b[0m: name 'x' is not defined"
     ]
    }
   ],
   "source": [
    "# flow control\n",
    "# If- else-- conditionaL statements.\n",
    "#if and else\n",
    "#if\n",
    "#if-else\n",
    "#if-elif-else\n",
    "#if-elif\n",
    "\n",
    "if x:\n",
    "    option1\n",
    "elif x1:\n",
    "    option2\n",
    "elif x2:\n",
    "    option3\n",
    "else:\n",
    "    option4\n",
    "\n"
   ]
  },
  {
   "cell_type": "code",
   "execution_count": 5,
   "id": "81f3f220",
   "metadata": {},
   "outputs": [
    {
     "name": "stdout",
     "output_type": "stream",
     "text": [
      "Enter the name: P\n",
      "How are you?\n"
     ]
    }
   ],
   "source": [
    "# conditional statement\n",
    "name= input('Enter the name: ')\n",
    "if name == 'Python':\n",
    "    print('Hello, ',name, 'Good Morning')\n",
    "print(\"How are you?\")"
   ]
  },
  {
   "cell_type": "code",
   "execution_count": 6,
   "id": "13979d74",
   "metadata": {},
   "outputs": [
    {
     "name": "stdout",
     "output_type": "stream",
     "text": [
      "Enter the name: python\n",
      "How are you?\n"
     ]
    }
   ],
   "source": [
    "name= input('Enter the name: ')\n",
    "if name == 'Python':\n",
    "    print('Hello, ',name, 'Good Morning')\n",
    "print(\"How are you?\")"
   ]
  },
  {
   "cell_type": "code",
   "execution_count": 7,
   "id": "822058da",
   "metadata": {},
   "outputs": [
    {
     "name": "stdout",
     "output_type": "stream",
     "text": [
      "Enter the name: Python\n",
      "Hello,  Python Good Morning\n",
      "How are you?\n"
     ]
    }
   ],
   "source": [
    "name= input('Enter the name: ')\n",
    "if name == 'Python':\n",
    "    print('Hello, ',name, 'Good Morning')\n",
    "print(\"How are you?\")"
   ]
  },
  {
   "cell_type": "code",
   "execution_count": 9,
   "id": "8f90984e",
   "metadata": {},
   "outputs": [
    {
     "name": "stdout",
     "output_type": "stream",
     "text": [
      "Enter the name: Python\n",
      "Hello,  Python Good Morning\n",
      "How are you?\n"
     ]
    }
   ],
   "source": [
    "name= input('Enter the name: ')\n",
    "if name == 'Python':\n",
    "    print('Hello, ',name, 'Good Morning')\n",
    "else:\n",
    "    print(\"Hello\",name, 'Welcome to programming world')\n",
    "print(\"How are you?\")"
   ]
  },
  {
   "cell_type": "code",
   "execution_count": 10,
   "id": "d8ef4111",
   "metadata": {},
   "outputs": [
    {
     "name": "stdout",
     "output_type": "stream",
     "text": [
      "Enter the name: RPython\n",
      "Hello RPython Welcome to programming world\n",
      "How are you?\n"
     ]
    }
   ],
   "source": [
    "name= input('Enter the name: ')\n",
    "if name == 'Python':\n",
    "    print('Hello, ',name, 'Good Morning')\n",
    "else:\n",
    "    print(\"Hello\",name, 'Welcome to programming world')\n",
    "print(\"How are you?\")\n",
    "#Else is always optional."
   ]
  },
  {
   "cell_type": "code",
   "execution_count": 12,
   "id": "8d405d42",
   "metadata": {},
   "outputs": [
    {
     "name": "stdout",
     "output_type": "stream",
     "text": [
      "Enter the name: Python\n",
      "Hello,  Python Good Morning\n",
      "How are you?\n"
     ]
    }
   ],
   "source": [
    "name= input('Enter the name: ')\n",
    "if name == 'Python':\n",
    "    print('Hello, ',name, 'Good Morning')\n",
    "elif name == 'R programming':\n",
    "    print(\"Hello\",name, 'You are tough then Python')\n",
    "else:\n",
    "    print(\"Hello\",name, 'Welcome to programming world')\n",
    "print(\"How are you?\")"
   ]
  },
  {
   "cell_type": "code",
   "execution_count": 13,
   "id": "23050215",
   "metadata": {},
   "outputs": [
    {
     "name": "stdout",
     "output_type": "stream",
     "text": [
      "Enter the name: R programming\n",
      "Hello R programming You are tough then Python\n",
      "How are you?\n"
     ]
    }
   ],
   "source": [
    "name= input('Enter the name: ')\n",
    "if name == 'Python':\n",
    "    print('Hello, ',name, 'Good Morning')\n",
    "elif name == 'R programming':\n",
    "    print(\"Hello\",name, 'You are tough then Python')\n",
    "else:\n",
    "    print(\"Hello\",name, 'Welcome to programming world')\n",
    "print(\"How are you?\")"
   ]
  },
  {
   "cell_type": "code",
   "execution_count": 14,
   "id": "a5871436",
   "metadata": {},
   "outputs": [
    {
     "name": "stdout",
     "output_type": "stream",
     "text": [
      "Enter the name: Astha\n",
      "Hello Astha Welcome to programming world\n",
      "How are you?\n"
     ]
    }
   ],
   "source": [
    "name= input('Enter the name: ')\n",
    "if name == 'Python':\n",
    "    print('Hello, ',name, 'Good Morning')\n",
    "elif name == 'R programming':\n",
    "    print(\"Hello\",name, 'You are tough then Python')\n",
    "else:\n",
    "    print(\"Hello\",name, 'Welcome to programming world')\n",
    "print(\"How are you?\")"
   ]
  },
  {
   "cell_type": "code",
   "execution_count": 16,
   "id": "c93474b4",
   "metadata": {},
   "outputs": [
    {
     "name": "stdout",
     "output_type": "stream",
     "text": [
      "Enter first number: 10\n",
      "Enter second number: 5\n",
      "10 is bigger\n"
     ]
    }
   ],
   "source": [
    "x =  int(input(\"Enter first number: \"))\n",
    "y =  int(input(\"Enter second number: \"))\n",
    "\n",
    "if x>y:\n",
    "    print(x, 'is bigger')\n",
    "else:\n",
    "    print(y, 'is bigger')"
   ]
  },
  {
   "cell_type": "code",
   "execution_count": 17,
   "id": "afd98e83",
   "metadata": {},
   "outputs": [
    {
     "name": "stdout",
     "output_type": "stream",
     "text": [
      "Enter first number: 5\n",
      "Enter second number: 10\n",
      "10 is bigger\n"
     ]
    }
   ],
   "source": [
    "x =  int(input(\"Enter first number: \"))\n",
    "y =  int(input(\"Enter second number: \"))\n",
    "\n",
    "if x>y:\n",
    "    print(x, 'is bigger')\n",
    "else:\n",
    "    print(y, 'is bigger')"
   ]
  },
  {
   "cell_type": "code",
   "execution_count": 18,
   "id": "742f58c9",
   "metadata": {},
   "outputs": [
    {
     "name": "stdout",
     "output_type": "stream",
     "text": [
      "Enter first number: 10\n",
      "Enter second number: 3\n",
      "Enter third number: 24\n",
      "24 is bigger\n"
     ]
    }
   ],
   "source": [
    "x =  int(input(\"Enter first number: \"))\n",
    "y =  int(input(\"Enter second number: \"))\n",
    "z =  int(input(\"Enter third number: \"))\n",
    "\n",
    "if x>y and x>z:\n",
    "    print(x, 'is bigger')\n",
    "elif y>z:\n",
    "    print(y, 'is bigger')\n",
    "else:\n",
    "    print(z, 'is bigger')"
   ]
  },
  {
   "cell_type": "code",
   "execution_count": 19,
   "id": "d73977da",
   "metadata": {},
   "outputs": [
    {
     "name": "stdout",
     "output_type": "stream",
     "text": [
      "Enter first number: 10\n",
      "Enter second number: 2\n",
      "Enter third number: 3\n",
      "10 is bigger\n"
     ]
    }
   ],
   "source": [
    "x =  int(input(\"Enter first number: \"))\n",
    "y =  int(input(\"Enter second number: \"))\n",
    "z =  int(input(\"Enter third number: \"))\n",
    "\n",
    "if x>y and x>z:\n",
    "    print(x, 'is bigger')\n",
    "elif y>z:\n",
    "    print(y, 'is bigger')\n",
    "else:\n",
    "    print(z, 'is bigger')\n"
   ]
  },
  {
   "cell_type": "code",
   "execution_count": 20,
   "id": "da29e019",
   "metadata": {},
   "outputs": [
    {
     "name": "stdout",
     "output_type": "stream",
     "text": [
      "Enter first number: 10\n",
      "Enter second number: 11\n",
      "Enter third number: 2\n",
      "11 is bigger\n"
     ]
    }
   ],
   "source": [
    "x =  int(input(\"Enter first number: \"))\n",
    "y =  int(input(\"Enter second number: \"))\n",
    "z =  int(input(\"Enter third number: \"))\n",
    "\n",
    "if x>y and x>z:\n",
    "    print(x, 'is bigger')\n",
    "elif y>z:\n",
    "    print(y, 'is bigger')\n",
    "else:\n",
    "    print(z, 'is bigger')"
   ]
  },
  {
   "cell_type": "code",
   "execution_count": 21,
   "id": "4fb07179",
   "metadata": {},
   "outputs": [
    {
     "name": "stdout",
     "output_type": "stream",
     "text": [
      "Enter first number: 2\n",
      "Enter second number: 22\n",
      "Enter third number: 1\n",
      "22 is bigger\n"
     ]
    }
   ],
   "source": [
    "x =  int(input(\"Enter first number: \"))\n",
    "y =  int(input(\"Enter second number: \"))\n",
    "z =  int(input(\"Enter third number: \"))\n",
    "\n",
    "if x>y and x>z:\n",
    "    print(x, 'is bigger')\n",
    "elif y>z:\n",
    "    print(y, 'is bigger')\n",
    "else:\n",
    "    print(z, 'is bigger')"
   ]
  },
  {
   "cell_type": "code",
   "execution_count": 23,
   "id": "2de62f9f",
   "metadata": {},
   "outputs": [
    {
     "name": "stdout",
     "output_type": "stream",
     "text": [
      "Enter first number: 'R'\n",
      "Enter second number: 'S'\n",
      "Enter third number: 'D'\n",
      "S is bigger\n"
     ]
    }
   ],
   "source": [
    "x =  eval(input(\"Enter first number: \"))\n",
    "y =  eval(input(\"Enter second number: \"))\n",
    "z =  eval(input(\"Enter third number: \"))\n",
    "\n",
    "if x>y and x>z:\n",
    "    print(x, 'is bigger')\n",
    "elif y>z:\n",
    "    print(y, 'is bigger')\n",
    "else:\n",
    "    print(z, 'is bigger')"
   ]
  },
  {
   "cell_type": "code",
   "execution_count": 24,
   "id": "de3333dd",
   "metadata": {},
   "outputs": [
    {
     "name": "stdout",
     "output_type": "stream",
     "text": [
      "Enter the number2020\n",
      "This is an even number\n"
     ]
    }
   ],
   "source": [
    "#No is even or odd\n",
    "\n",
    "x = int(input(\"Enter the number\"))\n",
    "\n",
    "if x%2==0:\n",
    "    print('This is an even number')\n",
    "else:\n",
    "    print('This is an odd number')"
   ]
  },
  {
   "cell_type": "code",
   "execution_count": 25,
   "id": "c1825920",
   "metadata": {},
   "outputs": [
    {
     "name": "stdout",
     "output_type": "stream",
     "text": [
      "Enter the number123\n",
      "This is an odd number\n"
     ]
    }
   ],
   "source": [
    "x = int(input(\"Enter the number\"))\n",
    "\n",
    "if x%2==0:\n",
    "    print('This is an even number')\n",
    "else:\n",
    "    print('This is an odd number')\n",
    "    "
   ]
  },
  {
   "cell_type": "code",
   "execution_count": 26,
   "id": "3409e08d",
   "metadata": {},
   "outputs": [
    {
     "name": "stdout",
     "output_type": "stream",
     "text": [
      "Enter the number100\n",
      "the number is between 1 and 100\n"
     ]
    }
   ],
   "source": [
    "x = int(input('Enter the number'))\n",
    "if x>=1 and x<=100:\n",
    "    print(\"the number is between 1 and 100\")\n",
    "else:\n",
    "    print(\"the number is not in the range\")"
   ]
  },
  {
   "cell_type": "code",
   "execution_count": 27,
   "id": "f74df597",
   "metadata": {},
   "outputs": [
    {
     "name": "stdout",
     "output_type": "stream",
     "text": [
      "Enter the number101\n",
      "the number is not in the range\n"
     ]
    }
   ],
   "source": [
    "x = int(input('Enter the number'))\n",
    "if x>=1 and x<=100:\n",
    "    print(\"the number is between 1 and 100\")\n",
    "else:\n",
    "    print(\"the number is not in the range\")"
   ]
  },
  {
   "cell_type": "code",
   "execution_count": 30,
   "id": "d2dc9cb4",
   "metadata": {},
   "outputs": [
    {
     "name": "stdout",
     "output_type": "stream",
     "text": [
      "Enter the number between 0 to 9: 10\n",
      "enter the number between 1 and 9 only\n"
     ]
    }
   ],
   "source": [
    "#Enter some digit from keyboard\n",
    "#0 - zero\n",
    "#9 - Nine\n",
    "#10 - Please enter the value between 1 and 9 only.\n",
    "\n",
    "x= int(input('Enter the number between 0 to 9: '))\n",
    "if x == 0:\n",
    "    print('zero')\n",
    "elif x==1:\n",
    "    print('one')\n",
    "elif x==2:\n",
    "    print('Two')\n",
    "elif x==3:\n",
    "    print('Three')\n",
    "elif x==4:\n",
    "    print('Four')\n",
    "elif x==5:\n",
    "    print('Five')\n",
    "elif x==6:\n",
    "    print('Six')\n",
    "elif x==7:\n",
    "    print('Seven')\n",
    "elif x==8:\n",
    "    print('Eight')\n",
    "elif x==9:\n",
    "    print('Nine')\n",
    "else:\n",
    "    print(\"enter the number between 1 and 9 only\")\n",
    "    "
   ]
  },
  {
   "cell_type": "code",
   "execution_count": 32,
   "id": "f237c82f",
   "metadata": {},
   "outputs": [
    {
     "name": "stdout",
     "output_type": "stream",
     "text": [
      "Enter the number between 0 to 9: 5\n",
      "Five\n"
     ]
    }
   ],
   "source": [
    "x= int(input('Enter the number between 0 to 9: '))\n",
    "if x == 0:\n",
    "    print('zero')\n",
    "elif x==1:\n",
    "    print('one')\n",
    "elif x==2:\n",
    "    print('Two')\n",
    "elif x==3:\n",
    "    print('Three')\n",
    "elif x==4:\n",
    "    print('Four')\n",
    "elif x==5:\n",
    "    print('Five')\n",
    "elif x==6:\n",
    "    print('Six')\n",
    "elif x==7:\n",
    "    print('Seven')\n",
    "elif x==8:\n",
    "    print('Eight')\n",
    "elif x==9:\n",
    "    print('Nine')\n",
    "else:\n",
    "    print(\"enter the number between 1 and 9 only\")"
   ]
  },
  {
   "cell_type": "code",
   "execution_count": 37,
   "id": "0dbc6e13",
   "metadata": {},
   "outputs": [],
   "source": [
    "# For Loop\n",
    "# for each in sequence like string, list, tuple,range\n",
    "#do action"
   ]
  },
  {
   "cell_type": "code",
   "execution_count": 38,
   "id": "73d2f319",
   "metadata": {},
   "outputs": [
    {
     "name": "stdout",
     "output_type": "stream",
     "text": [
      "T\n",
      "h\n",
      "i\n",
      "s\n",
      " \n",
      "i\n",
      "s\n",
      " \n",
      "p\n",
      "y\n",
      "t\n",
      "h\n",
      "o\n",
      "n\n",
      " \n",
      "f\n",
      "o\n",
      "r\n",
      " \n",
      "l\n",
      "o\n",
      "o\n",
      "p\n"
     ]
    }
   ],
   "source": [
    "s = 'This is python for loop'\n",
    "for x in s:\n",
    "    print(x)"
   ]
  },
  {
   "cell_type": "code",
   "execution_count": 41,
   "id": "ed0e1ce8",
   "metadata": {},
   "outputs": [
    {
     "name": "stdout",
     "output_type": "stream",
     "text": [
      "T\n",
      "h\n",
      "i\n",
      "s\n",
      " \n",
      "i\n",
      "s\n",
      " \n",
      "p\n",
      "y\n",
      "t\n",
      "h\n",
      "o\n",
      "n\n",
      " \n",
      "f\n",
      "o\n",
      "r\n",
      " \n",
      "l\n",
      "o\n",
      "o\n",
      "p\n",
      "23\n"
     ]
    }
   ],
   "source": [
    "s = 'This is python for loop'\n",
    "count=0\n",
    "for x in s:\n",
    "    count = count+1\n",
    "    print(x)\n",
    "print(count)"
   ]
  },
  {
   "cell_type": "code",
   "execution_count": 42,
   "id": "229e0b00",
   "metadata": {},
   "outputs": [
    {
     "name": "stdout",
     "output_type": "stream",
     "text": [
      "23\n"
     ]
    }
   ],
   "source": [
    "s = 'This is python for loop'\n",
    "count=0\n",
    "for x in s:\n",
    "    count = count+1\n",
    "   # print(x)\n",
    "print(count)"
   ]
  },
  {
   "cell_type": "code",
   "execution_count": 43,
   "id": "b0d6ef39",
   "metadata": {},
   "outputs": [
    {
     "name": "stdout",
     "output_type": "stream",
     "text": [
      "p\n",
      "23\n"
     ]
    }
   ],
   "source": [
    "s = 'This is python for loop'\n",
    "count=0\n",
    "for x in s:\n",
    "    count = count+1\n",
    "print(x)\n",
    "print(count)"
   ]
  },
  {
   "cell_type": "code",
   "execution_count": 44,
   "id": "62c5f313",
   "metadata": {},
   "outputs": [
    {
     "name": "stdout",
     "output_type": "stream",
     "text": [
      "10\n",
      "20\n",
      "30\n",
      "40\n",
      "40\n"
     ]
    }
   ],
   "source": [
    "l = [10,20,30,40]\n",
    "for i in l:\n",
    "    print(i)\n",
    "print(i)"
   ]
  },
  {
   "cell_type": "code",
   "execution_count": 47,
   "id": "2a27380a",
   "metadata": {},
   "outputs": [
    {
     "name": "stdout",
     "output_type": "stream",
     "text": [
      "Enter the string: RAHUL\n",
      "At the index 0 the value is  R\n",
      "At the index 1 the value is  A\n",
      "At the index 2 the value is  H\n",
      "At the index 3 the value is  U\n",
      "At the index 4 the value is  L\n"
     ]
    }
   ],
   "source": [
    "s = input('Enter the string: ')\n",
    "i=0\n",
    "for x in s:\n",
    "    print('At the index',i,'the value is ',x)\n",
    "    i = i+1"
   ]
  },
  {
   "cell_type": "code",
   "execution_count": 49,
   "id": "970aff97",
   "metadata": {},
   "outputs": [
    {
     "name": "stdout",
     "output_type": "stream",
     "text": [
      "Enter the string: RAHUL\n",
      "At the index 0 the value is  R\n",
      "At the index 0 the value is  A\n",
      "At the index 0 the value is  H\n",
      "At the index 0 the value is  U\n",
      "At the index 0 the value is  L\n",
      "1\n"
     ]
    }
   ],
   "source": [
    "s = input('Enter the string: ')\n",
    "i=0\n",
    "for x in s:\n",
    "    print('At the index',i,'the value is ',x)\n",
    "i = i+1\n",
    "print(i)"
   ]
  },
  {
   "cell_type": "code",
   "execution_count": 51,
   "id": "9ef2be66",
   "metadata": {},
   "outputs": [
    {
     "name": "stdout",
     "output_type": "stream",
     "text": [
      "Enter the string: RAHUL\n",
      "At the index 1 The value is  A\n",
      "At the index 2 The value is  H\n",
      "At the index 3 The value is  U\n",
      "At the index 4 The value is  L\n"
     ]
    }
   ],
   "source": [
    "s = input(\"Enter the string: \")\n",
    "i = 0\n",
    "for x in s:\n",
    "    if i!=0:\n",
    "        print(\"At the index\",i, \"The value is \",x)\n",
    "    i=i+1"
   ]
  },
  {
   "cell_type": "code",
   "execution_count": 1,
   "id": "6a390171",
   "metadata": {},
   "outputs": [
    {
     "name": "stdout",
     "output_type": "stream",
     "text": [
      "Hello\n",
      "Hello\n",
      "Hello\n",
      "Hello\n",
      "Hello\n",
      "Hello\n",
      "Hello\n",
      "Hello\n",
      "Hello\n",
      "Hello\n"
     ]
    }
   ],
   "source": [
    "for i in range(0,10):\n",
    "    print('Hello')"
   ]
  },
  {
   "cell_type": "code",
   "execution_count": 2,
   "id": "6585a590",
   "metadata": {},
   "outputs": [
    {
     "name": "stdout",
     "output_type": "stream",
     "text": [
      "1\n",
      "3\n",
      "5\n",
      "7\n",
      "9\n",
      "11\n",
      "13\n",
      "15\n",
      "17\n",
      "19\n",
      "21\n",
      "23\n",
      "25\n",
      "27\n",
      "29\n",
      "31\n",
      "33\n",
      "35\n",
      "37\n",
      "39\n",
      "41\n",
      "43\n",
      "45\n",
      "47\n",
      "49\n",
      "51\n",
      "53\n",
      "55\n",
      "57\n",
      "59\n",
      "61\n",
      "63\n",
      "65\n",
      "67\n",
      "69\n",
      "71\n",
      "73\n",
      "75\n",
      "77\n",
      "79\n",
      "81\n",
      "83\n",
      "85\n",
      "87\n",
      "89\n",
      "91\n",
      "93\n",
      "95\n",
      "97\n",
      "99\n"
     ]
    }
   ],
   "source": [
    "for i in range(0,100):\n",
    "    if i%2!=0:\n",
    "        print(i)"
   ]
  },
  {
   "cell_type": "code",
   "execution_count": 3,
   "id": "9274bc2b",
   "metadata": {},
   "outputs": [
    {
     "name": "stdout",
     "output_type": "stream",
     "text": [
      "0\n",
      "2\n",
      "4\n",
      "6\n",
      "8\n",
      "10\n",
      "12\n",
      "14\n",
      "16\n",
      "18\n",
      "20\n"
     ]
    }
   ],
   "source": [
    "for i in range(0,21,2):\n",
    "    print(i)"
   ]
  },
  {
   "cell_type": "code",
   "execution_count": 7,
   "id": "62a66cb1",
   "metadata": {},
   "outputs": [
    {
     "name": "stdout",
     "output_type": "stream",
     "text": [
      "10\n",
      "9\n",
      "8\n",
      "7\n",
      "6\n",
      "5\n",
      "4\n",
      "3\n",
      "2\n",
      "1\n"
     ]
    }
   ],
   "source": [
    "for x in range(10,0,-1):\n",
    "    print(x)"
   ]
  },
  {
   "cell_type": "code",
   "execution_count": 1,
   "id": "c487841e",
   "metadata": {},
   "outputs": [],
   "source": [
    "#when we should go for 'for' loop?\n",
    "# when every element in the sequence to do some operation, then we have to use for loop.\n",
    "#Every element in the sequence needs to go for the iteration.\n",
    "#When we know how manytimes the loop will execute.\n",
    "    \n",
    "#when we should go for 'while loop'\n",
    "  # if we dont know how many times the loop will execute then its a while loop.\n",
    "    \n",
    "    "
   ]
  },
  {
   "cell_type": "code",
   "execution_count": null,
   "id": "8de5005d",
   "metadata": {},
   "outputs": [],
   "source": [
    "while condition:\n",
    "    state1\n",
    "state2 "
   ]
  },
  {
   "cell_type": "code",
   "execution_count": 2,
   "id": "beb441a5",
   "metadata": {},
   "outputs": [
    {
     "name": "stdout",
     "output_type": "stream",
     "text": [
      "1\n",
      "2\n",
      "3\n",
      "4\n",
      "5\n",
      "6\n",
      "7\n",
      "8\n",
      "9\n"
     ]
    }
   ],
   "source": [
    "x=1\n",
    "while x<10:\n",
    "    print(x)\n",
    "    x=x+1"
   ]
  },
  {
   "cell_type": "code",
   "execution_count": 3,
   "id": "7111daad",
   "metadata": {},
   "outputs": [
    {
     "name": "stdout",
     "output_type": "stream",
     "text": [
      "Hello\n"
     ]
    }
   ],
   "source": [
    "while False:\n",
    "    print('Hi')\n",
    "print('Hello')"
   ]
  },
  {
   "cell_type": "code",
   "execution_count": 5,
   "id": "2f29585b",
   "metadata": {},
   "outputs": [
    {
     "name": "stdout",
     "output_type": "stream",
     "text": [
      "hello\n"
     ]
    }
   ],
   "source": [
    "while 1==2:\n",
    "    print('hi')\n",
    "print('hello')"
   ]
  },
  {
   "cell_type": "code",
   "execution_count": 6,
   "id": "6171a9e0",
   "metadata": {},
   "outputs": [
    {
     "name": "stdout",
     "output_type": "stream",
     "text": [
      "Enter the number5\n",
      "15\n"
     ]
    }
   ],
   "source": [
    "#The sum of first n number\n",
    "\n",
    "n = int(input(\"Enter the number\"))\n",
    "sum = 0\n",
    "i = 1\n",
    "while i<=n:\n",
    "    sum = sum+i\n",
    "    i = i+1\n",
    "print(sum)"
   ]
  },
  {
   "cell_type": "code",
   "execution_count": 7,
   "id": "5d4b8324",
   "metadata": {},
   "outputs": [
    {
     "name": "stdout",
     "output_type": "stream",
     "text": [
      "Enter the number100\n",
      "5050\n"
     ]
    }
   ],
   "source": [
    "\n",
    "n = int(input(\"Enter the number\"))\n",
    "sum = 0\n",
    "i = 1\n",
    "while i<=n:\n",
    "    sum = sum+i\n",
    "    i = i+1\n",
    "print(sum)\n"
   ]
  },
  {
   "cell_type": "code",
   "execution_count": 1,
   "id": "68150d41",
   "metadata": {},
   "outputs": [
    {
     "name": "stdout",
     "output_type": "stream",
     "text": [
      "Enter the name: anusha\n",
      "Enter the name: rohit\n",
      "Enter the name: rahul\n",
      "Enter the name: Rahul\n",
      "cool\n"
     ]
    }
   ],
   "source": [
    "n = input(\"Enter the name: \")\n",
    "while n!='Rahul':\n",
    "    n = input(\"Enter the name: \")\n",
    "print('cool')"
   ]
  },
  {
   "cell_type": "code",
   "execution_count": 3,
   "id": "33fc7034",
   "metadata": {},
   "outputs": [
    {
     "name": "stdout",
     "output_type": "stream",
     "text": [
      "Enete the name: rahul\n",
      "Enter the password: python\n",
      "Enete the name: Rahul\n",
      "Enter the password: python\n",
      "Enete the name: Rahul\n",
      "Enter the password: Python\n",
      "logged in successfully\n"
     ]
    }
   ],
   "source": [
    "n = input(\"Enete the name: \")\n",
    "p = input(\"Enter the password: \")\n",
    "while (n!='Rahul') or (p!='Python'):\n",
    "    n = input(\"Enete the name: \")\n",
    "    p = input(\"Enter the password: \")\n",
    "print(\"logged in successfully\")"
   ]
  },
  {
   "cell_type": "code",
   "execution_count": 4,
   "id": "9d04923b",
   "metadata": {},
   "outputs": [
    {
     "name": "stdout",
     "output_type": "stream",
     "text": [
      "i=0 and j=0\n",
      "i=0 and j=1\n",
      "i=0 and j=2\n",
      "i=0 and j=3\n",
      "i=1 and j=0\n",
      "i=1 and j=1\n",
      "i=1 and j=2\n",
      "i=1 and j=3\n",
      "i=2 and j=0\n",
      "i=2 and j=1\n",
      "i=2 and j=2\n",
      "i=2 and j=3\n",
      "i=3 and j=0\n",
      "i=3 and j=1\n",
      "i=3 and j=2\n",
      "i=3 and j=3\n"
     ]
    }
   ],
   "source": [
    "# Nested loop\n",
    "for i in range(4):\n",
    "    for j in range(4):\n",
    "        print('i={} and j={}'.format(i,j))"
   ]
  },
  {
   "cell_type": "code",
   "execution_count": 5,
   "id": "4d504b53",
   "metadata": {},
   "outputs": [
    {
     "name": "stdout",
     "output_type": "stream",
     "text": [
      "Enter the number of rows5\n",
      "*\n",
      "**\n",
      "***\n",
      "****\n",
      "*****\n"
     ]
    }
   ],
   "source": [
    "n = int(input(\"Enter the number of rows\"))\n",
    "for i in range (1, n+1):\n",
    "    for j in range(1, i+1):\n",
    "        print('*', end='')\n",
    "    print()"
   ]
  },
  {
   "cell_type": "code",
   "execution_count": 8,
   "id": "0d10828a",
   "metadata": {},
   "outputs": [
    {
     "name": "stdout",
     "output_type": "stream",
     "text": [
      "Enter the number of rows5\n",
      " * \n",
      " *  * \n",
      " *  *  * \n",
      " *  *  *  * \n",
      " *  *  *  *  * \n"
     ]
    }
   ],
   "source": [
    "n = int(input(\"Enter the number of rows\"))\n",
    "for i in range (1, n+1):\n",
    "    for j in range(1, i+1):\n",
    "        print(' *', end=' ')\n",
    "    print()"
   ]
  },
  {
   "cell_type": "code",
   "execution_count": 10,
   "id": "5fb9fd4f",
   "metadata": {},
   "outputs": [
    {
     "name": "stdout",
     "output_type": "stream",
     "text": [
      "Enter the number of rows4\n",
      "* * * * \n",
      "* * * * \n",
      "* * * * \n",
      "* * * * \n"
     ]
    }
   ],
   "source": [
    "n = int(input(\"Enter the number of rows\"))\n",
    "for i in range(n):\n",
    "    print('* '*n)"
   ]
  },
  {
   "cell_type": "code",
   "execution_count": 11,
   "id": "f446071b",
   "metadata": {},
   "outputs": [
    {
     "name": "stdout",
     "output_type": "stream",
     "text": [
      "Enter the number of rows2\n",
      "*\n",
      "*\n",
      "\n",
      "*\n",
      "*\n",
      "\n"
     ]
    }
   ],
   "source": [
    "n = int(input(\"Enter the number of rows\"))\n",
    "for i in range(n):\n",
    "    for j in range(n):\n",
    "        print('*')\n",
    "    print()"
   ]
  },
  {
   "cell_type": "code",
   "execution_count": 12,
   "id": "dc739ba6",
   "metadata": {},
   "outputs": [
    {
     "name": "stdout",
     "output_type": "stream",
     "text": [
      "Enter the number of rows2\n",
      "**\n",
      "**\n"
     ]
    }
   ],
   "source": [
    "n = int(input(\"Enter the number of rows\"))\n",
    "for i in range(n):\n",
    "    for j in range(n):\n",
    "        print('*', end='')\n",
    "    print()"
   ]
  },
  {
   "cell_type": "code",
   "execution_count": 13,
   "id": "a17f7b51",
   "metadata": {},
   "outputs": [],
   "source": [
    "#Transfer Statements\n",
    "#Break\n",
    "#continue\n",
    "#Pass "
   ]
  },
  {
   "cell_type": "code",
   "execution_count": 14,
   "id": "4711760c",
   "metadata": {},
   "outputs": [
    {
     "name": "stdout",
     "output_type": "stream",
     "text": [
      "0\n",
      "1\n",
      "2\n",
      "3\n",
      "4\n",
      "5\n",
      "6\n",
      "processing is happening.. please break\n"
     ]
    }
   ],
   "source": [
    "for i in range(10):\n",
    "    if i==7:\n",
    "        print(\"processing is happening.. please break\")\n",
    "        break\n",
    "    print(i)"
   ]
  },
  {
   "cell_type": "code",
   "execution_count": 15,
   "id": "387814ab",
   "metadata": {},
   "outputs": [
    {
     "name": "stdout",
     "output_type": "stream",
     "text": [
      "processing item 10\n",
      "processing item 20\n",
      "processing item 30\n",
      "processing item 40\n",
      "sorry we cannot process this order \n"
     ]
    }
   ],
   "source": [
    "cart = [10,20,30,40,600,50,70]\n",
    "for item in cart:\n",
    "    if item>500:\n",
    "        print(\"sorry we cannot process this order \")\n",
    "        break\n",
    "    print(\"processing item\", item)\n"
   ]
  },
  {
   "cell_type": "code",
   "execution_count": 16,
   "id": "98a38b73",
   "metadata": {},
   "outputs": [
    {
     "name": "stdout",
     "output_type": "stream",
     "text": [
      "processing item 10\n",
      "processing item 20\n",
      "processing item 30\n",
      "processing item 40\n",
      "sorry we cannot process this order \n",
      "processing item 50\n",
      "processing item 70\n"
     ]
    }
   ],
   "source": [
    "cart = [10,20,30,40,600,50,70]\n",
    "for item in cart:\n",
    "    if item>500:\n",
    "        print(\"sorry we cannot process this order \")\n",
    "        continue\n",
    "    print(\"processing item\", item)"
   ]
  },
  {
   "cell_type": "code",
   "execution_count": 17,
   "id": "0eed0721",
   "metadata": {},
   "outputs": [
    {
     "name": "stdout",
     "output_type": "stream",
     "text": [
      "processing item 10\n",
      "processing item 20\n",
      "sorry we cannot process this order as this order consist of 600 items\n",
      "processing item 30\n",
      "processing item 40\n",
      "sorry we cannot process this order as this order consist of 600 items\n",
      "processing item 50\n",
      "processing item 70\n"
     ]
    }
   ],
   "source": [
    "cart = [10,20,600,30,40,600,50,70]\n",
    "for item in cart:\n",
    "    if item>500:\n",
    "        print(\"sorry we cannot process this order as this order consist of\", item, 'items')\n",
    "        continue\n",
    "    print(\"processing item\", item)"
   ]
  },
  {
   "cell_type": "code",
   "execution_count": 18,
   "id": "a8d459b5",
   "metadata": {},
   "outputs": [
    {
     "name": "stdout",
     "output_type": "stream",
     "text": [
      "1\n",
      "3\n",
      "5\n",
      "7\n",
      "9\n"
     ]
    }
   ],
   "source": [
    "for i in range(10):\n",
    "    if i%2==0:\n",
    "        continue\n",
    "    print(i)"
   ]
  },
  {
   "cell_type": "code",
   "execution_count": 19,
   "id": "69f4200d",
   "metadata": {},
   "outputs": [
    {
     "name": "stdout",
     "output_type": "stream",
     "text": [
      "100/10=10.0\n",
      "100/20=5.0\n",
      "cannot divide with 0\n",
      "100/5=20.0\n",
      "cannot divide with 0\n",
      "100/30=3.3333333333333335\n"
     ]
    }
   ],
   "source": [
    "numbers = [10,20,0,5,0,30]\n",
    "for n in numbers:\n",
    "    if n==0:\n",
    "        print(\"cannot divide with 0\")\n",
    "        continue\n",
    "    print('100/{}={}'.format(n,100/n))"
   ]
  },
  {
   "cell_type": "code",
   "execution_count": 20,
   "id": "f8b8a3b5",
   "metadata": {},
   "outputs": [
    {
     "name": "stdout",
     "output_type": "stream",
     "text": [
      "processing item 10\n",
      "processing item 20\n",
      "sorry we cannot process this order as this order consist of 600 items\n",
      "processing item 600\n",
      "processing item 30\n",
      "processing item 40\n",
      "sorry we cannot process this order as this order consist of 600 items\n",
      "processing item 600\n",
      "processing item 50\n",
      "processing item 70\n"
     ]
    }
   ],
   "source": [
    "cart = [10,20,600,30,40,600,50,70]\n",
    "for item in cart:\n",
    "    if item>500:\n",
    "        print(\"sorry we cannot process this order as this order consist of\", item, 'items')\n",
    "        pass\n",
    "    print(\"processing item\", item)"
   ]
  },
  {
   "cell_type": "code",
   "execution_count": 24,
   "id": "753a90bb",
   "metadata": {},
   "outputs": [
    {
     "name": "stdout",
     "output_type": "stream",
     "text": [
      "processing item 10\n",
      "processing item 20\n",
      "processing item 30\n",
      "sorry we cannot process\n"
     ]
    }
   ],
   "source": [
    "cart = [10,20,30,550,60,70,80]\n",
    "for item in cart:\n",
    "    if item>500:\n",
    "        print('sorry we cannot process')\n",
    "        break\n",
    "    print(\"processing item\", item)\n",
    "else:\n",
    "    print('processed all')   "
   ]
  },
  {
   "cell_type": "code",
   "execution_count": 25,
   "id": "af0e8e4e",
   "metadata": {},
   "outputs": [
    {
     "name": "stdout",
     "output_type": "stream",
     "text": [
      "processing item 10\n",
      "processing item 20\n",
      "processing item 30\n",
      "processing item 55\n",
      "processing item 60\n",
      "processing item 70\n",
      "processing item 80\n",
      "processed all\n"
     ]
    }
   ],
   "source": [
    "cart = [10,20,30,55,60,70,80]\n",
    "for item in cart:\n",
    "    if item>500:\n",
    "        print('sorry we cannot process')\n",
    "        break\n",
    "    print(\"processing item\", item)\n",
    "else:\n",
    "    print('processed all')   "
   ]
  },
  {
   "cell_type": "code",
   "execution_count": 2,
   "id": "c2a78877",
   "metadata": {},
   "outputs": [
    {
     "name": "stdout",
     "output_type": "stream",
     "text": [
      "Collecting package metadata (current_repodata.json): ...working... done\n",
      "Solving environment: ...working... done\n",
      "\n",
      "# All requested packages already installed.\n",
      "\n",
      "\n",
      "Note: you may need to restart the kernel to use updated packages.\n"
     ]
    }
   ],
   "source": [
    "conda install nbconvert"
   ]
  },
  {
   "cell_type": "code",
   "execution_count": null,
   "id": "6f4d4ab6",
   "metadata": {},
   "outputs": [],
   "source": []
  },
  {
   "cell_type": "code",
   "execution_count": null,
   "id": "6f517e00",
   "metadata": {},
   "outputs": [],
   "source": []
  },
  {
   "cell_type": "code",
   "execution_count": null,
   "id": "91b501cc",
   "metadata": {},
   "outputs": [],
   "source": []
  },
  {
   "cell_type": "code",
   "execution_count": null,
   "id": "11eb9aad",
   "metadata": {},
   "outputs": [],
   "source": []
  }
 ],
 "metadata": {
  "kernelspec": {
   "display_name": "Python 3",
   "language": "python",
   "name": "python3"
  },
  "language_info": {
   "codemirror_mode": {
    "name": "ipython",
    "version": 3
   },
   "file_extension": ".py",
   "mimetype": "text/x-python",
   "name": "python",
   "nbconvert_exporter": "python",
   "pygments_lexer": "ipython3",
   "version": "3.8.8"
  }
 },
 "nbformat": 4,
 "nbformat_minor": 5
}
