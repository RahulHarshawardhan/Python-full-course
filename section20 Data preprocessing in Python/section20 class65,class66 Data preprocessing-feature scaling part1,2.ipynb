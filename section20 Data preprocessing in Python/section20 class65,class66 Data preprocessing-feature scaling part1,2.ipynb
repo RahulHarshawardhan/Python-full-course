{
 "cells": [
  {
   "cell_type": "markdown",
   "id": "7b4d1721",
   "metadata": {},
   "source": [
    "# Feature Scaling"
   ]
  },
  {
   "cell_type": "code",
   "execution_count": null,
   "id": "2f64d154",
   "metadata": {},
   "outputs": [],
   "source": [
    "import pandas as pd"
   ]
  },
  {
   "cell_type": "code",
   "execution_count": 8,
   "id": "aa4a366b",
   "metadata": {},
   "outputs": [],
   "source": [
    "df = pd.read_clipboard()"
   ]
  },
  {
   "cell_type": "code",
   "execution_count": 35,
   "id": "04e6f2b7",
   "metadata": {},
   "outputs": [
    {
     "data": {
      "text/html": [
       "<div>\n",
       "<style scoped>\n",
       "    .dataframe tbody tr th:only-of-type {\n",
       "        vertical-align: middle;\n",
       "    }\n",
       "\n",
       "    .dataframe tbody tr th {\n",
       "        vertical-align: top;\n",
       "    }\n",
       "\n",
       "    .dataframe thead th {\n",
       "        text-align: right;\n",
       "    }\n",
       "</style>\n",
       "<table border=\"1\" class=\"dataframe\">\n",
       "  <thead>\n",
       "    <tr style=\"text-align: right;\">\n",
       "      <th></th>\n",
       "      <th>State</th>\n",
       "      <th>Age</th>\n",
       "      <th>Salary</th>\n",
       "      <th>Purchase</th>\n",
       "    </tr>\n",
       "  </thead>\n",
       "  <tbody>\n",
       "    <tr>\n",
       "      <th>0</th>\n",
       "      <td>California</td>\n",
       "      <td>21</td>\n",
       "      <td>21000</td>\n",
       "      <td>No</td>\n",
       "    </tr>\n",
       "    <tr>\n",
       "      <th>1</th>\n",
       "      <td>Texas</td>\n",
       "      <td>25</td>\n",
       "      <td>25000</td>\n",
       "      <td>No</td>\n",
       "    </tr>\n",
       "    <tr>\n",
       "      <th>2</th>\n",
       "      <td>Arizona</td>\n",
       "      <td>23</td>\n",
       "      <td>25000</td>\n",
       "      <td>Yes</td>\n",
       "    </tr>\n",
       "    <tr>\n",
       "      <th>3</th>\n",
       "      <td>Utah</td>\n",
       "      <td>33</td>\n",
       "      <td>30000</td>\n",
       "      <td>Yes</td>\n",
       "    </tr>\n",
       "    <tr>\n",
       "      <th>4</th>\n",
       "      <td>California</td>\n",
       "      <td>45</td>\n",
       "      <td>35000</td>\n",
       "      <td>Yes</td>\n",
       "    </tr>\n",
       "    <tr>\n",
       "      <th>5</th>\n",
       "      <td>California</td>\n",
       "      <td>25</td>\n",
       "      <td>23000</td>\n",
       "      <td>No</td>\n",
       "    </tr>\n",
       "  </tbody>\n",
       "</table>\n",
       "</div>"
      ],
      "text/plain": [
       "        State  Age  Salary Purchase\n",
       "0  California   21   21000       No\n",
       "1       Texas   25   25000       No\n",
       "2     Arizona   23   25000      Yes\n",
       "3        Utah   33   30000      Yes\n",
       "4  California   45   35000      Yes\n",
       "5  California   25   23000       No"
      ]
     },
     "execution_count": 35,
     "metadata": {},
     "output_type": "execute_result"
    }
   ],
   "source": [
    "df"
   ]
  },
  {
   "cell_type": "code",
   "execution_count": 25,
   "id": "9d28297b",
   "metadata": {},
   "outputs": [],
   "source": [
    "# Here we are doing feature scaling on age and Salary, so that they will be unitless and comparable.\n",
    "# 1) Standardization\n",
    "\n",
    "from sklearn.preprocessing import StandardScaler\n",
    "sc_x = StandardScaler()\n",
    "x_std = df.iloc[:,1:3].values\n",
    "x_std = sc_x.fit_transform(x_std)"
   ]
  },
  {
   "cell_type": "code",
   "execution_count": 26,
   "id": "63b8578e",
   "metadata": {},
   "outputs": [
    {
     "data": {
      "text/plain": [
       "array([[-0.93508297, -1.17483111],\n",
       "       [-0.4472136 , -0.32040848],\n",
       "       [-0.69114828, -0.32040848],\n",
       "       [ 0.52852516,  0.7476198 ],\n",
       "       [ 1.99213329,  1.81564808],\n",
       "       [-0.4472136 , -0.7476198 ]])"
      ]
     },
     "execution_count": 26,
     "metadata": {},
     "output_type": "execute_result"
    }
   ],
   "source": [
    "x_std"
   ]
  },
  {
   "cell_type": "code",
   "execution_count": 37,
   "id": "98fcc137",
   "metadata": {},
   "outputs": [
    {
     "data": {
      "text/plain": [
       "array([[0.        , 0.        ],\n",
       "       [0.16666667, 0.28571429],\n",
       "       [0.08333333, 0.28571429],\n",
       "       [0.5       , 0.64285714],\n",
       "       [1.        , 1.        ],\n",
       "       [0.16666667, 0.14285714]])"
      ]
     },
     "execution_count": 37,
     "metadata": {},
     "output_type": "execute_result"
    }
   ],
   "source": [
    "#2) MinMaxScalar Method\n",
    "\n",
    "from sklearn.preprocessing import MinMaxScaler\n",
    "Mm_x = MinMaxScaler()\n",
    "x_mm = df.iloc[:,1:3].values\n",
    "x_mm = Mm_x.fit_transform(x_mm)\n",
    "x_mm"
   ]
  },
  {
   "cell_type": "code",
   "execution_count": 38,
   "id": "1152a30f",
   "metadata": {},
   "outputs": [
    {
     "data": {
      "text/plain": [
       "array([[-0.53333333, -0.76190476],\n",
       "       [ 0.        ,  0.        ],\n",
       "       [-0.26666667,  0.        ],\n",
       "       [ 1.06666667,  0.95238095],\n",
       "       [ 2.66666667,  1.9047619 ],\n",
       "       [ 0.        , -0.38095238]])"
      ]
     },
     "execution_count": 38,
     "metadata": {},
     "output_type": "execute_result"
    }
   ],
   "source": [
    "# Robust Scalar Method\n",
    "\n",
    "from sklearn.preprocessing import RobustScaler\n",
    "rb_x = RobustScaler()\n",
    "x_rb = df.iloc[:,1:3].values\n",
    "x_rb = rb_x.fit_transform(x_rb)\n",
    "x_rb"
   ]
  },
  {
   "cell_type": "code",
   "execution_count": 39,
   "id": "81ad565f",
   "metadata": {},
   "outputs": [
    {
     "data": {
      "text/plain": [
       "array([[0.46666667, 0.6       ],\n",
       "       [0.55555556, 0.71428571],\n",
       "       [0.51111111, 0.71428571],\n",
       "       [0.73333333, 0.85714286],\n",
       "       [1.        , 1.        ],\n",
       "       [0.55555556, 0.65714286]])"
      ]
     },
     "execution_count": 39,
     "metadata": {},
     "output_type": "execute_result"
    }
   ],
   "source": [
    "# Max Abs Scalar Method\n",
    "\n",
    "from sklearn.preprocessing import MaxAbsScaler\n",
    "ma_x = MaxAbsScaler()\n",
    "x_ma = df.iloc[:,1:3].values\n",
    "x_ma = ma_x.fit_transform(x_ma)\n",
    "x_ma"
   ]
  },
  {
   "cell_type": "code",
   "execution_count": 41,
   "id": "7b660146",
   "metadata": {},
   "outputs": [
    {
     "data": {
      "text/html": [
       "<div>\n",
       "<style scoped>\n",
       "    .dataframe tbody tr th:only-of-type {\n",
       "        vertical-align: middle;\n",
       "    }\n",
       "\n",
       "    .dataframe tbody tr th {\n",
       "        vertical-align: top;\n",
       "    }\n",
       "\n",
       "    .dataframe thead th {\n",
       "        text-align: right;\n",
       "    }\n",
       "</style>\n",
       "<table border=\"1\" class=\"dataframe\">\n",
       "  <thead>\n",
       "    <tr style=\"text-align: right;\">\n",
       "      <th></th>\n",
       "      <th>0</th>\n",
       "      <th>1</th>\n",
       "    </tr>\n",
       "  </thead>\n",
       "  <tbody>\n",
       "    <tr>\n",
       "      <th>0</th>\n",
       "      <td>0.001000</td>\n",
       "      <td>1.0</td>\n",
       "    </tr>\n",
       "    <tr>\n",
       "      <th>1</th>\n",
       "      <td>0.001000</td>\n",
       "      <td>1.0</td>\n",
       "    </tr>\n",
       "    <tr>\n",
       "      <th>2</th>\n",
       "      <td>0.000920</td>\n",
       "      <td>1.0</td>\n",
       "    </tr>\n",
       "    <tr>\n",
       "      <th>3</th>\n",
       "      <td>0.001100</td>\n",
       "      <td>1.0</td>\n",
       "    </tr>\n",
       "    <tr>\n",
       "      <th>4</th>\n",
       "      <td>0.001286</td>\n",
       "      <td>1.0</td>\n",
       "    </tr>\n",
       "    <tr>\n",
       "      <th>5</th>\n",
       "      <td>0.001087</td>\n",
       "      <td>1.0</td>\n",
       "    </tr>\n",
       "  </tbody>\n",
       "</table>\n",
       "</div>"
      ],
      "text/plain": [
       "          0    1\n",
       "0  0.001000  1.0\n",
       "1  0.001000  1.0\n",
       "2  0.000920  1.0\n",
       "3  0.001100  1.0\n",
       "4  0.001286  1.0\n",
       "5  0.001087  1.0"
      ]
     },
     "execution_count": 41,
     "metadata": {},
     "output_type": "execute_result"
    }
   ],
   "source": [
    "# Normalization Method\n",
    "\n",
    "from sklearn.preprocessing import Normalizer\n",
    "nm_x = Normalizer(norm='max')\n",
    "x_nm = df.iloc[:,1:3].values\n",
    "x_nm = nm_x.fit_transform(x_nm)\n",
    "pd.DataFrame(x_nm)"
   ]
  },
  {
   "cell_type": "code",
   "execution_count": 42,
   "id": "0ee6f8be",
   "metadata": {},
   "outputs": [
    {
     "data": {
      "text/html": [
       "<div>\n",
       "<style scoped>\n",
       "    .dataframe tbody tr th:only-of-type {\n",
       "        vertical-align: middle;\n",
       "    }\n",
       "\n",
       "    .dataframe tbody tr th {\n",
       "        vertical-align: top;\n",
       "    }\n",
       "\n",
       "    .dataframe thead th {\n",
       "        text-align: right;\n",
       "    }\n",
       "</style>\n",
       "<table border=\"1\" class=\"dataframe\">\n",
       "  <thead>\n",
       "    <tr style=\"text-align: right;\">\n",
       "      <th></th>\n",
       "      <th>0</th>\n",
       "      <th>1</th>\n",
       "    </tr>\n",
       "  </thead>\n",
       "  <tbody>\n",
       "    <tr>\n",
       "      <th>0</th>\n",
       "      <td>0.000999</td>\n",
       "      <td>0.999001</td>\n",
       "    </tr>\n",
       "    <tr>\n",
       "      <th>1</th>\n",
       "      <td>0.000999</td>\n",
       "      <td>0.999001</td>\n",
       "    </tr>\n",
       "    <tr>\n",
       "      <th>2</th>\n",
       "      <td>0.000919</td>\n",
       "      <td>0.999081</td>\n",
       "    </tr>\n",
       "    <tr>\n",
       "      <th>3</th>\n",
       "      <td>0.001099</td>\n",
       "      <td>0.998901</td>\n",
       "    </tr>\n",
       "    <tr>\n",
       "      <th>4</th>\n",
       "      <td>0.001284</td>\n",
       "      <td>0.998716</td>\n",
       "    </tr>\n",
       "    <tr>\n",
       "      <th>5</th>\n",
       "      <td>0.001086</td>\n",
       "      <td>0.998914</td>\n",
       "    </tr>\n",
       "  </tbody>\n",
       "</table>\n",
       "</div>"
      ],
      "text/plain": [
       "          0         1\n",
       "0  0.000999  0.999001\n",
       "1  0.000999  0.999001\n",
       "2  0.000919  0.999081\n",
       "3  0.001099  0.998901\n",
       "4  0.001284  0.998716\n",
       "5  0.001086  0.998914"
      ]
     },
     "execution_count": 42,
     "metadata": {},
     "output_type": "execute_result"
    }
   ],
   "source": [
    "from sklearn.preprocessing import Normalizer\n",
    "nm_x = Normalizer(norm='l1')\n",
    "x_nm = df.iloc[:,1:3].values\n",
    "x_nm = nm_x.fit_transform(x_nm)\n",
    "pd.DataFrame(x_nm)"
   ]
  },
  {
   "cell_type": "code",
   "execution_count": 43,
   "id": "ee55406a",
   "metadata": {},
   "outputs": [
    {
     "data": {
      "text/html": [
       "<div>\n",
       "<style scoped>\n",
       "    .dataframe tbody tr th:only-of-type {\n",
       "        vertical-align: middle;\n",
       "    }\n",
       "\n",
       "    .dataframe tbody tr th {\n",
       "        vertical-align: top;\n",
       "    }\n",
       "\n",
       "    .dataframe thead th {\n",
       "        text-align: right;\n",
       "    }\n",
       "</style>\n",
       "<table border=\"1\" class=\"dataframe\">\n",
       "  <thead>\n",
       "    <tr style=\"text-align: right;\">\n",
       "      <th></th>\n",
       "      <th>0</th>\n",
       "      <th>1</th>\n",
       "    </tr>\n",
       "  </thead>\n",
       "  <tbody>\n",
       "    <tr>\n",
       "      <th>0</th>\n",
       "      <td>0.001000</td>\n",
       "      <td>1.000000</td>\n",
       "    </tr>\n",
       "    <tr>\n",
       "      <th>1</th>\n",
       "      <td>0.001000</td>\n",
       "      <td>1.000000</td>\n",
       "    </tr>\n",
       "    <tr>\n",
       "      <th>2</th>\n",
       "      <td>0.000920</td>\n",
       "      <td>1.000000</td>\n",
       "    </tr>\n",
       "    <tr>\n",
       "      <th>3</th>\n",
       "      <td>0.001100</td>\n",
       "      <td>0.999999</td>\n",
       "    </tr>\n",
       "    <tr>\n",
       "      <th>4</th>\n",
       "      <td>0.001286</td>\n",
       "      <td>0.999999</td>\n",
       "    </tr>\n",
       "    <tr>\n",
       "      <th>5</th>\n",
       "      <td>0.001087</td>\n",
       "      <td>0.999999</td>\n",
       "    </tr>\n",
       "  </tbody>\n",
       "</table>\n",
       "</div>"
      ],
      "text/plain": [
       "          0         1\n",
       "0  0.001000  1.000000\n",
       "1  0.001000  1.000000\n",
       "2  0.000920  1.000000\n",
       "3  0.001100  0.999999\n",
       "4  0.001286  0.999999\n",
       "5  0.001087  0.999999"
      ]
     },
     "execution_count": 43,
     "metadata": {},
     "output_type": "execute_result"
    }
   ],
   "source": [
    "from sklearn.preprocessing import Normalizer\n",
    "nm_x = Normalizer(norm='l2')\n",
    "x_nm = df.iloc[:,1:3].values\n",
    "x_nm = nm_x.fit_transform(x_nm)\n",
    "pd.DataFrame(x_nm)"
   ]
  },
  {
   "cell_type": "code",
   "execution_count": null,
   "id": "4cc88d43",
   "metadata": {},
   "outputs": [],
   "source": []
  }
 ],
 "metadata": {
  "kernelspec": {
   "display_name": "Python 3",
   "language": "python",
   "name": "python3"
  },
  "language_info": {
   "codemirror_mode": {
    "name": "ipython",
    "version": 3
   },
   "file_extension": ".py",
   "mimetype": "text/x-python",
   "name": "python",
   "nbconvert_exporter": "python",
   "pygments_lexer": "ipython3",
   "version": "3.8.8"
  }
 },
 "nbformat": 4,
 "nbformat_minor": 5
}
